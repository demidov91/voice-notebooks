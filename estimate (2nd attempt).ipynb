{
 "cells": [
  {
   "cell_type": "code",
   "execution_count": 190,
   "metadata": {},
   "outputs": [],
   "source": [
    "from decimal import Decimal\n",
    "\n",
    "import pandas as pd\n",
    "import numpy as np"
   ]
  },
  {
   "cell_type": "code",
   "execution_count": 191,
   "metadata": {},
   "outputs": [],
   "source": [
    "voice = pd.read_csv('voice.csv')\n",
    "geo = pd.read_csv('geo-categorized.csv', converters={'latitude': Decimal, 'longitude': Decimal})\n",
    "tih_coefficients = pd.read_csv('tihanovkaja_photo_coefficients.csv')\n",
    "protest_coefficients = pd.read_csv('protest_registered_coefficients.csv')\n",
    "alt_coefficients = pd.read_csv('alt_candidates_coefficients.csv')\n",
    "trusted_vp = pd.read_csv('trusted-for-alternative-fixed.csv')"
   ]
  },
  {
   "cell_type": "code",
   "execution_count": 192,
   "metadata": {},
   "outputs": [],
   "source": [
    "vp_to_area = {x['id']: x['area'] for _, x in geo.iterrows()}\n",
    "vp_to_coordinates = {x['id']: {'latitude': x['latitude'], 'longitude': x['longitude']} for _, x in geo.iterrows()}\n",
    "\n",
    "area_to_tih_coeff = {x['area']: x['coefficient'] for _, x in tih_coefficients.iterrows()}\n",
    "area_to_protest_coeff = {x['area']: x['protest_coefficient'] for _, x in protest_coefficients.iterrows()}\n",
    "area_candidate_to_alt_coeff = {\n",
    "    f\"{x['area']}_{x['candidate']}\": x['coefficient'] \n",
    "    for _, x in alt_coefficients.iterrows()\n",
    "}\n",
    "\n",
    "trusted_rows = {x['id']: x for _, x in trusted_vp.iterrows()}"
   ]
  },
  {
   "cell_type": "code",
   "execution_count": 193,
   "metadata": {},
   "outputs": [],
   "source": [
    "candidates = ['against', 'cherechen', 'corrupted', 'dmitriyev', 'kanopatskaja', 'tihanovkaja']\n",
    "alt_candidates = ['against', 'cherechen', 'corrupted', 'dmitriyev', 'kanopatskaja']\n",
    "alt_candidates_no_corrupted = set(alt_candidates) - {'corrupted'}"
   ]
  },
  {
   "cell_type": "code",
   "execution_count": 194,
   "metadata": {},
   "outputs": [],
   "source": [
    "def official_candidates(data):\n",
    "    return _generic_candidates_sum(data, 'officialVotes', candidates)\n",
    "\n",
    "\n",
    "def official_alt_candidates(data):\n",
    "    return _generic_candidates_sum(data, 'officialVotes', alt_candidates)\n",
    "\n",
    "\n",
    "def registered_alt_candidates(data):\n",
    "    return _generic_candidates_sum(data, 'registered', alt_candidates)\n",
    "\n",
    "\n",
    "def _generic_candidates_sum(data, source, candidates_to_sum):\n",
    "    return sum([data[f'{candidate}_{source}'] for candidate in candidates_to_sum])"
   ]
  },
  {
   "cell_type": "code",
   "execution_count": 195,
   "metadata": {},
   "outputs": [],
   "source": [
    "def calculate_alt(candidate, protest, tihanovkaja):\n",
    "    if tihanovkaja >= protest:\n",
    "        return 0\n",
    "    \n",
    "    return (protest - tihanovkaja) * area_candidate_to_alt_coeff[f'{area}_{candidate}']"
   ]
  },
  {
   "cell_type": "code",
   "execution_count": 196,
   "metadata": {},
   "outputs": [],
   "source": [
    "expected_list = []\n",
    "\n",
    "for _, voice_row in voice.iterrows():\n",
    "    poll_station_id = voice_row['id']\n",
    "    area = vp_to_area[poll_station_id]\n",
    "    alternative = {}\n",
    "    \n",
    "    if poll_station_id in trusted_rows:\n",
    "        trusted_row = trusted_rows[poll_station_id]\n",
    "        \n",
    "        source = 'official'\n",
    "        tihanovkaja = trusted_row['tihanovkaja_officialVotes']\n",
    "        \n",
    "        for candidate in alt_candidates:\n",
    "            alternative[candidate] = trusted_row[f'{candidate}_officialVotes']\n",
    "            \n",
    "        if trusted_row['corrupted_officialVotes'] == 0:\n",
    "            source = 'official-corrupted-fix'     \n",
    "            coeff = area_candidate_to_alt_coeff[f'{area}_corrupted/corrupted+against']\n",
    "            alternative['corrupted'] = alternative['against'] * coeff\n",
    "            alternative['against'] -= alternative['corrupted']\n",
    "        \n",
    "    else:\n",
    "        source = 'voice'\n",
    "        tihanovkaja = voice_row['tihanovkaja_photoVoices'] * area_to_tih_coeff[area]\n",
    "        protest = (\n",
    "            voice_row['registered'] - voice_row['lukashenko_registered'] - voice_row['ignore_registered']\n",
    "        ) * area_to_protest_coeff[area]\n",
    "        for candidate in alt_candidates:\n",
    "            alternative[candidate] = calculate_alt(candidate, protest, tihanovkaja)\n",
    "        \n",
    "    poll_station_data = {\n",
    "        'id': voice_row['id'],\n",
    "        'area': area,\n",
    "        'source': source,\n",
    "        'tihanovkaja': tihanovkaja,\n",
    "    }\n",
    "    poll_station_data.update(alternative)\n",
    "    poll_station_data.update(vp_to_coordinates[poll_station_id])\n",
    "    expected_list.append(poll_station_data)"
   ]
  },
  {
   "cell_type": "code",
   "execution_count": 197,
   "metadata": {},
   "outputs": [],
   "source": [
    "expected = pd.DataFrame(expected_list)\n",
    "expected.to_csv('candidates-by-poll-station.csv', float_format='%g', index=False)"
   ]
  },
  {
   "cell_type": "code",
   "execution_count": 198,
   "metadata": {},
   "outputs": [
    {
     "data": {
      "text/plain": [
       "2539229.301392014"
      ]
     },
     "execution_count": 198,
     "metadata": {},
     "output_type": "execute_result"
    }
   ],
   "source": [
    "expected[['against', 'cherechen', 'corrupted', 'dmitriyev', 'kanopatskaja', 'tihanovkaja']].sum().sum()"
   ]
  },
  {
   "cell_type": "code",
   "execution_count": 199,
   "metadata": {},
   "outputs": [
    {
     "data": {
      "text/plain": [
       "1931485.4540000004"
      ]
     },
     "execution_count": 199,
     "metadata": {},
     "output_type": "execute_result"
    }
   ],
   "source": [
    "expected['tihanovkaja'].sum()"
   ]
  },
  {
   "cell_type": "code",
   "execution_count": 200,
   "metadata": {},
   "outputs": [
    {
     "data": {
      "text/plain": [
       "293846.18839599995"
      ]
     },
     "execution_count": 200,
     "metadata": {},
     "output_type": "execute_result"
    }
   ],
   "source": [
    "expected['against'].sum()"
   ]
  },
  {
   "cell_type": "code",
   "execution_count": 201,
   "metadata": {},
   "outputs": [
    {
     "data": {
      "text/plain": [
       "93922.93813999998"
      ]
     },
     "execution_count": 201,
     "metadata": {},
     "output_type": "execute_result"
    }
   ],
   "source": [
    "expected['dmitriyev'].sum()"
   ]
  },
  {
   "cell_type": "code",
   "execution_count": 202,
   "metadata": {},
   "outputs": [
    {
     "data": {
      "text/plain": [
       "83545.83856099998"
      ]
     },
     "execution_count": 202,
     "metadata": {},
     "output_type": "execute_result"
    }
   ],
   "source": [
    "expected['cherechen'].sum()"
   ]
  },
  {
   "cell_type": "code",
   "execution_count": 203,
   "metadata": {},
   "outputs": [
    {
     "data": {
      "text/plain": [
       "76625.79366299999"
      ]
     },
     "execution_count": 203,
     "metadata": {},
     "output_type": "execute_result"
    }
   ],
   "source": [
    "expected['kanopatskaja'].sum()"
   ]
  },
  {
   "cell_type": "code",
   "execution_count": 204,
   "metadata": {},
   "outputs": [
    {
     "data": {
      "text/plain": [
       "59803.088631999984"
      ]
     },
     "execution_count": 204,
     "metadata": {},
     "output_type": "execute_result"
    }
   ],
   "source": [
    "expected['corrupted'].sum()"
   ]
  },
  {
   "cell_type": "code",
   "execution_count": 205,
   "metadata": {},
   "outputs": [
    {
     "data": {
      "text/plain": [
       "against         0.101758\n",
       "cherechen       0.022841\n",
       "corrupted       0.024173\n",
       "dmitriyev       0.024387\n",
       "kanopatskaja    0.022519\n",
       "tihanovkaja     0.703188\n",
       "dtype: float64"
      ]
     },
     "execution_count": 205,
     "metadata": {},
     "output_type": "execute_result"
    }
   ],
   "source": [
    "expected[expected['area'] == 'capital'][['against', 'cherechen', 'corrupted', 'dmitriyev', 'kanopatskaja', 'tihanovkaja']].sum() / 758000"
   ]
  },
  {
   "cell_type": "code",
   "execution_count": 206,
   "metadata": {},
   "outputs": [
    {
     "data": {
      "text/plain": [
       "id              05-141-002507-001-000107-001-000207-001-000307...\n",
       "area            capitalcapitalcapitalcapitalcapitalcapitalcapi...\n",
       "source          officialvoicevoicevoicevoiceofficialvoicevoice...\n",
       "tihanovkaja                                                533017\n",
       "against                                                   77132.4\n",
       "cherechen                                                 17313.4\n",
       "corrupted                                                 18323.3\n",
       "dmitriyev                                                 18485.1\n",
       "kanopatskaja                                              17069.5\n",
       "latitude                                            36970.7953376\n",
       "longitude                                          18906.49252911\n",
       "dtype: object"
      ]
     },
     "execution_count": 206,
     "metadata": {},
     "output_type": "execute_result"
    }
   ],
   "source": [
    "expected[expected['area'] == 'capital'].sum()"
   ]
  },
  {
   "cell_type": "code",
   "execution_count": 207,
   "metadata": {},
   "outputs": [
    {
     "data": {
      "text/plain": [
       "681340.451"
      ]
     },
     "execution_count": 207,
     "metadata": {},
     "output_type": "execute_result"
    }
   ],
   "source": [
    "expected[expected['area'] == 'capital'][['against', 'cherechen', 'corrupted', 'dmitriyev', 'kanopatskaja', 'tihanovkaja']].sum().sum()"
   ]
  },
  {
   "cell_type": "code",
   "execution_count": 208,
   "metadata": {},
   "outputs": [],
   "source": [
    "pd.DataFrame(expected[candidates].sum().astype(int), columns=['total']).to_csv('candidates-total.csv')"
   ]
  },
  {
   "cell_type": "code",
   "execution_count": null,
   "metadata": {},
   "outputs": [],
   "source": []
  }
 ],
 "metadata": {
  "kernelspec": {
   "display_name": "Python 3",
   "language": "python",
   "name": "python3"
  },
  "language_info": {
   "codemirror_mode": {
    "name": "ipython",
    "version": 3
   },
   "file_extension": ".py",
   "mimetype": "text/x-python",
   "name": "python",
   "nbconvert_exporter": "python",
   "pygments_lexer": "ipython3",
   "version": "3.8.2"
  }
 },
 "nbformat": 4,
 "nbformat_minor": 4
}
