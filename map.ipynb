{
 "cells": [
  {
   "cell_type": "code",
   "execution_count": 69,
   "metadata": {},
   "outputs": [],
   "source": [
    "import pandas as pd\n",
    "from decimal import Decimal"
   ]
  },
  {
   "cell_type": "code",
   "execution_count": 70,
   "metadata": {},
   "outputs": [],
   "source": [
    "df = pd.read_csv('trusted-for-alternative-fixed.csv', converters={'latitude': Decimal, 'longitude': Decimal})"
   ]
  },
  {
   "cell_type": "code",
   "execution_count": 71,
   "metadata": {},
   "outputs": [],
   "source": [
    "areas = ['city', 'minsk_suburb', 'extended_suburb', 'capital', 'village', 'town_below100', 'town_over100', 'embassy']"
   ]
  },
  {
   "cell_type": "code",
   "execution_count": 72,
   "metadata": {},
   "outputs": [],
   "source": [
    "from ipyleaflet import Map, Marker, MarkerCluster, LayersControl\n",
    "\n",
    "m = Map(center=(50, 0), zoom=3, height=1000)\n",
    "\n",
    "clusters = []\n",
    "\n",
    "for area in areas:\n",
    "    clusters.append(MarkerCluster(\n",
    "        name=area,\n",
    "        markers=[\n",
    "            Marker(location=(str(x['latitude']), str(x['longitude'])), draggable=False, title=x['id']) \n",
    "            for x in df[df['area'] == area].iloc\n",
    "        ]\n",
    "    ))\n",
    "\n",
    "for cluster in clusters:\n",
    "    m.add_layer(cluster)\n",
    "    \n",
    "\n",
    "m.add_control(LayersControl(position='topright'))"
   ]
  },
  {
   "cell_type": "code",
   "execution_count": 73,
   "metadata": {},
   "outputs": [
    {
     "data": {
      "application/vnd.jupyter.widget-view+json": {
       "model_id": "e57e4226b027461fb5c4aec2485a1da8",
       "version_major": 2,
       "version_minor": 0
      },
      "text/plain": [
       "Map(center=[50, 0], controls=(ZoomControl(options=['position', 'zoom_in_text', 'zoom_in_title', 'zoom_out_text…"
      ]
     },
     "metadata": {},
     "output_type": "display_data"
    }
   ],
   "source": [
    "m"
   ]
  },
  {
   "cell_type": "code",
   "execution_count": 74,
   "metadata": {},
   "outputs": [],
   "source": [
    "from ipyleaflet import Map, Marker, MarkerCluster\n",
    "\n",
    "m2 = Map(center=(50, 0), zoom=3, height=1000)\n",
    "\n",
    "for _, x in df.iterrows():\n",
    "    m2.add_layer(\n",
    "        Marker(\n",
    "            location=(str(x['latitude']), str(x['longitude'])), \n",
    "            draggable=False, \n",
    "            title=f\"{x['id']}\\nL: {x['lukashenko_officialVotes']}\\nT: {x['tihanovkaja_officialVotes']}\"\n",
    "        )\n",
    "    )"
   ]
  },
  {
   "cell_type": "code",
   "execution_count": 75,
   "metadata": {
    "scrolled": false
   },
   "outputs": [
    {
     "data": {
      "application/vnd.jupyter.widget-view+json": {
       "model_id": "656526b203cd48a289ce96f206d4d898",
       "version_major": 2,
       "version_minor": 0
      },
      "text/plain": [
       "Map(center=[50, 0], controls=(ZoomControl(options=['position', 'zoom_in_text', 'zoom_in_title', 'zoom_out_text…"
      ]
     },
     "metadata": {},
     "output_type": "display_data"
    }
   ],
   "source": [
    "m2"
   ]
  },
  {
   "cell_type": "code",
   "execution_count": 76,
   "metadata": {},
   "outputs": [
    {
     "data": {
      "text/plain": [
       "3.977068463448788"
      ]
     },
     "execution_count": 76,
     "metadata": {},
     "output_type": "execute_result"
    }
   ],
   "source": [
    "minsk_df = df[(df['area'] == 'village')] #& (df['region'] == 5)]\n",
    "\n",
    "cs = (minsk_df['officialVotes'] - minsk_df['lukashenko_officialVotes']) / (minsk_df['registered'] - minsk_df['lukashenko_registered'] - minsk_df['ignore_registered'])\n",
    "mean_c = cs.mean()\n",
    "\n",
    "cs[cs < mean_c].mean()"
   ]
  },
  {
   "cell_type": "code",
   "execution_count": 77,
   "metadata": {},
   "outputs": [],
   "source": [
    "from ipyleaflet import AwesomeIcon\n",
    "\n",
    "village = Map(center=(50, 0), zoom=3, height=1000)\n",
    "\n",
    "for x in minsk_df.iloc:\n",
    "    c = (\n",
    "        (x['officialVotes'] - x['lukashenko_officialVotes']) / \n",
    "        (x['registered'] - x['lukashenko_registered'] - x['ignore_registered'])\n",
    "    )\n",
    "    color = 'red' if c < mean_c else 'blue'\n",
    "    \n",
    "    village.add_layer(\n",
    "        Marker(\n",
    "            location=(str(x['latitude']), str(x['longitude'])), \n",
    "            draggable=False, \n",
    "            icon=AwesomeIcon(marker_color=color),\n",
    "            title=x['id'],\n",
    "        )\n",
    "    )"
   ]
  },
  {
   "cell_type": "code",
   "execution_count": 78,
   "metadata": {},
   "outputs": [
    {
     "data": {
      "application/vnd.jupyter.widget-view+json": {
       "model_id": "ae56dc419a174c41a630d89e09dba35e",
       "version_major": 2,
       "version_minor": 0
      },
      "text/plain": [
       "Map(center=[50, 0], controls=(ZoomControl(options=['position', 'zoom_in_text', 'zoom_in_title', 'zoom_out_text…"
      ]
     },
     "metadata": {},
     "output_type": "display_data"
    }
   ],
   "source": [
    "village"
   ]
  },
  {
   "cell_type": "code",
   "execution_count": null,
   "metadata": {},
   "outputs": [],
   "source": []
  },
  {
   "cell_type": "code",
   "execution_count": null,
   "metadata": {},
   "outputs": [],
   "source": []
  }
 ],
 "metadata": {
  "kernelspec": {
   "display_name": "Python 3",
   "language": "python",
   "name": "python3"
  },
  "language_info": {
   "codemirror_mode": {
    "name": "ipython",
    "version": 3
   },
   "file_extension": ".py",
   "mimetype": "text/x-python",
   "name": "python",
   "nbconvert_exporter": "python",
   "pygments_lexer": "ipython3",
   "version": "3.8.2"
  }
 },
 "nbformat": 4,
 "nbformat_minor": 4
}
