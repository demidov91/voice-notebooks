{
 "cells": [
  {
   "cell_type": "code",
   "execution_count": 1,
   "metadata": {},
   "outputs": [],
   "source": [
    "import pandas as pd\n",
    "import json"
   ]
  },
  {
   "cell_type": "code",
   "execution_count": 3,
   "metadata": {},
   "outputs": [],
   "source": [
    "z1 = pd.read_csv('zubr-1.csv')\n",
    "z2 = pd.read_csv('zubr-2.csv')\n",
    "z3 = pd.read_csv('zubr-3.csv')"
   ]
  },
  {
   "cell_type": "code",
   "execution_count": 5,
   "metadata": {},
   "outputs": [],
   "source": [
    "z = pd.concat([z1, z2, z3])"
   ]
  },
  {
   "cell_type": "code",
   "execution_count": 31,
   "metadata": {},
   "outputs": [],
   "source": [
    "with open('zubr-messages-1.json', 'rt') as f:\n",
    "    m1 = json.load(f)\n",
    "with open('zubr-messages-2.json', 'rt') as f:\n",
    "    m2 = json.load(f)\n",
    "with open('zubr-messages-3.json', 'rt') as f:\n",
    "    m3 = json.load(f)"
   ]
  },
  {
   "cell_type": "code",
   "execution_count": 32,
   "metadata": {},
   "outputs": [],
   "source": [
    "m = {}\n",
    "m.update(m1)\n",
    "m.update(m2)\n",
    "m.update(m3)"
   ]
  },
  {
   "cell_type": "code",
   "execution_count": 33,
   "metadata": {},
   "outputs": [
    {
     "data": {
      "text/plain": [
       "5766"
      ]
     },
     "execution_count": 33,
     "metadata": {},
     "output_type": "execute_result"
    }
   ],
   "source": [
    "len(m)"
   ]
  },
  {
   "cell_type": "code",
   "execution_count": 25,
   "metadata": {},
   "outputs": [],
   "source": [
    "z.loc[z['zubr_id'] == 5586, 'id'] = '06-128-0028'"
   ]
  },
  {
   "cell_type": "code",
   "execution_count": 34,
   "metadata": {},
   "outputs": [],
   "source": [
    "m['06-128-0028'] = []"
   ]
  },
  {
   "cell_type": "code",
   "execution_count": 29,
   "metadata": {},
   "outputs": [],
   "source": [
    "z.to_csv('zubr-observers.csv', index=False)"
   ]
  },
  {
   "cell_type": "code",
   "execution_count": 35,
   "metadata": {},
   "outputs": [],
   "source": [
    "with open('zubr-messages.json', 'wt') as f:\n",
    "    json.dump(m, f)"
   ]
  },
  {
   "cell_type": "code",
   "execution_count": 54,
   "metadata": {},
   "outputs": [],
   "source": [
    "z = pd.read_csv('zubr-observers.csv')"
   ]
  },
  {
   "cell_type": "code",
   "execution_count": 55,
   "metadata": {},
   "outputs": [],
   "source": [
    "vdf = pd.read_csv('zubr-violation-codes.csv')"
   ]
  },
  {
   "cell_type": "code",
   "execution_count": 56,
   "metadata": {},
   "outputs": [],
   "source": [
    "code_to_exp = dict(x.values for x in vdf.iloc)"
   ]
  },
  {
   "cell_type": "code",
   "execution_count": 57,
   "metadata": {},
   "outputs": [],
   "source": [
    "for col in code_to_exp.values():\n",
    "    z[col] = [False] * len(z)"
   ]
  },
  {
   "cell_type": "code",
   "execution_count": 76,
   "metadata": {},
   "outputs": [
    {
     "name": "stdout",
     "output_type": "stream",
     "text": [
      "07-008-0091\n",
      "07-009-0014\n"
     ]
    }
   ],
   "source": [
    "for row in z.iloc:\n",
    "    for code in m[row['id']]:\n",
    "        if code is None:\n",
    "            print(row['id'])\n",
    "            continue\n",
    "            \n",
    "        z.loc[row.name, code_to_exp[code]] = True"
   ]
  },
  {
   "cell_type": "code",
   "execution_count": 81,
   "metadata": {},
   "outputs": [],
   "source": [
    "z.to_csv('zubr.csv', index=False)"
   ]
  },
  {
   "cell_type": "code",
   "execution_count": 101,
   "metadata": {},
   "outputs": [],
   "source": [
    "z = pd.read_csv('zubr.csv')\n",
    "\n",
    "really_correct_voters = [\n",
    "    '01-010-0025', '07-001-0088', '05-039-0007',\n",
    "]\n",
    "really_all_correct = [\n",
    "    '01-010-0030', '01-010-0027', '01-011-0063',\n",
    "    '04-021-0022', '04-021-0023', '04-145-0019', '04-022-0070', \n",
    "    '07-005-0026', '04-112-0025', '04-112-0026', \n",
    "    '05-026-0017', '05-039-0046', '05-036-0004', '05-029-0018', '05-039-0010', '05-029-0034', '05-141-0045',\n",
    "    '03-091-0012', '03-100-0009',\n",
    "    '06-146-0024',\n",
    "    '02-078-0008',\n",
    "    '05-141-0014', '05-141-0040', '05-141-0054',\n",
    "    \n",
    "]\n",
    "reasons = [\n",
    "    'accreditation-reject',\n",
    "    'let-observer-in-violation',\n",
    "    'no-let-observer-in',\n",
    "    'observer-pushed-away',\n",
    "    'force-beforehand-voting',\n",
    "    'late-report',\n",
    "    'home-voting-violation',\n",
    "    'wrong-voters-number',\n",
    "    'no-medcine-on-poll-station',\n",
    "    'non-transparent-counting',\n",
    "    'observer-limitations',\n",
    "    'other',    \n",
    "]"
   ]
  },
  {
   "cell_type": "code",
   "execution_count": 102,
   "metadata": {},
   "outputs": [],
   "source": [
    "z.loc[z['id'].isin(really_correct_voters), 'wrong-voters-number'] = False\n",
    "z.loc[z['id'].isin(really_all_correct), reasons] = [False] * len(reasons)"
   ]
  },
  {
   "cell_type": "code",
   "execution_count": 103,
   "metadata": {},
   "outputs": [],
   "source": [
    "z.to_csv('zubr.csv', index=False)"
   ]
  },
  {
   "cell_type": "code",
   "execution_count": null,
   "metadata": {},
   "outputs": [],
   "source": []
  }
 ],
 "metadata": {
  "kernelspec": {
   "display_name": "Python 3",
   "language": "python",
   "name": "python3"
  },
  "language_info": {
   "codemirror_mode": {
    "name": "ipython",
    "version": 3
   },
   "file_extension": ".py",
   "mimetype": "text/x-python",
   "name": "python",
   "nbconvert_exporter": "python",
   "pygments_lexer": "ipython3",
   "version": "3.8.2"
  }
 },
 "nbformat": 4,
 "nbformat_minor": 4
}
