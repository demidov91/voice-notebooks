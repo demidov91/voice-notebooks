{
 "cells": [
  {
   "cell_type": "code",
   "execution_count": 9,
   "metadata": {},
   "outputs": [],
   "source": [
    "import pandas as pd\n",
    "from decimal import Decimal\n",
    "import json"
   ]
  },
  {
   "cell_type": "code",
   "execution_count": 10,
   "metadata": {},
   "outputs": [],
   "source": [
    "df = pd.read_csv('total-candidates.csv')"
   ]
  },
  {
   "cell_type": "code",
   "execution_count": 11,
   "metadata": {},
   "outputs": [],
   "source": [
    "with open('bel.geojson', mode='rt') as f:\n",
    "    geo_data = json.load(f)"
   ]
  },
  {
   "cell_type": "code",
   "execution_count": 93,
   "metadata": {},
   "outputs": [],
   "source": [
    "candidates_with_luk = ['lukashenko', 'tihanovkaja', 'against', 'dmitriyev', 'cherechen', 'kanopatskaja', 'corrupted']\n",
    "trans_candidates = ['Лукашэнка', \"Ціханоўская\", \"супраць усіх\", \"Дзмітрыеў\", \"Чэрачань\", \"Канапацкая\", \"спорчаны бюлетэнь\"]"
   ]
  },
  {
   "cell_type": "code",
   "execution_count": 53,
   "metadata": {},
   "outputs": [],
   "source": [
    "def get_percentages(record):\n",
    "    data = df[df['id'].isin(record['properties']['honest_people_ids'])]\n",
    "    total = data['votes'].sum()\n",
    "\n",
    "    return {\n",
    "        c: data[c].sum() / total\n",
    "        for c in candidates_with_luk\n",
    "    }\n"
   ]
  },
  {
   "cell_type": "code",
   "execution_count": 66,
   "metadata": {},
   "outputs": [],
   "source": [
    "calculated_geo = {\n",
    "    \"type\": \"FeatureCollection\",\n",
    "    \"features\": [\n",
    "        {\n",
    "            'type': x['type'],\n",
    "            'geometry': x['geometry'],\n",
    "            'properties': dict(list({\n",
    "                'name': x['properties']['name_be'],\n",
    "                'honest_people_ids': x['properties']['honest_people_ids'],                \n",
    "            }.items()) + list(get_percentages(x).items())\n",
    "            ),\n",
    "        }\n",
    "        for x in geo_data['features']\n",
    "    ]\n",
    "}"
   ]
  },
  {
   "cell_type": "code",
   "execution_count": 54,
   "metadata": {},
   "outputs": [],
   "source": [
    "LUK_COLOR = 'rgb(0, 0, 255)'\n",
    "TIH_COLOR = 'rgb(255, 140, 0)'"
   ]
  },
  {
   "cell_type": "code",
   "execution_count": 64,
   "metadata": {},
   "outputs": [],
   "source": [
    "def compete_style_callback(x):\n",
    "    data = x['properties']\n",
    "    \n",
    "    if (data['lukashenko'] > data['tihanovkaja']) and (data['lukashenko'] > data['against']):\n",
    "        color = LUK_COLOR\n",
    "        opacity = data['lukashenko']\n",
    "    elif (data['tihanovkaja'] > data['lukashenko']) and (data['tihanovkaja'] > data['against']):\n",
    "        color = TIH_COLOR\n",
    "        opacity = data['tihanovkaja']\n",
    "    else:\n",
    "        color = 'grey'\n",
    "        opacity = data['against']\n",
    "        \n",
    "    return {\n",
    "        'fillOpacity': opacity,\n",
    "        'fillColor': color,\n",
    "    }"
   ]
  },
  {
   "cell_type": "code",
   "execution_count": 65,
   "metadata": {
    "scrolled": false
   },
   "outputs": [
    {
     "data": {
      "application/vnd.jupyter.widget-view+json": {
       "model_id": "8cdb0abec79445ca99ca01a4c3e97baf",
       "version_major": 2,
       "version_minor": 0
      },
      "text/plain": [
       "Map(center=[53.8, 30], controls=(ZoomControl(options=['position', 'zoom_in_text', 'zoom_in_title', 'zoom_out_t…"
      ]
     },
     "metadata": {},
     "output_type": "display_data"
    }
   ],
   "source": [
    "from ipyleaflet import GeoJSON, Map\n",
    "\n",
    "bel_m = Map(center=(53.8, 30), zoom=6)\n",
    "\n",
    "geo_json = GeoJSON(\n",
    "    data=calculated_geo,\n",
    "    style={\n",
    "        'opacity': 0.8, 'color': 'grey', 'weight': 1\n",
    "    },\n",
    "    style_callback=compete_style_callback\n",
    ")\n",
    "bel_m.add_layer(geo_json)\n",
    "\n",
    "bel_m"
   ]
  },
  {
   "cell_type": "code",
   "execution_count": 70,
   "metadata": {},
   "outputs": [],
   "source": [
    "def fantasy_style_callback(x):\n",
    "    data = x['properties']\n",
    "    \n",
    "#     luk = data['lukashenko'] + data['kanopatskaja']\n",
    "#     ag = data['tihanovkaja'] + data['against'] + data['dmitriyev'] + data['cherechen']\n",
    "\n",
    "    luk = data['lukashenko']\n",
    "    ag = data['tihanovkaja'] + data['against'] + data['dmitriyev'] + data['cherechen'] + data['kanopatskaja'] + data['corrupted']\n",
    "    \n",
    "    if luk > ag:\n",
    "        color = LUK_COLOR\n",
    "        opacity = luk\n",
    "    else:\n",
    "        color = TIH_COLOR\n",
    "        opacity = ag\n",
    "        \n",
    "    return {\n",
    "        'fillOpacity': opacity,\n",
    "        'fillColor': color,\n",
    "    }"
   ]
  },
  {
   "cell_type": "code",
   "execution_count": 71,
   "metadata": {},
   "outputs": [
    {
     "data": {
      "application/vnd.jupyter.widget-view+json": {
       "model_id": "4db46ab979a74cd38b2f11112db574cc",
       "version_major": 2,
       "version_minor": 0
      },
      "text/plain": [
       "Map(center=[53.8, 30], controls=(ZoomControl(options=['position', 'zoom_in_text', 'zoom_in_title', 'zoom_out_t…"
      ]
     },
     "metadata": {},
     "output_type": "display_data"
    }
   ],
   "source": [
    "fan_m = Map(center=(53.8, 30), zoom=6)\n",
    "\n",
    "geo_json = GeoJSON(\n",
    "    data=calculated_geo,\n",
    "    style={\n",
    "        'opacity': 0.8, 'color': 'grey', 'weight': 1\n",
    "    },\n",
    "    style_callback=fantasy_style_callback\n",
    ")\n",
    "fan_m.add_layer(geo_json)\n",
    "\n",
    "fan_m"
   ]
  },
  {
   "cell_type": "code",
   "execution_count": null,
   "metadata": {},
   "outputs": [],
   "source": []
  },
  {
   "cell_type": "code",
   "execution_count": 42,
   "metadata": {},
   "outputs": [],
   "source": [
    "def tih_style_callback(x):\n",
    "    data = get_percentages(x)\n",
    "    \n",
    "    return {\n",
    "        'fillOpacity': data['tihanovkaja'] * 1.5,\n",
    "        'fillColor': TIH_COLOR,\n",
    "    }"
   ]
  },
  {
   "cell_type": "code",
   "execution_count": 43,
   "metadata": {},
   "outputs": [
    {
     "data": {
      "application/vnd.jupyter.widget-view+json": {
       "model_id": "d6f025179e214f1c8b225f95803ef0a9",
       "version_major": 2,
       "version_minor": 0
      },
      "text/plain": [
       "Map(center=[53.8, 30], controls=(ZoomControl(options=['position', 'zoom_in_text', 'zoom_in_title', 'zoom_out_t…"
      ]
     },
     "metadata": {},
     "output_type": "display_data"
    }
   ],
   "source": [
    "tih_m = Map(center=(53.8, 30), zoom=6)\n",
    "\n",
    "geo_json = GeoJSON(\n",
    "    data=geo_data,\n",
    "    style={\n",
    "        'opacity': 0.8, 'color': 'grey', 'weight': 1\n",
    "    },\n",
    "    style_callback=tih_style_callback\n",
    ")\n",
    "tih_m.add_layer(geo_json)\n",
    "\n",
    "tih_m"
   ]
  },
  {
   "cell_type": "code",
   "execution_count": 44,
   "metadata": {},
   "outputs": [],
   "source": [
    "def luk_style_callback(x):\n",
    "    data = get_percentages(x)\n",
    "    \n",
    "    return {\n",
    "        'fillOpacity': data['lukashenko'],\n",
    "        'fillColor': LUK_COLOR,\n",
    "    }"
   ]
  },
  {
   "cell_type": "code",
   "execution_count": 45,
   "metadata": {},
   "outputs": [
    {
     "data": {
      "application/vnd.jupyter.widget-view+json": {
       "model_id": "8e7fea168e0c473692792f4267888383",
       "version_major": 2,
       "version_minor": 0
      },
      "text/plain": [
       "Map(center=[53.8, 30], controls=(ZoomControl(options=['position', 'zoom_in_text', 'zoom_in_title', 'zoom_out_t…"
      ]
     },
     "metadata": {},
     "output_type": "display_data"
    }
   ],
   "source": [
    "luk_m = Map(center=(53.8, 30), zoom=6)\n",
    "\n",
    "geo_json = GeoJSON(\n",
    "    data=geo_data,\n",
    "    style={\n",
    "        'opacity': 0.8, 'color': 'grey', 'weight': 1\n",
    "    },\n",
    "    style_callback=luk_style_callback\n",
    ")\n",
    "luk_m.add_layer(geo_json)\n",
    "\n",
    "luk_m"
   ]
  },
  {
   "cell_type": "code",
   "execution_count": 46,
   "metadata": {},
   "outputs": [],
   "source": [
    "def ag_style_callback(x):\n",
    "    data = get_percentages(x)\n",
    "    \n",
    "    return {\n",
    "        'fillOpacity': data['against'] * 10,\n",
    "        'fillColor': 'grey',\n",
    "    }"
   ]
  },
  {
   "cell_type": "code",
   "execution_count": 47,
   "metadata": {},
   "outputs": [
    {
     "data": {
      "application/vnd.jupyter.widget-view+json": {
       "model_id": "323df1433d39497fbcec26719783346c",
       "version_major": 2,
       "version_minor": 0
      },
      "text/plain": [
       "Map(center=[53.8, 30], controls=(ZoomControl(options=['position', 'zoom_in_text', 'zoom_in_title', 'zoom_out_t…"
      ]
     },
     "metadata": {},
     "output_type": "display_data"
    }
   ],
   "source": [
    "ag_m = Map(center=(53.8, 30), zoom=6)\n",
    "\n",
    "geo_json = GeoJSON(\n",
    "    data=geo_data,\n",
    "    style={\n",
    "        'opacity': 0.8, 'color': 'grey', 'weight': 1\n",
    "    },\n",
    "    style_callback=ag_style_callback\n",
    ")\n",
    "ag_m.add_layer(geo_json)\n",
    "\n",
    "ag_m"
   ]
  },
  {
   "cell_type": "code",
   "execution_count": 131,
   "metadata": {},
   "outputs": [],
   "source": [
    "def translate_candidate_name(name):\n",
    "    return dict(zip(candidates_with_luk, trans_candidates))[name]"
   ]
  },
  {
   "cell_type": "code",
   "execution_count": 142,
   "metadata": {},
   "outputs": [],
   "source": [
    "def get_base_prop(p):\n",
    "    properties = {\n",
    "        'Рэгіён': p['name'],\n",
    "    }\n",
    "    \n",
    "    properties.update({\n",
    "        translate_candidate_name(x): '%.1f %%' % (p[x] * 100)\n",
    "        for x in candidates_with_luk\n",
    "    })\n",
    "    \n",
    "    return properties"
   ]
  },
  {
   "cell_type": "code",
   "execution_count": 143,
   "metadata": {},
   "outputs": [],
   "source": [
    "def build_compete_properties(p):\n",
    "    if p['lukashenko'] > p['tihanovkaja']:\n",
    "        color = LUK_COLOR\n",
    "        opacity = p['lukashenko']\n",
    "    else:\n",
    "        color = TIH_COLOR\n",
    "        opacity = p['tihanovkaja']\n",
    "        \n",
    "    properties = get_base_prop(p)    \n",
    "    \n",
    "    properties['fill'] = color\n",
    "    properties['fill-opacity'] = opacity\n",
    "    \n",
    "    return properties\n",
    "    "
   ]
  },
  {
   "cell_type": "code",
   "execution_count": 144,
   "metadata": {},
   "outputs": [],
   "source": [
    "def build_against_luk_properties(p):\n",
    "    if p['lukashenko'] > 0.5:\n",
    "        color = LUK_COLOR\n",
    "        opacity = p['lukashenko']\n",
    "    else:\n",
    "        color = TIH_COLOR\n",
    "        opacity = 1 - p['lukashenko']\n",
    "    \n",
    "    properties = get_base_prop(p)\n",
    "    \n",
    "    properties['fill'] = color\n",
    "    properties['fill-opacity'] = opacity\n",
    "    \n",
    "    return properties"
   ]
  },
  {
   "cell_type": "code",
   "execution_count": 145,
   "metadata": {},
   "outputs": [],
   "source": [
    "def build_luk_properties(p):\n",
    "    properties = get_base_prop(p)\n",
    "    \n",
    "    properties['fill'] = LUK_COLOR\n",
    "    properties['fill-opacity'] = p['lukashenko']\n",
    "    \n",
    "    return properties"
   ]
  },
  {
   "cell_type": "code",
   "execution_count": 146,
   "metadata": {},
   "outputs": [],
   "source": [
    "def build_tih_properties(p):\n",
    "    properties = get_base_prop(p)\n",
    "    \n",
    "    properties['fill'] = TIH_COLOR\n",
    "    properties['fill-opacity'] = p['tihanovkaja']\n",
    "    \n",
    "    return properties"
   ]
  },
  {
   "cell_type": "code",
   "execution_count": 147,
   "metadata": {},
   "outputs": [],
   "source": [
    "def create_geojson(prop_callback):\n",
    "    return {\n",
    "        \"type\": \"FeatureCollection\",\n",
    "        \"features\": [\n",
    "            {\n",
    "                'type': x['type'],\n",
    "                'geometry': x['geometry'],\n",
    "                'properties': prop_callback(x['properties']),\n",
    "            }\n",
    "            for x in calculated_geo['features']\n",
    "        ]\n",
    "    }"
   ]
  },
  {
   "cell_type": "code",
   "execution_count": 148,
   "metadata": {},
   "outputs": [],
   "source": [
    "compete_geojson = create_geojson(build_compete_properties)"
   ]
  },
  {
   "cell_type": "code",
   "execution_count": 149,
   "metadata": {},
   "outputs": [],
   "source": [
    "against_luk = create_geojson(build_against_luk_properties)"
   ]
  },
  {
   "cell_type": "code",
   "execution_count": 150,
   "metadata": {},
   "outputs": [],
   "source": [
    "luk_geo = create_geojson(build_luk_properties)"
   ]
  },
  {
   "cell_type": "code",
   "execution_count": 151,
   "metadata": {},
   "outputs": [],
   "source": [
    "tih_geo = create_geojson(build_tih_properties)"
   ]
  },
  {
   "cell_type": "code",
   "execution_count": 152,
   "metadata": {},
   "outputs": [],
   "source": [
    "with open('geo/compete.geojson', mode='wt') as f:\n",
    "    json.dump(compete_geojson, f)"
   ]
  },
  {
   "cell_type": "code",
   "execution_count": 153,
   "metadata": {},
   "outputs": [],
   "source": [
    "with open('geo/against-lukashenko.geojson', mode='wt') as f:\n",
    "    json.dump(against_luk, f)"
   ]
  },
  {
   "cell_type": "code",
   "execution_count": 154,
   "metadata": {},
   "outputs": [],
   "source": [
    "with open('geo/lukashenko.geojson', mode='wt') as f:\n",
    "    json.dump(luk_geo, f)"
   ]
  },
  {
   "cell_type": "code",
   "execution_count": 155,
   "metadata": {},
   "outputs": [],
   "source": [
    "with open('geo/tihanovkaja.geojson', mode='wt') as f:\n",
    "    json.dump(tih_geo, f)"
   ]
  },
  {
   "cell_type": "code",
   "execution_count": null,
   "metadata": {},
   "outputs": [],
   "source": []
  }
 ],
 "metadata": {
  "kernelspec": {
   "display_name": "Python 3",
   "language": "python",
   "name": "python3"
  },
  "language_info": {
   "codemirror_mode": {
    "name": "ipython",
    "version": 3
   },
   "file_extension": ".py",
   "mimetype": "text/x-python",
   "name": "python",
   "nbconvert_exporter": "python",
   "pygments_lexer": "ipython3",
   "version": "3.8.2"
  }
 },
 "nbformat": 4,
 "nbformat_minor": 4
}
