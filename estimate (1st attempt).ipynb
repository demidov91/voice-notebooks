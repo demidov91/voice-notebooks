{
 "cells": [
  {
   "cell_type": "code",
   "execution_count": 8,
   "metadata": {},
   "outputs": [],
   "source": [
    "import pandas as pd\n",
    "import numpy as np"
   ]
  },
  {
   "cell_type": "code",
   "execution_count": 9,
   "metadata": {},
   "outputs": [],
   "source": [
    "voice = pd.read_csv('voice.csv')\n",
    "geo = pd.read_csv('geo-categorized.csv')\n",
    "coefficients = pd.read_csv('tihanovkaja_photo_coefficients.csv')\n",
    "alt_coefficients = pd.read_csv('alternative_coefficients.csv')\n",
    "trusted_vp = pd.read_csv('trusted-for-alternative.csv')"
   ]
  },
  {
   "cell_type": "code",
   "execution_count": 10,
   "metadata": {},
   "outputs": [],
   "source": [
    "vp_to_area = {x['id']: x['area'] for _, x in geo.iterrows()}"
   ]
  },
  {
   "cell_type": "code",
   "execution_count": 11,
   "metadata": {},
   "outputs": [],
   "source": [
    "area_to_coeff = {x['area']: x['coefficient'] for _, x in coefficients.iterrows()}\n",
    "area_candidate_to_tih_coeff = {\n",
    "    f\"{x['area']}_{x['candidate']}\": x['tih_coefficient'] \n",
    "    for _, x in alt_coefficients.iterrows()\n",
    "}"
   ]
  },
  {
   "cell_type": "code",
   "execution_count": 12,
   "metadata": {},
   "outputs": [],
   "source": [
    "trusted_set = set(trusted_vp['id'])\n",
    "# trusted_votes = {x['id']: x['tihanovkaja_officialVotes'] for _, x in trusted_vp.iterrows()}"
   ]
  },
  {
   "cell_type": "code",
   "execution_count": 13,
   "metadata": {},
   "outputs": [],
   "source": [
    "alt_candidates = (\n",
    "    'against', 'cherechen', 'corrupted', 'dmitriyev', 'kanopatskaja',\n",
    ")"
   ]
  },
  {
   "cell_type": "code",
   "execution_count": 20,
   "metadata": {},
   "outputs": [],
   "source": [
    "expected_list = []\n",
    "\n",
    "for _, voice_row in voice.iterrows():\n",
    "    poll_station_id = voice_row['id']\n",
    "    area = vp_to_area[poll_station_id]\n",
    "    alternative = {}\n",
    "    \n",
    "    if poll_station_id in trusted_set:\n",
    "        source = 'official'\n",
    "        tihanovkaja = voice_row['tihanovkaja_officialVotes']\n",
    "        \n",
    "        for candidate in alt_candidates:\n",
    "            alternative[candidate] = voice_row[f'{candidate}_officialVotes']\n",
    "            \n",
    "        if np.isnan(voice_row['corrupted_officialVotes']):\n",
    "            source = 'official-corrupted-fix'\n",
    "            alternative['corrupted'] = tihanovkaja * area_candidate_to_tih_coeff[f'{area}_corrupted']\n",
    "        \n",
    "    else:\n",
    "        source = 'voice'\n",
    "        tihanovkaja = voice_row['tihanovkaja_photoVoices'] * area_to_coeff[area]\n",
    "        for candidate in alt_candidates:\n",
    "            alternative[candidate] = tihanovkaja * area_candidate_to_tih_coeff[f'{area}_{candidate}']\n",
    "        \n",
    "    poll_station_data = {\n",
    "        'id': voice_row['id'],\n",
    "        'area': area,\n",
    "        'source': source,\n",
    "        'tihanovkaja': tihanovkaja,\n",
    "    }\n",
    "    poll_station_data.update(alternative)\n",
    "    expected_list.append(poll_station_data)"
   ]
  },
  {
   "cell_type": "code",
   "execution_count": 21,
   "metadata": {},
   "outputs": [
    {
     "data": {
      "text/plain": [
       "1427031.7919999976"
      ]
     },
     "execution_count": 21,
     "metadata": {},
     "output_type": "execute_result"
    }
   ],
   "source": [
    "sum([x['tihanovkaja'] for x in expected_list])"
   ]
  },
  {
   "cell_type": "code",
   "execution_count": 47,
   "metadata": {},
   "outputs": [],
   "source": [
    "pd.DataFrame(expected_list).to_csv('candidates-by-poll-station.csv', index=False, float_format='%.1f')"
   ]
  },
  {
   "cell_type": "code",
   "execution_count": 27,
   "metadata": {},
   "outputs": [],
   "source": [
    "candidates = (\n",
    "    'against', 'cherechen', 'corrupted', 'dmitriyev', 'kanopatskaja', 'tihanovkaja'\n",
    ")"
   ]
  },
  {
   "cell_type": "code",
   "execution_count": 33,
   "metadata": {},
   "outputs": [],
   "source": [
    "sum_by_candidate = {\n",
    "    c: int(round(sum([x[c] for x in expected_list])))\n",
    "    for c in candidates\n",
    "}"
   ]
  },
  {
   "cell_type": "code",
   "execution_count": 34,
   "metadata": {},
   "outputs": [
    {
     "data": {
      "text/plain": [
       "{'against': 218322,\n",
       " 'cherechen': 57309,\n",
       " 'corrupted': 42723,\n",
       " 'dmitriyev': 63605,\n",
       " 'kanopatskaja': 54572,\n",
       " 'tihanovkaja': 1427032}"
      ]
     },
     "execution_count": 34,
     "metadata": {},
     "output_type": "execute_result"
    }
   ],
   "source": [
    "sum_by_candidate"
   ]
  },
  {
   "cell_type": "code",
   "execution_count": 48,
   "metadata": {},
   "outputs": [],
   "source": [
    "pd.DataFrame({'candidate' :list(sum_by_candidate.keys()), 'estimated_total':list(sum_by_candidate.values())}).to_csv('candidates-total.csv', index=False)"
   ]
  },
  {
   "cell_type": "code",
   "execution_count": 50,
   "metadata": {},
   "outputs": [
    {
     "data": {
      "text/plain": [
       "525990.7441129999"
      ]
     },
     "execution_count": 50,
     "metadata": {},
     "output_type": "execute_result"
    }
   ],
   "source": [
    "sum([sum([vp[c] for c in candidates]) for vp in expected_list if vp['area'] == 'capital'])"
   ]
  },
  {
   "cell_type": "code",
   "execution_count": 51,
   "metadata": {},
   "outputs": [
    {
     "data": {
      "text/plain": [
       "399574.6449999998"
      ]
     },
     "execution_count": 51,
     "metadata": {},
     "output_type": "execute_result"
    }
   ],
   "source": [
    "sum([x['tihanovkaja'] for x in expected_list if x['area'] == 'capital'])"
   ]
  },
  {
   "cell_type": "code",
   "execution_count": 52,
   "metadata": {},
   "outputs": [
    {
     "data": {
      "text/plain": [
       "61163.718170000015"
      ]
     },
     "execution_count": 52,
     "metadata": {},
     "output_type": "execute_result"
    }
   ],
   "source": [
    "sum([x['against'] for x in expected_list if x['area'] == 'capital'])"
   ]
  },
  {
   "cell_type": "code",
   "execution_count": null,
   "metadata": {},
   "outputs": [],
   "source": []
  }
 ],
 "metadata": {
  "kernelspec": {
   "display_name": "Python 3",
   "language": "python",
   "name": "python3"
  },
  "language_info": {
   "codemirror_mode": {
    "name": "ipython",
    "version": 3
   },
   "file_extension": ".py",
   "mimetype": "text/x-python",
   "name": "python",
   "nbconvert_exporter": "python",
   "pygments_lexer": "ipython3",
   "version": "3.8.2"
  }
 },
 "nbformat": 4,
 "nbformat_minor": 4
}
