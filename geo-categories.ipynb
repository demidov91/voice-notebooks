{
 "cells": [
  {
   "cell_type": "code",
   "execution_count": 85,
   "metadata": {},
   "outputs": [],
   "source": [
    "import pandas as pd\n",
    "from geopy import distance\n",
    "from decimal import Decimal"
   ]
  },
  {
   "cell_type": "code",
   "execution_count": 86,
   "metadata": {},
   "outputs": [],
   "source": [
    "geo_data = pd.read_csv('geo-by-area.csv', converters={'latitude': Decimal, 'longitude': Decimal})"
   ]
  },
  {
   "cell_type": "code",
   "execution_count": 87,
   "metadata": {},
   "outputs": [],
   "source": [
    "geo_data['new_area'] = pd.Series([], dtype='object')"
   ]
  },
  {
   "cell_type": "code",
   "execution_count": 88,
   "metadata": {},
   "outputs": [],
   "source": [
    "geo_data.loc[geo_data['town'] == 'Minsk', 'new_area'] = 'capital'"
   ]
  },
  {
   "cell_type": "code",
   "execution_count": 89,
   "metadata": {},
   "outputs": [],
   "source": [
    "towns_over100 = [\n",
    "    'Orsha', 'Borisov', 'Soligorsk', 'Navapolack',\n",
    "    'Babruysk', 'Mazyr', 'Baranavičy', 'Pinsk', 'Lida'\n",
    "]"
   ]
  },
  {
   "cell_type": "code",
   "execution_count": 90,
   "metadata": {},
   "outputs": [],
   "source": [
    "geo_data.loc[geo_data['town'].isin(towns_over100), 'new_area'] = 'town_over100'"
   ]
  },
  {
   "cell_type": "code",
   "execution_count": 91,
   "metadata": {},
   "outputs": [],
   "source": [
    "mask_below100 =  geo_data['area'].isin(['town', 'region-center']) & ~geo_data['town'].isin(towns_over100)"
   ]
  },
  {
   "cell_type": "code",
   "execution_count": 92,
   "metadata": {},
   "outputs": [],
   "source": [
    "geo_data.loc[mask_below100, 'new_area'] = 'town_below100'"
   ]
  },
  {
   "cell_type": "code",
   "execution_count": 93,
   "metadata": {},
   "outputs": [],
   "source": [
    "remaining_mask = geo_data['area'].isin(['city', 'embassy', 'village']) & geo_data['new_area'].isna()\n",
    "geo_data.loc[remaining_mask, 'new_area'] = geo_data['area'][remaining_mask]"
   ]
  },
  {
   "cell_type": "code",
   "execution_count": 94,
   "metadata": {},
   "outputs": [
    {
     "data": {
      "text/html": [
       "<div>\n",
       "<style scoped>\n",
       "    .dataframe tbody tr th:only-of-type {\n",
       "        vertical-align: middle;\n",
       "    }\n",
       "\n",
       "    .dataframe tbody tr th {\n",
       "        vertical-align: top;\n",
       "    }\n",
       "\n",
       "    .dataframe thead th {\n",
       "        text-align: right;\n",
       "    }\n",
       "</style>\n",
       "<table border=\"1\" class=\"dataframe\">\n",
       "  <thead>\n",
       "    <tr style=\"text-align: right;\">\n",
       "      <th></th>\n",
       "      <th>id</th>\n",
       "      <th>town</th>\n",
       "      <th>area</th>\n",
       "      <th>latitude</th>\n",
       "      <th>longitude</th>\n",
       "      <th>new_area</th>\n",
       "    </tr>\n",
       "  </thead>\n",
       "  <tbody>\n",
       "  </tbody>\n",
       "</table>\n",
       "</div>"
      ],
      "text/plain": [
       "Empty DataFrame\n",
       "Columns: [id, town, area, latitude, longitude, new_area]\n",
       "Index: []"
      ]
     },
     "execution_count": 94,
     "metadata": {},
     "output_type": "execute_result"
    }
   ],
   "source": [
    "geo_data[geo_data['new_area'].isna()]"
   ]
  },
  {
   "cell_type": "code",
   "execution_count": 95,
   "metadata": {},
   "outputs": [],
   "source": [
    "geo_data['area'] = geo_data['new_area']"
   ]
  },
  {
   "cell_type": "code",
   "execution_count": 96,
   "metadata": {},
   "outputs": [],
   "source": [
    "geo_data = geo_data[['id', 'town', 'area', 'latitude', 'longitude']]"
   ]
  },
  {
   "cell_type": "code",
   "execution_count": 97,
   "metadata": {},
   "outputs": [],
   "source": [
    "BREST_CENTER = (52.100681, 23.703214)\n",
    "VICIEBSK_CENTER = (55.183909, 30.197171)\n",
    "HOMEL_CENTER = (52.431225, 30.992659)\n",
    "HRODNA_CENTER = (53.672348, 23.826575)\n",
    "MAHILIOU_CENTER = (53.893391, 30.329823)\n",
    "MINSK_CENTER = (53.905320, 27.553474)\n",
    "\n",
    "CITY_CENTERS = (\n",
    "    BREST_CENTER,\n",
    "    VICIEBSK_CENTER,\n",
    "    HOMEL_CENTER,\n",
    "    HRODNA_CENTER,\n",
    "    MAHILIOU_CENTER,\n",
    ")\n",
    "\n",
    "CITY_RADIUS = 10\n",
    "MINSK_RADIUS = 20\n",
    "EXTENDED_MINSK_RADIUS = 40"
   ]
  },
  {
   "cell_type": "code",
   "execution_count": 98,
   "metadata": {},
   "outputs": [],
   "source": [
    "def is_city_suburb(point):\n",
    "    for city in CITY_CENTERS:\n",
    "        if distance.distance(point, city).km < CITY_RADIUS:\n",
    "            return True            "
   ]
  },
  {
   "cell_type": "code",
   "execution_count": 100,
   "metadata": {},
   "outputs": [],
   "source": [
    "def _get_area(point):\n",
    "    if is_city_suburb(point):\n",
    "        return 'city'       \n",
    "    \n",
    "    distance_to_minsk = distance.distance(point, MINSK_CENTER).km\n",
    "    if distance_to_minsk <= MINSK_RADIUS:\n",
    "        return 'minsk_suburb'\n",
    "    \n",
    "for row in geo_data[~geo_data['area'].isin(['capital', 'city'])].iloc:\n",
    "    point = (row['latitude'], row['longitude'])\n",
    "    new_area = _get_area(point)\n",
    "    \n",
    "    if new_area is not None:\n",
    "        geo_data.loc[geo_data['id'] == row['id'], 'area'] = new_area\n",
    "    \n",
    "    "
   ]
  },
  {
   "cell_type": "code",
   "execution_count": 101,
   "metadata": {},
   "outputs": [],
   "source": [
    "geo_data['region'] = [int(x.split('-')[0]) for x in geo_data['id']]\n",
    "geo_data.loc[(geo_data['region'] == 7) & (geo_data['area'] == 'embassy'), 'region'] = 8\n",
    "geo_data.loc[geo_data['id'] == '06-135-0025', 'area'] = 'town_below100' # Jalizava\n",
    "geo_data.loc[geo_data['id'] == '02-077-0019', 'area'] = 'town_below100' # Varapajeva\n",
    "geo_data.loc[geo_data['id'] == '04-112-0065', 'area'] = 'town_below100' # Šajbaki\n",
    "geo_data.loc[geo_data['id'] == '06-146-0024', 'area'] = 'city' # Palykavičy\n",
    "geo_data.loc[geo_data['id'].isin(['05-141-0025']), 'area'] = 'minsk_suburb' # Kopišča\n",
    "# geo_data.loc[(geo_data['region'] == 5) & (geo_data['area'] == 'village'), 'area'] = 'minsk_village'"
   ]
  },
  {
   "cell_type": "code",
   "execution_count": 102,
   "metadata": {},
   "outputs": [],
   "source": [
    "geo_data.to_csv('geo-categorized.csv', index=False)"
   ]
  },
  {
   "cell_type": "code",
   "execution_count": null,
   "metadata": {},
   "outputs": [],
   "source": []
  }
 ],
 "metadata": {
  "kernelspec": {
   "display_name": "Python 3",
   "language": "python",
   "name": "python3"
  },
  "language_info": {
   "codemirror_mode": {
    "name": "ipython",
    "version": 3
   },
   "file_extension": ".py",
   "mimetype": "text/x-python",
   "name": "python",
   "nbconvert_exporter": "python",
   "pygments_lexer": "ipython3",
   "version": "3.8.2"
  }
 },
 "nbformat": 4,
 "nbformat_minor": 4
}
