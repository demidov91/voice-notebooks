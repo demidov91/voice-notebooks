{
 "cells": [
  {
   "cell_type": "code",
   "execution_count": 257,
   "metadata": {},
   "outputs": [],
   "source": [
    "import pandas as pd\n",
    "import numpy as np\n",
    "from plotly.graph_objects import Scatter, Figure"
   ]
  },
  {
   "cell_type": "code",
   "execution_count": 258,
   "metadata": {},
   "outputs": [],
   "source": [
    "non_trusted_turnout_by_report = [\n",
    "    '01-010-0031', '01-010-0035', '01-011-0042', '01-055-0003', '01-055-0004',\n",
    "    '02-065-0001', '02-077-0001', '02-082-0020',\n",
    "    '04-022-0107', \n",
    "    '03-096-0008', '03-091-0026',\n",
    "    '04-106-0001',\n",
    "    '05-040-0019', '05-141-0096', '05-141-0098', '05-046-0022',\n",
    "    '06-013-0021', '06-013-0048', '06-129-0001',\n",
    "    '07-001-0005', '07-005-0007', '07-005-0034', '07-004-0005',  \n",
    "]\n",
    "\n",
    "non_trusted_turnout_no_observer = [\n",
    "    '01-010-0040', '01-011-0032', '01-060-0059', '01-062-0009', '01-053-0021', '01-142-0002',\n",
    "    '02-072-0020',\n",
    "    '03-101-0011', '03-085-0009', '03-088-0027', '03-101-0036',\n",
    "    '04-022-0081', '04-022-0085', '04-022-0121', '04-022-0135', '04-112-0002', '04-112-0070',\n",
    "    '04-115-0003', '04-119-0007', '04-117-0011',\n",
    "    '05-026-0066', '05-027-0007', '05-141-0037', '05-037-0016', '05-039-0028', \n",
    "    '05-042-0041', '05-042-0050', '05-045-0012',\n",
    "    '06-135-0002',\n",
    "]\n",
    "\n",
    "non_trusted_turnout_by_major_violation = [\n",
    "    '01-010-0002', \n",
    "    '07-003-0094', \n",
    "    '04-112-0006', '04-119-0029',\n",
    "    '05-141-0106', '05-029-0025', '05-043-0005',\n",
    "]\n",
    "\n",
    "non_trusted_turnout_by_minal_violation = [\n",
    "    '01-010-0006', '01-010-0015', '01-010-0025', '01-010-0032', '01-010-0034', '01-011-0038',\n",
    "    '01-011-0047', '01-011-0015', '01-010-0012',\n",
    "    '01-049-0013', '01-056-0005', '01-056-0007',\n",
    "    '02-143-0019', \n",
    "    '03-096-0023', '03-096-0045', '03-100-0014',\n",
    "    '04-118-0019', '04-105-0011',\n",
    "    '05-026-0014', '05-026-0022', '05-038-0004', '05-044-0005', '05-040-0028', '05-141-0076',\n",
    "    '05-027-0018', '05-034-0014', '05-036-0039', '05-039-0005', '05-040-0063', '05-042-0062', \n",
    "    '05-045-0018', '05-141-0031', '05-141-0033', '05-141-0060',\n",
    "    '06-146-0035', '06-013-0020', '06-013-0038',\n",
    "    '07-001-0089', '07-003-0024', '07-005-0037', '07-006-0008', '07-009-0014', \n",
    "]\n",
    "\n",
    "\n",
    "non_trusted_turnout_by_outlier = [\n",
    "    '07-003-0058', '07-002-0072', '07-005-0002', '07-005-0026', '07-001-0016', '07-002-0017',\n",
    "    '07-004-0002', '07-004-0004', '07-004-0006', '07-004-0007', '07-004-0026',\n",
    "    '01-010-0010', '01-010-0027', '01-011-0049', '01-011-0063', '01-011-0079', '01-010-0008',\n",
    "    '01-056-0017', '01-049-0030',\n",
    "    '02-143-0016', '02-016-0056', '02-014-0005', '02-015-0001', '02-015-0026', '02-143-0022',\n",
    "    '02-015-0045', '02-016-0059', '02-075-0019', '02-075-0051',\n",
    "    '03-096-0031', '03-087-0009', '03-101-0015', '03-091-0012', '03-091-0015', '03-091-0028', '03-091-0017',\n",
    "    '03-096-0036', '03-102-0003',\n",
    "    '04-112-0029', '04-021-0044', '02-021-0022', '04-022-0134', '04-117-0014', '04-112-0044', '04-115-005',\n",
    "    '04-112-0025', '04-112-0007', '04-112-0026', '04-145-0019', '04-021-0023', '04-022-0028',\n",
    "    '04-021-0008', '04-022-0128',\n",
    "    '05-026-0017', '05-039-0012', '05-027-0023', '05-042-0056', '05-141-0075', '05-141-0100', '05-141-0101', \n",
    "    '06-024-0010', '06-146-0024', '06-135-0025',\n",
    "]\n",
    "\n",
    "non_trusted_turnout_one_observer = [\n",
    "    '01-011-037', \n",
    "    '04-110-0013', '04-145-0024', '04-114-0017',\n",
    "    '06-135-0020',\n",
    "]\n",
    "\n",
    "non_trusted_turnout = (\n",
    "    non_trusted_turnout_by_report + \n",
    "    non_trusted_turnout_no_observer +\n",
    "    non_trusted_turnout_one_observer +\n",
    "    non_trusted_turnout_by_major_violation +\n",
    "    non_trusted_turnout_by_minal_violation + \n",
    "    non_trusted_turnout_by_outlier\n",
    ")"
   ]
  },
  {
   "cell_type": "code",
   "execution_count": 259,
   "metadata": {},
   "outputs": [],
   "source": [
    "df = pd.read_csv('trusted-for-alternative-fixed.csv')"
   ]
  },
  {
   "cell_type": "code",
   "execution_count": 260,
   "metadata": {},
   "outputs": [],
   "source": [
    "from itertools import chain\n",
    "\n",
    "non_trusted_turnout = [\n",
    "    non_trusted_turnout_by_report, \n",
    "    non_trusted_turnout_no_observer,\n",
    "    non_trusted_turnout_one_observer,\n",
    "    non_trusted_turnout_by_major_violation,\n",
    "    non_trusted_turnout_by_minal_violation, \n",
    "    non_trusted_turnout_by_outlier,\n",
    "]\n",
    "\n",
    "\n",
    "for i in range(len(non_trusted_turnout)):\n",
    "    non_trusted_turnout[i] = [x for x in non_trusted_turnout[i] if x in df['id'].values]\n",
    "\n",
    "\n",
    "(\n",
    "    non_trusted_turnout_by_report, \n",
    "    non_trusted_turnout_no_observer,\n",
    "    non_trusted_turnout_one_observer,\n",
    "    non_trusted_turnout_by_major_violation,\n",
    "    non_trusted_turnout_by_minal_violation, \n",
    "    non_trusted_turnout_by_outlier,\n",
    ") = non_trusted_turnout\n",
    "    \n",
    "    \n",
    "non_trusted_turnout = tuple(chain(*non_trusted_turnout))"
   ]
  },
  {
   "cell_type": "code",
   "execution_count": 261,
   "metadata": {},
   "outputs": [],
   "source": [
    "non_trust_turnout_df = pd.DataFrame({\n",
    "    'id': non_trusted_turnout,\n",
    "    'reason': (\n",
    "        ['zubr-report'] * len(non_trusted_turnout_by_report) + \n",
    "        ['no-observer'] * len(non_trusted_turnout_no_observer) + \n",
    "        ['one-observer'] * len(non_trusted_turnout_one_observer) + \n",
    "        ['major-violation'] * len(non_trusted_turnout_by_major_violation) + \n",
    "        ['minor-violation'] * len(non_trusted_turnout_by_minal_violation) + \n",
    "        ['outlier'] * len(non_trusted_turnout_by_outlier) \n",
    "    ),\n",
    "})\n",
    "\n",
    "non_trust_turnout_df.to_csv('non_trusted_turnout.csv', index=False)"
   ]
  },
  {
   "cell_type": "code",
   "execution_count": 262,
   "metadata": {},
   "outputs": [],
   "source": [
    "areas = ['city', 'minsk_suburb', 'capital', 'village', 'town_below100', 'town_over100', 'embassy']\n",
    "candidates = ['against', 'cherechen', 'corrupted', 'dmitriyev', 'kanopatskaja', 'tihanovkaja']"
   ]
  },
  {
   "cell_type": "code",
   "execution_count": 263,
   "metadata": {},
   "outputs": [],
   "source": [
    "zubr_observers = dict(pd.read_csv('zubr-observers.csv')[['id', 'observers']].values)"
   ]
  },
  {
   "cell_type": "code",
   "execution_count": 264,
   "metadata": {},
   "outputs": [],
   "source": [
    "df = df[~df['id'].isin(non_trusted_turnout)]"
   ]
  },
  {
   "cell_type": "code",
   "execution_count": 265,
   "metadata": {},
   "outputs": [],
   "source": [
    "def draw_chart(area):\n",
    "    fig = Figure(layout_title='Turnout by area')\n",
    "    mask = df['area'] == area\n",
    "\n",
    "    for region in range(1, 9):\n",
    "        data = df[mask & (df['region'] == region)]\n",
    "        \n",
    "        fig.add_trace(Scatter(\n",
    "            x=data.index, \n",
    "            y=data['officialVotes'] / data['officialVoters'],\n",
    "            mode='markers',\n",
    "            name=f'Turnout {region}',\n",
    "            text=[f'{a} ({b})' for a, b in zip(data['id'], data['zubr_id'])],\n",
    "        ))\n",
    "        \n",
    "    \n",
    "    data = df[mask]\n",
    "    mean = (data['officialVotes'] / data['officialVoters']).mean()\n",
    "    \n",
    "    fig.add_trace(Scatter(\n",
    "        x=data.index, \n",
    "        y=[mean] * len(data),\n",
    "        mode='lines',\n",
    "        name=f'avg',\n",
    "        text=[f'{a} ({b})' for a, b in zip(data['id'], data['zubr_id'])],\n",
    "    ))\n",
    "        \n",
    "    fig.update_xaxes(title='Poll stations')\n",
    "    fig.update_yaxes(title='Turnout')\n",
    "\n",
    "\n",
    "    fig.show()\n"
   ]
  },
  {
   "cell_type": "code",
   "execution_count": 266,
   "metadata": {},
   "outputs": [
    {
     "data": {
      "application/vnd.plotly.v1+json": {
       "config": {
        "plotlyServerURL": "https://plot.ly"
       },
       "data": [
        {
         "mode": "markers",
         "name": "Turnout 1",
         "text": [
          "01-050-0011 (1228)",
          "01-055-0010 (1384)",
          "01-056-0024 (1434)",
          "01-057-0025 (1494)",
          "01-058-0008 (1532)"
         ],
         "type": "scatter",
         "x": [
          17,
          21,
          26,
          27,
          28
         ],
         "y": [
          0.8622754491017964,
          0.8931185944363104,
          0.9154013015184381,
          0.8468025298664793,
          0.8637931034482759
         ]
        },
        {
         "mode": "markers",
         "name": "Turnout 2",
         "text": [
          "02-067-0010 (2050)",
          "02-072-0011 (2163)",
          "02-143-0008 (2019)"
         ],
         "type": "scatter",
         "x": [
          42,
          43,
          56
         ],
         "y": [
          0.9184466019417475,
          0.8388625592417062,
          0.8364611260053619
         ]
        },
        {
         "mode": "markers",
         "name": "Turnout 3",
         "text": [
          "03-091-0046 (2992)",
          "03-091-0047 (2993)",
          "03-101-0029 (3386)",
          "03-101-0037 (3394)"
         ],
         "type": "scatter",
         "x": [
          76,
          77,
          85,
          87
         ],
         "y": [
          0.8200537153088631,
          0.8034285714285714,
          0.7215619694397284,
          0.8177496038034865
         ]
        },
        {
         "mode": "markers",
         "name": "Turnout 4",
         "text": [
          "04-112-0055 (3880)",
          "04-112-0064 (3889)"
         ],
         "type": "scatter",
         "x": [
          115,
          116
         ],
         "y": [
          0.83203125,
          0.8234660925726588
         ]
        },
        {
         "mode": "markers",
         "name": "Turnout 5",
         "text": [
          "05-029-0018 (4392)",
          "05-029-0034 (4408)",
          "05-034-0019 (4527)",
          "05-036-0044 (4724)",
          "05-039-0010 (4825)",
          "05-039-0011 (4826)",
          "05-041-0012 (4948)",
          "05-041-0030 (4966)",
          "05-044-0010 (5069)",
          "05-044-0025 (5084)",
          "05-141-0058 (4630)",
          "05-141-0061 (4633)",
          "05-141-0070 (4642)",
          "05-141-0080 (4652)",
          "05-141-0081 (4653)",
          "05-141-0083 (4655)",
          "05-141-0103 (4675)",
          "05-141-0108 (4680)"
         ],
         "type": "scatter",
         "x": [
          139,
          140,
          142,
          149,
          155,
          156,
          164,
          165,
          174,
          175,
          195,
          196,
          197,
          201,
          202,
          203,
          211,
          215
         ],
         "y": [
          0.7298311444652908,
          0.808532249873032,
          0.8195020746887967,
          0.7019108280254777,
          0.7531319086219602,
          0.6203830369357045,
          0.8851590106007067,
          0.6930946291560103,
          0.8304383788254756,
          0.8324937027707808,
          0.8299139642620781,
          0.7491571139581928,
          0.6544633901705116,
          0.6461769115442278,
          0.6917740336967294,
          0.8051434223541049,
          0.7414285714285714,
          0.7509727626459144
         ]
        },
        {
         "mode": "markers",
         "name": "Turnout 6",
         "text": [
          "06-146-0008 (5690)"
         ],
         "type": "scatter",
         "x": [
          228
         ],
         "y": [
          0.8044914134742405
         ]
        },
        {
         "mode": "markers",
         "name": "Turnout 7",
         "text": [],
         "type": "scatter",
         "x": [],
         "y": []
        },
        {
         "mode": "markers",
         "name": "Turnout 8",
         "text": [],
         "type": "scatter",
         "x": [],
         "y": []
        },
        {
         "mode": "lines",
         "name": "avg",
         "text": [
          "01-050-0011 (1228)",
          "01-055-0010 (1384)",
          "01-056-0024 (1434)",
          "01-057-0025 (1494)",
          "01-058-0008 (1532)",
          "02-067-0010 (2050)",
          "02-072-0011 (2163)",
          "02-143-0008 (2019)",
          "03-091-0046 (2992)",
          "03-091-0047 (2993)",
          "03-101-0029 (3386)",
          "03-101-0037 (3394)",
          "04-112-0055 (3880)",
          "04-112-0064 (3889)",
          "05-029-0018 (4392)",
          "05-029-0034 (4408)",
          "05-034-0019 (4527)",
          "05-036-0044 (4724)",
          "05-039-0010 (4825)",
          "05-039-0011 (4826)",
          "05-041-0012 (4948)",
          "05-041-0030 (4966)",
          "05-044-0010 (5069)",
          "05-044-0025 (5084)",
          "05-141-0058 (4630)",
          "05-141-0061 (4633)",
          "05-141-0070 (4642)",
          "05-141-0080 (4652)",
          "05-141-0081 (4653)",
          "05-141-0083 (4655)",
          "05-141-0103 (4675)",
          "05-141-0108 (4680)",
          "06-146-0008 (5690)"
         ],
         "type": "scatter",
         "x": [
          17,
          21,
          26,
          27,
          28,
          42,
          43,
          56,
          76,
          77,
          85,
          87,
          115,
          116,
          139,
          140,
          142,
          149,
          155,
          156,
          164,
          165,
          174,
          175,
          195,
          196,
          197,
          201,
          202,
          203,
          211,
          215,
          228
         ],
         "y": [
          0.7921651822912494,
          0.7921651822912494,
          0.7921651822912494,
          0.7921651822912494,
          0.7921651822912494,
          0.7921651822912494,
          0.7921651822912494,
          0.7921651822912494,
          0.7921651822912494,
          0.7921651822912494,
          0.7921651822912494,
          0.7921651822912494,
          0.7921651822912494,
          0.7921651822912494,
          0.7921651822912494,
          0.7921651822912494,
          0.7921651822912494,
          0.7921651822912494,
          0.7921651822912494,
          0.7921651822912494,
          0.7921651822912494,
          0.7921651822912494,
          0.7921651822912494,
          0.7921651822912494,
          0.7921651822912494,
          0.7921651822912494,
          0.7921651822912494,
          0.7921651822912494,
          0.7921651822912494,
          0.7921651822912494,
          0.7921651822912494,
          0.7921651822912494,
          0.7921651822912494
         ]
        }
       ],
       "layout": {
        "template": {
         "data": {
          "bar": [
           {
            "error_x": {
             "color": "#2a3f5f"
            },
            "error_y": {
             "color": "#2a3f5f"
            },
            "marker": {
             "line": {
              "color": "#E5ECF6",
              "width": 0.5
             }
            },
            "type": "bar"
           }
          ],
          "barpolar": [
           {
            "marker": {
             "line": {
              "color": "#E5ECF6",
              "width": 0.5
             }
            },
            "type": "barpolar"
           }
          ],
          "carpet": [
           {
            "aaxis": {
             "endlinecolor": "#2a3f5f",
             "gridcolor": "white",
             "linecolor": "white",
             "minorgridcolor": "white",
             "startlinecolor": "#2a3f5f"
            },
            "baxis": {
             "endlinecolor": "#2a3f5f",
             "gridcolor": "white",
             "linecolor": "white",
             "minorgridcolor": "white",
             "startlinecolor": "#2a3f5f"
            },
            "type": "carpet"
           }
          ],
          "choropleth": [
           {
            "colorbar": {
             "outlinewidth": 0,
             "ticks": ""
            },
            "type": "choropleth"
           }
          ],
          "contour": [
           {
            "colorbar": {
             "outlinewidth": 0,
             "ticks": ""
            },
            "colorscale": [
             [
              0,
              "#0d0887"
             ],
             [
              0.1111111111111111,
              "#46039f"
             ],
             [
              0.2222222222222222,
              "#7201a8"
             ],
             [
              0.3333333333333333,
              "#9c179e"
             ],
             [
              0.4444444444444444,
              "#bd3786"
             ],
             [
              0.5555555555555556,
              "#d8576b"
             ],
             [
              0.6666666666666666,
              "#ed7953"
             ],
             [
              0.7777777777777778,
              "#fb9f3a"
             ],
             [
              0.8888888888888888,
              "#fdca26"
             ],
             [
              1,
              "#f0f921"
             ]
            ],
            "type": "contour"
           }
          ],
          "contourcarpet": [
           {
            "colorbar": {
             "outlinewidth": 0,
             "ticks": ""
            },
            "type": "contourcarpet"
           }
          ],
          "heatmap": [
           {
            "colorbar": {
             "outlinewidth": 0,
             "ticks": ""
            },
            "colorscale": [
             [
              0,
              "#0d0887"
             ],
             [
              0.1111111111111111,
              "#46039f"
             ],
             [
              0.2222222222222222,
              "#7201a8"
             ],
             [
              0.3333333333333333,
              "#9c179e"
             ],
             [
              0.4444444444444444,
              "#bd3786"
             ],
             [
              0.5555555555555556,
              "#d8576b"
             ],
             [
              0.6666666666666666,
              "#ed7953"
             ],
             [
              0.7777777777777778,
              "#fb9f3a"
             ],
             [
              0.8888888888888888,
              "#fdca26"
             ],
             [
              1,
              "#f0f921"
             ]
            ],
            "type": "heatmap"
           }
          ],
          "heatmapgl": [
           {
            "colorbar": {
             "outlinewidth": 0,
             "ticks": ""
            },
            "colorscale": [
             [
              0,
              "#0d0887"
             ],
             [
              0.1111111111111111,
              "#46039f"
             ],
             [
              0.2222222222222222,
              "#7201a8"
             ],
             [
              0.3333333333333333,
              "#9c179e"
             ],
             [
              0.4444444444444444,
              "#bd3786"
             ],
             [
              0.5555555555555556,
              "#d8576b"
             ],
             [
              0.6666666666666666,
              "#ed7953"
             ],
             [
              0.7777777777777778,
              "#fb9f3a"
             ],
             [
              0.8888888888888888,
              "#fdca26"
             ],
             [
              1,
              "#f0f921"
             ]
            ],
            "type": "heatmapgl"
           }
          ],
          "histogram": [
           {
            "marker": {
             "colorbar": {
              "outlinewidth": 0,
              "ticks": ""
             }
            },
            "type": "histogram"
           }
          ],
          "histogram2d": [
           {
            "colorbar": {
             "outlinewidth": 0,
             "ticks": ""
            },
            "colorscale": [
             [
              0,
              "#0d0887"
             ],
             [
              0.1111111111111111,
              "#46039f"
             ],
             [
              0.2222222222222222,
              "#7201a8"
             ],
             [
              0.3333333333333333,
              "#9c179e"
             ],
             [
              0.4444444444444444,
              "#bd3786"
             ],
             [
              0.5555555555555556,
              "#d8576b"
             ],
             [
              0.6666666666666666,
              "#ed7953"
             ],
             [
              0.7777777777777778,
              "#fb9f3a"
             ],
             [
              0.8888888888888888,
              "#fdca26"
             ],
             [
              1,
              "#f0f921"
             ]
            ],
            "type": "histogram2d"
           }
          ],
          "histogram2dcontour": [
           {
            "colorbar": {
             "outlinewidth": 0,
             "ticks": ""
            },
            "colorscale": [
             [
              0,
              "#0d0887"
             ],
             [
              0.1111111111111111,
              "#46039f"
             ],
             [
              0.2222222222222222,
              "#7201a8"
             ],
             [
              0.3333333333333333,
              "#9c179e"
             ],
             [
              0.4444444444444444,
              "#bd3786"
             ],
             [
              0.5555555555555556,
              "#d8576b"
             ],
             [
              0.6666666666666666,
              "#ed7953"
             ],
             [
              0.7777777777777778,
              "#fb9f3a"
             ],
             [
              0.8888888888888888,
              "#fdca26"
             ],
             [
              1,
              "#f0f921"
             ]
            ],
            "type": "histogram2dcontour"
           }
          ],
          "mesh3d": [
           {
            "colorbar": {
             "outlinewidth": 0,
             "ticks": ""
            },
            "type": "mesh3d"
           }
          ],
          "parcoords": [
           {
            "line": {
             "colorbar": {
              "outlinewidth": 0,
              "ticks": ""
             }
            },
            "type": "parcoords"
           }
          ],
          "pie": [
           {
            "automargin": true,
            "type": "pie"
           }
          ],
          "scatter": [
           {
            "marker": {
             "colorbar": {
              "outlinewidth": 0,
              "ticks": ""
             }
            },
            "type": "scatter"
           }
          ],
          "scatter3d": [
           {
            "line": {
             "colorbar": {
              "outlinewidth": 0,
              "ticks": ""
             }
            },
            "marker": {
             "colorbar": {
              "outlinewidth": 0,
              "ticks": ""
             }
            },
            "type": "scatter3d"
           }
          ],
          "scattercarpet": [
           {
            "marker": {
             "colorbar": {
              "outlinewidth": 0,
              "ticks": ""
             }
            },
            "type": "scattercarpet"
           }
          ],
          "scattergeo": [
           {
            "marker": {
             "colorbar": {
              "outlinewidth": 0,
              "ticks": ""
             }
            },
            "type": "scattergeo"
           }
          ],
          "scattergl": [
           {
            "marker": {
             "colorbar": {
              "outlinewidth": 0,
              "ticks": ""
             }
            },
            "type": "scattergl"
           }
          ],
          "scattermapbox": [
           {
            "marker": {
             "colorbar": {
              "outlinewidth": 0,
              "ticks": ""
             }
            },
            "type": "scattermapbox"
           }
          ],
          "scatterpolar": [
           {
            "marker": {
             "colorbar": {
              "outlinewidth": 0,
              "ticks": ""
             }
            },
            "type": "scatterpolar"
           }
          ],
          "scatterpolargl": [
           {
            "marker": {
             "colorbar": {
              "outlinewidth": 0,
              "ticks": ""
             }
            },
            "type": "scatterpolargl"
           }
          ],
          "scatterternary": [
           {
            "marker": {
             "colorbar": {
              "outlinewidth": 0,
              "ticks": ""
             }
            },
            "type": "scatterternary"
           }
          ],
          "surface": [
           {
            "colorbar": {
             "outlinewidth": 0,
             "ticks": ""
            },
            "colorscale": [
             [
              0,
              "#0d0887"
             ],
             [
              0.1111111111111111,
              "#46039f"
             ],
             [
              0.2222222222222222,
              "#7201a8"
             ],
             [
              0.3333333333333333,
              "#9c179e"
             ],
             [
              0.4444444444444444,
              "#bd3786"
             ],
             [
              0.5555555555555556,
              "#d8576b"
             ],
             [
              0.6666666666666666,
              "#ed7953"
             ],
             [
              0.7777777777777778,
              "#fb9f3a"
             ],
             [
              0.8888888888888888,
              "#fdca26"
             ],
             [
              1,
              "#f0f921"
             ]
            ],
            "type": "surface"
           }
          ],
          "table": [
           {
            "cells": {
             "fill": {
              "color": "#EBF0F8"
             },
             "line": {
              "color": "white"
             }
            },
            "header": {
             "fill": {
              "color": "#C8D4E3"
             },
             "line": {
              "color": "white"
             }
            },
            "type": "table"
           }
          ]
         },
         "layout": {
          "annotationdefaults": {
           "arrowcolor": "#2a3f5f",
           "arrowhead": 0,
           "arrowwidth": 1
          },
          "coloraxis": {
           "colorbar": {
            "outlinewidth": 0,
            "ticks": ""
           }
          },
          "colorscale": {
           "diverging": [
            [
             0,
             "#8e0152"
            ],
            [
             0.1,
             "#c51b7d"
            ],
            [
             0.2,
             "#de77ae"
            ],
            [
             0.3,
             "#f1b6da"
            ],
            [
             0.4,
             "#fde0ef"
            ],
            [
             0.5,
             "#f7f7f7"
            ],
            [
             0.6,
             "#e6f5d0"
            ],
            [
             0.7,
             "#b8e186"
            ],
            [
             0.8,
             "#7fbc41"
            ],
            [
             0.9,
             "#4d9221"
            ],
            [
             1,
             "#276419"
            ]
           ],
           "sequential": [
            [
             0,
             "#0d0887"
            ],
            [
             0.1111111111111111,
             "#46039f"
            ],
            [
             0.2222222222222222,
             "#7201a8"
            ],
            [
             0.3333333333333333,
             "#9c179e"
            ],
            [
             0.4444444444444444,
             "#bd3786"
            ],
            [
             0.5555555555555556,
             "#d8576b"
            ],
            [
             0.6666666666666666,
             "#ed7953"
            ],
            [
             0.7777777777777778,
             "#fb9f3a"
            ],
            [
             0.8888888888888888,
             "#fdca26"
            ],
            [
             1,
             "#f0f921"
            ]
           ],
           "sequentialminus": [
            [
             0,
             "#0d0887"
            ],
            [
             0.1111111111111111,
             "#46039f"
            ],
            [
             0.2222222222222222,
             "#7201a8"
            ],
            [
             0.3333333333333333,
             "#9c179e"
            ],
            [
             0.4444444444444444,
             "#bd3786"
            ],
            [
             0.5555555555555556,
             "#d8576b"
            ],
            [
             0.6666666666666666,
             "#ed7953"
            ],
            [
             0.7777777777777778,
             "#fb9f3a"
            ],
            [
             0.8888888888888888,
             "#fdca26"
            ],
            [
             1,
             "#f0f921"
            ]
           ]
          },
          "colorway": [
           "#636efa",
           "#EF553B",
           "#00cc96",
           "#ab63fa",
           "#FFA15A",
           "#19d3f3",
           "#FF6692",
           "#B6E880",
           "#FF97FF",
           "#FECB52"
          ],
          "font": {
           "color": "#2a3f5f"
          },
          "geo": {
           "bgcolor": "white",
           "lakecolor": "white",
           "landcolor": "#E5ECF6",
           "showlakes": true,
           "showland": true,
           "subunitcolor": "white"
          },
          "hoverlabel": {
           "align": "left"
          },
          "hovermode": "closest",
          "mapbox": {
           "style": "light"
          },
          "paper_bgcolor": "white",
          "plot_bgcolor": "#E5ECF6",
          "polar": {
           "angularaxis": {
            "gridcolor": "white",
            "linecolor": "white",
            "ticks": ""
           },
           "bgcolor": "#E5ECF6",
           "radialaxis": {
            "gridcolor": "white",
            "linecolor": "white",
            "ticks": ""
           }
          },
          "scene": {
           "xaxis": {
            "backgroundcolor": "#E5ECF6",
            "gridcolor": "white",
            "gridwidth": 2,
            "linecolor": "white",
            "showbackground": true,
            "ticks": "",
            "zerolinecolor": "white"
           },
           "yaxis": {
            "backgroundcolor": "#E5ECF6",
            "gridcolor": "white",
            "gridwidth": 2,
            "linecolor": "white",
            "showbackground": true,
            "ticks": "",
            "zerolinecolor": "white"
           },
           "zaxis": {
            "backgroundcolor": "#E5ECF6",
            "gridcolor": "white",
            "gridwidth": 2,
            "linecolor": "white",
            "showbackground": true,
            "ticks": "",
            "zerolinecolor": "white"
           }
          },
          "shapedefaults": {
           "line": {
            "color": "#2a3f5f"
           }
          },
          "ternary": {
           "aaxis": {
            "gridcolor": "white",
            "linecolor": "white",
            "ticks": ""
           },
           "baxis": {
            "gridcolor": "white",
            "linecolor": "white",
            "ticks": ""
           },
           "bgcolor": "#E5ECF6",
           "caxis": {
            "gridcolor": "white",
            "linecolor": "white",
            "ticks": ""
           }
          },
          "title": {
           "x": 0.05
          },
          "xaxis": {
           "automargin": true,
           "gridcolor": "white",
           "linecolor": "white",
           "ticks": "",
           "title": {
            "standoff": 15
           },
           "zerolinecolor": "white",
           "zerolinewidth": 2
          },
          "yaxis": {
           "automargin": true,
           "gridcolor": "white",
           "linecolor": "white",
           "ticks": "",
           "title": {
            "standoff": 15
           },
           "zerolinecolor": "white",
           "zerolinewidth": 2
          }
         }
        },
        "title": {
         "text": "Turnout by area"
        },
        "xaxis": {
         "title": {
          "text": "Poll stations"
         }
        },
        "yaxis": {
         "title": {
          "text": "Turnout"
         }
        }
       }
      },
      "text/html": [
       "<div>\n",
       "        \n",
       "        \n",
       "            <div id=\"ee467415-2998-4fb5-ad8a-3d4781ae67f0\" class=\"plotly-graph-div\" style=\"height:525px; width:100%;\"></div>\n",
       "            <script type=\"text/javascript\">\n",
       "                require([\"plotly\"], function(Plotly) {\n",
       "                    window.PLOTLYENV=window.PLOTLYENV || {};\n",
       "                    \n",
       "                if (document.getElementById(\"ee467415-2998-4fb5-ad8a-3d4781ae67f0\")) {\n",
       "                    Plotly.newPlot(\n",
       "                        'ee467415-2998-4fb5-ad8a-3d4781ae67f0',\n",
       "                        [{\"mode\": \"markers\", \"name\": \"Turnout 1\", \"text\": [\"01-050-0011 (1228)\", \"01-055-0010 (1384)\", \"01-056-0024 (1434)\", \"01-057-0025 (1494)\", \"01-058-0008 (1532)\"], \"type\": \"scatter\", \"x\": [17, 21, 26, 27, 28], \"y\": [0.8622754491017964, 0.8931185944363104, 0.9154013015184381, 0.8468025298664793, 0.8637931034482759]}, {\"mode\": \"markers\", \"name\": \"Turnout 2\", \"text\": [\"02-067-0010 (2050)\", \"02-072-0011 (2163)\", \"02-143-0008 (2019)\"], \"type\": \"scatter\", \"x\": [42, 43, 56], \"y\": [0.9184466019417475, 0.8388625592417062, 0.8364611260053619]}, {\"mode\": \"markers\", \"name\": \"Turnout 3\", \"text\": [\"03-091-0046 (2992)\", \"03-091-0047 (2993)\", \"03-101-0029 (3386)\", \"03-101-0037 (3394)\"], \"type\": \"scatter\", \"x\": [76, 77, 85, 87], \"y\": [0.8200537153088631, 0.8034285714285714, 0.7215619694397284, 0.8177496038034865]}, {\"mode\": \"markers\", \"name\": \"Turnout 4\", \"text\": [\"04-112-0055 (3880)\", \"04-112-0064 (3889)\"], \"type\": \"scatter\", \"x\": [115, 116], \"y\": [0.83203125, 0.8234660925726588]}, {\"mode\": \"markers\", \"name\": \"Turnout 5\", \"text\": [\"05-029-0018 (4392)\", \"05-029-0034 (4408)\", \"05-034-0019 (4527)\", \"05-036-0044 (4724)\", \"05-039-0010 (4825)\", \"05-039-0011 (4826)\", \"05-041-0012 (4948)\", \"05-041-0030 (4966)\", \"05-044-0010 (5069)\", \"05-044-0025 (5084)\", \"05-141-0058 (4630)\", \"05-141-0061 (4633)\", \"05-141-0070 (4642)\", \"05-141-0080 (4652)\", \"05-141-0081 (4653)\", \"05-141-0083 (4655)\", \"05-141-0103 (4675)\", \"05-141-0108 (4680)\"], \"type\": \"scatter\", \"x\": [139, 140, 142, 149, 155, 156, 164, 165, 174, 175, 195, 196, 197, 201, 202, 203, 211, 215], \"y\": [0.7298311444652908, 0.808532249873032, 0.8195020746887967, 0.7019108280254777, 0.7531319086219602, 0.6203830369357045, 0.8851590106007067, 0.6930946291560103, 0.8304383788254756, 0.8324937027707808, 0.8299139642620781, 0.7491571139581928, 0.6544633901705116, 0.6461769115442278, 0.6917740336967294, 0.8051434223541049, 0.7414285714285714, 0.7509727626459144]}, {\"mode\": \"markers\", \"name\": \"Turnout 6\", \"text\": [\"06-146-0008 (5690)\"], \"type\": \"scatter\", \"x\": [228], \"y\": [0.8044914134742405]}, {\"mode\": \"markers\", \"name\": \"Turnout 7\", \"text\": [], \"type\": \"scatter\", \"x\": [], \"y\": []}, {\"mode\": \"markers\", \"name\": \"Turnout 8\", \"text\": [], \"type\": \"scatter\", \"x\": [], \"y\": []}, {\"mode\": \"lines\", \"name\": \"avg\", \"text\": [\"01-050-0011 (1228)\", \"01-055-0010 (1384)\", \"01-056-0024 (1434)\", \"01-057-0025 (1494)\", \"01-058-0008 (1532)\", \"02-067-0010 (2050)\", \"02-072-0011 (2163)\", \"02-143-0008 (2019)\", \"03-091-0046 (2992)\", \"03-091-0047 (2993)\", \"03-101-0029 (3386)\", \"03-101-0037 (3394)\", \"04-112-0055 (3880)\", \"04-112-0064 (3889)\", \"05-029-0018 (4392)\", \"05-029-0034 (4408)\", \"05-034-0019 (4527)\", \"05-036-0044 (4724)\", \"05-039-0010 (4825)\", \"05-039-0011 (4826)\", \"05-041-0012 (4948)\", \"05-041-0030 (4966)\", \"05-044-0010 (5069)\", \"05-044-0025 (5084)\", \"05-141-0058 (4630)\", \"05-141-0061 (4633)\", \"05-141-0070 (4642)\", \"05-141-0080 (4652)\", \"05-141-0081 (4653)\", \"05-141-0083 (4655)\", \"05-141-0103 (4675)\", \"05-141-0108 (4680)\", \"06-146-0008 (5690)\"], \"type\": \"scatter\", \"x\": [17, 21, 26, 27, 28, 42, 43, 56, 76, 77, 85, 87, 115, 116, 139, 140, 142, 149, 155, 156, 164, 165, 174, 175, 195, 196, 197, 201, 202, 203, 211, 215, 228], \"y\": [0.7921651822912494, 0.7921651822912494, 0.7921651822912494, 0.7921651822912494, 0.7921651822912494, 0.7921651822912494, 0.7921651822912494, 0.7921651822912494, 0.7921651822912494, 0.7921651822912494, 0.7921651822912494, 0.7921651822912494, 0.7921651822912494, 0.7921651822912494, 0.7921651822912494, 0.7921651822912494, 0.7921651822912494, 0.7921651822912494, 0.7921651822912494, 0.7921651822912494, 0.7921651822912494, 0.7921651822912494, 0.7921651822912494, 0.7921651822912494, 0.7921651822912494, 0.7921651822912494, 0.7921651822912494, 0.7921651822912494, 0.7921651822912494, 0.7921651822912494, 0.7921651822912494, 0.7921651822912494, 0.7921651822912494]}],\n",
       "                        {\"template\": {\"data\": {\"bar\": [{\"error_x\": {\"color\": \"#2a3f5f\"}, \"error_y\": {\"color\": \"#2a3f5f\"}, \"marker\": {\"line\": {\"color\": \"#E5ECF6\", \"width\": 0.5}}, \"type\": \"bar\"}], \"barpolar\": [{\"marker\": {\"line\": {\"color\": \"#E5ECF6\", \"width\": 0.5}}, \"type\": \"barpolar\"}], \"carpet\": [{\"aaxis\": {\"endlinecolor\": \"#2a3f5f\", \"gridcolor\": \"white\", \"linecolor\": \"white\", \"minorgridcolor\": \"white\", \"startlinecolor\": \"#2a3f5f\"}, \"baxis\": {\"endlinecolor\": \"#2a3f5f\", \"gridcolor\": \"white\", \"linecolor\": \"white\", \"minorgridcolor\": \"white\", \"startlinecolor\": \"#2a3f5f\"}, \"type\": \"carpet\"}], \"choropleth\": [{\"colorbar\": {\"outlinewidth\": 0, \"ticks\": \"\"}, \"type\": \"choropleth\"}], \"contour\": [{\"colorbar\": {\"outlinewidth\": 0, \"ticks\": \"\"}, \"colorscale\": [[0.0, \"#0d0887\"], [0.1111111111111111, \"#46039f\"], [0.2222222222222222, \"#7201a8\"], [0.3333333333333333, \"#9c179e\"], [0.4444444444444444, \"#bd3786\"], [0.5555555555555556, \"#d8576b\"], [0.6666666666666666, \"#ed7953\"], [0.7777777777777778, \"#fb9f3a\"], [0.8888888888888888, \"#fdca26\"], [1.0, \"#f0f921\"]], \"type\": \"contour\"}], \"contourcarpet\": [{\"colorbar\": {\"outlinewidth\": 0, \"ticks\": \"\"}, \"type\": \"contourcarpet\"}], \"heatmap\": [{\"colorbar\": {\"outlinewidth\": 0, \"ticks\": \"\"}, \"colorscale\": [[0.0, \"#0d0887\"], [0.1111111111111111, \"#46039f\"], [0.2222222222222222, \"#7201a8\"], [0.3333333333333333, \"#9c179e\"], [0.4444444444444444, \"#bd3786\"], [0.5555555555555556, \"#d8576b\"], [0.6666666666666666, \"#ed7953\"], [0.7777777777777778, \"#fb9f3a\"], [0.8888888888888888, \"#fdca26\"], [1.0, \"#f0f921\"]], \"type\": \"heatmap\"}], \"heatmapgl\": [{\"colorbar\": {\"outlinewidth\": 0, \"ticks\": \"\"}, \"colorscale\": [[0.0, \"#0d0887\"], [0.1111111111111111, \"#46039f\"], [0.2222222222222222, \"#7201a8\"], [0.3333333333333333, \"#9c179e\"], [0.4444444444444444, \"#bd3786\"], [0.5555555555555556, \"#d8576b\"], [0.6666666666666666, \"#ed7953\"], [0.7777777777777778, \"#fb9f3a\"], [0.8888888888888888, \"#fdca26\"], [1.0, \"#f0f921\"]], \"type\": \"heatmapgl\"}], \"histogram\": [{\"marker\": {\"colorbar\": {\"outlinewidth\": 0, \"ticks\": \"\"}}, \"type\": \"histogram\"}], \"histogram2d\": [{\"colorbar\": {\"outlinewidth\": 0, \"ticks\": \"\"}, \"colorscale\": [[0.0, \"#0d0887\"], [0.1111111111111111, \"#46039f\"], [0.2222222222222222, \"#7201a8\"], [0.3333333333333333, \"#9c179e\"], [0.4444444444444444, \"#bd3786\"], [0.5555555555555556, \"#d8576b\"], [0.6666666666666666, \"#ed7953\"], [0.7777777777777778, \"#fb9f3a\"], [0.8888888888888888, \"#fdca26\"], [1.0, \"#f0f921\"]], \"type\": \"histogram2d\"}], \"histogram2dcontour\": [{\"colorbar\": {\"outlinewidth\": 0, \"ticks\": \"\"}, \"colorscale\": [[0.0, \"#0d0887\"], [0.1111111111111111, \"#46039f\"], [0.2222222222222222, \"#7201a8\"], [0.3333333333333333, \"#9c179e\"], [0.4444444444444444, \"#bd3786\"], [0.5555555555555556, \"#d8576b\"], [0.6666666666666666, \"#ed7953\"], [0.7777777777777778, \"#fb9f3a\"], [0.8888888888888888, \"#fdca26\"], [1.0, \"#f0f921\"]], \"type\": \"histogram2dcontour\"}], \"mesh3d\": [{\"colorbar\": {\"outlinewidth\": 0, \"ticks\": \"\"}, \"type\": \"mesh3d\"}], \"parcoords\": [{\"line\": {\"colorbar\": {\"outlinewidth\": 0, \"ticks\": \"\"}}, \"type\": \"parcoords\"}], \"pie\": [{\"automargin\": true, \"type\": \"pie\"}], \"scatter\": [{\"marker\": {\"colorbar\": {\"outlinewidth\": 0, \"ticks\": \"\"}}, \"type\": \"scatter\"}], \"scatter3d\": [{\"line\": {\"colorbar\": {\"outlinewidth\": 0, \"ticks\": \"\"}}, \"marker\": {\"colorbar\": {\"outlinewidth\": 0, \"ticks\": \"\"}}, \"type\": \"scatter3d\"}], \"scattercarpet\": [{\"marker\": {\"colorbar\": {\"outlinewidth\": 0, \"ticks\": \"\"}}, \"type\": \"scattercarpet\"}], \"scattergeo\": [{\"marker\": {\"colorbar\": {\"outlinewidth\": 0, \"ticks\": \"\"}}, \"type\": \"scattergeo\"}], \"scattergl\": [{\"marker\": {\"colorbar\": {\"outlinewidth\": 0, \"ticks\": \"\"}}, \"type\": \"scattergl\"}], \"scattermapbox\": [{\"marker\": {\"colorbar\": {\"outlinewidth\": 0, \"ticks\": \"\"}}, \"type\": \"scattermapbox\"}], \"scatterpolar\": [{\"marker\": {\"colorbar\": {\"outlinewidth\": 0, \"ticks\": \"\"}}, \"type\": \"scatterpolar\"}], \"scatterpolargl\": [{\"marker\": {\"colorbar\": {\"outlinewidth\": 0, \"ticks\": \"\"}}, \"type\": \"scatterpolargl\"}], \"scatterternary\": [{\"marker\": {\"colorbar\": {\"outlinewidth\": 0, \"ticks\": \"\"}}, \"type\": \"scatterternary\"}], \"surface\": [{\"colorbar\": {\"outlinewidth\": 0, \"ticks\": \"\"}, \"colorscale\": [[0.0, \"#0d0887\"], [0.1111111111111111, \"#46039f\"], [0.2222222222222222, \"#7201a8\"], [0.3333333333333333, \"#9c179e\"], [0.4444444444444444, \"#bd3786\"], [0.5555555555555556, \"#d8576b\"], [0.6666666666666666, \"#ed7953\"], [0.7777777777777778, \"#fb9f3a\"], [0.8888888888888888, \"#fdca26\"], [1.0, \"#f0f921\"]], \"type\": \"surface\"}], \"table\": [{\"cells\": {\"fill\": {\"color\": \"#EBF0F8\"}, \"line\": {\"color\": \"white\"}}, \"header\": {\"fill\": {\"color\": \"#C8D4E3\"}, \"line\": {\"color\": \"white\"}}, \"type\": \"table\"}]}, \"layout\": {\"annotationdefaults\": {\"arrowcolor\": \"#2a3f5f\", \"arrowhead\": 0, \"arrowwidth\": 1}, \"coloraxis\": {\"colorbar\": {\"outlinewidth\": 0, \"ticks\": \"\"}}, \"colorscale\": {\"diverging\": [[0, \"#8e0152\"], [0.1, \"#c51b7d\"], [0.2, \"#de77ae\"], [0.3, \"#f1b6da\"], [0.4, \"#fde0ef\"], [0.5, \"#f7f7f7\"], [0.6, \"#e6f5d0\"], [0.7, \"#b8e186\"], [0.8, \"#7fbc41\"], [0.9, \"#4d9221\"], [1, \"#276419\"]], \"sequential\": [[0.0, \"#0d0887\"], [0.1111111111111111, \"#46039f\"], [0.2222222222222222, \"#7201a8\"], [0.3333333333333333, \"#9c179e\"], [0.4444444444444444, \"#bd3786\"], [0.5555555555555556, \"#d8576b\"], [0.6666666666666666, \"#ed7953\"], [0.7777777777777778, \"#fb9f3a\"], [0.8888888888888888, \"#fdca26\"], [1.0, \"#f0f921\"]], \"sequentialminus\": [[0.0, \"#0d0887\"], [0.1111111111111111, \"#46039f\"], [0.2222222222222222, \"#7201a8\"], [0.3333333333333333, \"#9c179e\"], [0.4444444444444444, \"#bd3786\"], [0.5555555555555556, \"#d8576b\"], [0.6666666666666666, \"#ed7953\"], [0.7777777777777778, \"#fb9f3a\"], [0.8888888888888888, \"#fdca26\"], [1.0, \"#f0f921\"]]}, \"colorway\": [\"#636efa\", \"#EF553B\", \"#00cc96\", \"#ab63fa\", \"#FFA15A\", \"#19d3f3\", \"#FF6692\", \"#B6E880\", \"#FF97FF\", \"#FECB52\"], \"font\": {\"color\": \"#2a3f5f\"}, \"geo\": {\"bgcolor\": \"white\", \"lakecolor\": \"white\", \"landcolor\": \"#E5ECF6\", \"showlakes\": true, \"showland\": true, \"subunitcolor\": \"white\"}, \"hoverlabel\": {\"align\": \"left\"}, \"hovermode\": \"closest\", \"mapbox\": {\"style\": \"light\"}, \"paper_bgcolor\": \"white\", \"plot_bgcolor\": \"#E5ECF6\", \"polar\": {\"angularaxis\": {\"gridcolor\": \"white\", \"linecolor\": \"white\", \"ticks\": \"\"}, \"bgcolor\": \"#E5ECF6\", \"radialaxis\": {\"gridcolor\": \"white\", \"linecolor\": \"white\", \"ticks\": \"\"}}, \"scene\": {\"xaxis\": {\"backgroundcolor\": \"#E5ECF6\", \"gridcolor\": \"white\", \"gridwidth\": 2, \"linecolor\": \"white\", \"showbackground\": true, \"ticks\": \"\", \"zerolinecolor\": \"white\"}, \"yaxis\": {\"backgroundcolor\": \"#E5ECF6\", \"gridcolor\": \"white\", \"gridwidth\": 2, \"linecolor\": \"white\", \"showbackground\": true, \"ticks\": \"\", \"zerolinecolor\": \"white\"}, \"zaxis\": {\"backgroundcolor\": \"#E5ECF6\", \"gridcolor\": \"white\", \"gridwidth\": 2, \"linecolor\": \"white\", \"showbackground\": true, \"ticks\": \"\", \"zerolinecolor\": \"white\"}}, \"shapedefaults\": {\"line\": {\"color\": \"#2a3f5f\"}}, \"ternary\": {\"aaxis\": {\"gridcolor\": \"white\", \"linecolor\": \"white\", \"ticks\": \"\"}, \"baxis\": {\"gridcolor\": \"white\", \"linecolor\": \"white\", \"ticks\": \"\"}, \"bgcolor\": \"#E5ECF6\", \"caxis\": {\"gridcolor\": \"white\", \"linecolor\": \"white\", \"ticks\": \"\"}}, \"title\": {\"x\": 0.05}, \"xaxis\": {\"automargin\": true, \"gridcolor\": \"white\", \"linecolor\": \"white\", \"ticks\": \"\", \"title\": {\"standoff\": 15}, \"zerolinecolor\": \"white\", \"zerolinewidth\": 2}, \"yaxis\": {\"automargin\": true, \"gridcolor\": \"white\", \"linecolor\": \"white\", \"ticks\": \"\", \"title\": {\"standoff\": 15}, \"zerolinecolor\": \"white\", \"zerolinewidth\": 2}}}, \"title\": {\"text\": \"Turnout by area\"}, \"xaxis\": {\"title\": {\"text\": \"Poll stations\"}}, \"yaxis\": {\"title\": {\"text\": \"Turnout\"}}},\n",
       "                        {\"responsive\": true}\n",
       "                    ).then(function(){\n",
       "                            \n",
       "var gd = document.getElementById('ee467415-2998-4fb5-ad8a-3d4781ae67f0');\n",
       "var x = new MutationObserver(function (mutations, observer) {{\n",
       "        var display = window.getComputedStyle(gd).display;\n",
       "        if (!display || display === 'none') {{\n",
       "            console.log([gd, 'removed!']);\n",
       "            Plotly.purge(gd);\n",
       "            observer.disconnect();\n",
       "        }}\n",
       "}});\n",
       "\n",
       "// Listen for the removal of the full notebook cells\n",
       "var notebookContainer = gd.closest('#notebook-container');\n",
       "if (notebookContainer) {{\n",
       "    x.observe(notebookContainer, {childList: true});\n",
       "}}\n",
       "\n",
       "// Listen for the clearing of the current output cell\n",
       "var outputEl = gd.closest('.output');\n",
       "if (outputEl) {{\n",
       "    x.observe(outputEl, {childList: true});\n",
       "}}\n",
       "\n",
       "                        })\n",
       "                };\n",
       "                });\n",
       "            </script>\n",
       "        </div>"
      ]
     },
     "metadata": {},
     "output_type": "display_data"
    }
   ],
   "source": [
    "draw_chart('village')"
   ]
  },
  {
   "cell_type": "code",
   "execution_count": 267,
   "metadata": {},
   "outputs": [],
   "source": [
    "def add_trace(fig, data, name):\n",
    "    fig.add_trace(Scatter(\n",
    "        x=data.index, \n",
    "        y=data['officialVotes'] / data['officialVoters'],\n",
    "        mode='markers',\n",
    "        name=name,\n",
    "        text=[\n",
    "            f'{a} ({b}) {c:.4}' \n",
    "            for a, b, c in \n",
    "            zip(\n",
    "                data['id'], \n",
    "                data['zubr_id'],\n",
    "                (\n",
    "                    (data['officialVotes'] - data['lukashenko_officialVotes']) / \n",
    "                    (data['registered'] - data['lukashenko_registered'] - data['ignore_registered'])\n",
    "                )\n",
    "            )\n",
    "        ],\n",
    "    ))\n",
    "    \n",
    "\n",
    "def turnout_detailed(area, region):\n",
    "    fig = Figure(layout_title='Turnout by area')\n",
    "    mask = (df['area'] == area) & (df['region'] == region)\n",
    "    \n",
    "    add_trace(fig, df[mask & df['wrong-voters-number']], 'wrong voters')\n",
    "    add_trace(fig, df[mask & ~df['wrong-voters-number'] & (df['observers'] == 0)], 'no-observers')\n",
    "    add_trace(fig, df[mask & ~df['wrong-voters-number'] & df['major-violations'] & (df['observers'] > 0)], 'major')\n",
    "    add_trace(fig, df[mask & ~df['wrong-voters-number'] & ~df['major-violations'] & df['minor-violations'] & (df['observers'] > 0)], 'minor')\n",
    "    add_trace(fig, df[mask & ~df['wrong-voters-number'] & ~df['major-violations'] & ~df['minor-violations'] & (df['observers'] > 0)], 'ok')\n",
    "\n",
    "    \n",
    "    data = df[mask]\n",
    "    fig.add_trace(Scatter(\n",
    "        x=data.index, \n",
    "        y=[(data['officialVotes'] / data['officialVoters']).mean()] * len(data),\n",
    "        mode='lines',\n",
    "        name='avg',\n",
    "        text=[\n",
    "            f'{a} ({b})' \n",
    "            for a, b in \n",
    "            zip(\n",
    "                data['id'], \n",
    "                data['zubr_id'],\n",
    "            )\n",
    "        ],\n",
    "    ))\n",
    "    \n",
    "    fig.update_xaxes(title='Poll stations')\n",
    "    fig.update_yaxes(title='Turnout')\n",
    "\n",
    "\n",
    "    fig.show()"
   ]
  },
  {
   "cell_type": "code",
   "execution_count": 268,
   "metadata": {},
   "outputs": [
    {
     "data": {
      "application/vnd.plotly.v1+json": {
       "config": {
        "plotlyServerURL": "https://plot.ly"
       },
       "data": [
        {
         "mode": "markers",
         "name": "wrong voters",
         "text": [
          "07-004-0051 (481) 2.788"
         ],
         "type": "scatter",
         "x": [
          264
         ],
         "y": [
          0.774812030075188
         ]
        },
        {
         "mode": "markers",
         "name": "no-observers",
         "text": [],
         "type": "scatter",
         "x": [],
         "y": []
        },
        {
         "mode": "markers",
         "name": "major",
         "text": [],
         "type": "scatter",
         "x": [],
         "y": []
        },
        {
         "mode": "markers",
         "name": "minor",
         "text": [
          "07-001-0010 (164) 2.911",
          "07-001-0060 (214) 1.832",
          "07-006-0037 (560) 2.127",
          "07-008-0070 (737) 1.914",
          "07-008-0079 (746) 1.773"
         ],
         "type": "scatter",
         "x": [
          233,
          237,
          272,
          275,
          276
         ],
         "y": [
          0.6401557285873193,
          0.652738565782044,
          0.5767934520943668,
          0.6200345423143351,
          0.6966516741629185
         ]
        },
        {
         "mode": "markers",
         "name": "ok",
         "text": [
          "07-001-0008 (162) 2.64",
          "07-001-0012 (166) 2.608",
          "07-001-0022 (176) 2.799",
          "07-002-0044 (294) 1.377",
          "07-002-0051 (301) 2.047",
          "07-002-0060 (310) 1.691",
          "07-003-0002 (326) 2.095",
          "07-003-0085 (409) 2.284",
          "07-005-0021 (507) 1.375",
          "07-006-0072 (595) 2.42",
          "07-008-0057 (724) 1.667"
         ],
         "type": "scatter",
         "x": [
          232,
          234,
          236,
          240,
          241,
          242,
          253,
          256,
          267,
          273,
          274
         ],
         "y": [
          0.6192519926425506,
          0.7902777777777777,
          0.8521681997371879,
          0.7864669994453688,
          0.7631426920854997,
          0.6681614349775785,
          0.6035502958579881,
          0.7170454545454545,
          0.7817460317460317,
          0.6733902249806051,
          0.6862745098039216
         ]
        },
        {
         "mode": "lines",
         "name": "avg",
         "text": [
          "07-001-0008 (162)",
          "07-001-0010 (164)",
          "07-001-0012 (166)",
          "07-001-0022 (176)",
          "07-001-0060 (214)",
          "07-002-0044 (294)",
          "07-002-0051 (301)",
          "07-002-0060 (310)",
          "07-003-0002 (326)",
          "07-003-0085 (409)",
          "07-004-0051 (481)",
          "07-005-0021 (507)",
          "07-006-0037 (560)",
          "07-006-0072 (595)",
          "07-008-0057 (724)",
          "07-008-0070 (737)",
          "07-008-0079 (746)"
         ],
         "type": "scatter",
         "x": [
          232,
          233,
          234,
          236,
          237,
          240,
          241,
          242,
          253,
          256,
          264,
          267,
          272,
          273,
          274,
          275,
          276
         ],
         "y": [
          0.7001565650950667,
          0.7001565650950667,
          0.7001565650950667,
          0.7001565650950667,
          0.7001565650950667,
          0.7001565650950667,
          0.7001565650950667,
          0.7001565650950667,
          0.7001565650950667,
          0.7001565650950667,
          0.7001565650950667,
          0.7001565650950667,
          0.7001565650950667,
          0.7001565650950667,
          0.7001565650950667,
          0.7001565650950667,
          0.7001565650950667
         ]
        }
       ],
       "layout": {
        "template": {
         "data": {
          "bar": [
           {
            "error_x": {
             "color": "#2a3f5f"
            },
            "error_y": {
             "color": "#2a3f5f"
            },
            "marker": {
             "line": {
              "color": "#E5ECF6",
              "width": 0.5
             }
            },
            "type": "bar"
           }
          ],
          "barpolar": [
           {
            "marker": {
             "line": {
              "color": "#E5ECF6",
              "width": 0.5
             }
            },
            "type": "barpolar"
           }
          ],
          "carpet": [
           {
            "aaxis": {
             "endlinecolor": "#2a3f5f",
             "gridcolor": "white",
             "linecolor": "white",
             "minorgridcolor": "white",
             "startlinecolor": "#2a3f5f"
            },
            "baxis": {
             "endlinecolor": "#2a3f5f",
             "gridcolor": "white",
             "linecolor": "white",
             "minorgridcolor": "white",
             "startlinecolor": "#2a3f5f"
            },
            "type": "carpet"
           }
          ],
          "choropleth": [
           {
            "colorbar": {
             "outlinewidth": 0,
             "ticks": ""
            },
            "type": "choropleth"
           }
          ],
          "contour": [
           {
            "colorbar": {
             "outlinewidth": 0,
             "ticks": ""
            },
            "colorscale": [
             [
              0,
              "#0d0887"
             ],
             [
              0.1111111111111111,
              "#46039f"
             ],
             [
              0.2222222222222222,
              "#7201a8"
             ],
             [
              0.3333333333333333,
              "#9c179e"
             ],
             [
              0.4444444444444444,
              "#bd3786"
             ],
             [
              0.5555555555555556,
              "#d8576b"
             ],
             [
              0.6666666666666666,
              "#ed7953"
             ],
             [
              0.7777777777777778,
              "#fb9f3a"
             ],
             [
              0.8888888888888888,
              "#fdca26"
             ],
             [
              1,
              "#f0f921"
             ]
            ],
            "type": "contour"
           }
          ],
          "contourcarpet": [
           {
            "colorbar": {
             "outlinewidth": 0,
             "ticks": ""
            },
            "type": "contourcarpet"
           }
          ],
          "heatmap": [
           {
            "colorbar": {
             "outlinewidth": 0,
             "ticks": ""
            },
            "colorscale": [
             [
              0,
              "#0d0887"
             ],
             [
              0.1111111111111111,
              "#46039f"
             ],
             [
              0.2222222222222222,
              "#7201a8"
             ],
             [
              0.3333333333333333,
              "#9c179e"
             ],
             [
              0.4444444444444444,
              "#bd3786"
             ],
             [
              0.5555555555555556,
              "#d8576b"
             ],
             [
              0.6666666666666666,
              "#ed7953"
             ],
             [
              0.7777777777777778,
              "#fb9f3a"
             ],
             [
              0.8888888888888888,
              "#fdca26"
             ],
             [
              1,
              "#f0f921"
             ]
            ],
            "type": "heatmap"
           }
          ],
          "heatmapgl": [
           {
            "colorbar": {
             "outlinewidth": 0,
             "ticks": ""
            },
            "colorscale": [
             [
              0,
              "#0d0887"
             ],
             [
              0.1111111111111111,
              "#46039f"
             ],
             [
              0.2222222222222222,
              "#7201a8"
             ],
             [
              0.3333333333333333,
              "#9c179e"
             ],
             [
              0.4444444444444444,
              "#bd3786"
             ],
             [
              0.5555555555555556,
              "#d8576b"
             ],
             [
              0.6666666666666666,
              "#ed7953"
             ],
             [
              0.7777777777777778,
              "#fb9f3a"
             ],
             [
              0.8888888888888888,
              "#fdca26"
             ],
             [
              1,
              "#f0f921"
             ]
            ],
            "type": "heatmapgl"
           }
          ],
          "histogram": [
           {
            "marker": {
             "colorbar": {
              "outlinewidth": 0,
              "ticks": ""
             }
            },
            "type": "histogram"
           }
          ],
          "histogram2d": [
           {
            "colorbar": {
             "outlinewidth": 0,
             "ticks": ""
            },
            "colorscale": [
             [
              0,
              "#0d0887"
             ],
             [
              0.1111111111111111,
              "#46039f"
             ],
             [
              0.2222222222222222,
              "#7201a8"
             ],
             [
              0.3333333333333333,
              "#9c179e"
             ],
             [
              0.4444444444444444,
              "#bd3786"
             ],
             [
              0.5555555555555556,
              "#d8576b"
             ],
             [
              0.6666666666666666,
              "#ed7953"
             ],
             [
              0.7777777777777778,
              "#fb9f3a"
             ],
             [
              0.8888888888888888,
              "#fdca26"
             ],
             [
              1,
              "#f0f921"
             ]
            ],
            "type": "histogram2d"
           }
          ],
          "histogram2dcontour": [
           {
            "colorbar": {
             "outlinewidth": 0,
             "ticks": ""
            },
            "colorscale": [
             [
              0,
              "#0d0887"
             ],
             [
              0.1111111111111111,
              "#46039f"
             ],
             [
              0.2222222222222222,
              "#7201a8"
             ],
             [
              0.3333333333333333,
              "#9c179e"
             ],
             [
              0.4444444444444444,
              "#bd3786"
             ],
             [
              0.5555555555555556,
              "#d8576b"
             ],
             [
              0.6666666666666666,
              "#ed7953"
             ],
             [
              0.7777777777777778,
              "#fb9f3a"
             ],
             [
              0.8888888888888888,
              "#fdca26"
             ],
             [
              1,
              "#f0f921"
             ]
            ],
            "type": "histogram2dcontour"
           }
          ],
          "mesh3d": [
           {
            "colorbar": {
             "outlinewidth": 0,
             "ticks": ""
            },
            "type": "mesh3d"
           }
          ],
          "parcoords": [
           {
            "line": {
             "colorbar": {
              "outlinewidth": 0,
              "ticks": ""
             }
            },
            "type": "parcoords"
           }
          ],
          "pie": [
           {
            "automargin": true,
            "type": "pie"
           }
          ],
          "scatter": [
           {
            "marker": {
             "colorbar": {
              "outlinewidth": 0,
              "ticks": ""
             }
            },
            "type": "scatter"
           }
          ],
          "scatter3d": [
           {
            "line": {
             "colorbar": {
              "outlinewidth": 0,
              "ticks": ""
             }
            },
            "marker": {
             "colorbar": {
              "outlinewidth": 0,
              "ticks": ""
             }
            },
            "type": "scatter3d"
           }
          ],
          "scattercarpet": [
           {
            "marker": {
             "colorbar": {
              "outlinewidth": 0,
              "ticks": ""
             }
            },
            "type": "scattercarpet"
           }
          ],
          "scattergeo": [
           {
            "marker": {
             "colorbar": {
              "outlinewidth": 0,
              "ticks": ""
             }
            },
            "type": "scattergeo"
           }
          ],
          "scattergl": [
           {
            "marker": {
             "colorbar": {
              "outlinewidth": 0,
              "ticks": ""
             }
            },
            "type": "scattergl"
           }
          ],
          "scattermapbox": [
           {
            "marker": {
             "colorbar": {
              "outlinewidth": 0,
              "ticks": ""
             }
            },
            "type": "scattermapbox"
           }
          ],
          "scatterpolar": [
           {
            "marker": {
             "colorbar": {
              "outlinewidth": 0,
              "ticks": ""
             }
            },
            "type": "scatterpolar"
           }
          ],
          "scatterpolargl": [
           {
            "marker": {
             "colorbar": {
              "outlinewidth": 0,
              "ticks": ""
             }
            },
            "type": "scatterpolargl"
           }
          ],
          "scatterternary": [
           {
            "marker": {
             "colorbar": {
              "outlinewidth": 0,
              "ticks": ""
             }
            },
            "type": "scatterternary"
           }
          ],
          "surface": [
           {
            "colorbar": {
             "outlinewidth": 0,
             "ticks": ""
            },
            "colorscale": [
             [
              0,
              "#0d0887"
             ],
             [
              0.1111111111111111,
              "#46039f"
             ],
             [
              0.2222222222222222,
              "#7201a8"
             ],
             [
              0.3333333333333333,
              "#9c179e"
             ],
             [
              0.4444444444444444,
              "#bd3786"
             ],
             [
              0.5555555555555556,
              "#d8576b"
             ],
             [
              0.6666666666666666,
              "#ed7953"
             ],
             [
              0.7777777777777778,
              "#fb9f3a"
             ],
             [
              0.8888888888888888,
              "#fdca26"
             ],
             [
              1,
              "#f0f921"
             ]
            ],
            "type": "surface"
           }
          ],
          "table": [
           {
            "cells": {
             "fill": {
              "color": "#EBF0F8"
             },
             "line": {
              "color": "white"
             }
            },
            "header": {
             "fill": {
              "color": "#C8D4E3"
             },
             "line": {
              "color": "white"
             }
            },
            "type": "table"
           }
          ]
         },
         "layout": {
          "annotationdefaults": {
           "arrowcolor": "#2a3f5f",
           "arrowhead": 0,
           "arrowwidth": 1
          },
          "coloraxis": {
           "colorbar": {
            "outlinewidth": 0,
            "ticks": ""
           }
          },
          "colorscale": {
           "diverging": [
            [
             0,
             "#8e0152"
            ],
            [
             0.1,
             "#c51b7d"
            ],
            [
             0.2,
             "#de77ae"
            ],
            [
             0.3,
             "#f1b6da"
            ],
            [
             0.4,
             "#fde0ef"
            ],
            [
             0.5,
             "#f7f7f7"
            ],
            [
             0.6,
             "#e6f5d0"
            ],
            [
             0.7,
             "#b8e186"
            ],
            [
             0.8,
             "#7fbc41"
            ],
            [
             0.9,
             "#4d9221"
            ],
            [
             1,
             "#276419"
            ]
           ],
           "sequential": [
            [
             0,
             "#0d0887"
            ],
            [
             0.1111111111111111,
             "#46039f"
            ],
            [
             0.2222222222222222,
             "#7201a8"
            ],
            [
             0.3333333333333333,
             "#9c179e"
            ],
            [
             0.4444444444444444,
             "#bd3786"
            ],
            [
             0.5555555555555556,
             "#d8576b"
            ],
            [
             0.6666666666666666,
             "#ed7953"
            ],
            [
             0.7777777777777778,
             "#fb9f3a"
            ],
            [
             0.8888888888888888,
             "#fdca26"
            ],
            [
             1,
             "#f0f921"
            ]
           ],
           "sequentialminus": [
            [
             0,
             "#0d0887"
            ],
            [
             0.1111111111111111,
             "#46039f"
            ],
            [
             0.2222222222222222,
             "#7201a8"
            ],
            [
             0.3333333333333333,
             "#9c179e"
            ],
            [
             0.4444444444444444,
             "#bd3786"
            ],
            [
             0.5555555555555556,
             "#d8576b"
            ],
            [
             0.6666666666666666,
             "#ed7953"
            ],
            [
             0.7777777777777778,
             "#fb9f3a"
            ],
            [
             0.8888888888888888,
             "#fdca26"
            ],
            [
             1,
             "#f0f921"
            ]
           ]
          },
          "colorway": [
           "#636efa",
           "#EF553B",
           "#00cc96",
           "#ab63fa",
           "#FFA15A",
           "#19d3f3",
           "#FF6692",
           "#B6E880",
           "#FF97FF",
           "#FECB52"
          ],
          "font": {
           "color": "#2a3f5f"
          },
          "geo": {
           "bgcolor": "white",
           "lakecolor": "white",
           "landcolor": "#E5ECF6",
           "showlakes": true,
           "showland": true,
           "subunitcolor": "white"
          },
          "hoverlabel": {
           "align": "left"
          },
          "hovermode": "closest",
          "mapbox": {
           "style": "light"
          },
          "paper_bgcolor": "white",
          "plot_bgcolor": "#E5ECF6",
          "polar": {
           "angularaxis": {
            "gridcolor": "white",
            "linecolor": "white",
            "ticks": ""
           },
           "bgcolor": "#E5ECF6",
           "radialaxis": {
            "gridcolor": "white",
            "linecolor": "white",
            "ticks": ""
           }
          },
          "scene": {
           "xaxis": {
            "backgroundcolor": "#E5ECF6",
            "gridcolor": "white",
            "gridwidth": 2,
            "linecolor": "white",
            "showbackground": true,
            "ticks": "",
            "zerolinecolor": "white"
           },
           "yaxis": {
            "backgroundcolor": "#E5ECF6",
            "gridcolor": "white",
            "gridwidth": 2,
            "linecolor": "white",
            "showbackground": true,
            "ticks": "",
            "zerolinecolor": "white"
           },
           "zaxis": {
            "backgroundcolor": "#E5ECF6",
            "gridcolor": "white",
            "gridwidth": 2,
            "linecolor": "white",
            "showbackground": true,
            "ticks": "",
            "zerolinecolor": "white"
           }
          },
          "shapedefaults": {
           "line": {
            "color": "#2a3f5f"
           }
          },
          "ternary": {
           "aaxis": {
            "gridcolor": "white",
            "linecolor": "white",
            "ticks": ""
           },
           "baxis": {
            "gridcolor": "white",
            "linecolor": "white",
            "ticks": ""
           },
           "bgcolor": "#E5ECF6",
           "caxis": {
            "gridcolor": "white",
            "linecolor": "white",
            "ticks": ""
           }
          },
          "title": {
           "x": 0.05
          },
          "xaxis": {
           "automargin": true,
           "gridcolor": "white",
           "linecolor": "white",
           "ticks": "",
           "title": {
            "standoff": 15
           },
           "zerolinecolor": "white",
           "zerolinewidth": 2
          },
          "yaxis": {
           "automargin": true,
           "gridcolor": "white",
           "linecolor": "white",
           "ticks": "",
           "title": {
            "standoff": 15
           },
           "zerolinecolor": "white",
           "zerolinewidth": 2
          }
         }
        },
        "title": {
         "text": "Turnout by area"
        },
        "xaxis": {
         "title": {
          "text": "Poll stations"
         }
        },
        "yaxis": {
         "title": {
          "text": "Turnout"
         }
        }
       }
      },
      "text/html": [
       "<div>\n",
       "        \n",
       "        \n",
       "            <div id=\"8707f26d-bb0e-4c50-a400-581b23cca1c3\" class=\"plotly-graph-div\" style=\"height:525px; width:100%;\"></div>\n",
       "            <script type=\"text/javascript\">\n",
       "                require([\"plotly\"], function(Plotly) {\n",
       "                    window.PLOTLYENV=window.PLOTLYENV || {};\n",
       "                    \n",
       "                if (document.getElementById(\"8707f26d-bb0e-4c50-a400-581b23cca1c3\")) {\n",
       "                    Plotly.newPlot(\n",
       "                        '8707f26d-bb0e-4c50-a400-581b23cca1c3',\n",
       "                        [{\"mode\": \"markers\", \"name\": \"wrong voters\", \"text\": [\"07-004-0051 (481) 2.788\"], \"type\": \"scatter\", \"x\": [264], \"y\": [0.774812030075188]}, {\"mode\": \"markers\", \"name\": \"no-observers\", \"text\": [], \"type\": \"scatter\", \"x\": [], \"y\": []}, {\"mode\": \"markers\", \"name\": \"major\", \"text\": [], \"type\": \"scatter\", \"x\": [], \"y\": []}, {\"mode\": \"markers\", \"name\": \"minor\", \"text\": [\"07-001-0010 (164) 2.911\", \"07-001-0060 (214) 1.832\", \"07-006-0037 (560) 2.127\", \"07-008-0070 (737) 1.914\", \"07-008-0079 (746) 1.773\"], \"type\": \"scatter\", \"x\": [233, 237, 272, 275, 276], \"y\": [0.6401557285873193, 0.652738565782044, 0.5767934520943668, 0.6200345423143351, 0.6966516741629185]}, {\"mode\": \"markers\", \"name\": \"ok\", \"text\": [\"07-001-0008 (162) 2.64\", \"07-001-0012 (166) 2.608\", \"07-001-0022 (176) 2.799\", \"07-002-0044 (294) 1.377\", \"07-002-0051 (301) 2.047\", \"07-002-0060 (310) 1.691\", \"07-003-0002 (326) 2.095\", \"07-003-0085 (409) 2.284\", \"07-005-0021 (507) 1.375\", \"07-006-0072 (595) 2.42\", \"07-008-0057 (724) 1.667\"], \"type\": \"scatter\", \"x\": [232, 234, 236, 240, 241, 242, 253, 256, 267, 273, 274], \"y\": [0.6192519926425506, 0.7902777777777777, 0.8521681997371879, 0.7864669994453688, 0.7631426920854997, 0.6681614349775785, 0.6035502958579881, 0.7170454545454545, 0.7817460317460317, 0.6733902249806051, 0.6862745098039216]}, {\"mode\": \"lines\", \"name\": \"avg\", \"text\": [\"07-001-0008 (162)\", \"07-001-0010 (164)\", \"07-001-0012 (166)\", \"07-001-0022 (176)\", \"07-001-0060 (214)\", \"07-002-0044 (294)\", \"07-002-0051 (301)\", \"07-002-0060 (310)\", \"07-003-0002 (326)\", \"07-003-0085 (409)\", \"07-004-0051 (481)\", \"07-005-0021 (507)\", \"07-006-0037 (560)\", \"07-006-0072 (595)\", \"07-008-0057 (724)\", \"07-008-0070 (737)\", \"07-008-0079 (746)\"], \"type\": \"scatter\", \"x\": [232, 233, 234, 236, 237, 240, 241, 242, 253, 256, 264, 267, 272, 273, 274, 275, 276], \"y\": [0.7001565650950667, 0.7001565650950667, 0.7001565650950667, 0.7001565650950667, 0.7001565650950667, 0.7001565650950667, 0.7001565650950667, 0.7001565650950667, 0.7001565650950667, 0.7001565650950667, 0.7001565650950667, 0.7001565650950667, 0.7001565650950667, 0.7001565650950667, 0.7001565650950667, 0.7001565650950667, 0.7001565650950667]}],\n",
       "                        {\"template\": {\"data\": {\"bar\": [{\"error_x\": {\"color\": \"#2a3f5f\"}, \"error_y\": {\"color\": \"#2a3f5f\"}, \"marker\": {\"line\": {\"color\": \"#E5ECF6\", \"width\": 0.5}}, \"type\": \"bar\"}], \"barpolar\": [{\"marker\": {\"line\": {\"color\": \"#E5ECF6\", \"width\": 0.5}}, \"type\": \"barpolar\"}], \"carpet\": [{\"aaxis\": {\"endlinecolor\": \"#2a3f5f\", \"gridcolor\": \"white\", \"linecolor\": \"white\", \"minorgridcolor\": \"white\", \"startlinecolor\": \"#2a3f5f\"}, \"baxis\": {\"endlinecolor\": \"#2a3f5f\", \"gridcolor\": \"white\", \"linecolor\": \"white\", \"minorgridcolor\": \"white\", \"startlinecolor\": \"#2a3f5f\"}, \"type\": \"carpet\"}], \"choropleth\": [{\"colorbar\": {\"outlinewidth\": 0, \"ticks\": \"\"}, \"type\": \"choropleth\"}], \"contour\": [{\"colorbar\": {\"outlinewidth\": 0, \"ticks\": \"\"}, \"colorscale\": [[0.0, \"#0d0887\"], [0.1111111111111111, \"#46039f\"], [0.2222222222222222, \"#7201a8\"], [0.3333333333333333, \"#9c179e\"], [0.4444444444444444, \"#bd3786\"], [0.5555555555555556, \"#d8576b\"], [0.6666666666666666, \"#ed7953\"], [0.7777777777777778, \"#fb9f3a\"], [0.8888888888888888, \"#fdca26\"], [1.0, \"#f0f921\"]], \"type\": \"contour\"}], \"contourcarpet\": [{\"colorbar\": {\"outlinewidth\": 0, \"ticks\": \"\"}, \"type\": \"contourcarpet\"}], \"heatmap\": [{\"colorbar\": {\"outlinewidth\": 0, \"ticks\": \"\"}, \"colorscale\": [[0.0, \"#0d0887\"], [0.1111111111111111, \"#46039f\"], [0.2222222222222222, \"#7201a8\"], [0.3333333333333333, \"#9c179e\"], [0.4444444444444444, \"#bd3786\"], [0.5555555555555556, \"#d8576b\"], [0.6666666666666666, \"#ed7953\"], [0.7777777777777778, \"#fb9f3a\"], [0.8888888888888888, \"#fdca26\"], [1.0, \"#f0f921\"]], \"type\": \"heatmap\"}], \"heatmapgl\": [{\"colorbar\": {\"outlinewidth\": 0, \"ticks\": \"\"}, \"colorscale\": [[0.0, \"#0d0887\"], [0.1111111111111111, \"#46039f\"], [0.2222222222222222, \"#7201a8\"], [0.3333333333333333, \"#9c179e\"], [0.4444444444444444, \"#bd3786\"], [0.5555555555555556, \"#d8576b\"], [0.6666666666666666, \"#ed7953\"], [0.7777777777777778, \"#fb9f3a\"], [0.8888888888888888, \"#fdca26\"], [1.0, \"#f0f921\"]], \"type\": \"heatmapgl\"}], \"histogram\": [{\"marker\": {\"colorbar\": {\"outlinewidth\": 0, \"ticks\": \"\"}}, \"type\": \"histogram\"}], \"histogram2d\": [{\"colorbar\": {\"outlinewidth\": 0, \"ticks\": \"\"}, \"colorscale\": [[0.0, \"#0d0887\"], [0.1111111111111111, \"#46039f\"], [0.2222222222222222, \"#7201a8\"], [0.3333333333333333, \"#9c179e\"], [0.4444444444444444, \"#bd3786\"], [0.5555555555555556, \"#d8576b\"], [0.6666666666666666, \"#ed7953\"], [0.7777777777777778, \"#fb9f3a\"], [0.8888888888888888, \"#fdca26\"], [1.0, \"#f0f921\"]], \"type\": \"histogram2d\"}], \"histogram2dcontour\": [{\"colorbar\": {\"outlinewidth\": 0, \"ticks\": \"\"}, \"colorscale\": [[0.0, \"#0d0887\"], [0.1111111111111111, \"#46039f\"], [0.2222222222222222, \"#7201a8\"], [0.3333333333333333, \"#9c179e\"], [0.4444444444444444, \"#bd3786\"], [0.5555555555555556, \"#d8576b\"], [0.6666666666666666, \"#ed7953\"], [0.7777777777777778, \"#fb9f3a\"], [0.8888888888888888, \"#fdca26\"], [1.0, \"#f0f921\"]], \"type\": \"histogram2dcontour\"}], \"mesh3d\": [{\"colorbar\": {\"outlinewidth\": 0, \"ticks\": \"\"}, \"type\": \"mesh3d\"}], \"parcoords\": [{\"line\": {\"colorbar\": {\"outlinewidth\": 0, \"ticks\": \"\"}}, \"type\": \"parcoords\"}], \"pie\": [{\"automargin\": true, \"type\": \"pie\"}], \"scatter\": [{\"marker\": {\"colorbar\": {\"outlinewidth\": 0, \"ticks\": \"\"}}, \"type\": \"scatter\"}], \"scatter3d\": [{\"line\": {\"colorbar\": {\"outlinewidth\": 0, \"ticks\": \"\"}}, \"marker\": {\"colorbar\": {\"outlinewidth\": 0, \"ticks\": \"\"}}, \"type\": \"scatter3d\"}], \"scattercarpet\": [{\"marker\": {\"colorbar\": {\"outlinewidth\": 0, \"ticks\": \"\"}}, \"type\": \"scattercarpet\"}], \"scattergeo\": [{\"marker\": {\"colorbar\": {\"outlinewidth\": 0, \"ticks\": \"\"}}, \"type\": \"scattergeo\"}], \"scattergl\": [{\"marker\": {\"colorbar\": {\"outlinewidth\": 0, \"ticks\": \"\"}}, \"type\": \"scattergl\"}], \"scattermapbox\": [{\"marker\": {\"colorbar\": {\"outlinewidth\": 0, \"ticks\": \"\"}}, \"type\": \"scattermapbox\"}], \"scatterpolar\": [{\"marker\": {\"colorbar\": {\"outlinewidth\": 0, \"ticks\": \"\"}}, \"type\": \"scatterpolar\"}], \"scatterpolargl\": [{\"marker\": {\"colorbar\": {\"outlinewidth\": 0, \"ticks\": \"\"}}, \"type\": \"scatterpolargl\"}], \"scatterternary\": [{\"marker\": {\"colorbar\": {\"outlinewidth\": 0, \"ticks\": \"\"}}, \"type\": \"scatterternary\"}], \"surface\": [{\"colorbar\": {\"outlinewidth\": 0, \"ticks\": \"\"}, \"colorscale\": [[0.0, \"#0d0887\"], [0.1111111111111111, \"#46039f\"], [0.2222222222222222, \"#7201a8\"], [0.3333333333333333, \"#9c179e\"], [0.4444444444444444, \"#bd3786\"], [0.5555555555555556, \"#d8576b\"], [0.6666666666666666, \"#ed7953\"], [0.7777777777777778, \"#fb9f3a\"], [0.8888888888888888, \"#fdca26\"], [1.0, \"#f0f921\"]], \"type\": \"surface\"}], \"table\": [{\"cells\": {\"fill\": {\"color\": \"#EBF0F8\"}, \"line\": {\"color\": \"white\"}}, \"header\": {\"fill\": {\"color\": \"#C8D4E3\"}, \"line\": {\"color\": \"white\"}}, \"type\": \"table\"}]}, \"layout\": {\"annotationdefaults\": {\"arrowcolor\": \"#2a3f5f\", \"arrowhead\": 0, \"arrowwidth\": 1}, \"coloraxis\": {\"colorbar\": {\"outlinewidth\": 0, \"ticks\": \"\"}}, \"colorscale\": {\"diverging\": [[0, \"#8e0152\"], [0.1, \"#c51b7d\"], [0.2, \"#de77ae\"], [0.3, \"#f1b6da\"], [0.4, \"#fde0ef\"], [0.5, \"#f7f7f7\"], [0.6, \"#e6f5d0\"], [0.7, \"#b8e186\"], [0.8, \"#7fbc41\"], [0.9, \"#4d9221\"], [1, \"#276419\"]], \"sequential\": [[0.0, \"#0d0887\"], [0.1111111111111111, \"#46039f\"], [0.2222222222222222, \"#7201a8\"], [0.3333333333333333, \"#9c179e\"], [0.4444444444444444, \"#bd3786\"], [0.5555555555555556, \"#d8576b\"], [0.6666666666666666, \"#ed7953\"], [0.7777777777777778, \"#fb9f3a\"], [0.8888888888888888, \"#fdca26\"], [1.0, \"#f0f921\"]], \"sequentialminus\": [[0.0, \"#0d0887\"], [0.1111111111111111, \"#46039f\"], [0.2222222222222222, \"#7201a8\"], [0.3333333333333333, \"#9c179e\"], [0.4444444444444444, \"#bd3786\"], [0.5555555555555556, \"#d8576b\"], [0.6666666666666666, \"#ed7953\"], [0.7777777777777778, \"#fb9f3a\"], [0.8888888888888888, \"#fdca26\"], [1.0, \"#f0f921\"]]}, \"colorway\": [\"#636efa\", \"#EF553B\", \"#00cc96\", \"#ab63fa\", \"#FFA15A\", \"#19d3f3\", \"#FF6692\", \"#B6E880\", \"#FF97FF\", \"#FECB52\"], \"font\": {\"color\": \"#2a3f5f\"}, \"geo\": {\"bgcolor\": \"white\", \"lakecolor\": \"white\", \"landcolor\": \"#E5ECF6\", \"showlakes\": true, \"showland\": true, \"subunitcolor\": \"white\"}, \"hoverlabel\": {\"align\": \"left\"}, \"hovermode\": \"closest\", \"mapbox\": {\"style\": \"light\"}, \"paper_bgcolor\": \"white\", \"plot_bgcolor\": \"#E5ECF6\", \"polar\": {\"angularaxis\": {\"gridcolor\": \"white\", \"linecolor\": \"white\", \"ticks\": \"\"}, \"bgcolor\": \"#E5ECF6\", \"radialaxis\": {\"gridcolor\": \"white\", \"linecolor\": \"white\", \"ticks\": \"\"}}, \"scene\": {\"xaxis\": {\"backgroundcolor\": \"#E5ECF6\", \"gridcolor\": \"white\", \"gridwidth\": 2, \"linecolor\": \"white\", \"showbackground\": true, \"ticks\": \"\", \"zerolinecolor\": \"white\"}, \"yaxis\": {\"backgroundcolor\": \"#E5ECF6\", \"gridcolor\": \"white\", \"gridwidth\": 2, \"linecolor\": \"white\", \"showbackground\": true, \"ticks\": \"\", \"zerolinecolor\": \"white\"}, \"zaxis\": {\"backgroundcolor\": \"#E5ECF6\", \"gridcolor\": \"white\", \"gridwidth\": 2, \"linecolor\": \"white\", \"showbackground\": true, \"ticks\": \"\", \"zerolinecolor\": \"white\"}}, \"shapedefaults\": {\"line\": {\"color\": \"#2a3f5f\"}}, \"ternary\": {\"aaxis\": {\"gridcolor\": \"white\", \"linecolor\": \"white\", \"ticks\": \"\"}, \"baxis\": {\"gridcolor\": \"white\", \"linecolor\": \"white\", \"ticks\": \"\"}, \"bgcolor\": \"#E5ECF6\", \"caxis\": {\"gridcolor\": \"white\", \"linecolor\": \"white\", \"ticks\": \"\"}}, \"title\": {\"x\": 0.05}, \"xaxis\": {\"automargin\": true, \"gridcolor\": \"white\", \"linecolor\": \"white\", \"ticks\": \"\", \"title\": {\"standoff\": 15}, \"zerolinecolor\": \"white\", \"zerolinewidth\": 2}, \"yaxis\": {\"automargin\": true, \"gridcolor\": \"white\", \"linecolor\": \"white\", \"ticks\": \"\", \"title\": {\"standoff\": 15}, \"zerolinecolor\": \"white\", \"zerolinewidth\": 2}}}, \"title\": {\"text\": \"Turnout by area\"}, \"xaxis\": {\"title\": {\"text\": \"Poll stations\"}}, \"yaxis\": {\"title\": {\"text\": \"Turnout\"}}},\n",
       "                        {\"responsive\": true}\n",
       "                    ).then(function(){\n",
       "                            \n",
       "var gd = document.getElementById('8707f26d-bb0e-4c50-a400-581b23cca1c3');\n",
       "var x = new MutationObserver(function (mutations, observer) {{\n",
       "        var display = window.getComputedStyle(gd).display;\n",
       "        if (!display || display === 'none') {{\n",
       "            console.log([gd, 'removed!']);\n",
       "            Plotly.purge(gd);\n",
       "            observer.disconnect();\n",
       "        }}\n",
       "}});\n",
       "\n",
       "// Listen for the removal of the full notebook cells\n",
       "var notebookContainer = gd.closest('#notebook-container');\n",
       "if (notebookContainer) {{\n",
       "    x.observe(notebookContainer, {childList: true});\n",
       "}}\n",
       "\n",
       "// Listen for the clearing of the current output cell\n",
       "var outputEl = gd.closest('.output');\n",
       "if (outputEl) {{\n",
       "    x.observe(outputEl, {childList: true});\n",
       "}}\n",
       "\n",
       "                        })\n",
       "                };\n",
       "                });\n",
       "            </script>\n",
       "        </div>"
      ]
     },
     "metadata": {},
     "output_type": "display_data"
    }
   ],
   "source": [
    "turnout_detailed('capital', 7)"
   ]
  },
  {
   "cell_type": "code",
   "execution_count": 269,
   "metadata": {},
   "outputs": [],
   "source": [
    "def lu_to_tih(area):\n",
    "    fig = Figure(layout_title='Lu to Tih')\n",
    "    mask = df['area'] == area\n",
    "    \n",
    "    # print(df[mask & (df['id'] == '01-010-0011')])\n",
    "\n",
    "    for region in range(1, 9):\n",
    "        data = df[mask & (df['region'] == region)]\n",
    "        \n",
    "        observers = [zubr_observers[x] for x in data['id']]\n",
    "        \n",
    "        fig.add_trace(Scatter(\n",
    "            x=data['officialVotes'] / data['officialVoters'], \n",
    "            y=data['lukashenko_officialVotes'] / data['tihanovkaja_officialVotes'],\n",
    "            mode='markers',\n",
    "            name=f'T/L {region}',\n",
    "            text=[f'{a} ({b}) {c}' for a, b, c in zip(data['id'], data['zubr_id'], observers)],\n",
    "        ))\n",
    "        \n",
    "    fig.update_xaxes(title='Turnout')\n",
    "    fig.update_yaxes(title='L/T')\n",
    "\n",
    "\n",
    "    fig.show()"
   ]
  },
  {
   "cell_type": "code",
   "execution_count": 270,
   "metadata": {},
   "outputs": [
    {
     "data": {
      "application/vnd.plotly.v1+json": {
       "config": {
        "plotlyServerURL": "https://plot.ly"
       },
       "data": [
        {
         "mode": "markers",
         "name": "T/L 1",
         "text": [
          "01-049-0015 (1160) 3",
          "01-055-0002 (1376) 3",
          "01-055-0032 (1406) 2",
          "01-056-0019 (1429) 2",
          "01-063-0010 (1690) 1"
         ],
         "type": "scatter",
         "x": [
          0.9642857142857143,
          0.7474518686296716,
          0.8397873955960516,
          0.8827187916481564,
          0.7027809965237544
         ],
         "y": [
          0.47874149659863946,
          1.0713043478260869,
          0.6871609403254972,
          0.652049571020019,
          0.7318611987381703
         ]
        },
        {
         "mode": "markers",
         "name": "T/L 2",
         "text": [
          "02-065-0006 (1962) 1",
          "02-065-0007 (1963) 1",
          "02-073-0004 (2176) 2",
          "02-076-0008 (2299) 3",
          "02-077-0008 (2350) 6",
          "02-077-0019 (2361) 2",
          "02-081-0001 (2423) 0"
         ],
         "type": "scatter",
         "x": [
          1,
          0.7306569343065693,
          0.8561538461538462,
          0.9298751200768491,
          0.78125,
          0.830423940149626,
          0.7391089108910891
         ],
         "y": [
          1.437389770723104,
          1.3658536585365855,
          1.1804347826086956,
          2.2362637362637363,
          3.13125,
          0.8189473684210526,
          0.7226074895977809
         ]
        },
        {
         "mode": "markers",
         "name": "T/L 3",
         "text": [
          "03-091-0014 (2960) 2",
          "03-091-0016 (2962) 2",
          "03-091-0018 (2964) 1",
          "03-091-0021 (2967) 4",
          "03-091-0022 (2968) 3",
          "03-091-0027 (2973) 4",
          "03-091-0030 (2976) 1",
          "03-091-0032 (2978) 9",
          "03-091-0033 (2979) 2",
          "03-101-0008 (3365) 1"
         ],
         "type": "scatter",
         "x": [
          0.719626168224299,
          0.9297029702970298,
          0.6812977099236641,
          0.868382710053424,
          0.8425055928411633,
          0.8776470588235294,
          0.8513089005235602,
          0.9326488706365503,
          0.8864484044757563,
          0.912167026637869
         ],
         "y": [
          0.7234782608695652,
          0.6544715447154471,
          0.583547557840617,
          1.0175658720200753,
          1.1962864721485411,
          0.38589211618257263,
          1.017467248908297,
          0.36904761904761907,
          1.0644796380090498,
          1.2851153039832286
         ]
        },
        {
         "mode": "markers",
         "name": "T/L 4",
         "text": [
          "04-110-0003 (3785) 3",
          "04-114-0004 (3931) 2",
          "04-115-0002 (3968) 1",
          "04-115-0005 (3971) 2",
          "04-118-0004 (4040) 2",
          "04-119-0008 (4091) 3",
          "04-119-0013 (4096) 4",
          "04-119-0016 (4099) 1"
         ],
         "type": "scatter",
         "x": [
          0.7765881513204854,
          0.7934978928356412,
          0.9029585798816568,
          0.9646799116997793,
          0.927007299270073,
          0.7400513478818999,
          0.8422222222222222,
          0.8178861788617886
         ],
         "y": [
          0.7298747763864043,
          1.1865079365079365,
          1.1132686084142396,
          1.5745762711864406,
          1.2285012285012284,
          0.6256077795786061,
          1.1563876651982379,
          1.0647590361445782
         ]
        },
        {
         "mode": "markers",
         "name": "T/L 5",
         "text": [
          "05-027-0006 (4315) 5",
          "05-036-0003 (4683) 1",
          "05-036-0004 (4684) 2",
          "05-036-0020 (4700) 1",
          "05-036-0023 (4703) 2",
          "05-036-0029 (4709) 3",
          "05-036-0074 (4754) 1",
          "05-036-0075 (4755) 4",
          "05-040-0002 (4868) 1",
          "05-040-0008 (4874) 2",
          "05-041-0008 (4944) 2",
          "05-041-0035 (4971) 2",
          "05-044-0004 (5063) 0",
          "05-044-0007 (5066) 2"
         ],
         "type": "scatter",
         "x": [
          0.7259019924609585,
          0.7338709677419355,
          0.6879319510898458,
          0.7832829046898638,
          0.892328398384926,
          0.9035250463821892,
          0.8307984790874525,
          0.6730769230769231,
          0.8331220954795099,
          0.9544706527701591,
          0.8072702331961591,
          0.7169014084507043,
          0.7777070063694268,
          0.907744874715262
         ],
         "y": [
          1.039451114922813,
          1.0491803278688525,
          1.147196261682243,
          1.0790067720090293,
          2.5119521912350598,
          0.8367071524966262,
          0.7712519319938176,
          0.9289940828402367,
          0.8427672955974843,
          1.3378582202111613,
          0.5523012552301255,
          0.4932821497120921,
          0.4692202462380301,
          1.4750889679715302
         ]
        },
        {
         "mode": "markers",
         "name": "T/L 6",
         "text": [
          "06-129-0003 (5589) 2",
          "06-135-0011 (5751) 2"
         ],
         "type": "scatter",
         "x": [
          0.8163956639566395,
          0.8027923211169284
         ],
         "y": [
          2.0401146131805157,
          0.8809891808346213
         ]
        },
        {
         "mode": "markers",
         "name": "T/L 7",
         "text": [],
         "type": "scatter",
         "x": [],
         "y": []
        },
        {
         "mode": "markers",
         "name": "T/L 8",
         "text": [],
         "type": "scatter",
         "x": [],
         "y": []
        }
       ],
       "layout": {
        "template": {
         "data": {
          "bar": [
           {
            "error_x": {
             "color": "#2a3f5f"
            },
            "error_y": {
             "color": "#2a3f5f"
            },
            "marker": {
             "line": {
              "color": "#E5ECF6",
              "width": 0.5
             }
            },
            "type": "bar"
           }
          ],
          "barpolar": [
           {
            "marker": {
             "line": {
              "color": "#E5ECF6",
              "width": 0.5
             }
            },
            "type": "barpolar"
           }
          ],
          "carpet": [
           {
            "aaxis": {
             "endlinecolor": "#2a3f5f",
             "gridcolor": "white",
             "linecolor": "white",
             "minorgridcolor": "white",
             "startlinecolor": "#2a3f5f"
            },
            "baxis": {
             "endlinecolor": "#2a3f5f",
             "gridcolor": "white",
             "linecolor": "white",
             "minorgridcolor": "white",
             "startlinecolor": "#2a3f5f"
            },
            "type": "carpet"
           }
          ],
          "choropleth": [
           {
            "colorbar": {
             "outlinewidth": 0,
             "ticks": ""
            },
            "type": "choropleth"
           }
          ],
          "contour": [
           {
            "colorbar": {
             "outlinewidth": 0,
             "ticks": ""
            },
            "colorscale": [
             [
              0,
              "#0d0887"
             ],
             [
              0.1111111111111111,
              "#46039f"
             ],
             [
              0.2222222222222222,
              "#7201a8"
             ],
             [
              0.3333333333333333,
              "#9c179e"
             ],
             [
              0.4444444444444444,
              "#bd3786"
             ],
             [
              0.5555555555555556,
              "#d8576b"
             ],
             [
              0.6666666666666666,
              "#ed7953"
             ],
             [
              0.7777777777777778,
              "#fb9f3a"
             ],
             [
              0.8888888888888888,
              "#fdca26"
             ],
             [
              1,
              "#f0f921"
             ]
            ],
            "type": "contour"
           }
          ],
          "contourcarpet": [
           {
            "colorbar": {
             "outlinewidth": 0,
             "ticks": ""
            },
            "type": "contourcarpet"
           }
          ],
          "heatmap": [
           {
            "colorbar": {
             "outlinewidth": 0,
             "ticks": ""
            },
            "colorscale": [
             [
              0,
              "#0d0887"
             ],
             [
              0.1111111111111111,
              "#46039f"
             ],
             [
              0.2222222222222222,
              "#7201a8"
             ],
             [
              0.3333333333333333,
              "#9c179e"
             ],
             [
              0.4444444444444444,
              "#bd3786"
             ],
             [
              0.5555555555555556,
              "#d8576b"
             ],
             [
              0.6666666666666666,
              "#ed7953"
             ],
             [
              0.7777777777777778,
              "#fb9f3a"
             ],
             [
              0.8888888888888888,
              "#fdca26"
             ],
             [
              1,
              "#f0f921"
             ]
            ],
            "type": "heatmap"
           }
          ],
          "heatmapgl": [
           {
            "colorbar": {
             "outlinewidth": 0,
             "ticks": ""
            },
            "colorscale": [
             [
              0,
              "#0d0887"
             ],
             [
              0.1111111111111111,
              "#46039f"
             ],
             [
              0.2222222222222222,
              "#7201a8"
             ],
             [
              0.3333333333333333,
              "#9c179e"
             ],
             [
              0.4444444444444444,
              "#bd3786"
             ],
             [
              0.5555555555555556,
              "#d8576b"
             ],
             [
              0.6666666666666666,
              "#ed7953"
             ],
             [
              0.7777777777777778,
              "#fb9f3a"
             ],
             [
              0.8888888888888888,
              "#fdca26"
             ],
             [
              1,
              "#f0f921"
             ]
            ],
            "type": "heatmapgl"
           }
          ],
          "histogram": [
           {
            "marker": {
             "colorbar": {
              "outlinewidth": 0,
              "ticks": ""
             }
            },
            "type": "histogram"
           }
          ],
          "histogram2d": [
           {
            "colorbar": {
             "outlinewidth": 0,
             "ticks": ""
            },
            "colorscale": [
             [
              0,
              "#0d0887"
             ],
             [
              0.1111111111111111,
              "#46039f"
             ],
             [
              0.2222222222222222,
              "#7201a8"
             ],
             [
              0.3333333333333333,
              "#9c179e"
             ],
             [
              0.4444444444444444,
              "#bd3786"
             ],
             [
              0.5555555555555556,
              "#d8576b"
             ],
             [
              0.6666666666666666,
              "#ed7953"
             ],
             [
              0.7777777777777778,
              "#fb9f3a"
             ],
             [
              0.8888888888888888,
              "#fdca26"
             ],
             [
              1,
              "#f0f921"
             ]
            ],
            "type": "histogram2d"
           }
          ],
          "histogram2dcontour": [
           {
            "colorbar": {
             "outlinewidth": 0,
             "ticks": ""
            },
            "colorscale": [
             [
              0,
              "#0d0887"
             ],
             [
              0.1111111111111111,
              "#46039f"
             ],
             [
              0.2222222222222222,
              "#7201a8"
             ],
             [
              0.3333333333333333,
              "#9c179e"
             ],
             [
              0.4444444444444444,
              "#bd3786"
             ],
             [
              0.5555555555555556,
              "#d8576b"
             ],
             [
              0.6666666666666666,
              "#ed7953"
             ],
             [
              0.7777777777777778,
              "#fb9f3a"
             ],
             [
              0.8888888888888888,
              "#fdca26"
             ],
             [
              1,
              "#f0f921"
             ]
            ],
            "type": "histogram2dcontour"
           }
          ],
          "mesh3d": [
           {
            "colorbar": {
             "outlinewidth": 0,
             "ticks": ""
            },
            "type": "mesh3d"
           }
          ],
          "parcoords": [
           {
            "line": {
             "colorbar": {
              "outlinewidth": 0,
              "ticks": ""
             }
            },
            "type": "parcoords"
           }
          ],
          "pie": [
           {
            "automargin": true,
            "type": "pie"
           }
          ],
          "scatter": [
           {
            "marker": {
             "colorbar": {
              "outlinewidth": 0,
              "ticks": ""
             }
            },
            "type": "scatter"
           }
          ],
          "scatter3d": [
           {
            "line": {
             "colorbar": {
              "outlinewidth": 0,
              "ticks": ""
             }
            },
            "marker": {
             "colorbar": {
              "outlinewidth": 0,
              "ticks": ""
             }
            },
            "type": "scatter3d"
           }
          ],
          "scattercarpet": [
           {
            "marker": {
             "colorbar": {
              "outlinewidth": 0,
              "ticks": ""
             }
            },
            "type": "scattercarpet"
           }
          ],
          "scattergeo": [
           {
            "marker": {
             "colorbar": {
              "outlinewidth": 0,
              "ticks": ""
             }
            },
            "type": "scattergeo"
           }
          ],
          "scattergl": [
           {
            "marker": {
             "colorbar": {
              "outlinewidth": 0,
              "ticks": ""
             }
            },
            "type": "scattergl"
           }
          ],
          "scattermapbox": [
           {
            "marker": {
             "colorbar": {
              "outlinewidth": 0,
              "ticks": ""
             }
            },
            "type": "scattermapbox"
           }
          ],
          "scatterpolar": [
           {
            "marker": {
             "colorbar": {
              "outlinewidth": 0,
              "ticks": ""
             }
            },
            "type": "scatterpolar"
           }
          ],
          "scatterpolargl": [
           {
            "marker": {
             "colorbar": {
              "outlinewidth": 0,
              "ticks": ""
             }
            },
            "type": "scatterpolargl"
           }
          ],
          "scatterternary": [
           {
            "marker": {
             "colorbar": {
              "outlinewidth": 0,
              "ticks": ""
             }
            },
            "type": "scatterternary"
           }
          ],
          "surface": [
           {
            "colorbar": {
             "outlinewidth": 0,
             "ticks": ""
            },
            "colorscale": [
             [
              0,
              "#0d0887"
             ],
             [
              0.1111111111111111,
              "#46039f"
             ],
             [
              0.2222222222222222,
              "#7201a8"
             ],
             [
              0.3333333333333333,
              "#9c179e"
             ],
             [
              0.4444444444444444,
              "#bd3786"
             ],
             [
              0.5555555555555556,
              "#d8576b"
             ],
             [
              0.6666666666666666,
              "#ed7953"
             ],
             [
              0.7777777777777778,
              "#fb9f3a"
             ],
             [
              0.8888888888888888,
              "#fdca26"
             ],
             [
              1,
              "#f0f921"
             ]
            ],
            "type": "surface"
           }
          ],
          "table": [
           {
            "cells": {
             "fill": {
              "color": "#EBF0F8"
             },
             "line": {
              "color": "white"
             }
            },
            "header": {
             "fill": {
              "color": "#C8D4E3"
             },
             "line": {
              "color": "white"
             }
            },
            "type": "table"
           }
          ]
         },
         "layout": {
          "annotationdefaults": {
           "arrowcolor": "#2a3f5f",
           "arrowhead": 0,
           "arrowwidth": 1
          },
          "coloraxis": {
           "colorbar": {
            "outlinewidth": 0,
            "ticks": ""
           }
          },
          "colorscale": {
           "diverging": [
            [
             0,
             "#8e0152"
            ],
            [
             0.1,
             "#c51b7d"
            ],
            [
             0.2,
             "#de77ae"
            ],
            [
             0.3,
             "#f1b6da"
            ],
            [
             0.4,
             "#fde0ef"
            ],
            [
             0.5,
             "#f7f7f7"
            ],
            [
             0.6,
             "#e6f5d0"
            ],
            [
             0.7,
             "#b8e186"
            ],
            [
             0.8,
             "#7fbc41"
            ],
            [
             0.9,
             "#4d9221"
            ],
            [
             1,
             "#276419"
            ]
           ],
           "sequential": [
            [
             0,
             "#0d0887"
            ],
            [
             0.1111111111111111,
             "#46039f"
            ],
            [
             0.2222222222222222,
             "#7201a8"
            ],
            [
             0.3333333333333333,
             "#9c179e"
            ],
            [
             0.4444444444444444,
             "#bd3786"
            ],
            [
             0.5555555555555556,
             "#d8576b"
            ],
            [
             0.6666666666666666,
             "#ed7953"
            ],
            [
             0.7777777777777778,
             "#fb9f3a"
            ],
            [
             0.8888888888888888,
             "#fdca26"
            ],
            [
             1,
             "#f0f921"
            ]
           ],
           "sequentialminus": [
            [
             0,
             "#0d0887"
            ],
            [
             0.1111111111111111,
             "#46039f"
            ],
            [
             0.2222222222222222,
             "#7201a8"
            ],
            [
             0.3333333333333333,
             "#9c179e"
            ],
            [
             0.4444444444444444,
             "#bd3786"
            ],
            [
             0.5555555555555556,
             "#d8576b"
            ],
            [
             0.6666666666666666,
             "#ed7953"
            ],
            [
             0.7777777777777778,
             "#fb9f3a"
            ],
            [
             0.8888888888888888,
             "#fdca26"
            ],
            [
             1,
             "#f0f921"
            ]
           ]
          },
          "colorway": [
           "#636efa",
           "#EF553B",
           "#00cc96",
           "#ab63fa",
           "#FFA15A",
           "#19d3f3",
           "#FF6692",
           "#B6E880",
           "#FF97FF",
           "#FECB52"
          ],
          "font": {
           "color": "#2a3f5f"
          },
          "geo": {
           "bgcolor": "white",
           "lakecolor": "white",
           "landcolor": "#E5ECF6",
           "showlakes": true,
           "showland": true,
           "subunitcolor": "white"
          },
          "hoverlabel": {
           "align": "left"
          },
          "hovermode": "closest",
          "mapbox": {
           "style": "light"
          },
          "paper_bgcolor": "white",
          "plot_bgcolor": "#E5ECF6",
          "polar": {
           "angularaxis": {
            "gridcolor": "white",
            "linecolor": "white",
            "ticks": ""
           },
           "bgcolor": "#E5ECF6",
           "radialaxis": {
            "gridcolor": "white",
            "linecolor": "white",
            "ticks": ""
           }
          },
          "scene": {
           "xaxis": {
            "backgroundcolor": "#E5ECF6",
            "gridcolor": "white",
            "gridwidth": 2,
            "linecolor": "white",
            "showbackground": true,
            "ticks": "",
            "zerolinecolor": "white"
           },
           "yaxis": {
            "backgroundcolor": "#E5ECF6",
            "gridcolor": "white",
            "gridwidth": 2,
            "linecolor": "white",
            "showbackground": true,
            "ticks": "",
            "zerolinecolor": "white"
           },
           "zaxis": {
            "backgroundcolor": "#E5ECF6",
            "gridcolor": "white",
            "gridwidth": 2,
            "linecolor": "white",
            "showbackground": true,
            "ticks": "",
            "zerolinecolor": "white"
           }
          },
          "shapedefaults": {
           "line": {
            "color": "#2a3f5f"
           }
          },
          "ternary": {
           "aaxis": {
            "gridcolor": "white",
            "linecolor": "white",
            "ticks": ""
           },
           "baxis": {
            "gridcolor": "white",
            "linecolor": "white",
            "ticks": ""
           },
           "bgcolor": "#E5ECF6",
           "caxis": {
            "gridcolor": "white",
            "linecolor": "white",
            "ticks": ""
           }
          },
          "title": {
           "x": 0.05
          },
          "xaxis": {
           "automargin": true,
           "gridcolor": "white",
           "linecolor": "white",
           "ticks": "",
           "title": {
            "standoff": 15
           },
           "zerolinecolor": "white",
           "zerolinewidth": 2
          },
          "yaxis": {
           "automargin": true,
           "gridcolor": "white",
           "linecolor": "white",
           "ticks": "",
           "title": {
            "standoff": 15
           },
           "zerolinecolor": "white",
           "zerolinewidth": 2
          }
         }
        },
        "title": {
         "text": "Lu to Tih"
        },
        "xaxis": {
         "title": {
          "text": "Turnout"
         }
        },
        "yaxis": {
         "title": {
          "text": "L/T"
         }
        }
       }
      },
      "text/html": [
       "<div>\n",
       "        \n",
       "        \n",
       "            <div id=\"4cdf9962-35dd-409c-9b94-8e03d4cc1601\" class=\"plotly-graph-div\" style=\"height:525px; width:100%;\"></div>\n",
       "            <script type=\"text/javascript\">\n",
       "                require([\"plotly\"], function(Plotly) {\n",
       "                    window.PLOTLYENV=window.PLOTLYENV || {};\n",
       "                    \n",
       "                if (document.getElementById(\"4cdf9962-35dd-409c-9b94-8e03d4cc1601\")) {\n",
       "                    Plotly.newPlot(\n",
       "                        '4cdf9962-35dd-409c-9b94-8e03d4cc1601',\n",
       "                        [{\"mode\": \"markers\", \"name\": \"T/L 1\", \"text\": [\"01-049-0015 (1160) 3\", \"01-055-0002 (1376) 3\", \"01-055-0032 (1406) 2\", \"01-056-0019 (1429) 2\", \"01-063-0010 (1690) 1\"], \"type\": \"scatter\", \"x\": [0.9642857142857143, 0.7474518686296716, 0.8397873955960516, 0.8827187916481564, 0.7027809965237544], \"y\": [0.47874149659863946, 1.0713043478260869, 0.6871609403254972, 0.652049571020019, 0.7318611987381703]}, {\"mode\": \"markers\", \"name\": \"T/L 2\", \"text\": [\"02-065-0006 (1962) 1\", \"02-065-0007 (1963) 1\", \"02-073-0004 (2176) 2\", \"02-076-0008 (2299) 3\", \"02-077-0008 (2350) 6\", \"02-077-0019 (2361) 2\", \"02-081-0001 (2423) 0\"], \"type\": \"scatter\", \"x\": [1.0, 0.7306569343065693, 0.8561538461538462, 0.9298751200768491, 0.78125, 0.830423940149626, 0.7391089108910891], \"y\": [1.437389770723104, 1.3658536585365855, 1.1804347826086956, 2.2362637362637363, 3.13125, 0.8189473684210526, 0.7226074895977809]}, {\"mode\": \"markers\", \"name\": \"T/L 3\", \"text\": [\"03-091-0014 (2960) 2\", \"03-091-0016 (2962) 2\", \"03-091-0018 (2964) 1\", \"03-091-0021 (2967) 4\", \"03-091-0022 (2968) 3\", \"03-091-0027 (2973) 4\", \"03-091-0030 (2976) 1\", \"03-091-0032 (2978) 9\", \"03-091-0033 (2979) 2\", \"03-101-0008 (3365) 1\"], \"type\": \"scatter\", \"x\": [0.719626168224299, 0.9297029702970298, 0.6812977099236641, 0.868382710053424, 0.8425055928411633, 0.8776470588235294, 0.8513089005235602, 0.9326488706365503, 0.8864484044757563, 0.912167026637869], \"y\": [0.7234782608695652, 0.6544715447154471, 0.583547557840617, 1.0175658720200753, 1.1962864721485411, 0.38589211618257263, 1.017467248908297, 0.36904761904761907, 1.0644796380090498, 1.2851153039832286]}, {\"mode\": \"markers\", \"name\": \"T/L 4\", \"text\": [\"04-110-0003 (3785) 3\", \"04-114-0004 (3931) 2\", \"04-115-0002 (3968) 1\", \"04-115-0005 (3971) 2\", \"04-118-0004 (4040) 2\", \"04-119-0008 (4091) 3\", \"04-119-0013 (4096) 4\", \"04-119-0016 (4099) 1\"], \"type\": \"scatter\", \"x\": [0.7765881513204854, 0.7934978928356412, 0.9029585798816568, 0.9646799116997793, 0.927007299270073, 0.7400513478818999, 0.8422222222222222, 0.8178861788617886], \"y\": [0.7298747763864043, 1.1865079365079365, 1.1132686084142396, 1.5745762711864406, 1.2285012285012284, 0.6256077795786061, 1.1563876651982379, 1.0647590361445782]}, {\"mode\": \"markers\", \"name\": \"T/L 5\", \"text\": [\"05-027-0006 (4315) 5\", \"05-036-0003 (4683) 1\", \"05-036-0004 (4684) 2\", \"05-036-0020 (4700) 1\", \"05-036-0023 (4703) 2\", \"05-036-0029 (4709) 3\", \"05-036-0074 (4754) 1\", \"05-036-0075 (4755) 4\", \"05-040-0002 (4868) 1\", \"05-040-0008 (4874) 2\", \"05-041-0008 (4944) 2\", \"05-041-0035 (4971) 2\", \"05-044-0004 (5063) 0\", \"05-044-0007 (5066) 2\"], \"type\": \"scatter\", \"x\": [0.7259019924609585, 0.7338709677419355, 0.6879319510898458, 0.7832829046898638, 0.892328398384926, 0.9035250463821892, 0.8307984790874525, 0.6730769230769231, 0.8331220954795099, 0.9544706527701591, 0.8072702331961591, 0.7169014084507043, 0.7777070063694268, 0.907744874715262], \"y\": [1.039451114922813, 1.0491803278688525, 1.147196261682243, 1.0790067720090293, 2.5119521912350598, 0.8367071524966262, 0.7712519319938176, 0.9289940828402367, 0.8427672955974843, 1.3378582202111613, 0.5523012552301255, 0.4932821497120921, 0.4692202462380301, 1.4750889679715302]}, {\"mode\": \"markers\", \"name\": \"T/L 6\", \"text\": [\"06-129-0003 (5589) 2\", \"06-135-0011 (5751) 2\"], \"type\": \"scatter\", \"x\": [0.8163956639566395, 0.8027923211169284], \"y\": [2.0401146131805157, 0.8809891808346213]}, {\"mode\": \"markers\", \"name\": \"T/L 7\", \"text\": [], \"type\": \"scatter\", \"x\": [], \"y\": []}, {\"mode\": \"markers\", \"name\": \"T/L 8\", \"text\": [], \"type\": \"scatter\", \"x\": [], \"y\": []}],\n",
       "                        {\"template\": {\"data\": {\"bar\": [{\"error_x\": {\"color\": \"#2a3f5f\"}, \"error_y\": {\"color\": \"#2a3f5f\"}, \"marker\": {\"line\": {\"color\": \"#E5ECF6\", \"width\": 0.5}}, \"type\": \"bar\"}], \"barpolar\": [{\"marker\": {\"line\": {\"color\": \"#E5ECF6\", \"width\": 0.5}}, \"type\": \"barpolar\"}], \"carpet\": [{\"aaxis\": {\"endlinecolor\": \"#2a3f5f\", \"gridcolor\": \"white\", \"linecolor\": \"white\", \"minorgridcolor\": \"white\", \"startlinecolor\": \"#2a3f5f\"}, \"baxis\": {\"endlinecolor\": \"#2a3f5f\", \"gridcolor\": \"white\", \"linecolor\": \"white\", \"minorgridcolor\": \"white\", \"startlinecolor\": \"#2a3f5f\"}, \"type\": \"carpet\"}], \"choropleth\": [{\"colorbar\": {\"outlinewidth\": 0, \"ticks\": \"\"}, \"type\": \"choropleth\"}], \"contour\": [{\"colorbar\": {\"outlinewidth\": 0, \"ticks\": \"\"}, \"colorscale\": [[0.0, \"#0d0887\"], [0.1111111111111111, \"#46039f\"], [0.2222222222222222, \"#7201a8\"], [0.3333333333333333, \"#9c179e\"], [0.4444444444444444, \"#bd3786\"], [0.5555555555555556, \"#d8576b\"], [0.6666666666666666, \"#ed7953\"], [0.7777777777777778, \"#fb9f3a\"], [0.8888888888888888, \"#fdca26\"], [1.0, \"#f0f921\"]], \"type\": \"contour\"}], \"contourcarpet\": [{\"colorbar\": {\"outlinewidth\": 0, \"ticks\": \"\"}, \"type\": \"contourcarpet\"}], \"heatmap\": [{\"colorbar\": {\"outlinewidth\": 0, \"ticks\": \"\"}, \"colorscale\": [[0.0, \"#0d0887\"], [0.1111111111111111, \"#46039f\"], [0.2222222222222222, \"#7201a8\"], [0.3333333333333333, \"#9c179e\"], [0.4444444444444444, \"#bd3786\"], [0.5555555555555556, \"#d8576b\"], [0.6666666666666666, \"#ed7953\"], [0.7777777777777778, \"#fb9f3a\"], [0.8888888888888888, \"#fdca26\"], [1.0, \"#f0f921\"]], \"type\": \"heatmap\"}], \"heatmapgl\": [{\"colorbar\": {\"outlinewidth\": 0, \"ticks\": \"\"}, \"colorscale\": [[0.0, \"#0d0887\"], [0.1111111111111111, \"#46039f\"], [0.2222222222222222, \"#7201a8\"], [0.3333333333333333, \"#9c179e\"], [0.4444444444444444, \"#bd3786\"], [0.5555555555555556, \"#d8576b\"], [0.6666666666666666, \"#ed7953\"], [0.7777777777777778, \"#fb9f3a\"], [0.8888888888888888, \"#fdca26\"], [1.0, \"#f0f921\"]], \"type\": \"heatmapgl\"}], \"histogram\": [{\"marker\": {\"colorbar\": {\"outlinewidth\": 0, \"ticks\": \"\"}}, \"type\": \"histogram\"}], \"histogram2d\": [{\"colorbar\": {\"outlinewidth\": 0, \"ticks\": \"\"}, \"colorscale\": [[0.0, \"#0d0887\"], [0.1111111111111111, \"#46039f\"], [0.2222222222222222, \"#7201a8\"], [0.3333333333333333, \"#9c179e\"], [0.4444444444444444, \"#bd3786\"], [0.5555555555555556, \"#d8576b\"], [0.6666666666666666, \"#ed7953\"], [0.7777777777777778, \"#fb9f3a\"], [0.8888888888888888, \"#fdca26\"], [1.0, \"#f0f921\"]], \"type\": \"histogram2d\"}], \"histogram2dcontour\": [{\"colorbar\": {\"outlinewidth\": 0, \"ticks\": \"\"}, \"colorscale\": [[0.0, \"#0d0887\"], [0.1111111111111111, \"#46039f\"], [0.2222222222222222, \"#7201a8\"], [0.3333333333333333, \"#9c179e\"], [0.4444444444444444, \"#bd3786\"], [0.5555555555555556, \"#d8576b\"], [0.6666666666666666, \"#ed7953\"], [0.7777777777777778, \"#fb9f3a\"], [0.8888888888888888, \"#fdca26\"], [1.0, \"#f0f921\"]], \"type\": \"histogram2dcontour\"}], \"mesh3d\": [{\"colorbar\": {\"outlinewidth\": 0, \"ticks\": \"\"}, \"type\": \"mesh3d\"}], \"parcoords\": [{\"line\": {\"colorbar\": {\"outlinewidth\": 0, \"ticks\": \"\"}}, \"type\": \"parcoords\"}], \"pie\": [{\"automargin\": true, \"type\": \"pie\"}], \"scatter\": [{\"marker\": {\"colorbar\": {\"outlinewidth\": 0, \"ticks\": \"\"}}, \"type\": \"scatter\"}], \"scatter3d\": [{\"line\": {\"colorbar\": {\"outlinewidth\": 0, \"ticks\": \"\"}}, \"marker\": {\"colorbar\": {\"outlinewidth\": 0, \"ticks\": \"\"}}, \"type\": \"scatter3d\"}], \"scattercarpet\": [{\"marker\": {\"colorbar\": {\"outlinewidth\": 0, \"ticks\": \"\"}}, \"type\": \"scattercarpet\"}], \"scattergeo\": [{\"marker\": {\"colorbar\": {\"outlinewidth\": 0, \"ticks\": \"\"}}, \"type\": \"scattergeo\"}], \"scattergl\": [{\"marker\": {\"colorbar\": {\"outlinewidth\": 0, \"ticks\": \"\"}}, \"type\": \"scattergl\"}], \"scattermapbox\": [{\"marker\": {\"colorbar\": {\"outlinewidth\": 0, \"ticks\": \"\"}}, \"type\": \"scattermapbox\"}], \"scatterpolar\": [{\"marker\": {\"colorbar\": {\"outlinewidth\": 0, \"ticks\": \"\"}}, \"type\": \"scatterpolar\"}], \"scatterpolargl\": [{\"marker\": {\"colorbar\": {\"outlinewidth\": 0, \"ticks\": \"\"}}, \"type\": \"scatterpolargl\"}], \"scatterternary\": [{\"marker\": {\"colorbar\": {\"outlinewidth\": 0, \"ticks\": \"\"}}, \"type\": \"scatterternary\"}], \"surface\": [{\"colorbar\": {\"outlinewidth\": 0, \"ticks\": \"\"}, \"colorscale\": [[0.0, \"#0d0887\"], [0.1111111111111111, \"#46039f\"], [0.2222222222222222, \"#7201a8\"], [0.3333333333333333, \"#9c179e\"], [0.4444444444444444, \"#bd3786\"], [0.5555555555555556, \"#d8576b\"], [0.6666666666666666, \"#ed7953\"], [0.7777777777777778, \"#fb9f3a\"], [0.8888888888888888, \"#fdca26\"], [1.0, \"#f0f921\"]], \"type\": \"surface\"}], \"table\": [{\"cells\": {\"fill\": {\"color\": \"#EBF0F8\"}, \"line\": {\"color\": \"white\"}}, \"header\": {\"fill\": {\"color\": \"#C8D4E3\"}, \"line\": {\"color\": \"white\"}}, \"type\": \"table\"}]}, \"layout\": {\"annotationdefaults\": {\"arrowcolor\": \"#2a3f5f\", \"arrowhead\": 0, \"arrowwidth\": 1}, \"coloraxis\": {\"colorbar\": {\"outlinewidth\": 0, \"ticks\": \"\"}}, \"colorscale\": {\"diverging\": [[0, \"#8e0152\"], [0.1, \"#c51b7d\"], [0.2, \"#de77ae\"], [0.3, \"#f1b6da\"], [0.4, \"#fde0ef\"], [0.5, \"#f7f7f7\"], [0.6, \"#e6f5d0\"], [0.7, \"#b8e186\"], [0.8, \"#7fbc41\"], [0.9, \"#4d9221\"], [1, \"#276419\"]], \"sequential\": [[0.0, \"#0d0887\"], [0.1111111111111111, \"#46039f\"], [0.2222222222222222, \"#7201a8\"], [0.3333333333333333, \"#9c179e\"], [0.4444444444444444, \"#bd3786\"], [0.5555555555555556, \"#d8576b\"], [0.6666666666666666, \"#ed7953\"], [0.7777777777777778, \"#fb9f3a\"], [0.8888888888888888, \"#fdca26\"], [1.0, \"#f0f921\"]], \"sequentialminus\": [[0.0, \"#0d0887\"], [0.1111111111111111, \"#46039f\"], [0.2222222222222222, \"#7201a8\"], [0.3333333333333333, \"#9c179e\"], [0.4444444444444444, \"#bd3786\"], [0.5555555555555556, \"#d8576b\"], [0.6666666666666666, \"#ed7953\"], [0.7777777777777778, \"#fb9f3a\"], [0.8888888888888888, \"#fdca26\"], [1.0, \"#f0f921\"]]}, \"colorway\": [\"#636efa\", \"#EF553B\", \"#00cc96\", \"#ab63fa\", \"#FFA15A\", \"#19d3f3\", \"#FF6692\", \"#B6E880\", \"#FF97FF\", \"#FECB52\"], \"font\": {\"color\": \"#2a3f5f\"}, \"geo\": {\"bgcolor\": \"white\", \"lakecolor\": \"white\", \"landcolor\": \"#E5ECF6\", \"showlakes\": true, \"showland\": true, \"subunitcolor\": \"white\"}, \"hoverlabel\": {\"align\": \"left\"}, \"hovermode\": \"closest\", \"mapbox\": {\"style\": \"light\"}, \"paper_bgcolor\": \"white\", \"plot_bgcolor\": \"#E5ECF6\", \"polar\": {\"angularaxis\": {\"gridcolor\": \"white\", \"linecolor\": \"white\", \"ticks\": \"\"}, \"bgcolor\": \"#E5ECF6\", \"radialaxis\": {\"gridcolor\": \"white\", \"linecolor\": \"white\", \"ticks\": \"\"}}, \"scene\": {\"xaxis\": {\"backgroundcolor\": \"#E5ECF6\", \"gridcolor\": \"white\", \"gridwidth\": 2, \"linecolor\": \"white\", \"showbackground\": true, \"ticks\": \"\", \"zerolinecolor\": \"white\"}, \"yaxis\": {\"backgroundcolor\": \"#E5ECF6\", \"gridcolor\": \"white\", \"gridwidth\": 2, \"linecolor\": \"white\", \"showbackground\": true, \"ticks\": \"\", \"zerolinecolor\": \"white\"}, \"zaxis\": {\"backgroundcolor\": \"#E5ECF6\", \"gridcolor\": \"white\", \"gridwidth\": 2, \"linecolor\": \"white\", \"showbackground\": true, \"ticks\": \"\", \"zerolinecolor\": \"white\"}}, \"shapedefaults\": {\"line\": {\"color\": \"#2a3f5f\"}}, \"ternary\": {\"aaxis\": {\"gridcolor\": \"white\", \"linecolor\": \"white\", \"ticks\": \"\"}, \"baxis\": {\"gridcolor\": \"white\", \"linecolor\": \"white\", \"ticks\": \"\"}, \"bgcolor\": \"#E5ECF6\", \"caxis\": {\"gridcolor\": \"white\", \"linecolor\": \"white\", \"ticks\": \"\"}}, \"title\": {\"x\": 0.05}, \"xaxis\": {\"automargin\": true, \"gridcolor\": \"white\", \"linecolor\": \"white\", \"ticks\": \"\", \"title\": {\"standoff\": 15}, \"zerolinecolor\": \"white\", \"zerolinewidth\": 2}, \"yaxis\": {\"automargin\": true, \"gridcolor\": \"white\", \"linecolor\": \"white\", \"ticks\": \"\", \"title\": {\"standoff\": 15}, \"zerolinecolor\": \"white\", \"zerolinewidth\": 2}}}, \"title\": {\"text\": \"Lu to Tih\"}, \"xaxis\": {\"title\": {\"text\": \"Turnout\"}}, \"yaxis\": {\"title\": {\"text\": \"L/T\"}}},\n",
       "                        {\"responsive\": true}\n",
       "                    ).then(function(){\n",
       "                            \n",
       "var gd = document.getElementById('4cdf9962-35dd-409c-9b94-8e03d4cc1601');\n",
       "var x = new MutationObserver(function (mutations, observer) {{\n",
       "        var display = window.getComputedStyle(gd).display;\n",
       "        if (!display || display === 'none') {{\n",
       "            console.log([gd, 'removed!']);\n",
       "            Plotly.purge(gd);\n",
       "            observer.disconnect();\n",
       "        }}\n",
       "}});\n",
       "\n",
       "// Listen for the removal of the full notebook cells\n",
       "var notebookContainer = gd.closest('#notebook-container');\n",
       "if (notebookContainer) {{\n",
       "    x.observe(notebookContainer, {childList: true});\n",
       "}}\n",
       "\n",
       "// Listen for the clearing of the current output cell\n",
       "var outputEl = gd.closest('.output');\n",
       "if (outputEl) {{\n",
       "    x.observe(outputEl, {childList: true});\n",
       "}}\n",
       "\n",
       "                        })\n",
       "                };\n",
       "                });\n",
       "            </script>\n",
       "        </div>"
      ]
     },
     "metadata": {},
     "output_type": "display_data"
    }
   ],
   "source": [
    "lu_to_tih('town_below100')"
   ]
  },
  {
   "cell_type": "code",
   "execution_count": null,
   "metadata": {},
   "outputs": [],
   "source": []
  },
  {
   "cell_type": "code",
   "execution_count": null,
   "metadata": {},
   "outputs": [],
   "source": []
  },
  {
   "cell_type": "code",
   "execution_count": null,
   "metadata": {},
   "outputs": [],
   "source": []
  },
  {
   "cell_type": "code",
   "execution_count": null,
   "metadata": {},
   "outputs": [],
   "source": []
  }
 ],
 "metadata": {
  "kernelspec": {
   "display_name": "Python 3",
   "language": "python",
   "name": "python3"
  },
  "language_info": {
   "codemirror_mode": {
    "name": "ipython",
    "version": 3
   },
   "file_extension": ".py",
   "mimetype": "text/x-python",
   "name": "python",
   "nbconvert_exporter": "python",
   "pygments_lexer": "ipython3",
   "version": "3.8.2"
  }
 },
 "nbformat": 4,
 "nbformat_minor": 4
}
