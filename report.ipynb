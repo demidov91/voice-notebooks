{
 "cells": [
  {
   "cell_type": "code",
   "execution_count": 480,
   "metadata": {},
   "outputs": [],
   "source": [
    "import pandas as pd"
   ]
  },
  {
   "cell_type": "code",
   "execution_count": 481,
   "metadata": {},
   "outputs": [],
   "source": [
    "df = pd.read_csv('total-candidates.csv')"
   ]
  },
  {
   "cell_type": "code",
   "execution_count": 482,
   "metadata": {},
   "outputs": [],
   "source": [
    "alt_candidates = ['against', 'cherechen', 'corrupted', 'dmitriyev', 'kanopatskaja']\n",
    "candidates = alt_candidates + ['tihanovkaja']\n",
    "alt_candidates_no_corrupted = set(alt_candidates) - {'corrupted'}\n",
    "candidates_with_luk = ['lukashenko', 'tihanovkaja', 'against', 'dmitriyev', 'cherechen', 'kanopatskaja', 'corrupted']\n",
    "areas = ['city', 'minsk_suburb', 'capital', 'village', 'town_below100', 'town_over100', 'embassy']"
   ]
  },
  {
   "cell_type": "code",
   "execution_count": 483,
   "metadata": {},
   "outputs": [
    {
     "name": "stdout",
     "output_type": "stream",
     "text": [
      "Total:\n",
      "lukashenko: 45.2 %\n",
      "tihanovkaja: 42.6 %\n",
      "against: 6.0 %\n",
      "dmitriyev: 1.9 %\n",
      "cherechen: 1.7 %\n",
      "kanopatskaja: 1.5 %\n",
      "corrupted: 1.1 %\n"
     ]
    }
   ],
   "source": [
    "print('Total:')\n",
    "\n",
    "total = df['votes'].sum()\n",
    "for candidate  in candidates_with_luk:\n",
    "    print(f'{candidate}: {(df[candidate].sum() / total * 100):.1f} %')"
   ]
  },
  {
   "cell_type": "code",
   "execution_count": 484,
   "metadata": {},
   "outputs": [
    {
     "name": "stdout",
     "output_type": "stream",
     "text": [
      "By region:\n",
      "Region 1\n",
      "lukashenko: 46.6 %\n",
      "tihanovkaja: 40.7 %\n",
      "against: 6.2 %\n",
      "dmitriyev: 2.0 %\n",
      "cherechen: 1.9 %\n",
      "kanopatskaja: 1.5 %\n",
      "corrupted: 1.0 %\n",
      "\n",
      "Region 2\n",
      "lukashenko: 50.5 %\n",
      "tihanovkaja: 37.5 %\n",
      "against: 5.9 %\n",
      "dmitriyev: 2.0 %\n",
      "cherechen: 1.8 %\n",
      "kanopatskaja: 1.4 %\n",
      "corrupted: 1.0 %\n",
      "\n",
      "Region 3\n",
      "lukashenko: 58.3 %\n",
      "tihanovkaja: 32.4 %\n",
      "against: 4.6 %\n",
      "dmitriyev: 1.5 %\n",
      "cherechen: 1.4 %\n",
      "kanopatskaja: 1.1 %\n",
      "corrupted: 0.7 %\n",
      "\n",
      "Region 4\n",
      "lukashenko: 38.7 %\n",
      "tihanovkaja: 48.4 %\n",
      "against: 6.3 %\n",
      "dmitriyev: 2.1 %\n",
      "cherechen: 1.9 %\n",
      "kanopatskaja: 1.5 %\n",
      "corrupted: 1.0 %\n",
      "\n",
      "Region 5\n",
      "lukashenko: 46.3 %\n",
      "tihanovkaja: 42.3 %\n",
      "against: 5.6 %\n",
      "dmitriyev: 1.8 %\n",
      "cherechen: 1.6 %\n",
      "kanopatskaja: 1.4 %\n",
      "corrupted: 1.0 %\n",
      "\n",
      "Region 6\n",
      "lukashenko: 60.0 %\n",
      "tihanovkaja: 30.4 %\n",
      "against: 4.7 %\n",
      "dmitriyev: 1.5 %\n",
      "cherechen: 1.5 %\n",
      "kanopatskaja: 1.1 %\n",
      "corrupted: 0.8 %\n",
      "\n",
      "Region 7\n",
      "lukashenko: 20.3 %\n",
      "tihanovkaja: 62.5 %\n",
      "against: 8.9 %\n",
      "dmitriyev: 2.2 %\n",
      "cherechen: 2.1 %\n",
      "kanopatskaja: 2.1 %\n",
      "corrupted: 2.0 %\n",
      "\n",
      "Region 8\n",
      "lukashenko: 49.9 %\n",
      "tihanovkaja: 47.7 %\n",
      "against: 0.7 %\n",
      "dmitriyev: 0.4 %\n",
      "cherechen: 0.3 %\n",
      "kanopatskaja: 0.4 %\n",
      "corrupted: 0.6 %\n",
      "\n"
     ]
    }
   ],
   "source": [
    "print('By region:')\n",
    "\n",
    "for region in range(1, 9):\n",
    "    print(f'Region {region}')\n",
    "    data = df[df['region'] == region]\n",
    "    total = data['votes'].sum()\n",
    "    for candidate  in candidates_with_luk:\n",
    "        print(f'{candidate}: {(data[candidate].sum() / total * 100):.1f} %')\n",
    "        \n",
    "    print()"
   ]
  },
  {
   "cell_type": "code",
   "execution_count": 485,
   "metadata": {},
   "outputs": [
    {
     "name": "stdout",
     "output_type": "stream",
     "text": [
      "By area:\n",
      "city\n",
      "lukashenko: 33.2 %\n",
      "tihanovkaja: 51.8 %\n",
      "against: 7.4 %\n",
      "dmitriyev: 2.4 %\n",
      "cherechen: 2.3 %\n",
      "kanopatskaja: 1.8 %\n",
      "corrupted: 1.0 %\n",
      "\n",
      "minsk_suburb\n",
      "lukashenko: 35.1 %\n",
      "tihanovkaja: 55.9 %\n",
      "against: 4.4 %\n",
      "dmitriyev: 1.5 %\n",
      "cherechen: 1.1 %\n",
      "kanopatskaja: 1.1 %\n",
      "corrupted: 0.9 %\n",
      "\n",
      "capital\n",
      "lukashenko: 20.2 %\n",
      "tihanovkaja: 62.6 %\n",
      "against: 8.9 %\n",
      "dmitriyev: 2.2 %\n",
      "cherechen: 2.1 %\n",
      "kanopatskaja: 2.1 %\n",
      "corrupted: 2.0 %\n",
      "\n",
      "village\n",
      "lukashenko: 74.6 %\n",
      "tihanovkaja: 19.5 %\n",
      "against: 2.7 %\n",
      "dmitriyev: 1.0 %\n",
      "cherechen: 0.8 %\n",
      "kanopatskaja: 0.9 %\n",
      "corrupted: 0.6 %\n",
      "\n",
      "town_below100\n",
      "lukashenko: 44.3 %\n",
      "tihanovkaja: 43.0 %\n",
      "against: 6.6 %\n",
      "dmitriyev: 2.0 %\n",
      "cherechen: 1.9 %\n",
      "kanopatskaja: 1.3 %\n",
      "corrupted: 0.9 %\n",
      "\n",
      "town_over100\n",
      "lukashenko: 34.5 %\n",
      "tihanovkaja: 50.3 %\n",
      "against: 7.2 %\n",
      "dmitriyev: 2.5 %\n",
      "cherechen: 2.4 %\n",
      "kanopatskaja: 1.7 %\n",
      "corrupted: 1.5 %\n",
      "\n",
      "embassy\n",
      "lukashenko: 49.9 %\n",
      "tihanovkaja: 47.7 %\n",
      "against: 0.7 %\n",
      "dmitriyev: 0.4 %\n",
      "cherechen: 0.3 %\n",
      "kanopatskaja: 0.4 %\n",
      "corrupted: 0.6 %\n",
      "\n"
     ]
    }
   ],
   "source": [
    "print('By area:')\n",
    "\n",
    "for area in areas:\n",
    "    print(area)\n",
    "    data = df[df['area'] == area]\n",
    "    total = data['votes'].sum()\n",
    "    for candidate  in candidates_with_luk:\n",
    "        print(f'{candidate}: {(data[candidate].sum() / total * 100):.1f} %')\n",
    "        \n",
    "    print()"
   ]
  },
  {
   "cell_type": "code",
   "execution_count": 486,
   "metadata": {},
   "outputs": [],
   "source": [
    "def region_detailed(region):\n",
    "    print(region)\n",
    "    for area in areas:\n",
    "        data = df[(df['area'] == area) & (df['region'] == region)]\n",
    "        if len(data) == 0:\n",
    "            continue\n",
    "            \n",
    "        print(area)\n",
    "        total = data['votes'].sum()\n",
    "        for candidate  in candidates_with_luk:\n",
    "            print(f'{candidate}: {(data[candidate].sum() / total * 100):.1f} %')\n",
    "\n",
    "        print()"
   ]
  },
  {
   "cell_type": "code",
   "execution_count": 487,
   "metadata": {},
   "outputs": [
    {
     "name": "stdout",
     "output_type": "stream",
     "text": [
      "1\n",
      "city\n",
      "lukashenko: 22.5 %\n",
      "tihanovkaja: 56.8 %\n",
      "against: 10.3 %\n",
      "dmitriyev: 3.3 %\n",
      "cherechen: 3.1 %\n",
      "kanopatskaja: 2.5 %\n",
      "corrupted: 1.4 %\n",
      "\n",
      "village\n",
      "lukashenko: 77.9 %\n",
      "tihanovkaja: 17.1 %\n",
      "against: 2.3 %\n",
      "dmitriyev: 0.8 %\n",
      "cherechen: 0.7 %\n",
      "kanopatskaja: 0.7 %\n",
      "corrupted: 0.5 %\n",
      "\n",
      "town_below100\n",
      "lukashenko: 38.9 %\n",
      "tihanovkaja: 47.9 %\n",
      "against: 6.8 %\n",
      "dmitriyev: 2.1 %\n",
      "cherechen: 1.9 %\n",
      "kanopatskaja: 1.4 %\n",
      "corrupted: 1.0 %\n",
      "\n",
      "town_over100\n",
      "lukashenko: 31.7 %\n",
      "tihanovkaja: 53.4 %\n",
      "against: 7.0 %\n",
      "dmitriyev: 2.4 %\n",
      "cherechen: 2.3 %\n",
      "kanopatskaja: 1.7 %\n",
      "corrupted: 1.4 %\n",
      "\n"
     ]
    }
   ],
   "source": [
    "region_detailed(1)"
   ]
  },
  {
   "cell_type": "code",
   "execution_count": 488,
   "metadata": {},
   "outputs": [
    {
     "name": "stdout",
     "output_type": "stream",
     "text": [
      "2\n",
      "city\n",
      "lukashenko: 43.0 %\n",
      "tihanovkaja: 44.8 %\n",
      "against: 6.0 %\n",
      "dmitriyev: 2.0 %\n",
      "cherechen: 1.9 %\n",
      "kanopatskaja: 1.5 %\n",
      "corrupted: 0.8 %\n",
      "\n",
      "village\n",
      "lukashenko: 76.4 %\n",
      "tihanovkaja: 17.2 %\n",
      "against: 2.9 %\n",
      "dmitriyev: 1.1 %\n",
      "cherechen: 0.9 %\n",
      "kanopatskaja: 1.0 %\n",
      "corrupted: 0.7 %\n",
      "\n",
      "town_below100\n",
      "lukashenko: 32.4 %\n",
      "tihanovkaja: 49.7 %\n",
      "against: 9.2 %\n",
      "dmitriyev: 2.9 %\n",
      "cherechen: 2.6 %\n",
      "kanopatskaja: 1.8 %\n",
      "corrupted: 1.3 %\n",
      "\n",
      "town_over100\n",
      "lukashenko: 39.2 %\n",
      "tihanovkaja: 46.9 %\n",
      "against: 6.6 %\n",
      "dmitriyev: 2.3 %\n",
      "cherechen: 2.2 %\n",
      "kanopatskaja: 1.6 %\n",
      "corrupted: 1.3 %\n",
      "\n"
     ]
    }
   ],
   "source": [
    "region_detailed(2)"
   ]
  },
  {
   "cell_type": "code",
   "execution_count": 489,
   "metadata": {},
   "outputs": [
    {
     "name": "stdout",
     "output_type": "stream",
     "text": [
      "3\n",
      "city\n",
      "lukashenko: 35.2 %\n",
      "tihanovkaja: 50.7 %\n",
      "against: 6.9 %\n",
      "dmitriyev: 2.3 %\n",
      "cherechen: 2.2 %\n",
      "kanopatskaja: 1.7 %\n",
      "corrupted: 1.0 %\n",
      "\n",
      "village\n",
      "lukashenko: 80.3 %\n",
      "tihanovkaja: 14.7 %\n",
      "against: 2.3 %\n",
      "dmitriyev: 0.8 %\n",
      "cherechen: 0.7 %\n",
      "kanopatskaja: 0.7 %\n",
      "corrupted: 0.5 %\n",
      "\n",
      "town_below100\n",
      "lukashenko: 58.2 %\n",
      "tihanovkaja: 32.7 %\n",
      "against: 4.7 %\n",
      "dmitriyev: 1.4 %\n",
      "cherechen: 1.3 %\n",
      "kanopatskaja: 1.0 %\n",
      "corrupted: 0.7 %\n",
      "\n",
      "town_over100\n",
      "lukashenko: 46.9 %\n",
      "tihanovkaja: 41.4 %\n",
      "against: 5.4 %\n",
      "dmitriyev: 1.9 %\n",
      "cherechen: 1.9 %\n",
      "kanopatskaja: 1.4 %\n",
      "corrupted: 1.1 %\n",
      "\n"
     ]
    }
   ],
   "source": [
    "region_detailed(3)"
   ]
  },
  {
   "cell_type": "code",
   "execution_count": 490,
   "metadata": {},
   "outputs": [
    {
     "name": "stdout",
     "output_type": "stream",
     "text": [
      "4\n",
      "city\n",
      "lukashenko: 23.2 %\n",
      "tihanovkaja: 61.2 %\n",
      "against: 7.7 %\n",
      "dmitriyev: 2.5 %\n",
      "cherechen: 2.4 %\n",
      "kanopatskaja: 1.9 %\n",
      "corrupted: 1.1 %\n",
      "\n",
      "village\n",
      "lukashenko: 59.6 %\n",
      "tihanovkaja: 31.8 %\n",
      "against: 3.9 %\n",
      "dmitriyev: 1.4 %\n",
      "cherechen: 1.2 %\n",
      "kanopatskaja: 1.3 %\n",
      "corrupted: 0.9 %\n",
      "\n",
      "town_below100\n",
      "lukashenko: 38.6 %\n",
      "tihanovkaja: 48.2 %\n",
      "against: 6.8 %\n",
      "dmitriyev: 2.1 %\n",
      "cherechen: 1.9 %\n",
      "kanopatskaja: 1.4 %\n",
      "corrupted: 1.0 %\n",
      "\n",
      "town_over100\n",
      "lukashenko: 32.0 %\n",
      "tihanovkaja: 53.6 %\n",
      "against: 6.8 %\n",
      "dmitriyev: 2.3 %\n",
      "cherechen: 2.2 %\n",
      "kanopatskaja: 1.5 %\n",
      "corrupted: 1.5 %\n",
      "\n"
     ]
    }
   ],
   "source": [
    "region_detailed(4)"
   ]
  },
  {
   "cell_type": "code",
   "execution_count": 491,
   "metadata": {},
   "outputs": [
    {
     "name": "stdout",
     "output_type": "stream",
     "text": [
      "5\n",
      "minsk_suburb\n",
      "lukashenko: 34.6 %\n",
      "tihanovkaja: 56.4 %\n",
      "against: 4.4 %\n",
      "dmitriyev: 1.5 %\n",
      "cherechen: 1.1 %\n",
      "kanopatskaja: 1.1 %\n",
      "corrupted: 0.9 %\n",
      "\n",
      "village\n",
      "lukashenko: 66.0 %\n",
      "tihanovkaja: 26.5 %\n",
      "against: 3.4 %\n",
      "dmitriyev: 1.2 %\n",
      "cherechen: 1.0 %\n",
      "kanopatskaja: 1.1 %\n",
      "corrupted: 0.8 %\n",
      "\n",
      "town_below100\n",
      "lukashenko: 33.8 %\n",
      "tihanovkaja: 51.4 %\n",
      "against: 7.7 %\n",
      "dmitriyev: 2.4 %\n",
      "cherechen: 2.1 %\n",
      "kanopatskaja: 1.5 %\n",
      "corrupted: 1.1 %\n",
      "\n",
      "town_over100\n",
      "lukashenko: 30.8 %\n",
      "tihanovkaja: 53.5 %\n",
      "against: 7.3 %\n",
      "dmitriyev: 2.6 %\n",
      "cherechen: 2.5 %\n",
      "kanopatskaja: 1.8 %\n",
      "corrupted: 1.5 %\n",
      "\n"
     ]
    }
   ],
   "source": [
    "region_detailed(5)"
   ]
  },
  {
   "cell_type": "code",
   "execution_count": 492,
   "metadata": {},
   "outputs": [
    {
     "name": "stdout",
     "output_type": "stream",
     "text": [
      "6\n",
      "city\n",
      "lukashenko: 42.8 %\n",
      "tihanovkaja: 45.0 %\n",
      "against: 6.0 %\n",
      "dmitriyev: 2.0 %\n",
      "cherechen: 1.9 %\n",
      "kanopatskaja: 1.5 %\n",
      "corrupted: 0.8 %\n",
      "\n",
      "village\n",
      "lukashenko: 89.8 %\n",
      "tihanovkaja: 7.8 %\n",
      "against: 1.1 %\n",
      "dmitriyev: 0.4 %\n",
      "cherechen: 0.3 %\n",
      "kanopatskaja: 0.3 %\n",
      "corrupted: 0.2 %\n",
      "\n",
      "town_below100\n",
      "lukashenko: 67.9 %\n",
      "tihanovkaja: 24.6 %\n",
      "against: 3.8 %\n",
      "dmitriyev: 1.2 %\n",
      "cherechen: 1.1 %\n",
      "kanopatskaja: 0.8 %\n",
      "corrupted: 0.5 %\n",
      "\n",
      "town_over100\n",
      "lukashenko: 32.4 %\n",
      "tihanovkaja: 48.4 %\n",
      "against: 9.0 %\n",
      "dmitriyev: 3.1 %\n",
      "cherechen: 3.0 %\n",
      "kanopatskaja: 2.2 %\n",
      "corrupted: 1.8 %\n",
      "\n"
     ]
    }
   ],
   "source": [
    "region_detailed(6)"
   ]
  },
  {
   "cell_type": "code",
   "execution_count": 493,
   "metadata": {},
   "outputs": [
    {
     "name": "stdout",
     "output_type": "stream",
     "text": [
      "7\n",
      "minsk_suburb\n",
      "lukashenko: 49.7 %\n",
      "tihanovkaja: 43.1 %\n",
      "against: 3.5 %\n",
      "dmitriyev: 1.2 %\n",
      "cherechen: 0.9 %\n",
      "kanopatskaja: 0.9 %\n",
      "corrupted: 0.7 %\n",
      "\n",
      "capital\n",
      "lukashenko: 20.2 %\n",
      "tihanovkaja: 62.6 %\n",
      "against: 8.9 %\n",
      "dmitriyev: 2.2 %\n",
      "cherechen: 2.1 %\n",
      "kanopatskaja: 2.1 %\n",
      "corrupted: 2.0 %\n",
      "\n"
     ]
    }
   ],
   "source": [
    "region_detailed(7)"
   ]
  },
  {
   "cell_type": "code",
   "execution_count": 494,
   "metadata": {},
   "outputs": [
    {
     "name": "stdout",
     "output_type": "stream",
     "text": [
      "8\n",
      "embassy\n",
      "lukashenko: 49.9 %\n",
      "tihanovkaja: 47.7 %\n",
      "against: 0.7 %\n",
      "dmitriyev: 0.4 %\n",
      "cherechen: 0.3 %\n",
      "kanopatskaja: 0.4 %\n",
      "corrupted: 0.6 %\n",
      "\n"
     ]
    }
   ],
   "source": [
    "region_detailed(8)"
   ]
  },
  {
   "cell_type": "code",
   "execution_count": null,
   "metadata": {},
   "outputs": [],
   "source": []
  },
  {
   "cell_type": "code",
   "execution_count": null,
   "metadata": {},
   "outputs": [],
   "source": []
  },
  {
   "cell_type": "code",
   "execution_count": null,
   "metadata": {},
   "outputs": [],
   "source": []
  }
 ],
 "metadata": {
  "kernelspec": {
   "display_name": "Python 3",
   "language": "python",
   "name": "python3"
  },
  "language_info": {
   "codemirror_mode": {
    "name": "ipython",
    "version": 3
   },
   "file_extension": ".py",
   "mimetype": "text/x-python",
   "name": "python",
   "nbconvert_exporter": "python",
   "pygments_lexer": "ipython3",
   "version": "3.8.2"
  }
 },
 "nbformat": 4,
 "nbformat_minor": 4
}
