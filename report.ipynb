{
 "cells": [
  {
   "cell_type": "code",
   "execution_count": 420,
   "metadata": {},
   "outputs": [],
   "source": [
    "import pandas as pd"
   ]
  },
  {
   "cell_type": "code",
   "execution_count": 421,
   "metadata": {},
   "outputs": [],
   "source": [
    "df = pd.read_csv('total-candidates.csv')"
   ]
  },
  {
   "cell_type": "code",
   "execution_count": 422,
   "metadata": {},
   "outputs": [],
   "source": [
    "alt_candidates = ['against', 'cherechen', 'corrupted', 'dmitriyev', 'kanopatskaja']\n",
    "candidates = alt_candidates + ['tihanovkaja']\n",
    "alt_candidates_no_corrupted = set(alt_candidates) - {'corrupted'}\n",
    "candidates_with_luk = ['lukashenko', 'tihanovkaja', 'against', 'dmitriyev', 'cherechen', 'kanopatskaja', 'corrupted']\n",
    "areas = ['city', 'minsk_suburb', 'capital', 'village', 'town_below100', 'town_over100', 'embassy']"
   ]
  },
  {
   "cell_type": "code",
   "execution_count": 423,
   "metadata": {},
   "outputs": [
    {
     "name": "stdout",
     "output_type": "stream",
     "text": [
      "Total:\n",
      "lukashenko: 49.0 %\n",
      "tihanovkaja: 40.0 %\n",
      "against: 5.4 %\n",
      "dmitriyev: 1.7 %\n",
      "cherechen: 1.5 %\n",
      "kanopatskaja: 1.3 %\n",
      "corrupted: 1.1 %\n"
     ]
    }
   ],
   "source": [
    "print('Total:')\n",
    "\n",
    "total = df['votes'].sum()\n",
    "for candidate  in candidates_with_luk:\n",
    "    print(f'{candidate}: {(df[candidate].sum() / total * 100):.1f} %')"
   ]
  },
  {
   "cell_type": "code",
   "execution_count": 424,
   "metadata": {},
   "outputs": [
    {
     "name": "stdout",
     "output_type": "stream",
     "text": [
      "By region:\n",
      "Region 1\n",
      "lukashenko: 50.8 %\n",
      "tihanovkaja: 37.8 %\n",
      "against: 5.5 %\n",
      "dmitriyev: 1.8 %\n",
      "cherechen: 1.7 %\n",
      "kanopatskaja: 1.4 %\n",
      "corrupted: 1.0 %\n",
      "\n",
      "Region 2\n",
      "lukashenko: 61.5 %\n",
      "tihanovkaja: 31.4 %\n",
      "against: 3.5 %\n",
      "dmitriyev: 1.2 %\n",
      "cherechen: 1.1 %\n",
      "kanopatskaja: 0.8 %\n",
      "corrupted: 0.6 %\n",
      "\n",
      "Region 3\n",
      "lukashenko: 60.7 %\n",
      "tihanovkaja: 31.1 %\n",
      "against: 3.9 %\n",
      "dmitriyev: 1.3 %\n",
      "cherechen: 1.2 %\n",
      "kanopatskaja: 1.0 %\n",
      "corrupted: 0.7 %\n",
      "\n",
      "Region 4\n",
      "lukashenko: 42.7 %\n",
      "tihanovkaja: 45.4 %\n",
      "against: 5.7 %\n",
      "dmitriyev: 1.9 %\n",
      "cherechen: 1.8 %\n",
      "kanopatskaja: 1.4 %\n",
      "corrupted: 1.1 %\n",
      "\n",
      "Region 5\n",
      "lukashenko: 48.9 %\n",
      "tihanovkaja: 39.5 %\n",
      "against: 5.6 %\n",
      "dmitriyev: 1.8 %\n",
      "cherechen: 1.6 %\n",
      "kanopatskaja: 1.4 %\n",
      "corrupted: 1.1 %\n",
      "\n",
      "Region 6\n",
      "lukashenko: 63.6 %\n",
      "tihanovkaja: 28.2 %\n",
      "against: 3.9 %\n",
      "dmitriyev: 1.3 %\n",
      "cherechen: 1.2 %\n",
      "kanopatskaja: 1.0 %\n",
      "corrupted: 0.7 %\n",
      "\n",
      "Region 7\n",
      "lukashenko: 20.1 %\n",
      "tihanovkaja: 62.4 %\n",
      "against: 9.1 %\n",
      "dmitriyev: 2.2 %\n",
      "cherechen: 2.1 %\n",
      "kanopatskaja: 2.1 %\n",
      "corrupted: 2.1 %\n",
      "\n",
      "Region 8\n",
      "lukashenko: 49.9 %\n",
      "tihanovkaja: 47.7 %\n",
      "against: 0.7 %\n",
      "dmitriyev: 0.4 %\n",
      "cherechen: 0.3 %\n",
      "kanopatskaja: 0.4 %\n",
      "corrupted: 0.6 %\n",
      "\n"
     ]
    }
   ],
   "source": [
    "print('By region:')\n",
    "\n",
    "for region in range(1, 9):\n",
    "    print(f'Region {region}')\n",
    "    data = df[df['region'] == region]\n",
    "    total = data['votes'].sum()\n",
    "    for candidate  in candidates_with_luk:\n",
    "        print(f'{candidate}: {(data[candidate].sum() / total * 100):.1f} %')\n",
    "        \n",
    "    print()"
   ]
  },
  {
   "cell_type": "code",
   "execution_count": 425,
   "metadata": {},
   "outputs": [
    {
     "name": "stdout",
     "output_type": "stream",
     "text": [
      "By area:\n",
      "city\n",
      "lukashenko: 35.6 %\n",
      "tihanovkaja: 50.8 %\n",
      "against: 6.6 %\n",
      "dmitriyev: 2.2 %\n",
      "cherechen: 2.1 %\n",
      "kanopatskaja: 1.6 %\n",
      "corrupted: 1.1 %\n",
      "\n",
      "minsk_suburb\n",
      "lukashenko: 35.2 %\n",
      "tihanovkaja: 55.8 %\n",
      "against: 4.4 %\n",
      "dmitriyev: 1.5 %\n",
      "cherechen: 1.1 %\n",
      "kanopatskaja: 1.1 %\n",
      "corrupted: 0.8 %\n",
      "\n",
      "capital\n",
      "lukashenko: 20.0 %\n",
      "tihanovkaja: 62.5 %\n",
      "against: 9.1 %\n",
      "dmitriyev: 2.2 %\n",
      "cherechen: 2.1 %\n",
      "kanopatskaja: 2.1 %\n",
      "corrupted: 2.1 %\n",
      "\n",
      "village\n",
      "lukashenko: 77.4 %\n",
      "tihanovkaja: 17.5 %\n",
      "against: 2.3 %\n",
      "dmitriyev: 0.8 %\n",
      "cherechen: 0.7 %\n",
      "kanopatskaja: 0.8 %\n",
      "corrupted: 0.5 %\n",
      "\n",
      "town_below100\n",
      "lukashenko: 50.7 %\n",
      "tihanovkaja: 38.3 %\n",
      "against: 5.5 %\n",
      "dmitriyev: 1.8 %\n",
      "cherechen: 1.6 %\n",
      "kanopatskaja: 1.1 %\n",
      "corrupted: 1.0 %\n",
      "\n",
      "town_over100\n",
      "lukashenko: 41.4 %\n",
      "tihanovkaja: 46.1 %\n",
      "against: 5.9 %\n",
      "dmitriyev: 2.0 %\n",
      "cherechen: 1.9 %\n",
      "kanopatskaja: 1.5 %\n",
      "corrupted: 1.3 %\n",
      "\n",
      "embassy\n",
      "lukashenko: 49.9 %\n",
      "tihanovkaja: 47.7 %\n",
      "against: 0.7 %\n",
      "dmitriyev: 0.4 %\n",
      "cherechen: 0.3 %\n",
      "kanopatskaja: 0.4 %\n",
      "corrupted: 0.6 %\n",
      "\n"
     ]
    }
   ],
   "source": [
    "print('By area:')\n",
    "\n",
    "for area in areas:\n",
    "    print(area)\n",
    "    data = df[df['area'] == area]\n",
    "    total = data['votes'].sum()\n",
    "    for candidate  in candidates_with_luk:\n",
    "        print(f'{candidate}: {(data[candidate].sum() / total * 100):.1f} %')\n",
    "        \n",
    "    print()"
   ]
  },
  {
   "cell_type": "code",
   "execution_count": 426,
   "metadata": {},
   "outputs": [],
   "source": [
    "def region_detailed(region):\n",
    "    print(region)\n",
    "    for area in areas:\n",
    "        data = df[(df['area'] == area) & (df['region'] == region)]\n",
    "        if len(data) == 0:\n",
    "            continue\n",
    "            \n",
    "        print(area)\n",
    "        total = data['votes'].sum()\n",
    "        for candidate  in candidates_with_luk:\n",
    "            print(f'{candidate}: {(data[candidate].sum() / total * 100):.1f} %')\n",
    "\n",
    "        print()"
   ]
  },
  {
   "cell_type": "code",
   "execution_count": 427,
   "metadata": {},
   "outputs": [
    {
     "name": "stdout",
     "output_type": "stream",
     "text": [
      "1\n",
      "city\n",
      "lukashenko: 24.1 %\n",
      "tihanovkaja: 56.7 %\n",
      "against: 9.4 %\n",
      "dmitriyev: 3.1 %\n",
      "cherechen: 3.0 %\n",
      "kanopatskaja: 2.3 %\n",
      "corrupted: 1.5 %\n",
      "\n",
      "village\n",
      "lukashenko: 81.1 %\n",
      "tihanovkaja: 14.7 %\n",
      "against: 1.9 %\n",
      "dmitriyev: 0.7 %\n",
      "cherechen: 0.6 %\n",
      "kanopatskaja: 0.6 %\n",
      "corrupted: 0.4 %\n",
      "\n",
      "town_below100\n",
      "lukashenko: 41.9 %\n",
      "tihanovkaja: 45.6 %\n",
      "against: 6.2 %\n",
      "dmitriyev: 2.0 %\n",
      "cherechen: 1.8 %\n",
      "kanopatskaja: 1.3 %\n",
      "corrupted: 1.1 %\n",
      "\n",
      "town_over100\n",
      "lukashenko: 35.7 %\n",
      "tihanovkaja: 50.3 %\n",
      "against: 6.6 %\n",
      "dmitriyev: 2.2 %\n",
      "cherechen: 2.1 %\n",
      "kanopatskaja: 1.7 %\n",
      "corrupted: 1.4 %\n",
      "\n"
     ]
    }
   ],
   "source": [
    "region_detailed(1)"
   ]
  },
  {
   "cell_type": "code",
   "execution_count": 428,
   "metadata": {},
   "outputs": [
    {
     "name": "stdout",
     "output_type": "stream",
     "text": [
      "2\n",
      "city\n",
      "lukashenko: 45.5 %\n",
      "tihanovkaja: 42.9 %\n",
      "against: 5.6 %\n",
      "dmitriyev: 1.9 %\n",
      "cherechen: 1.9 %\n",
      "kanopatskaja: 1.4 %\n",
      "corrupted: 0.9 %\n",
      "\n",
      "village\n",
      "lukashenko: 85.5 %\n",
      "tihanovkaja: 11.2 %\n",
      "against: 1.5 %\n",
      "dmitriyev: 0.5 %\n",
      "cherechen: 0.4 %\n",
      "kanopatskaja: 0.5 %\n",
      "corrupted: 0.3 %\n",
      "\n",
      "town_below100\n",
      "lukashenko: 52.2 %\n",
      "tihanovkaja: 36.8 %\n",
      "against: 5.5 %\n",
      "dmitriyev: 1.8 %\n",
      "cherechen: 1.6 %\n",
      "kanopatskaja: 1.1 %\n",
      "corrupted: 0.9 %\n",
      "\n",
      "town_over100\n",
      "lukashenko: 54.2 %\n",
      "tihanovkaja: 44.6 %\n",
      "against: 0.6 %\n",
      "dmitriyev: 0.2 %\n",
      "cherechen: 0.2 %\n",
      "kanopatskaja: 0.1 %\n",
      "corrupted: 0.1 %\n",
      "\n"
     ]
    }
   ],
   "source": [
    "region_detailed(2)"
   ]
  },
  {
   "cell_type": "code",
   "execution_count": 429,
   "metadata": {},
   "outputs": [
    {
     "name": "stdout",
     "output_type": "stream",
     "text": [
      "3\n",
      "city\n",
      "lukashenko: 39.5 %\n",
      "tihanovkaja: 49.9 %\n",
      "against: 5.1 %\n",
      "dmitriyev: 1.7 %\n",
      "cherechen: 1.7 %\n",
      "kanopatskaja: 1.3 %\n",
      "corrupted: 0.8 %\n",
      "\n",
      "village\n",
      "lukashenko: 81.5 %\n",
      "tihanovkaja: 13.8 %\n",
      "against: 2.1 %\n",
      "dmitriyev: 0.7 %\n",
      "cherechen: 0.6 %\n",
      "kanopatskaja: 0.7 %\n",
      "corrupted: 0.5 %\n",
      "\n",
      "town_below100\n",
      "lukashenko: 60.3 %\n",
      "tihanovkaja: 30.7 %\n",
      "against: 4.5 %\n",
      "dmitriyev: 1.4 %\n",
      "cherechen: 1.3 %\n",
      "kanopatskaja: 0.9 %\n",
      "corrupted: 0.8 %\n",
      "\n",
      "town_over100\n",
      "lukashenko: 48.8 %\n",
      "tihanovkaja: 39.6 %\n",
      "against: 5.5 %\n",
      "dmitriyev: 1.8 %\n",
      "cherechen: 1.8 %\n",
      "kanopatskaja: 1.4 %\n",
      "corrupted: 1.1 %\n",
      "\n"
     ]
    }
   ],
   "source": [
    "region_detailed(3)"
   ]
  },
  {
   "cell_type": "code",
   "execution_count": 430,
   "metadata": {},
   "outputs": [
    {
     "name": "stdout",
     "output_type": "stream",
     "text": [
      "4\n",
      "city\n",
      "lukashenko: 24.3 %\n",
      "tihanovkaja: 60.2 %\n",
      "against: 7.5 %\n",
      "dmitriyev: 2.5 %\n",
      "cherechen: 2.4 %\n",
      "kanopatskaja: 1.9 %\n",
      "corrupted: 1.2 %\n",
      "\n",
      "village\n",
      "lukashenko: 61.4 %\n",
      "tihanovkaja: 30.7 %\n",
      "against: 3.6 %\n",
      "dmitriyev: 1.3 %\n",
      "cherechen: 1.0 %\n",
      "kanopatskaja: 1.2 %\n",
      "corrupted: 0.8 %\n",
      "\n",
      "town_below100\n",
      "lukashenko: 47.3 %\n",
      "tihanovkaja: 41.5 %\n",
      "against: 5.6 %\n",
      "dmitriyev: 1.8 %\n",
      "cherechen: 1.6 %\n",
      "kanopatskaja: 1.2 %\n",
      "corrupted: 1.0 %\n",
      "\n",
      "town_over100\n",
      "lukashenko: 36.5 %\n",
      "tihanovkaja: 49.8 %\n",
      "against: 6.5 %\n",
      "dmitriyev: 2.2 %\n",
      "cherechen: 2.1 %\n",
      "kanopatskaja: 1.5 %\n",
      "corrupted: 1.5 %\n",
      "\n"
     ]
    }
   ],
   "source": [
    "region_detailed(4)"
   ]
  },
  {
   "cell_type": "code",
   "execution_count": 431,
   "metadata": {},
   "outputs": [
    {
     "name": "stdout",
     "output_type": "stream",
     "text": [
      "5\n",
      "minsk_suburb\n",
      "lukashenko: 34.7 %\n",
      "tihanovkaja: 56.3 %\n",
      "against: 4.4 %\n",
      "dmitriyev: 1.5 %\n",
      "cherechen: 1.2 %\n",
      "kanopatskaja: 1.1 %\n",
      "corrupted: 0.9 %\n",
      "\n",
      "village\n",
      "lukashenko: 67.6 %\n",
      "tihanovkaja: 25.1 %\n",
      "against: 3.3 %\n",
      "dmitriyev: 1.2 %\n",
      "cherechen: 0.9 %\n",
      "kanopatskaja: 1.1 %\n",
      "corrupted: 0.7 %\n",
      "\n",
      "town_below100\n",
      "lukashenko: 39.2 %\n",
      "tihanovkaja: 46.9 %\n",
      "against: 7.0 %\n",
      "dmitriyev: 2.2 %\n",
      "cherechen: 2.0 %\n",
      "kanopatskaja: 1.4 %\n",
      "corrupted: 1.2 %\n",
      "\n",
      "town_over100\n",
      "lukashenko: 32.9 %\n",
      "tihanovkaja: 47.8 %\n",
      "against: 9.0 %\n",
      "dmitriyev: 3.1 %\n",
      "cherechen: 3.0 %\n",
      "kanopatskaja: 2.4 %\n",
      "corrupted: 1.9 %\n",
      "\n"
     ]
    }
   ],
   "source": [
    "region_detailed(5)"
   ]
  },
  {
   "cell_type": "code",
   "execution_count": 432,
   "metadata": {},
   "outputs": [
    {
     "name": "stdout",
     "output_type": "stream",
     "text": [
      "6\n",
      "city\n",
      "lukashenko: 44.3 %\n",
      "tihanovkaja: 43.8 %\n",
      "against: 5.8 %\n",
      "dmitriyev: 1.9 %\n",
      "cherechen: 1.9 %\n",
      "kanopatskaja: 1.4 %\n",
      "corrupted: 0.9 %\n",
      "\n",
      "village\n",
      "lukashenko: 90.3 %\n",
      "tihanovkaja: 7.4 %\n",
      "against: 1.0 %\n",
      "dmitriyev: 0.4 %\n",
      "cherechen: 0.3 %\n",
      "kanopatskaja: 0.3 %\n",
      "corrupted: 0.2 %\n",
      "\n",
      "town_below100\n",
      "lukashenko: 69.6 %\n",
      "tihanovkaja: 23.3 %\n",
      "against: 3.6 %\n",
      "dmitriyev: 1.2 %\n",
      "cherechen: 1.1 %\n",
      "kanopatskaja: 0.7 %\n",
      "corrupted: 0.6 %\n",
      "\n",
      "town_over100\n",
      "lukashenko: 46.5 %\n",
      "tihanovkaja: 41.2 %\n",
      "against: 5.8 %\n",
      "dmitriyev: 1.9 %\n",
      "cherechen: 1.9 %\n",
      "kanopatskaja: 1.5 %\n",
      "corrupted: 1.2 %\n",
      "\n"
     ]
    }
   ],
   "source": [
    "region_detailed(6)"
   ]
  },
  {
   "cell_type": "code",
   "execution_count": 433,
   "metadata": {},
   "outputs": [
    {
     "name": "stdout",
     "output_type": "stream",
     "text": [
      "7\n",
      "minsk_suburb\n",
      "lukashenko: 49.7 %\n",
      "tihanovkaja: 43.1 %\n",
      "against: 3.4 %\n",
      "dmitriyev: 1.2 %\n",
      "cherechen: 1.0 %\n",
      "kanopatskaja: 0.9 %\n",
      "corrupted: 0.7 %\n",
      "\n",
      "capital\n",
      "lukashenko: 20.0 %\n",
      "tihanovkaja: 62.5 %\n",
      "against: 9.1 %\n",
      "dmitriyev: 2.2 %\n",
      "cherechen: 2.1 %\n",
      "kanopatskaja: 2.1 %\n",
      "corrupted: 2.1 %\n",
      "\n"
     ]
    }
   ],
   "source": [
    "region_detailed(7)"
   ]
  },
  {
   "cell_type": "code",
   "execution_count": 434,
   "metadata": {},
   "outputs": [
    {
     "name": "stdout",
     "output_type": "stream",
     "text": [
      "8\n",
      "embassy\n",
      "lukashenko: 49.9 %\n",
      "tihanovkaja: 47.7 %\n",
      "against: 0.7 %\n",
      "dmitriyev: 0.4 %\n",
      "cherechen: 0.3 %\n",
      "kanopatskaja: 0.4 %\n",
      "corrupted: 0.6 %\n",
      "\n"
     ]
    }
   ],
   "source": [
    "region_detailed(8)"
   ]
  },
  {
   "cell_type": "code",
   "execution_count": null,
   "metadata": {},
   "outputs": [],
   "source": []
  },
  {
   "cell_type": "code",
   "execution_count": null,
   "metadata": {},
   "outputs": [],
   "source": []
  },
  {
   "cell_type": "code",
   "execution_count": null,
   "metadata": {},
   "outputs": [],
   "source": []
  }
 ],
 "metadata": {
  "kernelspec": {
   "display_name": "Python 3",
   "language": "python",
   "name": "python3"
  },
  "language_info": {
   "codemirror_mode": {
    "name": "ipython",
    "version": 3
   },
   "file_extension": ".py",
   "mimetype": "text/x-python",
   "name": "python",
   "nbconvert_exporter": "python",
   "pygments_lexer": "ipython3",
   "version": "3.8.2"
  }
 },
 "nbformat": 4,
 "nbformat_minor": 4
}
