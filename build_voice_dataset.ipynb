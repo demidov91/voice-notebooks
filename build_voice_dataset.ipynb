{
 "cells": [
  {
   "cell_type": "code",
   "execution_count": 53,
   "metadata": {},
   "outputs": [],
   "source": [
    "import pandas as pd\n",
    "import requests"
   ]
  },
  {
   "cell_type": "code",
   "execution_count": 80,
   "metadata": {},
   "outputs": [],
   "source": [
    "geo_data = pd.read_csv('geo-by-area.csv')\n",
    "session = requests.Session()"
   ]
  },
  {
   "cell_type": "code",
   "execution_count": 55,
   "metadata": {},
   "outputs": [],
   "source": [
    "from json import JSONDecodeError\n",
    "\n",
    "\n",
    "def get_voice_data(session, vp):\n",
    "    try:\n",
    "        data = session.get(f'http://partizan-results.com/data/results/byStation/{vp}.json').json()\n",
    "    except JSONDecodeError:\n",
    "        return None\n",
    "    \n",
    "    data.pop('protocolPhotos')\n",
    "    choices = data.pop('choices')\n",
    "    for candidate in (\n",
    "        'against', 'cherechen', 'corrupted', 'dmitriyev', 'ignore', 'kanopatskaja', 'lukashenko', 'tihanovkaja'\n",
    "    ):\n",
    "        for field in ('registered', 'officialVotes', 'photoVoices'):\n",
    "            data[f'{candidate}_{field}'] = (\n",
    "                int(choices[candidate][field]) \n",
    "                if choices[candidate][field] is not None \n",
    "                else None \n",
    "            )\n",
    "    \n",
    "    return data"
   ]
  },
  {
   "cell_type": "code",
   "execution_count": 103,
   "metadata": {},
   "outputs": [],
   "source": [
    "full_data = []"
   ]
  },
  {
   "cell_type": "code",
   "execution_count": 107,
   "metadata": {},
   "outputs": [
    {
     "name": "stdout",
     "output_type": "stream",
     "text": [
      "5740\n",
      "5741\n",
      "5742\n",
      "5743\n",
      "5744\n",
      "5745\n",
      "5746\n",
      "5747\n",
      "5748\n",
      "5749\n",
      "5750\n",
      "5751\n",
      "5752\n",
      "5753\n",
      "5754\n",
      "5755\n",
      "5756\n",
      "5757\n",
      "5758\n",
      "5759\n",
      "5760\n",
      "5761\n",
      "5762\n",
      "5763\n",
      "5764\n",
      "5765\n",
      "5766\n"
     ]
    }
   ],
   "source": [
    "for record in geo_data[5740:].iterrows():\n",
    "    print(record[0])\n",
    "    voice_data = get_voice_data(session, record[1]['id'])\n",
    "    \n",
    "    if voice_data is not None:\n",
    "        voice_data['id'] = record[1]['id']\n",
    "        full_data.append(voice_data)"
   ]
  },
  {
   "cell_type": "code",
   "execution_count": 108,
   "metadata": {},
   "outputs": [],
   "source": [
    "df = pd.DataFrame(full_data, dtype=pd.Int64Dtype)\n",
    "df = df[[df.columns[-1]] + list(df.columns[:-1])]\n",
    "df.to_csv('voice.csv')"
   ]
  },
  {
   "cell_type": "code",
   "execution_count": 111,
   "metadata": {},
   "outputs": [],
   "source": [
    "df = pd.read_csv('voice.csv', converters={x: lambda z: int(z) if z else z  for x in df.columns[2:]})"
   ]
  },
  {
   "cell_type": "code",
   "execution_count": 23,
   "metadata": {},
   "outputs": [],
   "source": [
    "df[df.columns[1:]].to_csv('voice.csv', index=False)"
   ]
  },
  {
   "cell_type": "code",
   "execution_count": 34,
   "metadata": {},
   "outputs": [],
   "source": [
    "failed_geo = geo_data[geo_data['id'].isin(set(geo_data['id']) - set(df['id']))]"
   ]
  },
  {
   "cell_type": "code",
   "execution_count": 68,
   "metadata": {},
   "outputs": [
    {
     "name": "stdout",
     "output_type": "stream",
     "text": [
      "07-102-0075\n",
      "07-102-0076\n",
      "07-102-0077\n",
      "07-102-0078\n",
      "07-102-0079\n",
      "07-102-0080\n",
      "07-102-0081\n",
      "07-102-0082\n",
      "07-102-0083\n",
      "07-102-0084\n",
      "07-102-0085\n",
      "07-102-0086\n",
      "07-102-0087\n",
      "07-102-0088\n",
      "07-102-0089\n",
      "07-102-0090\n",
      "07-102-0091\n",
      "07-102-0092\n",
      "07-102-0093\n",
      "07-102-0094\n",
      "07-102-0095\n",
      "07-102-0096\n",
      "07-102-0097\n",
      "07-102-0098\n",
      "07-102-0099\n",
      "07-102-0100\n",
      "07-102-0101\n",
      "07-102-0102\n",
      "07-102-0103\n",
      "07-102-0104\n",
      "07-102-0105\n",
      "07-102-0106\n",
      "07-102-0107\n",
      "07-102-0108\n",
      "07-102-0109\n",
      "07-102-0110\n",
      "07-102-0111\n",
      "07-102-0112\n",
      "07-102-0113\n",
      "07-102-0114\n",
      "07-102-0115\n",
      "07-102-0116\n",
      "07-102-0117\n",
      "07-102-0118\n"
     ]
    }
   ],
   "source": [
    "emb_data = []\n",
    "for vid in [x for x in failed_geo['id'] if  x > '07-00']:\n",
    "    fixed_id = '07-102-' + vid.split('-')[-1]\n",
    "    \n",
    "    print(fixed_id)\n",
    "    \n",
    "    vdata = get_voice_data(session, fixed_id)\n",
    "    if vdata is None:\n",
    "        raise ValueError(vid)\n",
    "        \n",
    "    vdata['id'] = vid\n",
    "    emb_data.append(vdata)"
   ]
  },
  {
   "cell_type": "code",
   "execution_count": 72,
   "metadata": {},
   "outputs": [],
   "source": [
    "emb_df = pd.DataFrame(emb_data, dtype=pd.Int64Dtype)\n",
    "emb_df = emb_df[[emb_df.columns[-1]] + list(emb_df.columns[:-1])]"
   ]
  },
  {
   "cell_type": "code",
   "execution_count": 76,
   "metadata": {},
   "outputs": [],
   "source": [
    "emb_df.to_csv('voice.csv', mode='a', header=False, index=False)"
   ]
  },
  {
   "cell_type": "code",
   "execution_count": 129,
   "metadata": {},
   "outputs": [],
   "source": [
    "voice_with_missing.to_csv('voice.csv', index=False)"
   ]
  },
  {
   "cell_type": "code",
   "execution_count": null,
   "metadata": {},
   "outputs": [],
   "source": []
  }
 ],
 "metadata": {
  "kernelspec": {
   "display_name": "Python 3",
   "language": "python",
   "name": "python3"
  },
  "language_info": {
   "codemirror_mode": {
    "name": "ipython",
    "version": 3
   },
   "file_extension": ".py",
   "mimetype": "text/x-python",
   "name": "python",
   "nbconvert_exporter": "python",
   "pygments_lexer": "ipython3",
   "version": "3.8.2"
  }
 },
 "nbformat": 4,
 "nbformat_minor": 4
}
