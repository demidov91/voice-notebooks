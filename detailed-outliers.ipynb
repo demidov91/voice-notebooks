{
 "cells": [
  {
   "cell_type": "code",
   "execution_count": 11,
   "metadata": {},
   "outputs": [],
   "source": [
    "from plotly.graph_objects import Scatter, Figure\n",
    "import pandas as pd\n",
    "import numpy as np"
   ]
  },
  {
   "cell_type": "code",
   "execution_count": 12,
   "metadata": {},
   "outputs": [],
   "source": [
    "df = pd.read_csv('trusted-for-alternative-fixed.csv')"
   ]
  },
  {
   "cell_type": "code",
   "execution_count": 13,
   "metadata": {},
   "outputs": [],
   "source": [
    "areas = ['city', 'minsk_suburb', 'minsk_village', 'capital', 'village', 'town_below100', 'town_over100', 'embassy']\n",
    "candidates = ['against', 'cherechen', 'corrupted', 'dmitriyev', 'kanopatskaja', 'tihanovkaja']"
   ]
  },
  {
   "cell_type": "code",
   "execution_count": 14,
   "metadata": {},
   "outputs": [],
   "source": [
    "def add_exp_off_trace(fig, data, coeff, name):\n",
    "    protest_expected = (data['registered'] - data['lukashenko_registered'] - data['ignore_registered']) * coeff\n",
    "    protest_official = sum(data[f'{c}_officialVotes'] for c in candidates)  \n",
    "\n",
    "    fig.add_trace(Scatter(\n",
    "        x=protest_expected, \n",
    "        y=protest_official,\n",
    "        mode='markers',\n",
    "        name=name,\n",
    "        text=[\n",
    "            f'{ps_id} ({zubr_id})' \n",
    "            for ps_id, zubr_id in zip(data['id'], data['zubr_id'])\n",
    "        ]\n",
    "    ))\n",
    "\n",
    "\n",
    "def expected_vs_official_detailed(area, region, coeff):\n",
    "    fig = Figure(layout_title=f'Expected vs Official ({area} - {region})')\n",
    "\n",
    "    mask = (df['area'] == area) & (df['region'] == region)  \n",
    "    \n",
    "    add_exp_off_trace(\n",
    "        fig, \n",
    "        df[mask & df['wrong-voters-number']], \n",
    "        coeff, \n",
    "        'wrong voters'\n",
    "    )\n",
    "    add_exp_off_trace(\n",
    "        fig, \n",
    "        df[mask & ~df['wrong-voters-number'] & (df['observers'] == 0)], \n",
    "        coeff, \n",
    "        'no-observers'\n",
    "    )\n",
    "    add_exp_off_trace(\n",
    "        fig, \n",
    "        df[mask & ~df['wrong-voters-number'] & df['major-violations'] & (df['observers'] > 0)], \n",
    "        coeff, \n",
    "        'major'\n",
    "    )\n",
    "    add_exp_off_trace(\n",
    "        fig, \n",
    "        df[mask & ~df['wrong-voters-number'] & ~df['major-violations'] & df['minor-violations'] & (df['observers'] > 0)], \n",
    "        coeff, \n",
    "        'minor'\n",
    "    )\n",
    "    add_exp_off_trace(\n",
    "        fig, \n",
    "        df[mask & ~df['wrong-voters-number'] & ~df['major-violations'] & ~df['minor-violations'] & (df['observers'] > 0)], \n",
    "        coeff,\n",
    "        'ok'\n",
    "    )\n",
    "\n",
    "    data = df[mask]        \n",
    "    protest_expected = (data['registered'] - data['lukashenko_registered'] - data['ignore_registered']) * coeff\n",
    "        \n",
    "    fig.add_trace(Scatter(\n",
    "        x=protest_expected, \n",
    "        y=protest_expected,\n",
    "        mode='lines',\n",
    "        name=f'Expected',    \n",
    "    ))\n",
    "\n",
    "    fig.update_xaxes(title='Expected')\n",
    "    fig.update_yaxes(title='Official')\n",
    "\n",
    "\n",
    "    fig.show()"
   ]
  },
  {
   "cell_type": "code",
   "execution_count": 15,
   "metadata": {},
   "outputs": [
    {
     "data": {
      "application/vnd.plotly.v1+json": {
       "config": {
        "plotlyServerURL": "https://plot.ly"
       },
       "data": [
        {
         "mode": "markers",
         "name": "wrong voters",
         "text": [
          "07-001-0005 (159)",
          "07-004-0005 (435)",
          "07-005-0007 (493)",
          "07-005-0034 (520)"
         ],
         "type": "scatter",
         "x": [
          473.801,
          1007.603,
          893.808,
          858.635
         ],
         "y": [
          915,
          1182,
          1084,
          1064
         ]
        },
        {
         "mode": "markers",
         "name": "no-observers",
         "text": [],
         "type": "scatter",
         "x": [],
         "y": []
        },
        {
         "mode": "markers",
         "name": "major",
         "text": [
          "07-003-0094 (418)",
          "07-004-0006 (436)"
         ],
         "type": "scatter",
         "x": [
          1171.0539999999999,
          715.874
         ],
         "y": [
          1440,
          741
         ]
        },
        {
         "mode": "markers",
         "name": "minor",
         "text": [
          "07-001-0010 (164)",
          "07-001-0060 (214)",
          "07-001-0089 (243)",
          "07-003-0024 (348)",
          "07-005-0037 (523)",
          "07-006-0008 (531)",
          "07-006-0037 (560)",
          "07-008-0070 (737)",
          "07-008-0079 (746)",
          "07-009-0014 (803)"
         ],
         "type": "scatter",
         "x": [
          626.907,
          691.0459999999999,
          1094.501,
          794.496,
          1200.02,
          2232.451,
          964.154,
          2441.42,
          792.427,
          701.391
         ],
         "y": [
          882,
          612,
          1259,
          841,
          1523,
          2134,
          991,
          2258,
          679,
          838
         ]
        },
        {
         "mode": "markers",
         "name": "ok",
         "text": [
          "07-001-0008 (162)",
          "07-001-0012 (166)",
          "07-001-0016 (170)",
          "07-001-0022 (176)",
          "07-001-0061 (215)",
          "07-002-0017 (267)",
          "07-002-0044 (294)",
          "07-002-0051 (301)",
          "07-002-0060 (310)",
          "07-002-0072 (322)",
          "07-003-0002 (326)",
          "07-003-0058 (382)",
          "07-003-0085 (409)",
          "07-004-0002 (432)",
          "07-004-0004 (434)",
          "07-004-0007 (437)",
          "07-004-0026 (456)",
          "07-005-0002 (488)",
          "07-005-0021 (507)",
          "07-005-0026 (512)",
          "07-006-0072 (595)",
          "07-008-0057 (724)"
         ],
         "type": "scatter",
         "x": [
          575.182,
          448.973,
          717.943,
          616.562,
          593.803,
          709.667,
          986.913,
          711.736,
          835.876,
          628.976,
          960.016,
          802.7719999999999,
          1216.572,
          711.736,
          697.2529999999999,
          943.4639999999999,
          852.428,
          31.035,
          877.256,
          1090.363,
          966.223,
          943.4639999999999
         ],
         "y": [
          734,
          566,
          598,
          834,
          534,
          680,
          657,
          704,
          683,
          526,
          972,
          609,
          1343,
          700,
          796,
          901,
          877,
          110,
          583,
          911,
          1130,
          760
         ]
        },
        {
         "mode": "lines",
         "name": "Expected",
         "type": "scatter",
         "x": [
          473.801,
          575.182,
          626.907,
          448.973,
          717.943,
          616.562,
          691.0459999999999,
          593.803,
          1094.501,
          709.667,
          986.913,
          711.736,
          835.876,
          628.976,
          960.016,
          794.496,
          802.7719999999999,
          1216.572,
          1171.0539999999999,
          711.736,
          697.2529999999999,
          1007.603,
          715.874,
          943.4639999999999,
          852.428,
          31.035,
          893.808,
          877.256,
          1090.363,
          858.635,
          1200.02,
          2232.451,
          964.154,
          966.223,
          943.4639999999999,
          2441.42,
          792.427,
          701.391
         ],
         "y": [
          473.801,
          575.182,
          626.907,
          448.973,
          717.943,
          616.562,
          691.0459999999999,
          593.803,
          1094.501,
          709.667,
          986.913,
          711.736,
          835.876,
          628.976,
          960.016,
          794.496,
          802.7719999999999,
          1216.572,
          1171.0539999999999,
          711.736,
          697.2529999999999,
          1007.603,
          715.874,
          943.4639999999999,
          852.428,
          31.035,
          893.808,
          877.256,
          1090.363,
          858.635,
          1200.02,
          2232.451,
          964.154,
          966.223,
          943.4639999999999,
          2441.42,
          792.427,
          701.391
         ]
        }
       ],
       "layout": {
        "template": {
         "data": {
          "bar": [
           {
            "error_x": {
             "color": "#2a3f5f"
            },
            "error_y": {
             "color": "#2a3f5f"
            },
            "marker": {
             "line": {
              "color": "#E5ECF6",
              "width": 0.5
             }
            },
            "type": "bar"
           }
          ],
          "barpolar": [
           {
            "marker": {
             "line": {
              "color": "#E5ECF6",
              "width": 0.5
             }
            },
            "type": "barpolar"
           }
          ],
          "carpet": [
           {
            "aaxis": {
             "endlinecolor": "#2a3f5f",
             "gridcolor": "white",
             "linecolor": "white",
             "minorgridcolor": "white",
             "startlinecolor": "#2a3f5f"
            },
            "baxis": {
             "endlinecolor": "#2a3f5f",
             "gridcolor": "white",
             "linecolor": "white",
             "minorgridcolor": "white",
             "startlinecolor": "#2a3f5f"
            },
            "type": "carpet"
           }
          ],
          "choropleth": [
           {
            "colorbar": {
             "outlinewidth": 0,
             "ticks": ""
            },
            "type": "choropleth"
           }
          ],
          "contour": [
           {
            "colorbar": {
             "outlinewidth": 0,
             "ticks": ""
            },
            "colorscale": [
             [
              0,
              "#0d0887"
             ],
             [
              0.1111111111111111,
              "#46039f"
             ],
             [
              0.2222222222222222,
              "#7201a8"
             ],
             [
              0.3333333333333333,
              "#9c179e"
             ],
             [
              0.4444444444444444,
              "#bd3786"
             ],
             [
              0.5555555555555556,
              "#d8576b"
             ],
             [
              0.6666666666666666,
              "#ed7953"
             ],
             [
              0.7777777777777778,
              "#fb9f3a"
             ],
             [
              0.8888888888888888,
              "#fdca26"
             ],
             [
              1,
              "#f0f921"
             ]
            ],
            "type": "contour"
           }
          ],
          "contourcarpet": [
           {
            "colorbar": {
             "outlinewidth": 0,
             "ticks": ""
            },
            "type": "contourcarpet"
           }
          ],
          "heatmap": [
           {
            "colorbar": {
             "outlinewidth": 0,
             "ticks": ""
            },
            "colorscale": [
             [
              0,
              "#0d0887"
             ],
             [
              0.1111111111111111,
              "#46039f"
             ],
             [
              0.2222222222222222,
              "#7201a8"
             ],
             [
              0.3333333333333333,
              "#9c179e"
             ],
             [
              0.4444444444444444,
              "#bd3786"
             ],
             [
              0.5555555555555556,
              "#d8576b"
             ],
             [
              0.6666666666666666,
              "#ed7953"
             ],
             [
              0.7777777777777778,
              "#fb9f3a"
             ],
             [
              0.8888888888888888,
              "#fdca26"
             ],
             [
              1,
              "#f0f921"
             ]
            ],
            "type": "heatmap"
           }
          ],
          "heatmapgl": [
           {
            "colorbar": {
             "outlinewidth": 0,
             "ticks": ""
            },
            "colorscale": [
             [
              0,
              "#0d0887"
             ],
             [
              0.1111111111111111,
              "#46039f"
             ],
             [
              0.2222222222222222,
              "#7201a8"
             ],
             [
              0.3333333333333333,
              "#9c179e"
             ],
             [
              0.4444444444444444,
              "#bd3786"
             ],
             [
              0.5555555555555556,
              "#d8576b"
             ],
             [
              0.6666666666666666,
              "#ed7953"
             ],
             [
              0.7777777777777778,
              "#fb9f3a"
             ],
             [
              0.8888888888888888,
              "#fdca26"
             ],
             [
              1,
              "#f0f921"
             ]
            ],
            "type": "heatmapgl"
           }
          ],
          "histogram": [
           {
            "marker": {
             "colorbar": {
              "outlinewidth": 0,
              "ticks": ""
             }
            },
            "type": "histogram"
           }
          ],
          "histogram2d": [
           {
            "colorbar": {
             "outlinewidth": 0,
             "ticks": ""
            },
            "colorscale": [
             [
              0,
              "#0d0887"
             ],
             [
              0.1111111111111111,
              "#46039f"
             ],
             [
              0.2222222222222222,
              "#7201a8"
             ],
             [
              0.3333333333333333,
              "#9c179e"
             ],
             [
              0.4444444444444444,
              "#bd3786"
             ],
             [
              0.5555555555555556,
              "#d8576b"
             ],
             [
              0.6666666666666666,
              "#ed7953"
             ],
             [
              0.7777777777777778,
              "#fb9f3a"
             ],
             [
              0.8888888888888888,
              "#fdca26"
             ],
             [
              1,
              "#f0f921"
             ]
            ],
            "type": "histogram2d"
           }
          ],
          "histogram2dcontour": [
           {
            "colorbar": {
             "outlinewidth": 0,
             "ticks": ""
            },
            "colorscale": [
             [
              0,
              "#0d0887"
             ],
             [
              0.1111111111111111,
              "#46039f"
             ],
             [
              0.2222222222222222,
              "#7201a8"
             ],
             [
              0.3333333333333333,
              "#9c179e"
             ],
             [
              0.4444444444444444,
              "#bd3786"
             ],
             [
              0.5555555555555556,
              "#d8576b"
             ],
             [
              0.6666666666666666,
              "#ed7953"
             ],
             [
              0.7777777777777778,
              "#fb9f3a"
             ],
             [
              0.8888888888888888,
              "#fdca26"
             ],
             [
              1,
              "#f0f921"
             ]
            ],
            "type": "histogram2dcontour"
           }
          ],
          "mesh3d": [
           {
            "colorbar": {
             "outlinewidth": 0,
             "ticks": ""
            },
            "type": "mesh3d"
           }
          ],
          "parcoords": [
           {
            "line": {
             "colorbar": {
              "outlinewidth": 0,
              "ticks": ""
             }
            },
            "type": "parcoords"
           }
          ],
          "pie": [
           {
            "automargin": true,
            "type": "pie"
           }
          ],
          "scatter": [
           {
            "marker": {
             "colorbar": {
              "outlinewidth": 0,
              "ticks": ""
             }
            },
            "type": "scatter"
           }
          ],
          "scatter3d": [
           {
            "line": {
             "colorbar": {
              "outlinewidth": 0,
              "ticks": ""
             }
            },
            "marker": {
             "colorbar": {
              "outlinewidth": 0,
              "ticks": ""
             }
            },
            "type": "scatter3d"
           }
          ],
          "scattercarpet": [
           {
            "marker": {
             "colorbar": {
              "outlinewidth": 0,
              "ticks": ""
             }
            },
            "type": "scattercarpet"
           }
          ],
          "scattergeo": [
           {
            "marker": {
             "colorbar": {
              "outlinewidth": 0,
              "ticks": ""
             }
            },
            "type": "scattergeo"
           }
          ],
          "scattergl": [
           {
            "marker": {
             "colorbar": {
              "outlinewidth": 0,
              "ticks": ""
             }
            },
            "type": "scattergl"
           }
          ],
          "scattermapbox": [
           {
            "marker": {
             "colorbar": {
              "outlinewidth": 0,
              "ticks": ""
             }
            },
            "type": "scattermapbox"
           }
          ],
          "scatterpolar": [
           {
            "marker": {
             "colorbar": {
              "outlinewidth": 0,
              "ticks": ""
             }
            },
            "type": "scatterpolar"
           }
          ],
          "scatterpolargl": [
           {
            "marker": {
             "colorbar": {
              "outlinewidth": 0,
              "ticks": ""
             }
            },
            "type": "scatterpolargl"
           }
          ],
          "scatterternary": [
           {
            "marker": {
             "colorbar": {
              "outlinewidth": 0,
              "ticks": ""
             }
            },
            "type": "scatterternary"
           }
          ],
          "surface": [
           {
            "colorbar": {
             "outlinewidth": 0,
             "ticks": ""
            },
            "colorscale": [
             [
              0,
              "#0d0887"
             ],
             [
              0.1111111111111111,
              "#46039f"
             ],
             [
              0.2222222222222222,
              "#7201a8"
             ],
             [
              0.3333333333333333,
              "#9c179e"
             ],
             [
              0.4444444444444444,
              "#bd3786"
             ],
             [
              0.5555555555555556,
              "#d8576b"
             ],
             [
              0.6666666666666666,
              "#ed7953"
             ],
             [
              0.7777777777777778,
              "#fb9f3a"
             ],
             [
              0.8888888888888888,
              "#fdca26"
             ],
             [
              1,
              "#f0f921"
             ]
            ],
            "type": "surface"
           }
          ],
          "table": [
           {
            "cells": {
             "fill": {
              "color": "#EBF0F8"
             },
             "line": {
              "color": "white"
             }
            },
            "header": {
             "fill": {
              "color": "#C8D4E3"
             },
             "line": {
              "color": "white"
             }
            },
            "type": "table"
           }
          ]
         },
         "layout": {
          "annotationdefaults": {
           "arrowcolor": "#2a3f5f",
           "arrowhead": 0,
           "arrowwidth": 1
          },
          "coloraxis": {
           "colorbar": {
            "outlinewidth": 0,
            "ticks": ""
           }
          },
          "colorscale": {
           "diverging": [
            [
             0,
             "#8e0152"
            ],
            [
             0.1,
             "#c51b7d"
            ],
            [
             0.2,
             "#de77ae"
            ],
            [
             0.3,
             "#f1b6da"
            ],
            [
             0.4,
             "#fde0ef"
            ],
            [
             0.5,
             "#f7f7f7"
            ],
            [
             0.6,
             "#e6f5d0"
            ],
            [
             0.7,
             "#b8e186"
            ],
            [
             0.8,
             "#7fbc41"
            ],
            [
             0.9,
             "#4d9221"
            ],
            [
             1,
             "#276419"
            ]
           ],
           "sequential": [
            [
             0,
             "#0d0887"
            ],
            [
             0.1111111111111111,
             "#46039f"
            ],
            [
             0.2222222222222222,
             "#7201a8"
            ],
            [
             0.3333333333333333,
             "#9c179e"
            ],
            [
             0.4444444444444444,
             "#bd3786"
            ],
            [
             0.5555555555555556,
             "#d8576b"
            ],
            [
             0.6666666666666666,
             "#ed7953"
            ],
            [
             0.7777777777777778,
             "#fb9f3a"
            ],
            [
             0.8888888888888888,
             "#fdca26"
            ],
            [
             1,
             "#f0f921"
            ]
           ],
           "sequentialminus": [
            [
             0,
             "#0d0887"
            ],
            [
             0.1111111111111111,
             "#46039f"
            ],
            [
             0.2222222222222222,
             "#7201a8"
            ],
            [
             0.3333333333333333,
             "#9c179e"
            ],
            [
             0.4444444444444444,
             "#bd3786"
            ],
            [
             0.5555555555555556,
             "#d8576b"
            ],
            [
             0.6666666666666666,
             "#ed7953"
            ],
            [
             0.7777777777777778,
             "#fb9f3a"
            ],
            [
             0.8888888888888888,
             "#fdca26"
            ],
            [
             1,
             "#f0f921"
            ]
           ]
          },
          "colorway": [
           "#636efa",
           "#EF553B",
           "#00cc96",
           "#ab63fa",
           "#FFA15A",
           "#19d3f3",
           "#FF6692",
           "#B6E880",
           "#FF97FF",
           "#FECB52"
          ],
          "font": {
           "color": "#2a3f5f"
          },
          "geo": {
           "bgcolor": "white",
           "lakecolor": "white",
           "landcolor": "#E5ECF6",
           "showlakes": true,
           "showland": true,
           "subunitcolor": "white"
          },
          "hoverlabel": {
           "align": "left"
          },
          "hovermode": "closest",
          "mapbox": {
           "style": "light"
          },
          "paper_bgcolor": "white",
          "plot_bgcolor": "#E5ECF6",
          "polar": {
           "angularaxis": {
            "gridcolor": "white",
            "linecolor": "white",
            "ticks": ""
           },
           "bgcolor": "#E5ECF6",
           "radialaxis": {
            "gridcolor": "white",
            "linecolor": "white",
            "ticks": ""
           }
          },
          "scene": {
           "xaxis": {
            "backgroundcolor": "#E5ECF6",
            "gridcolor": "white",
            "gridwidth": 2,
            "linecolor": "white",
            "showbackground": true,
            "ticks": "",
            "zerolinecolor": "white"
           },
           "yaxis": {
            "backgroundcolor": "#E5ECF6",
            "gridcolor": "white",
            "gridwidth": 2,
            "linecolor": "white",
            "showbackground": true,
            "ticks": "",
            "zerolinecolor": "white"
           },
           "zaxis": {
            "backgroundcolor": "#E5ECF6",
            "gridcolor": "white",
            "gridwidth": 2,
            "linecolor": "white",
            "showbackground": true,
            "ticks": "",
            "zerolinecolor": "white"
           }
          },
          "shapedefaults": {
           "line": {
            "color": "#2a3f5f"
           }
          },
          "ternary": {
           "aaxis": {
            "gridcolor": "white",
            "linecolor": "white",
            "ticks": ""
           },
           "baxis": {
            "gridcolor": "white",
            "linecolor": "white",
            "ticks": ""
           },
           "bgcolor": "#E5ECF6",
           "caxis": {
            "gridcolor": "white",
            "linecolor": "white",
            "ticks": ""
           }
          },
          "title": {
           "x": 0.05
          },
          "xaxis": {
           "automargin": true,
           "gridcolor": "white",
           "linecolor": "white",
           "ticks": "",
           "title": {
            "standoff": 15
           },
           "zerolinecolor": "white",
           "zerolinewidth": 2
          },
          "yaxis": {
           "automargin": true,
           "gridcolor": "white",
           "linecolor": "white",
           "ticks": "",
           "title": {
            "standoff": 15
           },
           "zerolinecolor": "white",
           "zerolinewidth": 2
          }
         }
        },
        "title": {
         "text": "Expected vs Official (capital - 7)"
        },
        "xaxis": {
         "title": {
          "text": "Expected"
         }
        },
        "yaxis": {
         "title": {
          "text": "Official"
         }
        }
       }
      },
      "text/html": [
       "<div>\n",
       "        \n",
       "        \n",
       "            <div id=\"26125ef6-70b0-4de8-8e73-d7b9f1319178\" class=\"plotly-graph-div\" style=\"height:525px; width:100%;\"></div>\n",
       "            <script type=\"text/javascript\">\n",
       "                require([\"plotly\"], function(Plotly) {\n",
       "                    window.PLOTLYENV=window.PLOTLYENV || {};\n",
       "                    \n",
       "                if (document.getElementById(\"26125ef6-70b0-4de8-8e73-d7b9f1319178\")) {\n",
       "                    Plotly.newPlot(\n",
       "                        '26125ef6-70b0-4de8-8e73-d7b9f1319178',\n",
       "                        [{\"mode\": \"markers\", \"name\": \"wrong voters\", \"text\": [\"07-001-0005 (159)\", \"07-004-0005 (435)\", \"07-005-0007 (493)\", \"07-005-0034 (520)\"], \"type\": \"scatter\", \"x\": [473.801, 1007.603, 893.808, 858.635], \"y\": [915.0, 1182.0, 1084.0, 1064.0]}, {\"mode\": \"markers\", \"name\": \"no-observers\", \"text\": [], \"type\": \"scatter\", \"x\": [], \"y\": []}, {\"mode\": \"markers\", \"name\": \"major\", \"text\": [\"07-003-0094 (418)\", \"07-004-0006 (436)\"], \"type\": \"scatter\", \"x\": [1171.0539999999999, 715.874], \"y\": [1440.0, 741.0]}, {\"mode\": \"markers\", \"name\": \"minor\", \"text\": [\"07-001-0010 (164)\", \"07-001-0060 (214)\", \"07-001-0089 (243)\", \"07-003-0024 (348)\", \"07-005-0037 (523)\", \"07-006-0008 (531)\", \"07-006-0037 (560)\", \"07-008-0070 (737)\", \"07-008-0079 (746)\", \"07-009-0014 (803)\"], \"type\": \"scatter\", \"x\": [626.907, 691.0459999999999, 1094.501, 794.496, 1200.02, 2232.451, 964.154, 2441.42, 792.427, 701.391], \"y\": [882.0, 612.0, 1259.0, 841.0, 1523.0, 2134.0, 991.0, 2258.0, 679.0, 838.0]}, {\"mode\": \"markers\", \"name\": \"ok\", \"text\": [\"07-001-0008 (162)\", \"07-001-0012 (166)\", \"07-001-0016 (170)\", \"07-001-0022 (176)\", \"07-001-0061 (215)\", \"07-002-0017 (267)\", \"07-002-0044 (294)\", \"07-002-0051 (301)\", \"07-002-0060 (310)\", \"07-002-0072 (322)\", \"07-003-0002 (326)\", \"07-003-0058 (382)\", \"07-003-0085 (409)\", \"07-004-0002 (432)\", \"07-004-0004 (434)\", \"07-004-0007 (437)\", \"07-004-0026 (456)\", \"07-005-0002 (488)\", \"07-005-0021 (507)\", \"07-005-0026 (512)\", \"07-006-0072 (595)\", \"07-008-0057 (724)\"], \"type\": \"scatter\", \"x\": [575.182, 448.973, 717.943, 616.562, 593.803, 709.667, 986.913, 711.736, 835.876, 628.976, 960.016, 802.7719999999999, 1216.572, 711.736, 697.2529999999999, 943.4639999999999, 852.428, 31.035, 877.256, 1090.363, 966.223, 943.4639999999999], \"y\": [734.0, 566.0, 598.0, 834.0, 534.0, 680.0, 657.0, 704.0, 683.0, 526.0, 972.0, 609.0, 1343.0, 700.0, 796.0, 901.0, 877.0, 110.0, 583.0, 911.0, 1130.0, 760.0]}, {\"mode\": \"lines\", \"name\": \"Expected\", \"type\": \"scatter\", \"x\": [473.801, 575.182, 626.907, 448.973, 717.943, 616.562, 691.0459999999999, 593.803, 1094.501, 709.667, 986.913, 711.736, 835.876, 628.976, 960.016, 794.496, 802.7719999999999, 1216.572, 1171.0539999999999, 711.736, 697.2529999999999, 1007.603, 715.874, 943.4639999999999, 852.428, 31.035, 893.808, 877.256, 1090.363, 858.635, 1200.02, 2232.451, 964.154, 966.223, 943.4639999999999, 2441.42, 792.427, 701.391], \"y\": [473.801, 575.182, 626.907, 448.973, 717.943, 616.562, 691.0459999999999, 593.803, 1094.501, 709.667, 986.913, 711.736, 835.876, 628.976, 960.016, 794.496, 802.7719999999999, 1216.572, 1171.0539999999999, 711.736, 697.2529999999999, 1007.603, 715.874, 943.4639999999999, 852.428, 31.035, 893.808, 877.256, 1090.363, 858.635, 1200.02, 2232.451, 964.154, 966.223, 943.4639999999999, 2441.42, 792.427, 701.391]}],\n",
       "                        {\"template\": {\"data\": {\"bar\": [{\"error_x\": {\"color\": \"#2a3f5f\"}, \"error_y\": {\"color\": \"#2a3f5f\"}, \"marker\": {\"line\": {\"color\": \"#E5ECF6\", \"width\": 0.5}}, \"type\": \"bar\"}], \"barpolar\": [{\"marker\": {\"line\": {\"color\": \"#E5ECF6\", \"width\": 0.5}}, \"type\": \"barpolar\"}], \"carpet\": [{\"aaxis\": {\"endlinecolor\": \"#2a3f5f\", \"gridcolor\": \"white\", \"linecolor\": \"white\", \"minorgridcolor\": \"white\", \"startlinecolor\": \"#2a3f5f\"}, \"baxis\": {\"endlinecolor\": \"#2a3f5f\", \"gridcolor\": \"white\", \"linecolor\": \"white\", \"minorgridcolor\": \"white\", \"startlinecolor\": \"#2a3f5f\"}, \"type\": \"carpet\"}], \"choropleth\": [{\"colorbar\": {\"outlinewidth\": 0, \"ticks\": \"\"}, \"type\": \"choropleth\"}], \"contour\": [{\"colorbar\": {\"outlinewidth\": 0, \"ticks\": \"\"}, \"colorscale\": [[0.0, \"#0d0887\"], [0.1111111111111111, \"#46039f\"], [0.2222222222222222, \"#7201a8\"], [0.3333333333333333, \"#9c179e\"], [0.4444444444444444, \"#bd3786\"], [0.5555555555555556, \"#d8576b\"], [0.6666666666666666, \"#ed7953\"], [0.7777777777777778, \"#fb9f3a\"], [0.8888888888888888, \"#fdca26\"], [1.0, \"#f0f921\"]], \"type\": \"contour\"}], \"contourcarpet\": [{\"colorbar\": {\"outlinewidth\": 0, \"ticks\": \"\"}, \"type\": \"contourcarpet\"}], \"heatmap\": [{\"colorbar\": {\"outlinewidth\": 0, \"ticks\": \"\"}, \"colorscale\": [[0.0, \"#0d0887\"], [0.1111111111111111, \"#46039f\"], [0.2222222222222222, \"#7201a8\"], [0.3333333333333333, \"#9c179e\"], [0.4444444444444444, \"#bd3786\"], [0.5555555555555556, \"#d8576b\"], [0.6666666666666666, \"#ed7953\"], [0.7777777777777778, \"#fb9f3a\"], [0.8888888888888888, \"#fdca26\"], [1.0, \"#f0f921\"]], \"type\": \"heatmap\"}], \"heatmapgl\": [{\"colorbar\": {\"outlinewidth\": 0, \"ticks\": \"\"}, \"colorscale\": [[0.0, \"#0d0887\"], [0.1111111111111111, \"#46039f\"], [0.2222222222222222, \"#7201a8\"], [0.3333333333333333, \"#9c179e\"], [0.4444444444444444, \"#bd3786\"], [0.5555555555555556, \"#d8576b\"], [0.6666666666666666, \"#ed7953\"], [0.7777777777777778, \"#fb9f3a\"], [0.8888888888888888, \"#fdca26\"], [1.0, \"#f0f921\"]], \"type\": \"heatmapgl\"}], \"histogram\": [{\"marker\": {\"colorbar\": {\"outlinewidth\": 0, \"ticks\": \"\"}}, \"type\": \"histogram\"}], \"histogram2d\": [{\"colorbar\": {\"outlinewidth\": 0, \"ticks\": \"\"}, \"colorscale\": [[0.0, \"#0d0887\"], [0.1111111111111111, \"#46039f\"], [0.2222222222222222, \"#7201a8\"], [0.3333333333333333, \"#9c179e\"], [0.4444444444444444, \"#bd3786\"], [0.5555555555555556, \"#d8576b\"], [0.6666666666666666, \"#ed7953\"], [0.7777777777777778, \"#fb9f3a\"], [0.8888888888888888, \"#fdca26\"], [1.0, \"#f0f921\"]], \"type\": \"histogram2d\"}], \"histogram2dcontour\": [{\"colorbar\": {\"outlinewidth\": 0, \"ticks\": \"\"}, \"colorscale\": [[0.0, \"#0d0887\"], [0.1111111111111111, \"#46039f\"], [0.2222222222222222, \"#7201a8\"], [0.3333333333333333, \"#9c179e\"], [0.4444444444444444, \"#bd3786\"], [0.5555555555555556, \"#d8576b\"], [0.6666666666666666, \"#ed7953\"], [0.7777777777777778, \"#fb9f3a\"], [0.8888888888888888, \"#fdca26\"], [1.0, \"#f0f921\"]], \"type\": \"histogram2dcontour\"}], \"mesh3d\": [{\"colorbar\": {\"outlinewidth\": 0, \"ticks\": \"\"}, \"type\": \"mesh3d\"}], \"parcoords\": [{\"line\": {\"colorbar\": {\"outlinewidth\": 0, \"ticks\": \"\"}}, \"type\": \"parcoords\"}], \"pie\": [{\"automargin\": true, \"type\": \"pie\"}], \"scatter\": [{\"marker\": {\"colorbar\": {\"outlinewidth\": 0, \"ticks\": \"\"}}, \"type\": \"scatter\"}], \"scatter3d\": [{\"line\": {\"colorbar\": {\"outlinewidth\": 0, \"ticks\": \"\"}}, \"marker\": {\"colorbar\": {\"outlinewidth\": 0, \"ticks\": \"\"}}, \"type\": \"scatter3d\"}], \"scattercarpet\": [{\"marker\": {\"colorbar\": {\"outlinewidth\": 0, \"ticks\": \"\"}}, \"type\": \"scattercarpet\"}], \"scattergeo\": [{\"marker\": {\"colorbar\": {\"outlinewidth\": 0, \"ticks\": \"\"}}, \"type\": \"scattergeo\"}], \"scattergl\": [{\"marker\": {\"colorbar\": {\"outlinewidth\": 0, \"ticks\": \"\"}}, \"type\": \"scattergl\"}], \"scattermapbox\": [{\"marker\": {\"colorbar\": {\"outlinewidth\": 0, \"ticks\": \"\"}}, \"type\": \"scattermapbox\"}], \"scatterpolar\": [{\"marker\": {\"colorbar\": {\"outlinewidth\": 0, \"ticks\": \"\"}}, \"type\": \"scatterpolar\"}], \"scatterpolargl\": [{\"marker\": {\"colorbar\": {\"outlinewidth\": 0, \"ticks\": \"\"}}, \"type\": \"scatterpolargl\"}], \"scatterternary\": [{\"marker\": {\"colorbar\": {\"outlinewidth\": 0, \"ticks\": \"\"}}, \"type\": \"scatterternary\"}], \"surface\": [{\"colorbar\": {\"outlinewidth\": 0, \"ticks\": \"\"}, \"colorscale\": [[0.0, \"#0d0887\"], [0.1111111111111111, \"#46039f\"], [0.2222222222222222, \"#7201a8\"], [0.3333333333333333, \"#9c179e\"], [0.4444444444444444, \"#bd3786\"], [0.5555555555555556, \"#d8576b\"], [0.6666666666666666, \"#ed7953\"], [0.7777777777777778, \"#fb9f3a\"], [0.8888888888888888, \"#fdca26\"], [1.0, \"#f0f921\"]], \"type\": \"surface\"}], \"table\": [{\"cells\": {\"fill\": {\"color\": \"#EBF0F8\"}, \"line\": {\"color\": \"white\"}}, \"header\": {\"fill\": {\"color\": \"#C8D4E3\"}, \"line\": {\"color\": \"white\"}}, \"type\": \"table\"}]}, \"layout\": {\"annotationdefaults\": {\"arrowcolor\": \"#2a3f5f\", \"arrowhead\": 0, \"arrowwidth\": 1}, \"coloraxis\": {\"colorbar\": {\"outlinewidth\": 0, \"ticks\": \"\"}}, \"colorscale\": {\"diverging\": [[0, \"#8e0152\"], [0.1, \"#c51b7d\"], [0.2, \"#de77ae\"], [0.3, \"#f1b6da\"], [0.4, \"#fde0ef\"], [0.5, \"#f7f7f7\"], [0.6, \"#e6f5d0\"], [0.7, \"#b8e186\"], [0.8, \"#7fbc41\"], [0.9, \"#4d9221\"], [1, \"#276419\"]], \"sequential\": [[0.0, \"#0d0887\"], [0.1111111111111111, \"#46039f\"], [0.2222222222222222, \"#7201a8\"], [0.3333333333333333, \"#9c179e\"], [0.4444444444444444, \"#bd3786\"], [0.5555555555555556, \"#d8576b\"], [0.6666666666666666, \"#ed7953\"], [0.7777777777777778, \"#fb9f3a\"], [0.8888888888888888, \"#fdca26\"], [1.0, \"#f0f921\"]], \"sequentialminus\": [[0.0, \"#0d0887\"], [0.1111111111111111, \"#46039f\"], [0.2222222222222222, \"#7201a8\"], [0.3333333333333333, \"#9c179e\"], [0.4444444444444444, \"#bd3786\"], [0.5555555555555556, \"#d8576b\"], [0.6666666666666666, \"#ed7953\"], [0.7777777777777778, \"#fb9f3a\"], [0.8888888888888888, \"#fdca26\"], [1.0, \"#f0f921\"]]}, \"colorway\": [\"#636efa\", \"#EF553B\", \"#00cc96\", \"#ab63fa\", \"#FFA15A\", \"#19d3f3\", \"#FF6692\", \"#B6E880\", \"#FF97FF\", \"#FECB52\"], \"font\": {\"color\": \"#2a3f5f\"}, \"geo\": {\"bgcolor\": \"white\", \"lakecolor\": \"white\", \"landcolor\": \"#E5ECF6\", \"showlakes\": true, \"showland\": true, \"subunitcolor\": \"white\"}, \"hoverlabel\": {\"align\": \"left\"}, \"hovermode\": \"closest\", \"mapbox\": {\"style\": \"light\"}, \"paper_bgcolor\": \"white\", \"plot_bgcolor\": \"#E5ECF6\", \"polar\": {\"angularaxis\": {\"gridcolor\": \"white\", \"linecolor\": \"white\", \"ticks\": \"\"}, \"bgcolor\": \"#E5ECF6\", \"radialaxis\": {\"gridcolor\": \"white\", \"linecolor\": \"white\", \"ticks\": \"\"}}, \"scene\": {\"xaxis\": {\"backgroundcolor\": \"#E5ECF6\", \"gridcolor\": \"white\", \"gridwidth\": 2, \"linecolor\": \"white\", \"showbackground\": true, \"ticks\": \"\", \"zerolinecolor\": \"white\"}, \"yaxis\": {\"backgroundcolor\": \"#E5ECF6\", \"gridcolor\": \"white\", \"gridwidth\": 2, \"linecolor\": \"white\", \"showbackground\": true, \"ticks\": \"\", \"zerolinecolor\": \"white\"}, \"zaxis\": {\"backgroundcolor\": \"#E5ECF6\", \"gridcolor\": \"white\", \"gridwidth\": 2, \"linecolor\": \"white\", \"showbackground\": true, \"ticks\": \"\", \"zerolinecolor\": \"white\"}}, \"shapedefaults\": {\"line\": {\"color\": \"#2a3f5f\"}}, \"ternary\": {\"aaxis\": {\"gridcolor\": \"white\", \"linecolor\": \"white\", \"ticks\": \"\"}, \"baxis\": {\"gridcolor\": \"white\", \"linecolor\": \"white\", \"ticks\": \"\"}, \"bgcolor\": \"#E5ECF6\", \"caxis\": {\"gridcolor\": \"white\", \"linecolor\": \"white\", \"ticks\": \"\"}}, \"title\": {\"x\": 0.05}, \"xaxis\": {\"automargin\": true, \"gridcolor\": \"white\", \"linecolor\": \"white\", \"ticks\": \"\", \"title\": {\"standoff\": 15}, \"zerolinecolor\": \"white\", \"zerolinewidth\": 2}, \"yaxis\": {\"automargin\": true, \"gridcolor\": \"white\", \"linecolor\": \"white\", \"ticks\": \"\", \"title\": {\"standoff\": 15}, \"zerolinecolor\": \"white\", \"zerolinewidth\": 2}}}, \"title\": {\"text\": \"Expected vs Official (capital - 7)\"}, \"xaxis\": {\"title\": {\"text\": \"Expected\"}}, \"yaxis\": {\"title\": {\"text\": \"Official\"}}},\n",
       "                        {\"responsive\": true}\n",
       "                    ).then(function(){\n",
       "                            \n",
       "var gd = document.getElementById('26125ef6-70b0-4de8-8e73-d7b9f1319178');\n",
       "var x = new MutationObserver(function (mutations, observer) {{\n",
       "        var display = window.getComputedStyle(gd).display;\n",
       "        if (!display || display === 'none') {{\n",
       "            console.log([gd, 'removed!']);\n",
       "            Plotly.purge(gd);\n",
       "            observer.disconnect();\n",
       "        }}\n",
       "}});\n",
       "\n",
       "// Listen for the removal of the full notebook cells\n",
       "var notebookContainer = gd.closest('#notebook-container');\n",
       "if (notebookContainer) {{\n",
       "    x.observe(notebookContainer, {childList: true});\n",
       "}}\n",
       "\n",
       "// Listen for the clearing of the current output cell\n",
       "var outputEl = gd.closest('.output');\n",
       "if (outputEl) {{\n",
       "    x.observe(outputEl, {childList: true});\n",
       "}}\n",
       "\n",
       "                        })\n",
       "                };\n",
       "                });\n",
       "            </script>\n",
       "        </div>"
      ]
     },
     "metadata": {},
     "output_type": "display_data"
    }
   ],
   "source": [
    "expected_vs_official_detailed('capital', 7, 2.069)"
   ]
  },
  {
   "cell_type": "code",
   "execution_count": 16,
   "metadata": {},
   "outputs": [],
   "source": [
    "def add_photo_trace(fig, data, coeff, name):\n",
    "    tih_expected = data['tihanovkaja_photoVoices'] * coeff\n",
    "    tih_official = data['tihanovkaja_officialVotes']\n",
    "\n",
    "    fig.add_trace(Scatter(\n",
    "        x=tih_expected, \n",
    "        y=tih_official,\n",
    "        mode='markers',\n",
    "        name=name,\n",
    "        text=[\n",
    "            f'{ps_id} ({zubr_id})' \n",
    "            for ps_id, zubr_id in zip(data['id'], data['zubr_id'])\n",
    "        ]\n",
    "    ))\n",
    "\n",
    "\n",
    "def photo_detailed(area, region, coeff):\n",
    "    fig = Figure(layout_title=f'Tihanovkaja Expected vs Official ({area} - {region})')\n",
    "\n",
    "    mask = (df['area'] == area) & (df['region'] == region)  \n",
    "    \n",
    "    add_photo_trace(\n",
    "        fig, \n",
    "        df[mask & df['wrong-voters-number']], \n",
    "        coeff, \n",
    "        'wrong voters'\n",
    "    )\n",
    "    add_photo_trace(\n",
    "        fig, \n",
    "        df[mask & ~df['wrong-voters-number'] & (df['observers'] == 0)], \n",
    "        coeff, \n",
    "        'no-observers'\n",
    "    )\n",
    "    add_photo_trace(\n",
    "        fig, \n",
    "        df[mask & ~df['wrong-voters-number'] & df['major-violations'] & (df['observers'] > 0)], \n",
    "        coeff, \n",
    "        'major'\n",
    "    )\n",
    "    add_photo_trace(\n",
    "        fig, \n",
    "        df[mask & ~df['wrong-voters-number'] & ~df['major-violations'] & df['minor-violations'] & (df['observers'] > 0)], \n",
    "        coeff, \n",
    "        'minor'\n",
    "    )\n",
    "    add_photo_trace(\n",
    "        fig, \n",
    "        df[mask & ~df['wrong-voters-number'] & ~df['major-violations'] & ~df['minor-violations'] & (df['observers'] > 0)], \n",
    "        coeff,\n",
    "        'ok'\n",
    "    )\n",
    "\n",
    "    data = df[mask]        \n",
    "    tih_expected = data['tihanovkaja_photoVoices'] * coeff\n",
    "        \n",
    "    fig.add_trace(Scatter(\n",
    "        x=tih_expected, \n",
    "        y=tih_expected,\n",
    "        mode='lines',\n",
    "        name=f'Expected',    \n",
    "    ))\n",
    "\n",
    "    fig.update_xaxes(title='Expected')\n",
    "    fig.update_yaxes(title='Official')\n",
    "\n",
    "\n",
    "    fig.show()"
   ]
  },
  {
   "cell_type": "code",
   "execution_count": 24,
   "metadata": {
    "scrolled": false
   },
   "outputs": [
    {
     "data": {
      "application/vnd.plotly.v1+json": {
       "config": {
        "plotlyServerURL": "https://plot.ly"
       },
       "data": [
        {
         "mode": "markers",
         "name": "wrong voters",
         "text": [],
         "type": "scatter",
         "x": [],
         "y": []
        },
        {
         "mode": "markers",
         "name": "no-observers",
         "text": [
          "01-053-0021 (1315)",
          "01-142-0002 (1187)"
         ],
         "type": "scatter",
         "x": [
          201.76,
          574.24
         ],
         "y": [
          443,
          641
         ]
        },
        {
         "mode": "markers",
         "name": "major",
         "text": [],
         "type": "scatter",
         "x": [],
         "y": []
        },
        {
         "mode": "markers",
         "name": "minor",
         "text": [
          "01-056-0021 (1431)",
          "01-058-0008 (1532)"
         ],
         "type": "scatter",
         "x": [
          178.48,
          38.8
         ],
         "y": [
          222,
          129
         ]
        },
        {
         "mode": "markers",
         "name": "ok",
         "text": [
          "01-049-0030 (1175)",
          "01-054-0043 (1373)",
          "01-055-0010 (1384)",
          "01-056-0024 (1434)",
          "01-057-0025 (1494)"
         ],
         "type": "scatter",
         "x": [
          356.96,
          473.36,
          46.56,
          69.84,
          124.16
         ],
         "y": [
          421,
          366,
          153,
          121,
          293
         ]
        },
        {
         "mode": "lines",
         "name": "Expected",
         "type": "scatter",
         "x": [
          356.96,
          201.76,
          473.36,
          46.56,
          178.48,
          69.84,
          124.16,
          38.8,
          574.24
         ],
         "y": [
          356.96,
          201.76,
          473.36,
          46.56,
          178.48,
          69.84,
          124.16,
          38.8,
          574.24
         ]
        }
       ],
       "layout": {
        "template": {
         "data": {
          "bar": [
           {
            "error_x": {
             "color": "#2a3f5f"
            },
            "error_y": {
             "color": "#2a3f5f"
            },
            "marker": {
             "line": {
              "color": "#E5ECF6",
              "width": 0.5
             }
            },
            "type": "bar"
           }
          ],
          "barpolar": [
           {
            "marker": {
             "line": {
              "color": "#E5ECF6",
              "width": 0.5
             }
            },
            "type": "barpolar"
           }
          ],
          "carpet": [
           {
            "aaxis": {
             "endlinecolor": "#2a3f5f",
             "gridcolor": "white",
             "linecolor": "white",
             "minorgridcolor": "white",
             "startlinecolor": "#2a3f5f"
            },
            "baxis": {
             "endlinecolor": "#2a3f5f",
             "gridcolor": "white",
             "linecolor": "white",
             "minorgridcolor": "white",
             "startlinecolor": "#2a3f5f"
            },
            "type": "carpet"
           }
          ],
          "choropleth": [
           {
            "colorbar": {
             "outlinewidth": 0,
             "ticks": ""
            },
            "type": "choropleth"
           }
          ],
          "contour": [
           {
            "colorbar": {
             "outlinewidth": 0,
             "ticks": ""
            },
            "colorscale": [
             [
              0,
              "#0d0887"
             ],
             [
              0.1111111111111111,
              "#46039f"
             ],
             [
              0.2222222222222222,
              "#7201a8"
             ],
             [
              0.3333333333333333,
              "#9c179e"
             ],
             [
              0.4444444444444444,
              "#bd3786"
             ],
             [
              0.5555555555555556,
              "#d8576b"
             ],
             [
              0.6666666666666666,
              "#ed7953"
             ],
             [
              0.7777777777777778,
              "#fb9f3a"
             ],
             [
              0.8888888888888888,
              "#fdca26"
             ],
             [
              1,
              "#f0f921"
             ]
            ],
            "type": "contour"
           }
          ],
          "contourcarpet": [
           {
            "colorbar": {
             "outlinewidth": 0,
             "ticks": ""
            },
            "type": "contourcarpet"
           }
          ],
          "heatmap": [
           {
            "colorbar": {
             "outlinewidth": 0,
             "ticks": ""
            },
            "colorscale": [
             [
              0,
              "#0d0887"
             ],
             [
              0.1111111111111111,
              "#46039f"
             ],
             [
              0.2222222222222222,
              "#7201a8"
             ],
             [
              0.3333333333333333,
              "#9c179e"
             ],
             [
              0.4444444444444444,
              "#bd3786"
             ],
             [
              0.5555555555555556,
              "#d8576b"
             ],
             [
              0.6666666666666666,
              "#ed7953"
             ],
             [
              0.7777777777777778,
              "#fb9f3a"
             ],
             [
              0.8888888888888888,
              "#fdca26"
             ],
             [
              1,
              "#f0f921"
             ]
            ],
            "type": "heatmap"
           }
          ],
          "heatmapgl": [
           {
            "colorbar": {
             "outlinewidth": 0,
             "ticks": ""
            },
            "colorscale": [
             [
              0,
              "#0d0887"
             ],
             [
              0.1111111111111111,
              "#46039f"
             ],
             [
              0.2222222222222222,
              "#7201a8"
             ],
             [
              0.3333333333333333,
              "#9c179e"
             ],
             [
              0.4444444444444444,
              "#bd3786"
             ],
             [
              0.5555555555555556,
              "#d8576b"
             ],
             [
              0.6666666666666666,
              "#ed7953"
             ],
             [
              0.7777777777777778,
              "#fb9f3a"
             ],
             [
              0.8888888888888888,
              "#fdca26"
             ],
             [
              1,
              "#f0f921"
             ]
            ],
            "type": "heatmapgl"
           }
          ],
          "histogram": [
           {
            "marker": {
             "colorbar": {
              "outlinewidth": 0,
              "ticks": ""
             }
            },
            "type": "histogram"
           }
          ],
          "histogram2d": [
           {
            "colorbar": {
             "outlinewidth": 0,
             "ticks": ""
            },
            "colorscale": [
             [
              0,
              "#0d0887"
             ],
             [
              0.1111111111111111,
              "#46039f"
             ],
             [
              0.2222222222222222,
              "#7201a8"
             ],
             [
              0.3333333333333333,
              "#9c179e"
             ],
             [
              0.4444444444444444,
              "#bd3786"
             ],
             [
              0.5555555555555556,
              "#d8576b"
             ],
             [
              0.6666666666666666,
              "#ed7953"
             ],
             [
              0.7777777777777778,
              "#fb9f3a"
             ],
             [
              0.8888888888888888,
              "#fdca26"
             ],
             [
              1,
              "#f0f921"
             ]
            ],
            "type": "histogram2d"
           }
          ],
          "histogram2dcontour": [
           {
            "colorbar": {
             "outlinewidth": 0,
             "ticks": ""
            },
            "colorscale": [
             [
              0,
              "#0d0887"
             ],
             [
              0.1111111111111111,
              "#46039f"
             ],
             [
              0.2222222222222222,
              "#7201a8"
             ],
             [
              0.3333333333333333,
              "#9c179e"
             ],
             [
              0.4444444444444444,
              "#bd3786"
             ],
             [
              0.5555555555555556,
              "#d8576b"
             ],
             [
              0.6666666666666666,
              "#ed7953"
             ],
             [
              0.7777777777777778,
              "#fb9f3a"
             ],
             [
              0.8888888888888888,
              "#fdca26"
             ],
             [
              1,
              "#f0f921"
             ]
            ],
            "type": "histogram2dcontour"
           }
          ],
          "mesh3d": [
           {
            "colorbar": {
             "outlinewidth": 0,
             "ticks": ""
            },
            "type": "mesh3d"
           }
          ],
          "parcoords": [
           {
            "line": {
             "colorbar": {
              "outlinewidth": 0,
              "ticks": ""
             }
            },
            "type": "parcoords"
           }
          ],
          "pie": [
           {
            "automargin": true,
            "type": "pie"
           }
          ],
          "scatter": [
           {
            "marker": {
             "colorbar": {
              "outlinewidth": 0,
              "ticks": ""
             }
            },
            "type": "scatter"
           }
          ],
          "scatter3d": [
           {
            "line": {
             "colorbar": {
              "outlinewidth": 0,
              "ticks": ""
             }
            },
            "marker": {
             "colorbar": {
              "outlinewidth": 0,
              "ticks": ""
             }
            },
            "type": "scatter3d"
           }
          ],
          "scattercarpet": [
           {
            "marker": {
             "colorbar": {
              "outlinewidth": 0,
              "ticks": ""
             }
            },
            "type": "scattercarpet"
           }
          ],
          "scattergeo": [
           {
            "marker": {
             "colorbar": {
              "outlinewidth": 0,
              "ticks": ""
             }
            },
            "type": "scattergeo"
           }
          ],
          "scattergl": [
           {
            "marker": {
             "colorbar": {
              "outlinewidth": 0,
              "ticks": ""
             }
            },
            "type": "scattergl"
           }
          ],
          "scattermapbox": [
           {
            "marker": {
             "colorbar": {
              "outlinewidth": 0,
              "ticks": ""
             }
            },
            "type": "scattermapbox"
           }
          ],
          "scatterpolar": [
           {
            "marker": {
             "colorbar": {
              "outlinewidth": 0,
              "ticks": ""
             }
            },
            "type": "scatterpolar"
           }
          ],
          "scatterpolargl": [
           {
            "marker": {
             "colorbar": {
              "outlinewidth": 0,
              "ticks": ""
             }
            },
            "type": "scatterpolargl"
           }
          ],
          "scatterternary": [
           {
            "marker": {
             "colorbar": {
              "outlinewidth": 0,
              "ticks": ""
             }
            },
            "type": "scatterternary"
           }
          ],
          "surface": [
           {
            "colorbar": {
             "outlinewidth": 0,
             "ticks": ""
            },
            "colorscale": [
             [
              0,
              "#0d0887"
             ],
             [
              0.1111111111111111,
              "#46039f"
             ],
             [
              0.2222222222222222,
              "#7201a8"
             ],
             [
              0.3333333333333333,
              "#9c179e"
             ],
             [
              0.4444444444444444,
              "#bd3786"
             ],
             [
              0.5555555555555556,
              "#d8576b"
             ],
             [
              0.6666666666666666,
              "#ed7953"
             ],
             [
              0.7777777777777778,
              "#fb9f3a"
             ],
             [
              0.8888888888888888,
              "#fdca26"
             ],
             [
              1,
              "#f0f921"
             ]
            ],
            "type": "surface"
           }
          ],
          "table": [
           {
            "cells": {
             "fill": {
              "color": "#EBF0F8"
             },
             "line": {
              "color": "white"
             }
            },
            "header": {
             "fill": {
              "color": "#C8D4E3"
             },
             "line": {
              "color": "white"
             }
            },
            "type": "table"
           }
          ]
         },
         "layout": {
          "annotationdefaults": {
           "arrowcolor": "#2a3f5f",
           "arrowhead": 0,
           "arrowwidth": 1
          },
          "coloraxis": {
           "colorbar": {
            "outlinewidth": 0,
            "ticks": ""
           }
          },
          "colorscale": {
           "diverging": [
            [
             0,
             "#8e0152"
            ],
            [
             0.1,
             "#c51b7d"
            ],
            [
             0.2,
             "#de77ae"
            ],
            [
             0.3,
             "#f1b6da"
            ],
            [
             0.4,
             "#fde0ef"
            ],
            [
             0.5,
             "#f7f7f7"
            ],
            [
             0.6,
             "#e6f5d0"
            ],
            [
             0.7,
             "#b8e186"
            ],
            [
             0.8,
             "#7fbc41"
            ],
            [
             0.9,
             "#4d9221"
            ],
            [
             1,
             "#276419"
            ]
           ],
           "sequential": [
            [
             0,
             "#0d0887"
            ],
            [
             0.1111111111111111,
             "#46039f"
            ],
            [
             0.2222222222222222,
             "#7201a8"
            ],
            [
             0.3333333333333333,
             "#9c179e"
            ],
            [
             0.4444444444444444,
             "#bd3786"
            ],
            [
             0.5555555555555556,
             "#d8576b"
            ],
            [
             0.6666666666666666,
             "#ed7953"
            ],
            [
             0.7777777777777778,
             "#fb9f3a"
            ],
            [
             0.8888888888888888,
             "#fdca26"
            ],
            [
             1,
             "#f0f921"
            ]
           ],
           "sequentialminus": [
            [
             0,
             "#0d0887"
            ],
            [
             0.1111111111111111,
             "#46039f"
            ],
            [
             0.2222222222222222,
             "#7201a8"
            ],
            [
             0.3333333333333333,
             "#9c179e"
            ],
            [
             0.4444444444444444,
             "#bd3786"
            ],
            [
             0.5555555555555556,
             "#d8576b"
            ],
            [
             0.6666666666666666,
             "#ed7953"
            ],
            [
             0.7777777777777778,
             "#fb9f3a"
            ],
            [
             0.8888888888888888,
             "#fdca26"
            ],
            [
             1,
             "#f0f921"
            ]
           ]
          },
          "colorway": [
           "#636efa",
           "#EF553B",
           "#00cc96",
           "#ab63fa",
           "#FFA15A",
           "#19d3f3",
           "#FF6692",
           "#B6E880",
           "#FF97FF",
           "#FECB52"
          ],
          "font": {
           "color": "#2a3f5f"
          },
          "geo": {
           "bgcolor": "white",
           "lakecolor": "white",
           "landcolor": "#E5ECF6",
           "showlakes": true,
           "showland": true,
           "subunitcolor": "white"
          },
          "hoverlabel": {
           "align": "left"
          },
          "hovermode": "closest",
          "mapbox": {
           "style": "light"
          },
          "paper_bgcolor": "white",
          "plot_bgcolor": "#E5ECF6",
          "polar": {
           "angularaxis": {
            "gridcolor": "white",
            "linecolor": "white",
            "ticks": ""
           },
           "bgcolor": "#E5ECF6",
           "radialaxis": {
            "gridcolor": "white",
            "linecolor": "white",
            "ticks": ""
           }
          },
          "scene": {
           "xaxis": {
            "backgroundcolor": "#E5ECF6",
            "gridcolor": "white",
            "gridwidth": 2,
            "linecolor": "white",
            "showbackground": true,
            "ticks": "",
            "zerolinecolor": "white"
           },
           "yaxis": {
            "backgroundcolor": "#E5ECF6",
            "gridcolor": "white",
            "gridwidth": 2,
            "linecolor": "white",
            "showbackground": true,
            "ticks": "",
            "zerolinecolor": "white"
           },
           "zaxis": {
            "backgroundcolor": "#E5ECF6",
            "gridcolor": "white",
            "gridwidth": 2,
            "linecolor": "white",
            "showbackground": true,
            "ticks": "",
            "zerolinecolor": "white"
           }
          },
          "shapedefaults": {
           "line": {
            "color": "#2a3f5f"
           }
          },
          "ternary": {
           "aaxis": {
            "gridcolor": "white",
            "linecolor": "white",
            "ticks": ""
           },
           "baxis": {
            "gridcolor": "white",
            "linecolor": "white",
            "ticks": ""
           },
           "bgcolor": "#E5ECF6",
           "caxis": {
            "gridcolor": "white",
            "linecolor": "white",
            "ticks": ""
           }
          },
          "title": {
           "x": 0.05
          },
          "xaxis": {
           "automargin": true,
           "gridcolor": "white",
           "linecolor": "white",
           "ticks": "",
           "title": {
            "standoff": 15
           },
           "zerolinecolor": "white",
           "zerolinewidth": 2
          },
          "yaxis": {
           "automargin": true,
           "gridcolor": "white",
           "linecolor": "white",
           "ticks": "",
           "title": {
            "standoff": 15
           },
           "zerolinecolor": "white",
           "zerolinewidth": 2
          }
         }
        },
        "title": {
         "text": "Tihanovkaja Expected vs Official (village - 1)"
        },
        "xaxis": {
         "title": {
          "text": "Expected"
         }
        },
        "yaxis": {
         "title": {
          "text": "Official"
         }
        }
       }
      },
      "text/html": [
       "<div>\n",
       "        \n",
       "        \n",
       "            <div id=\"5128eee1-a918-472f-b005-442f1f1316b1\" class=\"plotly-graph-div\" style=\"height:525px; width:100%;\"></div>\n",
       "            <script type=\"text/javascript\">\n",
       "                require([\"plotly\"], function(Plotly) {\n",
       "                    window.PLOTLYENV=window.PLOTLYENV || {};\n",
       "                    \n",
       "                if (document.getElementById(\"5128eee1-a918-472f-b005-442f1f1316b1\")) {\n",
       "                    Plotly.newPlot(\n",
       "                        '5128eee1-a918-472f-b005-442f1f1316b1',\n",
       "                        [{\"mode\": \"markers\", \"name\": \"wrong voters\", \"text\": [], \"type\": \"scatter\", \"x\": [], \"y\": []}, {\"mode\": \"markers\", \"name\": \"no-observers\", \"text\": [\"01-053-0021 (1315)\", \"01-142-0002 (1187)\"], \"type\": \"scatter\", \"x\": [201.76, 574.24], \"y\": [443.0, 641.0]}, {\"mode\": \"markers\", \"name\": \"major\", \"text\": [], \"type\": \"scatter\", \"x\": [], \"y\": []}, {\"mode\": \"markers\", \"name\": \"minor\", \"text\": [\"01-056-0021 (1431)\", \"01-058-0008 (1532)\"], \"type\": \"scatter\", \"x\": [178.48, 38.8], \"y\": [222.0, 129.0]}, {\"mode\": \"markers\", \"name\": \"ok\", \"text\": [\"01-049-0030 (1175)\", \"01-054-0043 (1373)\", \"01-055-0010 (1384)\", \"01-056-0024 (1434)\", \"01-057-0025 (1494)\"], \"type\": \"scatter\", \"x\": [356.96, 473.36, 46.56, 69.84, 124.16], \"y\": [421.0, 366.0, 153.0, 121.0, 293.0]}, {\"mode\": \"lines\", \"name\": \"Expected\", \"type\": \"scatter\", \"x\": [356.96, 201.76, 473.36, 46.56, 178.48, 69.84, 124.16, 38.8, 574.24], \"y\": [356.96, 201.76, 473.36, 46.56, 178.48, 69.84, 124.16, 38.8, 574.24]}],\n",
       "                        {\"template\": {\"data\": {\"bar\": [{\"error_x\": {\"color\": \"#2a3f5f\"}, \"error_y\": {\"color\": \"#2a3f5f\"}, \"marker\": {\"line\": {\"color\": \"#E5ECF6\", \"width\": 0.5}}, \"type\": \"bar\"}], \"barpolar\": [{\"marker\": {\"line\": {\"color\": \"#E5ECF6\", \"width\": 0.5}}, \"type\": \"barpolar\"}], \"carpet\": [{\"aaxis\": {\"endlinecolor\": \"#2a3f5f\", \"gridcolor\": \"white\", \"linecolor\": \"white\", \"minorgridcolor\": \"white\", \"startlinecolor\": \"#2a3f5f\"}, \"baxis\": {\"endlinecolor\": \"#2a3f5f\", \"gridcolor\": \"white\", \"linecolor\": \"white\", \"minorgridcolor\": \"white\", \"startlinecolor\": \"#2a3f5f\"}, \"type\": \"carpet\"}], \"choropleth\": [{\"colorbar\": {\"outlinewidth\": 0, \"ticks\": \"\"}, \"type\": \"choropleth\"}], \"contour\": [{\"colorbar\": {\"outlinewidth\": 0, \"ticks\": \"\"}, \"colorscale\": [[0.0, \"#0d0887\"], [0.1111111111111111, \"#46039f\"], [0.2222222222222222, \"#7201a8\"], [0.3333333333333333, \"#9c179e\"], [0.4444444444444444, \"#bd3786\"], [0.5555555555555556, \"#d8576b\"], [0.6666666666666666, \"#ed7953\"], [0.7777777777777778, \"#fb9f3a\"], [0.8888888888888888, \"#fdca26\"], [1.0, \"#f0f921\"]], \"type\": \"contour\"}], \"contourcarpet\": [{\"colorbar\": {\"outlinewidth\": 0, \"ticks\": \"\"}, \"type\": \"contourcarpet\"}], \"heatmap\": [{\"colorbar\": {\"outlinewidth\": 0, \"ticks\": \"\"}, \"colorscale\": [[0.0, \"#0d0887\"], [0.1111111111111111, \"#46039f\"], [0.2222222222222222, \"#7201a8\"], [0.3333333333333333, \"#9c179e\"], [0.4444444444444444, \"#bd3786\"], [0.5555555555555556, \"#d8576b\"], [0.6666666666666666, \"#ed7953\"], [0.7777777777777778, \"#fb9f3a\"], [0.8888888888888888, \"#fdca26\"], [1.0, \"#f0f921\"]], \"type\": \"heatmap\"}], \"heatmapgl\": [{\"colorbar\": {\"outlinewidth\": 0, \"ticks\": \"\"}, \"colorscale\": [[0.0, \"#0d0887\"], [0.1111111111111111, \"#46039f\"], [0.2222222222222222, \"#7201a8\"], [0.3333333333333333, \"#9c179e\"], [0.4444444444444444, \"#bd3786\"], [0.5555555555555556, \"#d8576b\"], [0.6666666666666666, \"#ed7953\"], [0.7777777777777778, \"#fb9f3a\"], [0.8888888888888888, \"#fdca26\"], [1.0, \"#f0f921\"]], \"type\": \"heatmapgl\"}], \"histogram\": [{\"marker\": {\"colorbar\": {\"outlinewidth\": 0, \"ticks\": \"\"}}, \"type\": \"histogram\"}], \"histogram2d\": [{\"colorbar\": {\"outlinewidth\": 0, \"ticks\": \"\"}, \"colorscale\": [[0.0, \"#0d0887\"], [0.1111111111111111, \"#46039f\"], [0.2222222222222222, \"#7201a8\"], [0.3333333333333333, \"#9c179e\"], [0.4444444444444444, \"#bd3786\"], [0.5555555555555556, \"#d8576b\"], [0.6666666666666666, \"#ed7953\"], [0.7777777777777778, \"#fb9f3a\"], [0.8888888888888888, \"#fdca26\"], [1.0, \"#f0f921\"]], \"type\": \"histogram2d\"}], \"histogram2dcontour\": [{\"colorbar\": {\"outlinewidth\": 0, \"ticks\": \"\"}, \"colorscale\": [[0.0, \"#0d0887\"], [0.1111111111111111, \"#46039f\"], [0.2222222222222222, \"#7201a8\"], [0.3333333333333333, \"#9c179e\"], [0.4444444444444444, \"#bd3786\"], [0.5555555555555556, \"#d8576b\"], [0.6666666666666666, \"#ed7953\"], [0.7777777777777778, \"#fb9f3a\"], [0.8888888888888888, \"#fdca26\"], [1.0, \"#f0f921\"]], \"type\": \"histogram2dcontour\"}], \"mesh3d\": [{\"colorbar\": {\"outlinewidth\": 0, \"ticks\": \"\"}, \"type\": \"mesh3d\"}], \"parcoords\": [{\"line\": {\"colorbar\": {\"outlinewidth\": 0, \"ticks\": \"\"}}, \"type\": \"parcoords\"}], \"pie\": [{\"automargin\": true, \"type\": \"pie\"}], \"scatter\": [{\"marker\": {\"colorbar\": {\"outlinewidth\": 0, \"ticks\": \"\"}}, \"type\": \"scatter\"}], \"scatter3d\": [{\"line\": {\"colorbar\": {\"outlinewidth\": 0, \"ticks\": \"\"}}, \"marker\": {\"colorbar\": {\"outlinewidth\": 0, \"ticks\": \"\"}}, \"type\": \"scatter3d\"}], \"scattercarpet\": [{\"marker\": {\"colorbar\": {\"outlinewidth\": 0, \"ticks\": \"\"}}, \"type\": \"scattercarpet\"}], \"scattergeo\": [{\"marker\": {\"colorbar\": {\"outlinewidth\": 0, \"ticks\": \"\"}}, \"type\": \"scattergeo\"}], \"scattergl\": [{\"marker\": {\"colorbar\": {\"outlinewidth\": 0, \"ticks\": \"\"}}, \"type\": \"scattergl\"}], \"scattermapbox\": [{\"marker\": {\"colorbar\": {\"outlinewidth\": 0, \"ticks\": \"\"}}, \"type\": \"scattermapbox\"}], \"scatterpolar\": [{\"marker\": {\"colorbar\": {\"outlinewidth\": 0, \"ticks\": \"\"}}, \"type\": \"scatterpolar\"}], \"scatterpolargl\": [{\"marker\": {\"colorbar\": {\"outlinewidth\": 0, \"ticks\": \"\"}}, \"type\": \"scatterpolargl\"}], \"scatterternary\": [{\"marker\": {\"colorbar\": {\"outlinewidth\": 0, \"ticks\": \"\"}}, \"type\": \"scatterternary\"}], \"surface\": [{\"colorbar\": {\"outlinewidth\": 0, \"ticks\": \"\"}, \"colorscale\": [[0.0, \"#0d0887\"], [0.1111111111111111, \"#46039f\"], [0.2222222222222222, \"#7201a8\"], [0.3333333333333333, \"#9c179e\"], [0.4444444444444444, \"#bd3786\"], [0.5555555555555556, \"#d8576b\"], [0.6666666666666666, \"#ed7953\"], [0.7777777777777778, \"#fb9f3a\"], [0.8888888888888888, \"#fdca26\"], [1.0, \"#f0f921\"]], \"type\": \"surface\"}], \"table\": [{\"cells\": {\"fill\": {\"color\": \"#EBF0F8\"}, \"line\": {\"color\": \"white\"}}, \"header\": {\"fill\": {\"color\": \"#C8D4E3\"}, \"line\": {\"color\": \"white\"}}, \"type\": \"table\"}]}, \"layout\": {\"annotationdefaults\": {\"arrowcolor\": \"#2a3f5f\", \"arrowhead\": 0, \"arrowwidth\": 1}, \"coloraxis\": {\"colorbar\": {\"outlinewidth\": 0, \"ticks\": \"\"}}, \"colorscale\": {\"diverging\": [[0, \"#8e0152\"], [0.1, \"#c51b7d\"], [0.2, \"#de77ae\"], [0.3, \"#f1b6da\"], [0.4, \"#fde0ef\"], [0.5, \"#f7f7f7\"], [0.6, \"#e6f5d0\"], [0.7, \"#b8e186\"], [0.8, \"#7fbc41\"], [0.9, \"#4d9221\"], [1, \"#276419\"]], \"sequential\": [[0.0, \"#0d0887\"], [0.1111111111111111, \"#46039f\"], [0.2222222222222222, \"#7201a8\"], [0.3333333333333333, \"#9c179e\"], [0.4444444444444444, \"#bd3786\"], [0.5555555555555556, \"#d8576b\"], [0.6666666666666666, \"#ed7953\"], [0.7777777777777778, \"#fb9f3a\"], [0.8888888888888888, \"#fdca26\"], [1.0, \"#f0f921\"]], \"sequentialminus\": [[0.0, \"#0d0887\"], [0.1111111111111111, \"#46039f\"], [0.2222222222222222, \"#7201a8\"], [0.3333333333333333, \"#9c179e\"], [0.4444444444444444, \"#bd3786\"], [0.5555555555555556, \"#d8576b\"], [0.6666666666666666, \"#ed7953\"], [0.7777777777777778, \"#fb9f3a\"], [0.8888888888888888, \"#fdca26\"], [1.0, \"#f0f921\"]]}, \"colorway\": [\"#636efa\", \"#EF553B\", \"#00cc96\", \"#ab63fa\", \"#FFA15A\", \"#19d3f3\", \"#FF6692\", \"#B6E880\", \"#FF97FF\", \"#FECB52\"], \"font\": {\"color\": \"#2a3f5f\"}, \"geo\": {\"bgcolor\": \"white\", \"lakecolor\": \"white\", \"landcolor\": \"#E5ECF6\", \"showlakes\": true, \"showland\": true, \"subunitcolor\": \"white\"}, \"hoverlabel\": {\"align\": \"left\"}, \"hovermode\": \"closest\", \"mapbox\": {\"style\": \"light\"}, \"paper_bgcolor\": \"white\", \"plot_bgcolor\": \"#E5ECF6\", \"polar\": {\"angularaxis\": {\"gridcolor\": \"white\", \"linecolor\": \"white\", \"ticks\": \"\"}, \"bgcolor\": \"#E5ECF6\", \"radialaxis\": {\"gridcolor\": \"white\", \"linecolor\": \"white\", \"ticks\": \"\"}}, \"scene\": {\"xaxis\": {\"backgroundcolor\": \"#E5ECF6\", \"gridcolor\": \"white\", \"gridwidth\": 2, \"linecolor\": \"white\", \"showbackground\": true, \"ticks\": \"\", \"zerolinecolor\": \"white\"}, \"yaxis\": {\"backgroundcolor\": \"#E5ECF6\", \"gridcolor\": \"white\", \"gridwidth\": 2, \"linecolor\": \"white\", \"showbackground\": true, \"ticks\": \"\", \"zerolinecolor\": \"white\"}, \"zaxis\": {\"backgroundcolor\": \"#E5ECF6\", \"gridcolor\": \"white\", \"gridwidth\": 2, \"linecolor\": \"white\", \"showbackground\": true, \"ticks\": \"\", \"zerolinecolor\": \"white\"}}, \"shapedefaults\": {\"line\": {\"color\": \"#2a3f5f\"}}, \"ternary\": {\"aaxis\": {\"gridcolor\": \"white\", \"linecolor\": \"white\", \"ticks\": \"\"}, \"baxis\": {\"gridcolor\": \"white\", \"linecolor\": \"white\", \"ticks\": \"\"}, \"bgcolor\": \"#E5ECF6\", \"caxis\": {\"gridcolor\": \"white\", \"linecolor\": \"white\", \"ticks\": \"\"}}, \"title\": {\"x\": 0.05}, \"xaxis\": {\"automargin\": true, \"gridcolor\": \"white\", \"linecolor\": \"white\", \"ticks\": \"\", \"title\": {\"standoff\": 15}, \"zerolinecolor\": \"white\", \"zerolinewidth\": 2}, \"yaxis\": {\"automargin\": true, \"gridcolor\": \"white\", \"linecolor\": \"white\", \"ticks\": \"\", \"title\": {\"standoff\": 15}, \"zerolinecolor\": \"white\", \"zerolinewidth\": 2}}}, \"title\": {\"text\": \"Tihanovkaja Expected vs Official (village - 1)\"}, \"xaxis\": {\"title\": {\"text\": \"Expected\"}}, \"yaxis\": {\"title\": {\"text\": \"Official\"}}},\n",
       "                        {\"responsive\": true}\n",
       "                    ).then(function(){\n",
       "                            \n",
       "var gd = document.getElementById('5128eee1-a918-472f-b005-442f1f1316b1');\n",
       "var x = new MutationObserver(function (mutations, observer) {{\n",
       "        var display = window.getComputedStyle(gd).display;\n",
       "        if (!display || display === 'none') {{\n",
       "            console.log([gd, 'removed!']);\n",
       "            Plotly.purge(gd);\n",
       "            observer.disconnect();\n",
       "        }}\n",
       "}});\n",
       "\n",
       "// Listen for the removal of the full notebook cells\n",
       "var notebookContainer = gd.closest('#notebook-container');\n",
       "if (notebookContainer) {{\n",
       "    x.observe(notebookContainer, {childList: true});\n",
       "}}\n",
       "\n",
       "// Listen for the clearing of the current output cell\n",
       "var outputEl = gd.closest('.output');\n",
       "if (outputEl) {{\n",
       "    x.observe(outputEl, {childList: true});\n",
       "}}\n",
       "\n",
       "                        })\n",
       "                };\n",
       "                });\n",
       "            </script>\n",
       "        </div>"
      ]
     },
     "metadata": {},
     "output_type": "display_data"
    }
   ],
   "source": [
    "photo_detailed('village', 1, 7.760)"
   ]
  },
  {
   "cell_type": "code",
   "execution_count": 10,
   "metadata": {},
   "outputs": [
    {
     "data": {
      "application/vnd.plotly.v1+json": {
       "config": {
        "plotlyServerURL": "https://plot.ly"
       },
       "data": [
        {
         "mode": "markers",
         "name": "wrong voters",
         "text": [
          "07-001-0005 (159)",
          "07-004-0005 (435)",
          "07-005-0007 (493)",
          "07-005-0034 (520)"
         ],
         "type": "scatter",
         "x": [
          347.752,
          710.846,
          715.96,
          557.4259999999999
         ],
         "y": [
          644,
          974,
          890,
          782
         ]
        },
        {
         "mode": "markers",
         "name": "no-observers",
         "text": [],
         "type": "scatter",
         "x": [],
         "y": []
        },
        {
         "mode": "markers",
         "name": "major",
         "text": [
          "07-003-0094 (418)",
          "07-004-0006 (436)"
         ],
         "type": "scatter",
         "x": [
          933.305,
          554.869
         ],
         "y": [
          1121,
          581
         ]
        },
        {
         "mode": "markers",
         "name": "minor",
         "text": [
          "07-001-0010 (164)",
          "07-001-0060 (214)",
          "07-001-0089 (243)",
          "07-003-0024 (348)",
          "07-005-0037 (523)",
          "07-006-0008 (531)",
          "07-006-0037 (560)",
          "07-008-0070 (737)",
          "07-008-0079 (746)",
          "07-009-0014 (803)"
         ],
         "type": "scatter",
         "x": [
          480.716,
          447.47499999999997,
          905.178,
          629.0219999999999,
          889.836,
          1825.6979999999999,
          710.846,
          2020.03,
          598.338,
          526.742
         ],
         "y": [
          751,
          465,
          1006,
          686,
          1259,
          1869,
          848,
          1979,
          394,
          707
         ]
        },
        {
         "mode": "markers",
         "name": "ok",
         "text": [
          "07-001-0008 (162)",
          "07-001-0012 (166)",
          "07-001-0016 (170)",
          "07-001-0022 (176)",
          "07-001-0061 (215)",
          "07-002-0017 (267)",
          "07-002-0044 (294)",
          "07-002-0051 (301)",
          "07-002-0060 (310)",
          "07-002-0072 (322)",
          "07-003-0002 (326)",
          "07-003-0058 (382)",
          "07-003-0085 (409)",
          "07-004-0002 (432)",
          "07-004-0004 (434)",
          "07-004-0007 (437)",
          "07-004-0026 (456)",
          "07-005-0002 (488)",
          "07-005-0021 (507)",
          "07-005-0026 (512)",
          "07-006-0072 (595)",
          "07-008-0057 (724)"
         ],
         "type": "scatter",
         "x": [
          409.12,
          291.498,
          470.488,
          470.488,
          386.10699999999997,
          513.957,
          761.986,
          483.27299999999997,
          623.908,
          508.84299999999996,
          777.328,
          700.6179999999999,
          1020.2429999999999,
          547.198,
          524.185,
          728.745,
          636.693,
          17.899,
          754.3149999999999,
          787.5559999999999,
          749.201,
          705.732
         ],
         "y": [
          615,
          500,
          402,
          561,
          390,
          339,
          469,
          550,
          476,
          430,
          815,
          541,
          928,
          420,
          510,
          460,
          713,
          69,
          480,
          704,
          605,
          539
         ]
        },
        {
         "mode": "lines",
         "name": "Expected",
         "type": "scatter",
         "x": [
          347.752,
          409.12,
          480.716,
          291.498,
          470.488,
          470.488,
          447.47499999999997,
          386.10699999999997,
          905.178,
          513.957,
          761.986,
          483.27299999999997,
          623.908,
          508.84299999999996,
          777.328,
          629.0219999999999,
          700.6179999999999,
          1020.2429999999999,
          933.305,
          547.198,
          524.185,
          710.846,
          554.869,
          728.745,
          636.693,
          17.899,
          715.96,
          754.3149999999999,
          787.5559999999999,
          557.4259999999999,
          889.836,
          1825.6979999999999,
          710.846,
          749.201,
          705.732,
          2020.03,
          598.338,
          526.742
         ],
         "y": [
          347.752,
          409.12,
          480.716,
          291.498,
          470.488,
          470.488,
          447.47499999999997,
          386.10699999999997,
          905.178,
          513.957,
          761.986,
          483.27299999999997,
          623.908,
          508.84299999999996,
          777.328,
          629.0219999999999,
          700.6179999999999,
          1020.2429999999999,
          933.305,
          547.198,
          524.185,
          710.846,
          554.869,
          728.745,
          636.693,
          17.899,
          715.96,
          754.3149999999999,
          787.5559999999999,
          557.4259999999999,
          889.836,
          1825.6979999999999,
          710.846,
          749.201,
          705.732,
          2020.03,
          598.338,
          526.742
         ]
        }
       ],
       "layout": {
        "template": {
         "data": {
          "bar": [
           {
            "error_x": {
             "color": "#2a3f5f"
            },
            "error_y": {
             "color": "#2a3f5f"
            },
            "marker": {
             "line": {
              "color": "#E5ECF6",
              "width": 0.5
             }
            },
            "type": "bar"
           }
          ],
          "barpolar": [
           {
            "marker": {
             "line": {
              "color": "#E5ECF6",
              "width": 0.5
             }
            },
            "type": "barpolar"
           }
          ],
          "carpet": [
           {
            "aaxis": {
             "endlinecolor": "#2a3f5f",
             "gridcolor": "white",
             "linecolor": "white",
             "minorgridcolor": "white",
             "startlinecolor": "#2a3f5f"
            },
            "baxis": {
             "endlinecolor": "#2a3f5f",
             "gridcolor": "white",
             "linecolor": "white",
             "minorgridcolor": "white",
             "startlinecolor": "#2a3f5f"
            },
            "type": "carpet"
           }
          ],
          "choropleth": [
           {
            "colorbar": {
             "outlinewidth": 0,
             "ticks": ""
            },
            "type": "choropleth"
           }
          ],
          "contour": [
           {
            "colorbar": {
             "outlinewidth": 0,
             "ticks": ""
            },
            "colorscale": [
             [
              0,
              "#0d0887"
             ],
             [
              0.1111111111111111,
              "#46039f"
             ],
             [
              0.2222222222222222,
              "#7201a8"
             ],
             [
              0.3333333333333333,
              "#9c179e"
             ],
             [
              0.4444444444444444,
              "#bd3786"
             ],
             [
              0.5555555555555556,
              "#d8576b"
             ],
             [
              0.6666666666666666,
              "#ed7953"
             ],
             [
              0.7777777777777778,
              "#fb9f3a"
             ],
             [
              0.8888888888888888,
              "#fdca26"
             ],
             [
              1,
              "#f0f921"
             ]
            ],
            "type": "contour"
           }
          ],
          "contourcarpet": [
           {
            "colorbar": {
             "outlinewidth": 0,
             "ticks": ""
            },
            "type": "contourcarpet"
           }
          ],
          "heatmap": [
           {
            "colorbar": {
             "outlinewidth": 0,
             "ticks": ""
            },
            "colorscale": [
             [
              0,
              "#0d0887"
             ],
             [
              0.1111111111111111,
              "#46039f"
             ],
             [
              0.2222222222222222,
              "#7201a8"
             ],
             [
              0.3333333333333333,
              "#9c179e"
             ],
             [
              0.4444444444444444,
              "#bd3786"
             ],
             [
              0.5555555555555556,
              "#d8576b"
             ],
             [
              0.6666666666666666,
              "#ed7953"
             ],
             [
              0.7777777777777778,
              "#fb9f3a"
             ],
             [
              0.8888888888888888,
              "#fdca26"
             ],
             [
              1,
              "#f0f921"
             ]
            ],
            "type": "heatmap"
           }
          ],
          "heatmapgl": [
           {
            "colorbar": {
             "outlinewidth": 0,
             "ticks": ""
            },
            "colorscale": [
             [
              0,
              "#0d0887"
             ],
             [
              0.1111111111111111,
              "#46039f"
             ],
             [
              0.2222222222222222,
              "#7201a8"
             ],
             [
              0.3333333333333333,
              "#9c179e"
             ],
             [
              0.4444444444444444,
              "#bd3786"
             ],
             [
              0.5555555555555556,
              "#d8576b"
             ],
             [
              0.6666666666666666,
              "#ed7953"
             ],
             [
              0.7777777777777778,
              "#fb9f3a"
             ],
             [
              0.8888888888888888,
              "#fdca26"
             ],
             [
              1,
              "#f0f921"
             ]
            ],
            "type": "heatmapgl"
           }
          ],
          "histogram": [
           {
            "marker": {
             "colorbar": {
              "outlinewidth": 0,
              "ticks": ""
             }
            },
            "type": "histogram"
           }
          ],
          "histogram2d": [
           {
            "colorbar": {
             "outlinewidth": 0,
             "ticks": ""
            },
            "colorscale": [
             [
              0,
              "#0d0887"
             ],
             [
              0.1111111111111111,
              "#46039f"
             ],
             [
              0.2222222222222222,
              "#7201a8"
             ],
             [
              0.3333333333333333,
              "#9c179e"
             ],
             [
              0.4444444444444444,
              "#bd3786"
             ],
             [
              0.5555555555555556,
              "#d8576b"
             ],
             [
              0.6666666666666666,
              "#ed7953"
             ],
             [
              0.7777777777777778,
              "#fb9f3a"
             ],
             [
              0.8888888888888888,
              "#fdca26"
             ],
             [
              1,
              "#f0f921"
             ]
            ],
            "type": "histogram2d"
           }
          ],
          "histogram2dcontour": [
           {
            "colorbar": {
             "outlinewidth": 0,
             "ticks": ""
            },
            "colorscale": [
             [
              0,
              "#0d0887"
             ],
             [
              0.1111111111111111,
              "#46039f"
             ],
             [
              0.2222222222222222,
              "#7201a8"
             ],
             [
              0.3333333333333333,
              "#9c179e"
             ],
             [
              0.4444444444444444,
              "#bd3786"
             ],
             [
              0.5555555555555556,
              "#d8576b"
             ],
             [
              0.6666666666666666,
              "#ed7953"
             ],
             [
              0.7777777777777778,
              "#fb9f3a"
             ],
             [
              0.8888888888888888,
              "#fdca26"
             ],
             [
              1,
              "#f0f921"
             ]
            ],
            "type": "histogram2dcontour"
           }
          ],
          "mesh3d": [
           {
            "colorbar": {
             "outlinewidth": 0,
             "ticks": ""
            },
            "type": "mesh3d"
           }
          ],
          "parcoords": [
           {
            "line": {
             "colorbar": {
              "outlinewidth": 0,
              "ticks": ""
             }
            },
            "type": "parcoords"
           }
          ],
          "pie": [
           {
            "automargin": true,
            "type": "pie"
           }
          ],
          "scatter": [
           {
            "marker": {
             "colorbar": {
              "outlinewidth": 0,
              "ticks": ""
             }
            },
            "type": "scatter"
           }
          ],
          "scatter3d": [
           {
            "line": {
             "colorbar": {
              "outlinewidth": 0,
              "ticks": ""
             }
            },
            "marker": {
             "colorbar": {
              "outlinewidth": 0,
              "ticks": ""
             }
            },
            "type": "scatter3d"
           }
          ],
          "scattercarpet": [
           {
            "marker": {
             "colorbar": {
              "outlinewidth": 0,
              "ticks": ""
             }
            },
            "type": "scattercarpet"
           }
          ],
          "scattergeo": [
           {
            "marker": {
             "colorbar": {
              "outlinewidth": 0,
              "ticks": ""
             }
            },
            "type": "scattergeo"
           }
          ],
          "scattergl": [
           {
            "marker": {
             "colorbar": {
              "outlinewidth": 0,
              "ticks": ""
             }
            },
            "type": "scattergl"
           }
          ],
          "scattermapbox": [
           {
            "marker": {
             "colorbar": {
              "outlinewidth": 0,
              "ticks": ""
             }
            },
            "type": "scattermapbox"
           }
          ],
          "scatterpolar": [
           {
            "marker": {
             "colorbar": {
              "outlinewidth": 0,
              "ticks": ""
             }
            },
            "type": "scatterpolar"
           }
          ],
          "scatterpolargl": [
           {
            "marker": {
             "colorbar": {
              "outlinewidth": 0,
              "ticks": ""
             }
            },
            "type": "scatterpolargl"
           }
          ],
          "scatterternary": [
           {
            "marker": {
             "colorbar": {
              "outlinewidth": 0,
              "ticks": ""
             }
            },
            "type": "scatterternary"
           }
          ],
          "surface": [
           {
            "colorbar": {
             "outlinewidth": 0,
             "ticks": ""
            },
            "colorscale": [
             [
              0,
              "#0d0887"
             ],
             [
              0.1111111111111111,
              "#46039f"
             ],
             [
              0.2222222222222222,
              "#7201a8"
             ],
             [
              0.3333333333333333,
              "#9c179e"
             ],
             [
              0.4444444444444444,
              "#bd3786"
             ],
             [
              0.5555555555555556,
              "#d8576b"
             ],
             [
              0.6666666666666666,
              "#ed7953"
             ],
             [
              0.7777777777777778,
              "#fb9f3a"
             ],
             [
              0.8888888888888888,
              "#fdca26"
             ],
             [
              1,
              "#f0f921"
             ]
            ],
            "type": "surface"
           }
          ],
          "table": [
           {
            "cells": {
             "fill": {
              "color": "#EBF0F8"
             },
             "line": {
              "color": "white"
             }
            },
            "header": {
             "fill": {
              "color": "#C8D4E3"
             },
             "line": {
              "color": "white"
             }
            },
            "type": "table"
           }
          ]
         },
         "layout": {
          "annotationdefaults": {
           "arrowcolor": "#2a3f5f",
           "arrowhead": 0,
           "arrowwidth": 1
          },
          "coloraxis": {
           "colorbar": {
            "outlinewidth": 0,
            "ticks": ""
           }
          },
          "colorscale": {
           "diverging": [
            [
             0,
             "#8e0152"
            ],
            [
             0.1,
             "#c51b7d"
            ],
            [
             0.2,
             "#de77ae"
            ],
            [
             0.3,
             "#f1b6da"
            ],
            [
             0.4,
             "#fde0ef"
            ],
            [
             0.5,
             "#f7f7f7"
            ],
            [
             0.6,
             "#e6f5d0"
            ],
            [
             0.7,
             "#b8e186"
            ],
            [
             0.8,
             "#7fbc41"
            ],
            [
             0.9,
             "#4d9221"
            ],
            [
             1,
             "#276419"
            ]
           ],
           "sequential": [
            [
             0,
             "#0d0887"
            ],
            [
             0.1111111111111111,
             "#46039f"
            ],
            [
             0.2222222222222222,
             "#7201a8"
            ],
            [
             0.3333333333333333,
             "#9c179e"
            ],
            [
             0.4444444444444444,
             "#bd3786"
            ],
            [
             0.5555555555555556,
             "#d8576b"
            ],
            [
             0.6666666666666666,
             "#ed7953"
            ],
            [
             0.7777777777777778,
             "#fb9f3a"
            ],
            [
             0.8888888888888888,
             "#fdca26"
            ],
            [
             1,
             "#f0f921"
            ]
           ],
           "sequentialminus": [
            [
             0,
             "#0d0887"
            ],
            [
             0.1111111111111111,
             "#46039f"
            ],
            [
             0.2222222222222222,
             "#7201a8"
            ],
            [
             0.3333333333333333,
             "#9c179e"
            ],
            [
             0.4444444444444444,
             "#bd3786"
            ],
            [
             0.5555555555555556,
             "#d8576b"
            ],
            [
             0.6666666666666666,
             "#ed7953"
            ],
            [
             0.7777777777777778,
             "#fb9f3a"
            ],
            [
             0.8888888888888888,
             "#fdca26"
            ],
            [
             1,
             "#f0f921"
            ]
           ]
          },
          "colorway": [
           "#636efa",
           "#EF553B",
           "#00cc96",
           "#ab63fa",
           "#FFA15A",
           "#19d3f3",
           "#FF6692",
           "#B6E880",
           "#FF97FF",
           "#FECB52"
          ],
          "font": {
           "color": "#2a3f5f"
          },
          "geo": {
           "bgcolor": "white",
           "lakecolor": "white",
           "landcolor": "#E5ECF6",
           "showlakes": true,
           "showland": true,
           "subunitcolor": "white"
          },
          "hoverlabel": {
           "align": "left"
          },
          "hovermode": "closest",
          "mapbox": {
           "style": "light"
          },
          "paper_bgcolor": "white",
          "plot_bgcolor": "#E5ECF6",
          "polar": {
           "angularaxis": {
            "gridcolor": "white",
            "linecolor": "white",
            "ticks": ""
           },
           "bgcolor": "#E5ECF6",
           "radialaxis": {
            "gridcolor": "white",
            "linecolor": "white",
            "ticks": ""
           }
          },
          "scene": {
           "xaxis": {
            "backgroundcolor": "#E5ECF6",
            "gridcolor": "white",
            "gridwidth": 2,
            "linecolor": "white",
            "showbackground": true,
            "ticks": "",
            "zerolinecolor": "white"
           },
           "yaxis": {
            "backgroundcolor": "#E5ECF6",
            "gridcolor": "white",
            "gridwidth": 2,
            "linecolor": "white",
            "showbackground": true,
            "ticks": "",
            "zerolinecolor": "white"
           },
           "zaxis": {
            "backgroundcolor": "#E5ECF6",
            "gridcolor": "white",
            "gridwidth": 2,
            "linecolor": "white",
            "showbackground": true,
            "ticks": "",
            "zerolinecolor": "white"
           }
          },
          "shapedefaults": {
           "line": {
            "color": "#2a3f5f"
           }
          },
          "ternary": {
           "aaxis": {
            "gridcolor": "white",
            "linecolor": "white",
            "ticks": ""
           },
           "baxis": {
            "gridcolor": "white",
            "linecolor": "white",
            "ticks": ""
           },
           "bgcolor": "#E5ECF6",
           "caxis": {
            "gridcolor": "white",
            "linecolor": "white",
            "ticks": ""
           }
          },
          "title": {
           "x": 0.05
          },
          "xaxis": {
           "automargin": true,
           "gridcolor": "white",
           "linecolor": "white",
           "ticks": "",
           "title": {
            "standoff": 15
           },
           "zerolinecolor": "white",
           "zerolinewidth": 2
          },
          "yaxis": {
           "automargin": true,
           "gridcolor": "white",
           "linecolor": "white",
           "ticks": "",
           "title": {
            "standoff": 15
           },
           "zerolinecolor": "white",
           "zerolinewidth": 2
          }
         }
        },
        "title": {
         "text": "Tihanovkaja Expected vs Official (capital - 7)"
        },
        "xaxis": {
         "title": {
          "text": "Expected"
         }
        },
        "yaxis": {
         "title": {
          "text": "Official"
         }
        }
       }
      },
      "text/html": [
       "<div>\n",
       "        \n",
       "        \n",
       "            <div id=\"35a691eb-45c6-4ccf-9926-6b549f9bb4dd\" class=\"plotly-graph-div\" style=\"height:525px; width:100%;\"></div>\n",
       "            <script type=\"text/javascript\">\n",
       "                require([\"plotly\"], function(Plotly) {\n",
       "                    window.PLOTLYENV=window.PLOTLYENV || {};\n",
       "                    \n",
       "                if (document.getElementById(\"35a691eb-45c6-4ccf-9926-6b549f9bb4dd\")) {\n",
       "                    Plotly.newPlot(\n",
       "                        '35a691eb-45c6-4ccf-9926-6b549f9bb4dd',\n",
       "                        [{\"mode\": \"markers\", \"name\": \"wrong voters\", \"text\": [\"07-001-0005 (159)\", \"07-004-0005 (435)\", \"07-005-0007 (493)\", \"07-005-0034 (520)\"], \"type\": \"scatter\", \"x\": [347.752, 710.846, 715.96, 557.4259999999999], \"y\": [644.0, 974.0, 890.0, 782.0]}, {\"mode\": \"markers\", \"name\": \"no-observers\", \"text\": [], \"type\": \"scatter\", \"x\": [], \"y\": []}, {\"mode\": \"markers\", \"name\": \"major\", \"text\": [\"07-003-0094 (418)\", \"07-004-0006 (436)\"], \"type\": \"scatter\", \"x\": [933.305, 554.869], \"y\": [1121.0, 581.0]}, {\"mode\": \"markers\", \"name\": \"minor\", \"text\": [\"07-001-0010 (164)\", \"07-001-0060 (214)\", \"07-001-0089 (243)\", \"07-003-0024 (348)\", \"07-005-0037 (523)\", \"07-006-0008 (531)\", \"07-006-0037 (560)\", \"07-008-0070 (737)\", \"07-008-0079 (746)\", \"07-009-0014 (803)\"], \"type\": \"scatter\", \"x\": [480.716, 447.47499999999997, 905.178, 629.0219999999999, 889.836, 1825.6979999999999, 710.846, 2020.03, 598.338, 526.742], \"y\": [751.0, 465.0, 1006.0, 686.0, 1259.0, 1869.0, 848.0, 1979.0, 394.0, 707.0]}, {\"mode\": \"markers\", \"name\": \"ok\", \"text\": [\"07-001-0008 (162)\", \"07-001-0012 (166)\", \"07-001-0016 (170)\", \"07-001-0022 (176)\", \"07-001-0061 (215)\", \"07-002-0017 (267)\", \"07-002-0044 (294)\", \"07-002-0051 (301)\", \"07-002-0060 (310)\", \"07-002-0072 (322)\", \"07-003-0002 (326)\", \"07-003-0058 (382)\", \"07-003-0085 (409)\", \"07-004-0002 (432)\", \"07-004-0004 (434)\", \"07-004-0007 (437)\", \"07-004-0026 (456)\", \"07-005-0002 (488)\", \"07-005-0021 (507)\", \"07-005-0026 (512)\", \"07-006-0072 (595)\", \"07-008-0057 (724)\"], \"type\": \"scatter\", \"x\": [409.12, 291.498, 470.488, 470.488, 386.10699999999997, 513.957, 761.986, 483.27299999999997, 623.908, 508.84299999999996, 777.328, 700.6179999999999, 1020.2429999999999, 547.198, 524.185, 728.745, 636.693, 17.899, 754.3149999999999, 787.5559999999999, 749.201, 705.732], \"y\": [615.0, 500.0, 402.0, 561.0, 390.0, 339.0, 469.0, 550.0, 476.0, 430.0, 815.0, 541.0, 928.0, 420.0, 510.0, 460.0, 713.0, 69.0, 480.0, 704.0, 605.0, 539.0]}, {\"mode\": \"lines\", \"name\": \"Expected\", \"type\": \"scatter\", \"x\": [347.752, 409.12, 480.716, 291.498, 470.488, 470.488, 447.47499999999997, 386.10699999999997, 905.178, 513.957, 761.986, 483.27299999999997, 623.908, 508.84299999999996, 777.328, 629.0219999999999, 700.6179999999999, 1020.2429999999999, 933.305, 547.198, 524.185, 710.846, 554.869, 728.745, 636.693, 17.899, 715.96, 754.3149999999999, 787.5559999999999, 557.4259999999999, 889.836, 1825.6979999999999, 710.846, 749.201, 705.732, 2020.03, 598.338, 526.742], \"y\": [347.752, 409.12, 480.716, 291.498, 470.488, 470.488, 447.47499999999997, 386.10699999999997, 905.178, 513.957, 761.986, 483.27299999999997, 623.908, 508.84299999999996, 777.328, 629.0219999999999, 700.6179999999999, 1020.2429999999999, 933.305, 547.198, 524.185, 710.846, 554.869, 728.745, 636.693, 17.899, 715.96, 754.3149999999999, 787.5559999999999, 557.4259999999999, 889.836, 1825.6979999999999, 710.846, 749.201, 705.732, 2020.03, 598.338, 526.742]}],\n",
       "                        {\"template\": {\"data\": {\"bar\": [{\"error_x\": {\"color\": \"#2a3f5f\"}, \"error_y\": {\"color\": \"#2a3f5f\"}, \"marker\": {\"line\": {\"color\": \"#E5ECF6\", \"width\": 0.5}}, \"type\": \"bar\"}], \"barpolar\": [{\"marker\": {\"line\": {\"color\": \"#E5ECF6\", \"width\": 0.5}}, \"type\": \"barpolar\"}], \"carpet\": [{\"aaxis\": {\"endlinecolor\": \"#2a3f5f\", \"gridcolor\": \"white\", \"linecolor\": \"white\", \"minorgridcolor\": \"white\", \"startlinecolor\": \"#2a3f5f\"}, \"baxis\": {\"endlinecolor\": \"#2a3f5f\", \"gridcolor\": \"white\", \"linecolor\": \"white\", \"minorgridcolor\": \"white\", \"startlinecolor\": \"#2a3f5f\"}, \"type\": \"carpet\"}], \"choropleth\": [{\"colorbar\": {\"outlinewidth\": 0, \"ticks\": \"\"}, \"type\": \"choropleth\"}], \"contour\": [{\"colorbar\": {\"outlinewidth\": 0, \"ticks\": \"\"}, \"colorscale\": [[0.0, \"#0d0887\"], [0.1111111111111111, \"#46039f\"], [0.2222222222222222, \"#7201a8\"], [0.3333333333333333, \"#9c179e\"], [0.4444444444444444, \"#bd3786\"], [0.5555555555555556, \"#d8576b\"], [0.6666666666666666, \"#ed7953\"], [0.7777777777777778, \"#fb9f3a\"], [0.8888888888888888, \"#fdca26\"], [1.0, \"#f0f921\"]], \"type\": \"contour\"}], \"contourcarpet\": [{\"colorbar\": {\"outlinewidth\": 0, \"ticks\": \"\"}, \"type\": \"contourcarpet\"}], \"heatmap\": [{\"colorbar\": {\"outlinewidth\": 0, \"ticks\": \"\"}, \"colorscale\": [[0.0, \"#0d0887\"], [0.1111111111111111, \"#46039f\"], [0.2222222222222222, \"#7201a8\"], [0.3333333333333333, \"#9c179e\"], [0.4444444444444444, \"#bd3786\"], [0.5555555555555556, \"#d8576b\"], [0.6666666666666666, \"#ed7953\"], [0.7777777777777778, \"#fb9f3a\"], [0.8888888888888888, \"#fdca26\"], [1.0, \"#f0f921\"]], \"type\": \"heatmap\"}], \"heatmapgl\": [{\"colorbar\": {\"outlinewidth\": 0, \"ticks\": \"\"}, \"colorscale\": [[0.0, \"#0d0887\"], [0.1111111111111111, \"#46039f\"], [0.2222222222222222, \"#7201a8\"], [0.3333333333333333, \"#9c179e\"], [0.4444444444444444, \"#bd3786\"], [0.5555555555555556, \"#d8576b\"], [0.6666666666666666, \"#ed7953\"], [0.7777777777777778, \"#fb9f3a\"], [0.8888888888888888, \"#fdca26\"], [1.0, \"#f0f921\"]], \"type\": \"heatmapgl\"}], \"histogram\": [{\"marker\": {\"colorbar\": {\"outlinewidth\": 0, \"ticks\": \"\"}}, \"type\": \"histogram\"}], \"histogram2d\": [{\"colorbar\": {\"outlinewidth\": 0, \"ticks\": \"\"}, \"colorscale\": [[0.0, \"#0d0887\"], [0.1111111111111111, \"#46039f\"], [0.2222222222222222, \"#7201a8\"], [0.3333333333333333, \"#9c179e\"], [0.4444444444444444, \"#bd3786\"], [0.5555555555555556, \"#d8576b\"], [0.6666666666666666, \"#ed7953\"], [0.7777777777777778, \"#fb9f3a\"], [0.8888888888888888, \"#fdca26\"], [1.0, \"#f0f921\"]], \"type\": \"histogram2d\"}], \"histogram2dcontour\": [{\"colorbar\": {\"outlinewidth\": 0, \"ticks\": \"\"}, \"colorscale\": [[0.0, \"#0d0887\"], [0.1111111111111111, \"#46039f\"], [0.2222222222222222, \"#7201a8\"], [0.3333333333333333, \"#9c179e\"], [0.4444444444444444, \"#bd3786\"], [0.5555555555555556, \"#d8576b\"], [0.6666666666666666, \"#ed7953\"], [0.7777777777777778, \"#fb9f3a\"], [0.8888888888888888, \"#fdca26\"], [1.0, \"#f0f921\"]], \"type\": \"histogram2dcontour\"}], \"mesh3d\": [{\"colorbar\": {\"outlinewidth\": 0, \"ticks\": \"\"}, \"type\": \"mesh3d\"}], \"parcoords\": [{\"line\": {\"colorbar\": {\"outlinewidth\": 0, \"ticks\": \"\"}}, \"type\": \"parcoords\"}], \"pie\": [{\"automargin\": true, \"type\": \"pie\"}], \"scatter\": [{\"marker\": {\"colorbar\": {\"outlinewidth\": 0, \"ticks\": \"\"}}, \"type\": \"scatter\"}], \"scatter3d\": [{\"line\": {\"colorbar\": {\"outlinewidth\": 0, \"ticks\": \"\"}}, \"marker\": {\"colorbar\": {\"outlinewidth\": 0, \"ticks\": \"\"}}, \"type\": \"scatter3d\"}], \"scattercarpet\": [{\"marker\": {\"colorbar\": {\"outlinewidth\": 0, \"ticks\": \"\"}}, \"type\": \"scattercarpet\"}], \"scattergeo\": [{\"marker\": {\"colorbar\": {\"outlinewidth\": 0, \"ticks\": \"\"}}, \"type\": \"scattergeo\"}], \"scattergl\": [{\"marker\": {\"colorbar\": {\"outlinewidth\": 0, \"ticks\": \"\"}}, \"type\": \"scattergl\"}], \"scattermapbox\": [{\"marker\": {\"colorbar\": {\"outlinewidth\": 0, \"ticks\": \"\"}}, \"type\": \"scattermapbox\"}], \"scatterpolar\": [{\"marker\": {\"colorbar\": {\"outlinewidth\": 0, \"ticks\": \"\"}}, \"type\": \"scatterpolar\"}], \"scatterpolargl\": [{\"marker\": {\"colorbar\": {\"outlinewidth\": 0, \"ticks\": \"\"}}, \"type\": \"scatterpolargl\"}], \"scatterternary\": [{\"marker\": {\"colorbar\": {\"outlinewidth\": 0, \"ticks\": \"\"}}, \"type\": \"scatterternary\"}], \"surface\": [{\"colorbar\": {\"outlinewidth\": 0, \"ticks\": \"\"}, \"colorscale\": [[0.0, \"#0d0887\"], [0.1111111111111111, \"#46039f\"], [0.2222222222222222, \"#7201a8\"], [0.3333333333333333, \"#9c179e\"], [0.4444444444444444, \"#bd3786\"], [0.5555555555555556, \"#d8576b\"], [0.6666666666666666, \"#ed7953\"], [0.7777777777777778, \"#fb9f3a\"], [0.8888888888888888, \"#fdca26\"], [1.0, \"#f0f921\"]], \"type\": \"surface\"}], \"table\": [{\"cells\": {\"fill\": {\"color\": \"#EBF0F8\"}, \"line\": {\"color\": \"white\"}}, \"header\": {\"fill\": {\"color\": \"#C8D4E3\"}, \"line\": {\"color\": \"white\"}}, \"type\": \"table\"}]}, \"layout\": {\"annotationdefaults\": {\"arrowcolor\": \"#2a3f5f\", \"arrowhead\": 0, \"arrowwidth\": 1}, \"coloraxis\": {\"colorbar\": {\"outlinewidth\": 0, \"ticks\": \"\"}}, \"colorscale\": {\"diverging\": [[0, \"#8e0152\"], [0.1, \"#c51b7d\"], [0.2, \"#de77ae\"], [0.3, \"#f1b6da\"], [0.4, \"#fde0ef\"], [0.5, \"#f7f7f7\"], [0.6, \"#e6f5d0\"], [0.7, \"#b8e186\"], [0.8, \"#7fbc41\"], [0.9, \"#4d9221\"], [1, \"#276419\"]], \"sequential\": [[0.0, \"#0d0887\"], [0.1111111111111111, \"#46039f\"], [0.2222222222222222, \"#7201a8\"], [0.3333333333333333, \"#9c179e\"], [0.4444444444444444, \"#bd3786\"], [0.5555555555555556, \"#d8576b\"], [0.6666666666666666, \"#ed7953\"], [0.7777777777777778, \"#fb9f3a\"], [0.8888888888888888, \"#fdca26\"], [1.0, \"#f0f921\"]], \"sequentialminus\": [[0.0, \"#0d0887\"], [0.1111111111111111, \"#46039f\"], [0.2222222222222222, \"#7201a8\"], [0.3333333333333333, \"#9c179e\"], [0.4444444444444444, \"#bd3786\"], [0.5555555555555556, \"#d8576b\"], [0.6666666666666666, \"#ed7953\"], [0.7777777777777778, \"#fb9f3a\"], [0.8888888888888888, \"#fdca26\"], [1.0, \"#f0f921\"]]}, \"colorway\": [\"#636efa\", \"#EF553B\", \"#00cc96\", \"#ab63fa\", \"#FFA15A\", \"#19d3f3\", \"#FF6692\", \"#B6E880\", \"#FF97FF\", \"#FECB52\"], \"font\": {\"color\": \"#2a3f5f\"}, \"geo\": {\"bgcolor\": \"white\", \"lakecolor\": \"white\", \"landcolor\": \"#E5ECF6\", \"showlakes\": true, \"showland\": true, \"subunitcolor\": \"white\"}, \"hoverlabel\": {\"align\": \"left\"}, \"hovermode\": \"closest\", \"mapbox\": {\"style\": \"light\"}, \"paper_bgcolor\": \"white\", \"plot_bgcolor\": \"#E5ECF6\", \"polar\": {\"angularaxis\": {\"gridcolor\": \"white\", \"linecolor\": \"white\", \"ticks\": \"\"}, \"bgcolor\": \"#E5ECF6\", \"radialaxis\": {\"gridcolor\": \"white\", \"linecolor\": \"white\", \"ticks\": \"\"}}, \"scene\": {\"xaxis\": {\"backgroundcolor\": \"#E5ECF6\", \"gridcolor\": \"white\", \"gridwidth\": 2, \"linecolor\": \"white\", \"showbackground\": true, \"ticks\": \"\", \"zerolinecolor\": \"white\"}, \"yaxis\": {\"backgroundcolor\": \"#E5ECF6\", \"gridcolor\": \"white\", \"gridwidth\": 2, \"linecolor\": \"white\", \"showbackground\": true, \"ticks\": \"\", \"zerolinecolor\": \"white\"}, \"zaxis\": {\"backgroundcolor\": \"#E5ECF6\", \"gridcolor\": \"white\", \"gridwidth\": 2, \"linecolor\": \"white\", \"showbackground\": true, \"ticks\": \"\", \"zerolinecolor\": \"white\"}}, \"shapedefaults\": {\"line\": {\"color\": \"#2a3f5f\"}}, \"ternary\": {\"aaxis\": {\"gridcolor\": \"white\", \"linecolor\": \"white\", \"ticks\": \"\"}, \"baxis\": {\"gridcolor\": \"white\", \"linecolor\": \"white\", \"ticks\": \"\"}, \"bgcolor\": \"#E5ECF6\", \"caxis\": {\"gridcolor\": \"white\", \"linecolor\": \"white\", \"ticks\": \"\"}}, \"title\": {\"x\": 0.05}, \"xaxis\": {\"automargin\": true, \"gridcolor\": \"white\", \"linecolor\": \"white\", \"ticks\": \"\", \"title\": {\"standoff\": 15}, \"zerolinecolor\": \"white\", \"zerolinewidth\": 2}, \"yaxis\": {\"automargin\": true, \"gridcolor\": \"white\", \"linecolor\": \"white\", \"ticks\": \"\", \"title\": {\"standoff\": 15}, \"zerolinecolor\": \"white\", \"zerolinewidth\": 2}}}, \"title\": {\"text\": \"Tihanovkaja Expected vs Official (capital - 7)\"}, \"xaxis\": {\"title\": {\"text\": \"Expected\"}}, \"yaxis\": {\"title\": {\"text\": \"Official\"}}},\n",
       "                        {\"responsive\": true}\n",
       "                    ).then(function(){\n",
       "                            \n",
       "var gd = document.getElementById('35a691eb-45c6-4ccf-9926-6b549f9bb4dd');\n",
       "var x = new MutationObserver(function (mutations, observer) {{\n",
       "        var display = window.getComputedStyle(gd).display;\n",
       "        if (!display || display === 'none') {{\n",
       "            console.log([gd, 'removed!']);\n",
       "            Plotly.purge(gd);\n",
       "            observer.disconnect();\n",
       "        }}\n",
       "}});\n",
       "\n",
       "// Listen for the removal of the full notebook cells\n",
       "var notebookContainer = gd.closest('#notebook-container');\n",
       "if (notebookContainer) {{\n",
       "    x.observe(notebookContainer, {childList: true});\n",
       "}}\n",
       "\n",
       "// Listen for the clearing of the current output cell\n",
       "var outputEl = gd.closest('.output');\n",
       "if (outputEl) {{\n",
       "    x.observe(outputEl, {childList: true});\n",
       "}}\n",
       "\n",
       "                        })\n",
       "                };\n",
       "                });\n",
       "            </script>\n",
       "        </div>"
      ]
     },
     "metadata": {},
     "output_type": "display_data"
    }
   ],
   "source": [
    "photo_detailed('capital', 7, 2.557)"
   ]
  },
  {
   "cell_type": "code",
   "execution_count": null,
   "metadata": {},
   "outputs": [],
   "source": []
  },
  {
   "cell_type": "code",
   "execution_count": 172,
   "metadata": {},
   "outputs": [],
   "source": []
  },
  {
   "cell_type": "code",
   "execution_count": 231,
   "metadata": {},
   "outputs": [],
   "source": []
  },
  {
   "cell_type": "code",
   "execution_count": 232,
   "metadata": {},
   "outputs": [
    {
     "data": {
      "application/vnd.plotly.v1+json": {
       "config": {
        "plotlyServerURL": "https://plot.ly"
       },
       "data": [
        {
         "mode": "markers",
         "name": "wrong voters",
         "text": [
          "07-001-0005 (159)",
          "07-001-0088 (242)",
          "07-002-0043 (293)",
          "07-003-0010 (334)",
          "07-003-0011 (335)",
          "07-003-0019 (343)",
          "07-003-0020 (344)",
          "07-003-0021 (345)",
          "07-004-0005 (435)",
          "07-004-0018 (448)",
          "07-004-0047 (477)",
          "07-005-0006 (492)",
          "07-005-0007 (493)",
          "07-005-0014 (500)",
          "07-005-0034 (520)",
          "07-006-0007 (530)",
          "07-006-0012 (535)",
          "07-006-0021 (544)",
          "07-006-0023 (546)",
          "07-006-0035 (558)",
          "07-006-0041 (564)",
          "07-006-0043 (566)",
          "07-006-0044 (567)",
          "07-006-0059 (582)",
          "07-006-0070 (593)",
          "07-006-0071 (594)",
          "07-009-0017 (806)"
         ],
         "type": "scatter",
         "x": [
          535,
          546,
          549,
          567,
          568,
          569,
          570,
          571,
          580,
          583,
          586,
          588,
          589,
          590,
          594,
          597,
          599,
          601,
          602,
          603,
          605,
          606,
          607,
          609,
          610,
          611,
          617
         ],
         "y": [
          0.9189618644067796,
          0.908695652173913,
          0.9699507389162562,
          1.0915768854064642,
          1,
          0.8922413793103449,
          0.9316953316953317,
          0.9983333333333333,
          0.727726574500768,
          0.892964824120603,
          0.884952766531714,
          0.7528239202657807,
          0.9510204081632653,
          0.6633318834275772,
          0.8996509598603839,
          0.8871365204534253,
          0.6660558863948695,
          0.6749502982107356,
          0.6622641509433962,
          0.8975428836346778,
          0.9426559356136821,
          0.7394234369150131,
          0.674653887113951,
          0.861878453038674,
          0.7813479623824452,
          0.8314653383146534,
          0.9974025974025974
         ]
        },
        {
         "mode": "markers",
         "name": "no-observers",
         "text": [],
         "type": "scatter",
         "x": [],
         "y": []
        },
        {
         "mode": "markers",
         "name": "major",
         "text": [
          "07-001-0064 (218)",
          "07-002-0050 (300)",
          "07-002-0065 (315)",
          "07-003-0061 (385)",
          "07-003-0094 (418)",
          "07-004-0006 (436)"
         ],
         "type": "scatter",
         "x": [
          544,
          551,
          554,
          574,
          577,
          581
         ],
         "y": [
          0.9265350877192983,
          0.7413793103448276,
          0.9816576086956522,
          0.7753329473074696,
          0.9110911540188594,
          0.6259363295880149
         ]
        },
        {
         "mode": "markers",
         "name": "minor",
         "text": [
          "07-001-0010 (164)",
          "07-001-0059 (213)",
          "07-001-0060 (214)",
          "07-001-0078 (232)",
          "07-001-0089 (243)",
          "07-003-0024 (348)",
          "07-003-0093 (417)",
          "07-004-0028 (458)",
          "07-005-0018 (504)",
          "07-005-0026 (512)",
          "07-005-0037 (523)",
          "07-006-0005 (528)",
          "07-006-0008 (531)",
          "07-006-0016 (539)",
          "07-006-0037 (560)",
          "07-006-0048 (571)",
          "07-008-0070 (737)",
          "07-008-0079 (746)",
          "07-009-0014 (803)"
         ],
         "type": "scatter",
         "x": [
          537,
          541,
          542,
          545,
          547,
          572,
          576,
          585,
          591,
          593,
          595,
          596,
          598,
          600,
          604,
          608,
          614,
          615,
          616
         ],
         "y": [
          0.6401557285873193,
          0.8155197657393851,
          0.652738565782044,
          0.8321596244131455,
          0.9361702127659575,
          0.9582504970178927,
          0.8426082068577853,
          0.8339278636543797,
          0.745679012345679,
          0.9513812154696133,
          0.9019438444924406,
          1.0400775694893343,
          0.9871349095966621,
          0.7927527018436109,
          0.5767934520943668,
          0.98,
          0.6200345423143351,
          0.6966516741629185,
          0.7558208955223881
         ]
        },
        {
         "mode": "markers",
         "name": "ok",
         "text": [
          "07-001-0008 (162)",
          "07-001-0012 (166)",
          "07-001-0016 (170)",
          "07-001-0022 (176)",
          "07-001-0061 (215)",
          "07-002-0017 (267)",
          "07-002-0044 (294)",
          "07-002-0051 (301)",
          "07-002-0060 (310)",
          "07-002-0072 (322)",
          "07-003-0002 (326)",
          "07-003-0058 (382)",
          "07-003-0085 (409)",
          "07-004-0002 (432)",
          "07-004-0004 (434)",
          "07-004-0007 (437)",
          "07-004-0026 (456)",
          "07-005-0002 (488)",
          "07-005-0021 (507)",
          "07-006-0072 (595)",
          "07-008-0057 (724)"
         ],
         "type": "scatter",
         "x": [
          536,
          538,
          539,
          540,
          543,
          548,
          550,
          552,
          553,
          555,
          566,
          573,
          575,
          578,
          579,
          582,
          584,
          587,
          592,
          612,
          613
         ],
         "y": [
          0.6192519926425506,
          0.7902777777777777,
          0.7633470225872689,
          0.8521681997371879,
          0.6287645974185617,
          0.7639034627492131,
          0.7864669994453688,
          0.7631426920854997,
          0.6681614349775785,
          0.9836448598130841,
          0.6035502958579881,
          0.9680082559339526,
          0.7170454545454545,
          0.6602027324812693,
          0.6710219318712086,
          0.6625971143174251,
          0.7244484466456551,
          1,
          0.7817460317460317,
          0.6733902249806051,
          0.6862745098039216
         ]
        }
       ],
       "layout": {
        "template": {
         "data": {
          "bar": [
           {
            "error_x": {
             "color": "#2a3f5f"
            },
            "error_y": {
             "color": "#2a3f5f"
            },
            "marker": {
             "line": {
              "color": "#E5ECF6",
              "width": 0.5
             }
            },
            "type": "bar"
           }
          ],
          "barpolar": [
           {
            "marker": {
             "line": {
              "color": "#E5ECF6",
              "width": 0.5
             }
            },
            "type": "barpolar"
           }
          ],
          "carpet": [
           {
            "aaxis": {
             "endlinecolor": "#2a3f5f",
             "gridcolor": "white",
             "linecolor": "white",
             "minorgridcolor": "white",
             "startlinecolor": "#2a3f5f"
            },
            "baxis": {
             "endlinecolor": "#2a3f5f",
             "gridcolor": "white",
             "linecolor": "white",
             "minorgridcolor": "white",
             "startlinecolor": "#2a3f5f"
            },
            "type": "carpet"
           }
          ],
          "choropleth": [
           {
            "colorbar": {
             "outlinewidth": 0,
             "ticks": ""
            },
            "type": "choropleth"
           }
          ],
          "contour": [
           {
            "colorbar": {
             "outlinewidth": 0,
             "ticks": ""
            },
            "colorscale": [
             [
              0,
              "#0d0887"
             ],
             [
              0.1111111111111111,
              "#46039f"
             ],
             [
              0.2222222222222222,
              "#7201a8"
             ],
             [
              0.3333333333333333,
              "#9c179e"
             ],
             [
              0.4444444444444444,
              "#bd3786"
             ],
             [
              0.5555555555555556,
              "#d8576b"
             ],
             [
              0.6666666666666666,
              "#ed7953"
             ],
             [
              0.7777777777777778,
              "#fb9f3a"
             ],
             [
              0.8888888888888888,
              "#fdca26"
             ],
             [
              1,
              "#f0f921"
             ]
            ],
            "type": "contour"
           }
          ],
          "contourcarpet": [
           {
            "colorbar": {
             "outlinewidth": 0,
             "ticks": ""
            },
            "type": "contourcarpet"
           }
          ],
          "heatmap": [
           {
            "colorbar": {
             "outlinewidth": 0,
             "ticks": ""
            },
            "colorscale": [
             [
              0,
              "#0d0887"
             ],
             [
              0.1111111111111111,
              "#46039f"
             ],
             [
              0.2222222222222222,
              "#7201a8"
             ],
             [
              0.3333333333333333,
              "#9c179e"
             ],
             [
              0.4444444444444444,
              "#bd3786"
             ],
             [
              0.5555555555555556,
              "#d8576b"
             ],
             [
              0.6666666666666666,
              "#ed7953"
             ],
             [
              0.7777777777777778,
              "#fb9f3a"
             ],
             [
              0.8888888888888888,
              "#fdca26"
             ],
             [
              1,
              "#f0f921"
             ]
            ],
            "type": "heatmap"
           }
          ],
          "heatmapgl": [
           {
            "colorbar": {
             "outlinewidth": 0,
             "ticks": ""
            },
            "colorscale": [
             [
              0,
              "#0d0887"
             ],
             [
              0.1111111111111111,
              "#46039f"
             ],
             [
              0.2222222222222222,
              "#7201a8"
             ],
             [
              0.3333333333333333,
              "#9c179e"
             ],
             [
              0.4444444444444444,
              "#bd3786"
             ],
             [
              0.5555555555555556,
              "#d8576b"
             ],
             [
              0.6666666666666666,
              "#ed7953"
             ],
             [
              0.7777777777777778,
              "#fb9f3a"
             ],
             [
              0.8888888888888888,
              "#fdca26"
             ],
             [
              1,
              "#f0f921"
             ]
            ],
            "type": "heatmapgl"
           }
          ],
          "histogram": [
           {
            "marker": {
             "colorbar": {
              "outlinewidth": 0,
              "ticks": ""
             }
            },
            "type": "histogram"
           }
          ],
          "histogram2d": [
           {
            "colorbar": {
             "outlinewidth": 0,
             "ticks": ""
            },
            "colorscale": [
             [
              0,
              "#0d0887"
             ],
             [
              0.1111111111111111,
              "#46039f"
             ],
             [
              0.2222222222222222,
              "#7201a8"
             ],
             [
              0.3333333333333333,
              "#9c179e"
             ],
             [
              0.4444444444444444,
              "#bd3786"
             ],
             [
              0.5555555555555556,
              "#d8576b"
             ],
             [
              0.6666666666666666,
              "#ed7953"
             ],
             [
              0.7777777777777778,
              "#fb9f3a"
             ],
             [
              0.8888888888888888,
              "#fdca26"
             ],
             [
              1,
              "#f0f921"
             ]
            ],
            "type": "histogram2d"
           }
          ],
          "histogram2dcontour": [
           {
            "colorbar": {
             "outlinewidth": 0,
             "ticks": ""
            },
            "colorscale": [
             [
              0,
              "#0d0887"
             ],
             [
              0.1111111111111111,
              "#46039f"
             ],
             [
              0.2222222222222222,
              "#7201a8"
             ],
             [
              0.3333333333333333,
              "#9c179e"
             ],
             [
              0.4444444444444444,
              "#bd3786"
             ],
             [
              0.5555555555555556,
              "#d8576b"
             ],
             [
              0.6666666666666666,
              "#ed7953"
             ],
             [
              0.7777777777777778,
              "#fb9f3a"
             ],
             [
              0.8888888888888888,
              "#fdca26"
             ],
             [
              1,
              "#f0f921"
             ]
            ],
            "type": "histogram2dcontour"
           }
          ],
          "mesh3d": [
           {
            "colorbar": {
             "outlinewidth": 0,
             "ticks": ""
            },
            "type": "mesh3d"
           }
          ],
          "parcoords": [
           {
            "line": {
             "colorbar": {
              "outlinewidth": 0,
              "ticks": ""
             }
            },
            "type": "parcoords"
           }
          ],
          "pie": [
           {
            "automargin": true,
            "type": "pie"
           }
          ],
          "scatter": [
           {
            "marker": {
             "colorbar": {
              "outlinewidth": 0,
              "ticks": ""
             }
            },
            "type": "scatter"
           }
          ],
          "scatter3d": [
           {
            "line": {
             "colorbar": {
              "outlinewidth": 0,
              "ticks": ""
             }
            },
            "marker": {
             "colorbar": {
              "outlinewidth": 0,
              "ticks": ""
             }
            },
            "type": "scatter3d"
           }
          ],
          "scattercarpet": [
           {
            "marker": {
             "colorbar": {
              "outlinewidth": 0,
              "ticks": ""
             }
            },
            "type": "scattercarpet"
           }
          ],
          "scattergeo": [
           {
            "marker": {
             "colorbar": {
              "outlinewidth": 0,
              "ticks": ""
             }
            },
            "type": "scattergeo"
           }
          ],
          "scattergl": [
           {
            "marker": {
             "colorbar": {
              "outlinewidth": 0,
              "ticks": ""
             }
            },
            "type": "scattergl"
           }
          ],
          "scattermapbox": [
           {
            "marker": {
             "colorbar": {
              "outlinewidth": 0,
              "ticks": ""
             }
            },
            "type": "scattermapbox"
           }
          ],
          "scatterpolar": [
           {
            "marker": {
             "colorbar": {
              "outlinewidth": 0,
              "ticks": ""
             }
            },
            "type": "scatterpolar"
           }
          ],
          "scatterpolargl": [
           {
            "marker": {
             "colorbar": {
              "outlinewidth": 0,
              "ticks": ""
             }
            },
            "type": "scatterpolargl"
           }
          ],
          "scatterternary": [
           {
            "marker": {
             "colorbar": {
              "outlinewidth": 0,
              "ticks": ""
             }
            },
            "type": "scatterternary"
           }
          ],
          "surface": [
           {
            "colorbar": {
             "outlinewidth": 0,
             "ticks": ""
            },
            "colorscale": [
             [
              0,
              "#0d0887"
             ],
             [
              0.1111111111111111,
              "#46039f"
             ],
             [
              0.2222222222222222,
              "#7201a8"
             ],
             [
              0.3333333333333333,
              "#9c179e"
             ],
             [
              0.4444444444444444,
              "#bd3786"
             ],
             [
              0.5555555555555556,
              "#d8576b"
             ],
             [
              0.6666666666666666,
              "#ed7953"
             ],
             [
              0.7777777777777778,
              "#fb9f3a"
             ],
             [
              0.8888888888888888,
              "#fdca26"
             ],
             [
              1,
              "#f0f921"
             ]
            ],
            "type": "surface"
           }
          ],
          "table": [
           {
            "cells": {
             "fill": {
              "color": "#EBF0F8"
             },
             "line": {
              "color": "white"
             }
            },
            "header": {
             "fill": {
              "color": "#C8D4E3"
             },
             "line": {
              "color": "white"
             }
            },
            "type": "table"
           }
          ]
         },
         "layout": {
          "annotationdefaults": {
           "arrowcolor": "#2a3f5f",
           "arrowhead": 0,
           "arrowwidth": 1
          },
          "coloraxis": {
           "colorbar": {
            "outlinewidth": 0,
            "ticks": ""
           }
          },
          "colorscale": {
           "diverging": [
            [
             0,
             "#8e0152"
            ],
            [
             0.1,
             "#c51b7d"
            ],
            [
             0.2,
             "#de77ae"
            ],
            [
             0.3,
             "#f1b6da"
            ],
            [
             0.4,
             "#fde0ef"
            ],
            [
             0.5,
             "#f7f7f7"
            ],
            [
             0.6,
             "#e6f5d0"
            ],
            [
             0.7,
             "#b8e186"
            ],
            [
             0.8,
             "#7fbc41"
            ],
            [
             0.9,
             "#4d9221"
            ],
            [
             1,
             "#276419"
            ]
           ],
           "sequential": [
            [
             0,
             "#0d0887"
            ],
            [
             0.1111111111111111,
             "#46039f"
            ],
            [
             0.2222222222222222,
             "#7201a8"
            ],
            [
             0.3333333333333333,
             "#9c179e"
            ],
            [
             0.4444444444444444,
             "#bd3786"
            ],
            [
             0.5555555555555556,
             "#d8576b"
            ],
            [
             0.6666666666666666,
             "#ed7953"
            ],
            [
             0.7777777777777778,
             "#fb9f3a"
            ],
            [
             0.8888888888888888,
             "#fdca26"
            ],
            [
             1,
             "#f0f921"
            ]
           ],
           "sequentialminus": [
            [
             0,
             "#0d0887"
            ],
            [
             0.1111111111111111,
             "#46039f"
            ],
            [
             0.2222222222222222,
             "#7201a8"
            ],
            [
             0.3333333333333333,
             "#9c179e"
            ],
            [
             0.4444444444444444,
             "#bd3786"
            ],
            [
             0.5555555555555556,
             "#d8576b"
            ],
            [
             0.6666666666666666,
             "#ed7953"
            ],
            [
             0.7777777777777778,
             "#fb9f3a"
            ],
            [
             0.8888888888888888,
             "#fdca26"
            ],
            [
             1,
             "#f0f921"
            ]
           ]
          },
          "colorway": [
           "#636efa",
           "#EF553B",
           "#00cc96",
           "#ab63fa",
           "#FFA15A",
           "#19d3f3",
           "#FF6692",
           "#B6E880",
           "#FF97FF",
           "#FECB52"
          ],
          "font": {
           "color": "#2a3f5f"
          },
          "geo": {
           "bgcolor": "white",
           "lakecolor": "white",
           "landcolor": "#E5ECF6",
           "showlakes": true,
           "showland": true,
           "subunitcolor": "white"
          },
          "hoverlabel": {
           "align": "left"
          },
          "hovermode": "closest",
          "mapbox": {
           "style": "light"
          },
          "paper_bgcolor": "white",
          "plot_bgcolor": "#E5ECF6",
          "polar": {
           "angularaxis": {
            "gridcolor": "white",
            "linecolor": "white",
            "ticks": ""
           },
           "bgcolor": "#E5ECF6",
           "radialaxis": {
            "gridcolor": "white",
            "linecolor": "white",
            "ticks": ""
           }
          },
          "scene": {
           "xaxis": {
            "backgroundcolor": "#E5ECF6",
            "gridcolor": "white",
            "gridwidth": 2,
            "linecolor": "white",
            "showbackground": true,
            "ticks": "",
            "zerolinecolor": "white"
           },
           "yaxis": {
            "backgroundcolor": "#E5ECF6",
            "gridcolor": "white",
            "gridwidth": 2,
            "linecolor": "white",
            "showbackground": true,
            "ticks": "",
            "zerolinecolor": "white"
           },
           "zaxis": {
            "backgroundcolor": "#E5ECF6",
            "gridcolor": "white",
            "gridwidth": 2,
            "linecolor": "white",
            "showbackground": true,
            "ticks": "",
            "zerolinecolor": "white"
           }
          },
          "shapedefaults": {
           "line": {
            "color": "#2a3f5f"
           }
          },
          "ternary": {
           "aaxis": {
            "gridcolor": "white",
            "linecolor": "white",
            "ticks": ""
           },
           "baxis": {
            "gridcolor": "white",
            "linecolor": "white",
            "ticks": ""
           },
           "bgcolor": "#E5ECF6",
           "caxis": {
            "gridcolor": "white",
            "linecolor": "white",
            "ticks": ""
           }
          },
          "title": {
           "x": 0.05
          },
          "xaxis": {
           "automargin": true,
           "gridcolor": "white",
           "linecolor": "white",
           "ticks": "",
           "title": {
            "standoff": 15
           },
           "zerolinecolor": "white",
           "zerolinewidth": 2
          },
          "yaxis": {
           "automargin": true,
           "gridcolor": "white",
           "linecolor": "white",
           "ticks": "",
           "title": {
            "standoff": 15
           },
           "zerolinecolor": "white",
           "zerolinewidth": 2
          }
         }
        },
        "title": {
         "text": "Turnout by area"
        },
        "xaxis": {
         "title": {
          "text": "Poll stations"
         }
        },
        "yaxis": {
         "title": {
          "text": "Turnout"
         }
        }
       }
      },
      "text/html": [
       "<div>\n",
       "        \n",
       "        \n",
       "            <div id=\"aaea1c03-021d-41f9-8eb5-3f49ad3b517d\" class=\"plotly-graph-div\" style=\"height:525px; width:100%;\"></div>\n",
       "            <script type=\"text/javascript\">\n",
       "                require([\"plotly\"], function(Plotly) {\n",
       "                    window.PLOTLYENV=window.PLOTLYENV || {};\n",
       "                    \n",
       "                if (document.getElementById(\"aaea1c03-021d-41f9-8eb5-3f49ad3b517d\")) {\n",
       "                    Plotly.newPlot(\n",
       "                        'aaea1c03-021d-41f9-8eb5-3f49ad3b517d',\n",
       "                        [{\"mode\": \"markers\", \"name\": \"wrong voters\", \"text\": [\"07-001-0005 (159)\", \"07-001-0088 (242)\", \"07-002-0043 (293)\", \"07-003-0010 (334)\", \"07-003-0011 (335)\", \"07-003-0019 (343)\", \"07-003-0020 (344)\", \"07-003-0021 (345)\", \"07-004-0005 (435)\", \"07-004-0018 (448)\", \"07-004-0047 (477)\", \"07-005-0006 (492)\", \"07-005-0007 (493)\", \"07-005-0014 (500)\", \"07-005-0034 (520)\", \"07-006-0007 (530)\", \"07-006-0012 (535)\", \"07-006-0021 (544)\", \"07-006-0023 (546)\", \"07-006-0035 (558)\", \"07-006-0041 (564)\", \"07-006-0043 (566)\", \"07-006-0044 (567)\", \"07-006-0059 (582)\", \"07-006-0070 (593)\", \"07-006-0071 (594)\", \"07-009-0017 (806)\"], \"type\": \"scatter\", \"x\": [535, 546, 549, 567, 568, 569, 570, 571, 580, 583, 586, 588, 589, 590, 594, 597, 599, 601, 602, 603, 605, 606, 607, 609, 610, 611, 617], \"y\": [0.9189618644067796, 0.908695652173913, 0.9699507389162562, 1.0915768854064642, 1.0, 0.8922413793103449, 0.9316953316953317, 0.9983333333333333, 0.727726574500768, 0.892964824120603, 0.884952766531714, 0.7528239202657807, 0.9510204081632653, 0.6633318834275772, 0.8996509598603839, 0.8871365204534253, 0.6660558863948695, 0.6749502982107356, 0.6622641509433962, 0.8975428836346778, 0.9426559356136821, 0.7394234369150131, 0.674653887113951, 0.861878453038674, 0.7813479623824452, 0.8314653383146534, 0.9974025974025974]}, {\"mode\": \"markers\", \"name\": \"no-observers\", \"text\": [], \"type\": \"scatter\", \"x\": [], \"y\": []}, {\"mode\": \"markers\", \"name\": \"major\", \"text\": [\"07-001-0064 (218)\", \"07-002-0050 (300)\", \"07-002-0065 (315)\", \"07-003-0061 (385)\", \"07-003-0094 (418)\", \"07-004-0006 (436)\"], \"type\": \"scatter\", \"x\": [544, 551, 554, 574, 577, 581], \"y\": [0.9265350877192983, 0.7413793103448276, 0.9816576086956522, 0.7753329473074696, 0.9110911540188594, 0.6259363295880149]}, {\"mode\": \"markers\", \"name\": \"minor\", \"text\": [\"07-001-0010 (164)\", \"07-001-0059 (213)\", \"07-001-0060 (214)\", \"07-001-0078 (232)\", \"07-001-0089 (243)\", \"07-003-0024 (348)\", \"07-003-0093 (417)\", \"07-004-0028 (458)\", \"07-005-0018 (504)\", \"07-005-0026 (512)\", \"07-005-0037 (523)\", \"07-006-0005 (528)\", \"07-006-0008 (531)\", \"07-006-0016 (539)\", \"07-006-0037 (560)\", \"07-006-0048 (571)\", \"07-008-0070 (737)\", \"07-008-0079 (746)\", \"07-009-0014 (803)\"], \"type\": \"scatter\", \"x\": [537, 541, 542, 545, 547, 572, 576, 585, 591, 593, 595, 596, 598, 600, 604, 608, 614, 615, 616], \"y\": [0.6401557285873193, 0.8155197657393851, 0.652738565782044, 0.8321596244131455, 0.9361702127659575, 0.9582504970178927, 0.8426082068577853, 0.8339278636543797, 0.745679012345679, 0.9513812154696133, 0.9019438444924406, 1.0400775694893343, 0.9871349095966621, 0.7927527018436109, 0.5767934520943668, 0.98, 0.6200345423143351, 0.6966516741629185, 0.7558208955223881]}, {\"mode\": \"markers\", \"name\": \"ok\", \"text\": [\"07-001-0008 (162)\", \"07-001-0012 (166)\", \"07-001-0016 (170)\", \"07-001-0022 (176)\", \"07-001-0061 (215)\", \"07-002-0017 (267)\", \"07-002-0044 (294)\", \"07-002-0051 (301)\", \"07-002-0060 (310)\", \"07-002-0072 (322)\", \"07-003-0002 (326)\", \"07-003-0058 (382)\", \"07-003-0085 (409)\", \"07-004-0002 (432)\", \"07-004-0004 (434)\", \"07-004-0007 (437)\", \"07-004-0026 (456)\", \"07-005-0002 (488)\", \"07-005-0021 (507)\", \"07-006-0072 (595)\", \"07-008-0057 (724)\"], \"type\": \"scatter\", \"x\": [536, 538, 539, 540, 543, 548, 550, 552, 553, 555, 566, 573, 575, 578, 579, 582, 584, 587, 592, 612, 613], \"y\": [0.6192519926425506, 0.7902777777777777, 0.7633470225872689, 0.8521681997371879, 0.6287645974185617, 0.7639034627492131, 0.7864669994453688, 0.7631426920854997, 0.6681614349775785, 0.9836448598130841, 0.6035502958579881, 0.9680082559339526, 0.7170454545454545, 0.6602027324812693, 0.6710219318712086, 0.6625971143174251, 0.7244484466456551, 1.0, 0.7817460317460317, 0.6733902249806051, 0.6862745098039216]}],\n",
       "                        {\"template\": {\"data\": {\"bar\": [{\"error_x\": {\"color\": \"#2a3f5f\"}, \"error_y\": {\"color\": \"#2a3f5f\"}, \"marker\": {\"line\": {\"color\": \"#E5ECF6\", \"width\": 0.5}}, \"type\": \"bar\"}], \"barpolar\": [{\"marker\": {\"line\": {\"color\": \"#E5ECF6\", \"width\": 0.5}}, \"type\": \"barpolar\"}], \"carpet\": [{\"aaxis\": {\"endlinecolor\": \"#2a3f5f\", \"gridcolor\": \"white\", \"linecolor\": \"white\", \"minorgridcolor\": \"white\", \"startlinecolor\": \"#2a3f5f\"}, \"baxis\": {\"endlinecolor\": \"#2a3f5f\", \"gridcolor\": \"white\", \"linecolor\": \"white\", \"minorgridcolor\": \"white\", \"startlinecolor\": \"#2a3f5f\"}, \"type\": \"carpet\"}], \"choropleth\": [{\"colorbar\": {\"outlinewidth\": 0, \"ticks\": \"\"}, \"type\": \"choropleth\"}], \"contour\": [{\"colorbar\": {\"outlinewidth\": 0, \"ticks\": \"\"}, \"colorscale\": [[0.0, \"#0d0887\"], [0.1111111111111111, \"#46039f\"], [0.2222222222222222, \"#7201a8\"], [0.3333333333333333, \"#9c179e\"], [0.4444444444444444, \"#bd3786\"], [0.5555555555555556, \"#d8576b\"], [0.6666666666666666, \"#ed7953\"], [0.7777777777777778, \"#fb9f3a\"], [0.8888888888888888, \"#fdca26\"], [1.0, \"#f0f921\"]], \"type\": \"contour\"}], \"contourcarpet\": [{\"colorbar\": {\"outlinewidth\": 0, \"ticks\": \"\"}, \"type\": \"contourcarpet\"}], \"heatmap\": [{\"colorbar\": {\"outlinewidth\": 0, \"ticks\": \"\"}, \"colorscale\": [[0.0, \"#0d0887\"], [0.1111111111111111, \"#46039f\"], [0.2222222222222222, \"#7201a8\"], [0.3333333333333333, \"#9c179e\"], [0.4444444444444444, \"#bd3786\"], [0.5555555555555556, \"#d8576b\"], [0.6666666666666666, \"#ed7953\"], [0.7777777777777778, \"#fb9f3a\"], [0.8888888888888888, \"#fdca26\"], [1.0, \"#f0f921\"]], \"type\": \"heatmap\"}], \"heatmapgl\": [{\"colorbar\": {\"outlinewidth\": 0, \"ticks\": \"\"}, \"colorscale\": [[0.0, \"#0d0887\"], [0.1111111111111111, \"#46039f\"], [0.2222222222222222, \"#7201a8\"], [0.3333333333333333, \"#9c179e\"], [0.4444444444444444, \"#bd3786\"], [0.5555555555555556, \"#d8576b\"], [0.6666666666666666, \"#ed7953\"], [0.7777777777777778, \"#fb9f3a\"], [0.8888888888888888, \"#fdca26\"], [1.0, \"#f0f921\"]], \"type\": \"heatmapgl\"}], \"histogram\": [{\"marker\": {\"colorbar\": {\"outlinewidth\": 0, \"ticks\": \"\"}}, \"type\": \"histogram\"}], \"histogram2d\": [{\"colorbar\": {\"outlinewidth\": 0, \"ticks\": \"\"}, \"colorscale\": [[0.0, \"#0d0887\"], [0.1111111111111111, \"#46039f\"], [0.2222222222222222, \"#7201a8\"], [0.3333333333333333, \"#9c179e\"], [0.4444444444444444, \"#bd3786\"], [0.5555555555555556, \"#d8576b\"], [0.6666666666666666, \"#ed7953\"], [0.7777777777777778, \"#fb9f3a\"], [0.8888888888888888, \"#fdca26\"], [1.0, \"#f0f921\"]], \"type\": \"histogram2d\"}], \"histogram2dcontour\": [{\"colorbar\": {\"outlinewidth\": 0, \"ticks\": \"\"}, \"colorscale\": [[0.0, \"#0d0887\"], [0.1111111111111111, \"#46039f\"], [0.2222222222222222, \"#7201a8\"], [0.3333333333333333, \"#9c179e\"], [0.4444444444444444, \"#bd3786\"], [0.5555555555555556, \"#d8576b\"], [0.6666666666666666, \"#ed7953\"], [0.7777777777777778, \"#fb9f3a\"], [0.8888888888888888, \"#fdca26\"], [1.0, \"#f0f921\"]], \"type\": \"histogram2dcontour\"}], \"mesh3d\": [{\"colorbar\": {\"outlinewidth\": 0, \"ticks\": \"\"}, \"type\": \"mesh3d\"}], \"parcoords\": [{\"line\": {\"colorbar\": {\"outlinewidth\": 0, \"ticks\": \"\"}}, \"type\": \"parcoords\"}], \"pie\": [{\"automargin\": true, \"type\": \"pie\"}], \"scatter\": [{\"marker\": {\"colorbar\": {\"outlinewidth\": 0, \"ticks\": \"\"}}, \"type\": \"scatter\"}], \"scatter3d\": [{\"line\": {\"colorbar\": {\"outlinewidth\": 0, \"ticks\": \"\"}}, \"marker\": {\"colorbar\": {\"outlinewidth\": 0, \"ticks\": \"\"}}, \"type\": \"scatter3d\"}], \"scattercarpet\": [{\"marker\": {\"colorbar\": {\"outlinewidth\": 0, \"ticks\": \"\"}}, \"type\": \"scattercarpet\"}], \"scattergeo\": [{\"marker\": {\"colorbar\": {\"outlinewidth\": 0, \"ticks\": \"\"}}, \"type\": \"scattergeo\"}], \"scattergl\": [{\"marker\": {\"colorbar\": {\"outlinewidth\": 0, \"ticks\": \"\"}}, \"type\": \"scattergl\"}], \"scattermapbox\": [{\"marker\": {\"colorbar\": {\"outlinewidth\": 0, \"ticks\": \"\"}}, \"type\": \"scattermapbox\"}], \"scatterpolar\": [{\"marker\": {\"colorbar\": {\"outlinewidth\": 0, \"ticks\": \"\"}}, \"type\": \"scatterpolar\"}], \"scatterpolargl\": [{\"marker\": {\"colorbar\": {\"outlinewidth\": 0, \"ticks\": \"\"}}, \"type\": \"scatterpolargl\"}], \"scatterternary\": [{\"marker\": {\"colorbar\": {\"outlinewidth\": 0, \"ticks\": \"\"}}, \"type\": \"scatterternary\"}], \"surface\": [{\"colorbar\": {\"outlinewidth\": 0, \"ticks\": \"\"}, \"colorscale\": [[0.0, \"#0d0887\"], [0.1111111111111111, \"#46039f\"], [0.2222222222222222, \"#7201a8\"], [0.3333333333333333, \"#9c179e\"], [0.4444444444444444, \"#bd3786\"], [0.5555555555555556, \"#d8576b\"], [0.6666666666666666, \"#ed7953\"], [0.7777777777777778, \"#fb9f3a\"], [0.8888888888888888, \"#fdca26\"], [1.0, \"#f0f921\"]], \"type\": \"surface\"}], \"table\": [{\"cells\": {\"fill\": {\"color\": \"#EBF0F8\"}, \"line\": {\"color\": \"white\"}}, \"header\": {\"fill\": {\"color\": \"#C8D4E3\"}, \"line\": {\"color\": \"white\"}}, \"type\": \"table\"}]}, \"layout\": {\"annotationdefaults\": {\"arrowcolor\": \"#2a3f5f\", \"arrowhead\": 0, \"arrowwidth\": 1}, \"coloraxis\": {\"colorbar\": {\"outlinewidth\": 0, \"ticks\": \"\"}}, \"colorscale\": {\"diverging\": [[0, \"#8e0152\"], [0.1, \"#c51b7d\"], [0.2, \"#de77ae\"], [0.3, \"#f1b6da\"], [0.4, \"#fde0ef\"], [0.5, \"#f7f7f7\"], [0.6, \"#e6f5d0\"], [0.7, \"#b8e186\"], [0.8, \"#7fbc41\"], [0.9, \"#4d9221\"], [1, \"#276419\"]], \"sequential\": [[0.0, \"#0d0887\"], [0.1111111111111111, \"#46039f\"], [0.2222222222222222, \"#7201a8\"], [0.3333333333333333, \"#9c179e\"], [0.4444444444444444, \"#bd3786\"], [0.5555555555555556, \"#d8576b\"], [0.6666666666666666, \"#ed7953\"], [0.7777777777777778, \"#fb9f3a\"], [0.8888888888888888, \"#fdca26\"], [1.0, \"#f0f921\"]], \"sequentialminus\": [[0.0, \"#0d0887\"], [0.1111111111111111, \"#46039f\"], [0.2222222222222222, \"#7201a8\"], [0.3333333333333333, \"#9c179e\"], [0.4444444444444444, \"#bd3786\"], [0.5555555555555556, \"#d8576b\"], [0.6666666666666666, \"#ed7953\"], [0.7777777777777778, \"#fb9f3a\"], [0.8888888888888888, \"#fdca26\"], [1.0, \"#f0f921\"]]}, \"colorway\": [\"#636efa\", \"#EF553B\", \"#00cc96\", \"#ab63fa\", \"#FFA15A\", \"#19d3f3\", \"#FF6692\", \"#B6E880\", \"#FF97FF\", \"#FECB52\"], \"font\": {\"color\": \"#2a3f5f\"}, \"geo\": {\"bgcolor\": \"white\", \"lakecolor\": \"white\", \"landcolor\": \"#E5ECF6\", \"showlakes\": true, \"showland\": true, \"subunitcolor\": \"white\"}, \"hoverlabel\": {\"align\": \"left\"}, \"hovermode\": \"closest\", \"mapbox\": {\"style\": \"light\"}, \"paper_bgcolor\": \"white\", \"plot_bgcolor\": \"#E5ECF6\", \"polar\": {\"angularaxis\": {\"gridcolor\": \"white\", \"linecolor\": \"white\", \"ticks\": \"\"}, \"bgcolor\": \"#E5ECF6\", \"radialaxis\": {\"gridcolor\": \"white\", \"linecolor\": \"white\", \"ticks\": \"\"}}, \"scene\": {\"xaxis\": {\"backgroundcolor\": \"#E5ECF6\", \"gridcolor\": \"white\", \"gridwidth\": 2, \"linecolor\": \"white\", \"showbackground\": true, \"ticks\": \"\", \"zerolinecolor\": \"white\"}, \"yaxis\": {\"backgroundcolor\": \"#E5ECF6\", \"gridcolor\": \"white\", \"gridwidth\": 2, \"linecolor\": \"white\", \"showbackground\": true, \"ticks\": \"\", \"zerolinecolor\": \"white\"}, \"zaxis\": {\"backgroundcolor\": \"#E5ECF6\", \"gridcolor\": \"white\", \"gridwidth\": 2, \"linecolor\": \"white\", \"showbackground\": true, \"ticks\": \"\", \"zerolinecolor\": \"white\"}}, \"shapedefaults\": {\"line\": {\"color\": \"#2a3f5f\"}}, \"ternary\": {\"aaxis\": {\"gridcolor\": \"white\", \"linecolor\": \"white\", \"ticks\": \"\"}, \"baxis\": {\"gridcolor\": \"white\", \"linecolor\": \"white\", \"ticks\": \"\"}, \"bgcolor\": \"#E5ECF6\", \"caxis\": {\"gridcolor\": \"white\", \"linecolor\": \"white\", \"ticks\": \"\"}}, \"title\": {\"x\": 0.05}, \"xaxis\": {\"automargin\": true, \"gridcolor\": \"white\", \"linecolor\": \"white\", \"ticks\": \"\", \"title\": {\"standoff\": 15}, \"zerolinecolor\": \"white\", \"zerolinewidth\": 2}, \"yaxis\": {\"automargin\": true, \"gridcolor\": \"white\", \"linecolor\": \"white\", \"ticks\": \"\", \"title\": {\"standoff\": 15}, \"zerolinecolor\": \"white\", \"zerolinewidth\": 2}}}, \"title\": {\"text\": \"Turnout by area\"}, \"xaxis\": {\"title\": {\"text\": \"Poll stations\"}}, \"yaxis\": {\"title\": {\"text\": \"Turnout\"}}},\n",
       "                        {\"responsive\": true}\n",
       "                    ).then(function(){\n",
       "                            \n",
       "var gd = document.getElementById('aaea1c03-021d-41f9-8eb5-3f49ad3b517d');\n",
       "var x = new MutationObserver(function (mutations, observer) {{\n",
       "        var display = window.getComputedStyle(gd).display;\n",
       "        if (!display || display === 'none') {{\n",
       "            console.log([gd, 'removed!']);\n",
       "            Plotly.purge(gd);\n",
       "            observer.disconnect();\n",
       "        }}\n",
       "}});\n",
       "\n",
       "// Listen for the removal of the full notebook cells\n",
       "var notebookContainer = gd.closest('#notebook-container');\n",
       "if (notebookContainer) {{\n",
       "    x.observe(notebookContainer, {childList: true});\n",
       "}}\n",
       "\n",
       "// Listen for the clearing of the current output cell\n",
       "var outputEl = gd.closest('.output');\n",
       "if (outputEl) {{\n",
       "    x.observe(outputEl, {childList: true});\n",
       "}}\n",
       "\n",
       "                        })\n",
       "                };\n",
       "                });\n",
       "            </script>\n",
       "        </div>"
      ]
     },
     "metadata": {},
     "output_type": "display_data"
    }
   ],
   "source": [
    "draw_detailed_chart('capital', 7)"
   ]
  },
  {
   "cell_type": "code",
   "execution_count": 233,
   "metadata": {},
   "outputs": [],
   "source": []
  },
  {
   "cell_type": "code",
   "execution_count": 267,
   "metadata": {
    "scrolled": false
   },
   "outputs": [
    {
     "data": {
      "application/vnd.plotly.v1+json": {
       "config": {
        "plotlyServerURL": "https://plot.ly"
       },
       "data": [
        {
         "mode": "markers",
         "name": "wrong voters",
         "text": [],
         "type": "scatter",
         "x": [],
         "y": []
        },
        {
         "mode": "markers",
         "name": "no-observers",
         "text": [
          "06-146-0008 (5690)\nExp: 154.596\nOfficial: 322.0"
         ],
         "type": "scatter",
         "x": [
          454.404
         ],
         "y": [
          287
         ]
        },
        {
         "mode": "markers",
         "name": "major",
         "text": [],
         "type": "scatter",
         "x": [],
         "y": []
        },
        {
         "mode": "markers",
         "name": "minor",
         "text": [
          "06-121-0006 (5407)\nExp: 181.35299999999998\nOfficial: 233.0",
          "06-146-0024 (5706)\nExp: 365.679\nOfficial: 384.0"
         ],
         "type": "scatter",
         "x": [
          1227.647,
          739.321
         ],
         "y": [
          1176,
          721
         ]
        },
        {
         "mode": "markers",
         "name": "ok",
         "text": [
          "06-135-0020 (5760)\nExp: 258.651\nOfficial: 224.0",
          "06-135-0025 (5765)\nExp: 552.978\nOfficial: 384.0"
         ],
         "type": "scatter",
         "x": [
          538.3489999999999,
          922.022
         ],
         "y": [
          573,
          1091
         ]
        },
        {
         "mode": "lines",
         "name": "Expected",
         "type": "scatter",
         "x": [
          1227.647,
          538.3489999999999,
          922.022,
          454.404,
          739.321
         ],
         "y": [
          1227.647,
          538.3489999999999,
          922.022,
          454.404,
          739.321
         ]
        }
       ],
       "layout": {
        "template": {
         "data": {
          "bar": [
           {
            "error_x": {
             "color": "#2a3f5f"
            },
            "error_y": {
             "color": "#2a3f5f"
            },
            "marker": {
             "line": {
              "color": "#E5ECF6",
              "width": 0.5
             }
            },
            "type": "bar"
           }
          ],
          "barpolar": [
           {
            "marker": {
             "line": {
              "color": "#E5ECF6",
              "width": 0.5
             }
            },
            "type": "barpolar"
           }
          ],
          "carpet": [
           {
            "aaxis": {
             "endlinecolor": "#2a3f5f",
             "gridcolor": "white",
             "linecolor": "white",
             "minorgridcolor": "white",
             "startlinecolor": "#2a3f5f"
            },
            "baxis": {
             "endlinecolor": "#2a3f5f",
             "gridcolor": "white",
             "linecolor": "white",
             "minorgridcolor": "white",
             "startlinecolor": "#2a3f5f"
            },
            "type": "carpet"
           }
          ],
          "choropleth": [
           {
            "colorbar": {
             "outlinewidth": 0,
             "ticks": ""
            },
            "type": "choropleth"
           }
          ],
          "contour": [
           {
            "colorbar": {
             "outlinewidth": 0,
             "ticks": ""
            },
            "colorscale": [
             [
              0,
              "#0d0887"
             ],
             [
              0.1111111111111111,
              "#46039f"
             ],
             [
              0.2222222222222222,
              "#7201a8"
             ],
             [
              0.3333333333333333,
              "#9c179e"
             ],
             [
              0.4444444444444444,
              "#bd3786"
             ],
             [
              0.5555555555555556,
              "#d8576b"
             ],
             [
              0.6666666666666666,
              "#ed7953"
             ],
             [
              0.7777777777777778,
              "#fb9f3a"
             ],
             [
              0.8888888888888888,
              "#fdca26"
             ],
             [
              1,
              "#f0f921"
             ]
            ],
            "type": "contour"
           }
          ],
          "contourcarpet": [
           {
            "colorbar": {
             "outlinewidth": 0,
             "ticks": ""
            },
            "type": "contourcarpet"
           }
          ],
          "heatmap": [
           {
            "colorbar": {
             "outlinewidth": 0,
             "ticks": ""
            },
            "colorscale": [
             [
              0,
              "#0d0887"
             ],
             [
              0.1111111111111111,
              "#46039f"
             ],
             [
              0.2222222222222222,
              "#7201a8"
             ],
             [
              0.3333333333333333,
              "#9c179e"
             ],
             [
              0.4444444444444444,
              "#bd3786"
             ],
             [
              0.5555555555555556,
              "#d8576b"
             ],
             [
              0.6666666666666666,
              "#ed7953"
             ],
             [
              0.7777777777777778,
              "#fb9f3a"
             ],
             [
              0.8888888888888888,
              "#fdca26"
             ],
             [
              1,
              "#f0f921"
             ]
            ],
            "type": "heatmap"
           }
          ],
          "heatmapgl": [
           {
            "colorbar": {
             "outlinewidth": 0,
             "ticks": ""
            },
            "colorscale": [
             [
              0,
              "#0d0887"
             ],
             [
              0.1111111111111111,
              "#46039f"
             ],
             [
              0.2222222222222222,
              "#7201a8"
             ],
             [
              0.3333333333333333,
              "#9c179e"
             ],
             [
              0.4444444444444444,
              "#bd3786"
             ],
             [
              0.5555555555555556,
              "#d8576b"
             ],
             [
              0.6666666666666666,
              "#ed7953"
             ],
             [
              0.7777777777777778,
              "#fb9f3a"
             ],
             [
              0.8888888888888888,
              "#fdca26"
             ],
             [
              1,
              "#f0f921"
             ]
            ],
            "type": "heatmapgl"
           }
          ],
          "histogram": [
           {
            "marker": {
             "colorbar": {
              "outlinewidth": 0,
              "ticks": ""
             }
            },
            "type": "histogram"
           }
          ],
          "histogram2d": [
           {
            "colorbar": {
             "outlinewidth": 0,
             "ticks": ""
            },
            "colorscale": [
             [
              0,
              "#0d0887"
             ],
             [
              0.1111111111111111,
              "#46039f"
             ],
             [
              0.2222222222222222,
              "#7201a8"
             ],
             [
              0.3333333333333333,
              "#9c179e"
             ],
             [
              0.4444444444444444,
              "#bd3786"
             ],
             [
              0.5555555555555556,
              "#d8576b"
             ],
             [
              0.6666666666666666,
              "#ed7953"
             ],
             [
              0.7777777777777778,
              "#fb9f3a"
             ],
             [
              0.8888888888888888,
              "#fdca26"
             ],
             [
              1,
              "#f0f921"
             ]
            ],
            "type": "histogram2d"
           }
          ],
          "histogram2dcontour": [
           {
            "colorbar": {
             "outlinewidth": 0,
             "ticks": ""
            },
            "colorscale": [
             [
              0,
              "#0d0887"
             ],
             [
              0.1111111111111111,
              "#46039f"
             ],
             [
              0.2222222222222222,
              "#7201a8"
             ],
             [
              0.3333333333333333,
              "#9c179e"
             ],
             [
              0.4444444444444444,
              "#bd3786"
             ],
             [
              0.5555555555555556,
              "#d8576b"
             ],
             [
              0.6666666666666666,
              "#ed7953"
             ],
             [
              0.7777777777777778,
              "#fb9f3a"
             ],
             [
              0.8888888888888888,
              "#fdca26"
             ],
             [
              1,
              "#f0f921"
             ]
            ],
            "type": "histogram2dcontour"
           }
          ],
          "mesh3d": [
           {
            "colorbar": {
             "outlinewidth": 0,
             "ticks": ""
            },
            "type": "mesh3d"
           }
          ],
          "parcoords": [
           {
            "line": {
             "colorbar": {
              "outlinewidth": 0,
              "ticks": ""
             }
            },
            "type": "parcoords"
           }
          ],
          "pie": [
           {
            "automargin": true,
            "type": "pie"
           }
          ],
          "scatter": [
           {
            "marker": {
             "colorbar": {
              "outlinewidth": 0,
              "ticks": ""
             }
            },
            "type": "scatter"
           }
          ],
          "scatter3d": [
           {
            "line": {
             "colorbar": {
              "outlinewidth": 0,
              "ticks": ""
             }
            },
            "marker": {
             "colorbar": {
              "outlinewidth": 0,
              "ticks": ""
             }
            },
            "type": "scatter3d"
           }
          ],
          "scattercarpet": [
           {
            "marker": {
             "colorbar": {
              "outlinewidth": 0,
              "ticks": ""
             }
            },
            "type": "scattercarpet"
           }
          ],
          "scattergeo": [
           {
            "marker": {
             "colorbar": {
              "outlinewidth": 0,
              "ticks": ""
             }
            },
            "type": "scattergeo"
           }
          ],
          "scattergl": [
           {
            "marker": {
             "colorbar": {
              "outlinewidth": 0,
              "ticks": ""
             }
            },
            "type": "scattergl"
           }
          ],
          "scattermapbox": [
           {
            "marker": {
             "colorbar": {
              "outlinewidth": 0,
              "ticks": ""
             }
            },
            "type": "scattermapbox"
           }
          ],
          "scatterpolar": [
           {
            "marker": {
             "colorbar": {
              "outlinewidth": 0,
              "ticks": ""
             }
            },
            "type": "scatterpolar"
           }
          ],
          "scatterpolargl": [
           {
            "marker": {
             "colorbar": {
              "outlinewidth": 0,
              "ticks": ""
             }
            },
            "type": "scatterpolargl"
           }
          ],
          "scatterternary": [
           {
            "marker": {
             "colorbar": {
              "outlinewidth": 0,
              "ticks": ""
             }
            },
            "type": "scatterternary"
           }
          ],
          "surface": [
           {
            "colorbar": {
             "outlinewidth": 0,
             "ticks": ""
            },
            "colorscale": [
             [
              0,
              "#0d0887"
             ],
             [
              0.1111111111111111,
              "#46039f"
             ],
             [
              0.2222222222222222,
              "#7201a8"
             ],
             [
              0.3333333333333333,
              "#9c179e"
             ],
             [
              0.4444444444444444,
              "#bd3786"
             ],
             [
              0.5555555555555556,
              "#d8576b"
             ],
             [
              0.6666666666666666,
              "#ed7953"
             ],
             [
              0.7777777777777778,
              "#fb9f3a"
             ],
             [
              0.8888888888888888,
              "#fdca26"
             ],
             [
              1,
              "#f0f921"
             ]
            ],
            "type": "surface"
           }
          ],
          "table": [
           {
            "cells": {
             "fill": {
              "color": "#EBF0F8"
             },
             "line": {
              "color": "white"
             }
            },
            "header": {
             "fill": {
              "color": "#C8D4E3"
             },
             "line": {
              "color": "white"
             }
            },
            "type": "table"
           }
          ]
         },
         "layout": {
          "annotationdefaults": {
           "arrowcolor": "#2a3f5f",
           "arrowhead": 0,
           "arrowwidth": 1
          },
          "coloraxis": {
           "colorbar": {
            "outlinewidth": 0,
            "ticks": ""
           }
          },
          "colorscale": {
           "diverging": [
            [
             0,
             "#8e0152"
            ],
            [
             0.1,
             "#c51b7d"
            ],
            [
             0.2,
             "#de77ae"
            ],
            [
             0.3,
             "#f1b6da"
            ],
            [
             0.4,
             "#fde0ef"
            ],
            [
             0.5,
             "#f7f7f7"
            ],
            [
             0.6,
             "#e6f5d0"
            ],
            [
             0.7,
             "#b8e186"
            ],
            [
             0.8,
             "#7fbc41"
            ],
            [
             0.9,
             "#4d9221"
            ],
            [
             1,
             "#276419"
            ]
           ],
           "sequential": [
            [
             0,
             "#0d0887"
            ],
            [
             0.1111111111111111,
             "#46039f"
            ],
            [
             0.2222222222222222,
             "#7201a8"
            ],
            [
             0.3333333333333333,
             "#9c179e"
            ],
            [
             0.4444444444444444,
             "#bd3786"
            ],
            [
             0.5555555555555556,
             "#d8576b"
            ],
            [
             0.6666666666666666,
             "#ed7953"
            ],
            [
             0.7777777777777778,
             "#fb9f3a"
            ],
            [
             0.8888888888888888,
             "#fdca26"
            ],
            [
             1,
             "#f0f921"
            ]
           ],
           "sequentialminus": [
            [
             0,
             "#0d0887"
            ],
            [
             0.1111111111111111,
             "#46039f"
            ],
            [
             0.2222222222222222,
             "#7201a8"
            ],
            [
             0.3333333333333333,
             "#9c179e"
            ],
            [
             0.4444444444444444,
             "#bd3786"
            ],
            [
             0.5555555555555556,
             "#d8576b"
            ],
            [
             0.6666666666666666,
             "#ed7953"
            ],
            [
             0.7777777777777778,
             "#fb9f3a"
            ],
            [
             0.8888888888888888,
             "#fdca26"
            ],
            [
             1,
             "#f0f921"
            ]
           ]
          },
          "colorway": [
           "#636efa",
           "#EF553B",
           "#00cc96",
           "#ab63fa",
           "#FFA15A",
           "#19d3f3",
           "#FF6692",
           "#B6E880",
           "#FF97FF",
           "#FECB52"
          ],
          "font": {
           "color": "#2a3f5f"
          },
          "geo": {
           "bgcolor": "white",
           "lakecolor": "white",
           "landcolor": "#E5ECF6",
           "showlakes": true,
           "showland": true,
           "subunitcolor": "white"
          },
          "hoverlabel": {
           "align": "left"
          },
          "hovermode": "closest",
          "mapbox": {
           "style": "light"
          },
          "paper_bgcolor": "white",
          "plot_bgcolor": "#E5ECF6",
          "polar": {
           "angularaxis": {
            "gridcolor": "white",
            "linecolor": "white",
            "ticks": ""
           },
           "bgcolor": "#E5ECF6",
           "radialaxis": {
            "gridcolor": "white",
            "linecolor": "white",
            "ticks": ""
           }
          },
          "scene": {
           "xaxis": {
            "backgroundcolor": "#E5ECF6",
            "gridcolor": "white",
            "gridwidth": 2,
            "linecolor": "white",
            "showbackground": true,
            "ticks": "",
            "zerolinecolor": "white"
           },
           "yaxis": {
            "backgroundcolor": "#E5ECF6",
            "gridcolor": "white",
            "gridwidth": 2,
            "linecolor": "white",
            "showbackground": true,
            "ticks": "",
            "zerolinecolor": "white"
           },
           "zaxis": {
            "backgroundcolor": "#E5ECF6",
            "gridcolor": "white",
            "gridwidth": 2,
            "linecolor": "white",
            "showbackground": true,
            "ticks": "",
            "zerolinecolor": "white"
           }
          },
          "shapedefaults": {
           "line": {
            "color": "#2a3f5f"
           }
          },
          "ternary": {
           "aaxis": {
            "gridcolor": "white",
            "linecolor": "white",
            "ticks": ""
           },
           "baxis": {
            "gridcolor": "white",
            "linecolor": "white",
            "ticks": ""
           },
           "bgcolor": "#E5ECF6",
           "caxis": {
            "gridcolor": "white",
            "linecolor": "white",
            "ticks": ""
           }
          },
          "title": {
           "x": 0.05
          },
          "xaxis": {
           "automargin": true,
           "gridcolor": "white",
           "linecolor": "white",
           "ticks": "",
           "title": {
            "standoff": 15
           },
           "zerolinecolor": "white",
           "zerolinewidth": 2
          },
          "yaxis": {
           "automargin": true,
           "gridcolor": "white",
           "linecolor": "white",
           "ticks": "",
           "title": {
            "standoff": 15
           },
           "zerolinecolor": "white",
           "zerolinewidth": 2
          }
         }
        },
        "title": {
         "text": "Expected vs Official (village-6)"
        },
        "xaxis": {
         "title": {
          "text": "Expected"
         }
        },
        "yaxis": {
         "title": {
          "text": "Official"
         }
        }
       }
      },
      "text/html": [
       "<div>\n",
       "        \n",
       "        \n",
       "            <div id=\"e331de99-95a7-4401-9e89-d58bc1f4640c\" class=\"plotly-graph-div\" style=\"height:525px; width:100%;\"></div>\n",
       "            <script type=\"text/javascript\">\n",
       "                require([\"plotly\"], function(Plotly) {\n",
       "                    window.PLOTLYENV=window.PLOTLYENV || {};\n",
       "                    \n",
       "                if (document.getElementById(\"e331de99-95a7-4401-9e89-d58bc1f4640c\")) {\n",
       "                    Plotly.newPlot(\n",
       "                        'e331de99-95a7-4401-9e89-d58bc1f4640c',\n",
       "                        [{\"mode\": \"markers\", \"name\": \"wrong voters\", \"text\": [], \"type\": \"scatter\", \"x\": [], \"y\": []}, {\"mode\": \"markers\", \"name\": \"no-observers\", \"text\": [\"06-146-0008 (5690)\\nExp: 154.596\\nOfficial: 322.0\"], \"type\": \"scatter\", \"x\": [454.404], \"y\": [287.0]}, {\"mode\": \"markers\", \"name\": \"major\", \"text\": [], \"type\": \"scatter\", \"x\": [], \"y\": []}, {\"mode\": \"markers\", \"name\": \"minor\", \"text\": [\"06-121-0006 (5407)\\nExp: 181.35299999999998\\nOfficial: 233.0\", \"06-146-0024 (5706)\\nExp: 365.679\\nOfficial: 384.0\"], \"type\": \"scatter\", \"x\": [1227.647, 739.321], \"y\": [1176.0, 721.0]}, {\"mode\": \"markers\", \"name\": \"ok\", \"text\": [\"06-135-0020 (5760)\\nExp: 258.651\\nOfficial: 224.0\", \"06-135-0025 (5765)\\nExp: 552.978\\nOfficial: 384.0\"], \"type\": \"scatter\", \"x\": [538.3489999999999, 922.022], \"y\": [573.0, 1091.0]}, {\"mode\": \"lines\", \"name\": \"Expected\", \"type\": \"scatter\", \"x\": [1227.647, 538.3489999999999, 922.022, 454.404, 739.321], \"y\": [1227.647, 538.3489999999999, 922.022, 454.404, 739.321]}],\n",
       "                        {\"template\": {\"data\": {\"bar\": [{\"error_x\": {\"color\": \"#2a3f5f\"}, \"error_y\": {\"color\": \"#2a3f5f\"}, \"marker\": {\"line\": {\"color\": \"#E5ECF6\", \"width\": 0.5}}, \"type\": \"bar\"}], \"barpolar\": [{\"marker\": {\"line\": {\"color\": \"#E5ECF6\", \"width\": 0.5}}, \"type\": \"barpolar\"}], \"carpet\": [{\"aaxis\": {\"endlinecolor\": \"#2a3f5f\", \"gridcolor\": \"white\", \"linecolor\": \"white\", \"minorgridcolor\": \"white\", \"startlinecolor\": \"#2a3f5f\"}, \"baxis\": {\"endlinecolor\": \"#2a3f5f\", \"gridcolor\": \"white\", \"linecolor\": \"white\", \"minorgridcolor\": \"white\", \"startlinecolor\": \"#2a3f5f\"}, \"type\": \"carpet\"}], \"choropleth\": [{\"colorbar\": {\"outlinewidth\": 0, \"ticks\": \"\"}, \"type\": \"choropleth\"}], \"contour\": [{\"colorbar\": {\"outlinewidth\": 0, \"ticks\": \"\"}, \"colorscale\": [[0.0, \"#0d0887\"], [0.1111111111111111, \"#46039f\"], [0.2222222222222222, \"#7201a8\"], [0.3333333333333333, \"#9c179e\"], [0.4444444444444444, \"#bd3786\"], [0.5555555555555556, \"#d8576b\"], [0.6666666666666666, \"#ed7953\"], [0.7777777777777778, \"#fb9f3a\"], [0.8888888888888888, \"#fdca26\"], [1.0, \"#f0f921\"]], \"type\": \"contour\"}], \"contourcarpet\": [{\"colorbar\": {\"outlinewidth\": 0, \"ticks\": \"\"}, \"type\": \"contourcarpet\"}], \"heatmap\": [{\"colorbar\": {\"outlinewidth\": 0, \"ticks\": \"\"}, \"colorscale\": [[0.0, \"#0d0887\"], [0.1111111111111111, \"#46039f\"], [0.2222222222222222, \"#7201a8\"], [0.3333333333333333, \"#9c179e\"], [0.4444444444444444, \"#bd3786\"], [0.5555555555555556, \"#d8576b\"], [0.6666666666666666, \"#ed7953\"], [0.7777777777777778, \"#fb9f3a\"], [0.8888888888888888, \"#fdca26\"], [1.0, \"#f0f921\"]], \"type\": \"heatmap\"}], \"heatmapgl\": [{\"colorbar\": {\"outlinewidth\": 0, \"ticks\": \"\"}, \"colorscale\": [[0.0, \"#0d0887\"], [0.1111111111111111, \"#46039f\"], [0.2222222222222222, \"#7201a8\"], [0.3333333333333333, \"#9c179e\"], [0.4444444444444444, \"#bd3786\"], [0.5555555555555556, \"#d8576b\"], [0.6666666666666666, \"#ed7953\"], [0.7777777777777778, \"#fb9f3a\"], [0.8888888888888888, \"#fdca26\"], [1.0, \"#f0f921\"]], \"type\": \"heatmapgl\"}], \"histogram\": [{\"marker\": {\"colorbar\": {\"outlinewidth\": 0, \"ticks\": \"\"}}, \"type\": \"histogram\"}], \"histogram2d\": [{\"colorbar\": {\"outlinewidth\": 0, \"ticks\": \"\"}, \"colorscale\": [[0.0, \"#0d0887\"], [0.1111111111111111, \"#46039f\"], [0.2222222222222222, \"#7201a8\"], [0.3333333333333333, \"#9c179e\"], [0.4444444444444444, \"#bd3786\"], [0.5555555555555556, \"#d8576b\"], [0.6666666666666666, \"#ed7953\"], [0.7777777777777778, \"#fb9f3a\"], [0.8888888888888888, \"#fdca26\"], [1.0, \"#f0f921\"]], \"type\": \"histogram2d\"}], \"histogram2dcontour\": [{\"colorbar\": {\"outlinewidth\": 0, \"ticks\": \"\"}, \"colorscale\": [[0.0, \"#0d0887\"], [0.1111111111111111, \"#46039f\"], [0.2222222222222222, \"#7201a8\"], [0.3333333333333333, \"#9c179e\"], [0.4444444444444444, \"#bd3786\"], [0.5555555555555556, \"#d8576b\"], [0.6666666666666666, \"#ed7953\"], [0.7777777777777778, \"#fb9f3a\"], [0.8888888888888888, \"#fdca26\"], [1.0, \"#f0f921\"]], \"type\": \"histogram2dcontour\"}], \"mesh3d\": [{\"colorbar\": {\"outlinewidth\": 0, \"ticks\": \"\"}, \"type\": \"mesh3d\"}], \"parcoords\": [{\"line\": {\"colorbar\": {\"outlinewidth\": 0, \"ticks\": \"\"}}, \"type\": \"parcoords\"}], \"pie\": [{\"automargin\": true, \"type\": \"pie\"}], \"scatter\": [{\"marker\": {\"colorbar\": {\"outlinewidth\": 0, \"ticks\": \"\"}}, \"type\": \"scatter\"}], \"scatter3d\": [{\"line\": {\"colorbar\": {\"outlinewidth\": 0, \"ticks\": \"\"}}, \"marker\": {\"colorbar\": {\"outlinewidth\": 0, \"ticks\": \"\"}}, \"type\": \"scatter3d\"}], \"scattercarpet\": [{\"marker\": {\"colorbar\": {\"outlinewidth\": 0, \"ticks\": \"\"}}, \"type\": \"scattercarpet\"}], \"scattergeo\": [{\"marker\": {\"colorbar\": {\"outlinewidth\": 0, \"ticks\": \"\"}}, \"type\": \"scattergeo\"}], \"scattergl\": [{\"marker\": {\"colorbar\": {\"outlinewidth\": 0, \"ticks\": \"\"}}, \"type\": \"scattergl\"}], \"scattermapbox\": [{\"marker\": {\"colorbar\": {\"outlinewidth\": 0, \"ticks\": \"\"}}, \"type\": \"scattermapbox\"}], \"scatterpolar\": [{\"marker\": {\"colorbar\": {\"outlinewidth\": 0, \"ticks\": \"\"}}, \"type\": \"scatterpolar\"}], \"scatterpolargl\": [{\"marker\": {\"colorbar\": {\"outlinewidth\": 0, \"ticks\": \"\"}}, \"type\": \"scatterpolargl\"}], \"scatterternary\": [{\"marker\": {\"colorbar\": {\"outlinewidth\": 0, \"ticks\": \"\"}}, \"type\": \"scatterternary\"}], \"surface\": [{\"colorbar\": {\"outlinewidth\": 0, \"ticks\": \"\"}, \"colorscale\": [[0.0, \"#0d0887\"], [0.1111111111111111, \"#46039f\"], [0.2222222222222222, \"#7201a8\"], [0.3333333333333333, \"#9c179e\"], [0.4444444444444444, \"#bd3786\"], [0.5555555555555556, \"#d8576b\"], [0.6666666666666666, \"#ed7953\"], [0.7777777777777778, \"#fb9f3a\"], [0.8888888888888888, \"#fdca26\"], [1.0, \"#f0f921\"]], \"type\": \"surface\"}], \"table\": [{\"cells\": {\"fill\": {\"color\": \"#EBF0F8\"}, \"line\": {\"color\": \"white\"}}, \"header\": {\"fill\": {\"color\": \"#C8D4E3\"}, \"line\": {\"color\": \"white\"}}, \"type\": \"table\"}]}, \"layout\": {\"annotationdefaults\": {\"arrowcolor\": \"#2a3f5f\", \"arrowhead\": 0, \"arrowwidth\": 1}, \"coloraxis\": {\"colorbar\": {\"outlinewidth\": 0, \"ticks\": \"\"}}, \"colorscale\": {\"diverging\": [[0, \"#8e0152\"], [0.1, \"#c51b7d\"], [0.2, \"#de77ae\"], [0.3, \"#f1b6da\"], [0.4, \"#fde0ef\"], [0.5, \"#f7f7f7\"], [0.6, \"#e6f5d0\"], [0.7, \"#b8e186\"], [0.8, \"#7fbc41\"], [0.9, \"#4d9221\"], [1, \"#276419\"]], \"sequential\": [[0.0, \"#0d0887\"], [0.1111111111111111, \"#46039f\"], [0.2222222222222222, \"#7201a8\"], [0.3333333333333333, \"#9c179e\"], [0.4444444444444444, \"#bd3786\"], [0.5555555555555556, \"#d8576b\"], [0.6666666666666666, \"#ed7953\"], [0.7777777777777778, \"#fb9f3a\"], [0.8888888888888888, \"#fdca26\"], [1.0, \"#f0f921\"]], \"sequentialminus\": [[0.0, \"#0d0887\"], [0.1111111111111111, \"#46039f\"], [0.2222222222222222, \"#7201a8\"], [0.3333333333333333, \"#9c179e\"], [0.4444444444444444, \"#bd3786\"], [0.5555555555555556, \"#d8576b\"], [0.6666666666666666, \"#ed7953\"], [0.7777777777777778, \"#fb9f3a\"], [0.8888888888888888, \"#fdca26\"], [1.0, \"#f0f921\"]]}, \"colorway\": [\"#636efa\", \"#EF553B\", \"#00cc96\", \"#ab63fa\", \"#FFA15A\", \"#19d3f3\", \"#FF6692\", \"#B6E880\", \"#FF97FF\", \"#FECB52\"], \"font\": {\"color\": \"#2a3f5f\"}, \"geo\": {\"bgcolor\": \"white\", \"lakecolor\": \"white\", \"landcolor\": \"#E5ECF6\", \"showlakes\": true, \"showland\": true, \"subunitcolor\": \"white\"}, \"hoverlabel\": {\"align\": \"left\"}, \"hovermode\": \"closest\", \"mapbox\": {\"style\": \"light\"}, \"paper_bgcolor\": \"white\", \"plot_bgcolor\": \"#E5ECF6\", \"polar\": {\"angularaxis\": {\"gridcolor\": \"white\", \"linecolor\": \"white\", \"ticks\": \"\"}, \"bgcolor\": \"#E5ECF6\", \"radialaxis\": {\"gridcolor\": \"white\", \"linecolor\": \"white\", \"ticks\": \"\"}}, \"scene\": {\"xaxis\": {\"backgroundcolor\": \"#E5ECF6\", \"gridcolor\": \"white\", \"gridwidth\": 2, \"linecolor\": \"white\", \"showbackground\": true, \"ticks\": \"\", \"zerolinecolor\": \"white\"}, \"yaxis\": {\"backgroundcolor\": \"#E5ECF6\", \"gridcolor\": \"white\", \"gridwidth\": 2, \"linecolor\": \"white\", \"showbackground\": true, \"ticks\": \"\", \"zerolinecolor\": \"white\"}, \"zaxis\": {\"backgroundcolor\": \"#E5ECF6\", \"gridcolor\": \"white\", \"gridwidth\": 2, \"linecolor\": \"white\", \"showbackground\": true, \"ticks\": \"\", \"zerolinecolor\": \"white\"}}, \"shapedefaults\": {\"line\": {\"color\": \"#2a3f5f\"}}, \"ternary\": {\"aaxis\": {\"gridcolor\": \"white\", \"linecolor\": \"white\", \"ticks\": \"\"}, \"baxis\": {\"gridcolor\": \"white\", \"linecolor\": \"white\", \"ticks\": \"\"}, \"bgcolor\": \"#E5ECF6\", \"caxis\": {\"gridcolor\": \"white\", \"linecolor\": \"white\", \"ticks\": \"\"}}, \"title\": {\"x\": 0.05}, \"xaxis\": {\"automargin\": true, \"gridcolor\": \"white\", \"linecolor\": \"white\", \"ticks\": \"\", \"title\": {\"standoff\": 15}, \"zerolinecolor\": \"white\", \"zerolinewidth\": 2}, \"yaxis\": {\"automargin\": true, \"gridcolor\": \"white\", \"linecolor\": \"white\", \"ticks\": \"\", \"title\": {\"standoff\": 15}, \"zerolinecolor\": \"white\", \"zerolinewidth\": 2}}}, \"title\": {\"text\": \"Expected vs Official (village-6)\"}, \"xaxis\": {\"title\": {\"text\": \"Expected\"}}, \"yaxis\": {\"title\": {\"text\": \"Official\"}}},\n",
       "                        {\"responsive\": true}\n",
       "                    ).then(function(){\n",
       "                            \n",
       "var gd = document.getElementById('e331de99-95a7-4401-9e89-d58bc1f4640c');\n",
       "var x = new MutationObserver(function (mutations, observer) {{\n",
       "        var display = window.getComputedStyle(gd).display;\n",
       "        if (!display || display === 'none') {{\n",
       "            console.log([gd, 'removed!']);\n",
       "            Plotly.purge(gd);\n",
       "            observer.disconnect();\n",
       "        }}\n",
       "}});\n",
       "\n",
       "// Listen for the removal of the full notebook cells\n",
       "var notebookContainer = gd.closest('#notebook-container');\n",
       "if (notebookContainer) {{\n",
       "    x.observe(notebookContainer, {childList: true});\n",
       "}}\n",
       "\n",
       "// Listen for the clearing of the current output cell\n",
       "var outputEl = gd.closest('.output');\n",
       "if (outputEl) {{\n",
       "    x.observe(outputEl, {childList: true});\n",
       "}}\n",
       "\n",
       "                        })\n",
       "                };\n",
       "                });\n",
       "            </script>\n",
       "        </div>"
      ]
     },
     "metadata": {},
     "output_type": "display_data"
    }
   ],
   "source": []
  },
  {
   "cell_type": "code",
   "execution_count": 122,
   "metadata": {},
   "outputs": [
    {
     "data": {
      "application/vnd.plotly.v1+json": {
       "config": {
        "plotlyServerURL": "https://plot.ly"
       },
       "data": [
        {
         "mode": "markers",
         "name": "Turnout 1",
         "text": [
          "01-049-0030\nExp: 300.27299999999997\nOfficial: 567.0",
          "01-050-0011\nExp: 68.37899999999999\nOfficial: 225.0",
          "01-053-0021\nExp: 202.164\nOfficial: 595.0",
          "01-054-0010\nExp: 303.246\nOfficial: 395.0",
          "01-054-0026\nExp: 44.595\nOfficial: 162.0",
          "01-054-0043\nExp: 306.219\nOfficial: 436.0",
          "01-055-0010\nExp: 38.649\nOfficial: 221.0",
          "01-055-0017\nExp: 56.486999999999995\nOfficial: 174.0",
          "01-056-0021\nExp: 145.677\nOfficial: 277.0",
          "01-056-0024\nExp: 80.271\nOfficial: 181.0",
          "01-056-0043\nExp: 107.02799999999999\nOfficial: 157.0",
          "01-056-0048\nExp: 285.408\nOfficial: 435.0",
          "01-057-0025\nExp: 107.02799999999999\nOfficial: 420.0",
          "01-057-0037\nExp: 121.893\nOfficial: 241.0",
          "01-058-0008\nExp: 80.271\nOfficial: 184.0",
          "01-063-0015\nExp: 469.734\nOfficial: 613.0",
          "01-063-0049\nExp: 92.163\nOfficial: 243.0",
          "01-142-0002\nExp: 419.193\nOfficial: 838.0"
         ],
         "type": "scatter",
         "x": [
          708.7270000000001,
          651.621,
          896.836,
          1005.754,
          447.405,
          776.781,
          571.351,
          311.51300000000003,
          371.323,
          341.729,
          385.972,
          652.592,
          1097.972,
          917.107,
          420.729,
          1738.266,
          733.837,
          939.807
         ],
         "y": [
          442,
          495,
          504,
          914,
          330,
          647,
          389,
          194,
          240,
          241,
          336,
          503,
          785,
          798,
          317,
          1595,
          583,
          521
         ]
        },
        {
         "mode": "markers",
         "name": "Turnout 2",
         "text": [
          "02-065-0015\nExp: 110.00099999999999\nOfficial: 271.0",
          "02-066-0013\nExp: 110.00099999999999\nOfficial: 178.0",
          "02-067-0010\nExp: 47.568\nOfficial: 168.0",
          "02-067-0015\nExp: 178.38\nOfficial: 175.0",
          "02-068-0013\nExp: 23.784\nOfficial: 36.0",
          "02-069-0005\nExp: 368.652\nOfficial: 555.0",
          "02-069-0006\nExp: 324.05699999999996\nOfficial: 581.0",
          "02-071-0015\nExp: 104.05499999999999\nOfficial: 78.0",
          "02-072-0011\nExp: 95.136\nOfficial: 233.0",
          "02-075-0075\nExp: 416.21999999999997\nOfficial: 256.0",
          "02-076-0039\nExp: 86.217\nOfficial: 72.0",
          "02-076-0040\nExp: 104.05499999999999\nOfficial: 78.0",
          "02-077-0016\nExp: 294.327\nOfficial: 493.0",
          "02-077-0019\nExp: 383.517\nOfficial: 610.0",
          "02-078-0008\nExp: 68.37899999999999\nOfficial: 67.0",
          "02-143-0008\nExp: 53.513999999999996\nOfficial: 80.0",
          "02-143-0009\nExp: 110.00099999999999\nOfficial: 119.0"
         ],
         "type": "scatter",
         "x": [
          407.999,
          665.999,
          425.432,
          524.62,
          248.216,
          767.348,
          776.943,
          356.945,
          435.86400000000003,
          1137.78,
          354.783,
          372.945,
          822.673,
          615.483,
          661.621,
          258.486,
          349.999
         ],
         "y": [
          247,
          598,
          305,
          528,
          236,
          581,
          520,
          383,
          298,
          1298,
          369,
          399,
          624,
          389,
          663,
          232,
          341
         ]
        },
        {
         "mode": "markers",
         "name": "Turnout 3",
         "text": [
          "03-085-0009\nExp: 5.946\nOfficial: 14.0",
          "03-087-0009\nExp: 133.785\nOfficial: 88.0",
          "03-088-0027\nExp: 68.37899999999999\nOfficial: 144.0",
          "03-091-0036\nExp: 169.46099999999998\nOfficial: 317.0",
          "03-091-0043\nExp: 139.731\nOfficial: 229.0",
          "03-091-0046\nExp: 285.408\nOfficial: 446.0",
          "03-091-0047\nExp: 121.893\nOfficial: 303.0",
          "03-091-0048\nExp: 83.244\nOfficial: 203.0",
          "03-096-0058\nExp: 585.6809999999999\nOfficial: 664.0",
          "03-100-0045\nExp: 17.838\nOfficial: 49.0",
          "03-100-0057\nExp: 80.271\nOfficial: 253.0",
          "03-101-0029\nExp: 47.568\nOfficial: 142.0",
          "03-101-0036\nExp: 41.622\nOfficial: 169.0",
          "03-101-0037\nExp: 154.596\nOfficial: 315.0"
         ],
         "type": "scatter",
         "x": [
          181.054,
          717.215,
          486.621,
          434.539,
          372.269,
          630.592,
          581.107,
          381.756,
          1262.319,
          227.162,
          466.729,
          377.432,
          291.378,
          361.404
         ],
         "y": [
          173,
          763,
          411,
          287,
          283,
          470,
          400,
          262,
          1184,
          196,
          294,
          283,
          164,
          201
         ]
        },
        {
         "mode": "markers",
         "name": "Turnout 4",
         "text": [
          "04-105-0011\nExp: 65.40599999999999\nOfficial: 169.0",
          "04-110-0013\nExp: 154.596\nOfficial: 271.0",
          "04-112-0054\nExp: 538.1129999999999\nOfficial: 651.0",
          "04-112-0055\nExp: 234.867\nOfficial: 505.0",
          "04-112-0059\nExp: 142.704\nOfficial: 271.0",
          "04-112-0064\nExp: 279.462\nOfficial: 449.0",
          "04-112-0065\nExp: 300.27299999999997\nOfficial: 341.0",
          "04-114-0018\nExp: 71.352\nOfficial: 186.0",
          "04-114-0028\nExp: 166.488\nOfficial: 295.0",
          "04-117-0011\nExp: 44.595\nOfficial: 153.0",
          "04-117-0014\nExp: 62.433\nOfficial: 182.0",
          "04-119-0024\nExp: 160.542\nOfficial: 361.0",
          "04-119-0029\nExp: 208.10999999999999\nOfficial: 466.0",
          "04-145-0023\nExp: 365.679\nOfficial: 482.0",
          "04-145-0024\nExp: 279.462\nOfficial: 533.0"
         ],
         "type": "scatter",
         "x": [
          361.594,
          498.404,
          575.8870000000001,
          617.133,
          569.296,
          485.538,
          395.72700000000003,
          593.648,
          651.512,
          348.405,
          626.567,
          661.458,
          948.89,
          793.321,
          811.538
         ],
         "y": [
          258,
          382,
          463,
          347,
          441,
          316,
          355,
          479,
          523,
          240,
          507,
          461,
          691,
          677,
          558
         ]
        },
        {
         "mode": "markers",
         "name": "Turnout 5",
         "text": [
          "05-026-0068\nExp: 95.136\nOfficial: 123.0",
          "05-026-0087\nExp: 267.57\nOfficial: 236.0",
          "05-027-0001\nExp: 383.517\nOfficial: 245.0",
          "05-027-0018\nExp: 175.40699999999998\nOfficial: 600.0",
          "05-027-0023\nExp: 398.382\nOfficial: 490.0",
          "05-029-0018\nExp: 202.164\nOfficial: 154.0",
          "05-029-0025\nExp: 160.542\nOfficial: 225.0",
          "05-029-0034\nExp: 710.5469999999999\nOfficial: 509.0",
          "05-034-0014\nExp: 41.622\nOfficial: 108.0",
          "05-034-0019\nExp: 154.596\nOfficial: 218.0",
          "05-036-0039\nExp: 365.679\nOfficial: 351.0",
          "05-036-0044\nExp: 338.92199999999997\nOfficial: 208.0",
          "05-037-0016\nExp: 300.27299999999997\nOfficial: 542.0",
          "05-038-0014\nExp: 234.867\nOfficial: 250.0",
          "05-038-0032\nExp: 398.382\nOfficial: 247.0",
          "05-039-0005\nExp: 743.25\nOfficial: 752.0",
          "05-039-0007\nExp: 885.954\nOfficial: 499.0",
          "05-039-0009\nExp: 639.1949999999999\nOfficial: 495.0",
          "05-039-0010\nExp: 737.304\nOfficial: 397.0",
          "05-039-0011\nExp: 550.005\nOfficial: 640.0",
          "05-039-0012\nExp: 591.627\nOfficial: 564.0",
          "05-039-0028\nExp: 59.459999999999994\nOfficial: 97.0",
          "05-040-0063\nExp: 496.491\nOfficial: 760.0",
          "05-041-0011\nExp: 392.436\nOfficial: 192.0",
          "05-041-0012\nExp: 294.327\nOfficial: 434.0",
          "05-041-0022\nExp: 627.303\nOfficial: 601.0",
          "05-041-0026\nExp: 166.488\nOfficial: 79.0",
          "05-041-0028\nExp: 487.572\nOfficial: 669.0",
          "05-041-0030\nExp: 511.356\nOfficial: 534.0",
          "05-041-0032\nExp: 612.438\nOfficial: 399.0",
          "05-042-0041\nExp: 276.489\nOfficial: 580.0",
          "05-042-0050\nExp: 178.38\nOfficial: 300.0",
          "05-042-0056\nExp: 41.622\nOfficial: 117.0",
          "05-042-0062\nExp: 169.46099999999998\nOfficial: 231.0",
          "05-043-0005\nExp: 460.815\nOfficial: 514.0",
          "05-044-0010\nExp: 258.651\nOfficial: 492.0",
          "05-044-0025\nExp: 175.40699999999998\nOfficial: 318.0",
          "05-045-0010\nExp: 95.136\nOfficial: 91.0",
          "05-045-0012\nExp: 89.19\nOfficial: 172.0",
          "05-045-0014\nExp: 440.00399999999996\nOfficial: 477.0",
          "05-045-0018\nExp: 98.109\nOfficial: 233.0",
          "05-046-0022\nExp: 618.384\nOfficial: 787.0",
          "05-141-0030\nExp: 651.087\nOfficial: 619.0",
          "05-141-0031\nExp: 425.13899999999995\nOfficial: 351.0",
          "05-141-0032\nExp: 603.519\nOfficial: 399.0",
          "05-141-0033\nExp: 410.274\nOfficial: 351.0",
          "05-141-0058\nExp: 615.411\nOfficial: 655.0",
          "05-141-0060\nExp: 713.52\nOfficial: 547.0",
          "05-141-0061\nExp: 440.00399999999996\nOfficial: 559.0",
          "05-141-0062\nExp: 1272.444\nOfficial: 1052.0",
          "05-141-0070\nExp: 1004.8739999999999\nOfficial: 983.0",
          "05-141-0071\nExp: 683.79\nOfficial: 554.0",
          "05-141-0080\nExp: 814.602\nOfficial: 582.0",
          "05-141-0081\nExp: 963.252\nOfficial: 964.0",
          "05-141-0082\nExp: 677.8439999999999\nOfficial: 328.0",
          "05-141-0083\nExp: 208.10999999999999\nOfficial: 208.0",
          "05-141-0102\nExp: 237.83999999999997\nOfficial: 185.0",
          "05-141-0103\nExp: 211.083\nOfficial: 265.0",
          "05-141-0108\nExp: 552.978\nOfficial: 338.0"
         ],
         "type": "scatter",
         "x": [
          300.86400000000003,
          686.4300000000001,
          442.483,
          900.5930000000001,
          948.6179999999999,
          186.836,
          405.45799999999997,
          881.4530000000001,
          351.378,
          240.404,
          696.321,
          212.07800000000003,
          859.7270000000001,
          847.133,
          866.6179999999999,
          734.75,
          377.04600000000005,
          412.80500000000006,
          284.696,
          356.995,
          1340.373,
          220.54000000000002,
          961.509,
          643.5640000000001,
          707.673,
          562.697,
          185.512,
          895.428,
          301.644,
          658.562,
          648.511,
          429.62,
          354.378,
          521.539,
          1124.185,
          745.3489999999999,
          485.593,
          465.86400000000003,
          206.81,
          610.9960000000001,
          526.891,
          839.616,
          729.913,
          166.86100000000005,
          782.481,
          441.726,
          638.589,
          512.48,
          670.9960000000001,
          398.55600000000004,
          300.1260000000001,
          610.21,
          47.398000000000025,
          432.74800000000005,
          171.15600000000006,
          605.89,
          384.16,
          307.91700000000003,
          605.022
         ],
         "y": [
          273,
          718,
          581,
          476,
          857,
          235,
          341,
          1083,
          285,
          177,
          711,
          343,
          618,
          832,
          1018,
          726,
          764,
          557,
          625,
          267,
          1368,
          183,
          698,
          844,
          568,
          589,
          273,
          714,
          279,
          872,
          345,
          308,
          279,
          460,
          1071,
          512,
          343,
          470,
          124,
          574,
          392,
          671,
          762,
          241,
          987,
          501,
          599,
          679,
          552,
          619,
          322,
          740,
          280,
          432,
          521,
          606,
          437,
          254,
          820
         ]
        },
        {
         "mode": "markers",
         "name": "Turnout 6",
         "text": [
          "06-121-0006\nExp: 181.35299999999998\nOfficial: 233.0",
          "06-135-0020\nExp: 258.651\nOfficial: 224.0",
          "06-135-0025\nExp: 552.978\nOfficial: 384.0",
          "06-146-0008\nExp: 154.596\nOfficial: 322.0",
          "06-146-0024\nExp: 365.679\nOfficial: 384.0"
         ],
         "type": "scatter",
         "x": [
          1227.647,
          538.3489999999999,
          922.022,
          454.404,
          739.321
         ],
         "y": [
          1176,
          573,
          1091,
          287,
          721
         ]
        },
        {
         "mode": "markers",
         "name": "Turnout 7",
         "text": [],
         "type": "scatter",
         "x": [],
         "y": []
        },
        {
         "mode": "markers",
         "name": "Turnout 8",
         "text": [],
         "type": "scatter",
         "x": [],
         "y": []
        },
        {
         "mode": "lines",
         "name": "Expected",
         "type": "scatter",
         "x": [
          708.7270000000001,
          651.621,
          896.836,
          1005.754,
          447.405,
          776.781,
          571.351,
          311.51300000000003,
          371.323,
          341.729,
          385.972,
          652.592,
          1097.972,
          917.107,
          420.729,
          1738.266,
          733.837,
          939.807,
          407.999,
          665.999,
          425.432,
          524.62,
          248.216,
          767.348,
          776.943,
          356.945,
          435.86400000000003,
          1137.78,
          354.783,
          372.945,
          822.673,
          615.483,
          661.621,
          258.486,
          349.999,
          181.054,
          717.215,
          486.621,
          434.539,
          372.269,
          630.592,
          581.107,
          381.756,
          1262.319,
          227.162,
          466.729,
          377.432,
          291.378,
          361.404,
          361.594,
          498.404,
          575.8870000000001,
          617.133,
          569.296,
          485.538,
          395.72700000000003,
          593.648,
          651.512,
          348.405,
          626.567,
          661.458,
          948.89,
          793.321,
          811.538,
          300.86400000000003,
          686.4300000000001,
          442.483,
          900.5930000000001,
          948.6179999999999,
          186.836,
          405.45799999999997,
          881.4530000000001,
          351.378,
          240.404,
          696.321,
          212.07800000000003,
          859.7270000000001,
          847.133,
          866.6179999999999,
          734.75,
          377.04600000000005,
          412.80500000000006,
          284.696,
          356.995,
          1340.373,
          220.54000000000002,
          961.509,
          643.5640000000001,
          707.673,
          562.697,
          185.512,
          895.428,
          301.644,
          658.562,
          648.511,
          429.62,
          354.378,
          521.539,
          1124.185,
          745.3489999999999,
          485.593,
          465.86400000000003,
          206.81,
          610.9960000000001,
          526.891,
          839.616,
          729.913,
          166.86100000000005,
          782.481,
          441.726,
          638.589,
          512.48,
          670.9960000000001,
          398.55600000000004,
          300.1260000000001,
          610.21,
          47.398000000000025,
          432.74800000000005,
          171.15600000000006,
          605.89,
          384.16,
          307.91700000000003,
          605.022,
          1227.647,
          538.3489999999999,
          922.022,
          454.404,
          739.321
         ],
         "y": [
          708.7270000000001,
          651.621,
          896.836,
          1005.754,
          447.405,
          776.781,
          571.351,
          311.51300000000003,
          371.323,
          341.729,
          385.972,
          652.592,
          1097.972,
          917.107,
          420.729,
          1738.266,
          733.837,
          939.807,
          407.999,
          665.999,
          425.432,
          524.62,
          248.216,
          767.348,
          776.943,
          356.945,
          435.86400000000003,
          1137.78,
          354.783,
          372.945,
          822.673,
          615.483,
          661.621,
          258.486,
          349.999,
          181.054,
          717.215,
          486.621,
          434.539,
          372.269,
          630.592,
          581.107,
          381.756,
          1262.319,
          227.162,
          466.729,
          377.432,
          291.378,
          361.404,
          361.594,
          498.404,
          575.8870000000001,
          617.133,
          569.296,
          485.538,
          395.72700000000003,
          593.648,
          651.512,
          348.405,
          626.567,
          661.458,
          948.89,
          793.321,
          811.538,
          300.86400000000003,
          686.4300000000001,
          442.483,
          900.5930000000001,
          948.6179999999999,
          186.836,
          405.45799999999997,
          881.4530000000001,
          351.378,
          240.404,
          696.321,
          212.07800000000003,
          859.7270000000001,
          847.133,
          866.6179999999999,
          734.75,
          377.04600000000005,
          412.80500000000006,
          284.696,
          356.995,
          1340.373,
          220.54000000000002,
          961.509,
          643.5640000000001,
          707.673,
          562.697,
          185.512,
          895.428,
          301.644,
          658.562,
          648.511,
          429.62,
          354.378,
          521.539,
          1124.185,
          745.3489999999999,
          485.593,
          465.86400000000003,
          206.81,
          610.9960000000001,
          526.891,
          839.616,
          729.913,
          166.86100000000005,
          782.481,
          441.726,
          638.589,
          512.48,
          670.9960000000001,
          398.55600000000004,
          300.1260000000001,
          610.21,
          47.398000000000025,
          432.74800000000005,
          171.15600000000006,
          605.89,
          384.16,
          307.91700000000003,
          605.022,
          1227.647,
          538.3489999999999,
          922.022,
          454.404,
          739.321
         ]
        }
       ],
       "layout": {
        "template": {
         "data": {
          "bar": [
           {
            "error_x": {
             "color": "#2a3f5f"
            },
            "error_y": {
             "color": "#2a3f5f"
            },
            "marker": {
             "line": {
              "color": "#E5ECF6",
              "width": 0.5
             }
            },
            "type": "bar"
           }
          ],
          "barpolar": [
           {
            "marker": {
             "line": {
              "color": "#E5ECF6",
              "width": 0.5
             }
            },
            "type": "barpolar"
           }
          ],
          "carpet": [
           {
            "aaxis": {
             "endlinecolor": "#2a3f5f",
             "gridcolor": "white",
             "linecolor": "white",
             "minorgridcolor": "white",
             "startlinecolor": "#2a3f5f"
            },
            "baxis": {
             "endlinecolor": "#2a3f5f",
             "gridcolor": "white",
             "linecolor": "white",
             "minorgridcolor": "white",
             "startlinecolor": "#2a3f5f"
            },
            "type": "carpet"
           }
          ],
          "choropleth": [
           {
            "colorbar": {
             "outlinewidth": 0,
             "ticks": ""
            },
            "type": "choropleth"
           }
          ],
          "contour": [
           {
            "colorbar": {
             "outlinewidth": 0,
             "ticks": ""
            },
            "colorscale": [
             [
              0,
              "#0d0887"
             ],
             [
              0.1111111111111111,
              "#46039f"
             ],
             [
              0.2222222222222222,
              "#7201a8"
             ],
             [
              0.3333333333333333,
              "#9c179e"
             ],
             [
              0.4444444444444444,
              "#bd3786"
             ],
             [
              0.5555555555555556,
              "#d8576b"
             ],
             [
              0.6666666666666666,
              "#ed7953"
             ],
             [
              0.7777777777777778,
              "#fb9f3a"
             ],
             [
              0.8888888888888888,
              "#fdca26"
             ],
             [
              1,
              "#f0f921"
             ]
            ],
            "type": "contour"
           }
          ],
          "contourcarpet": [
           {
            "colorbar": {
             "outlinewidth": 0,
             "ticks": ""
            },
            "type": "contourcarpet"
           }
          ],
          "heatmap": [
           {
            "colorbar": {
             "outlinewidth": 0,
             "ticks": ""
            },
            "colorscale": [
             [
              0,
              "#0d0887"
             ],
             [
              0.1111111111111111,
              "#46039f"
             ],
             [
              0.2222222222222222,
              "#7201a8"
             ],
             [
              0.3333333333333333,
              "#9c179e"
             ],
             [
              0.4444444444444444,
              "#bd3786"
             ],
             [
              0.5555555555555556,
              "#d8576b"
             ],
             [
              0.6666666666666666,
              "#ed7953"
             ],
             [
              0.7777777777777778,
              "#fb9f3a"
             ],
             [
              0.8888888888888888,
              "#fdca26"
             ],
             [
              1,
              "#f0f921"
             ]
            ],
            "type": "heatmap"
           }
          ],
          "heatmapgl": [
           {
            "colorbar": {
             "outlinewidth": 0,
             "ticks": ""
            },
            "colorscale": [
             [
              0,
              "#0d0887"
             ],
             [
              0.1111111111111111,
              "#46039f"
             ],
             [
              0.2222222222222222,
              "#7201a8"
             ],
             [
              0.3333333333333333,
              "#9c179e"
             ],
             [
              0.4444444444444444,
              "#bd3786"
             ],
             [
              0.5555555555555556,
              "#d8576b"
             ],
             [
              0.6666666666666666,
              "#ed7953"
             ],
             [
              0.7777777777777778,
              "#fb9f3a"
             ],
             [
              0.8888888888888888,
              "#fdca26"
             ],
             [
              1,
              "#f0f921"
             ]
            ],
            "type": "heatmapgl"
           }
          ],
          "histogram": [
           {
            "marker": {
             "colorbar": {
              "outlinewidth": 0,
              "ticks": ""
             }
            },
            "type": "histogram"
           }
          ],
          "histogram2d": [
           {
            "colorbar": {
             "outlinewidth": 0,
             "ticks": ""
            },
            "colorscale": [
             [
              0,
              "#0d0887"
             ],
             [
              0.1111111111111111,
              "#46039f"
             ],
             [
              0.2222222222222222,
              "#7201a8"
             ],
             [
              0.3333333333333333,
              "#9c179e"
             ],
             [
              0.4444444444444444,
              "#bd3786"
             ],
             [
              0.5555555555555556,
              "#d8576b"
             ],
             [
              0.6666666666666666,
              "#ed7953"
             ],
             [
              0.7777777777777778,
              "#fb9f3a"
             ],
             [
              0.8888888888888888,
              "#fdca26"
             ],
             [
              1,
              "#f0f921"
             ]
            ],
            "type": "histogram2d"
           }
          ],
          "histogram2dcontour": [
           {
            "colorbar": {
             "outlinewidth": 0,
             "ticks": ""
            },
            "colorscale": [
             [
              0,
              "#0d0887"
             ],
             [
              0.1111111111111111,
              "#46039f"
             ],
             [
              0.2222222222222222,
              "#7201a8"
             ],
             [
              0.3333333333333333,
              "#9c179e"
             ],
             [
              0.4444444444444444,
              "#bd3786"
             ],
             [
              0.5555555555555556,
              "#d8576b"
             ],
             [
              0.6666666666666666,
              "#ed7953"
             ],
             [
              0.7777777777777778,
              "#fb9f3a"
             ],
             [
              0.8888888888888888,
              "#fdca26"
             ],
             [
              1,
              "#f0f921"
             ]
            ],
            "type": "histogram2dcontour"
           }
          ],
          "mesh3d": [
           {
            "colorbar": {
             "outlinewidth": 0,
             "ticks": ""
            },
            "type": "mesh3d"
           }
          ],
          "parcoords": [
           {
            "line": {
             "colorbar": {
              "outlinewidth": 0,
              "ticks": ""
             }
            },
            "type": "parcoords"
           }
          ],
          "pie": [
           {
            "automargin": true,
            "type": "pie"
           }
          ],
          "scatter": [
           {
            "marker": {
             "colorbar": {
              "outlinewidth": 0,
              "ticks": ""
             }
            },
            "type": "scatter"
           }
          ],
          "scatter3d": [
           {
            "line": {
             "colorbar": {
              "outlinewidth": 0,
              "ticks": ""
             }
            },
            "marker": {
             "colorbar": {
              "outlinewidth": 0,
              "ticks": ""
             }
            },
            "type": "scatter3d"
           }
          ],
          "scattercarpet": [
           {
            "marker": {
             "colorbar": {
              "outlinewidth": 0,
              "ticks": ""
             }
            },
            "type": "scattercarpet"
           }
          ],
          "scattergeo": [
           {
            "marker": {
             "colorbar": {
              "outlinewidth": 0,
              "ticks": ""
             }
            },
            "type": "scattergeo"
           }
          ],
          "scattergl": [
           {
            "marker": {
             "colorbar": {
              "outlinewidth": 0,
              "ticks": ""
             }
            },
            "type": "scattergl"
           }
          ],
          "scattermapbox": [
           {
            "marker": {
             "colorbar": {
              "outlinewidth": 0,
              "ticks": ""
             }
            },
            "type": "scattermapbox"
           }
          ],
          "scatterpolar": [
           {
            "marker": {
             "colorbar": {
              "outlinewidth": 0,
              "ticks": ""
             }
            },
            "type": "scatterpolar"
           }
          ],
          "scatterpolargl": [
           {
            "marker": {
             "colorbar": {
              "outlinewidth": 0,
              "ticks": ""
             }
            },
            "type": "scatterpolargl"
           }
          ],
          "scatterternary": [
           {
            "marker": {
             "colorbar": {
              "outlinewidth": 0,
              "ticks": ""
             }
            },
            "type": "scatterternary"
           }
          ],
          "surface": [
           {
            "colorbar": {
             "outlinewidth": 0,
             "ticks": ""
            },
            "colorscale": [
             [
              0,
              "#0d0887"
             ],
             [
              0.1111111111111111,
              "#46039f"
             ],
             [
              0.2222222222222222,
              "#7201a8"
             ],
             [
              0.3333333333333333,
              "#9c179e"
             ],
             [
              0.4444444444444444,
              "#bd3786"
             ],
             [
              0.5555555555555556,
              "#d8576b"
             ],
             [
              0.6666666666666666,
              "#ed7953"
             ],
             [
              0.7777777777777778,
              "#fb9f3a"
             ],
             [
              0.8888888888888888,
              "#fdca26"
             ],
             [
              1,
              "#f0f921"
             ]
            ],
            "type": "surface"
           }
          ],
          "table": [
           {
            "cells": {
             "fill": {
              "color": "#EBF0F8"
             },
             "line": {
              "color": "white"
             }
            },
            "header": {
             "fill": {
              "color": "#C8D4E3"
             },
             "line": {
              "color": "white"
             }
            },
            "type": "table"
           }
          ]
         },
         "layout": {
          "annotationdefaults": {
           "arrowcolor": "#2a3f5f",
           "arrowhead": 0,
           "arrowwidth": 1
          },
          "coloraxis": {
           "colorbar": {
            "outlinewidth": 0,
            "ticks": ""
           }
          },
          "colorscale": {
           "diverging": [
            [
             0,
             "#8e0152"
            ],
            [
             0.1,
             "#c51b7d"
            ],
            [
             0.2,
             "#de77ae"
            ],
            [
             0.3,
             "#f1b6da"
            ],
            [
             0.4,
             "#fde0ef"
            ],
            [
             0.5,
             "#f7f7f7"
            ],
            [
             0.6,
             "#e6f5d0"
            ],
            [
             0.7,
             "#b8e186"
            ],
            [
             0.8,
             "#7fbc41"
            ],
            [
             0.9,
             "#4d9221"
            ],
            [
             1,
             "#276419"
            ]
           ],
           "sequential": [
            [
             0,
             "#0d0887"
            ],
            [
             0.1111111111111111,
             "#46039f"
            ],
            [
             0.2222222222222222,
             "#7201a8"
            ],
            [
             0.3333333333333333,
             "#9c179e"
            ],
            [
             0.4444444444444444,
             "#bd3786"
            ],
            [
             0.5555555555555556,
             "#d8576b"
            ],
            [
             0.6666666666666666,
             "#ed7953"
            ],
            [
             0.7777777777777778,
             "#fb9f3a"
            ],
            [
             0.8888888888888888,
             "#fdca26"
            ],
            [
             1,
             "#f0f921"
            ]
           ],
           "sequentialminus": [
            [
             0,
             "#0d0887"
            ],
            [
             0.1111111111111111,
             "#46039f"
            ],
            [
             0.2222222222222222,
             "#7201a8"
            ],
            [
             0.3333333333333333,
             "#9c179e"
            ],
            [
             0.4444444444444444,
             "#bd3786"
            ],
            [
             0.5555555555555556,
             "#d8576b"
            ],
            [
             0.6666666666666666,
             "#ed7953"
            ],
            [
             0.7777777777777778,
             "#fb9f3a"
            ],
            [
             0.8888888888888888,
             "#fdca26"
            ],
            [
             1,
             "#f0f921"
            ]
           ]
          },
          "colorway": [
           "#636efa",
           "#EF553B",
           "#00cc96",
           "#ab63fa",
           "#FFA15A",
           "#19d3f3",
           "#FF6692",
           "#B6E880",
           "#FF97FF",
           "#FECB52"
          ],
          "font": {
           "color": "#2a3f5f"
          },
          "geo": {
           "bgcolor": "white",
           "lakecolor": "white",
           "landcolor": "#E5ECF6",
           "showlakes": true,
           "showland": true,
           "subunitcolor": "white"
          },
          "hoverlabel": {
           "align": "left"
          },
          "hovermode": "closest",
          "mapbox": {
           "style": "light"
          },
          "paper_bgcolor": "white",
          "plot_bgcolor": "#E5ECF6",
          "polar": {
           "angularaxis": {
            "gridcolor": "white",
            "linecolor": "white",
            "ticks": ""
           },
           "bgcolor": "#E5ECF6",
           "radialaxis": {
            "gridcolor": "white",
            "linecolor": "white",
            "ticks": ""
           }
          },
          "scene": {
           "xaxis": {
            "backgroundcolor": "#E5ECF6",
            "gridcolor": "white",
            "gridwidth": 2,
            "linecolor": "white",
            "showbackground": true,
            "ticks": "",
            "zerolinecolor": "white"
           },
           "yaxis": {
            "backgroundcolor": "#E5ECF6",
            "gridcolor": "white",
            "gridwidth": 2,
            "linecolor": "white",
            "showbackground": true,
            "ticks": "",
            "zerolinecolor": "white"
           },
           "zaxis": {
            "backgroundcolor": "#E5ECF6",
            "gridcolor": "white",
            "gridwidth": 2,
            "linecolor": "white",
            "showbackground": true,
            "ticks": "",
            "zerolinecolor": "white"
           }
          },
          "shapedefaults": {
           "line": {
            "color": "#2a3f5f"
           }
          },
          "ternary": {
           "aaxis": {
            "gridcolor": "white",
            "linecolor": "white",
            "ticks": ""
           },
           "baxis": {
            "gridcolor": "white",
            "linecolor": "white",
            "ticks": ""
           },
           "bgcolor": "#E5ECF6",
           "caxis": {
            "gridcolor": "white",
            "linecolor": "white",
            "ticks": ""
           }
          },
          "title": {
           "x": 0.05
          },
          "xaxis": {
           "automargin": true,
           "gridcolor": "white",
           "linecolor": "white",
           "ticks": "",
           "title": {
            "standoff": 15
           },
           "zerolinecolor": "white",
           "zerolinewidth": 2
          },
          "yaxis": {
           "automargin": true,
           "gridcolor": "white",
           "linecolor": "white",
           "ticks": "",
           "title": {
            "standoff": 15
           },
           "zerolinecolor": "white",
           "zerolinewidth": 2
          }
         }
        },
        "title": {
         "text": "Expected vs Official (village)"
        },
        "xaxis": {
         "title": {
          "text": "Expected"
         }
        },
        "yaxis": {
         "title": {
          "text": "Official"
         }
        }
       }
      },
      "text/html": [
       "<div>\n",
       "        \n",
       "        \n",
       "            <div id=\"4bf7350e-f4a3-4d5b-9d6d-5e572966ffb2\" class=\"plotly-graph-div\" style=\"height:525px; width:100%;\"></div>\n",
       "            <script type=\"text/javascript\">\n",
       "                require([\"plotly\"], function(Plotly) {\n",
       "                    window.PLOTLYENV=window.PLOTLYENV || {};\n",
       "                    \n",
       "                if (document.getElementById(\"4bf7350e-f4a3-4d5b-9d6d-5e572966ffb2\")) {\n",
       "                    Plotly.newPlot(\n",
       "                        '4bf7350e-f4a3-4d5b-9d6d-5e572966ffb2',\n",
       "                        [{\"mode\": \"markers\", \"name\": \"Turnout 1\", \"text\": [\"01-049-0030\\nExp: 300.27299999999997\\nOfficial: 567.0\", \"01-050-0011\\nExp: 68.37899999999999\\nOfficial: 225.0\", \"01-053-0021\\nExp: 202.164\\nOfficial: 595.0\", \"01-054-0010\\nExp: 303.246\\nOfficial: 395.0\", \"01-054-0026\\nExp: 44.595\\nOfficial: 162.0\", \"01-054-0043\\nExp: 306.219\\nOfficial: 436.0\", \"01-055-0010\\nExp: 38.649\\nOfficial: 221.0\", \"01-055-0017\\nExp: 56.486999999999995\\nOfficial: 174.0\", \"01-056-0021\\nExp: 145.677\\nOfficial: 277.0\", \"01-056-0024\\nExp: 80.271\\nOfficial: 181.0\", \"01-056-0043\\nExp: 107.02799999999999\\nOfficial: 157.0\", \"01-056-0048\\nExp: 285.408\\nOfficial: 435.0\", \"01-057-0025\\nExp: 107.02799999999999\\nOfficial: 420.0\", \"01-057-0037\\nExp: 121.893\\nOfficial: 241.0\", \"01-058-0008\\nExp: 80.271\\nOfficial: 184.0\", \"01-063-0015\\nExp: 469.734\\nOfficial: 613.0\", \"01-063-0049\\nExp: 92.163\\nOfficial: 243.0\", \"01-142-0002\\nExp: 419.193\\nOfficial: 838.0\"], \"type\": \"scatter\", \"x\": [708.7270000000001, 651.621, 896.836, 1005.754, 447.405, 776.781, 571.351, 311.51300000000003, 371.323, 341.729, 385.972, 652.592, 1097.972, 917.107, 420.729, 1738.266, 733.837, 939.807], \"y\": [442.0, 495.0, 504.0, 914.0, 330.0, 647.0, 389.0, 194.0, 240.0, 241.0, 336.0, 503.0, 785.0, 798.0, 317.0, 1595.0, 583.0, 521.0]}, {\"mode\": \"markers\", \"name\": \"Turnout 2\", \"text\": [\"02-065-0015\\nExp: 110.00099999999999\\nOfficial: 271.0\", \"02-066-0013\\nExp: 110.00099999999999\\nOfficial: 178.0\", \"02-067-0010\\nExp: 47.568\\nOfficial: 168.0\", \"02-067-0015\\nExp: 178.38\\nOfficial: 175.0\", \"02-068-0013\\nExp: 23.784\\nOfficial: 36.0\", \"02-069-0005\\nExp: 368.652\\nOfficial: 555.0\", \"02-069-0006\\nExp: 324.05699999999996\\nOfficial: 581.0\", \"02-071-0015\\nExp: 104.05499999999999\\nOfficial: 78.0\", \"02-072-0011\\nExp: 95.136\\nOfficial: 233.0\", \"02-075-0075\\nExp: 416.21999999999997\\nOfficial: 256.0\", \"02-076-0039\\nExp: 86.217\\nOfficial: 72.0\", \"02-076-0040\\nExp: 104.05499999999999\\nOfficial: 78.0\", \"02-077-0016\\nExp: 294.327\\nOfficial: 493.0\", \"02-077-0019\\nExp: 383.517\\nOfficial: 610.0\", \"02-078-0008\\nExp: 68.37899999999999\\nOfficial: 67.0\", \"02-143-0008\\nExp: 53.513999999999996\\nOfficial: 80.0\", \"02-143-0009\\nExp: 110.00099999999999\\nOfficial: 119.0\"], \"type\": \"scatter\", \"x\": [407.999, 665.999, 425.432, 524.62, 248.216, 767.348, 776.943, 356.945, 435.86400000000003, 1137.78, 354.783, 372.945, 822.673, 615.483, 661.621, 258.486, 349.999], \"y\": [247.0, 598.0, 305.0, 528.0, 236.0, 581.0, 520.0, 383.0, 298.0, 1298.0, 369.0, 399.0, 624.0, 389.0, 663.0, 232.0, 341.0]}, {\"mode\": \"markers\", \"name\": \"Turnout 3\", \"text\": [\"03-085-0009\\nExp: 5.946\\nOfficial: 14.0\", \"03-087-0009\\nExp: 133.785\\nOfficial: 88.0\", \"03-088-0027\\nExp: 68.37899999999999\\nOfficial: 144.0\", \"03-091-0036\\nExp: 169.46099999999998\\nOfficial: 317.0\", \"03-091-0043\\nExp: 139.731\\nOfficial: 229.0\", \"03-091-0046\\nExp: 285.408\\nOfficial: 446.0\", \"03-091-0047\\nExp: 121.893\\nOfficial: 303.0\", \"03-091-0048\\nExp: 83.244\\nOfficial: 203.0\", \"03-096-0058\\nExp: 585.6809999999999\\nOfficial: 664.0\", \"03-100-0045\\nExp: 17.838\\nOfficial: 49.0\", \"03-100-0057\\nExp: 80.271\\nOfficial: 253.0\", \"03-101-0029\\nExp: 47.568\\nOfficial: 142.0\", \"03-101-0036\\nExp: 41.622\\nOfficial: 169.0\", \"03-101-0037\\nExp: 154.596\\nOfficial: 315.0\"], \"type\": \"scatter\", \"x\": [181.054, 717.215, 486.621, 434.539, 372.269, 630.592, 581.107, 381.756, 1262.319, 227.162, 466.729, 377.432, 291.378, 361.404], \"y\": [173.0, 763.0, 411.0, 287.0, 283.0, 470.0, 400.0, 262.0, 1184.0, 196.0, 294.0, 283.0, 164.0, 201.0]}, {\"mode\": \"markers\", \"name\": \"Turnout 4\", \"text\": [\"04-105-0011\\nExp: 65.40599999999999\\nOfficial: 169.0\", \"04-110-0013\\nExp: 154.596\\nOfficial: 271.0\", \"04-112-0054\\nExp: 538.1129999999999\\nOfficial: 651.0\", \"04-112-0055\\nExp: 234.867\\nOfficial: 505.0\", \"04-112-0059\\nExp: 142.704\\nOfficial: 271.0\", \"04-112-0064\\nExp: 279.462\\nOfficial: 449.0\", \"04-112-0065\\nExp: 300.27299999999997\\nOfficial: 341.0\", \"04-114-0018\\nExp: 71.352\\nOfficial: 186.0\", \"04-114-0028\\nExp: 166.488\\nOfficial: 295.0\", \"04-117-0011\\nExp: 44.595\\nOfficial: 153.0\", \"04-117-0014\\nExp: 62.433\\nOfficial: 182.0\", \"04-119-0024\\nExp: 160.542\\nOfficial: 361.0\", \"04-119-0029\\nExp: 208.10999999999999\\nOfficial: 466.0\", \"04-145-0023\\nExp: 365.679\\nOfficial: 482.0\", \"04-145-0024\\nExp: 279.462\\nOfficial: 533.0\"], \"type\": \"scatter\", \"x\": [361.594, 498.404, 575.8870000000001, 617.133, 569.296, 485.538, 395.72700000000003, 593.648, 651.512, 348.405, 626.567, 661.458, 948.89, 793.321, 811.538], \"y\": [258.0, 382.0, 463.0, 347.0, 441.0, 316.0, 355.0, 479.0, 523.0, 240.0, 507.0, 461.0, 691.0, 677.0, 558.0]}, {\"mode\": \"markers\", \"name\": \"Turnout 5\", \"text\": [\"05-026-0068\\nExp: 95.136\\nOfficial: 123.0\", \"05-026-0087\\nExp: 267.57\\nOfficial: 236.0\", \"05-027-0001\\nExp: 383.517\\nOfficial: 245.0\", \"05-027-0018\\nExp: 175.40699999999998\\nOfficial: 600.0\", \"05-027-0023\\nExp: 398.382\\nOfficial: 490.0\", \"05-029-0018\\nExp: 202.164\\nOfficial: 154.0\", \"05-029-0025\\nExp: 160.542\\nOfficial: 225.0\", \"05-029-0034\\nExp: 710.5469999999999\\nOfficial: 509.0\", \"05-034-0014\\nExp: 41.622\\nOfficial: 108.0\", \"05-034-0019\\nExp: 154.596\\nOfficial: 218.0\", \"05-036-0039\\nExp: 365.679\\nOfficial: 351.0\", \"05-036-0044\\nExp: 338.92199999999997\\nOfficial: 208.0\", \"05-037-0016\\nExp: 300.27299999999997\\nOfficial: 542.0\", \"05-038-0014\\nExp: 234.867\\nOfficial: 250.0\", \"05-038-0032\\nExp: 398.382\\nOfficial: 247.0\", \"05-039-0005\\nExp: 743.25\\nOfficial: 752.0\", \"05-039-0007\\nExp: 885.954\\nOfficial: 499.0\", \"05-039-0009\\nExp: 639.1949999999999\\nOfficial: 495.0\", \"05-039-0010\\nExp: 737.304\\nOfficial: 397.0\", \"05-039-0011\\nExp: 550.005\\nOfficial: 640.0\", \"05-039-0012\\nExp: 591.627\\nOfficial: 564.0\", \"05-039-0028\\nExp: 59.459999999999994\\nOfficial: 97.0\", \"05-040-0063\\nExp: 496.491\\nOfficial: 760.0\", \"05-041-0011\\nExp: 392.436\\nOfficial: 192.0\", \"05-041-0012\\nExp: 294.327\\nOfficial: 434.0\", \"05-041-0022\\nExp: 627.303\\nOfficial: 601.0\", \"05-041-0026\\nExp: 166.488\\nOfficial: 79.0\", \"05-041-0028\\nExp: 487.572\\nOfficial: 669.0\", \"05-041-0030\\nExp: 511.356\\nOfficial: 534.0\", \"05-041-0032\\nExp: 612.438\\nOfficial: 399.0\", \"05-042-0041\\nExp: 276.489\\nOfficial: 580.0\", \"05-042-0050\\nExp: 178.38\\nOfficial: 300.0\", \"05-042-0056\\nExp: 41.622\\nOfficial: 117.0\", \"05-042-0062\\nExp: 169.46099999999998\\nOfficial: 231.0\", \"05-043-0005\\nExp: 460.815\\nOfficial: 514.0\", \"05-044-0010\\nExp: 258.651\\nOfficial: 492.0\", \"05-044-0025\\nExp: 175.40699999999998\\nOfficial: 318.0\", \"05-045-0010\\nExp: 95.136\\nOfficial: 91.0\", \"05-045-0012\\nExp: 89.19\\nOfficial: 172.0\", \"05-045-0014\\nExp: 440.00399999999996\\nOfficial: 477.0\", \"05-045-0018\\nExp: 98.109\\nOfficial: 233.0\", \"05-046-0022\\nExp: 618.384\\nOfficial: 787.0\", \"05-141-0030\\nExp: 651.087\\nOfficial: 619.0\", \"05-141-0031\\nExp: 425.13899999999995\\nOfficial: 351.0\", \"05-141-0032\\nExp: 603.519\\nOfficial: 399.0\", \"05-141-0033\\nExp: 410.274\\nOfficial: 351.0\", \"05-141-0058\\nExp: 615.411\\nOfficial: 655.0\", \"05-141-0060\\nExp: 713.52\\nOfficial: 547.0\", \"05-141-0061\\nExp: 440.00399999999996\\nOfficial: 559.0\", \"05-141-0062\\nExp: 1272.444\\nOfficial: 1052.0\", \"05-141-0070\\nExp: 1004.8739999999999\\nOfficial: 983.0\", \"05-141-0071\\nExp: 683.79\\nOfficial: 554.0\", \"05-141-0080\\nExp: 814.602\\nOfficial: 582.0\", \"05-141-0081\\nExp: 963.252\\nOfficial: 964.0\", \"05-141-0082\\nExp: 677.8439999999999\\nOfficial: 328.0\", \"05-141-0083\\nExp: 208.10999999999999\\nOfficial: 208.0\", \"05-141-0102\\nExp: 237.83999999999997\\nOfficial: 185.0\", \"05-141-0103\\nExp: 211.083\\nOfficial: 265.0\", \"05-141-0108\\nExp: 552.978\\nOfficial: 338.0\"], \"type\": \"scatter\", \"x\": [300.86400000000003, 686.4300000000001, 442.483, 900.5930000000001, 948.6179999999999, 186.836, 405.45799999999997, 881.4530000000001, 351.378, 240.404, 696.321, 212.07800000000003, 859.7270000000001, 847.133, 866.6179999999999, 734.75, 377.04600000000005, 412.80500000000006, 284.696, 356.995, 1340.373, 220.54000000000002, 961.509, 643.5640000000001, 707.673, 562.697, 185.512, 895.428, 301.644, 658.562, 648.511, 429.62, 354.378, 521.539, 1124.185, 745.3489999999999, 485.593, 465.86400000000003, 206.81, 610.9960000000001, 526.891, 839.616, 729.913, 166.86100000000005, 782.481, 441.726, 638.589, 512.48, 670.9960000000001, 398.55600000000004, 300.1260000000001, 610.21, 47.398000000000025, 432.74800000000005, 171.15600000000006, 605.89, 384.16, 307.91700000000003, 605.022], \"y\": [273.0, 718.0, 581.0, 476.0, 857.0, 235.0, 341.0, 1083.0, 285.0, 177.0, 711.0, 343.0, 618.0, 832.0, 1018.0, 726.0, 764.0, 557.0, 625.0, 267.0, 1368.0, 183.0, 698.0, 844.0, 568.0, 589.0, 273.0, 714.0, 279.0, 872.0, 345.0, 308.0, 279.0, 460.0, 1071.0, 512.0, 343.0, 470.0, 124.0, 574.0, 392.0, 671.0, 762.0, 241.0, 987.0, 501.0, 599.0, 679.0, 552.0, 619.0, 322.0, 740.0, 280.0, 432.0, 521.0, 606.0, 437.0, 254.0, 820.0]}, {\"mode\": \"markers\", \"name\": \"Turnout 6\", \"text\": [\"06-121-0006\\nExp: 181.35299999999998\\nOfficial: 233.0\", \"06-135-0020\\nExp: 258.651\\nOfficial: 224.0\", \"06-135-0025\\nExp: 552.978\\nOfficial: 384.0\", \"06-146-0008\\nExp: 154.596\\nOfficial: 322.0\", \"06-146-0024\\nExp: 365.679\\nOfficial: 384.0\"], \"type\": \"scatter\", \"x\": [1227.647, 538.3489999999999, 922.022, 454.404, 739.321], \"y\": [1176.0, 573.0, 1091.0, 287.0, 721.0]}, {\"mode\": \"markers\", \"name\": \"Turnout 7\", \"text\": [], \"type\": \"scatter\", \"x\": [], \"y\": []}, {\"mode\": \"markers\", \"name\": \"Turnout 8\", \"text\": [], \"type\": \"scatter\", \"x\": [], \"y\": []}, {\"mode\": \"lines\", \"name\": \"Expected\", \"type\": \"scatter\", \"x\": [708.7270000000001, 651.621, 896.836, 1005.754, 447.405, 776.781, 571.351, 311.51300000000003, 371.323, 341.729, 385.972, 652.592, 1097.972, 917.107, 420.729, 1738.266, 733.837, 939.807, 407.999, 665.999, 425.432, 524.62, 248.216, 767.348, 776.943, 356.945, 435.86400000000003, 1137.78, 354.783, 372.945, 822.673, 615.483, 661.621, 258.486, 349.999, 181.054, 717.215, 486.621, 434.539, 372.269, 630.592, 581.107, 381.756, 1262.319, 227.162, 466.729, 377.432, 291.378, 361.404, 361.594, 498.404, 575.8870000000001, 617.133, 569.296, 485.538, 395.72700000000003, 593.648, 651.512, 348.405, 626.567, 661.458, 948.89, 793.321, 811.538, 300.86400000000003, 686.4300000000001, 442.483, 900.5930000000001, 948.6179999999999, 186.836, 405.45799999999997, 881.4530000000001, 351.378, 240.404, 696.321, 212.07800000000003, 859.7270000000001, 847.133, 866.6179999999999, 734.75, 377.04600000000005, 412.80500000000006, 284.696, 356.995, 1340.373, 220.54000000000002, 961.509, 643.5640000000001, 707.673, 562.697, 185.512, 895.428, 301.644, 658.562, 648.511, 429.62, 354.378, 521.539, 1124.185, 745.3489999999999, 485.593, 465.86400000000003, 206.81, 610.9960000000001, 526.891, 839.616, 729.913, 166.86100000000005, 782.481, 441.726, 638.589, 512.48, 670.9960000000001, 398.55600000000004, 300.1260000000001, 610.21, 47.398000000000025, 432.74800000000005, 171.15600000000006, 605.89, 384.16, 307.91700000000003, 605.022, 1227.647, 538.3489999999999, 922.022, 454.404, 739.321], \"y\": [708.7270000000001, 651.621, 896.836, 1005.754, 447.405, 776.781, 571.351, 311.51300000000003, 371.323, 341.729, 385.972, 652.592, 1097.972, 917.107, 420.729, 1738.266, 733.837, 939.807, 407.999, 665.999, 425.432, 524.62, 248.216, 767.348, 776.943, 356.945, 435.86400000000003, 1137.78, 354.783, 372.945, 822.673, 615.483, 661.621, 258.486, 349.999, 181.054, 717.215, 486.621, 434.539, 372.269, 630.592, 581.107, 381.756, 1262.319, 227.162, 466.729, 377.432, 291.378, 361.404, 361.594, 498.404, 575.8870000000001, 617.133, 569.296, 485.538, 395.72700000000003, 593.648, 651.512, 348.405, 626.567, 661.458, 948.89, 793.321, 811.538, 300.86400000000003, 686.4300000000001, 442.483, 900.5930000000001, 948.6179999999999, 186.836, 405.45799999999997, 881.4530000000001, 351.378, 240.404, 696.321, 212.07800000000003, 859.7270000000001, 847.133, 866.6179999999999, 734.75, 377.04600000000005, 412.80500000000006, 284.696, 356.995, 1340.373, 220.54000000000002, 961.509, 643.5640000000001, 707.673, 562.697, 185.512, 895.428, 301.644, 658.562, 648.511, 429.62, 354.378, 521.539, 1124.185, 745.3489999999999, 485.593, 465.86400000000003, 206.81, 610.9960000000001, 526.891, 839.616, 729.913, 166.86100000000005, 782.481, 441.726, 638.589, 512.48, 670.9960000000001, 398.55600000000004, 300.1260000000001, 610.21, 47.398000000000025, 432.74800000000005, 171.15600000000006, 605.89, 384.16, 307.91700000000003, 605.022, 1227.647, 538.3489999999999, 922.022, 454.404, 739.321]}],\n",
       "                        {\"template\": {\"data\": {\"bar\": [{\"error_x\": {\"color\": \"#2a3f5f\"}, \"error_y\": {\"color\": \"#2a3f5f\"}, \"marker\": {\"line\": {\"color\": \"#E5ECF6\", \"width\": 0.5}}, \"type\": \"bar\"}], \"barpolar\": [{\"marker\": {\"line\": {\"color\": \"#E5ECF6\", \"width\": 0.5}}, \"type\": \"barpolar\"}], \"carpet\": [{\"aaxis\": {\"endlinecolor\": \"#2a3f5f\", \"gridcolor\": \"white\", \"linecolor\": \"white\", \"minorgridcolor\": \"white\", \"startlinecolor\": \"#2a3f5f\"}, \"baxis\": {\"endlinecolor\": \"#2a3f5f\", \"gridcolor\": \"white\", \"linecolor\": \"white\", \"minorgridcolor\": \"white\", \"startlinecolor\": \"#2a3f5f\"}, \"type\": \"carpet\"}], \"choropleth\": [{\"colorbar\": {\"outlinewidth\": 0, \"ticks\": \"\"}, \"type\": \"choropleth\"}], \"contour\": [{\"colorbar\": {\"outlinewidth\": 0, \"ticks\": \"\"}, \"colorscale\": [[0.0, \"#0d0887\"], [0.1111111111111111, \"#46039f\"], [0.2222222222222222, \"#7201a8\"], [0.3333333333333333, \"#9c179e\"], [0.4444444444444444, \"#bd3786\"], [0.5555555555555556, \"#d8576b\"], [0.6666666666666666, \"#ed7953\"], [0.7777777777777778, \"#fb9f3a\"], [0.8888888888888888, \"#fdca26\"], [1.0, \"#f0f921\"]], \"type\": \"contour\"}], \"contourcarpet\": [{\"colorbar\": {\"outlinewidth\": 0, \"ticks\": \"\"}, \"type\": \"contourcarpet\"}], \"heatmap\": [{\"colorbar\": {\"outlinewidth\": 0, \"ticks\": \"\"}, \"colorscale\": [[0.0, \"#0d0887\"], [0.1111111111111111, \"#46039f\"], [0.2222222222222222, \"#7201a8\"], [0.3333333333333333, \"#9c179e\"], [0.4444444444444444, \"#bd3786\"], [0.5555555555555556, \"#d8576b\"], [0.6666666666666666, \"#ed7953\"], [0.7777777777777778, \"#fb9f3a\"], [0.8888888888888888, \"#fdca26\"], [1.0, \"#f0f921\"]], \"type\": \"heatmap\"}], \"heatmapgl\": [{\"colorbar\": {\"outlinewidth\": 0, \"ticks\": \"\"}, \"colorscale\": [[0.0, \"#0d0887\"], [0.1111111111111111, \"#46039f\"], [0.2222222222222222, \"#7201a8\"], [0.3333333333333333, \"#9c179e\"], [0.4444444444444444, \"#bd3786\"], [0.5555555555555556, \"#d8576b\"], [0.6666666666666666, \"#ed7953\"], [0.7777777777777778, \"#fb9f3a\"], [0.8888888888888888, \"#fdca26\"], [1.0, \"#f0f921\"]], \"type\": \"heatmapgl\"}], \"histogram\": [{\"marker\": {\"colorbar\": {\"outlinewidth\": 0, \"ticks\": \"\"}}, \"type\": \"histogram\"}], \"histogram2d\": [{\"colorbar\": {\"outlinewidth\": 0, \"ticks\": \"\"}, \"colorscale\": [[0.0, \"#0d0887\"], [0.1111111111111111, \"#46039f\"], [0.2222222222222222, \"#7201a8\"], [0.3333333333333333, \"#9c179e\"], [0.4444444444444444, \"#bd3786\"], [0.5555555555555556, \"#d8576b\"], [0.6666666666666666, \"#ed7953\"], [0.7777777777777778, \"#fb9f3a\"], [0.8888888888888888, \"#fdca26\"], [1.0, \"#f0f921\"]], \"type\": \"histogram2d\"}], \"histogram2dcontour\": [{\"colorbar\": {\"outlinewidth\": 0, \"ticks\": \"\"}, \"colorscale\": [[0.0, \"#0d0887\"], [0.1111111111111111, \"#46039f\"], [0.2222222222222222, \"#7201a8\"], [0.3333333333333333, \"#9c179e\"], [0.4444444444444444, \"#bd3786\"], [0.5555555555555556, \"#d8576b\"], [0.6666666666666666, \"#ed7953\"], [0.7777777777777778, \"#fb9f3a\"], [0.8888888888888888, \"#fdca26\"], [1.0, \"#f0f921\"]], \"type\": \"histogram2dcontour\"}], \"mesh3d\": [{\"colorbar\": {\"outlinewidth\": 0, \"ticks\": \"\"}, \"type\": \"mesh3d\"}], \"parcoords\": [{\"line\": {\"colorbar\": {\"outlinewidth\": 0, \"ticks\": \"\"}}, \"type\": \"parcoords\"}], \"pie\": [{\"automargin\": true, \"type\": \"pie\"}], \"scatter\": [{\"marker\": {\"colorbar\": {\"outlinewidth\": 0, \"ticks\": \"\"}}, \"type\": \"scatter\"}], \"scatter3d\": [{\"line\": {\"colorbar\": {\"outlinewidth\": 0, \"ticks\": \"\"}}, \"marker\": {\"colorbar\": {\"outlinewidth\": 0, \"ticks\": \"\"}}, \"type\": \"scatter3d\"}], \"scattercarpet\": [{\"marker\": {\"colorbar\": {\"outlinewidth\": 0, \"ticks\": \"\"}}, \"type\": \"scattercarpet\"}], \"scattergeo\": [{\"marker\": {\"colorbar\": {\"outlinewidth\": 0, \"ticks\": \"\"}}, \"type\": \"scattergeo\"}], \"scattergl\": [{\"marker\": {\"colorbar\": {\"outlinewidth\": 0, \"ticks\": \"\"}}, \"type\": \"scattergl\"}], \"scattermapbox\": [{\"marker\": {\"colorbar\": {\"outlinewidth\": 0, \"ticks\": \"\"}}, \"type\": \"scattermapbox\"}], \"scatterpolar\": [{\"marker\": {\"colorbar\": {\"outlinewidth\": 0, \"ticks\": \"\"}}, \"type\": \"scatterpolar\"}], \"scatterpolargl\": [{\"marker\": {\"colorbar\": {\"outlinewidth\": 0, \"ticks\": \"\"}}, \"type\": \"scatterpolargl\"}], \"scatterternary\": [{\"marker\": {\"colorbar\": {\"outlinewidth\": 0, \"ticks\": \"\"}}, \"type\": \"scatterternary\"}], \"surface\": [{\"colorbar\": {\"outlinewidth\": 0, \"ticks\": \"\"}, \"colorscale\": [[0.0, \"#0d0887\"], [0.1111111111111111, \"#46039f\"], [0.2222222222222222, \"#7201a8\"], [0.3333333333333333, \"#9c179e\"], [0.4444444444444444, \"#bd3786\"], [0.5555555555555556, \"#d8576b\"], [0.6666666666666666, \"#ed7953\"], [0.7777777777777778, \"#fb9f3a\"], [0.8888888888888888, \"#fdca26\"], [1.0, \"#f0f921\"]], \"type\": \"surface\"}], \"table\": [{\"cells\": {\"fill\": {\"color\": \"#EBF0F8\"}, \"line\": {\"color\": \"white\"}}, \"header\": {\"fill\": {\"color\": \"#C8D4E3\"}, \"line\": {\"color\": \"white\"}}, \"type\": \"table\"}]}, \"layout\": {\"annotationdefaults\": {\"arrowcolor\": \"#2a3f5f\", \"arrowhead\": 0, \"arrowwidth\": 1}, \"coloraxis\": {\"colorbar\": {\"outlinewidth\": 0, \"ticks\": \"\"}}, \"colorscale\": {\"diverging\": [[0, \"#8e0152\"], [0.1, \"#c51b7d\"], [0.2, \"#de77ae\"], [0.3, \"#f1b6da\"], [0.4, \"#fde0ef\"], [0.5, \"#f7f7f7\"], [0.6, \"#e6f5d0\"], [0.7, \"#b8e186\"], [0.8, \"#7fbc41\"], [0.9, \"#4d9221\"], [1, \"#276419\"]], \"sequential\": [[0.0, \"#0d0887\"], [0.1111111111111111, \"#46039f\"], [0.2222222222222222, \"#7201a8\"], [0.3333333333333333, \"#9c179e\"], [0.4444444444444444, \"#bd3786\"], [0.5555555555555556, \"#d8576b\"], [0.6666666666666666, \"#ed7953\"], [0.7777777777777778, \"#fb9f3a\"], [0.8888888888888888, \"#fdca26\"], [1.0, \"#f0f921\"]], \"sequentialminus\": [[0.0, \"#0d0887\"], [0.1111111111111111, \"#46039f\"], [0.2222222222222222, \"#7201a8\"], [0.3333333333333333, \"#9c179e\"], [0.4444444444444444, \"#bd3786\"], [0.5555555555555556, \"#d8576b\"], [0.6666666666666666, \"#ed7953\"], [0.7777777777777778, \"#fb9f3a\"], [0.8888888888888888, \"#fdca26\"], [1.0, \"#f0f921\"]]}, \"colorway\": [\"#636efa\", \"#EF553B\", \"#00cc96\", \"#ab63fa\", \"#FFA15A\", \"#19d3f3\", \"#FF6692\", \"#B6E880\", \"#FF97FF\", \"#FECB52\"], \"font\": {\"color\": \"#2a3f5f\"}, \"geo\": {\"bgcolor\": \"white\", \"lakecolor\": \"white\", \"landcolor\": \"#E5ECF6\", \"showlakes\": true, \"showland\": true, \"subunitcolor\": \"white\"}, \"hoverlabel\": {\"align\": \"left\"}, \"hovermode\": \"closest\", \"mapbox\": {\"style\": \"light\"}, \"paper_bgcolor\": \"white\", \"plot_bgcolor\": \"#E5ECF6\", \"polar\": {\"angularaxis\": {\"gridcolor\": \"white\", \"linecolor\": \"white\", \"ticks\": \"\"}, \"bgcolor\": \"#E5ECF6\", \"radialaxis\": {\"gridcolor\": \"white\", \"linecolor\": \"white\", \"ticks\": \"\"}}, \"scene\": {\"xaxis\": {\"backgroundcolor\": \"#E5ECF6\", \"gridcolor\": \"white\", \"gridwidth\": 2, \"linecolor\": \"white\", \"showbackground\": true, \"ticks\": \"\", \"zerolinecolor\": \"white\"}, \"yaxis\": {\"backgroundcolor\": \"#E5ECF6\", \"gridcolor\": \"white\", \"gridwidth\": 2, \"linecolor\": \"white\", \"showbackground\": true, \"ticks\": \"\", \"zerolinecolor\": \"white\"}, \"zaxis\": {\"backgroundcolor\": \"#E5ECF6\", \"gridcolor\": \"white\", \"gridwidth\": 2, \"linecolor\": \"white\", \"showbackground\": true, \"ticks\": \"\", \"zerolinecolor\": \"white\"}}, \"shapedefaults\": {\"line\": {\"color\": \"#2a3f5f\"}}, \"ternary\": {\"aaxis\": {\"gridcolor\": \"white\", \"linecolor\": \"white\", \"ticks\": \"\"}, \"baxis\": {\"gridcolor\": \"white\", \"linecolor\": \"white\", \"ticks\": \"\"}, \"bgcolor\": \"#E5ECF6\", \"caxis\": {\"gridcolor\": \"white\", \"linecolor\": \"white\", \"ticks\": \"\"}}, \"title\": {\"x\": 0.05}, \"xaxis\": {\"automargin\": true, \"gridcolor\": \"white\", \"linecolor\": \"white\", \"ticks\": \"\", \"title\": {\"standoff\": 15}, \"zerolinecolor\": \"white\", \"zerolinewidth\": 2}, \"yaxis\": {\"automargin\": true, \"gridcolor\": \"white\", \"linecolor\": \"white\", \"ticks\": \"\", \"title\": {\"standoff\": 15}, \"zerolinecolor\": \"white\", \"zerolinewidth\": 2}}}, \"title\": {\"text\": \"Expected vs Official (village)\"}, \"xaxis\": {\"title\": {\"text\": \"Expected\"}}, \"yaxis\": {\"title\": {\"text\": \"Official\"}}},\n",
       "                        {\"responsive\": true}\n",
       "                    ).then(function(){\n",
       "                            \n",
       "var gd = document.getElementById('4bf7350e-f4a3-4d5b-9d6d-5e572966ffb2');\n",
       "var x = new MutationObserver(function (mutations, observer) {{\n",
       "        var display = window.getComputedStyle(gd).display;\n",
       "        if (!display || display === 'none') {{\n",
       "            console.log([gd, 'removed!']);\n",
       "            Plotly.purge(gd);\n",
       "            observer.disconnect();\n",
       "        }}\n",
       "}});\n",
       "\n",
       "// Listen for the removal of the full notebook cells\n",
       "var notebookContainer = gd.closest('#notebook-container');\n",
       "if (notebookContainer) {{\n",
       "    x.observe(notebookContainer, {childList: true});\n",
       "}}\n",
       "\n",
       "// Listen for the clearing of the current output cell\n",
       "var outputEl = gd.closest('.output');\n",
       "if (outputEl) {{\n",
       "    x.observe(outputEl, {childList: true});\n",
       "}}\n",
       "\n",
       "                        })\n",
       "                };\n",
       "                });\n",
       "            </script>\n",
       "        </div>"
      ]
     },
     "metadata": {},
     "output_type": "display_data"
    }
   ],
   "source": [
    "expected_vs_official('village', 2.973)"
   ]
  },
  {
   "cell_type": "code",
   "execution_count": 63,
   "metadata": {},
   "outputs": [
    {
     "data": {
      "application/vnd.plotly.v1+json": {
       "config": {
        "plotlyServerURL": "https://plot.ly"
       },
       "data": [
        {
         "mode": "markers",
         "name": "city",
         "text": [
          1,
          1,
          1,
          1,
          1,
          1,
          1,
          1,
          1,
          1,
          1,
          1,
          1,
          1,
          1,
          1,
          1,
          1,
          1,
          1,
          1,
          1,
          1,
          1,
          1,
          1,
          1,
          1,
          1,
          1,
          1,
          1,
          1,
          1,
          1,
          1,
          1,
          1,
          1,
          1,
          1,
          1,
          1,
          1,
          1,
          1,
          1,
          1,
          1,
          1,
          1,
          1,
          1,
          2,
          2,
          2,
          2,
          2,
          2,
          2,
          2,
          2,
          2,
          2,
          2,
          2,
          2,
          2,
          2,
          2,
          2,
          2,
          2,
          2,
          3,
          3,
          4,
          4,
          4,
          4,
          4,
          4,
          4,
          4,
          4,
          4,
          4,
          4,
          4,
          4,
          4,
          4,
          4,
          4,
          4,
          4,
          4,
          4,
          4,
          4,
          4,
          4,
          4,
          4,
          4,
          4,
          4,
          4,
          4,
          4,
          4,
          4,
          4,
          4,
          4,
          4,
          4,
          4,
          4,
          4,
          4,
          4,
          4,
          4,
          4,
          6,
          6,
          6,
          6
         ],
         "type": "scatter",
         "x": [
          0,
          1,
          2,
          3,
          4,
          5,
          6,
          7,
          8,
          9,
          10,
          11,
          12,
          13,
          14,
          15,
          16,
          17,
          18,
          19,
          20,
          21,
          22,
          23,
          24,
          25,
          26,
          27,
          28,
          29,
          30,
          31,
          32,
          33,
          34,
          35,
          36,
          37,
          38,
          39,
          40,
          41,
          42,
          43,
          44,
          45,
          46,
          47,
          48,
          49,
          50,
          51,
          52,
          53,
          54,
          55,
          56,
          57,
          58,
          59,
          60,
          61,
          62,
          63,
          64,
          65,
          66,
          67,
          68,
          69,
          70,
          71,
          72,
          73,
          74,
          75,
          76,
          77,
          78,
          79,
          80,
          81,
          82,
          83,
          84,
          85,
          86,
          87,
          88,
          89,
          90,
          91,
          92,
          93,
          94,
          95,
          96,
          97,
          98,
          99,
          100,
          101,
          102,
          103,
          104,
          105,
          106,
          107,
          108,
          109,
          110,
          111,
          112,
          113,
          114,
          115,
          116,
          117,
          118,
          119,
          120,
          121,
          122,
          123,
          124,
          125,
          126,
          127,
          128
         ],
         "y": [
          1656,
          2646,
          1805,
          2270,
          2746,
          2319,
          1955,
          1107,
          1995,
          1737,
          1012,
          1442,
          837,
          1421,
          1564,
          1673,
          2217,
          1407,
          1953,
          1704,
          2017,
          1885,
          2543,
          2020,
          2065,
          1820,
          1570,
          1370,
          979,
          2450,
          2195,
          2543,
          1920,
          1445,
          1509,
          1211,
          1500,
          1780,
          1811,
          2145,
          2194,
          1976,
          2310,
          2118,
          2977,
          2525,
          2456,
          2403,
          2732,
          2420,
          2715,
          2398,
          2841,
          1459,
          1696,
          2326,
          2271,
          1889,
          2053,
          1725,
          982,
          892,
          1505,
          1861,
          2271,
          1889,
          1458,
          2472,
          2632,
          1938,
          2656,
          1525,
          2377,
          2486,
          2524,
          2256,
          1589,
          978,
          1100,
          2215,
          1682,
          1047,
          1365,
          1667,
          2800,
          1480,
          1867,
          1794,
          2084,
          2291,
          2293,
          2497,
          2093,
          2089,
          2191,
          1889,
          2094,
          2100,
          892,
          1287,
          2598,
          2621,
          2549,
          1997,
          2792,
          2653,
          2194,
          1892,
          2196,
          1993,
          2395,
          1891,
          1286,
          1195,
          1598,
          1795,
          1987,
          1694,
          1893,
          1482,
          1897,
          2197,
          1800,
          1387,
          1636,
          1627,
          1713,
          1780,
          1351
         ]
        },
        {
         "mode": "markers",
         "name": "minsk_suburb",
         "text": [
          5,
          5,
          5,
          5,
          5,
          5,
          5,
          5,
          5,
          5,
          5,
          5,
          5,
          5,
          5,
          5,
          5,
          5,
          5,
          5,
          5,
          5,
          5,
          5,
          5,
          5,
          5,
          5,
          5,
          5,
          5,
          5,
          5,
          5,
          5,
          5,
          5,
          5,
          5,
          5,
          5,
          5,
          5,
          5,
          5,
          5,
          5,
          5,
          5,
          5,
          5,
          5,
          5,
          5
         ],
         "type": "scatter",
         "x": [
          0,
          1,
          2,
          3,
          4,
          5,
          6,
          7,
          8,
          9,
          10,
          11,
          12,
          13,
          14,
          15,
          16,
          17,
          18,
          19,
          20,
          21,
          22,
          23,
          24,
          25,
          26,
          27,
          28,
          29,
          30,
          31,
          32,
          33,
          34,
          35,
          36,
          37,
          38,
          39,
          40,
          41,
          42,
          43,
          44,
          45,
          46,
          47,
          48,
          49,
          50,
          51,
          52,
          53
         ],
         "y": [
          2225,
          2389,
          1818,
          2369,
          2486,
          1325,
          2144,
          1821,
          1821,
          1818,
          1680,
          1795,
          1830,
          1550,
          2125,
          430,
          321,
          3062,
          2032,
          2443,
          872,
          2001,
          2143,
          61,
          2242,
          2404,
          2411,
          1503,
          1855,
          2117,
          2312,
          1060,
          1079,
          1448,
          1556,
          2360,
          1626,
          2209,
          1988,
          1681,
          591,
          2944,
          1552,
          2564,
          2730,
          1650,
          2327,
          2194,
          1735,
          974,
          1556,
          1380,
          2170,
          1518
         ]
        },
        {
         "mode": "markers",
         "name": "capital",
         "text": [
          5,
          7,
          7,
          7,
          7,
          7,
          7,
          7,
          7,
          7,
          7,
          7,
          7,
          7,
          7,
          7,
          7,
          7,
          7,
          7,
          7,
          7,
          7,
          7,
          7,
          7,
          7,
          7,
          7,
          7,
          7,
          7,
          7,
          7,
          7,
          7,
          7,
          7,
          7,
          7,
          7,
          7,
          7,
          7,
          7,
          7,
          7,
          7,
          7,
          7,
          7,
          7,
          7,
          7,
          7,
          7,
          7,
          7,
          7,
          7,
          7,
          7,
          7,
          7,
          7,
          7,
          7,
          7,
          7,
          7,
          7,
          7,
          7,
          7
         ],
         "type": "scatter",
         "x": [
          0,
          1,
          2,
          3,
          4,
          5,
          6,
          7,
          8,
          9,
          10,
          11,
          12,
          13,
          14,
          15,
          16,
          17,
          18,
          19,
          20,
          21,
          22,
          23,
          24,
          25,
          26,
          27,
          28,
          29,
          30,
          31,
          32,
          33,
          34,
          35,
          36,
          37,
          38,
          39,
          40,
          41,
          42,
          43,
          44,
          45,
          46,
          47,
          48,
          49,
          50,
          51,
          52,
          53,
          54,
          55,
          56,
          57,
          58,
          59,
          60,
          61,
          62,
          63,
          64,
          65,
          66,
          67,
          68,
          69,
          70,
          71,
          72,
          73
         ],
         "y": [
          2375,
          1888,
          1631,
          1798,
          1440,
          1948,
          1522,
          683,
          1771,
          1627,
          1824,
          1704,
          1380,
          2350,
          1906,
          2030,
          1803,
          1450,
          1731,
          2007,
          1472,
          1284,
          2197,
          2042,
          267,
          1160,
          2035,
          2400,
          1509,
          969,
          1727,
          2640,
          1779,
          2227,
          2269,
          2143,
          2604,
          2136,
          2703,
          1990,
          2221,
          2523,
          2964,
          192,
          3010,
          1715,
          2299,
          1620,
          1512,
          1810,
          2292,
          2315,
          1547,
          2029,
          2876,
          2183,
          1573,
          2012,
          1590,
          2157,
          2077,
          994,
          2671,
          1878,
          2550,
          1991,
          2552,
          2409,
          2578,
          2295,
          4053,
          2001,
          1675,
          2310
         ]
        },
        {
         "mode": "markers",
         "name": "village",
         "text": [
          1,
          1,
          1,
          1,
          1,
          1,
          1,
          1,
          1,
          1,
          1,
          1,
          1,
          1,
          1,
          1,
          1,
          1,
          1,
          2,
          2,
          2,
          2,
          2,
          2,
          2,
          2,
          2,
          2,
          2,
          2,
          2,
          2,
          2,
          2,
          2,
          3,
          3,
          3,
          3,
          3,
          3,
          3,
          3,
          3,
          3,
          3,
          3,
          3,
          3,
          4,
          4,
          4,
          4,
          4,
          4,
          4,
          4,
          4,
          4,
          4,
          4,
          4,
          4,
          4,
          5,
          5,
          5,
          5,
          5,
          5,
          5,
          5,
          5,
          5,
          5,
          5,
          5,
          5,
          5,
          5,
          5,
          5,
          5,
          5,
          5,
          5,
          5,
          5,
          5,
          5,
          5,
          5,
          5,
          5,
          5,
          5,
          5,
          5,
          5,
          5,
          5,
          5,
          5,
          5,
          5,
          5,
          5,
          5,
          5,
          5,
          5,
          5,
          5,
          5,
          5,
          5,
          5,
          5,
          5,
          5,
          5,
          5,
          5,
          5,
          5,
          6,
          6,
          6,
          6,
          6
         ],
         "type": "scatter",
         "x": [
          0,
          1,
          2,
          3,
          4,
          5,
          6,
          7,
          8,
          9,
          10,
          11,
          12,
          13,
          14,
          15,
          16,
          17,
          18,
          19,
          20,
          21,
          22,
          23,
          24,
          25,
          26,
          27,
          28,
          29,
          30,
          31,
          32,
          33,
          34,
          35,
          36,
          37,
          38,
          39,
          40,
          41,
          42,
          43,
          44,
          45,
          46,
          47,
          48,
          49,
          50,
          51,
          52,
          53,
          54,
          55,
          56,
          57,
          58,
          59,
          60,
          61,
          62,
          63,
          64,
          65,
          66,
          67,
          68,
          69,
          70,
          71,
          72,
          73,
          74,
          75,
          76,
          77,
          78,
          79,
          80,
          81,
          82,
          83,
          84,
          85,
          86,
          87,
          88,
          89,
          90,
          91,
          92,
          93,
          94,
          95,
          96,
          97,
          98,
          99,
          100,
          101,
          102,
          103,
          104,
          105,
          106,
          107,
          108,
          109,
          110,
          111,
          112,
          113,
          114,
          115,
          116,
          117,
          118,
          119,
          120,
          121,
          122,
          123,
          124,
          125,
          126,
          127,
          128,
          129,
          130
         ],
         "y": [
          1027,
          835,
          1155,
          1440,
          543,
          1176,
          683,
          388,
          693,
          461,
          554,
          976,
          1423,
          1110,
          580,
          2405,
          1397,
          1000,
          1505,
          523,
          848,
          515,
          779,
          272,
          1190,
          1175,
          559,
          633,
          1725,
          467,
          511,
          1346,
          1203,
          806,
          373,
          507,
          190,
          907,
          583,
          814,
          621,
          1117,
          875,
          602,
          1944,
          249,
          606,
          589,
          375,
          631,
          452,
          688,
          1548,
          1024,
          808,
          929,
          826,
          708,
          922,
          409,
          709,
          1040,
          1276,
          1235,
          1157,
          574,
          1223,
          861,
          1340,
          1463,
          533,
          738,
          1969,
          433,
          482,
          1210,
          785,
          1337,
          1134,
          1519,
          1635,
          1582,
          1473,
          1357,
          1462,
          2098,
          319,
          1702,
          1165,
          1132,
          1201,
          431,
          1408,
          1173,
          1445,
          995,
          712,
          445,
          741,
          1827,
          1209,
          794,
          584,
          308,
          1090,
          692,
          1806,
          1869,
          717,
          1609,
          1036,
          1511,
          1557,
          1483,
          2405,
          2775,
          1994,
          1998,
          1334,
          2018,
          988,
          1011,
          2268,
          792,
          700,
          1542,
          1570,
          805,
          1586,
          757,
          1272
         ]
        },
        {
         "mode": "markers",
         "name": "town_below100",
         "text": [
          1,
          1,
          1,
          1,
          1,
          1,
          1,
          1,
          1,
          1,
          1,
          1,
          1,
          1,
          1,
          1,
          1,
          1,
          1,
          2,
          2,
          2,
          2,
          2,
          2,
          2,
          2,
          2,
          2,
          2,
          2,
          2,
          2,
          2,
          2,
          2,
          3,
          3,
          3,
          3,
          3,
          3,
          3,
          3,
          3,
          3,
          3,
          3,
          3,
          3,
          3,
          3,
          3,
          3,
          3,
          3,
          3,
          3,
          3,
          3,
          3,
          4,
          4,
          4,
          4,
          4,
          4,
          4,
          4,
          4,
          4,
          4,
          4,
          4,
          4,
          4,
          4,
          4,
          4,
          4,
          4,
          4,
          4,
          4,
          4,
          4,
          4,
          4,
          4,
          4,
          4,
          5,
          5,
          5,
          5,
          5,
          5,
          5,
          5,
          5,
          5,
          5,
          5,
          5,
          5,
          5,
          5,
          5,
          5,
          5,
          5,
          5,
          5,
          5,
          5,
          5,
          5,
          5,
          5,
          5,
          5,
          5,
          5,
          5,
          5,
          5,
          5,
          5,
          5,
          5,
          5,
          5,
          5,
          5,
          5,
          5,
          5,
          5,
          5,
          5,
          5,
          5,
          5,
          5,
          6,
          6,
          6,
          6,
          6,
          6,
          6,
          6,
          6
         ],
         "type": "scatter",
         "x": [
          0,
          1,
          2,
          3,
          4,
          5,
          6,
          7,
          8,
          9,
          10,
          11,
          12,
          13,
          14,
          15,
          16,
          17,
          18,
          19,
          20,
          21,
          22,
          23,
          24,
          25,
          26,
          27,
          28,
          29,
          30,
          31,
          32,
          33,
          34,
          35,
          36,
          37,
          38,
          39,
          40,
          41,
          42,
          43,
          44,
          45,
          46,
          47,
          48,
          49,
          50,
          51,
          52,
          53,
          54,
          55,
          56,
          57,
          58,
          59,
          60,
          61,
          62,
          63,
          64,
          65,
          66,
          67,
          68,
          69,
          70,
          71,
          72,
          73,
          74,
          75,
          76,
          77,
          78,
          79,
          80,
          81,
          82,
          83,
          84,
          85,
          86,
          87,
          88,
          89,
          90,
          91,
          92,
          93,
          94,
          95,
          96,
          97,
          98,
          99,
          100,
          101,
          102,
          103,
          104,
          105,
          106,
          107,
          108,
          109,
          110,
          111,
          112,
          113,
          114,
          115,
          116,
          117,
          118,
          119,
          120,
          121,
          122,
          123,
          124,
          125,
          126,
          127,
          128,
          129,
          130,
          131,
          132,
          133,
          134,
          135,
          136,
          137,
          138,
          139,
          140,
          141,
          142,
          143,
          144,
          145,
          146,
          147,
          148,
          149,
          150,
          151,
          152
         ],
         "y": [
          2030,
          1496,
          1885,
          2066,
          2100,
          2989,
          1600,
          1766,
          1699,
          947,
          1317,
          2580,
          1564,
          2269,
          2251,
          2824,
          1921,
          846,
          1726,
          1499,
          1277,
          1566,
          1370,
          2351,
          1872,
          2071,
          2073,
          1300,
          921,
          2082,
          1684,
          1416,
          1895,
          2784,
          2020,
          2965,
          733,
          1918,
          1308,
          1450,
          1605,
          1462,
          1010,
          2180,
          1048,
          2059,
          2235,
          2464,
          2700,
          2550,
          1660,
          2212,
          1910,
          2435,
          2413,
          2489,
          2704,
          1389,
          1568,
          1913,
          1575,
          2296,
          2192,
          1410,
          1401,
          2140,
          953,
          1972,
          1661,
          845,
          1350,
          1812,
          1097,
          1096,
          1749,
          1648,
          1202,
          1701,
          2187,
          1941,
          1870,
          1900,
          1971,
          1558,
          1682,
          1350,
          1845,
          1353,
          1828,
          1763,
          1396,
          2005,
          1857,
          892,
          1981,
          2700,
          1002,
          462,
          2185,
          2260,
          2178,
          2782,
          1736,
          1881,
          2478,
          1624,
          1530,
          2131,
          2644,
          2831,
          2229,
          2269,
          1617,
          2478,
          2710,
          1578,
          1560,
          1655,
          2004,
          1116,
          2762,
          2204,
          1596,
          2263,
          2660,
          2367,
          1823,
          1286,
          1812,
          1082,
          1106,
          1458,
          1420,
          1848,
          1570,
          2138,
          1756,
          855,
          2421,
          2616,
          1275,
          1935,
          1420,
          2317,
          1207,
          1794,
          1632,
          1476,
          1987,
          2197,
          2729,
          2413,
          1719
         ]
        },
        {
         "mode": "markers",
         "name": "town_over100",
         "text": [
          1,
          1,
          1,
          1,
          1,
          2,
          2,
          2,
          2,
          2,
          2,
          2,
          2,
          2,
          2,
          2,
          2,
          2,
          2,
          3,
          3,
          3,
          3,
          3,
          3,
          3,
          3,
          3,
          3,
          3,
          4,
          4,
          4,
          4,
          4,
          4,
          4,
          4,
          4,
          4,
          4,
          4,
          4,
          4,
          4,
          4,
          4,
          4,
          4,
          4,
          4,
          4,
          4,
          4,
          5,
          5,
          5,
          5,
          5,
          5,
          5,
          5,
          5,
          5,
          5,
          5,
          5,
          6,
          6,
          6,
          6,
          6,
          6,
          6,
          6,
          6,
          6,
          6,
          6,
          6,
          6,
          6,
          6,
          6
         ],
         "type": "scatter",
         "x": [
          0,
          1,
          2,
          3,
          4,
          5,
          6,
          7,
          8,
          9,
          10,
          11,
          12,
          13,
          14,
          15,
          16,
          17,
          18,
          19,
          20,
          21,
          22,
          23,
          24,
          25,
          26,
          27,
          28,
          29,
          30,
          31,
          32,
          33,
          34,
          35,
          36,
          37,
          38,
          39,
          40,
          41,
          42,
          43,
          44,
          45,
          46,
          47,
          48,
          49,
          50,
          51,
          52,
          53,
          54,
          55,
          56,
          57,
          58,
          59,
          60,
          61,
          62,
          63,
          64,
          65,
          66,
          67,
          68,
          69,
          70,
          71,
          72,
          73,
          74,
          75,
          76,
          77,
          78,
          79,
          80,
          81,
          82,
          83
         ],
         "y": [
          2598,
          654,
          1923,
          1782,
          2169,
          2298,
          2246,
          2105,
          1998,
          2148,
          2078,
          1738,
          2015,
          1476,
          1504,
          1351,
          1751,
          1414,
          1026,
          2498,
          1451,
          1119,
          2040,
          2201,
          2998,
          1885,
          1621,
          2083,
          2956,
          2994,
          1435,
          1850,
          1609,
          2320,
          2354,
          2846,
          2860,
          2960,
          2467,
          1870,
          1754,
          1612,
          1290,
          1319,
          1484,
          1524,
          1357,
          1292,
          1195,
          1276,
          1501,
          2198,
          1669,
          1844,
          741,
          2468,
          1950,
          2025,
          2766,
          2559,
          1287,
          1237,
          1021,
          2042,
          2002,
          1843,
          2376,
          2115,
          2239,
          1299,
          1626,
          1334,
          2018,
          988,
          1011,
          1988,
          1681,
          2525,
          1360,
          1781,
          1799,
          1790,
          1659,
          1529
         ]
        },
        {
         "mode": "markers",
         "name": "embassy",
         "text": [
          8,
          8,
          8,
          8,
          8,
          8,
          8,
          8,
          8,
          8
         ],
         "type": "scatter",
         "x": [
          0,
          1,
          2,
          3,
          4,
          5,
          6,
          7,
          8,
          9
         ],
         "y": [
          1268,
          946,
          583,
          706,
          757,
          539,
          1040,
          522,
          677,
          699
         ]
        }
       ],
       "layout": {
        "template": {
         "data": {
          "bar": [
           {
            "error_x": {
             "color": "#2a3f5f"
            },
            "error_y": {
             "color": "#2a3f5f"
            },
            "marker": {
             "line": {
              "color": "#E5ECF6",
              "width": 0.5
             }
            },
            "type": "bar"
           }
          ],
          "barpolar": [
           {
            "marker": {
             "line": {
              "color": "#E5ECF6",
              "width": 0.5
             }
            },
            "type": "barpolar"
           }
          ],
          "carpet": [
           {
            "aaxis": {
             "endlinecolor": "#2a3f5f",
             "gridcolor": "white",
             "linecolor": "white",
             "minorgridcolor": "white",
             "startlinecolor": "#2a3f5f"
            },
            "baxis": {
             "endlinecolor": "#2a3f5f",
             "gridcolor": "white",
             "linecolor": "white",
             "minorgridcolor": "white",
             "startlinecolor": "#2a3f5f"
            },
            "type": "carpet"
           }
          ],
          "choropleth": [
           {
            "colorbar": {
             "outlinewidth": 0,
             "ticks": ""
            },
            "type": "choropleth"
           }
          ],
          "contour": [
           {
            "colorbar": {
             "outlinewidth": 0,
             "ticks": ""
            },
            "colorscale": [
             [
              0,
              "#0d0887"
             ],
             [
              0.1111111111111111,
              "#46039f"
             ],
             [
              0.2222222222222222,
              "#7201a8"
             ],
             [
              0.3333333333333333,
              "#9c179e"
             ],
             [
              0.4444444444444444,
              "#bd3786"
             ],
             [
              0.5555555555555556,
              "#d8576b"
             ],
             [
              0.6666666666666666,
              "#ed7953"
             ],
             [
              0.7777777777777778,
              "#fb9f3a"
             ],
             [
              0.8888888888888888,
              "#fdca26"
             ],
             [
              1,
              "#f0f921"
             ]
            ],
            "type": "contour"
           }
          ],
          "contourcarpet": [
           {
            "colorbar": {
             "outlinewidth": 0,
             "ticks": ""
            },
            "type": "contourcarpet"
           }
          ],
          "heatmap": [
           {
            "colorbar": {
             "outlinewidth": 0,
             "ticks": ""
            },
            "colorscale": [
             [
              0,
              "#0d0887"
             ],
             [
              0.1111111111111111,
              "#46039f"
             ],
             [
              0.2222222222222222,
              "#7201a8"
             ],
             [
              0.3333333333333333,
              "#9c179e"
             ],
             [
              0.4444444444444444,
              "#bd3786"
             ],
             [
              0.5555555555555556,
              "#d8576b"
             ],
             [
              0.6666666666666666,
              "#ed7953"
             ],
             [
              0.7777777777777778,
              "#fb9f3a"
             ],
             [
              0.8888888888888888,
              "#fdca26"
             ],
             [
              1,
              "#f0f921"
             ]
            ],
            "type": "heatmap"
           }
          ],
          "heatmapgl": [
           {
            "colorbar": {
             "outlinewidth": 0,
             "ticks": ""
            },
            "colorscale": [
             [
              0,
              "#0d0887"
             ],
             [
              0.1111111111111111,
              "#46039f"
             ],
             [
              0.2222222222222222,
              "#7201a8"
             ],
             [
              0.3333333333333333,
              "#9c179e"
             ],
             [
              0.4444444444444444,
              "#bd3786"
             ],
             [
              0.5555555555555556,
              "#d8576b"
             ],
             [
              0.6666666666666666,
              "#ed7953"
             ],
             [
              0.7777777777777778,
              "#fb9f3a"
             ],
             [
              0.8888888888888888,
              "#fdca26"
             ],
             [
              1,
              "#f0f921"
             ]
            ],
            "type": "heatmapgl"
           }
          ],
          "histogram": [
           {
            "marker": {
             "colorbar": {
              "outlinewidth": 0,
              "ticks": ""
             }
            },
            "type": "histogram"
           }
          ],
          "histogram2d": [
           {
            "colorbar": {
             "outlinewidth": 0,
             "ticks": ""
            },
            "colorscale": [
             [
              0,
              "#0d0887"
             ],
             [
              0.1111111111111111,
              "#46039f"
             ],
             [
              0.2222222222222222,
              "#7201a8"
             ],
             [
              0.3333333333333333,
              "#9c179e"
             ],
             [
              0.4444444444444444,
              "#bd3786"
             ],
             [
              0.5555555555555556,
              "#d8576b"
             ],
             [
              0.6666666666666666,
              "#ed7953"
             ],
             [
              0.7777777777777778,
              "#fb9f3a"
             ],
             [
              0.8888888888888888,
              "#fdca26"
             ],
             [
              1,
              "#f0f921"
             ]
            ],
            "type": "histogram2d"
           }
          ],
          "histogram2dcontour": [
           {
            "colorbar": {
             "outlinewidth": 0,
             "ticks": ""
            },
            "colorscale": [
             [
              0,
              "#0d0887"
             ],
             [
              0.1111111111111111,
              "#46039f"
             ],
             [
              0.2222222222222222,
              "#7201a8"
             ],
             [
              0.3333333333333333,
              "#9c179e"
             ],
             [
              0.4444444444444444,
              "#bd3786"
             ],
             [
              0.5555555555555556,
              "#d8576b"
             ],
             [
              0.6666666666666666,
              "#ed7953"
             ],
             [
              0.7777777777777778,
              "#fb9f3a"
             ],
             [
              0.8888888888888888,
              "#fdca26"
             ],
             [
              1,
              "#f0f921"
             ]
            ],
            "type": "histogram2dcontour"
           }
          ],
          "mesh3d": [
           {
            "colorbar": {
             "outlinewidth": 0,
             "ticks": ""
            },
            "type": "mesh3d"
           }
          ],
          "parcoords": [
           {
            "line": {
             "colorbar": {
              "outlinewidth": 0,
              "ticks": ""
             }
            },
            "type": "parcoords"
           }
          ],
          "pie": [
           {
            "automargin": true,
            "type": "pie"
           }
          ],
          "scatter": [
           {
            "marker": {
             "colorbar": {
              "outlinewidth": 0,
              "ticks": ""
             }
            },
            "type": "scatter"
           }
          ],
          "scatter3d": [
           {
            "line": {
             "colorbar": {
              "outlinewidth": 0,
              "ticks": ""
             }
            },
            "marker": {
             "colorbar": {
              "outlinewidth": 0,
              "ticks": ""
             }
            },
            "type": "scatter3d"
           }
          ],
          "scattercarpet": [
           {
            "marker": {
             "colorbar": {
              "outlinewidth": 0,
              "ticks": ""
             }
            },
            "type": "scattercarpet"
           }
          ],
          "scattergeo": [
           {
            "marker": {
             "colorbar": {
              "outlinewidth": 0,
              "ticks": ""
             }
            },
            "type": "scattergeo"
           }
          ],
          "scattergl": [
           {
            "marker": {
             "colorbar": {
              "outlinewidth": 0,
              "ticks": ""
             }
            },
            "type": "scattergl"
           }
          ],
          "scattermapbox": [
           {
            "marker": {
             "colorbar": {
              "outlinewidth": 0,
              "ticks": ""
             }
            },
            "type": "scattermapbox"
           }
          ],
          "scatterpolar": [
           {
            "marker": {
             "colorbar": {
              "outlinewidth": 0,
              "ticks": ""
             }
            },
            "type": "scatterpolar"
           }
          ],
          "scatterpolargl": [
           {
            "marker": {
             "colorbar": {
              "outlinewidth": 0,
              "ticks": ""
             }
            },
            "type": "scatterpolargl"
           }
          ],
          "scatterternary": [
           {
            "marker": {
             "colorbar": {
              "outlinewidth": 0,
              "ticks": ""
             }
            },
            "type": "scatterternary"
           }
          ],
          "surface": [
           {
            "colorbar": {
             "outlinewidth": 0,
             "ticks": ""
            },
            "colorscale": [
             [
              0,
              "#0d0887"
             ],
             [
              0.1111111111111111,
              "#46039f"
             ],
             [
              0.2222222222222222,
              "#7201a8"
             ],
             [
              0.3333333333333333,
              "#9c179e"
             ],
             [
              0.4444444444444444,
              "#bd3786"
             ],
             [
              0.5555555555555556,
              "#d8576b"
             ],
             [
              0.6666666666666666,
              "#ed7953"
             ],
             [
              0.7777777777777778,
              "#fb9f3a"
             ],
             [
              0.8888888888888888,
              "#fdca26"
             ],
             [
              1,
              "#f0f921"
             ]
            ],
            "type": "surface"
           }
          ],
          "table": [
           {
            "cells": {
             "fill": {
              "color": "#EBF0F8"
             },
             "line": {
              "color": "white"
             }
            },
            "header": {
             "fill": {
              "color": "#C8D4E3"
             },
             "line": {
              "color": "white"
             }
            },
            "type": "table"
           }
          ]
         },
         "layout": {
          "annotationdefaults": {
           "arrowcolor": "#2a3f5f",
           "arrowhead": 0,
           "arrowwidth": 1
          },
          "coloraxis": {
           "colorbar": {
            "outlinewidth": 0,
            "ticks": ""
           }
          },
          "colorscale": {
           "diverging": [
            [
             0,
             "#8e0152"
            ],
            [
             0.1,
             "#c51b7d"
            ],
            [
             0.2,
             "#de77ae"
            ],
            [
             0.3,
             "#f1b6da"
            ],
            [
             0.4,
             "#fde0ef"
            ],
            [
             0.5,
             "#f7f7f7"
            ],
            [
             0.6,
             "#e6f5d0"
            ],
            [
             0.7,
             "#b8e186"
            ],
            [
             0.8,
             "#7fbc41"
            ],
            [
             0.9,
             "#4d9221"
            ],
            [
             1,
             "#276419"
            ]
           ],
           "sequential": [
            [
             0,
             "#0d0887"
            ],
            [
             0.1111111111111111,
             "#46039f"
            ],
            [
             0.2222222222222222,
             "#7201a8"
            ],
            [
             0.3333333333333333,
             "#9c179e"
            ],
            [
             0.4444444444444444,
             "#bd3786"
            ],
            [
             0.5555555555555556,
             "#d8576b"
            ],
            [
             0.6666666666666666,
             "#ed7953"
            ],
            [
             0.7777777777777778,
             "#fb9f3a"
            ],
            [
             0.8888888888888888,
             "#fdca26"
            ],
            [
             1,
             "#f0f921"
            ]
           ],
           "sequentialminus": [
            [
             0,
             "#0d0887"
            ],
            [
             0.1111111111111111,
             "#46039f"
            ],
            [
             0.2222222222222222,
             "#7201a8"
            ],
            [
             0.3333333333333333,
             "#9c179e"
            ],
            [
             0.4444444444444444,
             "#bd3786"
            ],
            [
             0.5555555555555556,
             "#d8576b"
            ],
            [
             0.6666666666666666,
             "#ed7953"
            ],
            [
             0.7777777777777778,
             "#fb9f3a"
            ],
            [
             0.8888888888888888,
             "#fdca26"
            ],
            [
             1,
             "#f0f921"
            ]
           ]
          },
          "colorway": [
           "#636efa",
           "#EF553B",
           "#00cc96",
           "#ab63fa",
           "#FFA15A",
           "#19d3f3",
           "#FF6692",
           "#B6E880",
           "#FF97FF",
           "#FECB52"
          ],
          "font": {
           "color": "#2a3f5f"
          },
          "geo": {
           "bgcolor": "white",
           "lakecolor": "white",
           "landcolor": "#E5ECF6",
           "showlakes": true,
           "showland": true,
           "subunitcolor": "white"
          },
          "hoverlabel": {
           "align": "left"
          },
          "hovermode": "closest",
          "mapbox": {
           "style": "light"
          },
          "paper_bgcolor": "white",
          "plot_bgcolor": "#E5ECF6",
          "polar": {
           "angularaxis": {
            "gridcolor": "white",
            "linecolor": "white",
            "ticks": ""
           },
           "bgcolor": "#E5ECF6",
           "radialaxis": {
            "gridcolor": "white",
            "linecolor": "white",
            "ticks": ""
           }
          },
          "scene": {
           "xaxis": {
            "backgroundcolor": "#E5ECF6",
            "gridcolor": "white",
            "gridwidth": 2,
            "linecolor": "white",
            "showbackground": true,
            "ticks": "",
            "zerolinecolor": "white"
           },
           "yaxis": {
            "backgroundcolor": "#E5ECF6",
            "gridcolor": "white",
            "gridwidth": 2,
            "linecolor": "white",
            "showbackground": true,
            "ticks": "",
            "zerolinecolor": "white"
           },
           "zaxis": {
            "backgroundcolor": "#E5ECF6",
            "gridcolor": "white",
            "gridwidth": 2,
            "linecolor": "white",
            "showbackground": true,
            "ticks": "",
            "zerolinecolor": "white"
           }
          },
          "shapedefaults": {
           "line": {
            "color": "#2a3f5f"
           }
          },
          "ternary": {
           "aaxis": {
            "gridcolor": "white",
            "linecolor": "white",
            "ticks": ""
           },
           "baxis": {
            "gridcolor": "white",
            "linecolor": "white",
            "ticks": ""
           },
           "bgcolor": "#E5ECF6",
           "caxis": {
            "gridcolor": "white",
            "linecolor": "white",
            "ticks": ""
           }
          },
          "title": {
           "x": 0.05
          },
          "xaxis": {
           "automargin": true,
           "gridcolor": "white",
           "linecolor": "white",
           "ticks": "",
           "title": {
            "standoff": 15
           },
           "zerolinecolor": "white",
           "zerolinewidth": 2
          },
          "yaxis": {
           "automargin": true,
           "gridcolor": "white",
           "linecolor": "white",
           "ticks": "",
           "title": {
            "standoff": 15
           },
           "zerolinecolor": "white",
           "zerolinewidth": 2
          }
         }
        },
        "xaxis": {
         "title": {
          "text": "Poll stations"
         }
        },
        "yaxis": {
         "title": {
          "text": "Voters"
         }
        }
       }
      },
      "text/html": [
       "<div>\n",
       "        \n",
       "        \n",
       "            <div id=\"39e60276-98d4-4344-bcca-80c38899e32a\" class=\"plotly-graph-div\" style=\"height:525px; width:100%;\"></div>\n",
       "            <script type=\"text/javascript\">\n",
       "                require([\"plotly\"], function(Plotly) {\n",
       "                    window.PLOTLYENV=window.PLOTLYENV || {};\n",
       "                    \n",
       "                if (document.getElementById(\"39e60276-98d4-4344-bcca-80c38899e32a\")) {\n",
       "                    Plotly.newPlot(\n",
       "                        '39e60276-98d4-4344-bcca-80c38899e32a',\n",
       "                        [{\"mode\": \"markers\", \"name\": \"city\", \"text\": [1.0, 1.0, 1.0, 1.0, 1.0, 1.0, 1.0, 1.0, 1.0, 1.0, 1.0, 1.0, 1.0, 1.0, 1.0, 1.0, 1.0, 1.0, 1.0, 1.0, 1.0, 1.0, 1.0, 1.0, 1.0, 1.0, 1.0, 1.0, 1.0, 1.0, 1.0, 1.0, 1.0, 1.0, 1.0, 1.0, 1.0, 1.0, 1.0, 1.0, 1.0, 1.0, 1.0, 1.0, 1.0, 1.0, 1.0, 1.0, 1.0, 1.0, 1.0, 1.0, 1.0, 2.0, 2.0, 2.0, 2.0, 2.0, 2.0, 2.0, 2.0, 2.0, 2.0, 2.0, 2.0, 2.0, 2.0, 2.0, 2.0, 2.0, 2.0, 2.0, 2.0, 2.0, 3.0, 3.0, 4.0, 4.0, 4.0, 4.0, 4.0, 4.0, 4.0, 4.0, 4.0, 4.0, 4.0, 4.0, 4.0, 4.0, 4.0, 4.0, 4.0, 4.0, 4.0, 4.0, 4.0, 4.0, 4.0, 4.0, 4.0, 4.0, 4.0, 4.0, 4.0, 4.0, 4.0, 4.0, 4.0, 4.0, 4.0, 4.0, 4.0, 4.0, 4.0, 4.0, 4.0, 4.0, 4.0, 4.0, 4.0, 4.0, 4.0, 4.0, 4.0, 6.0, 6.0, 6.0, 6.0], \"type\": \"scatter\", \"x\": [0, 1, 2, 3, 4, 5, 6, 7, 8, 9, 10, 11, 12, 13, 14, 15, 16, 17, 18, 19, 20, 21, 22, 23, 24, 25, 26, 27, 28, 29, 30, 31, 32, 33, 34, 35, 36, 37, 38, 39, 40, 41, 42, 43, 44, 45, 46, 47, 48, 49, 50, 51, 52, 53, 54, 55, 56, 57, 58, 59, 60, 61, 62, 63, 64, 65, 66, 67, 68, 69, 70, 71, 72, 73, 74, 75, 76, 77, 78, 79, 80, 81, 82, 83, 84, 85, 86, 87, 88, 89, 90, 91, 92, 93, 94, 95, 96, 97, 98, 99, 100, 101, 102, 103, 104, 105, 106, 107, 108, 109, 110, 111, 112, 113, 114, 115, 116, 117, 118, 119, 120, 121, 122, 123, 124, 125, 126, 127, 128], \"y\": [1656.0, 2646.0, 1805.0, 2270.0, 2746.0, 2319.0, 1955.0, 1107.0, 1995.0, 1737.0, 1012.0, 1442.0, 837.0, 1421.0, 1564.0, 1673.0, 2217.0, 1407.0, 1953.0, 1704.0, 2017.0, 1885.0, 2543.0, 2020.0, 2065.0, 1820.0, 1570.0, 1370.0, 979.0, 2450.0, 2195.0, 2543.0, 1920.0, 1445.0, 1509.0, 1211.0, 1500.0, 1780.0, 1811.0, 2145.0, 2194.0, 1976.0, 2310.0, 2118.0, 2977.0, 2525.0, 2456.0, 2403.0, 2732.0, 2420.0, 2715.0, 2398.0, 2841.0, 1459.0, 1696.0, 2326.0, 2271.0, 1889.0, 2053.0, 1725.0, 982.0, 892.0, 1505.0, 1861.0, 2271.0, 1889.0, 1458.0, 2472.0, 2632.0, 1938.0, 2656.0, 1525.0, 2377.0, 2486.0, 2524.0, 2256.0, 1589.0, 978.0, 1100.0, 2215.0, 1682.0, 1047.0, 1365.0, 1667.0, 2800.0, 1480.0, 1867.0, 1794.0, 2084.0, 2291.0, 2293.0, 2497.0, 2093.0, 2089.0, 2191.0, 1889.0, 2094.0, 2100.0, 892.0, 1287.0, 2598.0, 2621.0, 2549.0, 1997.0, 2792.0, 2653.0, 2194.0, 1892.0, 2196.0, 1993.0, 2395.0, 1891.0, 1286.0, 1195.0, 1598.0, 1795.0, 1987.0, 1694.0, 1893.0, 1482.0, 1897.0, 2197.0, 1800.0, 1387.0, 1636.0, 1627.0, 1713.0, 1780.0, 1351.0]}, {\"mode\": \"markers\", \"name\": \"minsk_suburb\", \"text\": [5.0, 5.0, 5.0, 5.0, 5.0, 5.0, 5.0, 5.0, 5.0, 5.0, 5.0, 5.0, 5.0, 5.0, 5.0, 5.0, 5.0, 5.0, 5.0, 5.0, 5.0, 5.0, 5.0, 5.0, 5.0, 5.0, 5.0, 5.0, 5.0, 5.0, 5.0, 5.0, 5.0, 5.0, 5.0, 5.0, 5.0, 5.0, 5.0, 5.0, 5.0, 5.0, 5.0, 5.0, 5.0, 5.0, 5.0, 5.0, 5.0, 5.0, 5.0, 5.0, 5.0, 5.0], \"type\": \"scatter\", \"x\": [0, 1, 2, 3, 4, 5, 6, 7, 8, 9, 10, 11, 12, 13, 14, 15, 16, 17, 18, 19, 20, 21, 22, 23, 24, 25, 26, 27, 28, 29, 30, 31, 32, 33, 34, 35, 36, 37, 38, 39, 40, 41, 42, 43, 44, 45, 46, 47, 48, 49, 50, 51, 52, 53], \"y\": [2225.0, 2389.0, 1818.0, 2369.0, 2486.0, 1325.0, 2144.0, 1821.0, 1821.0, 1818.0, 1680.0, 1795.0, 1830.0, 1550.0, 2125.0, 430.0, 321.0, 3062.0, 2032.0, 2443.0, 872.0, 2001.0, 2143.0, 61.0, 2242.0, 2404.0, 2411.0, 1503.0, 1855.0, 2117.0, 2312.0, 1060.0, 1079.0, 1448.0, 1556.0, 2360.0, 1626.0, 2209.0, 1988.0, 1681.0, 591.0, 2944.0, 1552.0, 2564.0, 2730.0, 1650.0, 2327.0, 2194.0, 1735.0, 974.0, 1556.0, 1380.0, 2170.0, 1518.0]}, {\"mode\": \"markers\", \"name\": \"capital\", \"text\": [5.0, 7.0, 7.0, 7.0, 7.0, 7.0, 7.0, 7.0, 7.0, 7.0, 7.0, 7.0, 7.0, 7.0, 7.0, 7.0, 7.0, 7.0, 7.0, 7.0, 7.0, 7.0, 7.0, 7.0, 7.0, 7.0, 7.0, 7.0, 7.0, 7.0, 7.0, 7.0, 7.0, 7.0, 7.0, 7.0, 7.0, 7.0, 7.0, 7.0, 7.0, 7.0, 7.0, 7.0, 7.0, 7.0, 7.0, 7.0, 7.0, 7.0, 7.0, 7.0, 7.0, 7.0, 7.0, 7.0, 7.0, 7.0, 7.0, 7.0, 7.0, 7.0, 7.0, 7.0, 7.0, 7.0, 7.0, 7.0, 7.0, 7.0, 7.0, 7.0, 7.0, 7.0], \"type\": \"scatter\", \"x\": [0, 1, 2, 3, 4, 5, 6, 7, 8, 9, 10, 11, 12, 13, 14, 15, 16, 17, 18, 19, 20, 21, 22, 23, 24, 25, 26, 27, 28, 29, 30, 31, 32, 33, 34, 35, 36, 37, 38, 39, 40, 41, 42, 43, 44, 45, 46, 47, 48, 49, 50, 51, 52, 53, 54, 55, 56, 57, 58, 59, 60, 61, 62, 63, 64, 65, 66, 67, 68, 69, 70, 71, 72, 73], \"y\": [2375.0, 1888.0, 1631.0, 1798.0, 1440.0, 1948.0, 1522.0, 683.0, 1771.0, 1627.0, 1824.0, 1704.0, 1380.0, 2350.0, 1906.0, 2030.0, 1803.0, 1450.0, 1731.0, 2007.0, 1472.0, 1284.0, 2197.0, 2042.0, 267.0, 1160.0, 2035.0, 2400.0, 1509.0, 969.0, 1727.0, 2640.0, 1779.0, 2227.0, 2269.0, 2143.0, 2604.0, 2136.0, 2703.0, 1990.0, 2221.0, 2523.0, 2964.0, 192.0, 3010.0, 1715.0, 2299.0, 1620.0, 1512.0, 1810.0, 2292.0, 2315.0, 1547.0, 2029.0, 2876.0, 2183.0, 1573.0, 2012.0, 1590.0, 2157.0, 2077.0, 994.0, 2671.0, 1878.0, 2550.0, 1991.0, 2552.0, 2409.0, 2578.0, 2295.0, 4053.0, 2001.0, 1675.0, 2310.0]}, {\"mode\": \"markers\", \"name\": \"village\", \"text\": [1.0, 1.0, 1.0, 1.0, 1.0, 1.0, 1.0, 1.0, 1.0, 1.0, 1.0, 1.0, 1.0, 1.0, 1.0, 1.0, 1.0, 1.0, 1.0, 2.0, 2.0, 2.0, 2.0, 2.0, 2.0, 2.0, 2.0, 2.0, 2.0, 2.0, 2.0, 2.0, 2.0, 2.0, 2.0, 2.0, 3.0, 3.0, 3.0, 3.0, 3.0, 3.0, 3.0, 3.0, 3.0, 3.0, 3.0, 3.0, 3.0, 3.0, 4.0, 4.0, 4.0, 4.0, 4.0, 4.0, 4.0, 4.0, 4.0, 4.0, 4.0, 4.0, 4.0, 4.0, 4.0, 5.0, 5.0, 5.0, 5.0, 5.0, 5.0, 5.0, 5.0, 5.0, 5.0, 5.0, 5.0, 5.0, 5.0, 5.0, 5.0, 5.0, 5.0, 5.0, 5.0, 5.0, 5.0, 5.0, 5.0, 5.0, 5.0, 5.0, 5.0, 5.0, 5.0, 5.0, 5.0, 5.0, 5.0, 5.0, 5.0, 5.0, 5.0, 5.0, 5.0, 5.0, 5.0, 5.0, 5.0, 5.0, 5.0, 5.0, 5.0, 5.0, 5.0, 5.0, 5.0, 5.0, 5.0, 5.0, 5.0, 5.0, 5.0, 5.0, 5.0, 5.0, 6.0, 6.0, 6.0, 6.0, 6.0], \"type\": \"scatter\", \"x\": [0, 1, 2, 3, 4, 5, 6, 7, 8, 9, 10, 11, 12, 13, 14, 15, 16, 17, 18, 19, 20, 21, 22, 23, 24, 25, 26, 27, 28, 29, 30, 31, 32, 33, 34, 35, 36, 37, 38, 39, 40, 41, 42, 43, 44, 45, 46, 47, 48, 49, 50, 51, 52, 53, 54, 55, 56, 57, 58, 59, 60, 61, 62, 63, 64, 65, 66, 67, 68, 69, 70, 71, 72, 73, 74, 75, 76, 77, 78, 79, 80, 81, 82, 83, 84, 85, 86, 87, 88, 89, 90, 91, 92, 93, 94, 95, 96, 97, 98, 99, 100, 101, 102, 103, 104, 105, 106, 107, 108, 109, 110, 111, 112, 113, 114, 115, 116, 117, 118, 119, 120, 121, 122, 123, 124, 125, 126, 127, 128, 129, 130], \"y\": [1027.0, 835.0, 1155.0, 1440.0, 543.0, 1176.0, 683.0, 388.0, 693.0, 461.0, 554.0, 976.0, 1423.0, 1110.0, 580.0, 2405.0, 1397.0, 1000.0, 1505.0, 523.0, 848.0, 515.0, 779.0, 272.0, 1190.0, 1175.0, 559.0, 633.0, 1725.0, 467.0, 511.0, 1346.0, 1203.0, 806.0, 373.0, 507.0, 190.0, 907.0, 583.0, 814.0, 621.0, 1117.0, 875.0, 602.0, 1944.0, 249.0, 606.0, 589.0, 375.0, 631.0, 452.0, 688.0, 1548.0, 1024.0, 808.0, 929.0, 826.0, 708.0, 922.0, 409.0, 709.0, 1040.0, 1276.0, 1235.0, 1157.0, 574.0, 1223.0, 861.0, 1340.0, 1463.0, 533.0, 738.0, 1969.0, 433.0, 482.0, 1210.0, 785.0, 1337.0, 1134.0, 1519.0, 1635.0, 1582.0, 1473.0, 1357.0, 1462.0, 2098.0, 319.0, 1702.0, 1165.0, 1132.0, 1201.0, 431.0, 1408.0, 1173.0, 1445.0, 995.0, 712.0, 445.0, 741.0, 1827.0, 1209.0, 794.0, 584.0, 308.0, 1090.0, 692.0, 1806.0, 1869.0, 717.0, 1609.0, 1036.0, 1511.0, 1557.0, 1483.0, 2405.0, 2775.0, 1994.0, 1998.0, 1334.0, 2018.0, 988.0, 1011.0, 2268.0, 792.0, 700.0, 1542.0, 1570.0, 805.0, 1586.0, 757.0, 1272.0]}, {\"mode\": \"markers\", \"name\": \"town_below100\", \"text\": [1.0, 1.0, 1.0, 1.0, 1.0, 1.0, 1.0, 1.0, 1.0, 1.0, 1.0, 1.0, 1.0, 1.0, 1.0, 1.0, 1.0, 1.0, 1.0, 2.0, 2.0, 2.0, 2.0, 2.0, 2.0, 2.0, 2.0, 2.0, 2.0, 2.0, 2.0, 2.0, 2.0, 2.0, 2.0, 2.0, 3.0, 3.0, 3.0, 3.0, 3.0, 3.0, 3.0, 3.0, 3.0, 3.0, 3.0, 3.0, 3.0, 3.0, 3.0, 3.0, 3.0, 3.0, 3.0, 3.0, 3.0, 3.0, 3.0, 3.0, 3.0, 4.0, 4.0, 4.0, 4.0, 4.0, 4.0, 4.0, 4.0, 4.0, 4.0, 4.0, 4.0, 4.0, 4.0, 4.0, 4.0, 4.0, 4.0, 4.0, 4.0, 4.0, 4.0, 4.0, 4.0, 4.0, 4.0, 4.0, 4.0, 4.0, 4.0, 5.0, 5.0, 5.0, 5.0, 5.0, 5.0, 5.0, 5.0, 5.0, 5.0, 5.0, 5.0, 5.0, 5.0, 5.0, 5.0, 5.0, 5.0, 5.0, 5.0, 5.0, 5.0, 5.0, 5.0, 5.0, 5.0, 5.0, 5.0, 5.0, 5.0, 5.0, 5.0, 5.0, 5.0, 5.0, 5.0, 5.0, 5.0, 5.0, 5.0, 5.0, 5.0, 5.0, 5.0, 5.0, 5.0, 5.0, 5.0, 5.0, 5.0, 5.0, 5.0, 5.0, 6.0, 6.0, 6.0, 6.0, 6.0, 6.0, 6.0, 6.0, 6.0], \"type\": \"scatter\", \"x\": [0, 1, 2, 3, 4, 5, 6, 7, 8, 9, 10, 11, 12, 13, 14, 15, 16, 17, 18, 19, 20, 21, 22, 23, 24, 25, 26, 27, 28, 29, 30, 31, 32, 33, 34, 35, 36, 37, 38, 39, 40, 41, 42, 43, 44, 45, 46, 47, 48, 49, 50, 51, 52, 53, 54, 55, 56, 57, 58, 59, 60, 61, 62, 63, 64, 65, 66, 67, 68, 69, 70, 71, 72, 73, 74, 75, 76, 77, 78, 79, 80, 81, 82, 83, 84, 85, 86, 87, 88, 89, 90, 91, 92, 93, 94, 95, 96, 97, 98, 99, 100, 101, 102, 103, 104, 105, 106, 107, 108, 109, 110, 111, 112, 113, 114, 115, 116, 117, 118, 119, 120, 121, 122, 123, 124, 125, 126, 127, 128, 129, 130, 131, 132, 133, 134, 135, 136, 137, 138, 139, 140, 141, 142, 143, 144, 145, 146, 147, 148, 149, 150, 151, 152], \"y\": [2030.0, 1496.0, 1885.0, 2066.0, 2100.0, 2989.0, 1600.0, 1766.0, 1699.0, 947.0, 1317.0, 2580.0, 1564.0, 2269.0, 2251.0, 2824.0, 1921.0, 846.0, 1726.0, 1499.0, 1277.0, 1566.0, 1370.0, 2351.0, 1872.0, 2071.0, 2073.0, 1300.0, 921.0, 2082.0, 1684.0, 1416.0, 1895.0, 2784.0, 2020.0, 2965.0, 733.0, 1918.0, 1308.0, 1450.0, 1605.0, 1462.0, 1010.0, 2180.0, 1048.0, 2059.0, 2235.0, 2464.0, 2700.0, 2550.0, 1660.0, 2212.0, 1910.0, 2435.0, 2413.0, 2489.0, 2704.0, 1389.0, 1568.0, 1913.0, 1575.0, 2296.0, 2192.0, 1410.0, 1401.0, 2140.0, 953.0, 1972.0, 1661.0, 845.0, 1350.0, 1812.0, 1097.0, 1096.0, 1749.0, 1648.0, 1202.0, 1701.0, 2187.0, 1941.0, 1870.0, 1900.0, 1971.0, 1558.0, 1682.0, 1350.0, 1845.0, 1353.0, 1828.0, 1763.0, 1396.0, 2005.0, 1857.0, 892.0, 1981.0, 2700.0, 1002.0, 462.0, 2185.0, 2260.0, 2178.0, 2782.0, 1736.0, 1881.0, 2478.0, 1624.0, 1530.0, 2131.0, 2644.0, 2831.0, 2229.0, 2269.0, 1617.0, 2478.0, 2710.0, 1578.0, 1560.0, 1655.0, 2004.0, 1116.0, 2762.0, 2204.0, 1596.0, 2263.0, 2660.0, 2367.0, 1823.0, 1286.0, 1812.0, 1082.0, 1106.0, 1458.0, 1420.0, 1848.0, 1570.0, 2138.0, 1756.0, 855.0, 2421.0, 2616.0, 1275.0, 1935.0, 1420.0, 2317.0, 1207.0, 1794.0, 1632.0, 1476.0, 1987.0, 2197.0, 2729.0, 2413.0, 1719.0]}, {\"mode\": \"markers\", \"name\": \"town_over100\", \"text\": [1.0, 1.0, 1.0, 1.0, 1.0, 2.0, 2.0, 2.0, 2.0, 2.0, 2.0, 2.0, 2.0, 2.0, 2.0, 2.0, 2.0, 2.0, 2.0, 3.0, 3.0, 3.0, 3.0, 3.0, 3.0, 3.0, 3.0, 3.0, 3.0, 3.0, 4.0, 4.0, 4.0, 4.0, 4.0, 4.0, 4.0, 4.0, 4.0, 4.0, 4.0, 4.0, 4.0, 4.0, 4.0, 4.0, 4.0, 4.0, 4.0, 4.0, 4.0, 4.0, 4.0, 4.0, 5.0, 5.0, 5.0, 5.0, 5.0, 5.0, 5.0, 5.0, 5.0, 5.0, 5.0, 5.0, 5.0, 6.0, 6.0, 6.0, 6.0, 6.0, 6.0, 6.0, 6.0, 6.0, 6.0, 6.0, 6.0, 6.0, 6.0, 6.0, 6.0, 6.0], \"type\": \"scatter\", \"x\": [0, 1, 2, 3, 4, 5, 6, 7, 8, 9, 10, 11, 12, 13, 14, 15, 16, 17, 18, 19, 20, 21, 22, 23, 24, 25, 26, 27, 28, 29, 30, 31, 32, 33, 34, 35, 36, 37, 38, 39, 40, 41, 42, 43, 44, 45, 46, 47, 48, 49, 50, 51, 52, 53, 54, 55, 56, 57, 58, 59, 60, 61, 62, 63, 64, 65, 66, 67, 68, 69, 70, 71, 72, 73, 74, 75, 76, 77, 78, 79, 80, 81, 82, 83], \"y\": [2598.0, 654.0, 1923.0, 1782.0, 2169.0, 2298.0, 2246.0, 2105.0, 1998.0, 2148.0, 2078.0, 1738.0, 2015.0, 1476.0, 1504.0, 1351.0, 1751.0, 1414.0, 1026.0, 2498.0, 1451.0, 1119.0, 2040.0, 2201.0, 2998.0, 1885.0, 1621.0, 2083.0, 2956.0, 2994.0, 1435.0, 1850.0, 1609.0, 2320.0, 2354.0, 2846.0, 2860.0, 2960.0, 2467.0, 1870.0, 1754.0, 1612.0, 1290.0, 1319.0, 1484.0, 1524.0, 1357.0, 1292.0, 1195.0, 1276.0, 1501.0, 2198.0, 1669.0, 1844.0, 741.0, 2468.0, 1950.0, 2025.0, 2766.0, 2559.0, 1287.0, 1237.0, 1021.0, 2042.0, 2002.0, 1843.0, 2376.0, 2115.0, 2239.0, 1299.0, 1626.0, 1334.0, 2018.0, 988.0, 1011.0, 1988.0, 1681.0, 2525.0, 1360.0, 1781.0, 1799.0, 1790.0, 1659.0, 1529.0]}, {\"mode\": \"markers\", \"name\": \"embassy\", \"text\": [8.0, 8.0, 8.0, 8.0, 8.0, 8.0, 8.0, 8.0, 8.0, 8.0], \"type\": \"scatter\", \"x\": [0, 1, 2, 3, 4, 5, 6, 7, 8, 9], \"y\": [1268.0, 946.0, 583.0, 706.0, 757.0, 539.0, 1040.0, 522.0, 677.0, 699.0]}],\n",
       "                        {\"template\": {\"data\": {\"bar\": [{\"error_x\": {\"color\": \"#2a3f5f\"}, \"error_y\": {\"color\": \"#2a3f5f\"}, \"marker\": {\"line\": {\"color\": \"#E5ECF6\", \"width\": 0.5}}, \"type\": \"bar\"}], \"barpolar\": [{\"marker\": {\"line\": {\"color\": \"#E5ECF6\", \"width\": 0.5}}, \"type\": \"barpolar\"}], \"carpet\": [{\"aaxis\": {\"endlinecolor\": \"#2a3f5f\", \"gridcolor\": \"white\", \"linecolor\": \"white\", \"minorgridcolor\": \"white\", \"startlinecolor\": \"#2a3f5f\"}, \"baxis\": {\"endlinecolor\": \"#2a3f5f\", \"gridcolor\": \"white\", \"linecolor\": \"white\", \"minorgridcolor\": \"white\", \"startlinecolor\": \"#2a3f5f\"}, \"type\": \"carpet\"}], \"choropleth\": [{\"colorbar\": {\"outlinewidth\": 0, \"ticks\": \"\"}, \"type\": \"choropleth\"}], \"contour\": [{\"colorbar\": {\"outlinewidth\": 0, \"ticks\": \"\"}, \"colorscale\": [[0.0, \"#0d0887\"], [0.1111111111111111, \"#46039f\"], [0.2222222222222222, \"#7201a8\"], [0.3333333333333333, \"#9c179e\"], [0.4444444444444444, \"#bd3786\"], [0.5555555555555556, \"#d8576b\"], [0.6666666666666666, \"#ed7953\"], [0.7777777777777778, \"#fb9f3a\"], [0.8888888888888888, \"#fdca26\"], [1.0, \"#f0f921\"]], \"type\": \"contour\"}], \"contourcarpet\": [{\"colorbar\": {\"outlinewidth\": 0, \"ticks\": \"\"}, \"type\": \"contourcarpet\"}], \"heatmap\": [{\"colorbar\": {\"outlinewidth\": 0, \"ticks\": \"\"}, \"colorscale\": [[0.0, \"#0d0887\"], [0.1111111111111111, \"#46039f\"], [0.2222222222222222, \"#7201a8\"], [0.3333333333333333, \"#9c179e\"], [0.4444444444444444, \"#bd3786\"], [0.5555555555555556, \"#d8576b\"], [0.6666666666666666, \"#ed7953\"], [0.7777777777777778, \"#fb9f3a\"], [0.8888888888888888, \"#fdca26\"], [1.0, \"#f0f921\"]], \"type\": \"heatmap\"}], \"heatmapgl\": [{\"colorbar\": {\"outlinewidth\": 0, \"ticks\": \"\"}, \"colorscale\": [[0.0, \"#0d0887\"], [0.1111111111111111, \"#46039f\"], [0.2222222222222222, \"#7201a8\"], [0.3333333333333333, \"#9c179e\"], [0.4444444444444444, \"#bd3786\"], [0.5555555555555556, \"#d8576b\"], [0.6666666666666666, \"#ed7953\"], [0.7777777777777778, \"#fb9f3a\"], [0.8888888888888888, \"#fdca26\"], [1.0, \"#f0f921\"]], \"type\": \"heatmapgl\"}], \"histogram\": [{\"marker\": {\"colorbar\": {\"outlinewidth\": 0, \"ticks\": \"\"}}, \"type\": \"histogram\"}], \"histogram2d\": [{\"colorbar\": {\"outlinewidth\": 0, \"ticks\": \"\"}, \"colorscale\": [[0.0, \"#0d0887\"], [0.1111111111111111, \"#46039f\"], [0.2222222222222222, \"#7201a8\"], [0.3333333333333333, \"#9c179e\"], [0.4444444444444444, \"#bd3786\"], [0.5555555555555556, \"#d8576b\"], [0.6666666666666666, \"#ed7953\"], [0.7777777777777778, \"#fb9f3a\"], [0.8888888888888888, \"#fdca26\"], [1.0, \"#f0f921\"]], \"type\": \"histogram2d\"}], \"histogram2dcontour\": [{\"colorbar\": {\"outlinewidth\": 0, \"ticks\": \"\"}, \"colorscale\": [[0.0, \"#0d0887\"], [0.1111111111111111, \"#46039f\"], [0.2222222222222222, \"#7201a8\"], [0.3333333333333333, \"#9c179e\"], [0.4444444444444444, \"#bd3786\"], [0.5555555555555556, \"#d8576b\"], [0.6666666666666666, \"#ed7953\"], [0.7777777777777778, \"#fb9f3a\"], [0.8888888888888888, \"#fdca26\"], [1.0, \"#f0f921\"]], \"type\": \"histogram2dcontour\"}], \"mesh3d\": [{\"colorbar\": {\"outlinewidth\": 0, \"ticks\": \"\"}, \"type\": \"mesh3d\"}], \"parcoords\": [{\"line\": {\"colorbar\": {\"outlinewidth\": 0, \"ticks\": \"\"}}, \"type\": \"parcoords\"}], \"pie\": [{\"automargin\": true, \"type\": \"pie\"}], \"scatter\": [{\"marker\": {\"colorbar\": {\"outlinewidth\": 0, \"ticks\": \"\"}}, \"type\": \"scatter\"}], \"scatter3d\": [{\"line\": {\"colorbar\": {\"outlinewidth\": 0, \"ticks\": \"\"}}, \"marker\": {\"colorbar\": {\"outlinewidth\": 0, \"ticks\": \"\"}}, \"type\": \"scatter3d\"}], \"scattercarpet\": [{\"marker\": {\"colorbar\": {\"outlinewidth\": 0, \"ticks\": \"\"}}, \"type\": \"scattercarpet\"}], \"scattergeo\": [{\"marker\": {\"colorbar\": {\"outlinewidth\": 0, \"ticks\": \"\"}}, \"type\": \"scattergeo\"}], \"scattergl\": [{\"marker\": {\"colorbar\": {\"outlinewidth\": 0, \"ticks\": \"\"}}, \"type\": \"scattergl\"}], \"scattermapbox\": [{\"marker\": {\"colorbar\": {\"outlinewidth\": 0, \"ticks\": \"\"}}, \"type\": \"scattermapbox\"}], \"scatterpolar\": [{\"marker\": {\"colorbar\": {\"outlinewidth\": 0, \"ticks\": \"\"}}, \"type\": \"scatterpolar\"}], \"scatterpolargl\": [{\"marker\": {\"colorbar\": {\"outlinewidth\": 0, \"ticks\": \"\"}}, \"type\": \"scatterpolargl\"}], \"scatterternary\": [{\"marker\": {\"colorbar\": {\"outlinewidth\": 0, \"ticks\": \"\"}}, \"type\": \"scatterternary\"}], \"surface\": [{\"colorbar\": {\"outlinewidth\": 0, \"ticks\": \"\"}, \"colorscale\": [[0.0, \"#0d0887\"], [0.1111111111111111, \"#46039f\"], [0.2222222222222222, \"#7201a8\"], [0.3333333333333333, \"#9c179e\"], [0.4444444444444444, \"#bd3786\"], [0.5555555555555556, \"#d8576b\"], [0.6666666666666666, \"#ed7953\"], [0.7777777777777778, \"#fb9f3a\"], [0.8888888888888888, \"#fdca26\"], [1.0, \"#f0f921\"]], \"type\": \"surface\"}], \"table\": [{\"cells\": {\"fill\": {\"color\": \"#EBF0F8\"}, \"line\": {\"color\": \"white\"}}, \"header\": {\"fill\": {\"color\": \"#C8D4E3\"}, \"line\": {\"color\": \"white\"}}, \"type\": \"table\"}]}, \"layout\": {\"annotationdefaults\": {\"arrowcolor\": \"#2a3f5f\", \"arrowhead\": 0, \"arrowwidth\": 1}, \"coloraxis\": {\"colorbar\": {\"outlinewidth\": 0, \"ticks\": \"\"}}, \"colorscale\": {\"diverging\": [[0, \"#8e0152\"], [0.1, \"#c51b7d\"], [0.2, \"#de77ae\"], [0.3, \"#f1b6da\"], [0.4, \"#fde0ef\"], [0.5, \"#f7f7f7\"], [0.6, \"#e6f5d0\"], [0.7, \"#b8e186\"], [0.8, \"#7fbc41\"], [0.9, \"#4d9221\"], [1, \"#276419\"]], \"sequential\": [[0.0, \"#0d0887\"], [0.1111111111111111, \"#46039f\"], [0.2222222222222222, \"#7201a8\"], [0.3333333333333333, \"#9c179e\"], [0.4444444444444444, \"#bd3786\"], [0.5555555555555556, \"#d8576b\"], [0.6666666666666666, \"#ed7953\"], [0.7777777777777778, \"#fb9f3a\"], [0.8888888888888888, \"#fdca26\"], [1.0, \"#f0f921\"]], \"sequentialminus\": [[0.0, \"#0d0887\"], [0.1111111111111111, \"#46039f\"], [0.2222222222222222, \"#7201a8\"], [0.3333333333333333, \"#9c179e\"], [0.4444444444444444, \"#bd3786\"], [0.5555555555555556, \"#d8576b\"], [0.6666666666666666, \"#ed7953\"], [0.7777777777777778, \"#fb9f3a\"], [0.8888888888888888, \"#fdca26\"], [1.0, \"#f0f921\"]]}, \"colorway\": [\"#636efa\", \"#EF553B\", \"#00cc96\", \"#ab63fa\", \"#FFA15A\", \"#19d3f3\", \"#FF6692\", \"#B6E880\", \"#FF97FF\", \"#FECB52\"], \"font\": {\"color\": \"#2a3f5f\"}, \"geo\": {\"bgcolor\": \"white\", \"lakecolor\": \"white\", \"landcolor\": \"#E5ECF6\", \"showlakes\": true, \"showland\": true, \"subunitcolor\": \"white\"}, \"hoverlabel\": {\"align\": \"left\"}, \"hovermode\": \"closest\", \"mapbox\": {\"style\": \"light\"}, \"paper_bgcolor\": \"white\", \"plot_bgcolor\": \"#E5ECF6\", \"polar\": {\"angularaxis\": {\"gridcolor\": \"white\", \"linecolor\": \"white\", \"ticks\": \"\"}, \"bgcolor\": \"#E5ECF6\", \"radialaxis\": {\"gridcolor\": \"white\", \"linecolor\": \"white\", \"ticks\": \"\"}}, \"scene\": {\"xaxis\": {\"backgroundcolor\": \"#E5ECF6\", \"gridcolor\": \"white\", \"gridwidth\": 2, \"linecolor\": \"white\", \"showbackground\": true, \"ticks\": \"\", \"zerolinecolor\": \"white\"}, \"yaxis\": {\"backgroundcolor\": \"#E5ECF6\", \"gridcolor\": \"white\", \"gridwidth\": 2, \"linecolor\": \"white\", \"showbackground\": true, \"ticks\": \"\", \"zerolinecolor\": \"white\"}, \"zaxis\": {\"backgroundcolor\": \"#E5ECF6\", \"gridcolor\": \"white\", \"gridwidth\": 2, \"linecolor\": \"white\", \"showbackground\": true, \"ticks\": \"\", \"zerolinecolor\": \"white\"}}, \"shapedefaults\": {\"line\": {\"color\": \"#2a3f5f\"}}, \"ternary\": {\"aaxis\": {\"gridcolor\": \"white\", \"linecolor\": \"white\", \"ticks\": \"\"}, \"baxis\": {\"gridcolor\": \"white\", \"linecolor\": \"white\", \"ticks\": \"\"}, \"bgcolor\": \"#E5ECF6\", \"caxis\": {\"gridcolor\": \"white\", \"linecolor\": \"white\", \"ticks\": \"\"}}, \"title\": {\"x\": 0.05}, \"xaxis\": {\"automargin\": true, \"gridcolor\": \"white\", \"linecolor\": \"white\", \"ticks\": \"\", \"title\": {\"standoff\": 15}, \"zerolinecolor\": \"white\", \"zerolinewidth\": 2}, \"yaxis\": {\"automargin\": true, \"gridcolor\": \"white\", \"linecolor\": \"white\", \"ticks\": \"\", \"title\": {\"standoff\": 15}, \"zerolinecolor\": \"white\", \"zerolinewidth\": 2}}}, \"xaxis\": {\"title\": {\"text\": \"Poll stations\"}}, \"yaxis\": {\"title\": {\"text\": \"Voters\"}}},\n",
       "                        {\"responsive\": true}\n",
       "                    ).then(function(){\n",
       "                            \n",
       "var gd = document.getElementById('39e60276-98d4-4344-bcca-80c38899e32a');\n",
       "var x = new MutationObserver(function (mutations, observer) {{\n",
       "        var display = window.getComputedStyle(gd).display;\n",
       "        if (!display || display === 'none') {{\n",
       "            console.log([gd, 'removed!']);\n",
       "            Plotly.purge(gd);\n",
       "            observer.disconnect();\n",
       "        }}\n",
       "}});\n",
       "\n",
       "// Listen for the removal of the full notebook cells\n",
       "var notebookContainer = gd.closest('#notebook-container');\n",
       "if (notebookContainer) {{\n",
       "    x.observe(notebookContainer, {childList: true});\n",
       "}}\n",
       "\n",
       "// Listen for the clearing of the current output cell\n",
       "var outputEl = gd.closest('.output');\n",
       "if (outputEl) {{\n",
       "    x.observe(outputEl, {childList: true});\n",
       "}}\n",
       "\n",
       "                        })\n",
       "                };\n",
       "                });\n",
       "            </script>\n",
       "        </div>"
      ]
     },
     "metadata": {},
     "output_type": "display_data"
    }
   ],
   "source": [
    "fig = Figure()\n",
    "\n",
    "mask = (\n",
    "    (df['officialVotes'] > 0) &\n",
    "    (df['officialVoters'] > 0)\n",
    ")\n",
    "\n",
    "for area in areas:\n",
    "    data = df[mask & (df['area'] == area)]\n",
    "    fig.add_trace(Scatter(\n",
    "        x=np.arange(len(data)), \n",
    "        y=data['officialVoters'],\n",
    "        mode='markers',\n",
    "        name=area,\n",
    "        text=data['region'],\n",
    "    ))\n",
    "\n",
    "fig.update_xaxes(title='Poll stations')\n",
    "fig.update_yaxes(title='Voters')\n",
    "\n",
    "\n",
    "fig.show()"
   ]
  },
  {
   "cell_type": "code",
   "execution_count": 66,
   "metadata": {},
   "outputs": [],
   "source": [
    "def turnout_to_luk(area):\n",
    "    fig = Figure(layout_title=f'Turnout to Lukashenko votes ({area})')\n",
    "\n",
    "    mask = (\n",
    "        (df['area'] == area) &\n",
    "        (df['officialVotes'] > 0) &\n",
    "        (df['officialVoters'] > 0)\n",
    "    )\n",
    "    \n",
    "    for region in range(1, 9):\n",
    "        data = df[mask & (df['region'] == region)]\n",
    "        \n",
    "        fig.add_trace(Scatter(\n",
    "            x=data['officialVotes'] / data['officialVoters'], \n",
    "            y=data['lukashenko_officialVotes'] / data['officialVotes'],\n",
    "            mode='markers',\n",
    "            name=f'{region}',\n",
    "            text=data['id'],\n",
    "        ))\n",
    "        \n",
    "    fig.update_xaxes(title='Turnout')\n",
    "    fig.update_yaxes(title='Luk %')\n",
    "\n",
    "\n",
    "    fig.show()"
   ]
  },
  {
   "cell_type": "code",
   "execution_count": 95,
   "metadata": {},
   "outputs": [
    {
     "data": {
      "application/vnd.plotly.v1+json": {
       "config": {
        "plotlyServerURL": "https://plot.ly"
       },
       "data": [
        {
         "mode": "markers",
         "name": "1",
         "text": [
          "01-049-0030",
          "01-050-0011",
          "01-053-0021",
          "01-054-0010",
          "01-054-0026",
          "01-054-0043",
          "01-055-0010",
          "01-055-0017",
          "01-056-0021",
          "01-056-0024",
          "01-056-0043",
          "01-056-0048",
          "01-057-0025",
          "01-057-0037",
          "01-058-0008",
          "01-063-0015",
          "01-063-0021",
          "01-063-0049",
          "01-142-0002"
         ],
         "type": "scatter",
         "x": [
          0.9824732229795521,
          0.8622754491017964,
          0.9515151515151515,
          0.9090277777777778,
          0.9060773480662984,
          0.9209183673469388,
          0.8931185944363104,
          0.9484536082474226,
          0.746031746031746,
          0.9154013015184381,
          0.8898916967509025,
          0.9610655737704918,
          0.8468025298664793,
          0.936036036036036,
          0.8637931034482759,
          0.9180873180873181,
          0.9226914817465999,
          0.826,
          0.9029900332225914
         ],
         "y": [
          0.4380574826560951,
          0.6875,
          0.4585987261146497,
          0.6982429335370511,
          0.6707317073170732,
          0.5974145891043398,
          0.6377049180327868,
          0.5271739130434783,
          0.46421663442940037,
          0.5710900473933649,
          0.6815415821501014,
          0.5362473347547975,
          0.6514522821576764,
          0.7680461982675649,
          0.6327345309381237,
          0.7223731884057971,
          0.8921644685802949,
          0.7058111380145279,
          0.3833701250919794
         ]
        },
        {
         "mode": "markers",
         "name": "2",
         "text": [
          "02-065-0015",
          "02-066-0013",
          "02-067-0010",
          "02-067-0015",
          "02-068-0013",
          "02-069-0005",
          "02-069-0006",
          "02-071-0015",
          "02-072-0011",
          "02-075-0075",
          "02-076-0039",
          "02-076-0040",
          "02-077-0016",
          "02-077-0019",
          "02-078-0008",
          "02-143-0008",
          "02-143-0009"
         ],
         "type": "scatter",
         "x": [
          0.9904397705544933,
          0.9150943396226415,
          0.9184466019417475,
          0.9024390243902439,
          1,
          0.9546218487394958,
          0.9370212765957446,
          0.8246869409660107,
          0.8388625592417062,
          0.9008695652173913,
          0.9443254817987152,
          0.9334637964774951,
          0.8298662704309064,
          0.830423940149626,
          0.9057071960297767,
          0.8364611260053619,
          0.9072978303747534
         ],
         "y": [
          0.4768339768339768,
          0.770618556701031,
          0.6448202959830867,
          0.7510668563300142,
          0.8676470588235294,
          0.511443661971831,
          0.47229791099000906,
          0.8308026030368764,
          0.5612052730696798,
          0.8352638352638353,
          0.8367346938775511,
          0.8364779874213837,
          0.55863921217547,
          0.3893893893893894,
          0.9082191780821918,
          0.7435897435897436,
          0.741304347826087
         ]
        },
        {
         "mode": "markers",
         "name": "3",
         "text": [
          "03-085-0009",
          "03-087-0009",
          "03-088-0027",
          "03-091-0036",
          "03-091-0043",
          "03-091-0046",
          "03-091-0047",
          "03-091-0048",
          "03-096-0058",
          "03-100-0045",
          "03-100-0057",
          "03-101-0029",
          "03-101-0036",
          "03-101-0037"
         ],
         "type": "scatter",
         "x": [
          0.9842105263157894,
          0.938257993384785,
          0.9519725557461407,
          0.742014742014742,
          0.8244766505636071,
          0.8200537153088631,
          0.8034285714285714,
          0.7724252491694352,
          0.9506172839506173,
          0.9839357429718876,
          0.9026402640264026,
          0.7215619694397284,
          0.888,
          0.8177496038034865
         ],
         "y": [
          0.9251336898395722,
          0.8965922444183314,
          0.7405405405405405,
          0.47516556291390727,
          0.552734375,
          0.5131004366812227,
          0.5689900426742532,
          0.5634408602150538,
          0.6406926406926406,
          0.8,
          0.5374771480804388,
          0.6658823529411765,
          0.4924924924924925,
          0.38953488372093026
         ]
        },
        {
         "mode": "markers",
         "name": "4",
         "text": [
          "04-105-0011",
          "04-110-0013",
          "04-112-0054",
          "04-112-0055",
          "04-112-0059",
          "04-112-0064",
          "04-112-0065",
          "04-114-0018",
          "04-114-0028",
          "04-117-0011",
          "04-117-0014",
          "04-119-0024",
          "04-119-0029",
          "04-145-0023",
          "04-145-0024"
         ],
         "type": "scatter",
         "x": [
          0.9446902654867256,
          0.9491279069767442,
          0.7196382428940569,
          0.83203125,
          0.8811881188118812,
          0.8234660925726588,
          0.8426150121065376,
          0.9392655367231638,
          0.8872017353579176,
          0.960880195599022,
          0.9717912552891397,
          0.7903846153846154,
          0.9067398119122257,
          0.9384615384615385,
          0.9429559204840103
         ],
         "y": [
          0.6042154566744731,
          0.5849923430321593,
          0.4156193895870736,
          0.4072769953051643,
          0.6193820224719101,
          0.4130718954248366,
          0.5100574712643678,
          0.7203007518796992,
          0.6393643031784841,
          0.6106870229007634,
          0.7358490566037735,
          0.5608272506082725,
          0.5972342264477096,
          0.5841242450388265,
          0.5114573785517873
         ]
        },
        {
         "mode": "markers",
         "name": "5",
         "text": [
          "05-026-0068",
          "05-026-0087",
          "05-027-0001",
          "05-027-0018",
          "05-027-0023",
          "05-029-0018",
          "05-029-0025",
          "05-029-0034",
          "05-034-0014",
          "05-034-0019",
          "05-036-0039",
          "05-036-0044",
          "05-037-0016",
          "05-038-0014",
          "05-038-0032",
          "05-039-0005",
          "05-039-0007",
          "05-039-0009",
          "05-039-0010",
          "05-039-0011",
          "05-039-0012",
          "05-039-0028",
          "05-040-0063",
          "05-041-0011",
          "05-041-0012",
          "05-041-0022",
          "05-041-0026",
          "05-041-0028",
          "05-041-0030",
          "05-041-0032",
          "05-042-0041",
          "05-042-0050",
          "05-042-0056",
          "05-042-0062",
          "05-043-0005",
          "05-044-0010",
          "05-044-0025",
          "05-045-0010",
          "05-045-0012",
          "05-045-0014",
          "05-045-0018",
          "05-046-0022",
          "05-141-0030",
          "05-141-0031",
          "05-141-0032",
          "05-141-0033",
          "05-141-0058",
          "05-141-0060",
          "05-141-0061",
          "05-141-0062",
          "05-141-0063",
          "05-141-0070",
          "05-141-0071",
          "05-141-0080",
          "05-141-0081",
          "05-141-0082",
          "05-141-0083",
          "05-141-0089",
          "05-141-0102",
          "05-141-0103",
          "05-141-0108"
         ],
         "type": "scatter",
         "x": [
          0.6898954703832753,
          0.7800490596892886,
          0.959349593495935,
          0.8029850746268656,
          0.9207108680792891,
          0.7298311444652908,
          0.7669376693766937,
          0.808532249873032,
          0.9076212471131639,
          0.8195020746887967,
          0.8776859504132232,
          0.7019108280254777,
          0.8676140613313388,
          0.9541446208112875,
          0.8327847267939433,
          0.9039755351681957,
          0.7983565107458913,
          0.7141887304820095,
          0.7531319086219602,
          0.6203830369357045,
          0.9208770257387988,
          0.877742946708464,
          0.8566392479435958,
          0.8892703862660944,
          0.8851590106007067,
          0.9908409658617818,
          0.8167053364269141,
          0.9822443181818182,
          0.6930946291560103,
          0.8795847750865052,
          0.9296482412060302,
          0.8539325842696629,
          0.8898876404494382,
          0.9325236167341431,
          0.8675424192665572,
          0.8304383788254756,
          0.8324937027707808,
          0.9606164383561644,
          0.961038961038961,
          0.9642201834862385,
          0.903179190751445,
          0.8073089700996677,
          0.7388978063135366,
          0.8256624825662483,
          0.8614045991298943,
          0.8223938223938224,
          0.8299139642620781,
          0.7874116891457932,
          0.7491571139581928,
          0.6948024948024948,
          0.7405405405405405,
          0.6544633901705116,
          0.6476476476476476,
          0.6461769115442278,
          0.6917740336967294,
          0.8593117408906883,
          0.8051434223541049,
          0.8381834215167548,
          0.7853535353535354,
          0.7414285714285714,
          0.7509727626459144
         ],
         "y": [
          0.6893939393939394,
          0.7526205450733753,
          0.7033898305084746,
          0.4423791821561338,
          0.6362286562731997,
          0.6041131105398457,
          0.6024734982332155,
          0.6802763819095478,
          0.7251908396946565,
          0.4481012658227848,
          0.6694915254237288,
          0.6225045372050817,
          0.5327586206896552,
          0.7689463955637708,
          0.8047430830039526,
          0.4912043301759134,
          0.6049089469517023,
          0.529467680608365,
          0.6115459882583171,
          0.29437706725468576,
          0.7080745341614907,
          0.6535714285714286,
          0.4787379972565158,
          0.8146718146718147,
          0.5668662674650699,
          0.49495798319327733,
          0.7755681818181818,
          0.5162689804772235,
          0.34317343173431736,
          0.6860739575137687,
          0.372972972972973,
          0.506578947368421,
          0.7045454545454546,
          0.6657018813314037,
          0.6757097791798107,
          0.5099601593625498,
          0.518910741301059,
          0.8377896613190731,
          0.4189189189189189,
          0.5461465271170314,
          0.6272,
          0.46021947873799723,
          0.5517740767559739,
          0.40709459459459457,
          0.7121212121212122,
          0.5880281690140845,
          0.47767145135566186,
          0.5538336052202284,
          0.49684968496849685,
          0.37043686415320165,
          0.724087591240876,
          0.2467432950191571,
          0.5718701700154559,
          0.3248259860788863,
          0.30945558739255014,
          0.6136631330977621,
          0.7444717444717445,
          0.5476065228826933,
          0.702572347266881,
          0.48940269749518306,
          0.7081174438687392
         ]
        },
        {
         "mode": "markers",
         "name": "6",
         "text": [
          "06-121-0006",
          "06-135-0020",
          "06-135-0025",
          "06-146-0008",
          "06-146-0024"
         ],
         "type": "scatter",
         "x": [
          0.8974522292993631,
          0.9900621118012423,
          0.9300126103404792,
          0.8044914134742405,
          0.8687106918238994
         ],
         "y": [
          0.8346344925479063,
          0.7189460476787954,
          0.7396610169491525,
          0.47126436781609193,
          0.6524886877828054
         ]
        },
        {
         "mode": "markers",
         "name": "7",
         "text": [],
         "type": "scatter",
         "x": [],
         "y": []
        },
        {
         "mode": "markers",
         "name": "8",
         "text": [],
         "type": "scatter",
         "x": [],
         "y": []
        }
       ],
       "layout": {
        "template": {
         "data": {
          "bar": [
           {
            "error_x": {
             "color": "#2a3f5f"
            },
            "error_y": {
             "color": "#2a3f5f"
            },
            "marker": {
             "line": {
              "color": "#E5ECF6",
              "width": 0.5
             }
            },
            "type": "bar"
           }
          ],
          "barpolar": [
           {
            "marker": {
             "line": {
              "color": "#E5ECF6",
              "width": 0.5
             }
            },
            "type": "barpolar"
           }
          ],
          "carpet": [
           {
            "aaxis": {
             "endlinecolor": "#2a3f5f",
             "gridcolor": "white",
             "linecolor": "white",
             "minorgridcolor": "white",
             "startlinecolor": "#2a3f5f"
            },
            "baxis": {
             "endlinecolor": "#2a3f5f",
             "gridcolor": "white",
             "linecolor": "white",
             "minorgridcolor": "white",
             "startlinecolor": "#2a3f5f"
            },
            "type": "carpet"
           }
          ],
          "choropleth": [
           {
            "colorbar": {
             "outlinewidth": 0,
             "ticks": ""
            },
            "type": "choropleth"
           }
          ],
          "contour": [
           {
            "colorbar": {
             "outlinewidth": 0,
             "ticks": ""
            },
            "colorscale": [
             [
              0,
              "#0d0887"
             ],
             [
              0.1111111111111111,
              "#46039f"
             ],
             [
              0.2222222222222222,
              "#7201a8"
             ],
             [
              0.3333333333333333,
              "#9c179e"
             ],
             [
              0.4444444444444444,
              "#bd3786"
             ],
             [
              0.5555555555555556,
              "#d8576b"
             ],
             [
              0.6666666666666666,
              "#ed7953"
             ],
             [
              0.7777777777777778,
              "#fb9f3a"
             ],
             [
              0.8888888888888888,
              "#fdca26"
             ],
             [
              1,
              "#f0f921"
             ]
            ],
            "type": "contour"
           }
          ],
          "contourcarpet": [
           {
            "colorbar": {
             "outlinewidth": 0,
             "ticks": ""
            },
            "type": "contourcarpet"
           }
          ],
          "heatmap": [
           {
            "colorbar": {
             "outlinewidth": 0,
             "ticks": ""
            },
            "colorscale": [
             [
              0,
              "#0d0887"
             ],
             [
              0.1111111111111111,
              "#46039f"
             ],
             [
              0.2222222222222222,
              "#7201a8"
             ],
             [
              0.3333333333333333,
              "#9c179e"
             ],
             [
              0.4444444444444444,
              "#bd3786"
             ],
             [
              0.5555555555555556,
              "#d8576b"
             ],
             [
              0.6666666666666666,
              "#ed7953"
             ],
             [
              0.7777777777777778,
              "#fb9f3a"
             ],
             [
              0.8888888888888888,
              "#fdca26"
             ],
             [
              1,
              "#f0f921"
             ]
            ],
            "type": "heatmap"
           }
          ],
          "heatmapgl": [
           {
            "colorbar": {
             "outlinewidth": 0,
             "ticks": ""
            },
            "colorscale": [
             [
              0,
              "#0d0887"
             ],
             [
              0.1111111111111111,
              "#46039f"
             ],
             [
              0.2222222222222222,
              "#7201a8"
             ],
             [
              0.3333333333333333,
              "#9c179e"
             ],
             [
              0.4444444444444444,
              "#bd3786"
             ],
             [
              0.5555555555555556,
              "#d8576b"
             ],
             [
              0.6666666666666666,
              "#ed7953"
             ],
             [
              0.7777777777777778,
              "#fb9f3a"
             ],
             [
              0.8888888888888888,
              "#fdca26"
             ],
             [
              1,
              "#f0f921"
             ]
            ],
            "type": "heatmapgl"
           }
          ],
          "histogram": [
           {
            "marker": {
             "colorbar": {
              "outlinewidth": 0,
              "ticks": ""
             }
            },
            "type": "histogram"
           }
          ],
          "histogram2d": [
           {
            "colorbar": {
             "outlinewidth": 0,
             "ticks": ""
            },
            "colorscale": [
             [
              0,
              "#0d0887"
             ],
             [
              0.1111111111111111,
              "#46039f"
             ],
             [
              0.2222222222222222,
              "#7201a8"
             ],
             [
              0.3333333333333333,
              "#9c179e"
             ],
             [
              0.4444444444444444,
              "#bd3786"
             ],
             [
              0.5555555555555556,
              "#d8576b"
             ],
             [
              0.6666666666666666,
              "#ed7953"
             ],
             [
              0.7777777777777778,
              "#fb9f3a"
             ],
             [
              0.8888888888888888,
              "#fdca26"
             ],
             [
              1,
              "#f0f921"
             ]
            ],
            "type": "histogram2d"
           }
          ],
          "histogram2dcontour": [
           {
            "colorbar": {
             "outlinewidth": 0,
             "ticks": ""
            },
            "colorscale": [
             [
              0,
              "#0d0887"
             ],
             [
              0.1111111111111111,
              "#46039f"
             ],
             [
              0.2222222222222222,
              "#7201a8"
             ],
             [
              0.3333333333333333,
              "#9c179e"
             ],
             [
              0.4444444444444444,
              "#bd3786"
             ],
             [
              0.5555555555555556,
              "#d8576b"
             ],
             [
              0.6666666666666666,
              "#ed7953"
             ],
             [
              0.7777777777777778,
              "#fb9f3a"
             ],
             [
              0.8888888888888888,
              "#fdca26"
             ],
             [
              1,
              "#f0f921"
             ]
            ],
            "type": "histogram2dcontour"
           }
          ],
          "mesh3d": [
           {
            "colorbar": {
             "outlinewidth": 0,
             "ticks": ""
            },
            "type": "mesh3d"
           }
          ],
          "parcoords": [
           {
            "line": {
             "colorbar": {
              "outlinewidth": 0,
              "ticks": ""
             }
            },
            "type": "parcoords"
           }
          ],
          "pie": [
           {
            "automargin": true,
            "type": "pie"
           }
          ],
          "scatter": [
           {
            "marker": {
             "colorbar": {
              "outlinewidth": 0,
              "ticks": ""
             }
            },
            "type": "scatter"
           }
          ],
          "scatter3d": [
           {
            "line": {
             "colorbar": {
              "outlinewidth": 0,
              "ticks": ""
             }
            },
            "marker": {
             "colorbar": {
              "outlinewidth": 0,
              "ticks": ""
             }
            },
            "type": "scatter3d"
           }
          ],
          "scattercarpet": [
           {
            "marker": {
             "colorbar": {
              "outlinewidth": 0,
              "ticks": ""
             }
            },
            "type": "scattercarpet"
           }
          ],
          "scattergeo": [
           {
            "marker": {
             "colorbar": {
              "outlinewidth": 0,
              "ticks": ""
             }
            },
            "type": "scattergeo"
           }
          ],
          "scattergl": [
           {
            "marker": {
             "colorbar": {
              "outlinewidth": 0,
              "ticks": ""
             }
            },
            "type": "scattergl"
           }
          ],
          "scattermapbox": [
           {
            "marker": {
             "colorbar": {
              "outlinewidth": 0,
              "ticks": ""
             }
            },
            "type": "scattermapbox"
           }
          ],
          "scatterpolar": [
           {
            "marker": {
             "colorbar": {
              "outlinewidth": 0,
              "ticks": ""
             }
            },
            "type": "scatterpolar"
           }
          ],
          "scatterpolargl": [
           {
            "marker": {
             "colorbar": {
              "outlinewidth": 0,
              "ticks": ""
             }
            },
            "type": "scatterpolargl"
           }
          ],
          "scatterternary": [
           {
            "marker": {
             "colorbar": {
              "outlinewidth": 0,
              "ticks": ""
             }
            },
            "type": "scatterternary"
           }
          ],
          "surface": [
           {
            "colorbar": {
             "outlinewidth": 0,
             "ticks": ""
            },
            "colorscale": [
             [
              0,
              "#0d0887"
             ],
             [
              0.1111111111111111,
              "#46039f"
             ],
             [
              0.2222222222222222,
              "#7201a8"
             ],
             [
              0.3333333333333333,
              "#9c179e"
             ],
             [
              0.4444444444444444,
              "#bd3786"
             ],
             [
              0.5555555555555556,
              "#d8576b"
             ],
             [
              0.6666666666666666,
              "#ed7953"
             ],
             [
              0.7777777777777778,
              "#fb9f3a"
             ],
             [
              0.8888888888888888,
              "#fdca26"
             ],
             [
              1,
              "#f0f921"
             ]
            ],
            "type": "surface"
           }
          ],
          "table": [
           {
            "cells": {
             "fill": {
              "color": "#EBF0F8"
             },
             "line": {
              "color": "white"
             }
            },
            "header": {
             "fill": {
              "color": "#C8D4E3"
             },
             "line": {
              "color": "white"
             }
            },
            "type": "table"
           }
          ]
         },
         "layout": {
          "annotationdefaults": {
           "arrowcolor": "#2a3f5f",
           "arrowhead": 0,
           "arrowwidth": 1
          },
          "coloraxis": {
           "colorbar": {
            "outlinewidth": 0,
            "ticks": ""
           }
          },
          "colorscale": {
           "diverging": [
            [
             0,
             "#8e0152"
            ],
            [
             0.1,
             "#c51b7d"
            ],
            [
             0.2,
             "#de77ae"
            ],
            [
             0.3,
             "#f1b6da"
            ],
            [
             0.4,
             "#fde0ef"
            ],
            [
             0.5,
             "#f7f7f7"
            ],
            [
             0.6,
             "#e6f5d0"
            ],
            [
             0.7,
             "#b8e186"
            ],
            [
             0.8,
             "#7fbc41"
            ],
            [
             0.9,
             "#4d9221"
            ],
            [
             1,
             "#276419"
            ]
           ],
           "sequential": [
            [
             0,
             "#0d0887"
            ],
            [
             0.1111111111111111,
             "#46039f"
            ],
            [
             0.2222222222222222,
             "#7201a8"
            ],
            [
             0.3333333333333333,
             "#9c179e"
            ],
            [
             0.4444444444444444,
             "#bd3786"
            ],
            [
             0.5555555555555556,
             "#d8576b"
            ],
            [
             0.6666666666666666,
             "#ed7953"
            ],
            [
             0.7777777777777778,
             "#fb9f3a"
            ],
            [
             0.8888888888888888,
             "#fdca26"
            ],
            [
             1,
             "#f0f921"
            ]
           ],
           "sequentialminus": [
            [
             0,
             "#0d0887"
            ],
            [
             0.1111111111111111,
             "#46039f"
            ],
            [
             0.2222222222222222,
             "#7201a8"
            ],
            [
             0.3333333333333333,
             "#9c179e"
            ],
            [
             0.4444444444444444,
             "#bd3786"
            ],
            [
             0.5555555555555556,
             "#d8576b"
            ],
            [
             0.6666666666666666,
             "#ed7953"
            ],
            [
             0.7777777777777778,
             "#fb9f3a"
            ],
            [
             0.8888888888888888,
             "#fdca26"
            ],
            [
             1,
             "#f0f921"
            ]
           ]
          },
          "colorway": [
           "#636efa",
           "#EF553B",
           "#00cc96",
           "#ab63fa",
           "#FFA15A",
           "#19d3f3",
           "#FF6692",
           "#B6E880",
           "#FF97FF",
           "#FECB52"
          ],
          "font": {
           "color": "#2a3f5f"
          },
          "geo": {
           "bgcolor": "white",
           "lakecolor": "white",
           "landcolor": "#E5ECF6",
           "showlakes": true,
           "showland": true,
           "subunitcolor": "white"
          },
          "hoverlabel": {
           "align": "left"
          },
          "hovermode": "closest",
          "mapbox": {
           "style": "light"
          },
          "paper_bgcolor": "white",
          "plot_bgcolor": "#E5ECF6",
          "polar": {
           "angularaxis": {
            "gridcolor": "white",
            "linecolor": "white",
            "ticks": ""
           },
           "bgcolor": "#E5ECF6",
           "radialaxis": {
            "gridcolor": "white",
            "linecolor": "white",
            "ticks": ""
           }
          },
          "scene": {
           "xaxis": {
            "backgroundcolor": "#E5ECF6",
            "gridcolor": "white",
            "gridwidth": 2,
            "linecolor": "white",
            "showbackground": true,
            "ticks": "",
            "zerolinecolor": "white"
           },
           "yaxis": {
            "backgroundcolor": "#E5ECF6",
            "gridcolor": "white",
            "gridwidth": 2,
            "linecolor": "white",
            "showbackground": true,
            "ticks": "",
            "zerolinecolor": "white"
           },
           "zaxis": {
            "backgroundcolor": "#E5ECF6",
            "gridcolor": "white",
            "gridwidth": 2,
            "linecolor": "white",
            "showbackground": true,
            "ticks": "",
            "zerolinecolor": "white"
           }
          },
          "shapedefaults": {
           "line": {
            "color": "#2a3f5f"
           }
          },
          "ternary": {
           "aaxis": {
            "gridcolor": "white",
            "linecolor": "white",
            "ticks": ""
           },
           "baxis": {
            "gridcolor": "white",
            "linecolor": "white",
            "ticks": ""
           },
           "bgcolor": "#E5ECF6",
           "caxis": {
            "gridcolor": "white",
            "linecolor": "white",
            "ticks": ""
           }
          },
          "title": {
           "x": 0.05
          },
          "xaxis": {
           "automargin": true,
           "gridcolor": "white",
           "linecolor": "white",
           "ticks": "",
           "title": {
            "standoff": 15
           },
           "zerolinecolor": "white",
           "zerolinewidth": 2
          },
          "yaxis": {
           "automargin": true,
           "gridcolor": "white",
           "linecolor": "white",
           "ticks": "",
           "title": {
            "standoff": 15
           },
           "zerolinecolor": "white",
           "zerolinewidth": 2
          }
         }
        },
        "title": {
         "text": "Turnout to Lukashenko votes (village)"
        },
        "xaxis": {
         "title": {
          "text": "Turnout"
         }
        },
        "yaxis": {
         "title": {
          "text": "Luk %"
         }
        }
       }
      },
      "text/html": [
       "<div>\n",
       "        \n",
       "        \n",
       "            <div id=\"57a4bac1-1c3d-41af-a864-cae7a6936f11\" class=\"plotly-graph-div\" style=\"height:525px; width:100%;\"></div>\n",
       "            <script type=\"text/javascript\">\n",
       "                require([\"plotly\"], function(Plotly) {\n",
       "                    window.PLOTLYENV=window.PLOTLYENV || {};\n",
       "                    \n",
       "                if (document.getElementById(\"57a4bac1-1c3d-41af-a864-cae7a6936f11\")) {\n",
       "                    Plotly.newPlot(\n",
       "                        '57a4bac1-1c3d-41af-a864-cae7a6936f11',\n",
       "                        [{\"mode\": \"markers\", \"name\": \"1\", \"text\": [\"01-049-0030\", \"01-050-0011\", \"01-053-0021\", \"01-054-0010\", \"01-054-0026\", \"01-054-0043\", \"01-055-0010\", \"01-055-0017\", \"01-056-0021\", \"01-056-0024\", \"01-056-0043\", \"01-056-0048\", \"01-057-0025\", \"01-057-0037\", \"01-058-0008\", \"01-063-0015\", \"01-063-0021\", \"01-063-0049\", \"01-142-0002\"], \"type\": \"scatter\", \"x\": [0.9824732229795521, 0.8622754491017964, 0.9515151515151515, 0.9090277777777778, 0.9060773480662984, 0.9209183673469388, 0.8931185944363104, 0.9484536082474226, 0.746031746031746, 0.9154013015184381, 0.8898916967509025, 0.9610655737704918, 0.8468025298664793, 0.936036036036036, 0.8637931034482759, 0.9180873180873181, 0.9226914817465999, 0.826, 0.9029900332225914], \"y\": [0.4380574826560951, 0.6875, 0.4585987261146497, 0.6982429335370511, 0.6707317073170732, 0.5974145891043398, 0.6377049180327868, 0.5271739130434783, 0.46421663442940037, 0.5710900473933649, 0.6815415821501014, 0.5362473347547975, 0.6514522821576764, 0.7680461982675649, 0.6327345309381237, 0.7223731884057971, 0.8921644685802949, 0.7058111380145279, 0.3833701250919794]}, {\"mode\": \"markers\", \"name\": \"2\", \"text\": [\"02-065-0015\", \"02-066-0013\", \"02-067-0010\", \"02-067-0015\", \"02-068-0013\", \"02-069-0005\", \"02-069-0006\", \"02-071-0015\", \"02-072-0011\", \"02-075-0075\", \"02-076-0039\", \"02-076-0040\", \"02-077-0016\", \"02-077-0019\", \"02-078-0008\", \"02-143-0008\", \"02-143-0009\"], \"type\": \"scatter\", \"x\": [0.9904397705544933, 0.9150943396226415, 0.9184466019417475, 0.9024390243902439, 1.0, 0.9546218487394958, 0.9370212765957446, 0.8246869409660107, 0.8388625592417062, 0.9008695652173913, 0.9443254817987152, 0.9334637964774951, 0.8298662704309064, 0.830423940149626, 0.9057071960297767, 0.8364611260053619, 0.9072978303747534], \"y\": [0.4768339768339768, 0.770618556701031, 0.6448202959830867, 0.7510668563300142, 0.8676470588235294, 0.511443661971831, 0.47229791099000906, 0.8308026030368764, 0.5612052730696798, 0.8352638352638353, 0.8367346938775511, 0.8364779874213837, 0.55863921217547, 0.3893893893893894, 0.9082191780821918, 0.7435897435897436, 0.741304347826087]}, {\"mode\": \"markers\", \"name\": \"3\", \"text\": [\"03-085-0009\", \"03-087-0009\", \"03-088-0027\", \"03-091-0036\", \"03-091-0043\", \"03-091-0046\", \"03-091-0047\", \"03-091-0048\", \"03-096-0058\", \"03-100-0045\", \"03-100-0057\", \"03-101-0029\", \"03-101-0036\", \"03-101-0037\"], \"type\": \"scatter\", \"x\": [0.9842105263157894, 0.938257993384785, 0.9519725557461407, 0.742014742014742, 0.8244766505636071, 0.8200537153088631, 0.8034285714285714, 0.7724252491694352, 0.9506172839506173, 0.9839357429718876, 0.9026402640264026, 0.7215619694397284, 0.888, 0.8177496038034865], \"y\": [0.9251336898395722, 0.8965922444183314, 0.7405405405405405, 0.47516556291390727, 0.552734375, 0.5131004366812227, 0.5689900426742532, 0.5634408602150538, 0.6406926406926406, 0.8, 0.5374771480804388, 0.6658823529411765, 0.4924924924924925, 0.38953488372093026]}, {\"mode\": \"markers\", \"name\": \"4\", \"text\": [\"04-105-0011\", \"04-110-0013\", \"04-112-0054\", \"04-112-0055\", \"04-112-0059\", \"04-112-0064\", \"04-112-0065\", \"04-114-0018\", \"04-114-0028\", \"04-117-0011\", \"04-117-0014\", \"04-119-0024\", \"04-119-0029\", \"04-145-0023\", \"04-145-0024\"], \"type\": \"scatter\", \"x\": [0.9446902654867256, 0.9491279069767442, 0.7196382428940569, 0.83203125, 0.8811881188118812, 0.8234660925726588, 0.8426150121065376, 0.9392655367231638, 0.8872017353579176, 0.960880195599022, 0.9717912552891397, 0.7903846153846154, 0.9067398119122257, 0.9384615384615385, 0.9429559204840103], \"y\": [0.6042154566744731, 0.5849923430321593, 0.4156193895870736, 0.4072769953051643, 0.6193820224719101, 0.4130718954248366, 0.5100574712643678, 0.7203007518796992, 0.6393643031784841, 0.6106870229007634, 0.7358490566037735, 0.5608272506082725, 0.5972342264477096, 0.5841242450388265, 0.5114573785517873]}, {\"mode\": \"markers\", \"name\": \"5\", \"text\": [\"05-026-0068\", \"05-026-0087\", \"05-027-0001\", \"05-027-0018\", \"05-027-0023\", \"05-029-0018\", \"05-029-0025\", \"05-029-0034\", \"05-034-0014\", \"05-034-0019\", \"05-036-0039\", \"05-036-0044\", \"05-037-0016\", \"05-038-0014\", \"05-038-0032\", \"05-039-0005\", \"05-039-0007\", \"05-039-0009\", \"05-039-0010\", \"05-039-0011\", \"05-039-0012\", \"05-039-0028\", \"05-040-0063\", \"05-041-0011\", \"05-041-0012\", \"05-041-0022\", \"05-041-0026\", \"05-041-0028\", \"05-041-0030\", \"05-041-0032\", \"05-042-0041\", \"05-042-0050\", \"05-042-0056\", \"05-042-0062\", \"05-043-0005\", \"05-044-0010\", \"05-044-0025\", \"05-045-0010\", \"05-045-0012\", \"05-045-0014\", \"05-045-0018\", \"05-046-0022\", \"05-141-0030\", \"05-141-0031\", \"05-141-0032\", \"05-141-0033\", \"05-141-0058\", \"05-141-0060\", \"05-141-0061\", \"05-141-0062\", \"05-141-0063\", \"05-141-0070\", \"05-141-0071\", \"05-141-0080\", \"05-141-0081\", \"05-141-0082\", \"05-141-0083\", \"05-141-0089\", \"05-141-0102\", \"05-141-0103\", \"05-141-0108\"], \"type\": \"scatter\", \"x\": [0.6898954703832753, 0.7800490596892886, 0.959349593495935, 0.8029850746268656, 0.9207108680792891, 0.7298311444652908, 0.7669376693766937, 0.808532249873032, 0.9076212471131639, 0.8195020746887967, 0.8776859504132232, 0.7019108280254777, 0.8676140613313388, 0.9541446208112875, 0.8327847267939433, 0.9039755351681957, 0.7983565107458913, 0.7141887304820095, 0.7531319086219602, 0.6203830369357045, 0.9208770257387988, 0.877742946708464, 0.8566392479435958, 0.8892703862660944, 0.8851590106007067, 0.9908409658617818, 0.8167053364269141, 0.9822443181818182, 0.6930946291560103, 0.8795847750865052, 0.9296482412060302, 0.8539325842696629, 0.8898876404494382, 0.9325236167341431, 0.8675424192665572, 0.8304383788254756, 0.8324937027707808, 0.9606164383561644, 0.961038961038961, 0.9642201834862385, 0.903179190751445, 0.8073089700996677, 0.7388978063135366, 0.8256624825662483, 0.8614045991298943, 0.8223938223938224, 0.8299139642620781, 0.7874116891457932, 0.7491571139581928, 0.6948024948024948, 0.7405405405405405, 0.6544633901705116, 0.6476476476476476, 0.6461769115442278, 0.6917740336967294, 0.8593117408906883, 0.8051434223541049, 0.8381834215167548, 0.7853535353535354, 0.7414285714285714, 0.7509727626459144], \"y\": [0.6893939393939394, 0.7526205450733753, 0.7033898305084746, 0.4423791821561338, 0.6362286562731997, 0.6041131105398457, 0.6024734982332155, 0.6802763819095478, 0.7251908396946565, 0.4481012658227848, 0.6694915254237288, 0.6225045372050817, 0.5327586206896552, 0.7689463955637708, 0.8047430830039526, 0.4912043301759134, 0.6049089469517023, 0.529467680608365, 0.6115459882583171, 0.29437706725468576, 0.7080745341614907, 0.6535714285714286, 0.4787379972565158, 0.8146718146718147, 0.5668662674650699, 0.49495798319327733, 0.7755681818181818, 0.5162689804772235, 0.34317343173431736, 0.6860739575137687, 0.372972972972973, 0.506578947368421, 0.7045454545454546, 0.6657018813314037, 0.6757097791798107, 0.5099601593625498, 0.518910741301059, 0.8377896613190731, 0.4189189189189189, 0.5461465271170314, 0.6272, 0.46021947873799723, 0.5517740767559739, 0.40709459459459457, 0.7121212121212122, 0.5880281690140845, 0.47767145135566186, 0.5538336052202284, 0.49684968496849685, 0.37043686415320165, 0.724087591240876, 0.2467432950191571, 0.5718701700154559, 0.3248259860788863, 0.30945558739255014, 0.6136631330977621, 0.7444717444717445, 0.5476065228826933, 0.702572347266881, 0.48940269749518306, 0.7081174438687392]}, {\"mode\": \"markers\", \"name\": \"6\", \"text\": [\"06-121-0006\", \"06-135-0020\", \"06-135-0025\", \"06-146-0008\", \"06-146-0024\"], \"type\": \"scatter\", \"x\": [0.8974522292993631, 0.9900621118012423, 0.9300126103404792, 0.8044914134742405, 0.8687106918238994], \"y\": [0.8346344925479063, 0.7189460476787954, 0.7396610169491525, 0.47126436781609193, 0.6524886877828054]}, {\"mode\": \"markers\", \"name\": \"7\", \"text\": [], \"type\": \"scatter\", \"x\": [], \"y\": []}, {\"mode\": \"markers\", \"name\": \"8\", \"text\": [], \"type\": \"scatter\", \"x\": [], \"y\": []}],\n",
       "                        {\"template\": {\"data\": {\"bar\": [{\"error_x\": {\"color\": \"#2a3f5f\"}, \"error_y\": {\"color\": \"#2a3f5f\"}, \"marker\": {\"line\": {\"color\": \"#E5ECF6\", \"width\": 0.5}}, \"type\": \"bar\"}], \"barpolar\": [{\"marker\": {\"line\": {\"color\": \"#E5ECF6\", \"width\": 0.5}}, \"type\": \"barpolar\"}], \"carpet\": [{\"aaxis\": {\"endlinecolor\": \"#2a3f5f\", \"gridcolor\": \"white\", \"linecolor\": \"white\", \"minorgridcolor\": \"white\", \"startlinecolor\": \"#2a3f5f\"}, \"baxis\": {\"endlinecolor\": \"#2a3f5f\", \"gridcolor\": \"white\", \"linecolor\": \"white\", \"minorgridcolor\": \"white\", \"startlinecolor\": \"#2a3f5f\"}, \"type\": \"carpet\"}], \"choropleth\": [{\"colorbar\": {\"outlinewidth\": 0, \"ticks\": \"\"}, \"type\": \"choropleth\"}], \"contour\": [{\"colorbar\": {\"outlinewidth\": 0, \"ticks\": \"\"}, \"colorscale\": [[0.0, \"#0d0887\"], [0.1111111111111111, \"#46039f\"], [0.2222222222222222, \"#7201a8\"], [0.3333333333333333, \"#9c179e\"], [0.4444444444444444, \"#bd3786\"], [0.5555555555555556, \"#d8576b\"], [0.6666666666666666, \"#ed7953\"], [0.7777777777777778, \"#fb9f3a\"], [0.8888888888888888, \"#fdca26\"], [1.0, \"#f0f921\"]], \"type\": \"contour\"}], \"contourcarpet\": [{\"colorbar\": {\"outlinewidth\": 0, \"ticks\": \"\"}, \"type\": \"contourcarpet\"}], \"heatmap\": [{\"colorbar\": {\"outlinewidth\": 0, \"ticks\": \"\"}, \"colorscale\": [[0.0, \"#0d0887\"], [0.1111111111111111, \"#46039f\"], [0.2222222222222222, \"#7201a8\"], [0.3333333333333333, \"#9c179e\"], [0.4444444444444444, \"#bd3786\"], [0.5555555555555556, \"#d8576b\"], [0.6666666666666666, \"#ed7953\"], [0.7777777777777778, \"#fb9f3a\"], [0.8888888888888888, \"#fdca26\"], [1.0, \"#f0f921\"]], \"type\": \"heatmap\"}], \"heatmapgl\": [{\"colorbar\": {\"outlinewidth\": 0, \"ticks\": \"\"}, \"colorscale\": [[0.0, \"#0d0887\"], [0.1111111111111111, \"#46039f\"], [0.2222222222222222, \"#7201a8\"], [0.3333333333333333, \"#9c179e\"], [0.4444444444444444, \"#bd3786\"], [0.5555555555555556, \"#d8576b\"], [0.6666666666666666, \"#ed7953\"], [0.7777777777777778, \"#fb9f3a\"], [0.8888888888888888, \"#fdca26\"], [1.0, \"#f0f921\"]], \"type\": \"heatmapgl\"}], \"histogram\": [{\"marker\": {\"colorbar\": {\"outlinewidth\": 0, \"ticks\": \"\"}}, \"type\": \"histogram\"}], \"histogram2d\": [{\"colorbar\": {\"outlinewidth\": 0, \"ticks\": \"\"}, \"colorscale\": [[0.0, \"#0d0887\"], [0.1111111111111111, \"#46039f\"], [0.2222222222222222, \"#7201a8\"], [0.3333333333333333, \"#9c179e\"], [0.4444444444444444, \"#bd3786\"], [0.5555555555555556, \"#d8576b\"], [0.6666666666666666, \"#ed7953\"], [0.7777777777777778, \"#fb9f3a\"], [0.8888888888888888, \"#fdca26\"], [1.0, \"#f0f921\"]], \"type\": \"histogram2d\"}], \"histogram2dcontour\": [{\"colorbar\": {\"outlinewidth\": 0, \"ticks\": \"\"}, \"colorscale\": [[0.0, \"#0d0887\"], [0.1111111111111111, \"#46039f\"], [0.2222222222222222, \"#7201a8\"], [0.3333333333333333, \"#9c179e\"], [0.4444444444444444, \"#bd3786\"], [0.5555555555555556, \"#d8576b\"], [0.6666666666666666, \"#ed7953\"], [0.7777777777777778, \"#fb9f3a\"], [0.8888888888888888, \"#fdca26\"], [1.0, \"#f0f921\"]], \"type\": \"histogram2dcontour\"}], \"mesh3d\": [{\"colorbar\": {\"outlinewidth\": 0, \"ticks\": \"\"}, \"type\": \"mesh3d\"}], \"parcoords\": [{\"line\": {\"colorbar\": {\"outlinewidth\": 0, \"ticks\": \"\"}}, \"type\": \"parcoords\"}], \"pie\": [{\"automargin\": true, \"type\": \"pie\"}], \"scatter\": [{\"marker\": {\"colorbar\": {\"outlinewidth\": 0, \"ticks\": \"\"}}, \"type\": \"scatter\"}], \"scatter3d\": [{\"line\": {\"colorbar\": {\"outlinewidth\": 0, \"ticks\": \"\"}}, \"marker\": {\"colorbar\": {\"outlinewidth\": 0, \"ticks\": \"\"}}, \"type\": \"scatter3d\"}], \"scattercarpet\": [{\"marker\": {\"colorbar\": {\"outlinewidth\": 0, \"ticks\": \"\"}}, \"type\": \"scattercarpet\"}], \"scattergeo\": [{\"marker\": {\"colorbar\": {\"outlinewidth\": 0, \"ticks\": \"\"}}, \"type\": \"scattergeo\"}], \"scattergl\": [{\"marker\": {\"colorbar\": {\"outlinewidth\": 0, \"ticks\": \"\"}}, \"type\": \"scattergl\"}], \"scattermapbox\": [{\"marker\": {\"colorbar\": {\"outlinewidth\": 0, \"ticks\": \"\"}}, \"type\": \"scattermapbox\"}], \"scatterpolar\": [{\"marker\": {\"colorbar\": {\"outlinewidth\": 0, \"ticks\": \"\"}}, \"type\": \"scatterpolar\"}], \"scatterpolargl\": [{\"marker\": {\"colorbar\": {\"outlinewidth\": 0, \"ticks\": \"\"}}, \"type\": \"scatterpolargl\"}], \"scatterternary\": [{\"marker\": {\"colorbar\": {\"outlinewidth\": 0, \"ticks\": \"\"}}, \"type\": \"scatterternary\"}], \"surface\": [{\"colorbar\": {\"outlinewidth\": 0, \"ticks\": \"\"}, \"colorscale\": [[0.0, \"#0d0887\"], [0.1111111111111111, \"#46039f\"], [0.2222222222222222, \"#7201a8\"], [0.3333333333333333, \"#9c179e\"], [0.4444444444444444, \"#bd3786\"], [0.5555555555555556, \"#d8576b\"], [0.6666666666666666, \"#ed7953\"], [0.7777777777777778, \"#fb9f3a\"], [0.8888888888888888, \"#fdca26\"], [1.0, \"#f0f921\"]], \"type\": \"surface\"}], \"table\": [{\"cells\": {\"fill\": {\"color\": \"#EBF0F8\"}, \"line\": {\"color\": \"white\"}}, \"header\": {\"fill\": {\"color\": \"#C8D4E3\"}, \"line\": {\"color\": \"white\"}}, \"type\": \"table\"}]}, \"layout\": {\"annotationdefaults\": {\"arrowcolor\": \"#2a3f5f\", \"arrowhead\": 0, \"arrowwidth\": 1}, \"coloraxis\": {\"colorbar\": {\"outlinewidth\": 0, \"ticks\": \"\"}}, \"colorscale\": {\"diverging\": [[0, \"#8e0152\"], [0.1, \"#c51b7d\"], [0.2, \"#de77ae\"], [0.3, \"#f1b6da\"], [0.4, \"#fde0ef\"], [0.5, \"#f7f7f7\"], [0.6, \"#e6f5d0\"], [0.7, \"#b8e186\"], [0.8, \"#7fbc41\"], [0.9, \"#4d9221\"], [1, \"#276419\"]], \"sequential\": [[0.0, \"#0d0887\"], [0.1111111111111111, \"#46039f\"], [0.2222222222222222, \"#7201a8\"], [0.3333333333333333, \"#9c179e\"], [0.4444444444444444, \"#bd3786\"], [0.5555555555555556, \"#d8576b\"], [0.6666666666666666, \"#ed7953\"], [0.7777777777777778, \"#fb9f3a\"], [0.8888888888888888, \"#fdca26\"], [1.0, \"#f0f921\"]], \"sequentialminus\": [[0.0, \"#0d0887\"], [0.1111111111111111, \"#46039f\"], [0.2222222222222222, \"#7201a8\"], [0.3333333333333333, \"#9c179e\"], [0.4444444444444444, \"#bd3786\"], [0.5555555555555556, \"#d8576b\"], [0.6666666666666666, \"#ed7953\"], [0.7777777777777778, \"#fb9f3a\"], [0.8888888888888888, \"#fdca26\"], [1.0, \"#f0f921\"]]}, \"colorway\": [\"#636efa\", \"#EF553B\", \"#00cc96\", \"#ab63fa\", \"#FFA15A\", \"#19d3f3\", \"#FF6692\", \"#B6E880\", \"#FF97FF\", \"#FECB52\"], \"font\": {\"color\": \"#2a3f5f\"}, \"geo\": {\"bgcolor\": \"white\", \"lakecolor\": \"white\", \"landcolor\": \"#E5ECF6\", \"showlakes\": true, \"showland\": true, \"subunitcolor\": \"white\"}, \"hoverlabel\": {\"align\": \"left\"}, \"hovermode\": \"closest\", \"mapbox\": {\"style\": \"light\"}, \"paper_bgcolor\": \"white\", \"plot_bgcolor\": \"#E5ECF6\", \"polar\": {\"angularaxis\": {\"gridcolor\": \"white\", \"linecolor\": \"white\", \"ticks\": \"\"}, \"bgcolor\": \"#E5ECF6\", \"radialaxis\": {\"gridcolor\": \"white\", \"linecolor\": \"white\", \"ticks\": \"\"}}, \"scene\": {\"xaxis\": {\"backgroundcolor\": \"#E5ECF6\", \"gridcolor\": \"white\", \"gridwidth\": 2, \"linecolor\": \"white\", \"showbackground\": true, \"ticks\": \"\", \"zerolinecolor\": \"white\"}, \"yaxis\": {\"backgroundcolor\": \"#E5ECF6\", \"gridcolor\": \"white\", \"gridwidth\": 2, \"linecolor\": \"white\", \"showbackground\": true, \"ticks\": \"\", \"zerolinecolor\": \"white\"}, \"zaxis\": {\"backgroundcolor\": \"#E5ECF6\", \"gridcolor\": \"white\", \"gridwidth\": 2, \"linecolor\": \"white\", \"showbackground\": true, \"ticks\": \"\", \"zerolinecolor\": \"white\"}}, \"shapedefaults\": {\"line\": {\"color\": \"#2a3f5f\"}}, \"ternary\": {\"aaxis\": {\"gridcolor\": \"white\", \"linecolor\": \"white\", \"ticks\": \"\"}, \"baxis\": {\"gridcolor\": \"white\", \"linecolor\": \"white\", \"ticks\": \"\"}, \"bgcolor\": \"#E5ECF6\", \"caxis\": {\"gridcolor\": \"white\", \"linecolor\": \"white\", \"ticks\": \"\"}}, \"title\": {\"x\": 0.05}, \"xaxis\": {\"automargin\": true, \"gridcolor\": \"white\", \"linecolor\": \"white\", \"ticks\": \"\", \"title\": {\"standoff\": 15}, \"zerolinecolor\": \"white\", \"zerolinewidth\": 2}, \"yaxis\": {\"automargin\": true, \"gridcolor\": \"white\", \"linecolor\": \"white\", \"ticks\": \"\", \"title\": {\"standoff\": 15}, \"zerolinecolor\": \"white\", \"zerolinewidth\": 2}}}, \"title\": {\"text\": \"Turnout to Lukashenko votes (village)\"}, \"xaxis\": {\"title\": {\"text\": \"Turnout\"}}, \"yaxis\": {\"title\": {\"text\": \"Luk %\"}}},\n",
       "                        {\"responsive\": true}\n",
       "                    ).then(function(){\n",
       "                            \n",
       "var gd = document.getElementById('57a4bac1-1c3d-41af-a864-cae7a6936f11');\n",
       "var x = new MutationObserver(function (mutations, observer) {{\n",
       "        var display = window.getComputedStyle(gd).display;\n",
       "        if (!display || display === 'none') {{\n",
       "            console.log([gd, 'removed!']);\n",
       "            Plotly.purge(gd);\n",
       "            observer.disconnect();\n",
       "        }}\n",
       "}});\n",
       "\n",
       "// Listen for the removal of the full notebook cells\n",
       "var notebookContainer = gd.closest('#notebook-container');\n",
       "if (notebookContainer) {{\n",
       "    x.observe(notebookContainer, {childList: true});\n",
       "}}\n",
       "\n",
       "// Listen for the clearing of the current output cell\n",
       "var outputEl = gd.closest('.output');\n",
       "if (outputEl) {{\n",
       "    x.observe(outputEl, {childList: true});\n",
       "}}\n",
       "\n",
       "                        })\n",
       "                };\n",
       "                });\n",
       "            </script>\n",
       "        </div>"
      ]
     },
     "metadata": {},
     "output_type": "display_data"
    }
   ],
   "source": [
    "turnout_to_luk('village')"
   ]
  },
  {
   "cell_type": "code",
   "execution_count": null,
   "metadata": {},
   "outputs": [],
   "source": []
  }
 ],
 "metadata": {
  "kernelspec": {
   "display_name": "Python 3",
   "language": "python",
   "name": "python3"
  },
  "language_info": {
   "codemirror_mode": {
    "name": "ipython",
    "version": 3
   },
   "file_extension": ".py",
   "mimetype": "text/x-python",
   "name": "python",
   "nbconvert_exporter": "python",
   "pygments_lexer": "ipython3",
   "version": "3.8.2"
  }
 },
 "nbformat": 4,
 "nbformat_minor": 4
}
