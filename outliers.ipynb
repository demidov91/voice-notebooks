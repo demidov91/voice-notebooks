{
 "cells": [
  {
   "cell_type": "code",
   "execution_count": 112,
   "metadata": {},
   "outputs": [],
   "source": [
    "from plotly.graph_objects import Scatter, Figure\n",
    "import pandas as pd\n",
    "import numpy as np\n",
    "from decimal import Decimal"
   ]
  },
  {
   "cell_type": "code",
   "execution_count": 113,
   "metadata": {},
   "outputs": [],
   "source": [
    "df = pd.read_csv('tusted_by_voice.csv', converters={'latitude': Decimal, 'longitude': Decimal})"
   ]
  },
  {
   "cell_type": "code",
   "execution_count": 114,
   "metadata": {},
   "outputs": [],
   "source": [
    "areas = ['city', 'minsk_suburb', 'capital', 'village', 'town_below100', 'town_over100', 'embassy']\n",
    "candidates = ['against', 'cherechen', 'corrupted', 'dmitriyev', 'kanopatskaja', 'tihanovkaja']"
   ]
  },
  {
   "cell_type": "code",
   "execution_count": 115,
   "metadata": {},
   "outputs": [],
   "source": [
    "def corr(x, y):\n",
    "    return np.corrcoef(x, y)[0][1]\n",
    "    "
   ]
  },
  {
   "cell_type": "code",
   "execution_count": 116,
   "metadata": {},
   "outputs": [],
   "source": [
    "def draw_chart(candidate, X_source, X_title):\n",
    "    data = df[df['area'] != 'embassy']\n",
    "    x = data[f'{candidate}_{X_source}']\n",
    "    y = data[f'{candidate}_officialVotes']\n",
    "    \n",
    "    fig = Figure(layout_title='%s<br>%s correlation (except embassy): %.2f' % (\n",
    "        X_source.capitalize() if X_source == 'registered' else 'Photos', \n",
    "        candidate.capitalize(), \n",
    "        corr(x, y)\n",
    "    ))\n",
    "\n",
    "    for area in areas:\n",
    "        data = df[(df['area'] == area)]\n",
    "        cr = corr(data[f'{candidate}_{X_source}'], data[f'{candidate}_officialVotes'])\n",
    "        \n",
    "        fig.add_trace(Scatter(\n",
    "            x=data[f'{candidate}_{X_source}'], \n",
    "            y=data[f'{candidate}_officialVotes'],\n",
    "            mode='markers',\n",
    "            name=f'{area} ({cr:.2f})',\n",
    "            text=data['id'],\n",
    "        ))        \n",
    "\n",
    "    fig.update_xaxes(title=X_title)\n",
    "    fig.update_yaxes(title='People voted for Tsihanouskaya')\n",
    "\n",
    "\n",
    "    fig.show()\n"
   ]
  },
  {
   "cell_type": "code",
   "execution_count": 117,
   "metadata": {},
   "outputs": [],
   "source": [
    "def tih_to_voters_chart(X_source, X_divider_column, Y_divider_column, X_title):\n",
    "    data = df[df['area'] != 'embassy']\n",
    "    x = data[f'tihanovkaja_{X_source}'] / data[X_divider_column]\n",
    "    y = data[f'tihanovkaja_officialVotes'] / data[Y_divider_column]\n",
    "    \n",
    "    fig = Figure(layout_title='%s<br>Tsikhanouskaya correlation (except embassy): %.2f' % (\n",
    "        X_source.capitalize() if X_source == 'registered' else 'Photos', \n",
    "        corr(x, y)\n",
    "    ))\n",
    "\n",
    "    for area in areas:\n",
    "        data = df[(df['area'] == area)]\n",
    "        x = data[f'tihanovkaja_{X_source}'] / data[X_divider_column]\n",
    "        y = data[f'tihanovkaja_officialVotes'] / data[Y_divider_column]\n",
    "        cr = corr(x, y)\n",
    "        \n",
    "        fig.add_trace(Scatter(\n",
    "            x=x, \n",
    "            y=y,\n",
    "            mode='markers',\n",
    "            name=f'{area} ({cr:.2f})',\n",
    "            text=data['id'],\n",
    "        ))        \n",
    "\n",
    "    fig.update_xaxes(title=X_title)\n",
    "    fig.update_yaxes(title='Part voted for Tsihanouskaya')\n",
    "\n",
    "\n",
    "    fig.show()"
   ]
  },
  {
   "cell_type": "code",
   "execution_count": 118,
   "metadata": {},
   "outputs": [],
   "source": [
    "def protest_chart(X_source, X_title):\n",
    "    fixed_df = df.copy()\n",
    "    fixed_df.loc[fixed_df['corrupted_officialVotes'].isna(), 'corrupted_officialVotes'] = 0\n",
    "    \n",
    "    data = fixed_df[fixed_df['area'] != 'embassy']\n",
    "    x = data[X_source]\n",
    "    y = sum(data[f'{c}_officialVotes'] for c in candidates)\n",
    "    \n",
    "    fig = Figure(\n",
    "        layout_title='%s<br>Protest votes correlation (except embassy): %.2f<br>(%.2f no Lukashenko)' % (\n",
    "            X_source.capitalize() if X_source == 'registered' else 'Photos', \n",
    "            corr(x, y), \n",
    "            corr(x - data[f'lukashenko_{X_source}'], y),\n",
    "        ))\n",
    "\n",
    "    for area in areas:\n",
    "        data = fixed_df[(fixed_df['area'] == area)]\n",
    "        \n",
    "        area_x = data[X_source]\n",
    "        area_y = sum(data[f'{c}_officialVotes'] for c in candidates)\n",
    "        \n",
    "        cr = corr(area_x, area_y)\n",
    "        \n",
    "        fig.add_trace(Scatter(\n",
    "            x=area_x, \n",
    "            y=area_y,\n",
    "            mode='markers',\n",
    "            name=f'{area} ({cr:.2f})',\n",
    "            text=data['id'],\n",
    "        ))        \n",
    "\n",
    "    fig.update_xaxes(title='People registered in system')\n",
    "    fig.update_yaxes(title='People voted against Lukasheno')\n",
    "\n",
    "\n",
    "    fig.show()\n"
   ]
  },
  {
   "cell_type": "code",
   "execution_count": 119,
   "metadata": {},
   "outputs": [],
   "source": [
    "#draw_chart('tihanovkaja', 'registered', 'People registered on platform')"
   ]
  },
  {
   "cell_type": "code",
   "execution_count": 120,
   "metadata": {},
   "outputs": [],
   "source": [
    "#draw_chart('tihanovkaja', 'photoVoices', 'Ballot photos for Tsihanouskaya')"
   ]
  },
  {
   "cell_type": "code",
   "execution_count": 121,
   "metadata": {
    "scrolled": false
   },
   "outputs": [],
   "source": [
    "#protest_chart('registered', 'People registered in system')"
   ]
  },
  {
   "cell_type": "code",
   "execution_count": 122,
   "metadata": {},
   "outputs": [],
   "source": [
    "#protest_chart('photoVoices', 'Ballot photos in system')"
   ]
  },
  {
   "cell_type": "code",
   "execution_count": 123,
   "metadata": {
    "scrolled": false
   },
   "outputs": [],
   "source": [
    "#tih_to_voters_chart('registered', 'officialVoters', 'officialVoters', 'Part registered for Tsikhanovskaja')"
   ]
  },
  {
   "cell_type": "code",
   "execution_count": 124,
   "metadata": {},
   "outputs": [],
   "source": [
    "#tih_to_voters_chart('registered', 'officialVotes', 'officialVotes', 'Part registered for Tsikhanovskaja')"
   ]
  },
  {
   "cell_type": "code",
   "execution_count": 125,
   "metadata": {},
   "outputs": [],
   "source": [
    "#tih_to_voters_chart('photoVoices', 'officialVoters', 'officialVoters', 'Part registered for Tsikhanovskaja')"
   ]
  },
  {
   "cell_type": "code",
   "execution_count": 126,
   "metadata": {},
   "outputs": [],
   "source": [
    "#tih_to_voters_chart('photoVoices', 'officialVotes', 'officialVotes', 'Part registered for Tsikhanovskaja')"
   ]
  },
  {
   "cell_type": "code",
   "execution_count": 127,
   "metadata": {},
   "outputs": [],
   "source": [
    "categorized_outliers = {\n",
    "    'trusted': [\n",
    "        ('04-022-0069', \"Trusted. Hrodna hospital. Too many votes. It's likely that people didn't expect to vote from there.\" ),\n",
    "        ('05-141-0021', \"Trusted. Minsk region children hospital. People didn't expect to vote from there.\"),\n",
    "        ('05-141-0022', \"Trusted. Minsk region hospital. People didn't expect to vote from there.\"),\n",
    "        ('05-141-0023', \"Trusted. Cancer clinic. People didn't expect to vote from there.\"),\n",
    "        ('05-141-0037', \"Trusted. Clinic. People didn't expect to vote from there.\"),\n",
    "        ('05-141-0026', \"Trusted. Novaja Baravaja is a separate world.\"),\n",
    "        ('05-141-0027', \"Trusted. Novaja Baravaja is a separate world.\"),\n",
    "        #('07-002-0084', 'Trusted. Too many for Tihanovkaja'),                  # photo outlier       \n",
    "    ],\n",
    "    'trusted-many-for-lukashenko': [\n",
    "        ('01-010-0001', 'Trusted. Many for Lukashenko. No zubr report.'),  \n",
    "        ('02-077-0008', 'Trusted. Many for Lukashenko. No zubr report.'),  \n",
    "        ('06-125-0012', 'Trusted. Many for Lukashenko. No zubr report.'),  \n",
    "    ],\n",
    "    'trusted-high-turnout-many-for-lukashenko': [\n",
    "        ('01-010-0030', 'Trusted. High turnout, many for Lukashenko. No zubr report.'),\n",
    "        ('04-022-0070', 'Trusted. High turnout, many for Lukashenko. No zubr report.'),\n",
    "        ('05-041-0011', 'Trusted. High turnout, many for Lukashenko. No zubr report. Two observers.'),\n",
    "    ],    \n",
    "    'tihanovkaja-report': [\n",
    "        ('04-106-0002', \"Less than expected. Many reports on Zubr platform.\"),\n",
    "        ('01-047-0054', \"Less than expected. Zubr report.\"),\n",
    "        ('07-002-0103', \"SPB embassy. Less than expected. Zubr report.\"), \n",
    "        ('01-056-0048', 'Too few Tihanovkaja. Conflict reported.'),\n",
    "        \n",
    "        ('02-074-0015', 'Too few Tihanovkaja. Zubr report. High tunout.'),\n",
    "        ('02-075-0056', 'Too few Tihanovkaja. Zubr report.'),\n",
    "        \n",
    "        ('03-091-0029', 'Too few Tihanovkaja. Zubr report.'),\n",
    "        ('03-096-0004', 'Too few Tihanovkaja. Zubr report.'),\n",
    "        ('03-018-0028', \"Too many for Kanopatskaja. Zubr report.\"),\n",
    "        ('03-096-0041', \"Too many for Kanopatskaja. Zubr report.\"),\n",
    "        \n",
    "        ('04-022-0100', \"Too many for Against. Zubr report.\"),\n",
    "        \n",
    "        ('05-026-0064', \"Too many for Dmitriev. Zubr report.\"),\n",
    "        ('05-026-0041', \"Too many for Kanopatskaja. Zubr report.\"),\n",
    "        ('05-141-0065', \"Too many for Kanopatskaja. Zubr report.\"),\n",
    "        ('05-141-0066', \"Too many for Kanopatskaja. Zubr report.\"),\n",
    "        ('05-041-0028', 'Too few Tihanovkaja. Zubr report.'),\n",
    "        ('05-141-0029', 'Too few Tihanovkaja. Zubr report.'),\n",
    "        ('05-141-0007', 'Too few Tihanovkaja. Zubr report.'),\n",
    "        ('05-141-0084', 'Too few Tihanovkaja. Zubr report.'),\n",
    "        \n",
    "        ('06-013-0017', 'Too few Tihanovkaja. Conflict reported.'),\n",
    "        ('06-135-0009', 'Too few Tihanovkaja. Zubr report.'),\n",
    "        ('06-132-0001', \"Too many for Kanopatskaja. Zubr report.\"),\n",
    "        \n",
    "        ('07-001-0029', \"Too many for Kanopatskaja. Zubr report.\"),\n",
    "        ('07-001-0078', 'Too few Tihanovkaja. Conflict reported.'),\n",
    "        ('07-006-0016', 'Too few Tihanovkaja. Zubr report.'),\n",
    "        ('07-006-0071', 'Too few Tihanovkaja. Zubr report.'),\n",
    "    ],\n",
    "    'tihanovkaja-no-observers': [\n",
    "        ('02-016-0039', \"Too many for Kanopatskaja. No observer.\"),\n",
    "        ('02-075-0038', \"Too many for Dmitriev. No observer.\"),\n",
    "        ('03-100-0045', 'Too few Tihanovkaja. No observers.'),\n",
    "        ('04-021-0040', 'Too few Tihanovkaja. No observers.'),\n",
    "        ('04-022-0116', \"Too many for Dmitriev. No observer.\"),\n",
    "        ('05-026-0082', \"Too many for Against. No observer.\"),\n",
    "        ('05-036-0051', \"Too many for Against. No observer.\"),\n",
    "        ('05-141-0016', 'Too few Tihanovkaja. No observers.'),        \n",
    "        ('06-024-0050', 'Too few Tihanovkaja. No observers.'),        \n",
    "    ], \n",
    "    'report': [\n",
    "        ('03-018-0048', \"Outliers. Zubr report.\"),\n",
    "        ('04-022-0066', \"Outliers. Zubr report.\"),\n",
    "        ('04-022-0090', \"Outliers. Zubr report.\"),\n",
    "        ('05-026-0023', \"Outliers. Zubr report.\"),\n",
    "        ('05-026-0028', \"Outliers. Zubr report.\"),\n",
    "        ('05-026-0091', \"Outliers. Zubr report.\"),\n",
    "        ('05-141-0024', \"Outliers. Zubr report.\"),\n",
    "        ('05-141-0059', \"Outliers. Zubr report.\"),\n",
    "        ('06-012-0076', \"Outliers. Zubr report.\"),\n",
    "        ('06-132-0001', \"Outliers. Zubr report.\"),\n",
    "        ('07-001-0029', \"Outliers. Zubr report.\"),  \n",
    "    ],\n",
    "    'mess-in-report': [\n",
    "        ('05-141-0020', \"Duplicate from 05-141-0024.\"),\n",
    "        ('01-011-0058', 'Mess in the report.'),\n",
    "        ('04-112-0013', 'Mess in the report.'),\n",
    "        ('05-141-0013', 'Mess in the report.'),\n",
    "        ('07-006-0049', 'Mess in the report.'),\n",
    "        ('01-010-0005', 'Too many for Lukashenko. Mess in Zubr data.'),\n",
    "    ],\n",
    "    'luhashenko-report': [\n",
    "        ('01-010-0002', 'Too many for Lukashenko. Zubr report.'),\n",
    "        ('01-010-0006', 'Too many for Lukashenko. Zubr report.'),\n",
    "        ('01-010-0015', 'Too many for Lukashenko. Zubr report.'),\n",
    "        ('01-010-0020', 'Too many for Lukashenko. Zubr report.'),\n",
    "        ('01-010-0021', 'Too many for Lukashenko. Zubr report.'),\n",
    "        ('01-010-0031', 'Too many for Lukashenko. Zubr report.'),\n",
    "        ('01-010-0035', 'Too many for Lukashenko. Zubr report.'),\n",
    "        ('01-010-0036', 'Too many for Lukashenko. Zubr report.'),\n",
    "        ('01-010-0042', 'Too many for Lukashenko. Zubr report.'),\n",
    "        ('01-011-0005', 'Too many for Lukashenko. Zubr report.'),\n",
    "        ('01-011-0010', 'Too many for Lukashenko. Zubr report.'),\n",
    "        ('01-011-0041', 'Too many for Lukashenko. Zubr report.'),\n",
    "        ('01-011-0042', 'Too many for Lukashenko. Zubr report.'),\n",
    "        ('01-011-0047', 'Too many for Lukashenko. Zubr report.'),\n",
    "        ('01-011-0048', 'Too many for Lukashenko. Zubr report.'),\n",
    "        ('01-011-0062', 'Too many for Lukashenko. Zubr report.'),\n",
    "        ('01-011-0075', 'Too many for Lukashenko. Conflict reported.'),\n",
    "        ('01-011-0078', 'Too many for Lukashenko. Conflict reported.'),    \n",
    "        ('01-011-0080', 'Too many for Lukashenko. Zubr report.'),\n",
    "        ('01-011-0081', \"Too many for Lukashenko and Dmitriev. Zubr report.\"),\n",
    "        ('01-047-0030', 'Too many for Lukashenko. Zubr report.'),\n",
    "        ('01-049-0014', 'Too many for Lukashenko. No signature.'),\n",
    "        ('01-054-0010', 'Too many for Lukashenko. Zubr report.'),\n",
    "        ('01-055-0004', 'Too many for Lukashenko. Zubr report.'),\n",
    "        ('01-056-0007', 'Too many for Lukashenko. Zubr report.'),\n",
    "        ('01-056-0020', 'Too many for Lukashenko. Zubr report.'),\n",
    "        ('01-057-0002', 'Too many for Lukashenko. Zubr report.'),\n",
    "        ('01-058-0008', 'Too many for Lukashenko. Zubr report.'),\n",
    "        ('01-063-0015', 'Too many for Lukashenko. Zubr report.'),\n",
    "        ('01-063-0021', 'Too many for Lukashenko. Zubr report.'),  \n",
    "        \n",
    "        ('02-014-0016', 'Too many for Lukashenko. No observers.'),\n",
    "        ('02-015-0040', 'Too many for Lukashenko. Zubr report.'), \n",
    "        ('02-016-0012', 'Too many for Lukashenko. No observers.'),\n",
    "        ('02-016-0033', 'Too many for Lukashenko. Late report.'),\n",
    "        ('02-016-0044', 'Too many for Lukashenko. Zubr report.'),  \n",
    "        ('02-065-0004', 'Too many for Lukashenko. Zubr report.'), \n",
    "        ('02-067-0002', 'Too many for Lukashenko. Zubr report.'),\n",
    "        ('02-069-0005', 'Too many for Lukashenko. Zubr report.'),\n",
    "        ('02-074-0006', 'Too many for Lukashenko. Zubr report.'),    \n",
    "        ('02-074-0014', 'Too many for Lukashenko. Zubr report.'),    \n",
    "        ('02-073-0003', 'Too many for Lukashenko. Zubr report.'),    \n",
    "        ('02-075-0001', 'Too many for Lukashenko. Zubr report.'),\n",
    "        ('02-077-0001', 'Too many for Lukashenko. Zubr report.'),\n",
    "        ('02-143-0009', 'Too many for Lukashenko. Zubr report.'),  \n",
    "        \n",
    "        ('03-091-0001', 'Too many for Lukashenko. Zubr report.'),\n",
    "        ('03-091-0005', 'Too many for Lukashenko. Conflict reported.'),        \n",
    "        ('03-096-0045', 'Too many for Lukashenko. Zubr report.'),\n",
    "        ('03-096-0058', 'Too many for Lukashenko. Zubr report.'),        \n",
    "        ('03-100-0014', 'Too many for Lukashenko. Zubr report. One observer.'),\n",
    "        \n",
    "        ('04-021-0002', 'Too many for Lukashenko. Zubr report.'),        \n",
    "        ('04-021-0046', 'Too many for Lukashenko. Zubr report.'),\n",
    "        ('04-021-0047', 'Too many for Lukashenko. Zubr report.'),        \n",
    "        ('04-022-0076', 'Too many for Lukashenko. Zubr report.'),        \n",
    "        ('04-022-0120', 'Too many for Lukashenko. Zubr report.'),        \n",
    "        ('04-022-0130', 'Too many for Lukashenko. Zubr reports.'),\n",
    "        ('04-022-0092', 'Too many for Lukashenko. Zubr report.'),\n",
    "        ('04-022-0093', 'Too many for Lukashenko. Zubr report (see 0092).'),\n",
    "        ('04-022-0094', 'Too many for Lukashenko. Zubr report (see 0092).'),\n",
    "        ('04-106-0012', 'Too many for Lukashenko. Zubr report.'),        \n",
    "        ('04-112-0011', 'Too many for Lukashenko. Zubr report.'),\n",
    "        ('04-112-0014', 'Too many for Lukashenko. Zubr report.'),\n",
    "        ('04-112-0018', 'Too many for Lukashenko. Zubr report. One observer.'),        \n",
    "        ('04-112-0027', 'Too many for Lukashenko. Zubr report.'),        \n",
    "        ('04-112-0006', 'Too many for Lukashenko. Zubr report. One observer.'),\n",
    "        ('04-112-0008', 'Too many for Lukashenko. Zubr report.'),\n",
    "        ('04-112-0018', 'Too many for Lukashenko. Zubr report.'),        \n",
    "        ('04-112-0033', 'Too many for Lukashenko. Zubr report.'),\n",
    "        ('04-112-0035', 'Too many for Lukashenko. Zubr report. One observer.'),\n",
    "        ('04-114-0003', 'Too many for Lukashenko. Zubr report.'),        \n",
    "        ('04-114-0028', 'Too many for Lukashenko. Zubr report.'),\n",
    "        ('04-118-0010', 'Too many for Lukashenko. Zubr report.'),\n",
    "        ('04-118-0011', 'Too many for Lukashenko. Zubr report.'),\n",
    "        ('04-118-0014', 'Too many for Lukashenko. Zubr report.'),\n",
    "        ('04-118-0019', 'Too many for Lukashenko. Zubr report.'),\n",
    "        ('04-118-0024', 'Too many for Lukashenko. Zubr report.'),\n",
    "        ('04-119-0017', 'Too many for Lukashenko. Zubr report.'),\n",
    "        ('04-145-0001', 'Too many for Lukashenko. Zubr report.'),\n",
    "        ('04-122-0120', 'Too many for Lukashenko. Zubr report.'),\n",
    "        ('04-022-0099', 'Too many for Lukashenko. Zubr report.'),\n",
    "        ('04-022-0098', 'Too many for Lukashenko. Same school as 0099.'),    \n",
    "        ('04-022-0118', 'Too many for Lukashenko. Zubr report.'),\n",
    "        ('04-022-0074', 'Too many for Lukashenko. Zubr report.'),\n",
    "        ('04-022-0075', 'Too many for Lukashenko. Zubr report.'),\n",
    "        \n",
    "        ('05-026-0010', 'Too many for Lukashenko. Zubr report.'),\n",
    "        ('05-026-0012', 'Too many for Lukashenko. Zubr report.'),\n",
    "        ('05-026-0014', 'Too many for Lukashenko. Zubr report.'),\n",
    "        ('05-026-0022', 'Too many for Lukashenko. Zubr report.'),\n",
    "        ('05-026-0029', 'Too many for Lukashenko. Zubr report.'),\n",
    "        ('05-026-0042', 'Too many for Lukashenko. Zubr report.'),\n",
    "        ('05-026-0087', 'Too many for Lukashenko. Zubr report.'),\n",
    "        ('05-027-0001', 'Too many for Lukashenko. Zubr report.'),\n",
    "        ('05-027-0013', 'Too many for Lukashenko. Zubr report.'),\n",
    "        ('05-027-0015', 'Too many for Lukashenko. Zubr report.'),\n",
    "        ('05-029-0021', 'Too many for Lukashenko. Zubr report.'),\n",
    "        ('05-029-0025', 'Too many for Lukashenko. Zubr report.'),\n",
    "        ('05-029-0026', 'Too many for Lukashenko. Zubr report.'),\n",
    "        ('05-029-0027', 'Too many for Lukashenko. Zubr report.'),\n",
    "        ('05-029-0030', 'Too many for Lukashenko. Zubr report.'),\n",
    "        ('05-036-0007', 'Too many for Lukashenko. Zubr report.'),\n",
    "        ('05-036-0001', 'Too many for Lukashenko. Zubr report.'),\n",
    "        ('05-036-0010', 'Too many for Lukashenko. Zubr report.'),\n",
    "        ('05-036-0011', 'Too many for Lukashenko. Zubr report.'),\n",
    "        ('05-036-0021', 'Too many for Lukashenko. Zubr report.'),\n",
    "        ('05-036-0022', 'Too many for Lukashenko. Zubr report.'),\n",
    "        ('05-036-0027', 'Too many for Lukashenko. Zubr report.'),\n",
    "        ('05-038-0001', 'Too many for Lukashenko. Zubr report.'),\n",
    "        ('05-038-0014', 'Too many for Lukashenko. Zubr report.'),\n",
    "        ('05-038-0032', 'Too many for Lukashenko. Zubr report.'),\n",
    "        ('05-039-0007', 'Too many for Lukashenko. Zubr report.'),\n",
    "        ('05-039-0009', 'Too many for Lukashenko. Zubr report.'),\n",
    "        ('05-045-0014', 'Too many for Lukashenko. Zubr report.'),\n",
    "        ('05-141-0074', \"Too few for Against. Zubr report.\"),\n",
    "        ('07-006-0038', \"Too few for Against. Zubr report.\"),\n",
    "        ('07-008-0080', \"Too few for Against. Zubr report.\"),\n",
    "        ('07-008-0081', \"Too few for Against. Zubr report.\"),\n",
    "        ('07-006-0020', \"Too few for Against. Zubr report.\"),\n",
    "        ('07-006-0033', \"Too few for Against. Zubr report.\"),\n",
    "        ('07-009-0021', \"Too few for Against. Zubr report.\"),\n",
    "        ('02-075-0038', \"Too few for Against. Zubr report.\"),\n",
    "        ('05-141-0001', 'Too many for Lukashenko. Zubr report.'),\n",
    "        ('05-141-0004', 'Too many for Lukashenko. Zubr report.'),\n",
    "        ('05-141-0006', 'Too many for Lukashenko. Zubr report.'),\n",
    "        ('05-141-0009', \"Too many for Lukashenko. Zubr report.\"),\n",
    "        ('05-141-0012', 'Too many for Lukashenko. Zubr report.'),\n",
    "        ('05-141-0028', 'Too many for Lukashenko. Zubr report.'),\n",
    "        ('05-141-0032', 'Too many for Lukashenko. Zubr report.'),\n",
    "        ('05-141-0034', 'Too many for Lukashenko. Zubr report.'),\n",
    "        ('05-141-0039', 'Too many for Lukashenko. Zubr report.'),\n",
    "        ('05-141-0063', 'Too many for Lukashenko. Zubr report.'),\n",
    "        ('05-141-0068', 'Too many for Lukashenko. Zubr report.'),\n",
    "        ('05-141-0030', 'Too many for Lukashenko. Zubr report.'),\n",
    "        ('05-141-0031', 'Too many for Lukashenko. Zubr report.'),\n",
    "        ('05-141-0033', 'Too many for Lukashenko. Zubr report.'),\n",
    "        ('05-141-0035', 'Too many for Lukashenko. Zubr report.'),\n",
    "        ('05-141-0036', \"Too many for Lukashenko. Zubr report.\"),\n",
    "        ('05-141-0038', 'Too many for Lukashenko. Zubr report.'),\n",
    "        ('05-141-0047', 'Too many for Lukashenko. Zubr report.'),\n",
    "        ('05-141-0060', 'Too many for Lukashenko. Zubr report.'),\n",
    "        ('05-141-0062', 'Too many for Lukashenko. Zubr report.'),\n",
    "        ('05-141-0067', 'Too many for Lukashenko. Zubr report.'),\n",
    "        ('05-141-0071', 'Too many for Lukashenko. Zubr report.'),\n",
    "        ('05-141-0073', 'Too many for Lukashenko. Zubr report.'),\n",
    "        ('05-141-0076', 'Too many for Lukashenko. Zubr report.'),\n",
    "        ('05-141-0082', 'Too many for Lukashenko. Zubr report.'),\n",
    "        ('05-141-0085', 'Too many for Lukashenko. Zubr report.'),\n",
    "        ('05-141-0086', 'Too many for Lukashenko. Zubr report.'),\n",
    "        ('05-141-0088', 'Too many for Lukashenko. Zubr report.'),\n",
    "        ('05-141-0089', 'Too many for Lukashenko. Zubr report.'),\n",
    "        ('05-141-0099', 'Too many for Lukashenko. Zubr report.'),\n",
    "        ('05-036-0030', 'Too many for Lukashenko. Zubr report/No observers.'),\n",
    "        ('05-036-0035', 'Too many for Lukashenko. Zubr report.'),\n",
    "        ('05-039-0050', 'Too many for Lukashenko. Conflict reported.'),\n",
    "        ('05-043-0005', 'Too many for Lukashenko. Zubr report.'),\n",
    "        ('05-041-0005', 'Too many for Lukashenko. Zubr report.'),\n",
    "        ('05-041-0007', 'Too many for Lukashenko. Zubr report.'),\n",
    "        ('05-041-0022', 'Too many for Lukashenko. Zubr report.'),\n",
    "        ('05-141-0106', 'Too many for Lukashenko. Zubr report.'),\n",
    "        \n",
    "        ('06-012-0056', 'Too many for Lukashenko. Conflict reported.'),\n",
    "        ('06-012-0067', 'Too many for Lukashenko. Zubr report.'),\n",
    "        ('06-012-0080', 'Too many for Lukashenko. Zubr report.'),\n",
    "        ('06-013-0010', 'Too many for Lukashenko. Zubr report.'),\n",
    "        ('06-013-0038', 'Too many for Lukashenko. Zubr report.'),\n",
    "        ('06-125-0010', 'Too many for Lukashenko. Zubr report.'),\n",
    "        ('06-129-0003', 'Too many for Lukashenko. Zubr report.'),\n",
    "        ('06-135-0007', 'Too many for Lukashenko. Zubr report.'),\n",
    "        \n",
    "        ('07-001-0064', 'Too many for Lukashenko. Zubr report. Conflict.'),\n",
    "        ('07-001-0088', 'Too many for Lukashenko. Zubr report. Conflict.'),\n",
    "        ('07-006-0005', 'Too many for Lukashenko. Zubr report.'),\n",
    "        ('07-006-0012', 'Too many for Lukashenko. Zubr report.'),\n",
    "        ('07-006-0021', 'Too many for Lukashenko. Zubr report.'),\n",
    "        ('07-006-0023', 'Too many for Lukashenko. Zubr report.'),\n",
    "        ('07-006-0035', 'Too many for Lukashenko. Zubr report.'),\n",
    "        ('07-006-0041', 'Too many for Lukashenko. Zubr report.'),\n",
    "        ('07-006-0044', 'Too many for Lukashenko. Zubr report.'),\n",
    "        ('07-006-0048', 'Too many for Lukashenko. Zubr report.'),\n",
    "        ('07-006-0007', 'Too many for Lukashenko. Zubr report.'),\n",
    "        ('07-006-0043', 'Too many for Lukashenko. Zubr report.'),\n",
    "        ('07-006-0059', 'Too many for Lukashenko. Zubr report.'),\n",
    "        ('07-009-0017', 'Too many for Lukashenko. Zubr report.'),\n",
    "        ('07-003-0020', 'Too many for Lukashenko. Zubr report.'),\n",
    "        ('07-002-0043', 'Too many for Lukashenko. Zubr report.'),\n",
    "        ('07-002-0050', 'Too many for Lukashenko. Zubr report.'),\n",
    "        ('07-002-0065', 'Too many for Lukashenko. Zubr report.'),\n",
    "        ('07-003-0010', 'Too many for Lukashenko. Zubr report.'),\n",
    "        ('07-003-0011', 'Too many for Lukashenko. Zubr report.'),\n",
    "        ('07-003-0019', 'Too many for Lukashenko. Zubr report.'),\n",
    "        ('07-003-0021', 'Too many for Lukashenko. Zubr report.'),\n",
    "        ('07-003-0093', 'Too many for Lukashenko. Zubr report.'),\n",
    "        ('07-004-0047', 'Too many for Lukashenko. Zubr report.'),\n",
    "        ('07-005-0006', 'Too many for Lukashenko. Zubr report.'),\n",
    "        ('07-005-0014', 'Too many for Lukashenko. Zubr report.'),  \n",
    "        ('07-006-0070', 'Too many for Lukashenko. Zubr report.'),\n",
    "        ('07-002-0115', 'Too many for Lukashenko. Zubr report.'),\n",
    "    ],    \n",
    "    'lukashenko-report-and-high-turnout': [\n",
    "        ('01-011-0007', 'High turnout, many for Lukashenko. Minor zubr report.'),\n",
    "        ('01-011-0036', 'High turnout, many for Lukashenko. Minor zubr report.'),\n",
    "        ('01-011-0046', 'High turnout, many for Lukashenko. Minor zubr report.'),\n",
    "        ('01-011-0076', 'High turnout, many for Lukashenko. Minor zubr report.'),\n",
    "        ('01-054-0026', 'High turnout, many for Lukashenko. Zubr report.'),\n",
    "        \n",
    "        ('02-074-0005', 'High turnout, many for Lukashenko. Minor zubr report.'),\n",
    "        ('02-066-0013', 'High turnout, many for Lukashenko. Minor zubr report.'),\n",
    "        \n",
    "        ('04-021-0011', 'High turnout, many for Lukashenko. Minor zubr report.'),\n",
    "        ('04-022-0068', 'High turnout, many for Lukashenko. Minor zubr report.'),\n",
    "        \n",
    "        ('05-026-0009', 'High turnout, many for Lukashenko. Minor zubr report.'),\n",
    "        ('05-039-0046', 'High turnout, many for Lukashenko. Minor zubr report.'),\n",
    "        \n",
    "        ('06-023-0135', 'High turnout, many for Lukashenko. Minor zubr report.'),\n",
    "        \n",
    "        ('07-001-0059', 'High turnout, many for Lukashenko. Minor zubr report.'),\n",
    "        ('07-004-0028', 'High turnout, many for Lukashenko. Minor zubr report.'),\n",
    "        ('07-005-0018', 'High turnout, many for Lukashenko. Minor zubr report.'),\n",
    "    ],\n",
    "    'lukashenko-no-observers': [\n",
    "        ('01-010-0023', 'Too many for Lukashenko. No observers.'),\n",
    "        ('01-010-0040', 'Too many for Lukashenko. No observers.'),\n",
    "        ('01-056-0043', 'Too many for Lukashenko. No observers.'),\n",
    "        ('01-057-0037', 'Too many for Lukashenko. No observers.'),\n",
    "        ('01-057-0043', 'Too many for Lukashenko. No observers.'),\n",
    "        \n",
    "        ('02-067-0015', 'Too many for Lukashenko. No observers.'),\n",
    "        ('02-068-0013', 'Too many for Lukashenko. No observers.'),\n",
    "        ('02-075-0013', 'Too many for Lukashenko. No observers.'),   \n",
    "        ('02-074-0023', 'Too many for Lukashenko. No observers. High turnout.'),\n",
    "        \n",
    "        ('03-085-0009', 'Too many for Lukashenko. No observers. High turnout.'),\n",
    "        ('03-091-0036', 'Too many for Lukashenko. No observer.'),\n",
    "        ('03-091-0043', 'Too many for Lukashenko. No observers.'),\n",
    "        \n",
    "        ('04-021-0062', 'Too many for Lukashenko. No observers.'),\n",
    "        ('04-110-0001', 'Too many for Lukashenko. No observers.'),\n",
    "        ('04-112-0019', 'Too many for Lukashenko. No observers.'),\n",
    "        ('04-112-0059', 'Too many for Lukashenko. No observers.'),\n",
    "        ('04-118-0002', 'Too many for Lukashenko. No observers.'),\n",
    "        ('04-112-0054', 'Too many for Lukashenko. No observers.'),\n",
    "        \n",
    "        ('05-026-0066', 'Too many for Lukashenko. No observers.'),\n",
    "        ('05-026-0082', \"Too few for Against. No observers.\"),\n",
    "        ('05-027-0005', 'Too many for Lukashenko. No observers.'),\n",
    "        ('05-040-0018', 'Too many for Lukashenko. No observers.'),\n",
    "        ('05-041-0032', 'Too many for Lukashenko. No observers.'),\n",
    "        ('05-045-0010', 'Too many for Lukashenko. No observers.'), \n",
    "        \n",
    "        ('06-012-0085', 'Too many for Lukashenko. No observers.'),\n",
    "        ('06-013-0014', 'Too many for Lukashenko. No observers.'),\n",
    "        \n",
    "    ],\n",
    "    'lukashenko-high-turnout-one-observer': [\n",
    "        ('01-049-0008', 'Too many for Lukashenko. One observer.'),\n",
    "        ('01-010-0008', 'Too many for Lukashenko. High turnout. One observer.'),\n",
    "        ('01-010-0011', 'Too many for Lukashenko. High turnout. One observer.'),\n",
    "        ('01-010-0022', 'Too many for Lukashenko. High turnout. One observer.'),\n",
    "        ('01-010-0027', 'Too many for Lukashenko. High turnout. One observer.'),\n",
    "        ('01-011-0063', 'Too many for Lukashenko. High turnout. One observer.'),\n",
    "        ('01-011-0066', 'Too many for Lukashenko. High turnout. One observer.'),\n",
    "        ('01-054-0043', 'Too many for Lukashenko. High turnout. One observer.'),\n",
    "        ('01-060-0028', 'Too many for Lukashenko. High turnout. One observer.'),\n",
    "        \n",
    "        ('02-014-0005', 'Too many for Lukashenko. High turnout. One observer.'),\n",
    "        ('02-015-0045', 'Too many for Lukashenko. High turnout. One observer.'),\n",
    "        ('02-071-0015', 'Too many for Lukashenko. High turnout. One observer.'),\n",
    "        ('02-075-0051', 'Too many for Lukashenko. High turnout. One observer.'),\n",
    "        ('02-076-0039', 'Too many for Lukashenko. High turnout. One observer.'),\n",
    "        ('02-076-0040', 'Too many for Lukashenko. High turnout. One observer.'),\n",
    "        ('02-078-0008', 'Too many for Lukashenko. High turnout. One observer.'),\n",
    "        \n",
    "        ('03-096-0036', 'Too many for Lukashenko. High turnout. One observer.'),\n",
    "        ('03-100-0009', 'Too many for Lukashenko. High turnout. One observer.'),\n",
    "        \n",
    "        ('04-021-0022', 'Too many for Lukashenko. High turnout. One observer.'),\n",
    "        ('04-022-0077', 'Too many for Lukashenko. High turnout. One observer.'),\n",
    "        ('04-022-0087', 'Too many for Lukashenko. High turnout. One observer.'),\n",
    "        ('04-022-0105', 'Too many for Lukashenko. High turnout. One observer.'),\n",
    "        ('04-022-0106', 'Too many for Lukashenko. High turnout. One observer.'),\n",
    "        ('04-022-0119', 'Too many for Lukashenko. High turnout. One observer.'),\n",
    "        ('04-022-0123', 'Too many for Lukashenko. High turnout. One observer.'),\n",
    "        ('04-022-0124', 'Too many for Lukashenko. High turnout. One observer.'),\n",
    "        ('04-112-0036', 'Too many for Lukashenko. High turnout. One observer.'),\n",
    "        ('04-112-0065', 'Too many for Lukashenko. High turnout. One observer.'),\n",
    "        ('04-114-0018', 'Too many for Lukashenko. High turnout. One observer.'),\n",
    "        ('04-118-0026', 'Too many for Lukashenko. High turnout. One observer.'),\n",
    "        ('04-118-0027', 'Too many for Lukashenko. High turnout. One observer.'),\n",
    "        ('04-119-0002', 'Too many for Lukashenko. High turnout. One observer.'),\n",
    "        ('04-145-0002', 'Too many for Lukashenko. High turnout. One observer.'),\n",
    "        \n",
    "        ('05-026-0068', 'Too many for Lukashenko. High turnout. One observer.'),   \n",
    "        ('05-027-0009', 'Too many for Lukashenko. High turnout. One observer.'),  \n",
    "        ('05-039-0048', 'Too many for Lukashenko. High turnout. One observer.'),\n",
    "        ('05-141-0048', 'Too many for Lukashenko. High turnout. One observer.'),\n",
    "        ('05-141-0102', 'Too many for Lukashenko. High turnout. One observer.'),\n",
    "        ('05-044-0002', 'Too many for Lukashenko. High turnout. One observer.'),\n",
    "        \n",
    "        ('06-012-0058', 'Too many for Lukashenko. High turnout. One observer.'),\n",
    "        ('06-012-0082', 'Too many for Lukashenko. High turnout. One observer.'),\n",
    "        ('06-012-0083', 'Too many for Lukashenko. High turnout. One observer.'),\n",
    "        ('06-121-0006', 'Too many for Lukashenko. High turnout. One observer.'),\n",
    "        ('06-135-0001', 'Too many for Lukashenko. High turnout. One observer.'),\n",
    "        ('06-135-0020', 'Too many for Lukashenko. High turnout. One observer.'),\n",
    "        \n",
    "        \n",
    "    ],\n",
    "    'lukashenko-one-observer': [\n",
    "        ('01-060-0010', \"Too many for Lukashenko. Too many outliers. One observer.\"),\n",
    "        \n",
    "        ('02-016-0040', \"Too many for Lukashenko and Against. One observer.\"),\n",
    "        ('02-067-0005', 'Too many for Lukashenko. One observer.'),\n",
    "        ('02-076-0020', 'Too many for Lukashenko. One observer.'),\n",
    "        ('02-077-0006', 'Too many for Lukashenko. One observer.'),\n",
    "        \n",
    "        ('03-019-0019', 'Too many for Lukashenko. One observer.'),\n",
    "        ('03-087-0009', 'Too many for Lukashenko. One observer.'),\n",
    "        ('03-091-0009', 'Too many for Lukashenko. One observer.'),\n",
    "        \n",
    "        ('04-112-0010', 'Too many for Lukashenko. One observer.'),\n",
    "        ('04-112-0024', 'Too many for Lukashenko. One observer.'),\n",
    "        ('04-112-0028', 'Too many for Lukashenko. One observer.'),\n",
    "        ('04-114-0001', 'Too many for Lukashenko. One observer.'),\n",
    "        ('04-118-0027', 'Too many for Lukashenko. One observer.'),\n",
    "        ('04-145-0023', 'Too many for Lukashenko. One observer.'),\n",
    "        \n",
    "        ('05-036-0076', 'Too many for Lukashenko. One observer.'),     \n",
    "        ('05-041-0025', \"Too many for corrupted. One observer.\"),\n",
    "        ('07-001-0061', 'Too many for Lukashenko. One observer.'),\n",
    "    ],\n",
    "    \n",
    "    'lukashenko-high-turnout': [\n",
    "        ('01-010-0004', 'High turnout, many for Lukashenko. No zubr report.'),\n",
    "        ('01-010-0012', 'High turnout, many for Lukashenko. No zubr report.'),\n",
    "        ('01-010-0017', 'High turnout, many for Lukashenko. No zubr report.'),\n",
    "        ('01-011-0066', 'High turnout, many for Lukashenko. No zubr report.'),\n",
    "        ('01-011-0079', 'High turnout, many for Lukashenko. No zubr report.'),\n",
    "        ('01-011-0088', 'High turnout, many for Lukashenko. No zubr report.'),\n",
    "        ('01-049-0006', 'High turnout, many for Lukashenko. No zubr report.'),\n",
    "        ('01-054-0005', 'High turnout, many for Lukashenko. No zubr report.'),\n",
    "        ('01-054-0009', 'High turnout, many for Lukashenko. No zubr report.'),\n",
    "        ('01-056-0017', 'High turnout, many for Lukashenko. Two observers. No zubr report.'),\n",
    "        \n",
    "        ('02-015-0001', 'High turnout, many for Lukashenko. Two observers. No zubr report.'),\n",
    "        ('02-015-0026', 'High turnout, many for Lukashenko. No zubr report.'),\n",
    "        ('02-016-0056', 'High turnout, many for Lukashenko. No zubr report.'),\n",
    "        ('02-016-0071', 'High turnout, many for Lukashenko. No zubr report.'),\n",
    "        ('02-075-0002', 'High turnout, many for Lukashenko. No zubr report.'),\n",
    "        ('02-076-0008', 'High turnout, many for Lukashenko. No zubr report.'),\n",
    "        \n",
    "        ('03-096-0031', 'High turnout, many for Lukashenko. No zubr report.'),\n",
    "        ('03-096-0043', 'High turnout, many for Lukashenko. No zubr report.'),\n",
    "        \n",
    "        ('04-021-0008', 'High turnout, many for Lukashenko. Three observers. No zubr report.'),\n",
    "        ('04-021-0023', 'High turnout, many for Lukashenko. No zubr report.'),        \n",
    "        ('04-021-0044', 'High turnout, many for Lukashenko. Two observers. No zubr report.'),\n",
    "        ('04-022-0082', 'High turnout, many for Lukashenko. No zubr report.'),\n",
    "        ('04-022-0095', 'High turnout, many for Lukashenko. No zubr report.'),\n",
    "        ('04-022-0097', 'High turnout, many for Lukashenko. No zubr report.'),\n",
    "        ('04-022-0110', 'High turnout, many for Lukashenko. No zubr report.'),\n",
    "        ('04-022-0122', 'High turnout, many for Lukashenko. No zubr report.'),\n",
    "        ('04-022-0134', 'High turnout, many for Lukashenko. No zubr report.'),\n",
    "        ('04-112-0023', 'High turnout, many for Lukashenko. No zubr report.'),\n",
    "        ('04-119-0011', 'High turnout, many for Lukashenko. No zubr report.'),\n",
    "        ('04-119-0019', 'High turnout, many for Lukashenko. No zubr report.'),\n",
    "        ('04-145-0019', 'High turnout, many for Lukashenko. No zubr report.'),\n",
    "        \n",
    "        ('05-026-0017', 'High turnout, many for Lukashenko. No zubr report.'),\n",
    "        ('05-036-0017', 'High turnout, many for Lukashenko. No zubr report.'),\n",
    "        ('05-038-0003', 'High turnout, many for Lukashenko. No zubr report.'),\n",
    "        ('05-039-0042', 'High turnout, many for Lukashenko. No zubr report.'),\n",
    "        ('05-141-0041', 'High turnout, many for Lukashenko. No zubr report.'),\n",
    "        ('05-141-0044', 'High turnout, many for Lukashenko. No zubr report.'),\n",
    "        ('05-141-0045', 'High turnout, many for Lukashenko. No zubr report.'),\n",
    "        ('05-141-0046', 'High turnout, many for Lukashenko. No zubr report.'),\n",
    "        ('05-141-0083', 'High turnout, many for Lukashenko. No zubr report. Military base.'),\n",
    "        \n",
    "        ('06-012-0084', 'High turnout, many for Lukashenko. No zubr report.'),\n",
    "        ('06-135-0025', 'High turnout, many for Lukashenko. No zubr report.'),\n",
    "        ('06-146-0024', 'High turnout, many for Lukashenko. No zubr report.'),\n",
    "    ],\n",
    "}"
   ]
  },
  {
   "cell_type": "code",
   "execution_count": 128,
   "metadata": {},
   "outputs": [],
   "source": [
    "non_trusted = []\n",
    "\n",
    "for category, pairs in categorized_outliers.items():\n",
    "    for ps_id, explanation in pairs:\n",
    "        non_trusted.append({\n",
    "            'id': ps_id,\n",
    "            'reason': category,\n",
    "            'explanation': explanation,\n",
    "        })\n",
    "        \n",
    "non_trusted_df = pd.DataFrame(non_trusted)\n",
    "non_trusted_df.to_csv('outliers.csv', index=False)"
   ]
  },
  {
   "cell_type": "code",
   "execution_count": 129,
   "metadata": {},
   "outputs": [],
   "source": [
    "zubr = pd.read_csv('zubr.csv')\n",
    "df = df.merge(zubr, on='id')"
   ]
  },
  {
   "cell_type": "code",
   "execution_count": 130,
   "metadata": {},
   "outputs": [],
   "source": [
    "reasons = pd.read_csv('zubr-violation-codes.csv')['reason']"
   ]
  },
  {
   "cell_type": "code",
   "execution_count": 131,
   "metadata": {},
   "outputs": [],
   "source": [
    "df['major-violations'] = df['non-transparent-counting'] | df['late-report']\n",
    "df['minor-violations'] = (\n",
    "    df['accreditation-reject'] | \n",
    "    df['let-observer-in-violation'] | \n",
    "    df['no-let-observer-in'] |\n",
    "    df['observer-pushed-away'] |\n",
    "    df['force-beforehand-voting'] |\n",
    "    df['home-voting-violation'] |\n",
    "    # df['no-medcine-on-poll-station'] |\n",
    "    df['other'] |\n",
    "    df['observer-limitations']    \n",
    ")\n"
   ]
  },
  {
   "cell_type": "code",
   "execution_count": 132,
   "metadata": {},
   "outputs": [],
   "source": [
    "df = df.drop(set(reasons) - {'wrong-voters-number'}, axis=1)"
   ]
  },
  {
   "cell_type": "code",
   "execution_count": 133,
   "metadata": {},
   "outputs": [],
   "source": [
    "extended_df = df.merge(\n",
    "    non_trusted_df[['id', 'reason']].rename(columns={'reason': 'outlier-reason'}), \n",
    "    how='left', \n",
    "    on='id'\n",
    ")\n",
    "extended_df.to_csv('trusted_by_voice_extended.csv', index=False)"
   ]
  },
  {
   "cell_type": "code",
   "execution_count": 134,
   "metadata": {},
   "outputs": [],
   "source": [
    "df = df[~df['id'].isin(non_trusted_df['id'])]"
   ]
  },
  {
   "cell_type": "code",
   "execution_count": 135,
   "metadata": {},
   "outputs": [],
   "source": [
    "df.to_csv('trusted-for-alternative.csv', index=False)"
   ]
  },
  {
   "cell_type": "code",
   "execution_count": 136,
   "metadata": {
    "scrolled": false
   },
   "outputs": [
    {
     "data": {
      "application/vnd.plotly.v1+json": {
       "config": {
        "plotlyServerURL": "https://plot.ly"
       },
       "data": [
        {
         "mode": "markers",
         "name": "city (0.93)",
         "text": [
          "01-010-0007",
          "01-010-0010",
          "01-010-0025",
          "01-010-0028",
          "01-010-0032",
          "01-010-0034",
          "01-010-0044",
          "01-011-0015",
          "01-011-0032",
          "01-011-0037",
          "01-011-0038",
          "01-011-0049",
          "01-011-0061",
          "01-011-0087",
          "02-015-0025",
          "02-016-0006",
          "02-016-0014",
          "02-016-0018",
          "02-016-0059",
          "02-143-0016",
          "02-143-0019",
          "02-143-0022",
          "03-019-0049",
          "04-021-0032",
          "04-021-0048",
          "04-022-0067",
          "04-022-0080",
          "04-022-0081",
          "04-022-0085",
          "04-022-0107",
          "04-022-0117",
          "04-022-0121",
          "04-022-0125",
          "04-022-0128",
          "04-022-0135",
          "06-024-0010",
          "06-146-0025",
          "06-146-0035"
         ],
         "type": "scatter",
         "x": [
          194,
          89,
          236,
          164,
          148,
          267,
          116,
          209,
          140,
          109,
          104,
          237,
          175,
          267,
          145,
          46,
          145,
          123,
          101,
          65,
          122,
          124,
          123,
          81,
          118,
          275,
          198,
          204,
          78,
          176,
          138,
          154,
          162,
          231,
          193,
          91,
          71,
          83
         ],
         "y": [
          1010,
          443,
          1107,
          764,
          711,
          1223,
          473,
          1113,
          582,
          543,
          510,
          1055,
          869,
          1155,
          672,
          284,
          666,
          674,
          311,
          531,
          764,
          470,
          620,
          301,
          620,
          1002,
          955,
          803,
          449,
          709,
          819,
          697,
          709,
          930,
          844,
          439,
          440,
          424
         ]
        },
        {
         "mode": "markers",
         "name": "minsk_suburb (0.89)",
         "text": [
          "05-141-0003",
          "05-141-0005",
          "05-141-0008",
          "05-141-0011",
          "05-141-0014",
          "05-141-0015",
          "05-141-0017",
          "05-141-0018",
          "05-141-0019",
          "05-141-0025",
          "05-141-0040",
          "05-141-0050",
          "05-141-0051",
          "05-141-0054",
          "05-141-0055",
          "05-141-0056",
          "05-141-0075",
          "05-141-0077",
          "05-141-0078",
          "05-141-0091",
          "05-141-0092",
          "05-141-0093",
          "05-141-0096",
          "05-141-0098",
          "05-141-0100",
          "05-141-0101",
          "05-141-0104",
          "05-141-0105",
          "05-141-0107"
         ],
         "type": "scatter",
         "x": [
          291,
          330,
          317,
          416,
          283,
          166,
          316,
          237,
          313,
          563,
          413,
          172,
          292,
          476,
          142,
          124,
          155,
          161,
          226,
          144,
          369,
          369,
          200,
          312,
          331,
          106,
          222,
          154,
          170
         ],
         "y": [
          1048,
          1002,
          688,
          947,
          837,
          652,
          860,
          660,
          985,
          1274,
          1266,
          719,
          737,
          1230,
          470,
          433,
          431,
          547,
          834,
          418,
          1128,
          916,
          691,
          1052,
          644,
          373,
          666,
          560,
          673
         ]
        },
        {
         "mode": "markers",
         "name": "capital (0.89)",
         "text": [
          "07-001-0005",
          "07-001-0008",
          "07-001-0010",
          "07-001-0012",
          "07-001-0016",
          "07-001-0022",
          "07-001-0060",
          "07-001-0089",
          "07-002-0017",
          "07-002-0044",
          "07-002-0051",
          "07-002-0060",
          "07-002-0072",
          "07-003-0002",
          "07-003-0024",
          "07-003-0058",
          "07-003-0061",
          "07-003-0085",
          "07-003-0094",
          "07-004-0002",
          "07-004-0004",
          "07-004-0005",
          "07-004-0006",
          "07-004-0007",
          "07-004-0018",
          "07-004-0026",
          "07-004-0051",
          "07-005-0002",
          "07-005-0007",
          "07-005-0021",
          "07-005-0026",
          "07-005-0034",
          "07-005-0037",
          "07-006-0008",
          "07-006-0037",
          "07-006-0072",
          "07-008-0057",
          "07-008-0070",
          "07-008-0079",
          "07-009-0014"
         ],
         "type": "scatter",
         "x": [
          136,
          160,
          188,
          114,
          184,
          184,
          175,
          354,
          201,
          298,
          189,
          244,
          199,
          304,
          246,
          274,
          306,
          399,
          365,
          214,
          205,
          278,
          217,
          285,
          252,
          249,
          400,
          7,
          280,
          295,
          308,
          218,
          348,
          714,
          278,
          293,
          276,
          790,
          234,
          206
         ],
         "y": [
          644,
          615,
          751,
          500,
          402,
          561,
          465,
          1006,
          339,
          469,
          550,
          476,
          430,
          815,
          686,
          541,
          880,
          928,
          1121,
          420,
          510,
          974,
          581,
          460,
          757,
          713,
          1226,
          69,
          890,
          480,
          704,
          782,
          1259,
          1869,
          848,
          605,
          539,
          1979,
          394,
          707
         ]
        },
        {
         "mode": "markers",
         "name": "village (0.82)",
         "text": [
          "01-049-0030",
          "01-050-0011",
          "01-053-0021",
          "01-055-0010",
          "01-055-0017",
          "01-056-0021",
          "01-056-0024",
          "01-057-0025",
          "01-063-0049",
          "01-142-0002",
          "02-065-0015",
          "02-067-0010",
          "02-069-0006",
          "02-072-0011",
          "02-077-0016",
          "02-143-0008",
          "03-088-0027",
          "03-091-0046",
          "03-091-0047",
          "03-091-0048",
          "03-100-0057",
          "03-101-0029",
          "03-101-0036",
          "03-101-0037",
          "04-105-0011",
          "04-110-0013",
          "04-112-0055",
          "04-112-0064",
          "04-117-0011",
          "04-117-0014",
          "04-119-0024",
          "04-119-0029",
          "04-145-0024",
          "05-027-0018",
          "05-027-0023",
          "05-029-0018",
          "05-029-0034",
          "05-034-0014",
          "05-034-0019",
          "05-036-0039",
          "05-036-0044",
          "05-037-0016",
          "05-039-0005",
          "05-039-0010",
          "05-039-0011",
          "05-039-0012",
          "05-039-0028",
          "05-040-0063",
          "05-041-0012",
          "05-041-0026",
          "05-041-0030",
          "05-042-0041",
          "05-042-0050",
          "05-042-0056",
          "05-042-0062",
          "05-044-0010",
          "05-044-0025",
          "05-045-0012",
          "05-045-0018",
          "05-046-0022",
          "05-141-0058",
          "05-141-0061",
          "05-141-0070",
          "05-141-0080",
          "05-141-0081",
          "05-141-0103",
          "05-141-0108",
          "06-146-0008"
         ],
         "type": "scatter",
         "x": [
          46,
          11,
          26,
          6,
          12,
          23,
          9,
          16,
          10,
          74,
          27,
          8,
          58,
          16,
          51,
          8,
          9,
          47,
          23,
          20,
          7,
          7,
          7,
          23,
          8,
          30,
          35,
          44,
          5,
          5,
          36,
          35,
          68,
          31,
          77,
          29,
          125,
          5,
          31,
          59,
          41,
          37,
          145,
          147,
          96,
          96,
          10,
          76,
          60,
          33,
          101,
          49,
          29,
          5,
          22,
          37,
          28,
          11,
          14,
          122,
          136,
          74,
          206,
          149,
          191,
          52,
          106,
          30
         ],
         "y": [
          421,
          172,
          443,
          153,
          116,
          222,
          121,
          293,
          141,
          641,
          215,
          144,
          424,
          163,
          351,
          62,
          108,
          331,
          223,
          161,
          176,
          101,
          117,
          253,
          123,
          229,
          358,
          367,
          108,
          112,
          265,
          376,
          424,
          472,
          425,
          87,
          380,
          63,
          177,
          317,
          130,
          407,
          593,
          376,
          508,
          489,
          74,
          565,
          391,
          69,
          444,
          427,
          216,
          80,
          150,
          352,
          230,
          128,
          168,
          648,
          548,
          475,
          794,
          480,
          680,
          236,
          267,
          245
         ]
        },
        {
         "mode": "markers",
         "name": "town_below100 (0.85)",
         "text": [
          "01-049-0013",
          "01-049-0015",
          "01-054-0001",
          "01-055-0002",
          "01-055-0003",
          "01-055-0032",
          "01-056-0005",
          "01-056-0019",
          "01-062-0009",
          "01-063-0010",
          "02-065-0001",
          "02-065-0006",
          "02-065-0007",
          "02-072-0020",
          "02-073-0004",
          "02-077-0019",
          "02-081-0001",
          "02-082-0020",
          "03-091-0012",
          "03-091-0014",
          "03-091-0015",
          "03-091-0016",
          "03-091-0017",
          "03-091-0018",
          "03-091-0021",
          "03-091-0022",
          "03-091-0024",
          "03-091-0026",
          "03-091-0027",
          "03-091-0028",
          "03-091-0030",
          "03-091-0032",
          "03-091-0033",
          "03-101-0008",
          "03-101-0011",
          "03-101-0015",
          "03-102-0003",
          "04-106-0011",
          "04-110-0003",
          "04-112-0070",
          "04-114-0004",
          "04-114-0017",
          "04-115-0002",
          "04-115-0003",
          "04-115-0005",
          "04-118-0004",
          "04-119-0007",
          "04-119-0008",
          "04-119-0013",
          "04-119-0016",
          "05-027-0006",
          "05-027-0007",
          "05-036-0003",
          "05-036-0004",
          "05-036-0020",
          "05-036-0023",
          "05-036-0029",
          "05-036-0074",
          "05-036-0075",
          "05-038-0004",
          "05-040-0002",
          "05-040-0008",
          "05-040-0019",
          "05-040-0028",
          "05-041-0008",
          "05-041-0035",
          "05-044-0004",
          "05-044-0005",
          "05-044-0007",
          "06-129-0001",
          "06-135-0002",
          "06-135-0011"
         ],
         "type": "scatter",
         "x": [
          120,
          213,
          132,
          87,
          86,
          77,
          184,
          206,
          39,
          60,
          111,
          90,
          50,
          76,
          70,
          57,
          100,
          139,
          83,
          109,
          104,
          71,
          140,
          58,
          125,
          203,
          206,
          237,
          339,
          89,
          121,
          256,
          229,
          82,
          79,
          117,
          71,
          143,
          77,
          130,
          103,
          68,
          43,
          99,
          103,
          58,
          151,
          113,
          88,
          95,
          117,
          49,
          104,
          156,
          146,
          140,
          130,
          110,
          109,
          195,
          163,
          145,
          96,
          52,
          101,
          65,
          148,
          185,
          125,
          51,
          88,
          115
         ],
         "y": [
          865,
          1176,
          879,
          575,
          745,
          553,
          905,
          1049,
          241,
          634,
          672,
          567,
          369,
          562,
          460,
          475,
          721,
          1027,
          205,
          575,
          476,
          492,
          359,
          389,
          797,
          754,
          1205,
          1369,
          1446,
          361,
          687,
          1428,
          884,
          477,
          515,
          403,
          316,
          848,
          559,
          749,
          504,
          501,
          309,
          630,
          590,
          407,
          871,
          617,
          454,
          664,
          583,
          415,
          549,
          428,
          886,
          502,
          741,
          647,
          507,
          1061,
          954,
          663,
          557,
          294,
          478,
          521,
          731,
          889,
          562,
          560,
          752,
          647
         ]
        },
        {
         "mode": "markers",
         "name": "town_over100 (0.70)",
         "text": [
          "01-060-0059",
          "01-060-0060",
          "01-060-0061",
          "02-074-0004",
          "02-074-0018",
          "02-074-0019",
          "02-075-0005",
          "02-075-0019",
          "03-096-0008",
          "03-096-0009",
          "03-096-0023",
          "03-096-0026",
          "03-096-0038",
          "03-096-0039",
          "04-112-0002",
          "04-112-0007",
          "04-112-0012",
          "04-112-0016",
          "04-112-0020",
          "04-112-0025",
          "04-112-0026",
          "04-112-0029",
          "04-112-0032",
          "04-112-0044",
          "05-026-0005",
          "05-026-0011",
          "05-026-0016",
          "05-026-0061",
          "05-026-0062",
          "06-012-0069",
          "06-012-0077",
          "06-013-0020",
          "06-013-0021",
          "06-013-0048"
         ],
         "type": "scatter",
         "x": [
          107,
          89,
          123,
          209,
          140,
          117,
          78,
          64,
          71,
          58,
          112,
          114,
          71,
          80,
          107,
          121,
          222,
          166,
          95,
          100,
          124,
          86,
          94,
          117,
          33,
          134,
          91,
          92,
          82,
          74,
          92,
          109,
          110,
          74
         ],
         "y": [
          615,
          466,
          793,
          579,
          432,
          574,
          378,
          160,
          397,
          335,
          606,
          611,
          394,
          660,
          634,
          603,
          1052,
          752,
          507,
          558,
          425,
          499,
          493,
          335,
          189,
          855,
          489,
          256,
          257,
          301,
          507,
          623,
          815,
          383
         ]
        },
        {
         "mode": "markers",
         "name": "embassy (0.66)",
         "text": [
          "07-002-0084",
          "07-002-0085",
          "07-002-0089",
          "07-002-0094",
          "07-002-0099",
          "07-002-0107",
          "07-002-0108",
          "07-002-0112",
          "07-002-0118"
         ],
         "type": "scatter",
         "x": [
          19,
          26,
          16,
          9,
          5,
          9,
          98,
          3,
          2
         ],
         "y": [
          1036,
          786,
          272,
          421,
          368,
          419,
          959,
          213,
          345
         ]
        }
       ],
       "layout": {
        "template": {
         "data": {
          "bar": [
           {
            "error_x": {
             "color": "#2a3f5f"
            },
            "error_y": {
             "color": "#2a3f5f"
            },
            "marker": {
             "line": {
              "color": "#E5ECF6",
              "width": 0.5
             }
            },
            "type": "bar"
           }
          ],
          "barpolar": [
           {
            "marker": {
             "line": {
              "color": "#E5ECF6",
              "width": 0.5
             }
            },
            "type": "barpolar"
           }
          ],
          "carpet": [
           {
            "aaxis": {
             "endlinecolor": "#2a3f5f",
             "gridcolor": "white",
             "linecolor": "white",
             "minorgridcolor": "white",
             "startlinecolor": "#2a3f5f"
            },
            "baxis": {
             "endlinecolor": "#2a3f5f",
             "gridcolor": "white",
             "linecolor": "white",
             "minorgridcolor": "white",
             "startlinecolor": "#2a3f5f"
            },
            "type": "carpet"
           }
          ],
          "choropleth": [
           {
            "colorbar": {
             "outlinewidth": 0,
             "ticks": ""
            },
            "type": "choropleth"
           }
          ],
          "contour": [
           {
            "colorbar": {
             "outlinewidth": 0,
             "ticks": ""
            },
            "colorscale": [
             [
              0,
              "#0d0887"
             ],
             [
              0.1111111111111111,
              "#46039f"
             ],
             [
              0.2222222222222222,
              "#7201a8"
             ],
             [
              0.3333333333333333,
              "#9c179e"
             ],
             [
              0.4444444444444444,
              "#bd3786"
             ],
             [
              0.5555555555555556,
              "#d8576b"
             ],
             [
              0.6666666666666666,
              "#ed7953"
             ],
             [
              0.7777777777777778,
              "#fb9f3a"
             ],
             [
              0.8888888888888888,
              "#fdca26"
             ],
             [
              1,
              "#f0f921"
             ]
            ],
            "type": "contour"
           }
          ],
          "contourcarpet": [
           {
            "colorbar": {
             "outlinewidth": 0,
             "ticks": ""
            },
            "type": "contourcarpet"
           }
          ],
          "heatmap": [
           {
            "colorbar": {
             "outlinewidth": 0,
             "ticks": ""
            },
            "colorscale": [
             [
              0,
              "#0d0887"
             ],
             [
              0.1111111111111111,
              "#46039f"
             ],
             [
              0.2222222222222222,
              "#7201a8"
             ],
             [
              0.3333333333333333,
              "#9c179e"
             ],
             [
              0.4444444444444444,
              "#bd3786"
             ],
             [
              0.5555555555555556,
              "#d8576b"
             ],
             [
              0.6666666666666666,
              "#ed7953"
             ],
             [
              0.7777777777777778,
              "#fb9f3a"
             ],
             [
              0.8888888888888888,
              "#fdca26"
             ],
             [
              1,
              "#f0f921"
             ]
            ],
            "type": "heatmap"
           }
          ],
          "heatmapgl": [
           {
            "colorbar": {
             "outlinewidth": 0,
             "ticks": ""
            },
            "colorscale": [
             [
              0,
              "#0d0887"
             ],
             [
              0.1111111111111111,
              "#46039f"
             ],
             [
              0.2222222222222222,
              "#7201a8"
             ],
             [
              0.3333333333333333,
              "#9c179e"
             ],
             [
              0.4444444444444444,
              "#bd3786"
             ],
             [
              0.5555555555555556,
              "#d8576b"
             ],
             [
              0.6666666666666666,
              "#ed7953"
             ],
             [
              0.7777777777777778,
              "#fb9f3a"
             ],
             [
              0.8888888888888888,
              "#fdca26"
             ],
             [
              1,
              "#f0f921"
             ]
            ],
            "type": "heatmapgl"
           }
          ],
          "histogram": [
           {
            "marker": {
             "colorbar": {
              "outlinewidth": 0,
              "ticks": ""
             }
            },
            "type": "histogram"
           }
          ],
          "histogram2d": [
           {
            "colorbar": {
             "outlinewidth": 0,
             "ticks": ""
            },
            "colorscale": [
             [
              0,
              "#0d0887"
             ],
             [
              0.1111111111111111,
              "#46039f"
             ],
             [
              0.2222222222222222,
              "#7201a8"
             ],
             [
              0.3333333333333333,
              "#9c179e"
             ],
             [
              0.4444444444444444,
              "#bd3786"
             ],
             [
              0.5555555555555556,
              "#d8576b"
             ],
             [
              0.6666666666666666,
              "#ed7953"
             ],
             [
              0.7777777777777778,
              "#fb9f3a"
             ],
             [
              0.8888888888888888,
              "#fdca26"
             ],
             [
              1,
              "#f0f921"
             ]
            ],
            "type": "histogram2d"
           }
          ],
          "histogram2dcontour": [
           {
            "colorbar": {
             "outlinewidth": 0,
             "ticks": ""
            },
            "colorscale": [
             [
              0,
              "#0d0887"
             ],
             [
              0.1111111111111111,
              "#46039f"
             ],
             [
              0.2222222222222222,
              "#7201a8"
             ],
             [
              0.3333333333333333,
              "#9c179e"
             ],
             [
              0.4444444444444444,
              "#bd3786"
             ],
             [
              0.5555555555555556,
              "#d8576b"
             ],
             [
              0.6666666666666666,
              "#ed7953"
             ],
             [
              0.7777777777777778,
              "#fb9f3a"
             ],
             [
              0.8888888888888888,
              "#fdca26"
             ],
             [
              1,
              "#f0f921"
             ]
            ],
            "type": "histogram2dcontour"
           }
          ],
          "mesh3d": [
           {
            "colorbar": {
             "outlinewidth": 0,
             "ticks": ""
            },
            "type": "mesh3d"
           }
          ],
          "parcoords": [
           {
            "line": {
             "colorbar": {
              "outlinewidth": 0,
              "ticks": ""
             }
            },
            "type": "parcoords"
           }
          ],
          "pie": [
           {
            "automargin": true,
            "type": "pie"
           }
          ],
          "scatter": [
           {
            "marker": {
             "colorbar": {
              "outlinewidth": 0,
              "ticks": ""
             }
            },
            "type": "scatter"
           }
          ],
          "scatter3d": [
           {
            "line": {
             "colorbar": {
              "outlinewidth": 0,
              "ticks": ""
             }
            },
            "marker": {
             "colorbar": {
              "outlinewidth": 0,
              "ticks": ""
             }
            },
            "type": "scatter3d"
           }
          ],
          "scattercarpet": [
           {
            "marker": {
             "colorbar": {
              "outlinewidth": 0,
              "ticks": ""
             }
            },
            "type": "scattercarpet"
           }
          ],
          "scattergeo": [
           {
            "marker": {
             "colorbar": {
              "outlinewidth": 0,
              "ticks": ""
             }
            },
            "type": "scattergeo"
           }
          ],
          "scattergl": [
           {
            "marker": {
             "colorbar": {
              "outlinewidth": 0,
              "ticks": ""
             }
            },
            "type": "scattergl"
           }
          ],
          "scattermapbox": [
           {
            "marker": {
             "colorbar": {
              "outlinewidth": 0,
              "ticks": ""
             }
            },
            "type": "scattermapbox"
           }
          ],
          "scatterpolar": [
           {
            "marker": {
             "colorbar": {
              "outlinewidth": 0,
              "ticks": ""
             }
            },
            "type": "scatterpolar"
           }
          ],
          "scatterpolargl": [
           {
            "marker": {
             "colorbar": {
              "outlinewidth": 0,
              "ticks": ""
             }
            },
            "type": "scatterpolargl"
           }
          ],
          "scatterternary": [
           {
            "marker": {
             "colorbar": {
              "outlinewidth": 0,
              "ticks": ""
             }
            },
            "type": "scatterternary"
           }
          ],
          "surface": [
           {
            "colorbar": {
             "outlinewidth": 0,
             "ticks": ""
            },
            "colorscale": [
             [
              0,
              "#0d0887"
             ],
             [
              0.1111111111111111,
              "#46039f"
             ],
             [
              0.2222222222222222,
              "#7201a8"
             ],
             [
              0.3333333333333333,
              "#9c179e"
             ],
             [
              0.4444444444444444,
              "#bd3786"
             ],
             [
              0.5555555555555556,
              "#d8576b"
             ],
             [
              0.6666666666666666,
              "#ed7953"
             ],
             [
              0.7777777777777778,
              "#fb9f3a"
             ],
             [
              0.8888888888888888,
              "#fdca26"
             ],
             [
              1,
              "#f0f921"
             ]
            ],
            "type": "surface"
           }
          ],
          "table": [
           {
            "cells": {
             "fill": {
              "color": "#EBF0F8"
             },
             "line": {
              "color": "white"
             }
            },
            "header": {
             "fill": {
              "color": "#C8D4E3"
             },
             "line": {
              "color": "white"
             }
            },
            "type": "table"
           }
          ]
         },
         "layout": {
          "annotationdefaults": {
           "arrowcolor": "#2a3f5f",
           "arrowhead": 0,
           "arrowwidth": 1
          },
          "coloraxis": {
           "colorbar": {
            "outlinewidth": 0,
            "ticks": ""
           }
          },
          "colorscale": {
           "diverging": [
            [
             0,
             "#8e0152"
            ],
            [
             0.1,
             "#c51b7d"
            ],
            [
             0.2,
             "#de77ae"
            ],
            [
             0.3,
             "#f1b6da"
            ],
            [
             0.4,
             "#fde0ef"
            ],
            [
             0.5,
             "#f7f7f7"
            ],
            [
             0.6,
             "#e6f5d0"
            ],
            [
             0.7,
             "#b8e186"
            ],
            [
             0.8,
             "#7fbc41"
            ],
            [
             0.9,
             "#4d9221"
            ],
            [
             1,
             "#276419"
            ]
           ],
           "sequential": [
            [
             0,
             "#0d0887"
            ],
            [
             0.1111111111111111,
             "#46039f"
            ],
            [
             0.2222222222222222,
             "#7201a8"
            ],
            [
             0.3333333333333333,
             "#9c179e"
            ],
            [
             0.4444444444444444,
             "#bd3786"
            ],
            [
             0.5555555555555556,
             "#d8576b"
            ],
            [
             0.6666666666666666,
             "#ed7953"
            ],
            [
             0.7777777777777778,
             "#fb9f3a"
            ],
            [
             0.8888888888888888,
             "#fdca26"
            ],
            [
             1,
             "#f0f921"
            ]
           ],
           "sequentialminus": [
            [
             0,
             "#0d0887"
            ],
            [
             0.1111111111111111,
             "#46039f"
            ],
            [
             0.2222222222222222,
             "#7201a8"
            ],
            [
             0.3333333333333333,
             "#9c179e"
            ],
            [
             0.4444444444444444,
             "#bd3786"
            ],
            [
             0.5555555555555556,
             "#d8576b"
            ],
            [
             0.6666666666666666,
             "#ed7953"
            ],
            [
             0.7777777777777778,
             "#fb9f3a"
            ],
            [
             0.8888888888888888,
             "#fdca26"
            ],
            [
             1,
             "#f0f921"
            ]
           ]
          },
          "colorway": [
           "#636efa",
           "#EF553B",
           "#00cc96",
           "#ab63fa",
           "#FFA15A",
           "#19d3f3",
           "#FF6692",
           "#B6E880",
           "#FF97FF",
           "#FECB52"
          ],
          "font": {
           "color": "#2a3f5f"
          },
          "geo": {
           "bgcolor": "white",
           "lakecolor": "white",
           "landcolor": "#E5ECF6",
           "showlakes": true,
           "showland": true,
           "subunitcolor": "white"
          },
          "hoverlabel": {
           "align": "left"
          },
          "hovermode": "closest",
          "mapbox": {
           "style": "light"
          },
          "paper_bgcolor": "white",
          "plot_bgcolor": "#E5ECF6",
          "polar": {
           "angularaxis": {
            "gridcolor": "white",
            "linecolor": "white",
            "ticks": ""
           },
           "bgcolor": "#E5ECF6",
           "radialaxis": {
            "gridcolor": "white",
            "linecolor": "white",
            "ticks": ""
           }
          },
          "scene": {
           "xaxis": {
            "backgroundcolor": "#E5ECF6",
            "gridcolor": "white",
            "gridwidth": 2,
            "linecolor": "white",
            "showbackground": true,
            "ticks": "",
            "zerolinecolor": "white"
           },
           "yaxis": {
            "backgroundcolor": "#E5ECF6",
            "gridcolor": "white",
            "gridwidth": 2,
            "linecolor": "white",
            "showbackground": true,
            "ticks": "",
            "zerolinecolor": "white"
           },
           "zaxis": {
            "backgroundcolor": "#E5ECF6",
            "gridcolor": "white",
            "gridwidth": 2,
            "linecolor": "white",
            "showbackground": true,
            "ticks": "",
            "zerolinecolor": "white"
           }
          },
          "shapedefaults": {
           "line": {
            "color": "#2a3f5f"
           }
          },
          "ternary": {
           "aaxis": {
            "gridcolor": "white",
            "linecolor": "white",
            "ticks": ""
           },
           "baxis": {
            "gridcolor": "white",
            "linecolor": "white",
            "ticks": ""
           },
           "bgcolor": "#E5ECF6",
           "caxis": {
            "gridcolor": "white",
            "linecolor": "white",
            "ticks": ""
           }
          },
          "title": {
           "x": 0.05
          },
          "xaxis": {
           "automargin": true,
           "gridcolor": "white",
           "linecolor": "white",
           "ticks": "",
           "title": {
            "standoff": 15
           },
           "zerolinecolor": "white",
           "zerolinewidth": 2
          },
          "yaxis": {
           "automargin": true,
           "gridcolor": "white",
           "linecolor": "white",
           "ticks": "",
           "title": {
            "standoff": 15
           },
           "zerolinecolor": "white",
           "zerolinewidth": 2
          }
         }
        },
        "title": {
         "text": "Photos<br>Tihanovkaja correlation (except embassy): 0.82"
        },
        "xaxis": {
         "title": {
          "text": "Ballot photos for Tsihanouskaya"
         }
        },
        "yaxis": {
         "title": {
          "text": "People voted for Tsihanouskaya"
         }
        }
       }
      },
      "text/html": [
       "<div>\n",
       "        \n",
       "        \n",
       "            <div id=\"c605a80b-fde2-4a7e-addc-9d91a7e71dec\" class=\"plotly-graph-div\" style=\"height:525px; width:100%;\"></div>\n",
       "            <script type=\"text/javascript\">\n",
       "                require([\"plotly\"], function(Plotly) {\n",
       "                    window.PLOTLYENV=window.PLOTLYENV || {};\n",
       "                    \n",
       "                if (document.getElementById(\"c605a80b-fde2-4a7e-addc-9d91a7e71dec\")) {\n",
       "                    Plotly.newPlot(\n",
       "                        'c605a80b-fde2-4a7e-addc-9d91a7e71dec',\n",
       "                        [{\"mode\": \"markers\", \"name\": \"city (0.93)\", \"text\": [\"01-010-0007\", \"01-010-0010\", \"01-010-0025\", \"01-010-0028\", \"01-010-0032\", \"01-010-0034\", \"01-010-0044\", \"01-011-0015\", \"01-011-0032\", \"01-011-0037\", \"01-011-0038\", \"01-011-0049\", \"01-011-0061\", \"01-011-0087\", \"02-015-0025\", \"02-016-0006\", \"02-016-0014\", \"02-016-0018\", \"02-016-0059\", \"02-143-0016\", \"02-143-0019\", \"02-143-0022\", \"03-019-0049\", \"04-021-0032\", \"04-021-0048\", \"04-022-0067\", \"04-022-0080\", \"04-022-0081\", \"04-022-0085\", \"04-022-0107\", \"04-022-0117\", \"04-022-0121\", \"04-022-0125\", \"04-022-0128\", \"04-022-0135\", \"06-024-0010\", \"06-146-0025\", \"06-146-0035\"], \"type\": \"scatter\", \"x\": [194, 89, 236, 164, 148, 267, 116, 209, 140, 109, 104, 237, 175, 267, 145, 46, 145, 123, 101, 65, 122, 124, 123, 81, 118, 275, 198, 204, 78, 176, 138, 154, 162, 231, 193, 91, 71, 83], \"y\": [1010.0, 443.0, 1107.0, 764.0, 711.0, 1223.0, 473.0, 1113.0, 582.0, 543.0, 510.0, 1055.0, 869.0, 1155.0, 672.0, 284.0, 666.0, 674.0, 311.0, 531.0, 764.0, 470.0, 620.0, 301.0, 620.0, 1002.0, 955.0, 803.0, 449.0, 709.0, 819.0, 697.0, 709.0, 930.0, 844.0, 439.0, 440.0, 424.0]}, {\"mode\": \"markers\", \"name\": \"minsk_suburb (0.89)\", \"text\": [\"05-141-0003\", \"05-141-0005\", \"05-141-0008\", \"05-141-0011\", \"05-141-0014\", \"05-141-0015\", \"05-141-0017\", \"05-141-0018\", \"05-141-0019\", \"05-141-0025\", \"05-141-0040\", \"05-141-0050\", \"05-141-0051\", \"05-141-0054\", \"05-141-0055\", \"05-141-0056\", \"05-141-0075\", \"05-141-0077\", \"05-141-0078\", \"05-141-0091\", \"05-141-0092\", \"05-141-0093\", \"05-141-0096\", \"05-141-0098\", \"05-141-0100\", \"05-141-0101\", \"05-141-0104\", \"05-141-0105\", \"05-141-0107\"], \"type\": \"scatter\", \"x\": [291, 330, 317, 416, 283, 166, 316, 237, 313, 563, 413, 172, 292, 476, 142, 124, 155, 161, 226, 144, 369, 369, 200, 312, 331, 106, 222, 154, 170], \"y\": [1048.0, 1002.0, 688.0, 947.0, 837.0, 652.0, 860.0, 660.0, 985.0, 1274.0, 1266.0, 719.0, 737.0, 1230.0, 470.0, 433.0, 431.0, 547.0, 834.0, 418.0, 1128.0, 916.0, 691.0, 1052.0, 644.0, 373.0, 666.0, 560.0, 673.0]}, {\"mode\": \"markers\", \"name\": \"capital (0.89)\", \"text\": [\"07-001-0005\", \"07-001-0008\", \"07-001-0010\", \"07-001-0012\", \"07-001-0016\", \"07-001-0022\", \"07-001-0060\", \"07-001-0089\", \"07-002-0017\", \"07-002-0044\", \"07-002-0051\", \"07-002-0060\", \"07-002-0072\", \"07-003-0002\", \"07-003-0024\", \"07-003-0058\", \"07-003-0061\", \"07-003-0085\", \"07-003-0094\", \"07-004-0002\", \"07-004-0004\", \"07-004-0005\", \"07-004-0006\", \"07-004-0007\", \"07-004-0018\", \"07-004-0026\", \"07-004-0051\", \"07-005-0002\", \"07-005-0007\", \"07-005-0021\", \"07-005-0026\", \"07-005-0034\", \"07-005-0037\", \"07-006-0008\", \"07-006-0037\", \"07-006-0072\", \"07-008-0057\", \"07-008-0070\", \"07-008-0079\", \"07-009-0014\"], \"type\": \"scatter\", \"x\": [136, 160, 188, 114, 184, 184, 175, 354, 201, 298, 189, 244, 199, 304, 246, 274, 306, 399, 365, 214, 205, 278, 217, 285, 252, 249, 400, 7, 280, 295, 308, 218, 348, 714, 278, 293, 276, 790, 234, 206], \"y\": [644.0, 615.0, 751.0, 500.0, 402.0, 561.0, 465.0, 1006.0, 339.0, 469.0, 550.0, 476.0, 430.0, 815.0, 686.0, 541.0, 880.0, 928.0, 1121.0, 420.0, 510.0, 974.0, 581.0, 460.0, 757.0, 713.0, 1226.0, 69.0, 890.0, 480.0, 704.0, 782.0, 1259.0, 1869.0, 848.0, 605.0, 539.0, 1979.0, 394.0, 707.0]}, {\"mode\": \"markers\", \"name\": \"village (0.82)\", \"text\": [\"01-049-0030\", \"01-050-0011\", \"01-053-0021\", \"01-055-0010\", \"01-055-0017\", \"01-056-0021\", \"01-056-0024\", \"01-057-0025\", \"01-063-0049\", \"01-142-0002\", \"02-065-0015\", \"02-067-0010\", \"02-069-0006\", \"02-072-0011\", \"02-077-0016\", \"02-143-0008\", \"03-088-0027\", \"03-091-0046\", \"03-091-0047\", \"03-091-0048\", \"03-100-0057\", \"03-101-0029\", \"03-101-0036\", \"03-101-0037\", \"04-105-0011\", \"04-110-0013\", \"04-112-0055\", \"04-112-0064\", \"04-117-0011\", \"04-117-0014\", \"04-119-0024\", \"04-119-0029\", \"04-145-0024\", \"05-027-0018\", \"05-027-0023\", \"05-029-0018\", \"05-029-0034\", \"05-034-0014\", \"05-034-0019\", \"05-036-0039\", \"05-036-0044\", \"05-037-0016\", \"05-039-0005\", \"05-039-0010\", \"05-039-0011\", \"05-039-0012\", \"05-039-0028\", \"05-040-0063\", \"05-041-0012\", \"05-041-0026\", \"05-041-0030\", \"05-042-0041\", \"05-042-0050\", \"05-042-0056\", \"05-042-0062\", \"05-044-0010\", \"05-044-0025\", \"05-045-0012\", \"05-045-0018\", \"05-046-0022\", \"05-141-0058\", \"05-141-0061\", \"05-141-0070\", \"05-141-0080\", \"05-141-0081\", \"05-141-0103\", \"05-141-0108\", \"06-146-0008\"], \"type\": \"scatter\", \"x\": [46, 11, 26, 6, 12, 23, 9, 16, 10, 74, 27, 8, 58, 16, 51, 8, 9, 47, 23, 20, 7, 7, 7, 23, 8, 30, 35, 44, 5, 5, 36, 35, 68, 31, 77, 29, 125, 5, 31, 59, 41, 37, 145, 147, 96, 96, 10, 76, 60, 33, 101, 49, 29, 5, 22, 37, 28, 11, 14, 122, 136, 74, 206, 149, 191, 52, 106, 30], \"y\": [421.0, 172.0, 443.0, 153.0, 116.0, 222.0, 121.0, 293.0, 141.0, 641.0, 215.0, 144.0, 424.0, 163.0, 351.0, 62.0, 108.0, 331.0, 223.0, 161.0, 176.0, 101.0, 117.0, 253.0, 123.0, 229.0, 358.0, 367.0, 108.0, 112.0, 265.0, 376.0, 424.0, 472.0, 425.0, 87.0, 380.0, 63.0, 177.0, 317.0, 130.0, 407.0, 593.0, 376.0, 508.0, 489.0, 74.0, 565.0, 391.0, 69.0, 444.0, 427.0, 216.0, 80.0, 150.0, 352.0, 230.0, 128.0, 168.0, 648.0, 548.0, 475.0, 794.0, 480.0, 680.0, 236.0, 267.0, 245.0]}, {\"mode\": \"markers\", \"name\": \"town_below100 (0.85)\", \"text\": [\"01-049-0013\", \"01-049-0015\", \"01-054-0001\", \"01-055-0002\", \"01-055-0003\", \"01-055-0032\", \"01-056-0005\", \"01-056-0019\", \"01-062-0009\", \"01-063-0010\", \"02-065-0001\", \"02-065-0006\", \"02-065-0007\", \"02-072-0020\", \"02-073-0004\", \"02-077-0019\", \"02-081-0001\", \"02-082-0020\", \"03-091-0012\", \"03-091-0014\", \"03-091-0015\", \"03-091-0016\", \"03-091-0017\", \"03-091-0018\", \"03-091-0021\", \"03-091-0022\", \"03-091-0024\", \"03-091-0026\", \"03-091-0027\", \"03-091-0028\", \"03-091-0030\", \"03-091-0032\", \"03-091-0033\", \"03-101-0008\", \"03-101-0011\", \"03-101-0015\", \"03-102-0003\", \"04-106-0011\", \"04-110-0003\", \"04-112-0070\", \"04-114-0004\", \"04-114-0017\", \"04-115-0002\", \"04-115-0003\", \"04-115-0005\", \"04-118-0004\", \"04-119-0007\", \"04-119-0008\", \"04-119-0013\", \"04-119-0016\", \"05-027-0006\", \"05-027-0007\", \"05-036-0003\", \"05-036-0004\", \"05-036-0020\", \"05-036-0023\", \"05-036-0029\", \"05-036-0074\", \"05-036-0075\", \"05-038-0004\", \"05-040-0002\", \"05-040-0008\", \"05-040-0019\", \"05-040-0028\", \"05-041-0008\", \"05-041-0035\", \"05-044-0004\", \"05-044-0005\", \"05-044-0007\", \"06-129-0001\", \"06-135-0002\", \"06-135-0011\"], \"type\": \"scatter\", \"x\": [120, 213, 132, 87, 86, 77, 184, 206, 39, 60, 111, 90, 50, 76, 70, 57, 100, 139, 83, 109, 104, 71, 140, 58, 125, 203, 206, 237, 339, 89, 121, 256, 229, 82, 79, 117, 71, 143, 77, 130, 103, 68, 43, 99, 103, 58, 151, 113, 88, 95, 117, 49, 104, 156, 146, 140, 130, 110, 109, 195, 163, 145, 96, 52, 101, 65, 148, 185, 125, 51, 88, 115], \"y\": [865.0, 1176.0, 879.0, 575.0, 745.0, 553.0, 905.0, 1049.0, 241.0, 634.0, 672.0, 567.0, 369.0, 562.0, 460.0, 475.0, 721.0, 1027.0, 205.0, 575.0, 476.0, 492.0, 359.0, 389.0, 797.0, 754.0, 1205.0, 1369.0, 1446.0, 361.0, 687.0, 1428.0, 884.0, 477.0, 515.0, 403.0, 316.0, 848.0, 559.0, 749.0, 504.0, 501.0, 309.0, 630.0, 590.0, 407.0, 871.0, 617.0, 454.0, 664.0, 583.0, 415.0, 549.0, 428.0, 886.0, 502.0, 741.0, 647.0, 507.0, 1061.0, 954.0, 663.0, 557.0, 294.0, 478.0, 521.0, 731.0, 889.0, 562.0, 560.0, 752.0, 647.0]}, {\"mode\": \"markers\", \"name\": \"town_over100 (0.70)\", \"text\": [\"01-060-0059\", \"01-060-0060\", \"01-060-0061\", \"02-074-0004\", \"02-074-0018\", \"02-074-0019\", \"02-075-0005\", \"02-075-0019\", \"03-096-0008\", \"03-096-0009\", \"03-096-0023\", \"03-096-0026\", \"03-096-0038\", \"03-096-0039\", \"04-112-0002\", \"04-112-0007\", \"04-112-0012\", \"04-112-0016\", \"04-112-0020\", \"04-112-0025\", \"04-112-0026\", \"04-112-0029\", \"04-112-0032\", \"04-112-0044\", \"05-026-0005\", \"05-026-0011\", \"05-026-0016\", \"05-026-0061\", \"05-026-0062\", \"06-012-0069\", \"06-012-0077\", \"06-013-0020\", \"06-013-0021\", \"06-013-0048\"], \"type\": \"scatter\", \"x\": [107, 89, 123, 209, 140, 117, 78, 64, 71, 58, 112, 114, 71, 80, 107, 121, 222, 166, 95, 100, 124, 86, 94, 117, 33, 134, 91, 92, 82, 74, 92, 109, 110, 74], \"y\": [615.0, 466.0, 793.0, 579.0, 432.0, 574.0, 378.0, 160.0, 397.0, 335.0, 606.0, 611.0, 394.0, 660.0, 634.0, 603.0, 1052.0, 752.0, 507.0, 558.0, 425.0, 499.0, 493.0, 335.0, 189.0, 855.0, 489.0, 256.0, 257.0, 301.0, 507.0, 623.0, 815.0, 383.0]}, {\"mode\": \"markers\", \"name\": \"embassy (0.66)\", \"text\": [\"07-002-0084\", \"07-002-0085\", \"07-002-0089\", \"07-002-0094\", \"07-002-0099\", \"07-002-0107\", \"07-002-0108\", \"07-002-0112\", \"07-002-0118\"], \"type\": \"scatter\", \"x\": [19, 26, 16, 9, 5, 9, 98, 3, 2], \"y\": [1036.0, 786.0, 272.0, 421.0, 368.0, 419.0, 959.0, 213.0, 345.0]}],\n",
       "                        {\"template\": {\"data\": {\"bar\": [{\"error_x\": {\"color\": \"#2a3f5f\"}, \"error_y\": {\"color\": \"#2a3f5f\"}, \"marker\": {\"line\": {\"color\": \"#E5ECF6\", \"width\": 0.5}}, \"type\": \"bar\"}], \"barpolar\": [{\"marker\": {\"line\": {\"color\": \"#E5ECF6\", \"width\": 0.5}}, \"type\": \"barpolar\"}], \"carpet\": [{\"aaxis\": {\"endlinecolor\": \"#2a3f5f\", \"gridcolor\": \"white\", \"linecolor\": \"white\", \"minorgridcolor\": \"white\", \"startlinecolor\": \"#2a3f5f\"}, \"baxis\": {\"endlinecolor\": \"#2a3f5f\", \"gridcolor\": \"white\", \"linecolor\": \"white\", \"minorgridcolor\": \"white\", \"startlinecolor\": \"#2a3f5f\"}, \"type\": \"carpet\"}], \"choropleth\": [{\"colorbar\": {\"outlinewidth\": 0, \"ticks\": \"\"}, \"type\": \"choropleth\"}], \"contour\": [{\"colorbar\": {\"outlinewidth\": 0, \"ticks\": \"\"}, \"colorscale\": [[0.0, \"#0d0887\"], [0.1111111111111111, \"#46039f\"], [0.2222222222222222, \"#7201a8\"], [0.3333333333333333, \"#9c179e\"], [0.4444444444444444, \"#bd3786\"], [0.5555555555555556, \"#d8576b\"], [0.6666666666666666, \"#ed7953\"], [0.7777777777777778, \"#fb9f3a\"], [0.8888888888888888, \"#fdca26\"], [1.0, \"#f0f921\"]], \"type\": \"contour\"}], \"contourcarpet\": [{\"colorbar\": {\"outlinewidth\": 0, \"ticks\": \"\"}, \"type\": \"contourcarpet\"}], \"heatmap\": [{\"colorbar\": {\"outlinewidth\": 0, \"ticks\": \"\"}, \"colorscale\": [[0.0, \"#0d0887\"], [0.1111111111111111, \"#46039f\"], [0.2222222222222222, \"#7201a8\"], [0.3333333333333333, \"#9c179e\"], [0.4444444444444444, \"#bd3786\"], [0.5555555555555556, \"#d8576b\"], [0.6666666666666666, \"#ed7953\"], [0.7777777777777778, \"#fb9f3a\"], [0.8888888888888888, \"#fdca26\"], [1.0, \"#f0f921\"]], \"type\": \"heatmap\"}], \"heatmapgl\": [{\"colorbar\": {\"outlinewidth\": 0, \"ticks\": \"\"}, \"colorscale\": [[0.0, \"#0d0887\"], [0.1111111111111111, \"#46039f\"], [0.2222222222222222, \"#7201a8\"], [0.3333333333333333, \"#9c179e\"], [0.4444444444444444, \"#bd3786\"], [0.5555555555555556, \"#d8576b\"], [0.6666666666666666, \"#ed7953\"], [0.7777777777777778, \"#fb9f3a\"], [0.8888888888888888, \"#fdca26\"], [1.0, \"#f0f921\"]], \"type\": \"heatmapgl\"}], \"histogram\": [{\"marker\": {\"colorbar\": {\"outlinewidth\": 0, \"ticks\": \"\"}}, \"type\": \"histogram\"}], \"histogram2d\": [{\"colorbar\": {\"outlinewidth\": 0, \"ticks\": \"\"}, \"colorscale\": [[0.0, \"#0d0887\"], [0.1111111111111111, \"#46039f\"], [0.2222222222222222, \"#7201a8\"], [0.3333333333333333, \"#9c179e\"], [0.4444444444444444, \"#bd3786\"], [0.5555555555555556, \"#d8576b\"], [0.6666666666666666, \"#ed7953\"], [0.7777777777777778, \"#fb9f3a\"], [0.8888888888888888, \"#fdca26\"], [1.0, \"#f0f921\"]], \"type\": \"histogram2d\"}], \"histogram2dcontour\": [{\"colorbar\": {\"outlinewidth\": 0, \"ticks\": \"\"}, \"colorscale\": [[0.0, \"#0d0887\"], [0.1111111111111111, \"#46039f\"], [0.2222222222222222, \"#7201a8\"], [0.3333333333333333, \"#9c179e\"], [0.4444444444444444, \"#bd3786\"], [0.5555555555555556, \"#d8576b\"], [0.6666666666666666, \"#ed7953\"], [0.7777777777777778, \"#fb9f3a\"], [0.8888888888888888, \"#fdca26\"], [1.0, \"#f0f921\"]], \"type\": \"histogram2dcontour\"}], \"mesh3d\": [{\"colorbar\": {\"outlinewidth\": 0, \"ticks\": \"\"}, \"type\": \"mesh3d\"}], \"parcoords\": [{\"line\": {\"colorbar\": {\"outlinewidth\": 0, \"ticks\": \"\"}}, \"type\": \"parcoords\"}], \"pie\": [{\"automargin\": true, \"type\": \"pie\"}], \"scatter\": [{\"marker\": {\"colorbar\": {\"outlinewidth\": 0, \"ticks\": \"\"}}, \"type\": \"scatter\"}], \"scatter3d\": [{\"line\": {\"colorbar\": {\"outlinewidth\": 0, \"ticks\": \"\"}}, \"marker\": {\"colorbar\": {\"outlinewidth\": 0, \"ticks\": \"\"}}, \"type\": \"scatter3d\"}], \"scattercarpet\": [{\"marker\": {\"colorbar\": {\"outlinewidth\": 0, \"ticks\": \"\"}}, \"type\": \"scattercarpet\"}], \"scattergeo\": [{\"marker\": {\"colorbar\": {\"outlinewidth\": 0, \"ticks\": \"\"}}, \"type\": \"scattergeo\"}], \"scattergl\": [{\"marker\": {\"colorbar\": {\"outlinewidth\": 0, \"ticks\": \"\"}}, \"type\": \"scattergl\"}], \"scattermapbox\": [{\"marker\": {\"colorbar\": {\"outlinewidth\": 0, \"ticks\": \"\"}}, \"type\": \"scattermapbox\"}], \"scatterpolar\": [{\"marker\": {\"colorbar\": {\"outlinewidth\": 0, \"ticks\": \"\"}}, \"type\": \"scatterpolar\"}], \"scatterpolargl\": [{\"marker\": {\"colorbar\": {\"outlinewidth\": 0, \"ticks\": \"\"}}, \"type\": \"scatterpolargl\"}], \"scatterternary\": [{\"marker\": {\"colorbar\": {\"outlinewidth\": 0, \"ticks\": \"\"}}, \"type\": \"scatterternary\"}], \"surface\": [{\"colorbar\": {\"outlinewidth\": 0, \"ticks\": \"\"}, \"colorscale\": [[0.0, \"#0d0887\"], [0.1111111111111111, \"#46039f\"], [0.2222222222222222, \"#7201a8\"], [0.3333333333333333, \"#9c179e\"], [0.4444444444444444, \"#bd3786\"], [0.5555555555555556, \"#d8576b\"], [0.6666666666666666, \"#ed7953\"], [0.7777777777777778, \"#fb9f3a\"], [0.8888888888888888, \"#fdca26\"], [1.0, \"#f0f921\"]], \"type\": \"surface\"}], \"table\": [{\"cells\": {\"fill\": {\"color\": \"#EBF0F8\"}, \"line\": {\"color\": \"white\"}}, \"header\": {\"fill\": {\"color\": \"#C8D4E3\"}, \"line\": {\"color\": \"white\"}}, \"type\": \"table\"}]}, \"layout\": {\"annotationdefaults\": {\"arrowcolor\": \"#2a3f5f\", \"arrowhead\": 0, \"arrowwidth\": 1}, \"coloraxis\": {\"colorbar\": {\"outlinewidth\": 0, \"ticks\": \"\"}}, \"colorscale\": {\"diverging\": [[0, \"#8e0152\"], [0.1, \"#c51b7d\"], [0.2, \"#de77ae\"], [0.3, \"#f1b6da\"], [0.4, \"#fde0ef\"], [0.5, \"#f7f7f7\"], [0.6, \"#e6f5d0\"], [0.7, \"#b8e186\"], [0.8, \"#7fbc41\"], [0.9, \"#4d9221\"], [1, \"#276419\"]], \"sequential\": [[0.0, \"#0d0887\"], [0.1111111111111111, \"#46039f\"], [0.2222222222222222, \"#7201a8\"], [0.3333333333333333, \"#9c179e\"], [0.4444444444444444, \"#bd3786\"], [0.5555555555555556, \"#d8576b\"], [0.6666666666666666, \"#ed7953\"], [0.7777777777777778, \"#fb9f3a\"], [0.8888888888888888, \"#fdca26\"], [1.0, \"#f0f921\"]], \"sequentialminus\": [[0.0, \"#0d0887\"], [0.1111111111111111, \"#46039f\"], [0.2222222222222222, \"#7201a8\"], [0.3333333333333333, \"#9c179e\"], [0.4444444444444444, \"#bd3786\"], [0.5555555555555556, \"#d8576b\"], [0.6666666666666666, \"#ed7953\"], [0.7777777777777778, \"#fb9f3a\"], [0.8888888888888888, \"#fdca26\"], [1.0, \"#f0f921\"]]}, \"colorway\": [\"#636efa\", \"#EF553B\", \"#00cc96\", \"#ab63fa\", \"#FFA15A\", \"#19d3f3\", \"#FF6692\", \"#B6E880\", \"#FF97FF\", \"#FECB52\"], \"font\": {\"color\": \"#2a3f5f\"}, \"geo\": {\"bgcolor\": \"white\", \"lakecolor\": \"white\", \"landcolor\": \"#E5ECF6\", \"showlakes\": true, \"showland\": true, \"subunitcolor\": \"white\"}, \"hoverlabel\": {\"align\": \"left\"}, \"hovermode\": \"closest\", \"mapbox\": {\"style\": \"light\"}, \"paper_bgcolor\": \"white\", \"plot_bgcolor\": \"#E5ECF6\", \"polar\": {\"angularaxis\": {\"gridcolor\": \"white\", \"linecolor\": \"white\", \"ticks\": \"\"}, \"bgcolor\": \"#E5ECF6\", \"radialaxis\": {\"gridcolor\": \"white\", \"linecolor\": \"white\", \"ticks\": \"\"}}, \"scene\": {\"xaxis\": {\"backgroundcolor\": \"#E5ECF6\", \"gridcolor\": \"white\", \"gridwidth\": 2, \"linecolor\": \"white\", \"showbackground\": true, \"ticks\": \"\", \"zerolinecolor\": \"white\"}, \"yaxis\": {\"backgroundcolor\": \"#E5ECF6\", \"gridcolor\": \"white\", \"gridwidth\": 2, \"linecolor\": \"white\", \"showbackground\": true, \"ticks\": \"\", \"zerolinecolor\": \"white\"}, \"zaxis\": {\"backgroundcolor\": \"#E5ECF6\", \"gridcolor\": \"white\", \"gridwidth\": 2, \"linecolor\": \"white\", \"showbackground\": true, \"ticks\": \"\", \"zerolinecolor\": \"white\"}}, \"shapedefaults\": {\"line\": {\"color\": \"#2a3f5f\"}}, \"ternary\": {\"aaxis\": {\"gridcolor\": \"white\", \"linecolor\": \"white\", \"ticks\": \"\"}, \"baxis\": {\"gridcolor\": \"white\", \"linecolor\": \"white\", \"ticks\": \"\"}, \"bgcolor\": \"#E5ECF6\", \"caxis\": {\"gridcolor\": \"white\", \"linecolor\": \"white\", \"ticks\": \"\"}}, \"title\": {\"x\": 0.05}, \"xaxis\": {\"automargin\": true, \"gridcolor\": \"white\", \"linecolor\": \"white\", \"ticks\": \"\", \"title\": {\"standoff\": 15}, \"zerolinecolor\": \"white\", \"zerolinewidth\": 2}, \"yaxis\": {\"automargin\": true, \"gridcolor\": \"white\", \"linecolor\": \"white\", \"ticks\": \"\", \"title\": {\"standoff\": 15}, \"zerolinecolor\": \"white\", \"zerolinewidth\": 2}}}, \"title\": {\"text\": \"Photos<br>Tihanovkaja correlation (except embassy): 0.82\"}, \"xaxis\": {\"title\": {\"text\": \"Ballot photos for Tsihanouskaya\"}}, \"yaxis\": {\"title\": {\"text\": \"People voted for Tsihanouskaya\"}}},\n",
       "                        {\"responsive\": true}\n",
       "                    ).then(function(){\n",
       "                            \n",
       "var gd = document.getElementById('c605a80b-fde2-4a7e-addc-9d91a7e71dec');\n",
       "var x = new MutationObserver(function (mutations, observer) {{\n",
       "        var display = window.getComputedStyle(gd).display;\n",
       "        if (!display || display === 'none') {{\n",
       "            console.log([gd, 'removed!']);\n",
       "            Plotly.purge(gd);\n",
       "            observer.disconnect();\n",
       "        }}\n",
       "}});\n",
       "\n",
       "// Listen for the removal of the full notebook cells\n",
       "var notebookContainer = gd.closest('#notebook-container');\n",
       "if (notebookContainer) {{\n",
       "    x.observe(notebookContainer, {childList: true});\n",
       "}}\n",
       "\n",
       "// Listen for the clearing of the current output cell\n",
       "var outputEl = gd.closest('.output');\n",
       "if (outputEl) {{\n",
       "    x.observe(outputEl, {childList: true});\n",
       "}}\n",
       "\n",
       "                        })\n",
       "                };\n",
       "                });\n",
       "            </script>\n",
       "        </div>"
      ]
     },
     "metadata": {},
     "output_type": "display_data"
    }
   ],
   "source": [
    "draw_chart('tihanovkaja', 'photoVoices', 'Ballot photos for Tsihanouskaya')"
   ]
  },
  {
   "cell_type": "code",
   "execution_count": 137,
   "metadata": {},
   "outputs": [
    {
     "data": {
      "application/vnd.plotly.v1+json": {
       "config": {
        "plotlyServerURL": "https://plot.ly"
       },
       "data": [
        {
         "mode": "markers",
         "name": "city (0.95)",
         "text": [
          "01-010-0007",
          "01-010-0010",
          "01-010-0025",
          "01-010-0028",
          "01-010-0032",
          "01-010-0034",
          "01-010-0044",
          "01-011-0015",
          "01-011-0032",
          "01-011-0037",
          "01-011-0038",
          "01-011-0049",
          "01-011-0061",
          "01-011-0087",
          "02-015-0025",
          "02-016-0006",
          "02-016-0014",
          "02-016-0018",
          "02-016-0059",
          "02-143-0016",
          "02-143-0019",
          "02-143-0022",
          "03-019-0049",
          "04-021-0032",
          "04-021-0048",
          "04-022-0067",
          "04-022-0080",
          "04-022-0081",
          "04-022-0085",
          "04-022-0107",
          "04-022-0117",
          "04-022-0121",
          "04-022-0125",
          "04-022-0128",
          "04-022-0135",
          "06-024-0010",
          "06-146-0025",
          "06-146-0035"
         ],
         "type": "scatter",
         "x": [
          346,
          126,
          396,
          255,
          259,
          409,
          185,
          368,
          213,
          191,
          180,
          379,
          294,
          423,
          261,
          90,
          238,
          203,
          154,
          112,
          217,
          221,
          227,
          142,
          198,
          412,
          273,
          301,
          130,
          262,
          237,
          242,
          262,
          335,
          303,
          161,
          123,
          148
         ],
         "y": [
          1010,
          443,
          1107,
          764,
          711,
          1223,
          473,
          1113,
          582,
          543,
          510,
          1055,
          869,
          1155,
          672,
          284,
          666,
          674,
          311,
          531,
          764,
          470,
          620,
          301,
          620,
          1002,
          955,
          803,
          449,
          709,
          819,
          697,
          709,
          930,
          844,
          439,
          440,
          424
         ]
        },
        {
         "mode": "markers",
         "name": "minsk_suburb (0.90)",
         "text": [
          "05-141-0003",
          "05-141-0005",
          "05-141-0008",
          "05-141-0011",
          "05-141-0014",
          "05-141-0015",
          "05-141-0017",
          "05-141-0018",
          "05-141-0019",
          "05-141-0025",
          "05-141-0040",
          "05-141-0050",
          "05-141-0051",
          "05-141-0054",
          "05-141-0055",
          "05-141-0056",
          "05-141-0075",
          "05-141-0077",
          "05-141-0078",
          "05-141-0091",
          "05-141-0092",
          "05-141-0093",
          "05-141-0096",
          "05-141-0098",
          "05-141-0100",
          "05-141-0101",
          "05-141-0104",
          "05-141-0105",
          "05-141-0107"
         ],
         "type": "scatter",
         "x": [
          484,
          487,
          523,
          589,
          416,
          274,
          449,
          350,
          472,
          785,
          627,
          283,
          447,
          692,
          214,
          197,
          276,
          274,
          377,
          228,
          604,
          548,
          307,
          496,
          521,
          165,
          329,
          212,
          278
         ],
         "y": [
          1048,
          1002,
          688,
          947,
          837,
          652,
          860,
          660,
          985,
          1274,
          1266,
          719,
          737,
          1230,
          470,
          433,
          431,
          547,
          834,
          418,
          1128,
          916,
          691,
          1052,
          644,
          373,
          666,
          560,
          673
         ]
        },
        {
         "mode": "markers",
         "name": "capital (0.89)",
         "text": [
          "07-001-0005",
          "07-001-0008",
          "07-001-0010",
          "07-001-0012",
          "07-001-0016",
          "07-001-0022",
          "07-001-0060",
          "07-001-0089",
          "07-002-0017",
          "07-002-0044",
          "07-002-0051",
          "07-002-0060",
          "07-002-0072",
          "07-003-0002",
          "07-003-0024",
          "07-003-0058",
          "07-003-0061",
          "07-003-0085",
          "07-003-0094",
          "07-004-0002",
          "07-004-0004",
          "07-004-0005",
          "07-004-0006",
          "07-004-0007",
          "07-004-0018",
          "07-004-0026",
          "07-004-0051",
          "07-005-0002",
          "07-005-0007",
          "07-005-0021",
          "07-005-0026",
          "07-005-0034",
          "07-005-0037",
          "07-006-0008",
          "07-006-0037",
          "07-006-0072",
          "07-008-0057",
          "07-008-0070",
          "07-008-0079",
          "07-009-0014"
         ],
         "type": "scatter",
         "x": [
          221,
          266,
          297,
          208,
          332,
          289,
          322,
          519,
          333,
          464,
          331,
          396,
          295,
          453,
          372,
          374,
          454,
          576,
          550,
          334,
          331,
          472,
          339,
          441,
          362,
          398,
          577,
          12,
          416,
          411,
          511,
          391,
          567,
          1059,
          452,
          456,
          439,
          1153,
          368,
          329
         ],
         "y": [
          644,
          615,
          751,
          500,
          402,
          561,
          465,
          1006,
          339,
          469,
          550,
          476,
          430,
          815,
          686,
          541,
          880,
          928,
          1121,
          420,
          510,
          974,
          581,
          460,
          757,
          713,
          1226,
          69,
          890,
          480,
          704,
          782,
          1259,
          1869,
          848,
          605,
          539,
          1979,
          394,
          707
         ]
        },
        {
         "mode": "markers",
         "name": "village (0.83)",
         "text": [
          "01-049-0030",
          "01-050-0011",
          "01-053-0021",
          "01-055-0010",
          "01-055-0017",
          "01-056-0021",
          "01-056-0024",
          "01-057-0025",
          "01-063-0049",
          "01-142-0002",
          "02-065-0015",
          "02-067-0010",
          "02-069-0006",
          "02-072-0011",
          "02-077-0016",
          "02-143-0008",
          "03-088-0027",
          "03-091-0046",
          "03-091-0047",
          "03-091-0048",
          "03-100-0057",
          "03-101-0029",
          "03-101-0036",
          "03-101-0037",
          "04-105-0011",
          "04-110-0013",
          "04-112-0055",
          "04-112-0064",
          "04-117-0011",
          "04-117-0014",
          "04-119-0024",
          "04-119-0029",
          "04-145-0024",
          "05-027-0018",
          "05-027-0023",
          "05-029-0018",
          "05-029-0034",
          "05-034-0014",
          "05-034-0019",
          "05-036-0039",
          "05-036-0044",
          "05-037-0016",
          "05-039-0005",
          "05-039-0010",
          "05-039-0011",
          "05-039-0012",
          "05-039-0028",
          "05-040-0063",
          "05-041-0012",
          "05-041-0026",
          "05-041-0030",
          "05-042-0041",
          "05-042-0050",
          "05-042-0056",
          "05-042-0062",
          "05-044-0010",
          "05-044-0025",
          "05-045-0012",
          "05-045-0018",
          "05-046-0022",
          "05-141-0058",
          "05-141-0061",
          "05-141-0070",
          "05-141-0080",
          "05-141-0081",
          "05-141-0103",
          "05-141-0108",
          "06-146-0008"
         ],
         "type": "scatter",
         "x": [
          96,
          22,
          65,
          12,
          19,
          49,
          27,
          36,
          29,
          136,
          37,
          16,
          104,
          32,
          96,
          18,
          23,
          91,
          41,
          28,
          26,
          16,
          13,
          52,
          22,
          51,
          77,
          89,
          15,
          21,
          54,
          67,
          89,
          58,
          130,
          63,
          230,
          14,
          50,
          119,
          112,
          98,
          241,
          243,
          177,
          188,
          19,
          164,
          95,
          54,
          168,
          92,
          59,
          13,
          53,
          85,
          56,
          29,
          32,
          201,
          204,
          146,
          326,
          263,
          316,
          71,
          182,
          52
         ],
         "y": [
          421,
          172,
          443,
          153,
          116,
          222,
          121,
          293,
          141,
          641,
          215,
          144,
          424,
          163,
          351,
          62,
          108,
          331,
          223,
          161,
          176,
          101,
          117,
          253,
          123,
          229,
          358,
          367,
          108,
          112,
          265,
          376,
          424,
          472,
          425,
          87,
          380,
          63,
          177,
          317,
          130,
          407,
          593,
          376,
          508,
          489,
          74,
          565,
          391,
          69,
          444,
          427,
          216,
          80,
          150,
          352,
          230,
          128,
          168,
          648,
          548,
          475,
          794,
          480,
          680,
          236,
          267,
          245
         ]
        },
        {
         "mode": "markers",
         "name": "town_below100 (0.84)",
         "text": [
          "01-049-0013",
          "01-049-0015",
          "01-054-0001",
          "01-055-0002",
          "01-055-0003",
          "01-055-0032",
          "01-056-0005",
          "01-056-0019",
          "01-062-0009",
          "01-063-0010",
          "02-065-0001",
          "02-065-0006",
          "02-065-0007",
          "02-072-0020",
          "02-073-0004",
          "02-077-0019",
          "02-081-0001",
          "02-082-0020",
          "03-091-0012",
          "03-091-0014",
          "03-091-0015",
          "03-091-0016",
          "03-091-0017",
          "03-091-0018",
          "03-091-0021",
          "03-091-0022",
          "03-091-0024",
          "03-091-0026",
          "03-091-0027",
          "03-091-0028",
          "03-091-0030",
          "03-091-0032",
          "03-091-0033",
          "03-101-0008",
          "03-101-0011",
          "03-101-0015",
          "03-102-0003",
          "04-106-0011",
          "04-110-0003",
          "04-112-0070",
          "04-114-0004",
          "04-114-0017",
          "04-115-0002",
          "04-115-0003",
          "04-115-0005",
          "04-118-0004",
          "04-119-0007",
          "04-119-0008",
          "04-119-0013",
          "04-119-0016",
          "05-027-0006",
          "05-027-0007",
          "05-036-0003",
          "05-036-0004",
          "05-036-0020",
          "05-036-0023",
          "05-036-0029",
          "05-036-0074",
          "05-036-0075",
          "05-038-0004",
          "05-040-0002",
          "05-040-0008",
          "05-040-0019",
          "05-040-0028",
          "05-041-0008",
          "05-041-0035",
          "05-044-0004",
          "05-044-0005",
          "05-044-0007",
          "06-129-0001",
          "06-135-0002",
          "06-135-0011"
         ],
         "type": "scatter",
         "x": [
          233,
          386,
          263,
          165,
          158,
          125,
          281,
          331,
          68,
          121,
          172,
          152,
          84,
          154,
          128,
          125,
          171,
          250,
          183,
          198,
          177,
          141,
          275,
          127,
          247,
          407,
          420,
          421,
          594,
          193,
          220,
          449,
          393,
          136,
          147,
          218,
          124,
          261,
          152,
          230,
          191,
          145,
          72,
          163,
          210,
          106,
          262,
          202,
          140,
          182,
          211,
          99,
          202,
          260,
          332,
          222,
          245,
          191,
          193,
          331,
          298,
          285,
          168,
          120,
          189,
          120,
          265,
          336,
          259,
          112,
          152,
          174
         ],
         "y": [
          865,
          1176,
          879,
          575,
          745,
          553,
          905,
          1049,
          241,
          634,
          672,
          567,
          369,
          562,
          460,
          475,
          721,
          1027,
          205,
          575,
          476,
          492,
          359,
          389,
          797,
          754,
          1205,
          1369,
          1446,
          361,
          687,
          1428,
          884,
          477,
          515,
          403,
          316,
          848,
          559,
          749,
          504,
          501,
          309,
          630,
          590,
          407,
          871,
          617,
          454,
          664,
          583,
          415,
          549,
          428,
          886,
          502,
          741,
          647,
          507,
          1061,
          954,
          663,
          557,
          294,
          478,
          521,
          731,
          889,
          562,
          560,
          752,
          647
         ]
        },
        {
         "mode": "markers",
         "name": "town_over100 (0.69)",
         "text": [
          "01-060-0059",
          "01-060-0060",
          "01-060-0061",
          "02-074-0004",
          "02-074-0018",
          "02-074-0019",
          "02-075-0005",
          "02-075-0019",
          "03-096-0008",
          "03-096-0009",
          "03-096-0023",
          "03-096-0026",
          "03-096-0038",
          "03-096-0039",
          "04-112-0002",
          "04-112-0007",
          "04-112-0012",
          "04-112-0016",
          "04-112-0020",
          "04-112-0025",
          "04-112-0026",
          "04-112-0029",
          "04-112-0032",
          "04-112-0044",
          "05-026-0005",
          "05-026-0011",
          "05-026-0016",
          "05-026-0061",
          "05-026-0062",
          "06-012-0069",
          "06-012-0077",
          "06-013-0020",
          "06-013-0021",
          "06-013-0048"
         ],
         "type": "scatter",
         "x": [
          184,
          172,
          203,
          360,
          229,
          205,
          128,
          102,
          116,
          132,
          189,
          222,
          134,
          147,
          209,
          241,
          365,
          291,
          164,
          197,
          231,
          149,
          150,
          212,
          66,
          234,
          143,
          165,
          144,
          143,
          150,
          195,
          196,
          138
         ],
         "y": [
          615,
          466,
          793,
          579,
          432,
          574,
          378,
          160,
          397,
          335,
          606,
          611,
          394,
          660,
          634,
          603,
          1052,
          752,
          507,
          558,
          425,
          499,
          493,
          335,
          189,
          855,
          489,
          256,
          257,
          301,
          507,
          623,
          815,
          383
         ]
        },
        {
         "mode": "markers",
         "name": "embassy (0.98)",
         "text": [
          "07-002-0084",
          "07-002-0085",
          "07-002-0089",
          "07-002-0094",
          "07-002-0099",
          "07-002-0107",
          "07-002-0108",
          "07-002-0112",
          "07-002-0118"
         ],
         "type": "scatter",
         "x": [
          730,
          541,
          166,
          193,
          219,
          288,
          539,
          97,
          154
         ],
         "y": [
          1036,
          786,
          272,
          421,
          368,
          419,
          959,
          213,
          345
         ]
        }
       ],
       "layout": {
        "template": {
         "data": {
          "bar": [
           {
            "error_x": {
             "color": "#2a3f5f"
            },
            "error_y": {
             "color": "#2a3f5f"
            },
            "marker": {
             "line": {
              "color": "#E5ECF6",
              "width": 0.5
             }
            },
            "type": "bar"
           }
          ],
          "barpolar": [
           {
            "marker": {
             "line": {
              "color": "#E5ECF6",
              "width": 0.5
             }
            },
            "type": "barpolar"
           }
          ],
          "carpet": [
           {
            "aaxis": {
             "endlinecolor": "#2a3f5f",
             "gridcolor": "white",
             "linecolor": "white",
             "minorgridcolor": "white",
             "startlinecolor": "#2a3f5f"
            },
            "baxis": {
             "endlinecolor": "#2a3f5f",
             "gridcolor": "white",
             "linecolor": "white",
             "minorgridcolor": "white",
             "startlinecolor": "#2a3f5f"
            },
            "type": "carpet"
           }
          ],
          "choropleth": [
           {
            "colorbar": {
             "outlinewidth": 0,
             "ticks": ""
            },
            "type": "choropleth"
           }
          ],
          "contour": [
           {
            "colorbar": {
             "outlinewidth": 0,
             "ticks": ""
            },
            "colorscale": [
             [
              0,
              "#0d0887"
             ],
             [
              0.1111111111111111,
              "#46039f"
             ],
             [
              0.2222222222222222,
              "#7201a8"
             ],
             [
              0.3333333333333333,
              "#9c179e"
             ],
             [
              0.4444444444444444,
              "#bd3786"
             ],
             [
              0.5555555555555556,
              "#d8576b"
             ],
             [
              0.6666666666666666,
              "#ed7953"
             ],
             [
              0.7777777777777778,
              "#fb9f3a"
             ],
             [
              0.8888888888888888,
              "#fdca26"
             ],
             [
              1,
              "#f0f921"
             ]
            ],
            "type": "contour"
           }
          ],
          "contourcarpet": [
           {
            "colorbar": {
             "outlinewidth": 0,
             "ticks": ""
            },
            "type": "contourcarpet"
           }
          ],
          "heatmap": [
           {
            "colorbar": {
             "outlinewidth": 0,
             "ticks": ""
            },
            "colorscale": [
             [
              0,
              "#0d0887"
             ],
             [
              0.1111111111111111,
              "#46039f"
             ],
             [
              0.2222222222222222,
              "#7201a8"
             ],
             [
              0.3333333333333333,
              "#9c179e"
             ],
             [
              0.4444444444444444,
              "#bd3786"
             ],
             [
              0.5555555555555556,
              "#d8576b"
             ],
             [
              0.6666666666666666,
              "#ed7953"
             ],
             [
              0.7777777777777778,
              "#fb9f3a"
             ],
             [
              0.8888888888888888,
              "#fdca26"
             ],
             [
              1,
              "#f0f921"
             ]
            ],
            "type": "heatmap"
           }
          ],
          "heatmapgl": [
           {
            "colorbar": {
             "outlinewidth": 0,
             "ticks": ""
            },
            "colorscale": [
             [
              0,
              "#0d0887"
             ],
             [
              0.1111111111111111,
              "#46039f"
             ],
             [
              0.2222222222222222,
              "#7201a8"
             ],
             [
              0.3333333333333333,
              "#9c179e"
             ],
             [
              0.4444444444444444,
              "#bd3786"
             ],
             [
              0.5555555555555556,
              "#d8576b"
             ],
             [
              0.6666666666666666,
              "#ed7953"
             ],
             [
              0.7777777777777778,
              "#fb9f3a"
             ],
             [
              0.8888888888888888,
              "#fdca26"
             ],
             [
              1,
              "#f0f921"
             ]
            ],
            "type": "heatmapgl"
           }
          ],
          "histogram": [
           {
            "marker": {
             "colorbar": {
              "outlinewidth": 0,
              "ticks": ""
             }
            },
            "type": "histogram"
           }
          ],
          "histogram2d": [
           {
            "colorbar": {
             "outlinewidth": 0,
             "ticks": ""
            },
            "colorscale": [
             [
              0,
              "#0d0887"
             ],
             [
              0.1111111111111111,
              "#46039f"
             ],
             [
              0.2222222222222222,
              "#7201a8"
             ],
             [
              0.3333333333333333,
              "#9c179e"
             ],
             [
              0.4444444444444444,
              "#bd3786"
             ],
             [
              0.5555555555555556,
              "#d8576b"
             ],
             [
              0.6666666666666666,
              "#ed7953"
             ],
             [
              0.7777777777777778,
              "#fb9f3a"
             ],
             [
              0.8888888888888888,
              "#fdca26"
             ],
             [
              1,
              "#f0f921"
             ]
            ],
            "type": "histogram2d"
           }
          ],
          "histogram2dcontour": [
           {
            "colorbar": {
             "outlinewidth": 0,
             "ticks": ""
            },
            "colorscale": [
             [
              0,
              "#0d0887"
             ],
             [
              0.1111111111111111,
              "#46039f"
             ],
             [
              0.2222222222222222,
              "#7201a8"
             ],
             [
              0.3333333333333333,
              "#9c179e"
             ],
             [
              0.4444444444444444,
              "#bd3786"
             ],
             [
              0.5555555555555556,
              "#d8576b"
             ],
             [
              0.6666666666666666,
              "#ed7953"
             ],
             [
              0.7777777777777778,
              "#fb9f3a"
             ],
             [
              0.8888888888888888,
              "#fdca26"
             ],
             [
              1,
              "#f0f921"
             ]
            ],
            "type": "histogram2dcontour"
           }
          ],
          "mesh3d": [
           {
            "colorbar": {
             "outlinewidth": 0,
             "ticks": ""
            },
            "type": "mesh3d"
           }
          ],
          "parcoords": [
           {
            "line": {
             "colorbar": {
              "outlinewidth": 0,
              "ticks": ""
             }
            },
            "type": "parcoords"
           }
          ],
          "pie": [
           {
            "automargin": true,
            "type": "pie"
           }
          ],
          "scatter": [
           {
            "marker": {
             "colorbar": {
              "outlinewidth": 0,
              "ticks": ""
             }
            },
            "type": "scatter"
           }
          ],
          "scatter3d": [
           {
            "line": {
             "colorbar": {
              "outlinewidth": 0,
              "ticks": ""
             }
            },
            "marker": {
             "colorbar": {
              "outlinewidth": 0,
              "ticks": ""
             }
            },
            "type": "scatter3d"
           }
          ],
          "scattercarpet": [
           {
            "marker": {
             "colorbar": {
              "outlinewidth": 0,
              "ticks": ""
             }
            },
            "type": "scattercarpet"
           }
          ],
          "scattergeo": [
           {
            "marker": {
             "colorbar": {
              "outlinewidth": 0,
              "ticks": ""
             }
            },
            "type": "scattergeo"
           }
          ],
          "scattergl": [
           {
            "marker": {
             "colorbar": {
              "outlinewidth": 0,
              "ticks": ""
             }
            },
            "type": "scattergl"
           }
          ],
          "scattermapbox": [
           {
            "marker": {
             "colorbar": {
              "outlinewidth": 0,
              "ticks": ""
             }
            },
            "type": "scattermapbox"
           }
          ],
          "scatterpolar": [
           {
            "marker": {
             "colorbar": {
              "outlinewidth": 0,
              "ticks": ""
             }
            },
            "type": "scatterpolar"
           }
          ],
          "scatterpolargl": [
           {
            "marker": {
             "colorbar": {
              "outlinewidth": 0,
              "ticks": ""
             }
            },
            "type": "scatterpolargl"
           }
          ],
          "scatterternary": [
           {
            "marker": {
             "colorbar": {
              "outlinewidth": 0,
              "ticks": ""
             }
            },
            "type": "scatterternary"
           }
          ],
          "surface": [
           {
            "colorbar": {
             "outlinewidth": 0,
             "ticks": ""
            },
            "colorscale": [
             [
              0,
              "#0d0887"
             ],
             [
              0.1111111111111111,
              "#46039f"
             ],
             [
              0.2222222222222222,
              "#7201a8"
             ],
             [
              0.3333333333333333,
              "#9c179e"
             ],
             [
              0.4444444444444444,
              "#bd3786"
             ],
             [
              0.5555555555555556,
              "#d8576b"
             ],
             [
              0.6666666666666666,
              "#ed7953"
             ],
             [
              0.7777777777777778,
              "#fb9f3a"
             ],
             [
              0.8888888888888888,
              "#fdca26"
             ],
             [
              1,
              "#f0f921"
             ]
            ],
            "type": "surface"
           }
          ],
          "table": [
           {
            "cells": {
             "fill": {
              "color": "#EBF0F8"
             },
             "line": {
              "color": "white"
             }
            },
            "header": {
             "fill": {
              "color": "#C8D4E3"
             },
             "line": {
              "color": "white"
             }
            },
            "type": "table"
           }
          ]
         },
         "layout": {
          "annotationdefaults": {
           "arrowcolor": "#2a3f5f",
           "arrowhead": 0,
           "arrowwidth": 1
          },
          "coloraxis": {
           "colorbar": {
            "outlinewidth": 0,
            "ticks": ""
           }
          },
          "colorscale": {
           "diverging": [
            [
             0,
             "#8e0152"
            ],
            [
             0.1,
             "#c51b7d"
            ],
            [
             0.2,
             "#de77ae"
            ],
            [
             0.3,
             "#f1b6da"
            ],
            [
             0.4,
             "#fde0ef"
            ],
            [
             0.5,
             "#f7f7f7"
            ],
            [
             0.6,
             "#e6f5d0"
            ],
            [
             0.7,
             "#b8e186"
            ],
            [
             0.8,
             "#7fbc41"
            ],
            [
             0.9,
             "#4d9221"
            ],
            [
             1,
             "#276419"
            ]
           ],
           "sequential": [
            [
             0,
             "#0d0887"
            ],
            [
             0.1111111111111111,
             "#46039f"
            ],
            [
             0.2222222222222222,
             "#7201a8"
            ],
            [
             0.3333333333333333,
             "#9c179e"
            ],
            [
             0.4444444444444444,
             "#bd3786"
            ],
            [
             0.5555555555555556,
             "#d8576b"
            ],
            [
             0.6666666666666666,
             "#ed7953"
            ],
            [
             0.7777777777777778,
             "#fb9f3a"
            ],
            [
             0.8888888888888888,
             "#fdca26"
            ],
            [
             1,
             "#f0f921"
            ]
           ],
           "sequentialminus": [
            [
             0,
             "#0d0887"
            ],
            [
             0.1111111111111111,
             "#46039f"
            ],
            [
             0.2222222222222222,
             "#7201a8"
            ],
            [
             0.3333333333333333,
             "#9c179e"
            ],
            [
             0.4444444444444444,
             "#bd3786"
            ],
            [
             0.5555555555555556,
             "#d8576b"
            ],
            [
             0.6666666666666666,
             "#ed7953"
            ],
            [
             0.7777777777777778,
             "#fb9f3a"
            ],
            [
             0.8888888888888888,
             "#fdca26"
            ],
            [
             1,
             "#f0f921"
            ]
           ]
          },
          "colorway": [
           "#636efa",
           "#EF553B",
           "#00cc96",
           "#ab63fa",
           "#FFA15A",
           "#19d3f3",
           "#FF6692",
           "#B6E880",
           "#FF97FF",
           "#FECB52"
          ],
          "font": {
           "color": "#2a3f5f"
          },
          "geo": {
           "bgcolor": "white",
           "lakecolor": "white",
           "landcolor": "#E5ECF6",
           "showlakes": true,
           "showland": true,
           "subunitcolor": "white"
          },
          "hoverlabel": {
           "align": "left"
          },
          "hovermode": "closest",
          "mapbox": {
           "style": "light"
          },
          "paper_bgcolor": "white",
          "plot_bgcolor": "#E5ECF6",
          "polar": {
           "angularaxis": {
            "gridcolor": "white",
            "linecolor": "white",
            "ticks": ""
           },
           "bgcolor": "#E5ECF6",
           "radialaxis": {
            "gridcolor": "white",
            "linecolor": "white",
            "ticks": ""
           }
          },
          "scene": {
           "xaxis": {
            "backgroundcolor": "#E5ECF6",
            "gridcolor": "white",
            "gridwidth": 2,
            "linecolor": "white",
            "showbackground": true,
            "ticks": "",
            "zerolinecolor": "white"
           },
           "yaxis": {
            "backgroundcolor": "#E5ECF6",
            "gridcolor": "white",
            "gridwidth": 2,
            "linecolor": "white",
            "showbackground": true,
            "ticks": "",
            "zerolinecolor": "white"
           },
           "zaxis": {
            "backgroundcolor": "#E5ECF6",
            "gridcolor": "white",
            "gridwidth": 2,
            "linecolor": "white",
            "showbackground": true,
            "ticks": "",
            "zerolinecolor": "white"
           }
          },
          "shapedefaults": {
           "line": {
            "color": "#2a3f5f"
           }
          },
          "ternary": {
           "aaxis": {
            "gridcolor": "white",
            "linecolor": "white",
            "ticks": ""
           },
           "baxis": {
            "gridcolor": "white",
            "linecolor": "white",
            "ticks": ""
           },
           "bgcolor": "#E5ECF6",
           "caxis": {
            "gridcolor": "white",
            "linecolor": "white",
            "ticks": ""
           }
          },
          "title": {
           "x": 0.05
          },
          "xaxis": {
           "automargin": true,
           "gridcolor": "white",
           "linecolor": "white",
           "ticks": "",
           "title": {
            "standoff": 15
           },
           "zerolinecolor": "white",
           "zerolinewidth": 2
          },
          "yaxis": {
           "automargin": true,
           "gridcolor": "white",
           "linecolor": "white",
           "ticks": "",
           "title": {
            "standoff": 15
           },
           "zerolinecolor": "white",
           "zerolinewidth": 2
          }
         }
        },
        "title": {
         "text": "Registered<br>Tihanovkaja correlation (except embassy): 0.84"
        },
        "xaxis": {
         "title": {
          "text": "People registered on platform"
         }
        },
        "yaxis": {
         "title": {
          "text": "People voted for Tsihanouskaya"
         }
        }
       }
      },
      "text/html": [
       "<div>\n",
       "        \n",
       "        \n",
       "            <div id=\"0b6ff275-3e79-4d6e-ad13-2deffc220133\" class=\"plotly-graph-div\" style=\"height:525px; width:100%;\"></div>\n",
       "            <script type=\"text/javascript\">\n",
       "                require([\"plotly\"], function(Plotly) {\n",
       "                    window.PLOTLYENV=window.PLOTLYENV || {};\n",
       "                    \n",
       "                if (document.getElementById(\"0b6ff275-3e79-4d6e-ad13-2deffc220133\")) {\n",
       "                    Plotly.newPlot(\n",
       "                        '0b6ff275-3e79-4d6e-ad13-2deffc220133',\n",
       "                        [{\"mode\": \"markers\", \"name\": \"city (0.95)\", \"text\": [\"01-010-0007\", \"01-010-0010\", \"01-010-0025\", \"01-010-0028\", \"01-010-0032\", \"01-010-0034\", \"01-010-0044\", \"01-011-0015\", \"01-011-0032\", \"01-011-0037\", \"01-011-0038\", \"01-011-0049\", \"01-011-0061\", \"01-011-0087\", \"02-015-0025\", \"02-016-0006\", \"02-016-0014\", \"02-016-0018\", \"02-016-0059\", \"02-143-0016\", \"02-143-0019\", \"02-143-0022\", \"03-019-0049\", \"04-021-0032\", \"04-021-0048\", \"04-022-0067\", \"04-022-0080\", \"04-022-0081\", \"04-022-0085\", \"04-022-0107\", \"04-022-0117\", \"04-022-0121\", \"04-022-0125\", \"04-022-0128\", \"04-022-0135\", \"06-024-0010\", \"06-146-0025\", \"06-146-0035\"], \"type\": \"scatter\", \"x\": [346, 126, 396, 255, 259, 409, 185, 368, 213, 191, 180, 379, 294, 423, 261, 90, 238, 203, 154, 112, 217, 221, 227, 142, 198, 412, 273, 301, 130, 262, 237, 242, 262, 335, 303, 161, 123, 148], \"y\": [1010.0, 443.0, 1107.0, 764.0, 711.0, 1223.0, 473.0, 1113.0, 582.0, 543.0, 510.0, 1055.0, 869.0, 1155.0, 672.0, 284.0, 666.0, 674.0, 311.0, 531.0, 764.0, 470.0, 620.0, 301.0, 620.0, 1002.0, 955.0, 803.0, 449.0, 709.0, 819.0, 697.0, 709.0, 930.0, 844.0, 439.0, 440.0, 424.0]}, {\"mode\": \"markers\", \"name\": \"minsk_suburb (0.90)\", \"text\": [\"05-141-0003\", \"05-141-0005\", \"05-141-0008\", \"05-141-0011\", \"05-141-0014\", \"05-141-0015\", \"05-141-0017\", \"05-141-0018\", \"05-141-0019\", \"05-141-0025\", \"05-141-0040\", \"05-141-0050\", \"05-141-0051\", \"05-141-0054\", \"05-141-0055\", \"05-141-0056\", \"05-141-0075\", \"05-141-0077\", \"05-141-0078\", \"05-141-0091\", \"05-141-0092\", \"05-141-0093\", \"05-141-0096\", \"05-141-0098\", \"05-141-0100\", \"05-141-0101\", \"05-141-0104\", \"05-141-0105\", \"05-141-0107\"], \"type\": \"scatter\", \"x\": [484, 487, 523, 589, 416, 274, 449, 350, 472, 785, 627, 283, 447, 692, 214, 197, 276, 274, 377, 228, 604, 548, 307, 496, 521, 165, 329, 212, 278], \"y\": [1048.0, 1002.0, 688.0, 947.0, 837.0, 652.0, 860.0, 660.0, 985.0, 1274.0, 1266.0, 719.0, 737.0, 1230.0, 470.0, 433.0, 431.0, 547.0, 834.0, 418.0, 1128.0, 916.0, 691.0, 1052.0, 644.0, 373.0, 666.0, 560.0, 673.0]}, {\"mode\": \"markers\", \"name\": \"capital (0.89)\", \"text\": [\"07-001-0005\", \"07-001-0008\", \"07-001-0010\", \"07-001-0012\", \"07-001-0016\", \"07-001-0022\", \"07-001-0060\", \"07-001-0089\", \"07-002-0017\", \"07-002-0044\", \"07-002-0051\", \"07-002-0060\", \"07-002-0072\", \"07-003-0002\", \"07-003-0024\", \"07-003-0058\", \"07-003-0061\", \"07-003-0085\", \"07-003-0094\", \"07-004-0002\", \"07-004-0004\", \"07-004-0005\", \"07-004-0006\", \"07-004-0007\", \"07-004-0018\", \"07-004-0026\", \"07-004-0051\", \"07-005-0002\", \"07-005-0007\", \"07-005-0021\", \"07-005-0026\", \"07-005-0034\", \"07-005-0037\", \"07-006-0008\", \"07-006-0037\", \"07-006-0072\", \"07-008-0057\", \"07-008-0070\", \"07-008-0079\", \"07-009-0014\"], \"type\": \"scatter\", \"x\": [221, 266, 297, 208, 332, 289, 322, 519, 333, 464, 331, 396, 295, 453, 372, 374, 454, 576, 550, 334, 331, 472, 339, 441, 362, 398, 577, 12, 416, 411, 511, 391, 567, 1059, 452, 456, 439, 1153, 368, 329], \"y\": [644.0, 615.0, 751.0, 500.0, 402.0, 561.0, 465.0, 1006.0, 339.0, 469.0, 550.0, 476.0, 430.0, 815.0, 686.0, 541.0, 880.0, 928.0, 1121.0, 420.0, 510.0, 974.0, 581.0, 460.0, 757.0, 713.0, 1226.0, 69.0, 890.0, 480.0, 704.0, 782.0, 1259.0, 1869.0, 848.0, 605.0, 539.0, 1979.0, 394.0, 707.0]}, {\"mode\": \"markers\", \"name\": \"village (0.83)\", \"text\": [\"01-049-0030\", \"01-050-0011\", \"01-053-0021\", \"01-055-0010\", \"01-055-0017\", \"01-056-0021\", \"01-056-0024\", \"01-057-0025\", \"01-063-0049\", \"01-142-0002\", \"02-065-0015\", \"02-067-0010\", \"02-069-0006\", \"02-072-0011\", \"02-077-0016\", \"02-143-0008\", \"03-088-0027\", \"03-091-0046\", \"03-091-0047\", \"03-091-0048\", \"03-100-0057\", \"03-101-0029\", \"03-101-0036\", \"03-101-0037\", \"04-105-0011\", \"04-110-0013\", \"04-112-0055\", \"04-112-0064\", \"04-117-0011\", \"04-117-0014\", \"04-119-0024\", \"04-119-0029\", \"04-145-0024\", \"05-027-0018\", \"05-027-0023\", \"05-029-0018\", \"05-029-0034\", \"05-034-0014\", \"05-034-0019\", \"05-036-0039\", \"05-036-0044\", \"05-037-0016\", \"05-039-0005\", \"05-039-0010\", \"05-039-0011\", \"05-039-0012\", \"05-039-0028\", \"05-040-0063\", \"05-041-0012\", \"05-041-0026\", \"05-041-0030\", \"05-042-0041\", \"05-042-0050\", \"05-042-0056\", \"05-042-0062\", \"05-044-0010\", \"05-044-0025\", \"05-045-0012\", \"05-045-0018\", \"05-046-0022\", \"05-141-0058\", \"05-141-0061\", \"05-141-0070\", \"05-141-0080\", \"05-141-0081\", \"05-141-0103\", \"05-141-0108\", \"06-146-0008\"], \"type\": \"scatter\", \"x\": [96, 22, 65, 12, 19, 49, 27, 36, 29, 136, 37, 16, 104, 32, 96, 18, 23, 91, 41, 28, 26, 16, 13, 52, 22, 51, 77, 89, 15, 21, 54, 67, 89, 58, 130, 63, 230, 14, 50, 119, 112, 98, 241, 243, 177, 188, 19, 164, 95, 54, 168, 92, 59, 13, 53, 85, 56, 29, 32, 201, 204, 146, 326, 263, 316, 71, 182, 52], \"y\": [421.0, 172.0, 443.0, 153.0, 116.0, 222.0, 121.0, 293.0, 141.0, 641.0, 215.0, 144.0, 424.0, 163.0, 351.0, 62.0, 108.0, 331.0, 223.0, 161.0, 176.0, 101.0, 117.0, 253.0, 123.0, 229.0, 358.0, 367.0, 108.0, 112.0, 265.0, 376.0, 424.0, 472.0, 425.0, 87.0, 380.0, 63.0, 177.0, 317.0, 130.0, 407.0, 593.0, 376.0, 508.0, 489.0, 74.0, 565.0, 391.0, 69.0, 444.0, 427.0, 216.0, 80.0, 150.0, 352.0, 230.0, 128.0, 168.0, 648.0, 548.0, 475.0, 794.0, 480.0, 680.0, 236.0, 267.0, 245.0]}, {\"mode\": \"markers\", \"name\": \"town_below100 (0.84)\", \"text\": [\"01-049-0013\", \"01-049-0015\", \"01-054-0001\", \"01-055-0002\", \"01-055-0003\", \"01-055-0032\", \"01-056-0005\", \"01-056-0019\", \"01-062-0009\", \"01-063-0010\", \"02-065-0001\", \"02-065-0006\", \"02-065-0007\", \"02-072-0020\", \"02-073-0004\", \"02-077-0019\", \"02-081-0001\", \"02-082-0020\", \"03-091-0012\", \"03-091-0014\", \"03-091-0015\", \"03-091-0016\", \"03-091-0017\", \"03-091-0018\", \"03-091-0021\", \"03-091-0022\", \"03-091-0024\", \"03-091-0026\", \"03-091-0027\", \"03-091-0028\", \"03-091-0030\", \"03-091-0032\", \"03-091-0033\", \"03-101-0008\", \"03-101-0011\", \"03-101-0015\", \"03-102-0003\", \"04-106-0011\", \"04-110-0003\", \"04-112-0070\", \"04-114-0004\", \"04-114-0017\", \"04-115-0002\", \"04-115-0003\", \"04-115-0005\", \"04-118-0004\", \"04-119-0007\", \"04-119-0008\", \"04-119-0013\", \"04-119-0016\", \"05-027-0006\", \"05-027-0007\", \"05-036-0003\", \"05-036-0004\", \"05-036-0020\", \"05-036-0023\", \"05-036-0029\", \"05-036-0074\", \"05-036-0075\", \"05-038-0004\", \"05-040-0002\", \"05-040-0008\", \"05-040-0019\", \"05-040-0028\", \"05-041-0008\", \"05-041-0035\", \"05-044-0004\", \"05-044-0005\", \"05-044-0007\", \"06-129-0001\", \"06-135-0002\", \"06-135-0011\"], \"type\": \"scatter\", \"x\": [233, 386, 263, 165, 158, 125, 281, 331, 68, 121, 172, 152, 84, 154, 128, 125, 171, 250, 183, 198, 177, 141, 275, 127, 247, 407, 420, 421, 594, 193, 220, 449, 393, 136, 147, 218, 124, 261, 152, 230, 191, 145, 72, 163, 210, 106, 262, 202, 140, 182, 211, 99, 202, 260, 332, 222, 245, 191, 193, 331, 298, 285, 168, 120, 189, 120, 265, 336, 259, 112, 152, 174], \"y\": [865.0, 1176.0, 879.0, 575.0, 745.0, 553.0, 905.0, 1049.0, 241.0, 634.0, 672.0, 567.0, 369.0, 562.0, 460.0, 475.0, 721.0, 1027.0, 205.0, 575.0, 476.0, 492.0, 359.0, 389.0, 797.0, 754.0, 1205.0, 1369.0, 1446.0, 361.0, 687.0, 1428.0, 884.0, 477.0, 515.0, 403.0, 316.0, 848.0, 559.0, 749.0, 504.0, 501.0, 309.0, 630.0, 590.0, 407.0, 871.0, 617.0, 454.0, 664.0, 583.0, 415.0, 549.0, 428.0, 886.0, 502.0, 741.0, 647.0, 507.0, 1061.0, 954.0, 663.0, 557.0, 294.0, 478.0, 521.0, 731.0, 889.0, 562.0, 560.0, 752.0, 647.0]}, {\"mode\": \"markers\", \"name\": \"town_over100 (0.69)\", \"text\": [\"01-060-0059\", \"01-060-0060\", \"01-060-0061\", \"02-074-0004\", \"02-074-0018\", \"02-074-0019\", \"02-075-0005\", \"02-075-0019\", \"03-096-0008\", \"03-096-0009\", \"03-096-0023\", \"03-096-0026\", \"03-096-0038\", \"03-096-0039\", \"04-112-0002\", \"04-112-0007\", \"04-112-0012\", \"04-112-0016\", \"04-112-0020\", \"04-112-0025\", \"04-112-0026\", \"04-112-0029\", \"04-112-0032\", \"04-112-0044\", \"05-026-0005\", \"05-026-0011\", \"05-026-0016\", \"05-026-0061\", \"05-026-0062\", \"06-012-0069\", \"06-012-0077\", \"06-013-0020\", \"06-013-0021\", \"06-013-0048\"], \"type\": \"scatter\", \"x\": [184, 172, 203, 360, 229, 205, 128, 102, 116, 132, 189, 222, 134, 147, 209, 241, 365, 291, 164, 197, 231, 149, 150, 212, 66, 234, 143, 165, 144, 143, 150, 195, 196, 138], \"y\": [615.0, 466.0, 793.0, 579.0, 432.0, 574.0, 378.0, 160.0, 397.0, 335.0, 606.0, 611.0, 394.0, 660.0, 634.0, 603.0, 1052.0, 752.0, 507.0, 558.0, 425.0, 499.0, 493.0, 335.0, 189.0, 855.0, 489.0, 256.0, 257.0, 301.0, 507.0, 623.0, 815.0, 383.0]}, {\"mode\": \"markers\", \"name\": \"embassy (0.98)\", \"text\": [\"07-002-0084\", \"07-002-0085\", \"07-002-0089\", \"07-002-0094\", \"07-002-0099\", \"07-002-0107\", \"07-002-0108\", \"07-002-0112\", \"07-002-0118\"], \"type\": \"scatter\", \"x\": [730, 541, 166, 193, 219, 288, 539, 97, 154], \"y\": [1036.0, 786.0, 272.0, 421.0, 368.0, 419.0, 959.0, 213.0, 345.0]}],\n",
       "                        {\"template\": {\"data\": {\"bar\": [{\"error_x\": {\"color\": \"#2a3f5f\"}, \"error_y\": {\"color\": \"#2a3f5f\"}, \"marker\": {\"line\": {\"color\": \"#E5ECF6\", \"width\": 0.5}}, \"type\": \"bar\"}], \"barpolar\": [{\"marker\": {\"line\": {\"color\": \"#E5ECF6\", \"width\": 0.5}}, \"type\": \"barpolar\"}], \"carpet\": [{\"aaxis\": {\"endlinecolor\": \"#2a3f5f\", \"gridcolor\": \"white\", \"linecolor\": \"white\", \"minorgridcolor\": \"white\", \"startlinecolor\": \"#2a3f5f\"}, \"baxis\": {\"endlinecolor\": \"#2a3f5f\", \"gridcolor\": \"white\", \"linecolor\": \"white\", \"minorgridcolor\": \"white\", \"startlinecolor\": \"#2a3f5f\"}, \"type\": \"carpet\"}], \"choropleth\": [{\"colorbar\": {\"outlinewidth\": 0, \"ticks\": \"\"}, \"type\": \"choropleth\"}], \"contour\": [{\"colorbar\": {\"outlinewidth\": 0, \"ticks\": \"\"}, \"colorscale\": [[0.0, \"#0d0887\"], [0.1111111111111111, \"#46039f\"], [0.2222222222222222, \"#7201a8\"], [0.3333333333333333, \"#9c179e\"], [0.4444444444444444, \"#bd3786\"], [0.5555555555555556, \"#d8576b\"], [0.6666666666666666, \"#ed7953\"], [0.7777777777777778, \"#fb9f3a\"], [0.8888888888888888, \"#fdca26\"], [1.0, \"#f0f921\"]], \"type\": \"contour\"}], \"contourcarpet\": [{\"colorbar\": {\"outlinewidth\": 0, \"ticks\": \"\"}, \"type\": \"contourcarpet\"}], \"heatmap\": [{\"colorbar\": {\"outlinewidth\": 0, \"ticks\": \"\"}, \"colorscale\": [[0.0, \"#0d0887\"], [0.1111111111111111, \"#46039f\"], [0.2222222222222222, \"#7201a8\"], [0.3333333333333333, \"#9c179e\"], [0.4444444444444444, \"#bd3786\"], [0.5555555555555556, \"#d8576b\"], [0.6666666666666666, \"#ed7953\"], [0.7777777777777778, \"#fb9f3a\"], [0.8888888888888888, \"#fdca26\"], [1.0, \"#f0f921\"]], \"type\": \"heatmap\"}], \"heatmapgl\": [{\"colorbar\": {\"outlinewidth\": 0, \"ticks\": \"\"}, \"colorscale\": [[0.0, \"#0d0887\"], [0.1111111111111111, \"#46039f\"], [0.2222222222222222, \"#7201a8\"], [0.3333333333333333, \"#9c179e\"], [0.4444444444444444, \"#bd3786\"], [0.5555555555555556, \"#d8576b\"], [0.6666666666666666, \"#ed7953\"], [0.7777777777777778, \"#fb9f3a\"], [0.8888888888888888, \"#fdca26\"], [1.0, \"#f0f921\"]], \"type\": \"heatmapgl\"}], \"histogram\": [{\"marker\": {\"colorbar\": {\"outlinewidth\": 0, \"ticks\": \"\"}}, \"type\": \"histogram\"}], \"histogram2d\": [{\"colorbar\": {\"outlinewidth\": 0, \"ticks\": \"\"}, \"colorscale\": [[0.0, \"#0d0887\"], [0.1111111111111111, \"#46039f\"], [0.2222222222222222, \"#7201a8\"], [0.3333333333333333, \"#9c179e\"], [0.4444444444444444, \"#bd3786\"], [0.5555555555555556, \"#d8576b\"], [0.6666666666666666, \"#ed7953\"], [0.7777777777777778, \"#fb9f3a\"], [0.8888888888888888, \"#fdca26\"], [1.0, \"#f0f921\"]], \"type\": \"histogram2d\"}], \"histogram2dcontour\": [{\"colorbar\": {\"outlinewidth\": 0, \"ticks\": \"\"}, \"colorscale\": [[0.0, \"#0d0887\"], [0.1111111111111111, \"#46039f\"], [0.2222222222222222, \"#7201a8\"], [0.3333333333333333, \"#9c179e\"], [0.4444444444444444, \"#bd3786\"], [0.5555555555555556, \"#d8576b\"], [0.6666666666666666, \"#ed7953\"], [0.7777777777777778, \"#fb9f3a\"], [0.8888888888888888, \"#fdca26\"], [1.0, \"#f0f921\"]], \"type\": \"histogram2dcontour\"}], \"mesh3d\": [{\"colorbar\": {\"outlinewidth\": 0, \"ticks\": \"\"}, \"type\": \"mesh3d\"}], \"parcoords\": [{\"line\": {\"colorbar\": {\"outlinewidth\": 0, \"ticks\": \"\"}}, \"type\": \"parcoords\"}], \"pie\": [{\"automargin\": true, \"type\": \"pie\"}], \"scatter\": [{\"marker\": {\"colorbar\": {\"outlinewidth\": 0, \"ticks\": \"\"}}, \"type\": \"scatter\"}], \"scatter3d\": [{\"line\": {\"colorbar\": {\"outlinewidth\": 0, \"ticks\": \"\"}}, \"marker\": {\"colorbar\": {\"outlinewidth\": 0, \"ticks\": \"\"}}, \"type\": \"scatter3d\"}], \"scattercarpet\": [{\"marker\": {\"colorbar\": {\"outlinewidth\": 0, \"ticks\": \"\"}}, \"type\": \"scattercarpet\"}], \"scattergeo\": [{\"marker\": {\"colorbar\": {\"outlinewidth\": 0, \"ticks\": \"\"}}, \"type\": \"scattergeo\"}], \"scattergl\": [{\"marker\": {\"colorbar\": {\"outlinewidth\": 0, \"ticks\": \"\"}}, \"type\": \"scattergl\"}], \"scattermapbox\": [{\"marker\": {\"colorbar\": {\"outlinewidth\": 0, \"ticks\": \"\"}}, \"type\": \"scattermapbox\"}], \"scatterpolar\": [{\"marker\": {\"colorbar\": {\"outlinewidth\": 0, \"ticks\": \"\"}}, \"type\": \"scatterpolar\"}], \"scatterpolargl\": [{\"marker\": {\"colorbar\": {\"outlinewidth\": 0, \"ticks\": \"\"}}, \"type\": \"scatterpolargl\"}], \"scatterternary\": [{\"marker\": {\"colorbar\": {\"outlinewidth\": 0, \"ticks\": \"\"}}, \"type\": \"scatterternary\"}], \"surface\": [{\"colorbar\": {\"outlinewidth\": 0, \"ticks\": \"\"}, \"colorscale\": [[0.0, \"#0d0887\"], [0.1111111111111111, \"#46039f\"], [0.2222222222222222, \"#7201a8\"], [0.3333333333333333, \"#9c179e\"], [0.4444444444444444, \"#bd3786\"], [0.5555555555555556, \"#d8576b\"], [0.6666666666666666, \"#ed7953\"], [0.7777777777777778, \"#fb9f3a\"], [0.8888888888888888, \"#fdca26\"], [1.0, \"#f0f921\"]], \"type\": \"surface\"}], \"table\": [{\"cells\": {\"fill\": {\"color\": \"#EBF0F8\"}, \"line\": {\"color\": \"white\"}}, \"header\": {\"fill\": {\"color\": \"#C8D4E3\"}, \"line\": {\"color\": \"white\"}}, \"type\": \"table\"}]}, \"layout\": {\"annotationdefaults\": {\"arrowcolor\": \"#2a3f5f\", \"arrowhead\": 0, \"arrowwidth\": 1}, \"coloraxis\": {\"colorbar\": {\"outlinewidth\": 0, \"ticks\": \"\"}}, \"colorscale\": {\"diverging\": [[0, \"#8e0152\"], [0.1, \"#c51b7d\"], [0.2, \"#de77ae\"], [0.3, \"#f1b6da\"], [0.4, \"#fde0ef\"], [0.5, \"#f7f7f7\"], [0.6, \"#e6f5d0\"], [0.7, \"#b8e186\"], [0.8, \"#7fbc41\"], [0.9, \"#4d9221\"], [1, \"#276419\"]], \"sequential\": [[0.0, \"#0d0887\"], [0.1111111111111111, \"#46039f\"], [0.2222222222222222, \"#7201a8\"], [0.3333333333333333, \"#9c179e\"], [0.4444444444444444, \"#bd3786\"], [0.5555555555555556, \"#d8576b\"], [0.6666666666666666, \"#ed7953\"], [0.7777777777777778, \"#fb9f3a\"], [0.8888888888888888, \"#fdca26\"], [1.0, \"#f0f921\"]], \"sequentialminus\": [[0.0, \"#0d0887\"], [0.1111111111111111, \"#46039f\"], [0.2222222222222222, \"#7201a8\"], [0.3333333333333333, \"#9c179e\"], [0.4444444444444444, \"#bd3786\"], [0.5555555555555556, \"#d8576b\"], [0.6666666666666666, \"#ed7953\"], [0.7777777777777778, \"#fb9f3a\"], [0.8888888888888888, \"#fdca26\"], [1.0, \"#f0f921\"]]}, \"colorway\": [\"#636efa\", \"#EF553B\", \"#00cc96\", \"#ab63fa\", \"#FFA15A\", \"#19d3f3\", \"#FF6692\", \"#B6E880\", \"#FF97FF\", \"#FECB52\"], \"font\": {\"color\": \"#2a3f5f\"}, \"geo\": {\"bgcolor\": \"white\", \"lakecolor\": \"white\", \"landcolor\": \"#E5ECF6\", \"showlakes\": true, \"showland\": true, \"subunitcolor\": \"white\"}, \"hoverlabel\": {\"align\": \"left\"}, \"hovermode\": \"closest\", \"mapbox\": {\"style\": \"light\"}, \"paper_bgcolor\": \"white\", \"plot_bgcolor\": \"#E5ECF6\", \"polar\": {\"angularaxis\": {\"gridcolor\": \"white\", \"linecolor\": \"white\", \"ticks\": \"\"}, \"bgcolor\": \"#E5ECF6\", \"radialaxis\": {\"gridcolor\": \"white\", \"linecolor\": \"white\", \"ticks\": \"\"}}, \"scene\": {\"xaxis\": {\"backgroundcolor\": \"#E5ECF6\", \"gridcolor\": \"white\", \"gridwidth\": 2, \"linecolor\": \"white\", \"showbackground\": true, \"ticks\": \"\", \"zerolinecolor\": \"white\"}, \"yaxis\": {\"backgroundcolor\": \"#E5ECF6\", \"gridcolor\": \"white\", \"gridwidth\": 2, \"linecolor\": \"white\", \"showbackground\": true, \"ticks\": \"\", \"zerolinecolor\": \"white\"}, \"zaxis\": {\"backgroundcolor\": \"#E5ECF6\", \"gridcolor\": \"white\", \"gridwidth\": 2, \"linecolor\": \"white\", \"showbackground\": true, \"ticks\": \"\", \"zerolinecolor\": \"white\"}}, \"shapedefaults\": {\"line\": {\"color\": \"#2a3f5f\"}}, \"ternary\": {\"aaxis\": {\"gridcolor\": \"white\", \"linecolor\": \"white\", \"ticks\": \"\"}, \"baxis\": {\"gridcolor\": \"white\", \"linecolor\": \"white\", \"ticks\": \"\"}, \"bgcolor\": \"#E5ECF6\", \"caxis\": {\"gridcolor\": \"white\", \"linecolor\": \"white\", \"ticks\": \"\"}}, \"title\": {\"x\": 0.05}, \"xaxis\": {\"automargin\": true, \"gridcolor\": \"white\", \"linecolor\": \"white\", \"ticks\": \"\", \"title\": {\"standoff\": 15}, \"zerolinecolor\": \"white\", \"zerolinewidth\": 2}, \"yaxis\": {\"automargin\": true, \"gridcolor\": \"white\", \"linecolor\": \"white\", \"ticks\": \"\", \"title\": {\"standoff\": 15}, \"zerolinecolor\": \"white\", \"zerolinewidth\": 2}}}, \"title\": {\"text\": \"Registered<br>Tihanovkaja correlation (except embassy): 0.84\"}, \"xaxis\": {\"title\": {\"text\": \"People registered on platform\"}}, \"yaxis\": {\"title\": {\"text\": \"People voted for Tsihanouskaya\"}}},\n",
       "                        {\"responsive\": true}\n",
       "                    ).then(function(){\n",
       "                            \n",
       "var gd = document.getElementById('0b6ff275-3e79-4d6e-ad13-2deffc220133');\n",
       "var x = new MutationObserver(function (mutations, observer) {{\n",
       "        var display = window.getComputedStyle(gd).display;\n",
       "        if (!display || display === 'none') {{\n",
       "            console.log([gd, 'removed!']);\n",
       "            Plotly.purge(gd);\n",
       "            observer.disconnect();\n",
       "        }}\n",
       "}});\n",
       "\n",
       "// Listen for the removal of the full notebook cells\n",
       "var notebookContainer = gd.closest('#notebook-container');\n",
       "if (notebookContainer) {{\n",
       "    x.observe(notebookContainer, {childList: true});\n",
       "}}\n",
       "\n",
       "// Listen for the clearing of the current output cell\n",
       "var outputEl = gd.closest('.output');\n",
       "if (outputEl) {{\n",
       "    x.observe(outputEl, {childList: true});\n",
       "}}\n",
       "\n",
       "                        })\n",
       "                };\n",
       "                });\n",
       "            </script>\n",
       "        </div>"
      ]
     },
     "metadata": {},
     "output_type": "display_data"
    }
   ],
   "source": [
    "draw_chart('tihanovkaja', 'registered', 'People registered on platform')"
   ]
  },
  {
   "cell_type": "code",
   "execution_count": 138,
   "metadata": {},
   "outputs": [
    {
     "data": {
      "application/vnd.plotly.v1+json": {
       "config": {
        "plotlyServerURL": "https://plot.ly"
       },
       "data": [
        {
         "mode": "markers",
         "name": "city (0.93)",
         "text": [
          "01-010-0007",
          "01-010-0010",
          "01-010-0025",
          "01-010-0028",
          "01-010-0032",
          "01-010-0034",
          "01-010-0044",
          "01-011-0015",
          "01-011-0032",
          "01-011-0037",
          "01-011-0038",
          "01-011-0049",
          "01-011-0061",
          "01-011-0087",
          "02-015-0025",
          "02-016-0006",
          "02-016-0014",
          "02-016-0018",
          "02-016-0059",
          "02-143-0016",
          "02-143-0019",
          "02-143-0022",
          "03-019-0049",
          "04-021-0032",
          "04-021-0048",
          "04-022-0067",
          "04-022-0080",
          "04-022-0081",
          "04-022-0085",
          "04-022-0107",
          "04-022-0117",
          "04-022-0121",
          "04-022-0125",
          "04-022-0128",
          "04-022-0135",
          "06-024-0010",
          "06-146-0025",
          "06-146-0035"
         ],
         "type": "scatter",
         "x": [
          358,
          126,
          420,
          268,
          264,
          424,
          193,
          390,
          220,
          203,
          193,
          396,
          312,
          432,
          268,
          93,
          244,
          213,
          160,
          120,
          223,
          236,
          239,
          151,
          209,
          423,
          283,
          311,
          133,
          275,
          246,
          250,
          269,
          344,
          312,
          171,
          131,
          150
         ],
         "y": [
          1262,
          532,
          1350,
          1285,
          950,
          1513,
          593,
          1398,
          766,
          756,
          662,
          1275,
          1107,
          1440,
          891,
          351,
          836,
          873,
          463,
          705,
          989,
          724,
          828,
          437,
          735,
          1241,
          1154,
          1010,
          553,
          884,
          1003,
          765,
          893,
          1131,
          976,
          577,
          612,
          517
         ]
        },
        {
         "mode": "markers",
         "name": "minsk_suburb (0.87)",
         "text": [
          "05-141-0003",
          "05-141-0005",
          "05-141-0008",
          "05-141-0011",
          "05-141-0014",
          "05-141-0015",
          "05-141-0017",
          "05-141-0018",
          "05-141-0019",
          "05-141-0025",
          "05-141-0040",
          "05-141-0050",
          "05-141-0051",
          "05-141-0054",
          "05-141-0055",
          "05-141-0056",
          "05-141-0075",
          "05-141-0077",
          "05-141-0078",
          "05-141-0091",
          "05-141-0092",
          "05-141-0093",
          "05-141-0096",
          "05-141-0098",
          "05-141-0100",
          "05-141-0101",
          "05-141-0104",
          "05-141-0105",
          "05-141-0107"
         ],
         "type": "scatter",
         "x": [
          510,
          506,
          549,
          616,
          429,
          281,
          465,
          363,
          488,
          812,
          646,
          300,
          459,
          720,
          222,
          201,
          287,
          292,
          388,
          231,
          636,
          570,
          319,
          525,
          531,
          173,
          338,
          220,
          286
         ],
         "y": [
          1259,
          1161,
          824,
          1085,
          969,
          778,
          996,
          769,
          1167,
          1458,
          1370,
          907,
          901,
          1378,
          544,
          510,
          513,
          644,
          1013,
          516,
          1387,
          985,
          822,
          1284,
          693,
          410,
          772,
          650,
          801
         ]
        },
        {
         "mode": "markers",
         "name": "capital (0.90)",
         "text": [
          "07-001-0005",
          "07-001-0008",
          "07-001-0010",
          "07-001-0012",
          "07-001-0016",
          "07-001-0022",
          "07-001-0060",
          "07-001-0089",
          "07-002-0017",
          "07-002-0044",
          "07-002-0051",
          "07-002-0060",
          "07-002-0072",
          "07-003-0002",
          "07-003-0024",
          "07-003-0058",
          "07-003-0061",
          "07-003-0085",
          "07-003-0094",
          "07-004-0002",
          "07-004-0004",
          "07-004-0005",
          "07-004-0006",
          "07-004-0007",
          "07-004-0018",
          "07-004-0026",
          "07-004-0051",
          "07-005-0002",
          "07-005-0007",
          "07-005-0021",
          "07-005-0026",
          "07-005-0034",
          "07-005-0037",
          "07-006-0008",
          "07-006-0037",
          "07-006-0072",
          "07-008-0057",
          "07-008-0070",
          "07-008-0079",
          "07-009-0014"
         ],
         "type": "scatter",
         "x": [
          232,
          278,
          305,
          218,
          350,
          304,
          336,
          532,
          344,
          482,
          344,
          406,
          306,
          474,
          388,
          389,
          474,
          592,
          570,
          347,
          343,
          492,
          347,
          458,
          381,
          413,
          603,
          16,
          433,
          426,
          534,
          422,
          592,
          1086,
          473,
          471,
          463,
          1185,
          387,
          342
         ],
         "y": [
          915,
          734,
          870,
          566,
          598,
          834,
          612,
          1259,
          680,
          657,
          704,
          683,
          526,
          972,
          840,
          609,
          1034,
          1343,
          1440,
          700,
          796,
          1182,
          741,
          901,
          936,
          877,
          1667,
          110,
          1084,
          583,
          911,
          1064,
          1523,
          2134,
          991,
          1130,
          760,
          2258,
          679,
          838
         ]
        },
        {
         "mode": "markers",
         "name": "village (0.81)",
         "text": [
          "01-049-0030",
          "01-050-0011",
          "01-053-0021",
          "01-055-0010",
          "01-055-0017",
          "01-056-0021",
          "01-056-0024",
          "01-057-0025",
          "01-063-0049",
          "01-142-0002",
          "02-065-0015",
          "02-067-0010",
          "02-069-0006",
          "02-072-0011",
          "02-077-0016",
          "02-143-0008",
          "03-088-0027",
          "03-091-0046",
          "03-091-0047",
          "03-091-0048",
          "03-100-0057",
          "03-101-0029",
          "03-101-0036",
          "03-101-0037",
          "04-105-0011",
          "04-110-0013",
          "04-112-0055",
          "04-112-0064",
          "04-117-0011",
          "04-117-0014",
          "04-119-0024",
          "04-119-0029",
          "04-145-0024",
          "05-027-0018",
          "05-027-0023",
          "05-029-0018",
          "05-029-0034",
          "05-034-0014",
          "05-034-0019",
          "05-036-0039",
          "05-036-0044",
          "05-037-0016",
          "05-039-0005",
          "05-039-0010",
          "05-039-0011",
          "05-039-0012",
          "05-039-0028",
          "05-040-0063",
          "05-041-0012",
          "05-041-0026",
          "05-041-0030",
          "05-042-0041",
          "05-042-0050",
          "05-042-0056",
          "05-042-0062",
          "05-044-0010",
          "05-044-0025",
          "05-045-0012",
          "05-045-0018",
          "05-046-0022",
          "05-141-0058",
          "05-141-0061",
          "05-141-0070",
          "05-141-0080",
          "05-141-0081",
          "05-141-0103",
          "05-141-0108",
          "06-146-0008"
         ],
         "type": "scatter",
         "x": [
          102,
          25,
          68,
          13,
          19,
          49,
          27,
          37,
          34,
          142,
          37,
          16,
          110,
          33,
          99,
          18,
          24,
          96,
          41,
          29,
          27,
          19,
          14,
          54,
          22,
          53,
          79,
          95,
          16,
          25,
          54,
          71,
          98,
          59,
          134,
          68,
          244,
          14,
          53,
          123,
          114,
          102,
          255,
          251,
          186,
          200,
          20,
          168,
          103,
          56,
          175,
          94,
          61,
          14,
          58,
          87,
          60,
          31,
          33,
          215,
          208,
          150,
          343,
          277,
          326,
          73,
          188,
          53
         ],
         "y": [
          567,
          225,
          595,
          221,
          174,
          277,
          181,
          420,
          243,
          838,
          271,
          168,
          581,
          233,
          493,
          80,
          144,
          446,
          303,
          203,
          253,
          142,
          169,
          315,
          169,
          271,
          505,
          449,
          153,
          182,
          361,
          466,
          533,
          600,
          490,
          154,
          509,
          108,
          218,
          351,
          208,
          542,
          752,
          397,
          640,
          564,
          97,
          760,
          434,
          79,
          533,
          580,
          300,
          117,
          231,
          492,
          318,
          172,
          233,
          787,
          655,
          559,
          983,
          582,
          964,
          265,
          338,
          322
         ]
        },
        {
         "mode": "markers",
         "name": "town_below100 (0.83)",
         "text": [
          "01-049-0013",
          "01-049-0015",
          "01-054-0001",
          "01-055-0002",
          "01-055-0003",
          "01-055-0032",
          "01-056-0005",
          "01-056-0019",
          "01-062-0009",
          "01-063-0010",
          "02-065-0001",
          "02-065-0006",
          "02-065-0007",
          "02-072-0020",
          "02-073-0004",
          "02-077-0019",
          "02-081-0001",
          "02-082-0020",
          "03-091-0012",
          "03-091-0014",
          "03-091-0015",
          "03-091-0016",
          "03-091-0017",
          "03-091-0018",
          "03-091-0021",
          "03-091-0022",
          "03-091-0024",
          "03-091-0026",
          "03-091-0027",
          "03-091-0028",
          "03-091-0030",
          "03-091-0032",
          "03-091-0033",
          "03-101-0008",
          "03-101-0011",
          "03-101-0015",
          "03-102-0003",
          "04-106-0011",
          "04-110-0003",
          "04-112-0070",
          "04-114-0004",
          "04-114-0017",
          "04-115-0002",
          "04-115-0003",
          "04-115-0005",
          "04-118-0004",
          "04-119-0007",
          "04-119-0008",
          "04-119-0013",
          "04-119-0016",
          "05-027-0006",
          "05-027-0007",
          "05-036-0003",
          "05-036-0004",
          "05-036-0020",
          "05-036-0023",
          "05-036-0029",
          "05-036-0074",
          "05-036-0075",
          "05-038-0004",
          "05-040-0002",
          "05-040-0008",
          "05-040-0019",
          "05-040-0028",
          "05-041-0008",
          "05-041-0035",
          "05-044-0004",
          "05-044-0005",
          "05-044-0007",
          "06-129-0001",
          "06-135-0002",
          "06-135-0011"
         ],
         "type": "scatter",
         "x": [
          239,
          399,
          270,
          173,
          167,
          139,
          293,
          337,
          69,
          124,
          180,
          157,
          87,
          162,
          133,
          130,
          184,
          262,
          189,
          209,
          180,
          147,
          282,
          133,
          254,
          418,
          447,
          433,
          610,
          201,
          233,
          471,
          405,
          140,
          150,
          226,
          128,
          268,
          156,
          242,
          200,
          151,
          76,
          166,
          216,
          110,
          277,
          210,
          143,
          188,
          215,
          101,
          208,
          273,
          339,
          231,
          256,
          198,
          201,
          350,
          308,
          295,
          174,
          124,
          199,
          124,
          277,
          356,
          275,
          119,
          160,
          181
         ],
         "y": [
          1067,
          1462,
          1445,
          704,
          938,
          726,
          1119,
          1303,
          354,
          749,
          843,
          751,
          497,
          866,
          570,
          610,
          972,
          1480,
          355,
          739,
          569,
          617,
          623,
          487,
          977,
          981,
          1427,
          1688,
          1680,
          473,
          927,
          1744,
          1198,
          654,
          719,
          579,
          456,
          1055,
          680,
          835,
          720,
          759,
          419,
          787,
          819,
          516,
          1123,
          767,
          612,
          802,
          742,
          486,
          698,
          803,
          1115,
          728,
          841,
          812,
          579,
          1344,
          1168,
          853,
          706,
          430,
          913,
          761,
          878,
          1129,
          765,
          700,
          1057,
          810
         ]
        },
        {
         "mode": "markers",
         "name": "town_over100 (0.74)",
         "text": [
          "01-060-0059",
          "01-060-0060",
          "01-060-0061",
          "02-074-0004",
          "02-074-0018",
          "02-074-0019",
          "02-075-0005",
          "02-075-0019",
          "03-096-0008",
          "03-096-0009",
          "03-096-0023",
          "03-096-0026",
          "03-096-0038",
          "03-096-0039",
          "04-112-0002",
          "04-112-0007",
          "04-112-0012",
          "04-112-0016",
          "04-112-0020",
          "04-112-0025",
          "04-112-0026",
          "04-112-0029",
          "04-112-0032",
          "04-112-0044",
          "05-026-0005",
          "05-026-0011",
          "05-026-0016",
          "05-026-0061",
          "05-026-0062",
          "06-012-0069",
          "06-012-0077",
          "06-013-0020",
          "06-013-0021",
          "06-013-0048"
         ],
         "type": "scatter",
         "x": [
          198,
          183,
          207,
          375,
          236,
          211,
          136,
          109,
          125,
          139,
          202,
          237,
          141,
          150,
          222,
          251,
          381,
          306,
          174,
          209,
          234,
          158,
          157,
          225,
          72,
          250,
          148,
          172,
          156,
          149,
          155,
          205,
          204,
          139
         ],
         "y": [
          764,
          668,
          1036,
          878,
          607,
          745,
          503,
          211,
          571,
          482,
          890,
          731,
          505,
          777,
          795,
          697,
          1320,
          1165,
          707,
          625,
          538,
          638,
          617,
          539,
          246,
          1011,
          644,
          392,
          655,
          563,
          644,
          839,
          1119,
          497
         ]
        },
        {
         "mode": "markers",
         "name": "embassy (0.97)",
         "text": [
          "07-002-0084",
          "07-002-0085",
          "07-002-0089",
          "07-002-0094",
          "07-002-0099",
          "07-002-0107",
          "07-002-0108",
          "07-002-0112",
          "07-002-0118"
         ],
         "type": "scatter",
         "x": [
          747,
          548,
          166,
          200,
          220,
          291,
          544,
          102,
          156
         ],
         "y": [
          1076,
          812,
          288,
          462,
          383,
          430,
          1000,
          234,
          381
         ]
        }
       ],
       "layout": {
        "template": {
         "data": {
          "bar": [
           {
            "error_x": {
             "color": "#2a3f5f"
            },
            "error_y": {
             "color": "#2a3f5f"
            },
            "marker": {
             "line": {
              "color": "#E5ECF6",
              "width": 0.5
             }
            },
            "type": "bar"
           }
          ],
          "barpolar": [
           {
            "marker": {
             "line": {
              "color": "#E5ECF6",
              "width": 0.5
             }
            },
            "type": "barpolar"
           }
          ],
          "carpet": [
           {
            "aaxis": {
             "endlinecolor": "#2a3f5f",
             "gridcolor": "white",
             "linecolor": "white",
             "minorgridcolor": "white",
             "startlinecolor": "#2a3f5f"
            },
            "baxis": {
             "endlinecolor": "#2a3f5f",
             "gridcolor": "white",
             "linecolor": "white",
             "minorgridcolor": "white",
             "startlinecolor": "#2a3f5f"
            },
            "type": "carpet"
           }
          ],
          "choropleth": [
           {
            "colorbar": {
             "outlinewidth": 0,
             "ticks": ""
            },
            "type": "choropleth"
           }
          ],
          "contour": [
           {
            "colorbar": {
             "outlinewidth": 0,
             "ticks": ""
            },
            "colorscale": [
             [
              0,
              "#0d0887"
             ],
             [
              0.1111111111111111,
              "#46039f"
             ],
             [
              0.2222222222222222,
              "#7201a8"
             ],
             [
              0.3333333333333333,
              "#9c179e"
             ],
             [
              0.4444444444444444,
              "#bd3786"
             ],
             [
              0.5555555555555556,
              "#d8576b"
             ],
             [
              0.6666666666666666,
              "#ed7953"
             ],
             [
              0.7777777777777778,
              "#fb9f3a"
             ],
             [
              0.8888888888888888,
              "#fdca26"
             ],
             [
              1,
              "#f0f921"
             ]
            ],
            "type": "contour"
           }
          ],
          "contourcarpet": [
           {
            "colorbar": {
             "outlinewidth": 0,
             "ticks": ""
            },
            "type": "contourcarpet"
           }
          ],
          "heatmap": [
           {
            "colorbar": {
             "outlinewidth": 0,
             "ticks": ""
            },
            "colorscale": [
             [
              0,
              "#0d0887"
             ],
             [
              0.1111111111111111,
              "#46039f"
             ],
             [
              0.2222222222222222,
              "#7201a8"
             ],
             [
              0.3333333333333333,
              "#9c179e"
             ],
             [
              0.4444444444444444,
              "#bd3786"
             ],
             [
              0.5555555555555556,
              "#d8576b"
             ],
             [
              0.6666666666666666,
              "#ed7953"
             ],
             [
              0.7777777777777778,
              "#fb9f3a"
             ],
             [
              0.8888888888888888,
              "#fdca26"
             ],
             [
              1,
              "#f0f921"
             ]
            ],
            "type": "heatmap"
           }
          ],
          "heatmapgl": [
           {
            "colorbar": {
             "outlinewidth": 0,
             "ticks": ""
            },
            "colorscale": [
             [
              0,
              "#0d0887"
             ],
             [
              0.1111111111111111,
              "#46039f"
             ],
             [
              0.2222222222222222,
              "#7201a8"
             ],
             [
              0.3333333333333333,
              "#9c179e"
             ],
             [
              0.4444444444444444,
              "#bd3786"
             ],
             [
              0.5555555555555556,
              "#d8576b"
             ],
             [
              0.6666666666666666,
              "#ed7953"
             ],
             [
              0.7777777777777778,
              "#fb9f3a"
             ],
             [
              0.8888888888888888,
              "#fdca26"
             ],
             [
              1,
              "#f0f921"
             ]
            ],
            "type": "heatmapgl"
           }
          ],
          "histogram": [
           {
            "marker": {
             "colorbar": {
              "outlinewidth": 0,
              "ticks": ""
             }
            },
            "type": "histogram"
           }
          ],
          "histogram2d": [
           {
            "colorbar": {
             "outlinewidth": 0,
             "ticks": ""
            },
            "colorscale": [
             [
              0,
              "#0d0887"
             ],
             [
              0.1111111111111111,
              "#46039f"
             ],
             [
              0.2222222222222222,
              "#7201a8"
             ],
             [
              0.3333333333333333,
              "#9c179e"
             ],
             [
              0.4444444444444444,
              "#bd3786"
             ],
             [
              0.5555555555555556,
              "#d8576b"
             ],
             [
              0.6666666666666666,
              "#ed7953"
             ],
             [
              0.7777777777777778,
              "#fb9f3a"
             ],
             [
              0.8888888888888888,
              "#fdca26"
             ],
             [
              1,
              "#f0f921"
             ]
            ],
            "type": "histogram2d"
           }
          ],
          "histogram2dcontour": [
           {
            "colorbar": {
             "outlinewidth": 0,
             "ticks": ""
            },
            "colorscale": [
             [
              0,
              "#0d0887"
             ],
             [
              0.1111111111111111,
              "#46039f"
             ],
             [
              0.2222222222222222,
              "#7201a8"
             ],
             [
              0.3333333333333333,
              "#9c179e"
             ],
             [
              0.4444444444444444,
              "#bd3786"
             ],
             [
              0.5555555555555556,
              "#d8576b"
             ],
             [
              0.6666666666666666,
              "#ed7953"
             ],
             [
              0.7777777777777778,
              "#fb9f3a"
             ],
             [
              0.8888888888888888,
              "#fdca26"
             ],
             [
              1,
              "#f0f921"
             ]
            ],
            "type": "histogram2dcontour"
           }
          ],
          "mesh3d": [
           {
            "colorbar": {
             "outlinewidth": 0,
             "ticks": ""
            },
            "type": "mesh3d"
           }
          ],
          "parcoords": [
           {
            "line": {
             "colorbar": {
              "outlinewidth": 0,
              "ticks": ""
             }
            },
            "type": "parcoords"
           }
          ],
          "pie": [
           {
            "automargin": true,
            "type": "pie"
           }
          ],
          "scatter": [
           {
            "marker": {
             "colorbar": {
              "outlinewidth": 0,
              "ticks": ""
             }
            },
            "type": "scatter"
           }
          ],
          "scatter3d": [
           {
            "line": {
             "colorbar": {
              "outlinewidth": 0,
              "ticks": ""
             }
            },
            "marker": {
             "colorbar": {
              "outlinewidth": 0,
              "ticks": ""
             }
            },
            "type": "scatter3d"
           }
          ],
          "scattercarpet": [
           {
            "marker": {
             "colorbar": {
              "outlinewidth": 0,
              "ticks": ""
             }
            },
            "type": "scattercarpet"
           }
          ],
          "scattergeo": [
           {
            "marker": {
             "colorbar": {
              "outlinewidth": 0,
              "ticks": ""
             }
            },
            "type": "scattergeo"
           }
          ],
          "scattergl": [
           {
            "marker": {
             "colorbar": {
              "outlinewidth": 0,
              "ticks": ""
             }
            },
            "type": "scattergl"
           }
          ],
          "scattermapbox": [
           {
            "marker": {
             "colorbar": {
              "outlinewidth": 0,
              "ticks": ""
             }
            },
            "type": "scattermapbox"
           }
          ],
          "scatterpolar": [
           {
            "marker": {
             "colorbar": {
              "outlinewidth": 0,
              "ticks": ""
             }
            },
            "type": "scatterpolar"
           }
          ],
          "scatterpolargl": [
           {
            "marker": {
             "colorbar": {
              "outlinewidth": 0,
              "ticks": ""
             }
            },
            "type": "scatterpolargl"
           }
          ],
          "scatterternary": [
           {
            "marker": {
             "colorbar": {
              "outlinewidth": 0,
              "ticks": ""
             }
            },
            "type": "scatterternary"
           }
          ],
          "surface": [
           {
            "colorbar": {
             "outlinewidth": 0,
             "ticks": ""
            },
            "colorscale": [
             [
              0,
              "#0d0887"
             ],
             [
              0.1111111111111111,
              "#46039f"
             ],
             [
              0.2222222222222222,
              "#7201a8"
             ],
             [
              0.3333333333333333,
              "#9c179e"
             ],
             [
              0.4444444444444444,
              "#bd3786"
             ],
             [
              0.5555555555555556,
              "#d8576b"
             ],
             [
              0.6666666666666666,
              "#ed7953"
             ],
             [
              0.7777777777777778,
              "#fb9f3a"
             ],
             [
              0.8888888888888888,
              "#fdca26"
             ],
             [
              1,
              "#f0f921"
             ]
            ],
            "type": "surface"
           }
          ],
          "table": [
           {
            "cells": {
             "fill": {
              "color": "#EBF0F8"
             },
             "line": {
              "color": "white"
             }
            },
            "header": {
             "fill": {
              "color": "#C8D4E3"
             },
             "line": {
              "color": "white"
             }
            },
            "type": "table"
           }
          ]
         },
         "layout": {
          "annotationdefaults": {
           "arrowcolor": "#2a3f5f",
           "arrowhead": 0,
           "arrowwidth": 1
          },
          "coloraxis": {
           "colorbar": {
            "outlinewidth": 0,
            "ticks": ""
           }
          },
          "colorscale": {
           "diverging": [
            [
             0,
             "#8e0152"
            ],
            [
             0.1,
             "#c51b7d"
            ],
            [
             0.2,
             "#de77ae"
            ],
            [
             0.3,
             "#f1b6da"
            ],
            [
             0.4,
             "#fde0ef"
            ],
            [
             0.5,
             "#f7f7f7"
            ],
            [
             0.6,
             "#e6f5d0"
            ],
            [
             0.7,
             "#b8e186"
            ],
            [
             0.8,
             "#7fbc41"
            ],
            [
             0.9,
             "#4d9221"
            ],
            [
             1,
             "#276419"
            ]
           ],
           "sequential": [
            [
             0,
             "#0d0887"
            ],
            [
             0.1111111111111111,
             "#46039f"
            ],
            [
             0.2222222222222222,
             "#7201a8"
            ],
            [
             0.3333333333333333,
             "#9c179e"
            ],
            [
             0.4444444444444444,
             "#bd3786"
            ],
            [
             0.5555555555555556,
             "#d8576b"
            ],
            [
             0.6666666666666666,
             "#ed7953"
            ],
            [
             0.7777777777777778,
             "#fb9f3a"
            ],
            [
             0.8888888888888888,
             "#fdca26"
            ],
            [
             1,
             "#f0f921"
            ]
           ],
           "sequentialminus": [
            [
             0,
             "#0d0887"
            ],
            [
             0.1111111111111111,
             "#46039f"
            ],
            [
             0.2222222222222222,
             "#7201a8"
            ],
            [
             0.3333333333333333,
             "#9c179e"
            ],
            [
             0.4444444444444444,
             "#bd3786"
            ],
            [
             0.5555555555555556,
             "#d8576b"
            ],
            [
             0.6666666666666666,
             "#ed7953"
            ],
            [
             0.7777777777777778,
             "#fb9f3a"
            ],
            [
             0.8888888888888888,
             "#fdca26"
            ],
            [
             1,
             "#f0f921"
            ]
           ]
          },
          "colorway": [
           "#636efa",
           "#EF553B",
           "#00cc96",
           "#ab63fa",
           "#FFA15A",
           "#19d3f3",
           "#FF6692",
           "#B6E880",
           "#FF97FF",
           "#FECB52"
          ],
          "font": {
           "color": "#2a3f5f"
          },
          "geo": {
           "bgcolor": "white",
           "lakecolor": "white",
           "landcolor": "#E5ECF6",
           "showlakes": true,
           "showland": true,
           "subunitcolor": "white"
          },
          "hoverlabel": {
           "align": "left"
          },
          "hovermode": "closest",
          "mapbox": {
           "style": "light"
          },
          "paper_bgcolor": "white",
          "plot_bgcolor": "#E5ECF6",
          "polar": {
           "angularaxis": {
            "gridcolor": "white",
            "linecolor": "white",
            "ticks": ""
           },
           "bgcolor": "#E5ECF6",
           "radialaxis": {
            "gridcolor": "white",
            "linecolor": "white",
            "ticks": ""
           }
          },
          "scene": {
           "xaxis": {
            "backgroundcolor": "#E5ECF6",
            "gridcolor": "white",
            "gridwidth": 2,
            "linecolor": "white",
            "showbackground": true,
            "ticks": "",
            "zerolinecolor": "white"
           },
           "yaxis": {
            "backgroundcolor": "#E5ECF6",
            "gridcolor": "white",
            "gridwidth": 2,
            "linecolor": "white",
            "showbackground": true,
            "ticks": "",
            "zerolinecolor": "white"
           },
           "zaxis": {
            "backgroundcolor": "#E5ECF6",
            "gridcolor": "white",
            "gridwidth": 2,
            "linecolor": "white",
            "showbackground": true,
            "ticks": "",
            "zerolinecolor": "white"
           }
          },
          "shapedefaults": {
           "line": {
            "color": "#2a3f5f"
           }
          },
          "ternary": {
           "aaxis": {
            "gridcolor": "white",
            "linecolor": "white",
            "ticks": ""
           },
           "baxis": {
            "gridcolor": "white",
            "linecolor": "white",
            "ticks": ""
           },
           "bgcolor": "#E5ECF6",
           "caxis": {
            "gridcolor": "white",
            "linecolor": "white",
            "ticks": ""
           }
          },
          "title": {
           "x": 0.05
          },
          "xaxis": {
           "automargin": true,
           "gridcolor": "white",
           "linecolor": "white",
           "ticks": "",
           "title": {
            "standoff": 15
           },
           "zerolinecolor": "white",
           "zerolinewidth": 2
          },
          "yaxis": {
           "automargin": true,
           "gridcolor": "white",
           "linecolor": "white",
           "ticks": "",
           "title": {
            "standoff": 15
           },
           "zerolinecolor": "white",
           "zerolinewidth": 2
          }
         }
        },
        "title": {
         "text": "Registered<br>Protest votes correlation (except embassy): 0.83<br>(0.83 no Lukashenko)"
        },
        "xaxis": {
         "title": {
          "text": "People registered in system"
         }
        },
        "yaxis": {
         "title": {
          "text": "People voted against Lukasheno"
         }
        }
       }
      },
      "text/html": [
       "<div>\n",
       "        \n",
       "        \n",
       "            <div id=\"d8308484-69c8-4175-b6da-77aee5634c9c\" class=\"plotly-graph-div\" style=\"height:525px; width:100%;\"></div>\n",
       "            <script type=\"text/javascript\">\n",
       "                require([\"plotly\"], function(Plotly) {\n",
       "                    window.PLOTLYENV=window.PLOTLYENV || {};\n",
       "                    \n",
       "                if (document.getElementById(\"d8308484-69c8-4175-b6da-77aee5634c9c\")) {\n",
       "                    Plotly.newPlot(\n",
       "                        'd8308484-69c8-4175-b6da-77aee5634c9c',\n",
       "                        [{\"mode\": \"markers\", \"name\": \"city (0.93)\", \"text\": [\"01-010-0007\", \"01-010-0010\", \"01-010-0025\", \"01-010-0028\", \"01-010-0032\", \"01-010-0034\", \"01-010-0044\", \"01-011-0015\", \"01-011-0032\", \"01-011-0037\", \"01-011-0038\", \"01-011-0049\", \"01-011-0061\", \"01-011-0087\", \"02-015-0025\", \"02-016-0006\", \"02-016-0014\", \"02-016-0018\", \"02-016-0059\", \"02-143-0016\", \"02-143-0019\", \"02-143-0022\", \"03-019-0049\", \"04-021-0032\", \"04-021-0048\", \"04-022-0067\", \"04-022-0080\", \"04-022-0081\", \"04-022-0085\", \"04-022-0107\", \"04-022-0117\", \"04-022-0121\", \"04-022-0125\", \"04-022-0128\", \"04-022-0135\", \"06-024-0010\", \"06-146-0025\", \"06-146-0035\"], \"type\": \"scatter\", \"x\": [358, 126, 420, 268, 264, 424, 193, 390, 220, 203, 193, 396, 312, 432, 268, 93, 244, 213, 160, 120, 223, 236, 239, 151, 209, 423, 283, 311, 133, 275, 246, 250, 269, 344, 312, 171, 131, 150], \"y\": [1262.0, 532.0, 1350.0, 1285.0, 950.0, 1513.0, 593.0, 1398.0, 766.0, 756.0, 662.0, 1275.0, 1107.0, 1440.0, 891.0, 351.0, 836.0, 873.0, 463.0, 705.0, 989.0, 724.0, 828.0, 437.0, 735.0, 1241.0, 1154.0, 1010.0, 553.0, 884.0, 1003.0, 765.0, 893.0, 1131.0, 976.0, 577.0, 612.0, 517.0]}, {\"mode\": \"markers\", \"name\": \"minsk_suburb (0.87)\", \"text\": [\"05-141-0003\", \"05-141-0005\", \"05-141-0008\", \"05-141-0011\", \"05-141-0014\", \"05-141-0015\", \"05-141-0017\", \"05-141-0018\", \"05-141-0019\", \"05-141-0025\", \"05-141-0040\", \"05-141-0050\", \"05-141-0051\", \"05-141-0054\", \"05-141-0055\", \"05-141-0056\", \"05-141-0075\", \"05-141-0077\", \"05-141-0078\", \"05-141-0091\", \"05-141-0092\", \"05-141-0093\", \"05-141-0096\", \"05-141-0098\", \"05-141-0100\", \"05-141-0101\", \"05-141-0104\", \"05-141-0105\", \"05-141-0107\"], \"type\": \"scatter\", \"x\": [510, 506, 549, 616, 429, 281, 465, 363, 488, 812, 646, 300, 459, 720, 222, 201, 287, 292, 388, 231, 636, 570, 319, 525, 531, 173, 338, 220, 286], \"y\": [1259.0, 1161.0, 824.0, 1085.0, 969.0, 778.0, 996.0, 769.0, 1167.0, 1458.0, 1370.0, 907.0, 901.0, 1378.0, 544.0, 510.0, 513.0, 644.0, 1013.0, 516.0, 1387.0, 985.0, 822.0, 1284.0, 693.0, 410.0, 772.0, 650.0, 801.0]}, {\"mode\": \"markers\", \"name\": \"capital (0.90)\", \"text\": [\"07-001-0005\", \"07-001-0008\", \"07-001-0010\", \"07-001-0012\", \"07-001-0016\", \"07-001-0022\", \"07-001-0060\", \"07-001-0089\", \"07-002-0017\", \"07-002-0044\", \"07-002-0051\", \"07-002-0060\", \"07-002-0072\", \"07-003-0002\", \"07-003-0024\", \"07-003-0058\", \"07-003-0061\", \"07-003-0085\", \"07-003-0094\", \"07-004-0002\", \"07-004-0004\", \"07-004-0005\", \"07-004-0006\", \"07-004-0007\", \"07-004-0018\", \"07-004-0026\", \"07-004-0051\", \"07-005-0002\", \"07-005-0007\", \"07-005-0021\", \"07-005-0026\", \"07-005-0034\", \"07-005-0037\", \"07-006-0008\", \"07-006-0037\", \"07-006-0072\", \"07-008-0057\", \"07-008-0070\", \"07-008-0079\", \"07-009-0014\"], \"type\": \"scatter\", \"x\": [232, 278, 305, 218, 350, 304, 336, 532, 344, 482, 344, 406, 306, 474, 388, 389, 474, 592, 570, 347, 343, 492, 347, 458, 381, 413, 603, 16, 433, 426, 534, 422, 592, 1086, 473, 471, 463, 1185, 387, 342], \"y\": [915.0, 734.0, 870.0, 566.0, 598.0, 834.0, 612.0, 1259.0, 680.0, 657.0, 704.0, 683.0, 526.0, 972.0, 840.0, 609.0, 1034.0, 1343.0, 1440.0, 700.0, 796.0, 1182.0, 741.0, 901.0, 936.0, 877.0, 1667.0, 110.0, 1084.0, 583.0, 911.0, 1064.0, 1523.0, 2134.0, 991.0, 1130.0, 760.0, 2258.0, 679.0, 838.0]}, {\"mode\": \"markers\", \"name\": \"village (0.81)\", \"text\": [\"01-049-0030\", \"01-050-0011\", \"01-053-0021\", \"01-055-0010\", \"01-055-0017\", \"01-056-0021\", \"01-056-0024\", \"01-057-0025\", \"01-063-0049\", \"01-142-0002\", \"02-065-0015\", \"02-067-0010\", \"02-069-0006\", \"02-072-0011\", \"02-077-0016\", \"02-143-0008\", \"03-088-0027\", \"03-091-0046\", \"03-091-0047\", \"03-091-0048\", \"03-100-0057\", \"03-101-0029\", \"03-101-0036\", \"03-101-0037\", \"04-105-0011\", \"04-110-0013\", \"04-112-0055\", \"04-112-0064\", \"04-117-0011\", \"04-117-0014\", \"04-119-0024\", \"04-119-0029\", \"04-145-0024\", \"05-027-0018\", \"05-027-0023\", \"05-029-0018\", \"05-029-0034\", \"05-034-0014\", \"05-034-0019\", \"05-036-0039\", \"05-036-0044\", \"05-037-0016\", \"05-039-0005\", \"05-039-0010\", \"05-039-0011\", \"05-039-0012\", \"05-039-0028\", \"05-040-0063\", \"05-041-0012\", \"05-041-0026\", \"05-041-0030\", \"05-042-0041\", \"05-042-0050\", \"05-042-0056\", \"05-042-0062\", \"05-044-0010\", \"05-044-0025\", \"05-045-0012\", \"05-045-0018\", \"05-046-0022\", \"05-141-0058\", \"05-141-0061\", \"05-141-0070\", \"05-141-0080\", \"05-141-0081\", \"05-141-0103\", \"05-141-0108\", \"06-146-0008\"], \"type\": \"scatter\", \"x\": [102, 25, 68, 13, 19, 49, 27, 37, 34, 142, 37, 16, 110, 33, 99, 18, 24, 96, 41, 29, 27, 19, 14, 54, 22, 53, 79, 95, 16, 25, 54, 71, 98, 59, 134, 68, 244, 14, 53, 123, 114, 102, 255, 251, 186, 200, 20, 168, 103, 56, 175, 94, 61, 14, 58, 87, 60, 31, 33, 215, 208, 150, 343, 277, 326, 73, 188, 53], \"y\": [567.0, 225.0, 595.0, 221.0, 174.0, 277.0, 181.0, 420.0, 243.0, 838.0, 271.0, 168.0, 581.0, 233.0, 493.0, 80.0, 144.0, 446.0, 303.0, 203.0, 253.0, 142.0, 169.0, 315.0, 169.0, 271.0, 505.0, 449.0, 153.0, 182.0, 361.0, 466.0, 533.0, 600.0, 490.0, 154.0, 509.0, 108.0, 218.0, 351.0, 208.0, 542.0, 752.0, 397.0, 640.0, 564.0, 97.0, 760.0, 434.0, 79.0, 533.0, 580.0, 300.0, 117.0, 231.0, 492.0, 318.0, 172.0, 233.0, 787.0, 655.0, 559.0, 983.0, 582.0, 964.0, 265.0, 338.0, 322.0]}, {\"mode\": \"markers\", \"name\": \"town_below100 (0.83)\", \"text\": [\"01-049-0013\", \"01-049-0015\", \"01-054-0001\", \"01-055-0002\", \"01-055-0003\", \"01-055-0032\", \"01-056-0005\", \"01-056-0019\", \"01-062-0009\", \"01-063-0010\", \"02-065-0001\", \"02-065-0006\", \"02-065-0007\", \"02-072-0020\", \"02-073-0004\", \"02-077-0019\", \"02-081-0001\", \"02-082-0020\", \"03-091-0012\", \"03-091-0014\", \"03-091-0015\", \"03-091-0016\", \"03-091-0017\", \"03-091-0018\", \"03-091-0021\", \"03-091-0022\", \"03-091-0024\", \"03-091-0026\", \"03-091-0027\", \"03-091-0028\", \"03-091-0030\", \"03-091-0032\", \"03-091-0033\", \"03-101-0008\", \"03-101-0011\", \"03-101-0015\", \"03-102-0003\", \"04-106-0011\", \"04-110-0003\", \"04-112-0070\", \"04-114-0004\", \"04-114-0017\", \"04-115-0002\", \"04-115-0003\", \"04-115-0005\", \"04-118-0004\", \"04-119-0007\", \"04-119-0008\", \"04-119-0013\", \"04-119-0016\", \"05-027-0006\", \"05-027-0007\", \"05-036-0003\", \"05-036-0004\", \"05-036-0020\", \"05-036-0023\", \"05-036-0029\", \"05-036-0074\", \"05-036-0075\", \"05-038-0004\", \"05-040-0002\", \"05-040-0008\", \"05-040-0019\", \"05-040-0028\", \"05-041-0008\", \"05-041-0035\", \"05-044-0004\", \"05-044-0005\", \"05-044-0007\", \"06-129-0001\", \"06-135-0002\", \"06-135-0011\"], \"type\": \"scatter\", \"x\": [239, 399, 270, 173, 167, 139, 293, 337, 69, 124, 180, 157, 87, 162, 133, 130, 184, 262, 189, 209, 180, 147, 282, 133, 254, 418, 447, 433, 610, 201, 233, 471, 405, 140, 150, 226, 128, 268, 156, 242, 200, 151, 76, 166, 216, 110, 277, 210, 143, 188, 215, 101, 208, 273, 339, 231, 256, 198, 201, 350, 308, 295, 174, 124, 199, 124, 277, 356, 275, 119, 160, 181], \"y\": [1067.0, 1462.0, 1445.0, 704.0, 938.0, 726.0, 1119.0, 1303.0, 354.0, 749.0, 843.0, 751.0, 497.0, 866.0, 570.0, 610.0, 972.0, 1480.0, 355.0, 739.0, 569.0, 617.0, 623.0, 487.0, 977.0, 981.0, 1427.0, 1688.0, 1680.0, 473.0, 927.0, 1744.0, 1198.0, 654.0, 719.0, 579.0, 456.0, 1055.0, 680.0, 835.0, 720.0, 759.0, 419.0, 787.0, 819.0, 516.0, 1123.0, 767.0, 612.0, 802.0, 742.0, 486.0, 698.0, 803.0, 1115.0, 728.0, 841.0, 812.0, 579.0, 1344.0, 1168.0, 853.0, 706.0, 430.0, 913.0, 761.0, 878.0, 1129.0, 765.0, 700.0, 1057.0, 810.0]}, {\"mode\": \"markers\", \"name\": \"town_over100 (0.74)\", \"text\": [\"01-060-0059\", \"01-060-0060\", \"01-060-0061\", \"02-074-0004\", \"02-074-0018\", \"02-074-0019\", \"02-075-0005\", \"02-075-0019\", \"03-096-0008\", \"03-096-0009\", \"03-096-0023\", \"03-096-0026\", \"03-096-0038\", \"03-096-0039\", \"04-112-0002\", \"04-112-0007\", \"04-112-0012\", \"04-112-0016\", \"04-112-0020\", \"04-112-0025\", \"04-112-0026\", \"04-112-0029\", \"04-112-0032\", \"04-112-0044\", \"05-026-0005\", \"05-026-0011\", \"05-026-0016\", \"05-026-0061\", \"05-026-0062\", \"06-012-0069\", \"06-012-0077\", \"06-013-0020\", \"06-013-0021\", \"06-013-0048\"], \"type\": \"scatter\", \"x\": [198, 183, 207, 375, 236, 211, 136, 109, 125, 139, 202, 237, 141, 150, 222, 251, 381, 306, 174, 209, 234, 158, 157, 225, 72, 250, 148, 172, 156, 149, 155, 205, 204, 139], \"y\": [764.0, 668.0, 1036.0, 878.0, 607.0, 745.0, 503.0, 211.0, 571.0, 482.0, 890.0, 731.0, 505.0, 777.0, 795.0, 697.0, 1320.0, 1165.0, 707.0, 625.0, 538.0, 638.0, 617.0, 539.0, 246.0, 1011.0, 644.0, 392.0, 655.0, 563.0, 644.0, 839.0, 1119.0, 497.0]}, {\"mode\": \"markers\", \"name\": \"embassy (0.97)\", \"text\": [\"07-002-0084\", \"07-002-0085\", \"07-002-0089\", \"07-002-0094\", \"07-002-0099\", \"07-002-0107\", \"07-002-0108\", \"07-002-0112\", \"07-002-0118\"], \"type\": \"scatter\", \"x\": [747, 548, 166, 200, 220, 291, 544, 102, 156], \"y\": [1076.0, 812.0, 288.0, 462.0, 383.0, 430.0, 1000.0, 234.0, 381.0]}],\n",
       "                        {\"template\": {\"data\": {\"bar\": [{\"error_x\": {\"color\": \"#2a3f5f\"}, \"error_y\": {\"color\": \"#2a3f5f\"}, \"marker\": {\"line\": {\"color\": \"#E5ECF6\", \"width\": 0.5}}, \"type\": \"bar\"}], \"barpolar\": [{\"marker\": {\"line\": {\"color\": \"#E5ECF6\", \"width\": 0.5}}, \"type\": \"barpolar\"}], \"carpet\": [{\"aaxis\": {\"endlinecolor\": \"#2a3f5f\", \"gridcolor\": \"white\", \"linecolor\": \"white\", \"minorgridcolor\": \"white\", \"startlinecolor\": \"#2a3f5f\"}, \"baxis\": {\"endlinecolor\": \"#2a3f5f\", \"gridcolor\": \"white\", \"linecolor\": \"white\", \"minorgridcolor\": \"white\", \"startlinecolor\": \"#2a3f5f\"}, \"type\": \"carpet\"}], \"choropleth\": [{\"colorbar\": {\"outlinewidth\": 0, \"ticks\": \"\"}, \"type\": \"choropleth\"}], \"contour\": [{\"colorbar\": {\"outlinewidth\": 0, \"ticks\": \"\"}, \"colorscale\": [[0.0, \"#0d0887\"], [0.1111111111111111, \"#46039f\"], [0.2222222222222222, \"#7201a8\"], [0.3333333333333333, \"#9c179e\"], [0.4444444444444444, \"#bd3786\"], [0.5555555555555556, \"#d8576b\"], [0.6666666666666666, \"#ed7953\"], [0.7777777777777778, \"#fb9f3a\"], [0.8888888888888888, \"#fdca26\"], [1.0, \"#f0f921\"]], \"type\": \"contour\"}], \"contourcarpet\": [{\"colorbar\": {\"outlinewidth\": 0, \"ticks\": \"\"}, \"type\": \"contourcarpet\"}], \"heatmap\": [{\"colorbar\": {\"outlinewidth\": 0, \"ticks\": \"\"}, \"colorscale\": [[0.0, \"#0d0887\"], [0.1111111111111111, \"#46039f\"], [0.2222222222222222, \"#7201a8\"], [0.3333333333333333, \"#9c179e\"], [0.4444444444444444, \"#bd3786\"], [0.5555555555555556, \"#d8576b\"], [0.6666666666666666, \"#ed7953\"], [0.7777777777777778, \"#fb9f3a\"], [0.8888888888888888, \"#fdca26\"], [1.0, \"#f0f921\"]], \"type\": \"heatmap\"}], \"heatmapgl\": [{\"colorbar\": {\"outlinewidth\": 0, \"ticks\": \"\"}, \"colorscale\": [[0.0, \"#0d0887\"], [0.1111111111111111, \"#46039f\"], [0.2222222222222222, \"#7201a8\"], [0.3333333333333333, \"#9c179e\"], [0.4444444444444444, \"#bd3786\"], [0.5555555555555556, \"#d8576b\"], [0.6666666666666666, \"#ed7953\"], [0.7777777777777778, \"#fb9f3a\"], [0.8888888888888888, \"#fdca26\"], [1.0, \"#f0f921\"]], \"type\": \"heatmapgl\"}], \"histogram\": [{\"marker\": {\"colorbar\": {\"outlinewidth\": 0, \"ticks\": \"\"}}, \"type\": \"histogram\"}], \"histogram2d\": [{\"colorbar\": {\"outlinewidth\": 0, \"ticks\": \"\"}, \"colorscale\": [[0.0, \"#0d0887\"], [0.1111111111111111, \"#46039f\"], [0.2222222222222222, \"#7201a8\"], [0.3333333333333333, \"#9c179e\"], [0.4444444444444444, \"#bd3786\"], [0.5555555555555556, \"#d8576b\"], [0.6666666666666666, \"#ed7953\"], [0.7777777777777778, \"#fb9f3a\"], [0.8888888888888888, \"#fdca26\"], [1.0, \"#f0f921\"]], \"type\": \"histogram2d\"}], \"histogram2dcontour\": [{\"colorbar\": {\"outlinewidth\": 0, \"ticks\": \"\"}, \"colorscale\": [[0.0, \"#0d0887\"], [0.1111111111111111, \"#46039f\"], [0.2222222222222222, \"#7201a8\"], [0.3333333333333333, \"#9c179e\"], [0.4444444444444444, \"#bd3786\"], [0.5555555555555556, \"#d8576b\"], [0.6666666666666666, \"#ed7953\"], [0.7777777777777778, \"#fb9f3a\"], [0.8888888888888888, \"#fdca26\"], [1.0, \"#f0f921\"]], \"type\": \"histogram2dcontour\"}], \"mesh3d\": [{\"colorbar\": {\"outlinewidth\": 0, \"ticks\": \"\"}, \"type\": \"mesh3d\"}], \"parcoords\": [{\"line\": {\"colorbar\": {\"outlinewidth\": 0, \"ticks\": \"\"}}, \"type\": \"parcoords\"}], \"pie\": [{\"automargin\": true, \"type\": \"pie\"}], \"scatter\": [{\"marker\": {\"colorbar\": {\"outlinewidth\": 0, \"ticks\": \"\"}}, \"type\": \"scatter\"}], \"scatter3d\": [{\"line\": {\"colorbar\": {\"outlinewidth\": 0, \"ticks\": \"\"}}, \"marker\": {\"colorbar\": {\"outlinewidth\": 0, \"ticks\": \"\"}}, \"type\": \"scatter3d\"}], \"scattercarpet\": [{\"marker\": {\"colorbar\": {\"outlinewidth\": 0, \"ticks\": \"\"}}, \"type\": \"scattercarpet\"}], \"scattergeo\": [{\"marker\": {\"colorbar\": {\"outlinewidth\": 0, \"ticks\": \"\"}}, \"type\": \"scattergeo\"}], \"scattergl\": [{\"marker\": {\"colorbar\": {\"outlinewidth\": 0, \"ticks\": \"\"}}, \"type\": \"scattergl\"}], \"scattermapbox\": [{\"marker\": {\"colorbar\": {\"outlinewidth\": 0, \"ticks\": \"\"}}, \"type\": \"scattermapbox\"}], \"scatterpolar\": [{\"marker\": {\"colorbar\": {\"outlinewidth\": 0, \"ticks\": \"\"}}, \"type\": \"scatterpolar\"}], \"scatterpolargl\": [{\"marker\": {\"colorbar\": {\"outlinewidth\": 0, \"ticks\": \"\"}}, \"type\": \"scatterpolargl\"}], \"scatterternary\": [{\"marker\": {\"colorbar\": {\"outlinewidth\": 0, \"ticks\": \"\"}}, \"type\": \"scatterternary\"}], \"surface\": [{\"colorbar\": {\"outlinewidth\": 0, \"ticks\": \"\"}, \"colorscale\": [[0.0, \"#0d0887\"], [0.1111111111111111, \"#46039f\"], [0.2222222222222222, \"#7201a8\"], [0.3333333333333333, \"#9c179e\"], [0.4444444444444444, \"#bd3786\"], [0.5555555555555556, \"#d8576b\"], [0.6666666666666666, \"#ed7953\"], [0.7777777777777778, \"#fb9f3a\"], [0.8888888888888888, \"#fdca26\"], [1.0, \"#f0f921\"]], \"type\": \"surface\"}], \"table\": [{\"cells\": {\"fill\": {\"color\": \"#EBF0F8\"}, \"line\": {\"color\": \"white\"}}, \"header\": {\"fill\": {\"color\": \"#C8D4E3\"}, \"line\": {\"color\": \"white\"}}, \"type\": \"table\"}]}, \"layout\": {\"annotationdefaults\": {\"arrowcolor\": \"#2a3f5f\", \"arrowhead\": 0, \"arrowwidth\": 1}, \"coloraxis\": {\"colorbar\": {\"outlinewidth\": 0, \"ticks\": \"\"}}, \"colorscale\": {\"diverging\": [[0, \"#8e0152\"], [0.1, \"#c51b7d\"], [0.2, \"#de77ae\"], [0.3, \"#f1b6da\"], [0.4, \"#fde0ef\"], [0.5, \"#f7f7f7\"], [0.6, \"#e6f5d0\"], [0.7, \"#b8e186\"], [0.8, \"#7fbc41\"], [0.9, \"#4d9221\"], [1, \"#276419\"]], \"sequential\": [[0.0, \"#0d0887\"], [0.1111111111111111, \"#46039f\"], [0.2222222222222222, \"#7201a8\"], [0.3333333333333333, \"#9c179e\"], [0.4444444444444444, \"#bd3786\"], [0.5555555555555556, \"#d8576b\"], [0.6666666666666666, \"#ed7953\"], [0.7777777777777778, \"#fb9f3a\"], [0.8888888888888888, \"#fdca26\"], [1.0, \"#f0f921\"]], \"sequentialminus\": [[0.0, \"#0d0887\"], [0.1111111111111111, \"#46039f\"], [0.2222222222222222, \"#7201a8\"], [0.3333333333333333, \"#9c179e\"], [0.4444444444444444, \"#bd3786\"], [0.5555555555555556, \"#d8576b\"], [0.6666666666666666, \"#ed7953\"], [0.7777777777777778, \"#fb9f3a\"], [0.8888888888888888, \"#fdca26\"], [1.0, \"#f0f921\"]]}, \"colorway\": [\"#636efa\", \"#EF553B\", \"#00cc96\", \"#ab63fa\", \"#FFA15A\", \"#19d3f3\", \"#FF6692\", \"#B6E880\", \"#FF97FF\", \"#FECB52\"], \"font\": {\"color\": \"#2a3f5f\"}, \"geo\": {\"bgcolor\": \"white\", \"lakecolor\": \"white\", \"landcolor\": \"#E5ECF6\", \"showlakes\": true, \"showland\": true, \"subunitcolor\": \"white\"}, \"hoverlabel\": {\"align\": \"left\"}, \"hovermode\": \"closest\", \"mapbox\": {\"style\": \"light\"}, \"paper_bgcolor\": \"white\", \"plot_bgcolor\": \"#E5ECF6\", \"polar\": {\"angularaxis\": {\"gridcolor\": \"white\", \"linecolor\": \"white\", \"ticks\": \"\"}, \"bgcolor\": \"#E5ECF6\", \"radialaxis\": {\"gridcolor\": \"white\", \"linecolor\": \"white\", \"ticks\": \"\"}}, \"scene\": {\"xaxis\": {\"backgroundcolor\": \"#E5ECF6\", \"gridcolor\": \"white\", \"gridwidth\": 2, \"linecolor\": \"white\", \"showbackground\": true, \"ticks\": \"\", \"zerolinecolor\": \"white\"}, \"yaxis\": {\"backgroundcolor\": \"#E5ECF6\", \"gridcolor\": \"white\", \"gridwidth\": 2, \"linecolor\": \"white\", \"showbackground\": true, \"ticks\": \"\", \"zerolinecolor\": \"white\"}, \"zaxis\": {\"backgroundcolor\": \"#E5ECF6\", \"gridcolor\": \"white\", \"gridwidth\": 2, \"linecolor\": \"white\", \"showbackground\": true, \"ticks\": \"\", \"zerolinecolor\": \"white\"}}, \"shapedefaults\": {\"line\": {\"color\": \"#2a3f5f\"}}, \"ternary\": {\"aaxis\": {\"gridcolor\": \"white\", \"linecolor\": \"white\", \"ticks\": \"\"}, \"baxis\": {\"gridcolor\": \"white\", \"linecolor\": \"white\", \"ticks\": \"\"}, \"bgcolor\": \"#E5ECF6\", \"caxis\": {\"gridcolor\": \"white\", \"linecolor\": \"white\", \"ticks\": \"\"}}, \"title\": {\"x\": 0.05}, \"xaxis\": {\"automargin\": true, \"gridcolor\": \"white\", \"linecolor\": \"white\", \"ticks\": \"\", \"title\": {\"standoff\": 15}, \"zerolinecolor\": \"white\", \"zerolinewidth\": 2}, \"yaxis\": {\"automargin\": true, \"gridcolor\": \"white\", \"linecolor\": \"white\", \"ticks\": \"\", \"title\": {\"standoff\": 15}, \"zerolinecolor\": \"white\", \"zerolinewidth\": 2}}}, \"title\": {\"text\": \"Registered<br>Protest votes correlation (except embassy): 0.83<br>(0.83 no Lukashenko)\"}, \"xaxis\": {\"title\": {\"text\": \"People registered in system\"}}, \"yaxis\": {\"title\": {\"text\": \"People voted against Lukasheno\"}}},\n",
       "                        {\"responsive\": true}\n",
       "                    ).then(function(){\n",
       "                            \n",
       "var gd = document.getElementById('d8308484-69c8-4175-b6da-77aee5634c9c');\n",
       "var x = new MutationObserver(function (mutations, observer) {{\n",
       "        var display = window.getComputedStyle(gd).display;\n",
       "        if (!display || display === 'none') {{\n",
       "            console.log([gd, 'removed!']);\n",
       "            Plotly.purge(gd);\n",
       "            observer.disconnect();\n",
       "        }}\n",
       "}});\n",
       "\n",
       "// Listen for the removal of the full notebook cells\n",
       "var notebookContainer = gd.closest('#notebook-container');\n",
       "if (notebookContainer) {{\n",
       "    x.observe(notebookContainer, {childList: true});\n",
       "}}\n",
       "\n",
       "// Listen for the clearing of the current output cell\n",
       "var outputEl = gd.closest('.output');\n",
       "if (outputEl) {{\n",
       "    x.observe(outputEl, {childList: true});\n",
       "}}\n",
       "\n",
       "                        })\n",
       "                };\n",
       "                });\n",
       "            </script>\n",
       "        </div>"
      ]
     },
     "metadata": {},
     "output_type": "display_data"
    }
   ],
   "source": [
    "protest_chart('registered', 'People registered in system')"
   ]
  },
  {
   "cell_type": "code",
   "execution_count": 139,
   "metadata": {},
   "outputs": [
    {
     "data": {
      "application/vnd.plotly.v1+json": {
       "config": {
        "plotlyServerURL": "https://plot.ly"
       },
       "data": [
        {
         "mode": "markers",
         "name": "city (0.91)",
         "text": [
          "01-010-0007",
          "01-010-0010",
          "01-010-0025",
          "01-010-0028",
          "01-010-0032",
          "01-010-0034",
          "01-010-0044",
          "01-011-0015",
          "01-011-0032",
          "01-011-0037",
          "01-011-0038",
          "01-011-0049",
          "01-011-0061",
          "01-011-0087",
          "02-015-0025",
          "02-016-0006",
          "02-016-0014",
          "02-016-0018",
          "02-016-0059",
          "02-143-0016",
          "02-143-0019",
          "02-143-0022",
          "03-019-0049",
          "04-021-0032",
          "04-021-0048",
          "04-022-0067",
          "04-022-0080",
          "04-022-0081",
          "04-022-0085",
          "04-022-0107",
          "04-022-0117",
          "04-022-0121",
          "04-022-0125",
          "04-022-0128",
          "04-022-0135",
          "06-024-0010",
          "06-146-0025",
          "06-146-0035"
         ],
         "type": "scatter",
         "x": [
          196,
          89,
          241,
          170,
          150,
          271,
          120,
          215,
          140,
          112,
          105,
          243,
          179,
          271,
          146,
          47,
          147,
          126,
          103,
          66,
          124,
          126,
          125,
          84,
          122,
          278,
          201,
          205,
          79,
          180,
          140,
          157,
          163,
          235,
          198,
          97,
          72,
          83
         ],
         "y": [
          1262,
          532,
          1350,
          1285,
          950,
          1513,
          593,
          1398,
          766,
          756,
          662,
          1275,
          1107,
          1440,
          891,
          351,
          836,
          873,
          463,
          705,
          989,
          724,
          828,
          437,
          735,
          1241,
          1154,
          1010,
          553,
          884,
          1003,
          765,
          893,
          1131,
          976,
          577,
          612,
          517
         ]
        },
        {
         "mode": "markers",
         "name": "minsk_suburb (0.86)",
         "text": [
          "05-141-0003",
          "05-141-0005",
          "05-141-0008",
          "05-141-0011",
          "05-141-0014",
          "05-141-0015",
          "05-141-0017",
          "05-141-0018",
          "05-141-0019",
          "05-141-0025",
          "05-141-0040",
          "05-141-0050",
          "05-141-0051",
          "05-141-0054",
          "05-141-0055",
          "05-141-0056",
          "05-141-0075",
          "05-141-0077",
          "05-141-0078",
          "05-141-0091",
          "05-141-0092",
          "05-141-0093",
          "05-141-0096",
          "05-141-0098",
          "05-141-0100",
          "05-141-0101",
          "05-141-0104",
          "05-141-0105",
          "05-141-0107"
         ],
         "type": "scatter",
         "x": [
          299,
          335,
          327,
          422,
          291,
          168,
          319,
          245,
          317,
          571,
          422,
          178,
          298,
          483,
          145,
          125,
          157,
          164,
          230,
          145,
          382,
          374,
          204,
          325,
          334,
          109,
          226,
          160,
          173
         ],
         "y": [
          1259,
          1161,
          824,
          1085,
          969,
          778,
          996,
          769,
          1167,
          1458,
          1370,
          907,
          901,
          1378,
          544,
          510,
          513,
          644,
          1013,
          516,
          1387,
          985,
          822,
          1284,
          693,
          410,
          772,
          650,
          801
         ]
        },
        {
         "mode": "markers",
         "name": "capital (0.89)",
         "text": [
          "07-001-0005",
          "07-001-0008",
          "07-001-0010",
          "07-001-0012",
          "07-001-0016",
          "07-001-0022",
          "07-001-0060",
          "07-001-0089",
          "07-002-0017",
          "07-002-0044",
          "07-002-0051",
          "07-002-0060",
          "07-002-0072",
          "07-003-0002",
          "07-003-0024",
          "07-003-0058",
          "07-003-0061",
          "07-003-0085",
          "07-003-0094",
          "07-004-0002",
          "07-004-0004",
          "07-004-0005",
          "07-004-0006",
          "07-004-0007",
          "07-004-0018",
          "07-004-0026",
          "07-004-0051",
          "07-005-0002",
          "07-005-0007",
          "07-005-0021",
          "07-005-0026",
          "07-005-0034",
          "07-005-0037",
          "07-006-0008",
          "07-006-0037",
          "07-006-0072",
          "07-008-0057",
          "07-008-0070",
          "07-008-0079",
          "07-009-0014"
         ],
         "type": "scatter",
         "x": [
          140,
          164,
          189,
          117,
          191,
          187,
          181,
          361,
          206,
          302,
          195,
          248,
          203,
          309,
          252,
          283,
          309,
          405,
          372,
          219,
          207,
          282,
          223,
          288,
          257,
          252,
          409,
          9,
          288,
          305,
          315,
          223,
          354,
          729,
          285,
          299,
          282,
          799,
          237,
          212
         ],
         "y": [
          915,
          734,
          870,
          566,
          598,
          834,
          612,
          1259,
          680,
          657,
          704,
          683,
          526,
          972,
          840,
          609,
          1034,
          1343,
          1440,
          700,
          796,
          1182,
          741,
          901,
          936,
          877,
          1667,
          110,
          1084,
          583,
          911,
          1064,
          1523,
          2134,
          991,
          1130,
          760,
          2258,
          679,
          838
         ]
        },
        {
         "mode": "markers",
         "name": "village (0.79)",
         "text": [
          "01-049-0030",
          "01-050-0011",
          "01-053-0021",
          "01-055-0010",
          "01-055-0017",
          "01-056-0021",
          "01-056-0024",
          "01-057-0025",
          "01-063-0049",
          "01-142-0002",
          "02-065-0015",
          "02-067-0010",
          "02-069-0006",
          "02-072-0011",
          "02-077-0016",
          "02-143-0008",
          "03-088-0027",
          "03-091-0046",
          "03-091-0047",
          "03-091-0048",
          "03-100-0057",
          "03-101-0029",
          "03-101-0036",
          "03-101-0037",
          "04-105-0011",
          "04-110-0013",
          "04-112-0055",
          "04-112-0064",
          "04-117-0011",
          "04-117-0014",
          "04-119-0024",
          "04-119-0029",
          "04-145-0024",
          "05-027-0018",
          "05-027-0023",
          "05-029-0018",
          "05-029-0034",
          "05-034-0014",
          "05-034-0019",
          "05-036-0039",
          "05-036-0044",
          "05-037-0016",
          "05-039-0005",
          "05-039-0010",
          "05-039-0011",
          "05-039-0012",
          "05-039-0028",
          "05-040-0063",
          "05-041-0012",
          "05-041-0026",
          "05-041-0030",
          "05-042-0041",
          "05-042-0050",
          "05-042-0056",
          "05-042-0062",
          "05-044-0010",
          "05-044-0025",
          "05-045-0012",
          "05-045-0018",
          "05-046-0022",
          "05-141-0058",
          "05-141-0061",
          "05-141-0070",
          "05-141-0080",
          "05-141-0081",
          "05-141-0103",
          "05-141-0108",
          "06-146-0008"
         ],
         "type": "scatter",
         "x": [
          49,
          12,
          26,
          6,
          12,
          23,
          9,
          16,
          11,
          75,
          27,
          8,
          59,
          16,
          52,
          8,
          9,
          48,
          23,
          20,
          7,
          7,
          7,
          23,
          8,
          31,
          36,
          47,
          5,
          6,
          36,
          35,
          68,
          32,
          77,
          32,
          129,
          5,
          33,
          62,
          41,
          38,
          151,
          147,
          98,
          99,
          10,
          77,
          61,
          34,
          103,
          49,
          29,
          6,
          22,
          38,
          29,
          11,
          14,
          125,
          136,
          75,
          210,
          156,
          196,
          52,
          106,
          30
         ],
         "y": [
          567,
          225,
          595,
          221,
          174,
          277,
          181,
          420,
          243,
          838,
          271,
          168,
          581,
          233,
          493,
          80,
          144,
          446,
          303,
          203,
          253,
          142,
          169,
          315,
          169,
          271,
          505,
          449,
          153,
          182,
          361,
          466,
          533,
          600,
          490,
          154,
          509,
          108,
          218,
          351,
          208,
          542,
          752,
          397,
          640,
          564,
          97,
          760,
          434,
          79,
          533,
          580,
          300,
          117,
          231,
          492,
          318,
          172,
          233,
          787,
          655,
          559,
          983,
          582,
          964,
          265,
          338,
          322
         ]
        },
        {
         "mode": "markers",
         "name": "town_below100 (0.84)",
         "text": [
          "01-049-0013",
          "01-049-0015",
          "01-054-0001",
          "01-055-0002",
          "01-055-0003",
          "01-055-0032",
          "01-056-0005",
          "01-056-0019",
          "01-062-0009",
          "01-063-0010",
          "02-065-0001",
          "02-065-0006",
          "02-065-0007",
          "02-072-0020",
          "02-073-0004",
          "02-077-0019",
          "02-081-0001",
          "02-082-0020",
          "03-091-0012",
          "03-091-0014",
          "03-091-0015",
          "03-091-0016",
          "03-091-0017",
          "03-091-0018",
          "03-091-0021",
          "03-091-0022",
          "03-091-0024",
          "03-091-0026",
          "03-091-0027",
          "03-091-0028",
          "03-091-0030",
          "03-091-0032",
          "03-091-0033",
          "03-101-0008",
          "03-101-0011",
          "03-101-0015",
          "03-102-0003",
          "04-106-0011",
          "04-110-0003",
          "04-112-0070",
          "04-114-0004",
          "04-114-0017",
          "04-115-0002",
          "04-115-0003",
          "04-115-0005",
          "04-118-0004",
          "04-119-0007",
          "04-119-0008",
          "04-119-0013",
          "04-119-0016",
          "05-027-0006",
          "05-027-0007",
          "05-036-0003",
          "05-036-0004",
          "05-036-0020",
          "05-036-0023",
          "05-036-0029",
          "05-036-0074",
          "05-036-0075",
          "05-038-0004",
          "05-040-0002",
          "05-040-0008",
          "05-040-0019",
          "05-040-0028",
          "05-041-0008",
          "05-041-0035",
          "05-044-0004",
          "05-044-0005",
          "05-044-0007",
          "06-129-0001",
          "06-135-0002",
          "06-135-0011"
         ],
         "type": "scatter",
         "x": [
          121,
          217,
          132,
          87,
          86,
          78,
          190,
          206,
          39,
          61,
          112,
          91,
          51,
          79,
          71,
          59,
          105,
          141,
          86,
          109,
          105,
          72,
          143,
          59,
          125,
          205,
          213,
          242,
          340,
          92,
          126,
          264,
          232,
          83,
          79,
          118,
          71,
          146,
          78,
          131,
          105,
          69,
          44,
          100,
          104,
          60,
          157,
          116,
          88,
          97,
          121,
          49,
          106,
          160,
          146,
          140,
          133,
          110,
          111,
          199,
          167,
          146,
          96,
          53,
          103,
          66,
          151,
          189,
          127,
          51,
          90,
          117
         ],
         "y": [
          1067,
          1462,
          1445,
          704,
          938,
          726,
          1119,
          1303,
          354,
          749,
          843,
          751,
          497,
          866,
          570,
          610,
          972,
          1480,
          355,
          739,
          569,
          617,
          623,
          487,
          977,
          981,
          1427,
          1688,
          1680,
          473,
          927,
          1744,
          1198,
          654,
          719,
          579,
          456,
          1055,
          680,
          835,
          720,
          759,
          419,
          787,
          819,
          516,
          1123,
          767,
          612,
          802,
          742,
          486,
          698,
          803,
          1115,
          728,
          841,
          812,
          579,
          1344,
          1168,
          853,
          706,
          430,
          913,
          761,
          878,
          1129,
          765,
          700,
          1057,
          810
         ]
        },
        {
         "mode": "markers",
         "name": "town_over100 (0.74)",
         "text": [
          "01-060-0059",
          "01-060-0060",
          "01-060-0061",
          "02-074-0004",
          "02-074-0018",
          "02-074-0019",
          "02-075-0005",
          "02-075-0019",
          "03-096-0008",
          "03-096-0009",
          "03-096-0023",
          "03-096-0026",
          "03-096-0038",
          "03-096-0039",
          "04-112-0002",
          "04-112-0007",
          "04-112-0012",
          "04-112-0016",
          "04-112-0020",
          "04-112-0025",
          "04-112-0026",
          "04-112-0029",
          "04-112-0032",
          "04-112-0044",
          "05-026-0005",
          "05-026-0011",
          "05-026-0016",
          "05-026-0061",
          "05-026-0062",
          "06-012-0069",
          "06-012-0077",
          "06-013-0020",
          "06-013-0021",
          "06-013-0048"
         ],
         "type": "scatter",
         "x": [
          112,
          91,
          124,
          218,
          143,
          120,
          78,
          68,
          74,
          58,
          113,
          118,
          71,
          82,
          109,
          124,
          228,
          168,
          101,
          103,
          125,
          88,
          95,
          119,
          35,
          138,
          93,
          92,
          85,
          77,
          94,
          111,
          111,
          74
         ],
         "y": [
          764,
          668,
          1036,
          878,
          607,
          745,
          503,
          211,
          571,
          482,
          890,
          731,
          505,
          777,
          795,
          697,
          1320,
          1165,
          707,
          625,
          538,
          638,
          617,
          539,
          246,
          1011,
          644,
          392,
          655,
          563,
          644,
          839,
          1119,
          497
         ]
        },
        {
         "mode": "markers",
         "name": "embassy (0.67)",
         "text": [
          "07-002-0084",
          "07-002-0085",
          "07-002-0089",
          "07-002-0094",
          "07-002-0099",
          "07-002-0107",
          "07-002-0108",
          "07-002-0112",
          "07-002-0118"
         ],
         "type": "scatter",
         "x": [
          20,
          26,
          16,
          9,
          5,
          9,
          98,
          3,
          2
         ],
         "y": [
          1076,
          812,
          288,
          462,
          383,
          430,
          1000,
          234,
          381
         ]
        }
       ],
       "layout": {
        "template": {
         "data": {
          "bar": [
           {
            "error_x": {
             "color": "#2a3f5f"
            },
            "error_y": {
             "color": "#2a3f5f"
            },
            "marker": {
             "line": {
              "color": "#E5ECF6",
              "width": 0.5
             }
            },
            "type": "bar"
           }
          ],
          "barpolar": [
           {
            "marker": {
             "line": {
              "color": "#E5ECF6",
              "width": 0.5
             }
            },
            "type": "barpolar"
           }
          ],
          "carpet": [
           {
            "aaxis": {
             "endlinecolor": "#2a3f5f",
             "gridcolor": "white",
             "linecolor": "white",
             "minorgridcolor": "white",
             "startlinecolor": "#2a3f5f"
            },
            "baxis": {
             "endlinecolor": "#2a3f5f",
             "gridcolor": "white",
             "linecolor": "white",
             "minorgridcolor": "white",
             "startlinecolor": "#2a3f5f"
            },
            "type": "carpet"
           }
          ],
          "choropleth": [
           {
            "colorbar": {
             "outlinewidth": 0,
             "ticks": ""
            },
            "type": "choropleth"
           }
          ],
          "contour": [
           {
            "colorbar": {
             "outlinewidth": 0,
             "ticks": ""
            },
            "colorscale": [
             [
              0,
              "#0d0887"
             ],
             [
              0.1111111111111111,
              "#46039f"
             ],
             [
              0.2222222222222222,
              "#7201a8"
             ],
             [
              0.3333333333333333,
              "#9c179e"
             ],
             [
              0.4444444444444444,
              "#bd3786"
             ],
             [
              0.5555555555555556,
              "#d8576b"
             ],
             [
              0.6666666666666666,
              "#ed7953"
             ],
             [
              0.7777777777777778,
              "#fb9f3a"
             ],
             [
              0.8888888888888888,
              "#fdca26"
             ],
             [
              1,
              "#f0f921"
             ]
            ],
            "type": "contour"
           }
          ],
          "contourcarpet": [
           {
            "colorbar": {
             "outlinewidth": 0,
             "ticks": ""
            },
            "type": "contourcarpet"
           }
          ],
          "heatmap": [
           {
            "colorbar": {
             "outlinewidth": 0,
             "ticks": ""
            },
            "colorscale": [
             [
              0,
              "#0d0887"
             ],
             [
              0.1111111111111111,
              "#46039f"
             ],
             [
              0.2222222222222222,
              "#7201a8"
             ],
             [
              0.3333333333333333,
              "#9c179e"
             ],
             [
              0.4444444444444444,
              "#bd3786"
             ],
             [
              0.5555555555555556,
              "#d8576b"
             ],
             [
              0.6666666666666666,
              "#ed7953"
             ],
             [
              0.7777777777777778,
              "#fb9f3a"
             ],
             [
              0.8888888888888888,
              "#fdca26"
             ],
             [
              1,
              "#f0f921"
             ]
            ],
            "type": "heatmap"
           }
          ],
          "heatmapgl": [
           {
            "colorbar": {
             "outlinewidth": 0,
             "ticks": ""
            },
            "colorscale": [
             [
              0,
              "#0d0887"
             ],
             [
              0.1111111111111111,
              "#46039f"
             ],
             [
              0.2222222222222222,
              "#7201a8"
             ],
             [
              0.3333333333333333,
              "#9c179e"
             ],
             [
              0.4444444444444444,
              "#bd3786"
             ],
             [
              0.5555555555555556,
              "#d8576b"
             ],
             [
              0.6666666666666666,
              "#ed7953"
             ],
             [
              0.7777777777777778,
              "#fb9f3a"
             ],
             [
              0.8888888888888888,
              "#fdca26"
             ],
             [
              1,
              "#f0f921"
             ]
            ],
            "type": "heatmapgl"
           }
          ],
          "histogram": [
           {
            "marker": {
             "colorbar": {
              "outlinewidth": 0,
              "ticks": ""
             }
            },
            "type": "histogram"
           }
          ],
          "histogram2d": [
           {
            "colorbar": {
             "outlinewidth": 0,
             "ticks": ""
            },
            "colorscale": [
             [
              0,
              "#0d0887"
             ],
             [
              0.1111111111111111,
              "#46039f"
             ],
             [
              0.2222222222222222,
              "#7201a8"
             ],
             [
              0.3333333333333333,
              "#9c179e"
             ],
             [
              0.4444444444444444,
              "#bd3786"
             ],
             [
              0.5555555555555556,
              "#d8576b"
             ],
             [
              0.6666666666666666,
              "#ed7953"
             ],
             [
              0.7777777777777778,
              "#fb9f3a"
             ],
             [
              0.8888888888888888,
              "#fdca26"
             ],
             [
              1,
              "#f0f921"
             ]
            ],
            "type": "histogram2d"
           }
          ],
          "histogram2dcontour": [
           {
            "colorbar": {
             "outlinewidth": 0,
             "ticks": ""
            },
            "colorscale": [
             [
              0,
              "#0d0887"
             ],
             [
              0.1111111111111111,
              "#46039f"
             ],
             [
              0.2222222222222222,
              "#7201a8"
             ],
             [
              0.3333333333333333,
              "#9c179e"
             ],
             [
              0.4444444444444444,
              "#bd3786"
             ],
             [
              0.5555555555555556,
              "#d8576b"
             ],
             [
              0.6666666666666666,
              "#ed7953"
             ],
             [
              0.7777777777777778,
              "#fb9f3a"
             ],
             [
              0.8888888888888888,
              "#fdca26"
             ],
             [
              1,
              "#f0f921"
             ]
            ],
            "type": "histogram2dcontour"
           }
          ],
          "mesh3d": [
           {
            "colorbar": {
             "outlinewidth": 0,
             "ticks": ""
            },
            "type": "mesh3d"
           }
          ],
          "parcoords": [
           {
            "line": {
             "colorbar": {
              "outlinewidth": 0,
              "ticks": ""
             }
            },
            "type": "parcoords"
           }
          ],
          "pie": [
           {
            "automargin": true,
            "type": "pie"
           }
          ],
          "scatter": [
           {
            "marker": {
             "colorbar": {
              "outlinewidth": 0,
              "ticks": ""
             }
            },
            "type": "scatter"
           }
          ],
          "scatter3d": [
           {
            "line": {
             "colorbar": {
              "outlinewidth": 0,
              "ticks": ""
             }
            },
            "marker": {
             "colorbar": {
              "outlinewidth": 0,
              "ticks": ""
             }
            },
            "type": "scatter3d"
           }
          ],
          "scattercarpet": [
           {
            "marker": {
             "colorbar": {
              "outlinewidth": 0,
              "ticks": ""
             }
            },
            "type": "scattercarpet"
           }
          ],
          "scattergeo": [
           {
            "marker": {
             "colorbar": {
              "outlinewidth": 0,
              "ticks": ""
             }
            },
            "type": "scattergeo"
           }
          ],
          "scattergl": [
           {
            "marker": {
             "colorbar": {
              "outlinewidth": 0,
              "ticks": ""
             }
            },
            "type": "scattergl"
           }
          ],
          "scattermapbox": [
           {
            "marker": {
             "colorbar": {
              "outlinewidth": 0,
              "ticks": ""
             }
            },
            "type": "scattermapbox"
           }
          ],
          "scatterpolar": [
           {
            "marker": {
             "colorbar": {
              "outlinewidth": 0,
              "ticks": ""
             }
            },
            "type": "scatterpolar"
           }
          ],
          "scatterpolargl": [
           {
            "marker": {
             "colorbar": {
              "outlinewidth": 0,
              "ticks": ""
             }
            },
            "type": "scatterpolargl"
           }
          ],
          "scatterternary": [
           {
            "marker": {
             "colorbar": {
              "outlinewidth": 0,
              "ticks": ""
             }
            },
            "type": "scatterternary"
           }
          ],
          "surface": [
           {
            "colorbar": {
             "outlinewidth": 0,
             "ticks": ""
            },
            "colorscale": [
             [
              0,
              "#0d0887"
             ],
             [
              0.1111111111111111,
              "#46039f"
             ],
             [
              0.2222222222222222,
              "#7201a8"
             ],
             [
              0.3333333333333333,
              "#9c179e"
             ],
             [
              0.4444444444444444,
              "#bd3786"
             ],
             [
              0.5555555555555556,
              "#d8576b"
             ],
             [
              0.6666666666666666,
              "#ed7953"
             ],
             [
              0.7777777777777778,
              "#fb9f3a"
             ],
             [
              0.8888888888888888,
              "#fdca26"
             ],
             [
              1,
              "#f0f921"
             ]
            ],
            "type": "surface"
           }
          ],
          "table": [
           {
            "cells": {
             "fill": {
              "color": "#EBF0F8"
             },
             "line": {
              "color": "white"
             }
            },
            "header": {
             "fill": {
              "color": "#C8D4E3"
             },
             "line": {
              "color": "white"
             }
            },
            "type": "table"
           }
          ]
         },
         "layout": {
          "annotationdefaults": {
           "arrowcolor": "#2a3f5f",
           "arrowhead": 0,
           "arrowwidth": 1
          },
          "coloraxis": {
           "colorbar": {
            "outlinewidth": 0,
            "ticks": ""
           }
          },
          "colorscale": {
           "diverging": [
            [
             0,
             "#8e0152"
            ],
            [
             0.1,
             "#c51b7d"
            ],
            [
             0.2,
             "#de77ae"
            ],
            [
             0.3,
             "#f1b6da"
            ],
            [
             0.4,
             "#fde0ef"
            ],
            [
             0.5,
             "#f7f7f7"
            ],
            [
             0.6,
             "#e6f5d0"
            ],
            [
             0.7,
             "#b8e186"
            ],
            [
             0.8,
             "#7fbc41"
            ],
            [
             0.9,
             "#4d9221"
            ],
            [
             1,
             "#276419"
            ]
           ],
           "sequential": [
            [
             0,
             "#0d0887"
            ],
            [
             0.1111111111111111,
             "#46039f"
            ],
            [
             0.2222222222222222,
             "#7201a8"
            ],
            [
             0.3333333333333333,
             "#9c179e"
            ],
            [
             0.4444444444444444,
             "#bd3786"
            ],
            [
             0.5555555555555556,
             "#d8576b"
            ],
            [
             0.6666666666666666,
             "#ed7953"
            ],
            [
             0.7777777777777778,
             "#fb9f3a"
            ],
            [
             0.8888888888888888,
             "#fdca26"
            ],
            [
             1,
             "#f0f921"
            ]
           ],
           "sequentialminus": [
            [
             0,
             "#0d0887"
            ],
            [
             0.1111111111111111,
             "#46039f"
            ],
            [
             0.2222222222222222,
             "#7201a8"
            ],
            [
             0.3333333333333333,
             "#9c179e"
            ],
            [
             0.4444444444444444,
             "#bd3786"
            ],
            [
             0.5555555555555556,
             "#d8576b"
            ],
            [
             0.6666666666666666,
             "#ed7953"
            ],
            [
             0.7777777777777778,
             "#fb9f3a"
            ],
            [
             0.8888888888888888,
             "#fdca26"
            ],
            [
             1,
             "#f0f921"
            ]
           ]
          },
          "colorway": [
           "#636efa",
           "#EF553B",
           "#00cc96",
           "#ab63fa",
           "#FFA15A",
           "#19d3f3",
           "#FF6692",
           "#B6E880",
           "#FF97FF",
           "#FECB52"
          ],
          "font": {
           "color": "#2a3f5f"
          },
          "geo": {
           "bgcolor": "white",
           "lakecolor": "white",
           "landcolor": "#E5ECF6",
           "showlakes": true,
           "showland": true,
           "subunitcolor": "white"
          },
          "hoverlabel": {
           "align": "left"
          },
          "hovermode": "closest",
          "mapbox": {
           "style": "light"
          },
          "paper_bgcolor": "white",
          "plot_bgcolor": "#E5ECF6",
          "polar": {
           "angularaxis": {
            "gridcolor": "white",
            "linecolor": "white",
            "ticks": ""
           },
           "bgcolor": "#E5ECF6",
           "radialaxis": {
            "gridcolor": "white",
            "linecolor": "white",
            "ticks": ""
           }
          },
          "scene": {
           "xaxis": {
            "backgroundcolor": "#E5ECF6",
            "gridcolor": "white",
            "gridwidth": 2,
            "linecolor": "white",
            "showbackground": true,
            "ticks": "",
            "zerolinecolor": "white"
           },
           "yaxis": {
            "backgroundcolor": "#E5ECF6",
            "gridcolor": "white",
            "gridwidth": 2,
            "linecolor": "white",
            "showbackground": true,
            "ticks": "",
            "zerolinecolor": "white"
           },
           "zaxis": {
            "backgroundcolor": "#E5ECF6",
            "gridcolor": "white",
            "gridwidth": 2,
            "linecolor": "white",
            "showbackground": true,
            "ticks": "",
            "zerolinecolor": "white"
           }
          },
          "shapedefaults": {
           "line": {
            "color": "#2a3f5f"
           }
          },
          "ternary": {
           "aaxis": {
            "gridcolor": "white",
            "linecolor": "white",
            "ticks": ""
           },
           "baxis": {
            "gridcolor": "white",
            "linecolor": "white",
            "ticks": ""
           },
           "bgcolor": "#E5ECF6",
           "caxis": {
            "gridcolor": "white",
            "linecolor": "white",
            "ticks": ""
           }
          },
          "title": {
           "x": 0.05
          },
          "xaxis": {
           "automargin": true,
           "gridcolor": "white",
           "linecolor": "white",
           "ticks": "",
           "title": {
            "standoff": 15
           },
           "zerolinecolor": "white",
           "zerolinewidth": 2
          },
          "yaxis": {
           "automargin": true,
           "gridcolor": "white",
           "linecolor": "white",
           "ticks": "",
           "title": {
            "standoff": 15
           },
           "zerolinecolor": "white",
           "zerolinewidth": 2
          }
         }
        },
        "title": {
         "text": "Photos<br>Protest votes correlation (except embassy): 0.79<br>(0.79 no Lukashenko)"
        },
        "xaxis": {
         "title": {
          "text": "People registered in system"
         }
        },
        "yaxis": {
         "title": {
          "text": "People voted against Lukasheno"
         }
        }
       }
      },
      "text/html": [
       "<div>\n",
       "        \n",
       "        \n",
       "            <div id=\"46fa9686-a6d6-474f-b722-63394b36cbb8\" class=\"plotly-graph-div\" style=\"height:525px; width:100%;\"></div>\n",
       "            <script type=\"text/javascript\">\n",
       "                require([\"plotly\"], function(Plotly) {\n",
       "                    window.PLOTLYENV=window.PLOTLYENV || {};\n",
       "                    \n",
       "                if (document.getElementById(\"46fa9686-a6d6-474f-b722-63394b36cbb8\")) {\n",
       "                    Plotly.newPlot(\n",
       "                        '46fa9686-a6d6-474f-b722-63394b36cbb8',\n",
       "                        [{\"mode\": \"markers\", \"name\": \"city (0.91)\", \"text\": [\"01-010-0007\", \"01-010-0010\", \"01-010-0025\", \"01-010-0028\", \"01-010-0032\", \"01-010-0034\", \"01-010-0044\", \"01-011-0015\", \"01-011-0032\", \"01-011-0037\", \"01-011-0038\", \"01-011-0049\", \"01-011-0061\", \"01-011-0087\", \"02-015-0025\", \"02-016-0006\", \"02-016-0014\", \"02-016-0018\", \"02-016-0059\", \"02-143-0016\", \"02-143-0019\", \"02-143-0022\", \"03-019-0049\", \"04-021-0032\", \"04-021-0048\", \"04-022-0067\", \"04-022-0080\", \"04-022-0081\", \"04-022-0085\", \"04-022-0107\", \"04-022-0117\", \"04-022-0121\", \"04-022-0125\", \"04-022-0128\", \"04-022-0135\", \"06-024-0010\", \"06-146-0025\", \"06-146-0035\"], \"type\": \"scatter\", \"x\": [196, 89, 241, 170, 150, 271, 120, 215, 140, 112, 105, 243, 179, 271, 146, 47, 147, 126, 103, 66, 124, 126, 125, 84, 122, 278, 201, 205, 79, 180, 140, 157, 163, 235, 198, 97, 72, 83], \"y\": [1262.0, 532.0, 1350.0, 1285.0, 950.0, 1513.0, 593.0, 1398.0, 766.0, 756.0, 662.0, 1275.0, 1107.0, 1440.0, 891.0, 351.0, 836.0, 873.0, 463.0, 705.0, 989.0, 724.0, 828.0, 437.0, 735.0, 1241.0, 1154.0, 1010.0, 553.0, 884.0, 1003.0, 765.0, 893.0, 1131.0, 976.0, 577.0, 612.0, 517.0]}, {\"mode\": \"markers\", \"name\": \"minsk_suburb (0.86)\", \"text\": [\"05-141-0003\", \"05-141-0005\", \"05-141-0008\", \"05-141-0011\", \"05-141-0014\", \"05-141-0015\", \"05-141-0017\", \"05-141-0018\", \"05-141-0019\", \"05-141-0025\", \"05-141-0040\", \"05-141-0050\", \"05-141-0051\", \"05-141-0054\", \"05-141-0055\", \"05-141-0056\", \"05-141-0075\", \"05-141-0077\", \"05-141-0078\", \"05-141-0091\", \"05-141-0092\", \"05-141-0093\", \"05-141-0096\", \"05-141-0098\", \"05-141-0100\", \"05-141-0101\", \"05-141-0104\", \"05-141-0105\", \"05-141-0107\"], \"type\": \"scatter\", \"x\": [299, 335, 327, 422, 291, 168, 319, 245, 317, 571, 422, 178, 298, 483, 145, 125, 157, 164, 230, 145, 382, 374, 204, 325, 334, 109, 226, 160, 173], \"y\": [1259.0, 1161.0, 824.0, 1085.0, 969.0, 778.0, 996.0, 769.0, 1167.0, 1458.0, 1370.0, 907.0, 901.0, 1378.0, 544.0, 510.0, 513.0, 644.0, 1013.0, 516.0, 1387.0, 985.0, 822.0, 1284.0, 693.0, 410.0, 772.0, 650.0, 801.0]}, {\"mode\": \"markers\", \"name\": \"capital (0.89)\", \"text\": [\"07-001-0005\", \"07-001-0008\", \"07-001-0010\", \"07-001-0012\", \"07-001-0016\", \"07-001-0022\", \"07-001-0060\", \"07-001-0089\", \"07-002-0017\", \"07-002-0044\", \"07-002-0051\", \"07-002-0060\", \"07-002-0072\", \"07-003-0002\", \"07-003-0024\", \"07-003-0058\", \"07-003-0061\", \"07-003-0085\", \"07-003-0094\", \"07-004-0002\", \"07-004-0004\", \"07-004-0005\", \"07-004-0006\", \"07-004-0007\", \"07-004-0018\", \"07-004-0026\", \"07-004-0051\", \"07-005-0002\", \"07-005-0007\", \"07-005-0021\", \"07-005-0026\", \"07-005-0034\", \"07-005-0037\", \"07-006-0008\", \"07-006-0037\", \"07-006-0072\", \"07-008-0057\", \"07-008-0070\", \"07-008-0079\", \"07-009-0014\"], \"type\": \"scatter\", \"x\": [140, 164, 189, 117, 191, 187, 181, 361, 206, 302, 195, 248, 203, 309, 252, 283, 309, 405, 372, 219, 207, 282, 223, 288, 257, 252, 409, 9, 288, 305, 315, 223, 354, 729, 285, 299, 282, 799, 237, 212], \"y\": [915.0, 734.0, 870.0, 566.0, 598.0, 834.0, 612.0, 1259.0, 680.0, 657.0, 704.0, 683.0, 526.0, 972.0, 840.0, 609.0, 1034.0, 1343.0, 1440.0, 700.0, 796.0, 1182.0, 741.0, 901.0, 936.0, 877.0, 1667.0, 110.0, 1084.0, 583.0, 911.0, 1064.0, 1523.0, 2134.0, 991.0, 1130.0, 760.0, 2258.0, 679.0, 838.0]}, {\"mode\": \"markers\", \"name\": \"village (0.79)\", \"text\": [\"01-049-0030\", \"01-050-0011\", \"01-053-0021\", \"01-055-0010\", \"01-055-0017\", \"01-056-0021\", \"01-056-0024\", \"01-057-0025\", \"01-063-0049\", \"01-142-0002\", \"02-065-0015\", \"02-067-0010\", \"02-069-0006\", \"02-072-0011\", \"02-077-0016\", \"02-143-0008\", \"03-088-0027\", \"03-091-0046\", \"03-091-0047\", \"03-091-0048\", \"03-100-0057\", \"03-101-0029\", \"03-101-0036\", \"03-101-0037\", \"04-105-0011\", \"04-110-0013\", \"04-112-0055\", \"04-112-0064\", \"04-117-0011\", \"04-117-0014\", \"04-119-0024\", \"04-119-0029\", \"04-145-0024\", \"05-027-0018\", \"05-027-0023\", \"05-029-0018\", \"05-029-0034\", \"05-034-0014\", \"05-034-0019\", \"05-036-0039\", \"05-036-0044\", \"05-037-0016\", \"05-039-0005\", \"05-039-0010\", \"05-039-0011\", \"05-039-0012\", \"05-039-0028\", \"05-040-0063\", \"05-041-0012\", \"05-041-0026\", \"05-041-0030\", \"05-042-0041\", \"05-042-0050\", \"05-042-0056\", \"05-042-0062\", \"05-044-0010\", \"05-044-0025\", \"05-045-0012\", \"05-045-0018\", \"05-046-0022\", \"05-141-0058\", \"05-141-0061\", \"05-141-0070\", \"05-141-0080\", \"05-141-0081\", \"05-141-0103\", \"05-141-0108\", \"06-146-0008\"], \"type\": \"scatter\", \"x\": [49, 12, 26, 6, 12, 23, 9, 16, 11, 75, 27, 8, 59, 16, 52, 8, 9, 48, 23, 20, 7, 7, 7, 23, 8, 31, 36, 47, 5, 6, 36, 35, 68, 32, 77, 32, 129, 5, 33, 62, 41, 38, 151, 147, 98, 99, 10, 77, 61, 34, 103, 49, 29, 6, 22, 38, 29, 11, 14, 125, 136, 75, 210, 156, 196, 52, 106, 30], \"y\": [567.0, 225.0, 595.0, 221.0, 174.0, 277.0, 181.0, 420.0, 243.0, 838.0, 271.0, 168.0, 581.0, 233.0, 493.0, 80.0, 144.0, 446.0, 303.0, 203.0, 253.0, 142.0, 169.0, 315.0, 169.0, 271.0, 505.0, 449.0, 153.0, 182.0, 361.0, 466.0, 533.0, 600.0, 490.0, 154.0, 509.0, 108.0, 218.0, 351.0, 208.0, 542.0, 752.0, 397.0, 640.0, 564.0, 97.0, 760.0, 434.0, 79.0, 533.0, 580.0, 300.0, 117.0, 231.0, 492.0, 318.0, 172.0, 233.0, 787.0, 655.0, 559.0, 983.0, 582.0, 964.0, 265.0, 338.0, 322.0]}, {\"mode\": \"markers\", \"name\": \"town_below100 (0.84)\", \"text\": [\"01-049-0013\", \"01-049-0015\", \"01-054-0001\", \"01-055-0002\", \"01-055-0003\", \"01-055-0032\", \"01-056-0005\", \"01-056-0019\", \"01-062-0009\", \"01-063-0010\", \"02-065-0001\", \"02-065-0006\", \"02-065-0007\", \"02-072-0020\", \"02-073-0004\", \"02-077-0019\", \"02-081-0001\", \"02-082-0020\", \"03-091-0012\", \"03-091-0014\", \"03-091-0015\", \"03-091-0016\", \"03-091-0017\", \"03-091-0018\", \"03-091-0021\", \"03-091-0022\", \"03-091-0024\", \"03-091-0026\", \"03-091-0027\", \"03-091-0028\", \"03-091-0030\", \"03-091-0032\", \"03-091-0033\", \"03-101-0008\", \"03-101-0011\", \"03-101-0015\", \"03-102-0003\", \"04-106-0011\", \"04-110-0003\", \"04-112-0070\", \"04-114-0004\", \"04-114-0017\", \"04-115-0002\", \"04-115-0003\", \"04-115-0005\", \"04-118-0004\", \"04-119-0007\", \"04-119-0008\", \"04-119-0013\", \"04-119-0016\", \"05-027-0006\", \"05-027-0007\", \"05-036-0003\", \"05-036-0004\", \"05-036-0020\", \"05-036-0023\", \"05-036-0029\", \"05-036-0074\", \"05-036-0075\", \"05-038-0004\", \"05-040-0002\", \"05-040-0008\", \"05-040-0019\", \"05-040-0028\", \"05-041-0008\", \"05-041-0035\", \"05-044-0004\", \"05-044-0005\", \"05-044-0007\", \"06-129-0001\", \"06-135-0002\", \"06-135-0011\"], \"type\": \"scatter\", \"x\": [121, 217, 132, 87, 86, 78, 190, 206, 39, 61, 112, 91, 51, 79, 71, 59, 105, 141, 86, 109, 105, 72, 143, 59, 125, 205, 213, 242, 340, 92, 126, 264, 232, 83, 79, 118, 71, 146, 78, 131, 105, 69, 44, 100, 104, 60, 157, 116, 88, 97, 121, 49, 106, 160, 146, 140, 133, 110, 111, 199, 167, 146, 96, 53, 103, 66, 151, 189, 127, 51, 90, 117], \"y\": [1067.0, 1462.0, 1445.0, 704.0, 938.0, 726.0, 1119.0, 1303.0, 354.0, 749.0, 843.0, 751.0, 497.0, 866.0, 570.0, 610.0, 972.0, 1480.0, 355.0, 739.0, 569.0, 617.0, 623.0, 487.0, 977.0, 981.0, 1427.0, 1688.0, 1680.0, 473.0, 927.0, 1744.0, 1198.0, 654.0, 719.0, 579.0, 456.0, 1055.0, 680.0, 835.0, 720.0, 759.0, 419.0, 787.0, 819.0, 516.0, 1123.0, 767.0, 612.0, 802.0, 742.0, 486.0, 698.0, 803.0, 1115.0, 728.0, 841.0, 812.0, 579.0, 1344.0, 1168.0, 853.0, 706.0, 430.0, 913.0, 761.0, 878.0, 1129.0, 765.0, 700.0, 1057.0, 810.0]}, {\"mode\": \"markers\", \"name\": \"town_over100 (0.74)\", \"text\": [\"01-060-0059\", \"01-060-0060\", \"01-060-0061\", \"02-074-0004\", \"02-074-0018\", \"02-074-0019\", \"02-075-0005\", \"02-075-0019\", \"03-096-0008\", \"03-096-0009\", \"03-096-0023\", \"03-096-0026\", \"03-096-0038\", \"03-096-0039\", \"04-112-0002\", \"04-112-0007\", \"04-112-0012\", \"04-112-0016\", \"04-112-0020\", \"04-112-0025\", \"04-112-0026\", \"04-112-0029\", \"04-112-0032\", \"04-112-0044\", \"05-026-0005\", \"05-026-0011\", \"05-026-0016\", \"05-026-0061\", \"05-026-0062\", \"06-012-0069\", \"06-012-0077\", \"06-013-0020\", \"06-013-0021\", \"06-013-0048\"], \"type\": \"scatter\", \"x\": [112, 91, 124, 218, 143, 120, 78, 68, 74, 58, 113, 118, 71, 82, 109, 124, 228, 168, 101, 103, 125, 88, 95, 119, 35, 138, 93, 92, 85, 77, 94, 111, 111, 74], \"y\": [764.0, 668.0, 1036.0, 878.0, 607.0, 745.0, 503.0, 211.0, 571.0, 482.0, 890.0, 731.0, 505.0, 777.0, 795.0, 697.0, 1320.0, 1165.0, 707.0, 625.0, 538.0, 638.0, 617.0, 539.0, 246.0, 1011.0, 644.0, 392.0, 655.0, 563.0, 644.0, 839.0, 1119.0, 497.0]}, {\"mode\": \"markers\", \"name\": \"embassy (0.67)\", \"text\": [\"07-002-0084\", \"07-002-0085\", \"07-002-0089\", \"07-002-0094\", \"07-002-0099\", \"07-002-0107\", \"07-002-0108\", \"07-002-0112\", \"07-002-0118\"], \"type\": \"scatter\", \"x\": [20, 26, 16, 9, 5, 9, 98, 3, 2], \"y\": [1076.0, 812.0, 288.0, 462.0, 383.0, 430.0, 1000.0, 234.0, 381.0]}],\n",
       "                        {\"template\": {\"data\": {\"bar\": [{\"error_x\": {\"color\": \"#2a3f5f\"}, \"error_y\": {\"color\": \"#2a3f5f\"}, \"marker\": {\"line\": {\"color\": \"#E5ECF6\", \"width\": 0.5}}, \"type\": \"bar\"}], \"barpolar\": [{\"marker\": {\"line\": {\"color\": \"#E5ECF6\", \"width\": 0.5}}, \"type\": \"barpolar\"}], \"carpet\": [{\"aaxis\": {\"endlinecolor\": \"#2a3f5f\", \"gridcolor\": \"white\", \"linecolor\": \"white\", \"minorgridcolor\": \"white\", \"startlinecolor\": \"#2a3f5f\"}, \"baxis\": {\"endlinecolor\": \"#2a3f5f\", \"gridcolor\": \"white\", \"linecolor\": \"white\", \"minorgridcolor\": \"white\", \"startlinecolor\": \"#2a3f5f\"}, \"type\": \"carpet\"}], \"choropleth\": [{\"colorbar\": {\"outlinewidth\": 0, \"ticks\": \"\"}, \"type\": \"choropleth\"}], \"contour\": [{\"colorbar\": {\"outlinewidth\": 0, \"ticks\": \"\"}, \"colorscale\": [[0.0, \"#0d0887\"], [0.1111111111111111, \"#46039f\"], [0.2222222222222222, \"#7201a8\"], [0.3333333333333333, \"#9c179e\"], [0.4444444444444444, \"#bd3786\"], [0.5555555555555556, \"#d8576b\"], [0.6666666666666666, \"#ed7953\"], [0.7777777777777778, \"#fb9f3a\"], [0.8888888888888888, \"#fdca26\"], [1.0, \"#f0f921\"]], \"type\": \"contour\"}], \"contourcarpet\": [{\"colorbar\": {\"outlinewidth\": 0, \"ticks\": \"\"}, \"type\": \"contourcarpet\"}], \"heatmap\": [{\"colorbar\": {\"outlinewidth\": 0, \"ticks\": \"\"}, \"colorscale\": [[0.0, \"#0d0887\"], [0.1111111111111111, \"#46039f\"], [0.2222222222222222, \"#7201a8\"], [0.3333333333333333, \"#9c179e\"], [0.4444444444444444, \"#bd3786\"], [0.5555555555555556, \"#d8576b\"], [0.6666666666666666, \"#ed7953\"], [0.7777777777777778, \"#fb9f3a\"], [0.8888888888888888, \"#fdca26\"], [1.0, \"#f0f921\"]], \"type\": \"heatmap\"}], \"heatmapgl\": [{\"colorbar\": {\"outlinewidth\": 0, \"ticks\": \"\"}, \"colorscale\": [[0.0, \"#0d0887\"], [0.1111111111111111, \"#46039f\"], [0.2222222222222222, \"#7201a8\"], [0.3333333333333333, \"#9c179e\"], [0.4444444444444444, \"#bd3786\"], [0.5555555555555556, \"#d8576b\"], [0.6666666666666666, \"#ed7953\"], [0.7777777777777778, \"#fb9f3a\"], [0.8888888888888888, \"#fdca26\"], [1.0, \"#f0f921\"]], \"type\": \"heatmapgl\"}], \"histogram\": [{\"marker\": {\"colorbar\": {\"outlinewidth\": 0, \"ticks\": \"\"}}, \"type\": \"histogram\"}], \"histogram2d\": [{\"colorbar\": {\"outlinewidth\": 0, \"ticks\": \"\"}, \"colorscale\": [[0.0, \"#0d0887\"], [0.1111111111111111, \"#46039f\"], [0.2222222222222222, \"#7201a8\"], [0.3333333333333333, \"#9c179e\"], [0.4444444444444444, \"#bd3786\"], [0.5555555555555556, \"#d8576b\"], [0.6666666666666666, \"#ed7953\"], [0.7777777777777778, \"#fb9f3a\"], [0.8888888888888888, \"#fdca26\"], [1.0, \"#f0f921\"]], \"type\": \"histogram2d\"}], \"histogram2dcontour\": [{\"colorbar\": {\"outlinewidth\": 0, \"ticks\": \"\"}, \"colorscale\": [[0.0, \"#0d0887\"], [0.1111111111111111, \"#46039f\"], [0.2222222222222222, \"#7201a8\"], [0.3333333333333333, \"#9c179e\"], [0.4444444444444444, \"#bd3786\"], [0.5555555555555556, \"#d8576b\"], [0.6666666666666666, \"#ed7953\"], [0.7777777777777778, \"#fb9f3a\"], [0.8888888888888888, \"#fdca26\"], [1.0, \"#f0f921\"]], \"type\": \"histogram2dcontour\"}], \"mesh3d\": [{\"colorbar\": {\"outlinewidth\": 0, \"ticks\": \"\"}, \"type\": \"mesh3d\"}], \"parcoords\": [{\"line\": {\"colorbar\": {\"outlinewidth\": 0, \"ticks\": \"\"}}, \"type\": \"parcoords\"}], \"pie\": [{\"automargin\": true, \"type\": \"pie\"}], \"scatter\": [{\"marker\": {\"colorbar\": {\"outlinewidth\": 0, \"ticks\": \"\"}}, \"type\": \"scatter\"}], \"scatter3d\": [{\"line\": {\"colorbar\": {\"outlinewidth\": 0, \"ticks\": \"\"}}, \"marker\": {\"colorbar\": {\"outlinewidth\": 0, \"ticks\": \"\"}}, \"type\": \"scatter3d\"}], \"scattercarpet\": [{\"marker\": {\"colorbar\": {\"outlinewidth\": 0, \"ticks\": \"\"}}, \"type\": \"scattercarpet\"}], \"scattergeo\": [{\"marker\": {\"colorbar\": {\"outlinewidth\": 0, \"ticks\": \"\"}}, \"type\": \"scattergeo\"}], \"scattergl\": [{\"marker\": {\"colorbar\": {\"outlinewidth\": 0, \"ticks\": \"\"}}, \"type\": \"scattergl\"}], \"scattermapbox\": [{\"marker\": {\"colorbar\": {\"outlinewidth\": 0, \"ticks\": \"\"}}, \"type\": \"scattermapbox\"}], \"scatterpolar\": [{\"marker\": {\"colorbar\": {\"outlinewidth\": 0, \"ticks\": \"\"}}, \"type\": \"scatterpolar\"}], \"scatterpolargl\": [{\"marker\": {\"colorbar\": {\"outlinewidth\": 0, \"ticks\": \"\"}}, \"type\": \"scatterpolargl\"}], \"scatterternary\": [{\"marker\": {\"colorbar\": {\"outlinewidth\": 0, \"ticks\": \"\"}}, \"type\": \"scatterternary\"}], \"surface\": [{\"colorbar\": {\"outlinewidth\": 0, \"ticks\": \"\"}, \"colorscale\": [[0.0, \"#0d0887\"], [0.1111111111111111, \"#46039f\"], [0.2222222222222222, \"#7201a8\"], [0.3333333333333333, \"#9c179e\"], [0.4444444444444444, \"#bd3786\"], [0.5555555555555556, \"#d8576b\"], [0.6666666666666666, \"#ed7953\"], [0.7777777777777778, \"#fb9f3a\"], [0.8888888888888888, \"#fdca26\"], [1.0, \"#f0f921\"]], \"type\": \"surface\"}], \"table\": [{\"cells\": {\"fill\": {\"color\": \"#EBF0F8\"}, \"line\": {\"color\": \"white\"}}, \"header\": {\"fill\": {\"color\": \"#C8D4E3\"}, \"line\": {\"color\": \"white\"}}, \"type\": \"table\"}]}, \"layout\": {\"annotationdefaults\": {\"arrowcolor\": \"#2a3f5f\", \"arrowhead\": 0, \"arrowwidth\": 1}, \"coloraxis\": {\"colorbar\": {\"outlinewidth\": 0, \"ticks\": \"\"}}, \"colorscale\": {\"diverging\": [[0, \"#8e0152\"], [0.1, \"#c51b7d\"], [0.2, \"#de77ae\"], [0.3, \"#f1b6da\"], [0.4, \"#fde0ef\"], [0.5, \"#f7f7f7\"], [0.6, \"#e6f5d0\"], [0.7, \"#b8e186\"], [0.8, \"#7fbc41\"], [0.9, \"#4d9221\"], [1, \"#276419\"]], \"sequential\": [[0.0, \"#0d0887\"], [0.1111111111111111, \"#46039f\"], [0.2222222222222222, \"#7201a8\"], [0.3333333333333333, \"#9c179e\"], [0.4444444444444444, \"#bd3786\"], [0.5555555555555556, \"#d8576b\"], [0.6666666666666666, \"#ed7953\"], [0.7777777777777778, \"#fb9f3a\"], [0.8888888888888888, \"#fdca26\"], [1.0, \"#f0f921\"]], \"sequentialminus\": [[0.0, \"#0d0887\"], [0.1111111111111111, \"#46039f\"], [0.2222222222222222, \"#7201a8\"], [0.3333333333333333, \"#9c179e\"], [0.4444444444444444, \"#bd3786\"], [0.5555555555555556, \"#d8576b\"], [0.6666666666666666, \"#ed7953\"], [0.7777777777777778, \"#fb9f3a\"], [0.8888888888888888, \"#fdca26\"], [1.0, \"#f0f921\"]]}, \"colorway\": [\"#636efa\", \"#EF553B\", \"#00cc96\", \"#ab63fa\", \"#FFA15A\", \"#19d3f3\", \"#FF6692\", \"#B6E880\", \"#FF97FF\", \"#FECB52\"], \"font\": {\"color\": \"#2a3f5f\"}, \"geo\": {\"bgcolor\": \"white\", \"lakecolor\": \"white\", \"landcolor\": \"#E5ECF6\", \"showlakes\": true, \"showland\": true, \"subunitcolor\": \"white\"}, \"hoverlabel\": {\"align\": \"left\"}, \"hovermode\": \"closest\", \"mapbox\": {\"style\": \"light\"}, \"paper_bgcolor\": \"white\", \"plot_bgcolor\": \"#E5ECF6\", \"polar\": {\"angularaxis\": {\"gridcolor\": \"white\", \"linecolor\": \"white\", \"ticks\": \"\"}, \"bgcolor\": \"#E5ECF6\", \"radialaxis\": {\"gridcolor\": \"white\", \"linecolor\": \"white\", \"ticks\": \"\"}}, \"scene\": {\"xaxis\": {\"backgroundcolor\": \"#E5ECF6\", \"gridcolor\": \"white\", \"gridwidth\": 2, \"linecolor\": \"white\", \"showbackground\": true, \"ticks\": \"\", \"zerolinecolor\": \"white\"}, \"yaxis\": {\"backgroundcolor\": \"#E5ECF6\", \"gridcolor\": \"white\", \"gridwidth\": 2, \"linecolor\": \"white\", \"showbackground\": true, \"ticks\": \"\", \"zerolinecolor\": \"white\"}, \"zaxis\": {\"backgroundcolor\": \"#E5ECF6\", \"gridcolor\": \"white\", \"gridwidth\": 2, \"linecolor\": \"white\", \"showbackground\": true, \"ticks\": \"\", \"zerolinecolor\": \"white\"}}, \"shapedefaults\": {\"line\": {\"color\": \"#2a3f5f\"}}, \"ternary\": {\"aaxis\": {\"gridcolor\": \"white\", \"linecolor\": \"white\", \"ticks\": \"\"}, \"baxis\": {\"gridcolor\": \"white\", \"linecolor\": \"white\", \"ticks\": \"\"}, \"bgcolor\": \"#E5ECF6\", \"caxis\": {\"gridcolor\": \"white\", \"linecolor\": \"white\", \"ticks\": \"\"}}, \"title\": {\"x\": 0.05}, \"xaxis\": {\"automargin\": true, \"gridcolor\": \"white\", \"linecolor\": \"white\", \"ticks\": \"\", \"title\": {\"standoff\": 15}, \"zerolinecolor\": \"white\", \"zerolinewidth\": 2}, \"yaxis\": {\"automargin\": true, \"gridcolor\": \"white\", \"linecolor\": \"white\", \"ticks\": \"\", \"title\": {\"standoff\": 15}, \"zerolinecolor\": \"white\", \"zerolinewidth\": 2}}}, \"title\": {\"text\": \"Photos<br>Protest votes correlation (except embassy): 0.79<br>(0.79 no Lukashenko)\"}, \"xaxis\": {\"title\": {\"text\": \"People registered in system\"}}, \"yaxis\": {\"title\": {\"text\": \"People voted against Lukasheno\"}}},\n",
       "                        {\"responsive\": true}\n",
       "                    ).then(function(){\n",
       "                            \n",
       "var gd = document.getElementById('46fa9686-a6d6-474f-b722-63394b36cbb8');\n",
       "var x = new MutationObserver(function (mutations, observer) {{\n",
       "        var display = window.getComputedStyle(gd).display;\n",
       "        if (!display || display === 'none') {{\n",
       "            console.log([gd, 'removed!']);\n",
       "            Plotly.purge(gd);\n",
       "            observer.disconnect();\n",
       "        }}\n",
       "}});\n",
       "\n",
       "// Listen for the removal of the full notebook cells\n",
       "var notebookContainer = gd.closest('#notebook-container');\n",
       "if (notebookContainer) {{\n",
       "    x.observe(notebookContainer, {childList: true});\n",
       "}}\n",
       "\n",
       "// Listen for the clearing of the current output cell\n",
       "var outputEl = gd.closest('.output');\n",
       "if (outputEl) {{\n",
       "    x.observe(outputEl, {childList: true});\n",
       "}}\n",
       "\n",
       "                        })\n",
       "                };\n",
       "                });\n",
       "            </script>\n",
       "        </div>"
      ]
     },
     "metadata": {},
     "output_type": "display_data"
    }
   ],
   "source": [
    "protest_chart('photoVoices', 'Ballot photos in system')"
   ]
  },
  {
   "cell_type": "code",
   "execution_count": 140,
   "metadata": {},
   "outputs": [],
   "source": [
    "def tih_photo(area, coeff):\n",
    "    fig = Figure()\n",
    "    mask = (df['area'] == area) & (df['observers'] > 0)\n",
    "    for region in range(1, 9):\n",
    "        data = df[mask & (df['region'] == region)]\n",
    "        fig.add_trace(Scatter(\n",
    "            x=data[~data['wrong-voters-number']]['tihanovkaja_photoVoices'], \n",
    "            y=data[~data['wrong-voters-number']]['tihanovkaja_officialVotes'],\n",
    "            mode='markers',\n",
    "            name=f'{region} more trusted',\n",
    "            text=data['id'],\n",
    "        ))\n",
    "        fig.add_trace(Scatter(\n",
    "            x=data[data['wrong-voters-number']]['tihanovkaja_photoVoices'], \n",
    "            y=data[data['wrong-voters-number']]['tihanovkaja_officialVotes'],\n",
    "            mode='markers',\n",
    "            name=f'{region} less trusted',\n",
    "            text=data['id'],\n",
    "        ))\n",
    "        \n",
    "    data = df[mask]\n",
    "        \n",
    "    fig.add_trace(Scatter(\n",
    "        x=data['tihanovkaja_photoVoices'], \n",
    "        y=data['tihanovkaja_photoVoices'] * coeff,\n",
    "        mode='lines',\n",
    "        name=f'{region} exp',\n",
    "        text=data['id'],\n",
    "    ))\n",
    "        \n",
    "        \n",
    "\n",
    "    fig.update_xaxes(title='Photos')\n",
    "    fig.update_yaxes(title='People voted for Tsihanouskaya')\n",
    "\n",
    "\n",
    "    fig.show()\n"
   ]
  },
  {
   "cell_type": "code",
   "execution_count": 141,
   "metadata": {},
   "outputs": [
    {
     "data": {
      "application/vnd.plotly.v1+json": {
       "config": {
        "plotlyServerURL": "https://plot.ly"
       },
       "data": [
        {
         "mode": "markers",
         "name": "1 more trusted",
         "text": [
          "01-010-0007",
          "01-010-0010",
          "01-010-0025",
          "01-010-0028",
          "01-010-0032",
          "01-010-0034",
          "01-010-0044",
          "01-011-0015",
          "01-011-0037",
          "01-011-0038",
          "01-011-0049",
          "01-011-0061",
          "01-011-0087"
         ],
         "type": "scatter",
         "x": [
          194,
          89,
          236,
          164,
          148,
          267,
          116,
          209,
          109,
          104,
          237,
          175,
          267
         ],
         "y": [
          1010,
          443,
          1107,
          764,
          711,
          1223,
          473,
          1113,
          543,
          510,
          1055,
          869,
          1155
         ]
        },
        {
         "mode": "markers",
         "name": "1 less trusted",
         "text": [
          "01-010-0007",
          "01-010-0010",
          "01-010-0025",
          "01-010-0028",
          "01-010-0032",
          "01-010-0034",
          "01-010-0044",
          "01-011-0015",
          "01-011-0037",
          "01-011-0038",
          "01-011-0049",
          "01-011-0061",
          "01-011-0087"
         ],
         "type": "scatter",
         "x": [],
         "y": []
        },
        {
         "mode": "markers",
         "name": "2 more trusted",
         "text": [
          "02-015-0025",
          "02-016-0014",
          "02-016-0018",
          "02-016-0059",
          "02-143-0016",
          "02-143-0019",
          "02-143-0022"
         ],
         "type": "scatter",
         "x": [
          145,
          145,
          123,
          101,
          65,
          122,
          124
         ],
         "y": [
          672,
          666,
          674,
          311,
          531,
          764,
          470
         ]
        },
        {
         "mode": "markers",
         "name": "2 less trusted",
         "text": [
          "02-015-0025",
          "02-016-0014",
          "02-016-0018",
          "02-016-0059",
          "02-143-0016",
          "02-143-0019",
          "02-143-0022"
         ],
         "type": "scatter",
         "x": [],
         "y": []
        },
        {
         "mode": "markers",
         "name": "3 more trusted",
         "text": [
          "03-019-0049"
         ],
         "type": "scatter",
         "x": [
          123
         ],
         "y": [
          620
         ]
        },
        {
         "mode": "markers",
         "name": "3 less trusted",
         "text": [
          "03-019-0049"
         ],
         "type": "scatter",
         "x": [],
         "y": []
        },
        {
         "mode": "markers",
         "name": "4 more trusted",
         "text": [
          "04-021-0032",
          "04-021-0048",
          "04-022-0067",
          "04-022-0080",
          "04-022-0107",
          "04-022-0117",
          "04-022-0125",
          "04-022-0128"
         ],
         "type": "scatter",
         "x": [
          81,
          118,
          275,
          198,
          138,
          162,
          231
         ],
         "y": [
          301,
          620,
          1002,
          955,
          819,
          709,
          930
         ]
        },
        {
         "mode": "markers",
         "name": "4 less trusted",
         "text": [
          "04-021-0032",
          "04-021-0048",
          "04-022-0067",
          "04-022-0080",
          "04-022-0107",
          "04-022-0117",
          "04-022-0125",
          "04-022-0128"
         ],
         "type": "scatter",
         "x": [
          176
         ],
         "y": [
          709
         ]
        },
        {
         "mode": "markers",
         "name": "5 more trusted",
         "text": [],
         "type": "scatter",
         "x": [],
         "y": []
        },
        {
         "mode": "markers",
         "name": "5 less trusted",
         "text": [],
         "type": "scatter",
         "x": [],
         "y": []
        },
        {
         "mode": "markers",
         "name": "6 more trusted",
         "text": [
          "06-024-0010",
          "06-146-0025",
          "06-146-0035"
         ],
         "type": "scatter",
         "x": [
          91,
          71,
          83
         ],
         "y": [
          439,
          440,
          424
         ]
        },
        {
         "mode": "markers",
         "name": "6 less trusted",
         "text": [
          "06-024-0010",
          "06-146-0025",
          "06-146-0035"
         ],
         "type": "scatter",
         "x": [],
         "y": []
        },
        {
         "mode": "markers",
         "name": "7 more trusted",
         "text": [],
         "type": "scatter",
         "x": [],
         "y": []
        },
        {
         "mode": "markers",
         "name": "7 less trusted",
         "text": [],
         "type": "scatter",
         "x": [],
         "y": []
        },
        {
         "mode": "markers",
         "name": "8 more trusted",
         "text": [],
         "type": "scatter",
         "x": [],
         "y": []
        },
        {
         "mode": "markers",
         "name": "8 less trusted",
         "text": [],
         "type": "scatter",
         "x": [],
         "y": []
        },
        {
         "mode": "lines",
         "name": "8 exp",
         "text": [
          "01-010-0007",
          "01-010-0010",
          "01-010-0025",
          "01-010-0028",
          "01-010-0032",
          "01-010-0034",
          "01-010-0044",
          "01-011-0015",
          "01-011-0037",
          "01-011-0038",
          "01-011-0049",
          "01-011-0061",
          "01-011-0087",
          "02-015-0025",
          "02-016-0014",
          "02-016-0018",
          "02-016-0059",
          "02-143-0016",
          "02-143-0019",
          "02-143-0022",
          "03-019-0049",
          "04-021-0032",
          "04-021-0048",
          "04-022-0067",
          "04-022-0080",
          "04-022-0107",
          "04-022-0117",
          "04-022-0125",
          "04-022-0128",
          "06-024-0010",
          "06-146-0025",
          "06-146-0035"
         ],
         "type": "scatter",
         "x": [
          194,
          89,
          236,
          164,
          148,
          267,
          116,
          209,
          109,
          104,
          237,
          175,
          267,
          145,
          145,
          123,
          101,
          65,
          122,
          124,
          123,
          81,
          118,
          275,
          198,
          176,
          138,
          162,
          231,
          91,
          71,
          83
         ],
         "y": [
          622.546,
          285.601,
          757.3240000000001,
          526.2760000000001,
          474.932,
          856.803,
          372.244,
          670.681,
          349.781,
          333.736,
          760.533,
          561.575,
          856.803,
          465.305,
          465.305,
          394.707,
          324.109,
          208.585,
          391.498,
          397.916,
          394.707,
          259.92900000000003,
          378.66200000000003,
          882.475,
          635.3820000000001,
          564.784,
          442.842,
          519.8580000000001,
          741.279,
          292.019,
          227.839,
          266.347
         ]
        }
       ],
       "layout": {
        "template": {
         "data": {
          "bar": [
           {
            "error_x": {
             "color": "#2a3f5f"
            },
            "error_y": {
             "color": "#2a3f5f"
            },
            "marker": {
             "line": {
              "color": "#E5ECF6",
              "width": 0.5
             }
            },
            "type": "bar"
           }
          ],
          "barpolar": [
           {
            "marker": {
             "line": {
              "color": "#E5ECF6",
              "width": 0.5
             }
            },
            "type": "barpolar"
           }
          ],
          "carpet": [
           {
            "aaxis": {
             "endlinecolor": "#2a3f5f",
             "gridcolor": "white",
             "linecolor": "white",
             "minorgridcolor": "white",
             "startlinecolor": "#2a3f5f"
            },
            "baxis": {
             "endlinecolor": "#2a3f5f",
             "gridcolor": "white",
             "linecolor": "white",
             "minorgridcolor": "white",
             "startlinecolor": "#2a3f5f"
            },
            "type": "carpet"
           }
          ],
          "choropleth": [
           {
            "colorbar": {
             "outlinewidth": 0,
             "ticks": ""
            },
            "type": "choropleth"
           }
          ],
          "contour": [
           {
            "colorbar": {
             "outlinewidth": 0,
             "ticks": ""
            },
            "colorscale": [
             [
              0,
              "#0d0887"
             ],
             [
              0.1111111111111111,
              "#46039f"
             ],
             [
              0.2222222222222222,
              "#7201a8"
             ],
             [
              0.3333333333333333,
              "#9c179e"
             ],
             [
              0.4444444444444444,
              "#bd3786"
             ],
             [
              0.5555555555555556,
              "#d8576b"
             ],
             [
              0.6666666666666666,
              "#ed7953"
             ],
             [
              0.7777777777777778,
              "#fb9f3a"
             ],
             [
              0.8888888888888888,
              "#fdca26"
             ],
             [
              1,
              "#f0f921"
             ]
            ],
            "type": "contour"
           }
          ],
          "contourcarpet": [
           {
            "colorbar": {
             "outlinewidth": 0,
             "ticks": ""
            },
            "type": "contourcarpet"
           }
          ],
          "heatmap": [
           {
            "colorbar": {
             "outlinewidth": 0,
             "ticks": ""
            },
            "colorscale": [
             [
              0,
              "#0d0887"
             ],
             [
              0.1111111111111111,
              "#46039f"
             ],
             [
              0.2222222222222222,
              "#7201a8"
             ],
             [
              0.3333333333333333,
              "#9c179e"
             ],
             [
              0.4444444444444444,
              "#bd3786"
             ],
             [
              0.5555555555555556,
              "#d8576b"
             ],
             [
              0.6666666666666666,
              "#ed7953"
             ],
             [
              0.7777777777777778,
              "#fb9f3a"
             ],
             [
              0.8888888888888888,
              "#fdca26"
             ],
             [
              1,
              "#f0f921"
             ]
            ],
            "type": "heatmap"
           }
          ],
          "heatmapgl": [
           {
            "colorbar": {
             "outlinewidth": 0,
             "ticks": ""
            },
            "colorscale": [
             [
              0,
              "#0d0887"
             ],
             [
              0.1111111111111111,
              "#46039f"
             ],
             [
              0.2222222222222222,
              "#7201a8"
             ],
             [
              0.3333333333333333,
              "#9c179e"
             ],
             [
              0.4444444444444444,
              "#bd3786"
             ],
             [
              0.5555555555555556,
              "#d8576b"
             ],
             [
              0.6666666666666666,
              "#ed7953"
             ],
             [
              0.7777777777777778,
              "#fb9f3a"
             ],
             [
              0.8888888888888888,
              "#fdca26"
             ],
             [
              1,
              "#f0f921"
             ]
            ],
            "type": "heatmapgl"
           }
          ],
          "histogram": [
           {
            "marker": {
             "colorbar": {
              "outlinewidth": 0,
              "ticks": ""
             }
            },
            "type": "histogram"
           }
          ],
          "histogram2d": [
           {
            "colorbar": {
             "outlinewidth": 0,
             "ticks": ""
            },
            "colorscale": [
             [
              0,
              "#0d0887"
             ],
             [
              0.1111111111111111,
              "#46039f"
             ],
             [
              0.2222222222222222,
              "#7201a8"
             ],
             [
              0.3333333333333333,
              "#9c179e"
             ],
             [
              0.4444444444444444,
              "#bd3786"
             ],
             [
              0.5555555555555556,
              "#d8576b"
             ],
             [
              0.6666666666666666,
              "#ed7953"
             ],
             [
              0.7777777777777778,
              "#fb9f3a"
             ],
             [
              0.8888888888888888,
              "#fdca26"
             ],
             [
              1,
              "#f0f921"
             ]
            ],
            "type": "histogram2d"
           }
          ],
          "histogram2dcontour": [
           {
            "colorbar": {
             "outlinewidth": 0,
             "ticks": ""
            },
            "colorscale": [
             [
              0,
              "#0d0887"
             ],
             [
              0.1111111111111111,
              "#46039f"
             ],
             [
              0.2222222222222222,
              "#7201a8"
             ],
             [
              0.3333333333333333,
              "#9c179e"
             ],
             [
              0.4444444444444444,
              "#bd3786"
             ],
             [
              0.5555555555555556,
              "#d8576b"
             ],
             [
              0.6666666666666666,
              "#ed7953"
             ],
             [
              0.7777777777777778,
              "#fb9f3a"
             ],
             [
              0.8888888888888888,
              "#fdca26"
             ],
             [
              1,
              "#f0f921"
             ]
            ],
            "type": "histogram2dcontour"
           }
          ],
          "mesh3d": [
           {
            "colorbar": {
             "outlinewidth": 0,
             "ticks": ""
            },
            "type": "mesh3d"
           }
          ],
          "parcoords": [
           {
            "line": {
             "colorbar": {
              "outlinewidth": 0,
              "ticks": ""
             }
            },
            "type": "parcoords"
           }
          ],
          "pie": [
           {
            "automargin": true,
            "type": "pie"
           }
          ],
          "scatter": [
           {
            "marker": {
             "colorbar": {
              "outlinewidth": 0,
              "ticks": ""
             }
            },
            "type": "scatter"
           }
          ],
          "scatter3d": [
           {
            "line": {
             "colorbar": {
              "outlinewidth": 0,
              "ticks": ""
             }
            },
            "marker": {
             "colorbar": {
              "outlinewidth": 0,
              "ticks": ""
             }
            },
            "type": "scatter3d"
           }
          ],
          "scattercarpet": [
           {
            "marker": {
             "colorbar": {
              "outlinewidth": 0,
              "ticks": ""
             }
            },
            "type": "scattercarpet"
           }
          ],
          "scattergeo": [
           {
            "marker": {
             "colorbar": {
              "outlinewidth": 0,
              "ticks": ""
             }
            },
            "type": "scattergeo"
           }
          ],
          "scattergl": [
           {
            "marker": {
             "colorbar": {
              "outlinewidth": 0,
              "ticks": ""
             }
            },
            "type": "scattergl"
           }
          ],
          "scattermapbox": [
           {
            "marker": {
             "colorbar": {
              "outlinewidth": 0,
              "ticks": ""
             }
            },
            "type": "scattermapbox"
           }
          ],
          "scatterpolar": [
           {
            "marker": {
             "colorbar": {
              "outlinewidth": 0,
              "ticks": ""
             }
            },
            "type": "scatterpolar"
           }
          ],
          "scatterpolargl": [
           {
            "marker": {
             "colorbar": {
              "outlinewidth": 0,
              "ticks": ""
             }
            },
            "type": "scatterpolargl"
           }
          ],
          "scatterternary": [
           {
            "marker": {
             "colorbar": {
              "outlinewidth": 0,
              "ticks": ""
             }
            },
            "type": "scatterternary"
           }
          ],
          "surface": [
           {
            "colorbar": {
             "outlinewidth": 0,
             "ticks": ""
            },
            "colorscale": [
             [
              0,
              "#0d0887"
             ],
             [
              0.1111111111111111,
              "#46039f"
             ],
             [
              0.2222222222222222,
              "#7201a8"
             ],
             [
              0.3333333333333333,
              "#9c179e"
             ],
             [
              0.4444444444444444,
              "#bd3786"
             ],
             [
              0.5555555555555556,
              "#d8576b"
             ],
             [
              0.6666666666666666,
              "#ed7953"
             ],
             [
              0.7777777777777778,
              "#fb9f3a"
             ],
             [
              0.8888888888888888,
              "#fdca26"
             ],
             [
              1,
              "#f0f921"
             ]
            ],
            "type": "surface"
           }
          ],
          "table": [
           {
            "cells": {
             "fill": {
              "color": "#EBF0F8"
             },
             "line": {
              "color": "white"
             }
            },
            "header": {
             "fill": {
              "color": "#C8D4E3"
             },
             "line": {
              "color": "white"
             }
            },
            "type": "table"
           }
          ]
         },
         "layout": {
          "annotationdefaults": {
           "arrowcolor": "#2a3f5f",
           "arrowhead": 0,
           "arrowwidth": 1
          },
          "coloraxis": {
           "colorbar": {
            "outlinewidth": 0,
            "ticks": ""
           }
          },
          "colorscale": {
           "diverging": [
            [
             0,
             "#8e0152"
            ],
            [
             0.1,
             "#c51b7d"
            ],
            [
             0.2,
             "#de77ae"
            ],
            [
             0.3,
             "#f1b6da"
            ],
            [
             0.4,
             "#fde0ef"
            ],
            [
             0.5,
             "#f7f7f7"
            ],
            [
             0.6,
             "#e6f5d0"
            ],
            [
             0.7,
             "#b8e186"
            ],
            [
             0.8,
             "#7fbc41"
            ],
            [
             0.9,
             "#4d9221"
            ],
            [
             1,
             "#276419"
            ]
           ],
           "sequential": [
            [
             0,
             "#0d0887"
            ],
            [
             0.1111111111111111,
             "#46039f"
            ],
            [
             0.2222222222222222,
             "#7201a8"
            ],
            [
             0.3333333333333333,
             "#9c179e"
            ],
            [
             0.4444444444444444,
             "#bd3786"
            ],
            [
             0.5555555555555556,
             "#d8576b"
            ],
            [
             0.6666666666666666,
             "#ed7953"
            ],
            [
             0.7777777777777778,
             "#fb9f3a"
            ],
            [
             0.8888888888888888,
             "#fdca26"
            ],
            [
             1,
             "#f0f921"
            ]
           ],
           "sequentialminus": [
            [
             0,
             "#0d0887"
            ],
            [
             0.1111111111111111,
             "#46039f"
            ],
            [
             0.2222222222222222,
             "#7201a8"
            ],
            [
             0.3333333333333333,
             "#9c179e"
            ],
            [
             0.4444444444444444,
             "#bd3786"
            ],
            [
             0.5555555555555556,
             "#d8576b"
            ],
            [
             0.6666666666666666,
             "#ed7953"
            ],
            [
             0.7777777777777778,
             "#fb9f3a"
            ],
            [
             0.8888888888888888,
             "#fdca26"
            ],
            [
             1,
             "#f0f921"
            ]
           ]
          },
          "colorway": [
           "#636efa",
           "#EF553B",
           "#00cc96",
           "#ab63fa",
           "#FFA15A",
           "#19d3f3",
           "#FF6692",
           "#B6E880",
           "#FF97FF",
           "#FECB52"
          ],
          "font": {
           "color": "#2a3f5f"
          },
          "geo": {
           "bgcolor": "white",
           "lakecolor": "white",
           "landcolor": "#E5ECF6",
           "showlakes": true,
           "showland": true,
           "subunitcolor": "white"
          },
          "hoverlabel": {
           "align": "left"
          },
          "hovermode": "closest",
          "mapbox": {
           "style": "light"
          },
          "paper_bgcolor": "white",
          "plot_bgcolor": "#E5ECF6",
          "polar": {
           "angularaxis": {
            "gridcolor": "white",
            "linecolor": "white",
            "ticks": ""
           },
           "bgcolor": "#E5ECF6",
           "radialaxis": {
            "gridcolor": "white",
            "linecolor": "white",
            "ticks": ""
           }
          },
          "scene": {
           "xaxis": {
            "backgroundcolor": "#E5ECF6",
            "gridcolor": "white",
            "gridwidth": 2,
            "linecolor": "white",
            "showbackground": true,
            "ticks": "",
            "zerolinecolor": "white"
           },
           "yaxis": {
            "backgroundcolor": "#E5ECF6",
            "gridcolor": "white",
            "gridwidth": 2,
            "linecolor": "white",
            "showbackground": true,
            "ticks": "",
            "zerolinecolor": "white"
           },
           "zaxis": {
            "backgroundcolor": "#E5ECF6",
            "gridcolor": "white",
            "gridwidth": 2,
            "linecolor": "white",
            "showbackground": true,
            "ticks": "",
            "zerolinecolor": "white"
           }
          },
          "shapedefaults": {
           "line": {
            "color": "#2a3f5f"
           }
          },
          "ternary": {
           "aaxis": {
            "gridcolor": "white",
            "linecolor": "white",
            "ticks": ""
           },
           "baxis": {
            "gridcolor": "white",
            "linecolor": "white",
            "ticks": ""
           },
           "bgcolor": "#E5ECF6",
           "caxis": {
            "gridcolor": "white",
            "linecolor": "white",
            "ticks": ""
           }
          },
          "title": {
           "x": 0.05
          },
          "xaxis": {
           "automargin": true,
           "gridcolor": "white",
           "linecolor": "white",
           "ticks": "",
           "title": {
            "standoff": 15
           },
           "zerolinecolor": "white",
           "zerolinewidth": 2
          },
          "yaxis": {
           "automargin": true,
           "gridcolor": "white",
           "linecolor": "white",
           "ticks": "",
           "title": {
            "standoff": 15
           },
           "zerolinecolor": "white",
           "zerolinewidth": 2
          }
         }
        },
        "xaxis": {
         "title": {
          "text": "Photos"
         }
        },
        "yaxis": {
         "title": {
          "text": "People voted for Tsihanouskaya"
         }
        }
       }
      },
      "text/html": [
       "<div>\n",
       "        \n",
       "        \n",
       "            <div id=\"5d4d03f2-4c26-40a7-a1c3-01b8ec2773fb\" class=\"plotly-graph-div\" style=\"height:525px; width:100%;\"></div>\n",
       "            <script type=\"text/javascript\">\n",
       "                require([\"plotly\"], function(Plotly) {\n",
       "                    window.PLOTLYENV=window.PLOTLYENV || {};\n",
       "                    \n",
       "                if (document.getElementById(\"5d4d03f2-4c26-40a7-a1c3-01b8ec2773fb\")) {\n",
       "                    Plotly.newPlot(\n",
       "                        '5d4d03f2-4c26-40a7-a1c3-01b8ec2773fb',\n",
       "                        [{\"mode\": \"markers\", \"name\": \"1 more trusted\", \"text\": [\"01-010-0007\", \"01-010-0010\", \"01-010-0025\", \"01-010-0028\", \"01-010-0032\", \"01-010-0034\", \"01-010-0044\", \"01-011-0015\", \"01-011-0037\", \"01-011-0038\", \"01-011-0049\", \"01-011-0061\", \"01-011-0087\"], \"type\": \"scatter\", \"x\": [194, 89, 236, 164, 148, 267, 116, 209, 109, 104, 237, 175, 267], \"y\": [1010.0, 443.0, 1107.0, 764.0, 711.0, 1223.0, 473.0, 1113.0, 543.0, 510.0, 1055.0, 869.0, 1155.0]}, {\"mode\": \"markers\", \"name\": \"1 less trusted\", \"text\": [\"01-010-0007\", \"01-010-0010\", \"01-010-0025\", \"01-010-0028\", \"01-010-0032\", \"01-010-0034\", \"01-010-0044\", \"01-011-0015\", \"01-011-0037\", \"01-011-0038\", \"01-011-0049\", \"01-011-0061\", \"01-011-0087\"], \"type\": \"scatter\", \"x\": [], \"y\": []}, {\"mode\": \"markers\", \"name\": \"2 more trusted\", \"text\": [\"02-015-0025\", \"02-016-0014\", \"02-016-0018\", \"02-016-0059\", \"02-143-0016\", \"02-143-0019\", \"02-143-0022\"], \"type\": \"scatter\", \"x\": [145, 145, 123, 101, 65, 122, 124], \"y\": [672.0, 666.0, 674.0, 311.0, 531.0, 764.0, 470.0]}, {\"mode\": \"markers\", \"name\": \"2 less trusted\", \"text\": [\"02-015-0025\", \"02-016-0014\", \"02-016-0018\", \"02-016-0059\", \"02-143-0016\", \"02-143-0019\", \"02-143-0022\"], \"type\": \"scatter\", \"x\": [], \"y\": []}, {\"mode\": \"markers\", \"name\": \"3 more trusted\", \"text\": [\"03-019-0049\"], \"type\": \"scatter\", \"x\": [123], \"y\": [620.0]}, {\"mode\": \"markers\", \"name\": \"3 less trusted\", \"text\": [\"03-019-0049\"], \"type\": \"scatter\", \"x\": [], \"y\": []}, {\"mode\": \"markers\", \"name\": \"4 more trusted\", \"text\": [\"04-021-0032\", \"04-021-0048\", \"04-022-0067\", \"04-022-0080\", \"04-022-0107\", \"04-022-0117\", \"04-022-0125\", \"04-022-0128\"], \"type\": \"scatter\", \"x\": [81, 118, 275, 198, 138, 162, 231], \"y\": [301.0, 620.0, 1002.0, 955.0, 819.0, 709.0, 930.0]}, {\"mode\": \"markers\", \"name\": \"4 less trusted\", \"text\": [\"04-021-0032\", \"04-021-0048\", \"04-022-0067\", \"04-022-0080\", \"04-022-0107\", \"04-022-0117\", \"04-022-0125\", \"04-022-0128\"], \"type\": \"scatter\", \"x\": [176], \"y\": [709.0]}, {\"mode\": \"markers\", \"name\": \"5 more trusted\", \"text\": [], \"type\": \"scatter\", \"x\": [], \"y\": []}, {\"mode\": \"markers\", \"name\": \"5 less trusted\", \"text\": [], \"type\": \"scatter\", \"x\": [], \"y\": []}, {\"mode\": \"markers\", \"name\": \"6 more trusted\", \"text\": [\"06-024-0010\", \"06-146-0025\", \"06-146-0035\"], \"type\": \"scatter\", \"x\": [91, 71, 83], \"y\": [439.0, 440.0, 424.0]}, {\"mode\": \"markers\", \"name\": \"6 less trusted\", \"text\": [\"06-024-0010\", \"06-146-0025\", \"06-146-0035\"], \"type\": \"scatter\", \"x\": [], \"y\": []}, {\"mode\": \"markers\", \"name\": \"7 more trusted\", \"text\": [], \"type\": \"scatter\", \"x\": [], \"y\": []}, {\"mode\": \"markers\", \"name\": \"7 less trusted\", \"text\": [], \"type\": \"scatter\", \"x\": [], \"y\": []}, {\"mode\": \"markers\", \"name\": \"8 more trusted\", \"text\": [], \"type\": \"scatter\", \"x\": [], \"y\": []}, {\"mode\": \"markers\", \"name\": \"8 less trusted\", \"text\": [], \"type\": \"scatter\", \"x\": [], \"y\": []}, {\"mode\": \"lines\", \"name\": \"8 exp\", \"text\": [\"01-010-0007\", \"01-010-0010\", \"01-010-0025\", \"01-010-0028\", \"01-010-0032\", \"01-010-0034\", \"01-010-0044\", \"01-011-0015\", \"01-011-0037\", \"01-011-0038\", \"01-011-0049\", \"01-011-0061\", \"01-011-0087\", \"02-015-0025\", \"02-016-0014\", \"02-016-0018\", \"02-016-0059\", \"02-143-0016\", \"02-143-0019\", \"02-143-0022\", \"03-019-0049\", \"04-021-0032\", \"04-021-0048\", \"04-022-0067\", \"04-022-0080\", \"04-022-0107\", \"04-022-0117\", \"04-022-0125\", \"04-022-0128\", \"06-024-0010\", \"06-146-0025\", \"06-146-0035\"], \"type\": \"scatter\", \"x\": [194, 89, 236, 164, 148, 267, 116, 209, 109, 104, 237, 175, 267, 145, 145, 123, 101, 65, 122, 124, 123, 81, 118, 275, 198, 176, 138, 162, 231, 91, 71, 83], \"y\": [622.546, 285.601, 757.3240000000001, 526.2760000000001, 474.932, 856.803, 372.244, 670.681, 349.781, 333.736, 760.533, 561.575, 856.803, 465.305, 465.305, 394.707, 324.109, 208.585, 391.498, 397.916, 394.707, 259.92900000000003, 378.66200000000003, 882.475, 635.3820000000001, 564.784, 442.842, 519.8580000000001, 741.279, 292.019, 227.839, 266.347]}],\n",
       "                        {\"template\": {\"data\": {\"bar\": [{\"error_x\": {\"color\": \"#2a3f5f\"}, \"error_y\": {\"color\": \"#2a3f5f\"}, \"marker\": {\"line\": {\"color\": \"#E5ECF6\", \"width\": 0.5}}, \"type\": \"bar\"}], \"barpolar\": [{\"marker\": {\"line\": {\"color\": \"#E5ECF6\", \"width\": 0.5}}, \"type\": \"barpolar\"}], \"carpet\": [{\"aaxis\": {\"endlinecolor\": \"#2a3f5f\", \"gridcolor\": \"white\", \"linecolor\": \"white\", \"minorgridcolor\": \"white\", \"startlinecolor\": \"#2a3f5f\"}, \"baxis\": {\"endlinecolor\": \"#2a3f5f\", \"gridcolor\": \"white\", \"linecolor\": \"white\", \"minorgridcolor\": \"white\", \"startlinecolor\": \"#2a3f5f\"}, \"type\": \"carpet\"}], \"choropleth\": [{\"colorbar\": {\"outlinewidth\": 0, \"ticks\": \"\"}, \"type\": \"choropleth\"}], \"contour\": [{\"colorbar\": {\"outlinewidth\": 0, \"ticks\": \"\"}, \"colorscale\": [[0.0, \"#0d0887\"], [0.1111111111111111, \"#46039f\"], [0.2222222222222222, \"#7201a8\"], [0.3333333333333333, \"#9c179e\"], [0.4444444444444444, \"#bd3786\"], [0.5555555555555556, \"#d8576b\"], [0.6666666666666666, \"#ed7953\"], [0.7777777777777778, \"#fb9f3a\"], [0.8888888888888888, \"#fdca26\"], [1.0, \"#f0f921\"]], \"type\": \"contour\"}], \"contourcarpet\": [{\"colorbar\": {\"outlinewidth\": 0, \"ticks\": \"\"}, \"type\": \"contourcarpet\"}], \"heatmap\": [{\"colorbar\": {\"outlinewidth\": 0, \"ticks\": \"\"}, \"colorscale\": [[0.0, \"#0d0887\"], [0.1111111111111111, \"#46039f\"], [0.2222222222222222, \"#7201a8\"], [0.3333333333333333, \"#9c179e\"], [0.4444444444444444, \"#bd3786\"], [0.5555555555555556, \"#d8576b\"], [0.6666666666666666, \"#ed7953\"], [0.7777777777777778, \"#fb9f3a\"], [0.8888888888888888, \"#fdca26\"], [1.0, \"#f0f921\"]], \"type\": \"heatmap\"}], \"heatmapgl\": [{\"colorbar\": {\"outlinewidth\": 0, \"ticks\": \"\"}, \"colorscale\": [[0.0, \"#0d0887\"], [0.1111111111111111, \"#46039f\"], [0.2222222222222222, \"#7201a8\"], [0.3333333333333333, \"#9c179e\"], [0.4444444444444444, \"#bd3786\"], [0.5555555555555556, \"#d8576b\"], [0.6666666666666666, \"#ed7953\"], [0.7777777777777778, \"#fb9f3a\"], [0.8888888888888888, \"#fdca26\"], [1.0, \"#f0f921\"]], \"type\": \"heatmapgl\"}], \"histogram\": [{\"marker\": {\"colorbar\": {\"outlinewidth\": 0, \"ticks\": \"\"}}, \"type\": \"histogram\"}], \"histogram2d\": [{\"colorbar\": {\"outlinewidth\": 0, \"ticks\": \"\"}, \"colorscale\": [[0.0, \"#0d0887\"], [0.1111111111111111, \"#46039f\"], [0.2222222222222222, \"#7201a8\"], [0.3333333333333333, \"#9c179e\"], [0.4444444444444444, \"#bd3786\"], [0.5555555555555556, \"#d8576b\"], [0.6666666666666666, \"#ed7953\"], [0.7777777777777778, \"#fb9f3a\"], [0.8888888888888888, \"#fdca26\"], [1.0, \"#f0f921\"]], \"type\": \"histogram2d\"}], \"histogram2dcontour\": [{\"colorbar\": {\"outlinewidth\": 0, \"ticks\": \"\"}, \"colorscale\": [[0.0, \"#0d0887\"], [0.1111111111111111, \"#46039f\"], [0.2222222222222222, \"#7201a8\"], [0.3333333333333333, \"#9c179e\"], [0.4444444444444444, \"#bd3786\"], [0.5555555555555556, \"#d8576b\"], [0.6666666666666666, \"#ed7953\"], [0.7777777777777778, \"#fb9f3a\"], [0.8888888888888888, \"#fdca26\"], [1.0, \"#f0f921\"]], \"type\": \"histogram2dcontour\"}], \"mesh3d\": [{\"colorbar\": {\"outlinewidth\": 0, \"ticks\": \"\"}, \"type\": \"mesh3d\"}], \"parcoords\": [{\"line\": {\"colorbar\": {\"outlinewidth\": 0, \"ticks\": \"\"}}, \"type\": \"parcoords\"}], \"pie\": [{\"automargin\": true, \"type\": \"pie\"}], \"scatter\": [{\"marker\": {\"colorbar\": {\"outlinewidth\": 0, \"ticks\": \"\"}}, \"type\": \"scatter\"}], \"scatter3d\": [{\"line\": {\"colorbar\": {\"outlinewidth\": 0, \"ticks\": \"\"}}, \"marker\": {\"colorbar\": {\"outlinewidth\": 0, \"ticks\": \"\"}}, \"type\": \"scatter3d\"}], \"scattercarpet\": [{\"marker\": {\"colorbar\": {\"outlinewidth\": 0, \"ticks\": \"\"}}, \"type\": \"scattercarpet\"}], \"scattergeo\": [{\"marker\": {\"colorbar\": {\"outlinewidth\": 0, \"ticks\": \"\"}}, \"type\": \"scattergeo\"}], \"scattergl\": [{\"marker\": {\"colorbar\": {\"outlinewidth\": 0, \"ticks\": \"\"}}, \"type\": \"scattergl\"}], \"scattermapbox\": [{\"marker\": {\"colorbar\": {\"outlinewidth\": 0, \"ticks\": \"\"}}, \"type\": \"scattermapbox\"}], \"scatterpolar\": [{\"marker\": {\"colorbar\": {\"outlinewidth\": 0, \"ticks\": \"\"}}, \"type\": \"scatterpolar\"}], \"scatterpolargl\": [{\"marker\": {\"colorbar\": {\"outlinewidth\": 0, \"ticks\": \"\"}}, \"type\": \"scatterpolargl\"}], \"scatterternary\": [{\"marker\": {\"colorbar\": {\"outlinewidth\": 0, \"ticks\": \"\"}}, \"type\": \"scatterternary\"}], \"surface\": [{\"colorbar\": {\"outlinewidth\": 0, \"ticks\": \"\"}, \"colorscale\": [[0.0, \"#0d0887\"], [0.1111111111111111, \"#46039f\"], [0.2222222222222222, \"#7201a8\"], [0.3333333333333333, \"#9c179e\"], [0.4444444444444444, \"#bd3786\"], [0.5555555555555556, \"#d8576b\"], [0.6666666666666666, \"#ed7953\"], [0.7777777777777778, \"#fb9f3a\"], [0.8888888888888888, \"#fdca26\"], [1.0, \"#f0f921\"]], \"type\": \"surface\"}], \"table\": [{\"cells\": {\"fill\": {\"color\": \"#EBF0F8\"}, \"line\": {\"color\": \"white\"}}, \"header\": {\"fill\": {\"color\": \"#C8D4E3\"}, \"line\": {\"color\": \"white\"}}, \"type\": \"table\"}]}, \"layout\": {\"annotationdefaults\": {\"arrowcolor\": \"#2a3f5f\", \"arrowhead\": 0, \"arrowwidth\": 1}, \"coloraxis\": {\"colorbar\": {\"outlinewidth\": 0, \"ticks\": \"\"}}, \"colorscale\": {\"diverging\": [[0, \"#8e0152\"], [0.1, \"#c51b7d\"], [0.2, \"#de77ae\"], [0.3, \"#f1b6da\"], [0.4, \"#fde0ef\"], [0.5, \"#f7f7f7\"], [0.6, \"#e6f5d0\"], [0.7, \"#b8e186\"], [0.8, \"#7fbc41\"], [0.9, \"#4d9221\"], [1, \"#276419\"]], \"sequential\": [[0.0, \"#0d0887\"], [0.1111111111111111, \"#46039f\"], [0.2222222222222222, \"#7201a8\"], [0.3333333333333333, \"#9c179e\"], [0.4444444444444444, \"#bd3786\"], [0.5555555555555556, \"#d8576b\"], [0.6666666666666666, \"#ed7953\"], [0.7777777777777778, \"#fb9f3a\"], [0.8888888888888888, \"#fdca26\"], [1.0, \"#f0f921\"]], \"sequentialminus\": [[0.0, \"#0d0887\"], [0.1111111111111111, \"#46039f\"], [0.2222222222222222, \"#7201a8\"], [0.3333333333333333, \"#9c179e\"], [0.4444444444444444, \"#bd3786\"], [0.5555555555555556, \"#d8576b\"], [0.6666666666666666, \"#ed7953\"], [0.7777777777777778, \"#fb9f3a\"], [0.8888888888888888, \"#fdca26\"], [1.0, \"#f0f921\"]]}, \"colorway\": [\"#636efa\", \"#EF553B\", \"#00cc96\", \"#ab63fa\", \"#FFA15A\", \"#19d3f3\", \"#FF6692\", \"#B6E880\", \"#FF97FF\", \"#FECB52\"], \"font\": {\"color\": \"#2a3f5f\"}, \"geo\": {\"bgcolor\": \"white\", \"lakecolor\": \"white\", \"landcolor\": \"#E5ECF6\", \"showlakes\": true, \"showland\": true, \"subunitcolor\": \"white\"}, \"hoverlabel\": {\"align\": \"left\"}, \"hovermode\": \"closest\", \"mapbox\": {\"style\": \"light\"}, \"paper_bgcolor\": \"white\", \"plot_bgcolor\": \"#E5ECF6\", \"polar\": {\"angularaxis\": {\"gridcolor\": \"white\", \"linecolor\": \"white\", \"ticks\": \"\"}, \"bgcolor\": \"#E5ECF6\", \"radialaxis\": {\"gridcolor\": \"white\", \"linecolor\": \"white\", \"ticks\": \"\"}}, \"scene\": {\"xaxis\": {\"backgroundcolor\": \"#E5ECF6\", \"gridcolor\": \"white\", \"gridwidth\": 2, \"linecolor\": \"white\", \"showbackground\": true, \"ticks\": \"\", \"zerolinecolor\": \"white\"}, \"yaxis\": {\"backgroundcolor\": \"#E5ECF6\", \"gridcolor\": \"white\", \"gridwidth\": 2, \"linecolor\": \"white\", \"showbackground\": true, \"ticks\": \"\", \"zerolinecolor\": \"white\"}, \"zaxis\": {\"backgroundcolor\": \"#E5ECF6\", \"gridcolor\": \"white\", \"gridwidth\": 2, \"linecolor\": \"white\", \"showbackground\": true, \"ticks\": \"\", \"zerolinecolor\": \"white\"}}, \"shapedefaults\": {\"line\": {\"color\": \"#2a3f5f\"}}, \"ternary\": {\"aaxis\": {\"gridcolor\": \"white\", \"linecolor\": \"white\", \"ticks\": \"\"}, \"baxis\": {\"gridcolor\": \"white\", \"linecolor\": \"white\", \"ticks\": \"\"}, \"bgcolor\": \"#E5ECF6\", \"caxis\": {\"gridcolor\": \"white\", \"linecolor\": \"white\", \"ticks\": \"\"}}, \"title\": {\"x\": 0.05}, \"xaxis\": {\"automargin\": true, \"gridcolor\": \"white\", \"linecolor\": \"white\", \"ticks\": \"\", \"title\": {\"standoff\": 15}, \"zerolinecolor\": \"white\", \"zerolinewidth\": 2}, \"yaxis\": {\"automargin\": true, \"gridcolor\": \"white\", \"linecolor\": \"white\", \"ticks\": \"\", \"title\": {\"standoff\": 15}, \"zerolinecolor\": \"white\", \"zerolinewidth\": 2}}}, \"xaxis\": {\"title\": {\"text\": \"Photos\"}}, \"yaxis\": {\"title\": {\"text\": \"People voted for Tsihanouskaya\"}}},\n",
       "                        {\"responsive\": true}\n",
       "                    ).then(function(){\n",
       "                            \n",
       "var gd = document.getElementById('5d4d03f2-4c26-40a7-a1c3-01b8ec2773fb');\n",
       "var x = new MutationObserver(function (mutations, observer) {{\n",
       "        var display = window.getComputedStyle(gd).display;\n",
       "        if (!display || display === 'none') {{\n",
       "            console.log([gd, 'removed!']);\n",
       "            Plotly.purge(gd);\n",
       "            observer.disconnect();\n",
       "        }}\n",
       "}});\n",
       "\n",
       "// Listen for the removal of the full notebook cells\n",
       "var notebookContainer = gd.closest('#notebook-container');\n",
       "if (notebookContainer) {{\n",
       "    x.observe(notebookContainer, {childList: true});\n",
       "}}\n",
       "\n",
       "// Listen for the clearing of the current output cell\n",
       "var outputEl = gd.closest('.output');\n",
       "if (outputEl) {{\n",
       "    x.observe(outputEl, {childList: true});\n",
       "}}\n",
       "\n",
       "                        })\n",
       "                };\n",
       "                });\n",
       "            </script>\n",
       "        </div>"
      ]
     },
     "metadata": {},
     "output_type": "display_data"
    }
   ],
   "source": [
    "tih_photo('city', 3.209)"
   ]
  },
  {
   "cell_type": "code",
   "execution_count": 142,
   "metadata": {},
   "outputs": [
    {
     "data": {
      "application/vnd.plotly.v1+json": {
       "config": {
        "plotlyServerURL": "https://plot.ly"
       },
       "data": [
        {
         "mode": "markers",
         "name": "1 more trusted",
         "text": [],
         "type": "scatter",
         "x": [],
         "y": []
        },
        {
         "mode": "markers",
         "name": "1 less trusted",
         "text": [],
         "type": "scatter",
         "x": [],
         "y": []
        },
        {
         "mode": "markers",
         "name": "2 more trusted",
         "text": [],
         "type": "scatter",
         "x": [],
         "y": []
        },
        {
         "mode": "markers",
         "name": "2 less trusted",
         "text": [],
         "type": "scatter",
         "x": [],
         "y": []
        },
        {
         "mode": "markers",
         "name": "3 more trusted",
         "text": [],
         "type": "scatter",
         "x": [],
         "y": []
        },
        {
         "mode": "markers",
         "name": "3 less trusted",
         "text": [],
         "type": "scatter",
         "x": [],
         "y": []
        },
        {
         "mode": "markers",
         "name": "4 more trusted",
         "text": [],
         "type": "scatter",
         "x": [],
         "y": []
        },
        {
         "mode": "markers",
         "name": "4 less trusted",
         "text": [],
         "type": "scatter",
         "x": [],
         "y": []
        },
        {
         "mode": "markers",
         "name": "5 more trusted",
         "text": [],
         "type": "scatter",
         "x": [],
         "y": []
        },
        {
         "mode": "markers",
         "name": "5 less trusted",
         "text": [],
         "type": "scatter",
         "x": [],
         "y": []
        },
        {
         "mode": "markers",
         "name": "6 more trusted",
         "text": [],
         "type": "scatter",
         "x": [],
         "y": []
        },
        {
         "mode": "markers",
         "name": "6 less trusted",
         "text": [],
         "type": "scatter",
         "x": [],
         "y": []
        },
        {
         "mode": "markers",
         "name": "7 more trusted",
         "text": [
          "07-001-0005",
          "07-001-0008",
          "07-001-0010",
          "07-001-0012",
          "07-001-0016",
          "07-001-0022",
          "07-001-0060",
          "07-001-0089",
          "07-002-0017",
          "07-002-0044",
          "07-002-0051",
          "07-002-0060",
          "07-002-0072",
          "07-003-0002",
          "07-003-0024",
          "07-003-0058",
          "07-003-0061",
          "07-003-0085",
          "07-003-0094",
          "07-004-0002",
          "07-004-0004",
          "07-004-0005",
          "07-004-0006",
          "07-004-0007",
          "07-004-0018",
          "07-004-0026",
          "07-004-0051",
          "07-005-0002",
          "07-005-0007",
          "07-005-0021",
          "07-005-0026",
          "07-005-0034",
          "07-005-0037",
          "07-006-0008",
          "07-006-0037",
          "07-006-0072",
          "07-008-0057",
          "07-008-0070",
          "07-008-0079",
          "07-009-0014"
         ],
         "type": "scatter",
         "x": [
          160,
          188,
          114,
          184,
          184,
          175,
          354,
          201,
          298,
          189,
          244,
          199,
          304,
          246,
          274,
          306,
          399,
          365,
          214,
          205,
          217,
          285,
          249,
          7,
          295,
          308,
          348,
          714,
          278,
          293,
          276,
          790,
          234,
          206
         ],
         "y": [
          615,
          751,
          500,
          402,
          561,
          465,
          1006,
          339,
          469,
          550,
          476,
          430,
          815,
          686,
          541,
          880,
          928,
          1121,
          420,
          510,
          581,
          460,
          713,
          69,
          480,
          704,
          1259,
          1869,
          848,
          605,
          539,
          1979,
          394,
          707
         ]
        },
        {
         "mode": "markers",
         "name": "7 less trusted",
         "text": [
          "07-001-0005",
          "07-001-0008",
          "07-001-0010",
          "07-001-0012",
          "07-001-0016",
          "07-001-0022",
          "07-001-0060",
          "07-001-0089",
          "07-002-0017",
          "07-002-0044",
          "07-002-0051",
          "07-002-0060",
          "07-002-0072",
          "07-003-0002",
          "07-003-0024",
          "07-003-0058",
          "07-003-0061",
          "07-003-0085",
          "07-003-0094",
          "07-004-0002",
          "07-004-0004",
          "07-004-0005",
          "07-004-0006",
          "07-004-0007",
          "07-004-0018",
          "07-004-0026",
          "07-004-0051",
          "07-005-0002",
          "07-005-0007",
          "07-005-0021",
          "07-005-0026",
          "07-005-0034",
          "07-005-0037",
          "07-006-0008",
          "07-006-0037",
          "07-006-0072",
          "07-008-0057",
          "07-008-0070",
          "07-008-0079",
          "07-009-0014"
         ],
         "type": "scatter",
         "x": [
          136,
          278,
          252,
          400,
          280,
          218
         ],
         "y": [
          644,
          974,
          757,
          1226,
          890,
          782
         ]
        },
        {
         "mode": "markers",
         "name": "8 more trusted",
         "text": [],
         "type": "scatter",
         "x": [],
         "y": []
        },
        {
         "mode": "markers",
         "name": "8 less trusted",
         "text": [],
         "type": "scatter",
         "x": [],
         "y": []
        },
        {
         "mode": "lines",
         "name": "8 exp",
         "text": [
          "07-001-0005",
          "07-001-0008",
          "07-001-0010",
          "07-001-0012",
          "07-001-0016",
          "07-001-0022",
          "07-001-0060",
          "07-001-0089",
          "07-002-0017",
          "07-002-0044",
          "07-002-0051",
          "07-002-0060",
          "07-002-0072",
          "07-003-0002",
          "07-003-0024",
          "07-003-0058",
          "07-003-0061",
          "07-003-0085",
          "07-003-0094",
          "07-004-0002",
          "07-004-0004",
          "07-004-0005",
          "07-004-0006",
          "07-004-0007",
          "07-004-0018",
          "07-004-0026",
          "07-004-0051",
          "07-005-0002",
          "07-005-0007",
          "07-005-0021",
          "07-005-0026",
          "07-005-0034",
          "07-005-0037",
          "07-006-0008",
          "07-006-0037",
          "07-006-0072",
          "07-008-0057",
          "07-008-0070",
          "07-008-0079",
          "07-009-0014"
         ],
         "type": "scatter",
         "x": [
          136,
          160,
          188,
          114,
          184,
          184,
          175,
          354,
          201,
          298,
          189,
          244,
          199,
          304,
          246,
          274,
          306,
          399,
          365,
          214,
          205,
          278,
          217,
          285,
          252,
          249,
          400,
          7,
          280,
          295,
          308,
          218,
          348,
          714,
          278,
          293,
          276,
          790,
          234,
          206
         ],
         "y": [
          318.24,
          374.4,
          439.91999999999996,
          266.76,
          430.55999999999995,
          430.55999999999995,
          409.5,
          828.3599999999999,
          470.34,
          697.3199999999999,
          442.26,
          570.9599999999999,
          465.65999999999997,
          711.3599999999999,
          575.64,
          641.16,
          716.04,
          933.66,
          854.0999999999999,
          500.76,
          479.7,
          650.52,
          507.78,
          666.9,
          589.68,
          582.66,
          936,
          16.38,
          655.1999999999999,
          690.3,
          720.7199999999999,
          510.11999999999995,
          814.3199999999999,
          1670.76,
          650.52,
          685.62,
          645.8399999999999,
          1848.6,
          547.56,
          482.03999999999996
         ]
        }
       ],
       "layout": {
        "template": {
         "data": {
          "bar": [
           {
            "error_x": {
             "color": "#2a3f5f"
            },
            "error_y": {
             "color": "#2a3f5f"
            },
            "marker": {
             "line": {
              "color": "#E5ECF6",
              "width": 0.5
             }
            },
            "type": "bar"
           }
          ],
          "barpolar": [
           {
            "marker": {
             "line": {
              "color": "#E5ECF6",
              "width": 0.5
             }
            },
            "type": "barpolar"
           }
          ],
          "carpet": [
           {
            "aaxis": {
             "endlinecolor": "#2a3f5f",
             "gridcolor": "white",
             "linecolor": "white",
             "minorgridcolor": "white",
             "startlinecolor": "#2a3f5f"
            },
            "baxis": {
             "endlinecolor": "#2a3f5f",
             "gridcolor": "white",
             "linecolor": "white",
             "minorgridcolor": "white",
             "startlinecolor": "#2a3f5f"
            },
            "type": "carpet"
           }
          ],
          "choropleth": [
           {
            "colorbar": {
             "outlinewidth": 0,
             "ticks": ""
            },
            "type": "choropleth"
           }
          ],
          "contour": [
           {
            "colorbar": {
             "outlinewidth": 0,
             "ticks": ""
            },
            "colorscale": [
             [
              0,
              "#0d0887"
             ],
             [
              0.1111111111111111,
              "#46039f"
             ],
             [
              0.2222222222222222,
              "#7201a8"
             ],
             [
              0.3333333333333333,
              "#9c179e"
             ],
             [
              0.4444444444444444,
              "#bd3786"
             ],
             [
              0.5555555555555556,
              "#d8576b"
             ],
             [
              0.6666666666666666,
              "#ed7953"
             ],
             [
              0.7777777777777778,
              "#fb9f3a"
             ],
             [
              0.8888888888888888,
              "#fdca26"
             ],
             [
              1,
              "#f0f921"
             ]
            ],
            "type": "contour"
           }
          ],
          "contourcarpet": [
           {
            "colorbar": {
             "outlinewidth": 0,
             "ticks": ""
            },
            "type": "contourcarpet"
           }
          ],
          "heatmap": [
           {
            "colorbar": {
             "outlinewidth": 0,
             "ticks": ""
            },
            "colorscale": [
             [
              0,
              "#0d0887"
             ],
             [
              0.1111111111111111,
              "#46039f"
             ],
             [
              0.2222222222222222,
              "#7201a8"
             ],
             [
              0.3333333333333333,
              "#9c179e"
             ],
             [
              0.4444444444444444,
              "#bd3786"
             ],
             [
              0.5555555555555556,
              "#d8576b"
             ],
             [
              0.6666666666666666,
              "#ed7953"
             ],
             [
              0.7777777777777778,
              "#fb9f3a"
             ],
             [
              0.8888888888888888,
              "#fdca26"
             ],
             [
              1,
              "#f0f921"
             ]
            ],
            "type": "heatmap"
           }
          ],
          "heatmapgl": [
           {
            "colorbar": {
             "outlinewidth": 0,
             "ticks": ""
            },
            "colorscale": [
             [
              0,
              "#0d0887"
             ],
             [
              0.1111111111111111,
              "#46039f"
             ],
             [
              0.2222222222222222,
              "#7201a8"
             ],
             [
              0.3333333333333333,
              "#9c179e"
             ],
             [
              0.4444444444444444,
              "#bd3786"
             ],
             [
              0.5555555555555556,
              "#d8576b"
             ],
             [
              0.6666666666666666,
              "#ed7953"
             ],
             [
              0.7777777777777778,
              "#fb9f3a"
             ],
             [
              0.8888888888888888,
              "#fdca26"
             ],
             [
              1,
              "#f0f921"
             ]
            ],
            "type": "heatmapgl"
           }
          ],
          "histogram": [
           {
            "marker": {
             "colorbar": {
              "outlinewidth": 0,
              "ticks": ""
             }
            },
            "type": "histogram"
           }
          ],
          "histogram2d": [
           {
            "colorbar": {
             "outlinewidth": 0,
             "ticks": ""
            },
            "colorscale": [
             [
              0,
              "#0d0887"
             ],
             [
              0.1111111111111111,
              "#46039f"
             ],
             [
              0.2222222222222222,
              "#7201a8"
             ],
             [
              0.3333333333333333,
              "#9c179e"
             ],
             [
              0.4444444444444444,
              "#bd3786"
             ],
             [
              0.5555555555555556,
              "#d8576b"
             ],
             [
              0.6666666666666666,
              "#ed7953"
             ],
             [
              0.7777777777777778,
              "#fb9f3a"
             ],
             [
              0.8888888888888888,
              "#fdca26"
             ],
             [
              1,
              "#f0f921"
             ]
            ],
            "type": "histogram2d"
           }
          ],
          "histogram2dcontour": [
           {
            "colorbar": {
             "outlinewidth": 0,
             "ticks": ""
            },
            "colorscale": [
             [
              0,
              "#0d0887"
             ],
             [
              0.1111111111111111,
              "#46039f"
             ],
             [
              0.2222222222222222,
              "#7201a8"
             ],
             [
              0.3333333333333333,
              "#9c179e"
             ],
             [
              0.4444444444444444,
              "#bd3786"
             ],
             [
              0.5555555555555556,
              "#d8576b"
             ],
             [
              0.6666666666666666,
              "#ed7953"
             ],
             [
              0.7777777777777778,
              "#fb9f3a"
             ],
             [
              0.8888888888888888,
              "#fdca26"
             ],
             [
              1,
              "#f0f921"
             ]
            ],
            "type": "histogram2dcontour"
           }
          ],
          "mesh3d": [
           {
            "colorbar": {
             "outlinewidth": 0,
             "ticks": ""
            },
            "type": "mesh3d"
           }
          ],
          "parcoords": [
           {
            "line": {
             "colorbar": {
              "outlinewidth": 0,
              "ticks": ""
             }
            },
            "type": "parcoords"
           }
          ],
          "pie": [
           {
            "automargin": true,
            "type": "pie"
           }
          ],
          "scatter": [
           {
            "marker": {
             "colorbar": {
              "outlinewidth": 0,
              "ticks": ""
             }
            },
            "type": "scatter"
           }
          ],
          "scatter3d": [
           {
            "line": {
             "colorbar": {
              "outlinewidth": 0,
              "ticks": ""
             }
            },
            "marker": {
             "colorbar": {
              "outlinewidth": 0,
              "ticks": ""
             }
            },
            "type": "scatter3d"
           }
          ],
          "scattercarpet": [
           {
            "marker": {
             "colorbar": {
              "outlinewidth": 0,
              "ticks": ""
             }
            },
            "type": "scattercarpet"
           }
          ],
          "scattergeo": [
           {
            "marker": {
             "colorbar": {
              "outlinewidth": 0,
              "ticks": ""
             }
            },
            "type": "scattergeo"
           }
          ],
          "scattergl": [
           {
            "marker": {
             "colorbar": {
              "outlinewidth": 0,
              "ticks": ""
             }
            },
            "type": "scattergl"
           }
          ],
          "scattermapbox": [
           {
            "marker": {
             "colorbar": {
              "outlinewidth": 0,
              "ticks": ""
             }
            },
            "type": "scattermapbox"
           }
          ],
          "scatterpolar": [
           {
            "marker": {
             "colorbar": {
              "outlinewidth": 0,
              "ticks": ""
             }
            },
            "type": "scatterpolar"
           }
          ],
          "scatterpolargl": [
           {
            "marker": {
             "colorbar": {
              "outlinewidth": 0,
              "ticks": ""
             }
            },
            "type": "scatterpolargl"
           }
          ],
          "scatterternary": [
           {
            "marker": {
             "colorbar": {
              "outlinewidth": 0,
              "ticks": ""
             }
            },
            "type": "scatterternary"
           }
          ],
          "surface": [
           {
            "colorbar": {
             "outlinewidth": 0,
             "ticks": ""
            },
            "colorscale": [
             [
              0,
              "#0d0887"
             ],
             [
              0.1111111111111111,
              "#46039f"
             ],
             [
              0.2222222222222222,
              "#7201a8"
             ],
             [
              0.3333333333333333,
              "#9c179e"
             ],
             [
              0.4444444444444444,
              "#bd3786"
             ],
             [
              0.5555555555555556,
              "#d8576b"
             ],
             [
              0.6666666666666666,
              "#ed7953"
             ],
             [
              0.7777777777777778,
              "#fb9f3a"
             ],
             [
              0.8888888888888888,
              "#fdca26"
             ],
             [
              1,
              "#f0f921"
             ]
            ],
            "type": "surface"
           }
          ],
          "table": [
           {
            "cells": {
             "fill": {
              "color": "#EBF0F8"
             },
             "line": {
              "color": "white"
             }
            },
            "header": {
             "fill": {
              "color": "#C8D4E3"
             },
             "line": {
              "color": "white"
             }
            },
            "type": "table"
           }
          ]
         },
         "layout": {
          "annotationdefaults": {
           "arrowcolor": "#2a3f5f",
           "arrowhead": 0,
           "arrowwidth": 1
          },
          "coloraxis": {
           "colorbar": {
            "outlinewidth": 0,
            "ticks": ""
           }
          },
          "colorscale": {
           "diverging": [
            [
             0,
             "#8e0152"
            ],
            [
             0.1,
             "#c51b7d"
            ],
            [
             0.2,
             "#de77ae"
            ],
            [
             0.3,
             "#f1b6da"
            ],
            [
             0.4,
             "#fde0ef"
            ],
            [
             0.5,
             "#f7f7f7"
            ],
            [
             0.6,
             "#e6f5d0"
            ],
            [
             0.7,
             "#b8e186"
            ],
            [
             0.8,
             "#7fbc41"
            ],
            [
             0.9,
             "#4d9221"
            ],
            [
             1,
             "#276419"
            ]
           ],
           "sequential": [
            [
             0,
             "#0d0887"
            ],
            [
             0.1111111111111111,
             "#46039f"
            ],
            [
             0.2222222222222222,
             "#7201a8"
            ],
            [
             0.3333333333333333,
             "#9c179e"
            ],
            [
             0.4444444444444444,
             "#bd3786"
            ],
            [
             0.5555555555555556,
             "#d8576b"
            ],
            [
             0.6666666666666666,
             "#ed7953"
            ],
            [
             0.7777777777777778,
             "#fb9f3a"
            ],
            [
             0.8888888888888888,
             "#fdca26"
            ],
            [
             1,
             "#f0f921"
            ]
           ],
           "sequentialminus": [
            [
             0,
             "#0d0887"
            ],
            [
             0.1111111111111111,
             "#46039f"
            ],
            [
             0.2222222222222222,
             "#7201a8"
            ],
            [
             0.3333333333333333,
             "#9c179e"
            ],
            [
             0.4444444444444444,
             "#bd3786"
            ],
            [
             0.5555555555555556,
             "#d8576b"
            ],
            [
             0.6666666666666666,
             "#ed7953"
            ],
            [
             0.7777777777777778,
             "#fb9f3a"
            ],
            [
             0.8888888888888888,
             "#fdca26"
            ],
            [
             1,
             "#f0f921"
            ]
           ]
          },
          "colorway": [
           "#636efa",
           "#EF553B",
           "#00cc96",
           "#ab63fa",
           "#FFA15A",
           "#19d3f3",
           "#FF6692",
           "#B6E880",
           "#FF97FF",
           "#FECB52"
          ],
          "font": {
           "color": "#2a3f5f"
          },
          "geo": {
           "bgcolor": "white",
           "lakecolor": "white",
           "landcolor": "#E5ECF6",
           "showlakes": true,
           "showland": true,
           "subunitcolor": "white"
          },
          "hoverlabel": {
           "align": "left"
          },
          "hovermode": "closest",
          "mapbox": {
           "style": "light"
          },
          "paper_bgcolor": "white",
          "plot_bgcolor": "#E5ECF6",
          "polar": {
           "angularaxis": {
            "gridcolor": "white",
            "linecolor": "white",
            "ticks": ""
           },
           "bgcolor": "#E5ECF6",
           "radialaxis": {
            "gridcolor": "white",
            "linecolor": "white",
            "ticks": ""
           }
          },
          "scene": {
           "xaxis": {
            "backgroundcolor": "#E5ECF6",
            "gridcolor": "white",
            "gridwidth": 2,
            "linecolor": "white",
            "showbackground": true,
            "ticks": "",
            "zerolinecolor": "white"
           },
           "yaxis": {
            "backgroundcolor": "#E5ECF6",
            "gridcolor": "white",
            "gridwidth": 2,
            "linecolor": "white",
            "showbackground": true,
            "ticks": "",
            "zerolinecolor": "white"
           },
           "zaxis": {
            "backgroundcolor": "#E5ECF6",
            "gridcolor": "white",
            "gridwidth": 2,
            "linecolor": "white",
            "showbackground": true,
            "ticks": "",
            "zerolinecolor": "white"
           }
          },
          "shapedefaults": {
           "line": {
            "color": "#2a3f5f"
           }
          },
          "ternary": {
           "aaxis": {
            "gridcolor": "white",
            "linecolor": "white",
            "ticks": ""
           },
           "baxis": {
            "gridcolor": "white",
            "linecolor": "white",
            "ticks": ""
           },
           "bgcolor": "#E5ECF6",
           "caxis": {
            "gridcolor": "white",
            "linecolor": "white",
            "ticks": ""
           }
          },
          "title": {
           "x": 0.05
          },
          "xaxis": {
           "automargin": true,
           "gridcolor": "white",
           "linecolor": "white",
           "ticks": "",
           "title": {
            "standoff": 15
           },
           "zerolinecolor": "white",
           "zerolinewidth": 2
          },
          "yaxis": {
           "automargin": true,
           "gridcolor": "white",
           "linecolor": "white",
           "ticks": "",
           "title": {
            "standoff": 15
           },
           "zerolinecolor": "white",
           "zerolinewidth": 2
          }
         }
        },
        "xaxis": {
         "title": {
          "text": "Photos"
         }
        },
        "yaxis": {
         "title": {
          "text": "People voted for Tsihanouskaya"
         }
        }
       }
      },
      "text/html": [
       "<div>\n",
       "        \n",
       "        \n",
       "            <div id=\"812cfaa5-3dc4-487c-8a6b-83bca2b1efec\" class=\"plotly-graph-div\" style=\"height:525px; width:100%;\"></div>\n",
       "            <script type=\"text/javascript\">\n",
       "                require([\"plotly\"], function(Plotly) {\n",
       "                    window.PLOTLYENV=window.PLOTLYENV || {};\n",
       "                    \n",
       "                if (document.getElementById(\"812cfaa5-3dc4-487c-8a6b-83bca2b1efec\")) {\n",
       "                    Plotly.newPlot(\n",
       "                        '812cfaa5-3dc4-487c-8a6b-83bca2b1efec',\n",
       "                        [{\"mode\": \"markers\", \"name\": \"1 more trusted\", \"text\": [], \"type\": \"scatter\", \"x\": [], \"y\": []}, {\"mode\": \"markers\", \"name\": \"1 less trusted\", \"text\": [], \"type\": \"scatter\", \"x\": [], \"y\": []}, {\"mode\": \"markers\", \"name\": \"2 more trusted\", \"text\": [], \"type\": \"scatter\", \"x\": [], \"y\": []}, {\"mode\": \"markers\", \"name\": \"2 less trusted\", \"text\": [], \"type\": \"scatter\", \"x\": [], \"y\": []}, {\"mode\": \"markers\", \"name\": \"3 more trusted\", \"text\": [], \"type\": \"scatter\", \"x\": [], \"y\": []}, {\"mode\": \"markers\", \"name\": \"3 less trusted\", \"text\": [], \"type\": \"scatter\", \"x\": [], \"y\": []}, {\"mode\": \"markers\", \"name\": \"4 more trusted\", \"text\": [], \"type\": \"scatter\", \"x\": [], \"y\": []}, {\"mode\": \"markers\", \"name\": \"4 less trusted\", \"text\": [], \"type\": \"scatter\", \"x\": [], \"y\": []}, {\"mode\": \"markers\", \"name\": \"5 more trusted\", \"text\": [], \"type\": \"scatter\", \"x\": [], \"y\": []}, {\"mode\": \"markers\", \"name\": \"5 less trusted\", \"text\": [], \"type\": \"scatter\", \"x\": [], \"y\": []}, {\"mode\": \"markers\", \"name\": \"6 more trusted\", \"text\": [], \"type\": \"scatter\", \"x\": [], \"y\": []}, {\"mode\": \"markers\", \"name\": \"6 less trusted\", \"text\": [], \"type\": \"scatter\", \"x\": [], \"y\": []}, {\"mode\": \"markers\", \"name\": \"7 more trusted\", \"text\": [\"07-001-0005\", \"07-001-0008\", \"07-001-0010\", \"07-001-0012\", \"07-001-0016\", \"07-001-0022\", \"07-001-0060\", \"07-001-0089\", \"07-002-0017\", \"07-002-0044\", \"07-002-0051\", \"07-002-0060\", \"07-002-0072\", \"07-003-0002\", \"07-003-0024\", \"07-003-0058\", \"07-003-0061\", \"07-003-0085\", \"07-003-0094\", \"07-004-0002\", \"07-004-0004\", \"07-004-0005\", \"07-004-0006\", \"07-004-0007\", \"07-004-0018\", \"07-004-0026\", \"07-004-0051\", \"07-005-0002\", \"07-005-0007\", \"07-005-0021\", \"07-005-0026\", \"07-005-0034\", \"07-005-0037\", \"07-006-0008\", \"07-006-0037\", \"07-006-0072\", \"07-008-0057\", \"07-008-0070\", \"07-008-0079\", \"07-009-0014\"], \"type\": \"scatter\", \"x\": [160, 188, 114, 184, 184, 175, 354, 201, 298, 189, 244, 199, 304, 246, 274, 306, 399, 365, 214, 205, 217, 285, 249, 7, 295, 308, 348, 714, 278, 293, 276, 790, 234, 206], \"y\": [615.0, 751.0, 500.0, 402.0, 561.0, 465.0, 1006.0, 339.0, 469.0, 550.0, 476.0, 430.0, 815.0, 686.0, 541.0, 880.0, 928.0, 1121.0, 420.0, 510.0, 581.0, 460.0, 713.0, 69.0, 480.0, 704.0, 1259.0, 1869.0, 848.0, 605.0, 539.0, 1979.0, 394.0, 707.0]}, {\"mode\": \"markers\", \"name\": \"7 less trusted\", \"text\": [\"07-001-0005\", \"07-001-0008\", \"07-001-0010\", \"07-001-0012\", \"07-001-0016\", \"07-001-0022\", \"07-001-0060\", \"07-001-0089\", \"07-002-0017\", \"07-002-0044\", \"07-002-0051\", \"07-002-0060\", \"07-002-0072\", \"07-003-0002\", \"07-003-0024\", \"07-003-0058\", \"07-003-0061\", \"07-003-0085\", \"07-003-0094\", \"07-004-0002\", \"07-004-0004\", \"07-004-0005\", \"07-004-0006\", \"07-004-0007\", \"07-004-0018\", \"07-004-0026\", \"07-004-0051\", \"07-005-0002\", \"07-005-0007\", \"07-005-0021\", \"07-005-0026\", \"07-005-0034\", \"07-005-0037\", \"07-006-0008\", \"07-006-0037\", \"07-006-0072\", \"07-008-0057\", \"07-008-0070\", \"07-008-0079\", \"07-009-0014\"], \"type\": \"scatter\", \"x\": [136, 278, 252, 400, 280, 218], \"y\": [644.0, 974.0, 757.0, 1226.0, 890.0, 782.0]}, {\"mode\": \"markers\", \"name\": \"8 more trusted\", \"text\": [], \"type\": \"scatter\", \"x\": [], \"y\": []}, {\"mode\": \"markers\", \"name\": \"8 less trusted\", \"text\": [], \"type\": \"scatter\", \"x\": [], \"y\": []}, {\"mode\": \"lines\", \"name\": \"8 exp\", \"text\": [\"07-001-0005\", \"07-001-0008\", \"07-001-0010\", \"07-001-0012\", \"07-001-0016\", \"07-001-0022\", \"07-001-0060\", \"07-001-0089\", \"07-002-0017\", \"07-002-0044\", \"07-002-0051\", \"07-002-0060\", \"07-002-0072\", \"07-003-0002\", \"07-003-0024\", \"07-003-0058\", \"07-003-0061\", \"07-003-0085\", \"07-003-0094\", \"07-004-0002\", \"07-004-0004\", \"07-004-0005\", \"07-004-0006\", \"07-004-0007\", \"07-004-0018\", \"07-004-0026\", \"07-004-0051\", \"07-005-0002\", \"07-005-0007\", \"07-005-0021\", \"07-005-0026\", \"07-005-0034\", \"07-005-0037\", \"07-006-0008\", \"07-006-0037\", \"07-006-0072\", \"07-008-0057\", \"07-008-0070\", \"07-008-0079\", \"07-009-0014\"], \"type\": \"scatter\", \"x\": [136, 160, 188, 114, 184, 184, 175, 354, 201, 298, 189, 244, 199, 304, 246, 274, 306, 399, 365, 214, 205, 278, 217, 285, 252, 249, 400, 7, 280, 295, 308, 218, 348, 714, 278, 293, 276, 790, 234, 206], \"y\": [318.24, 374.4, 439.91999999999996, 266.76, 430.55999999999995, 430.55999999999995, 409.5, 828.3599999999999, 470.34, 697.3199999999999, 442.26, 570.9599999999999, 465.65999999999997, 711.3599999999999, 575.64, 641.16, 716.04, 933.66, 854.0999999999999, 500.76, 479.7, 650.52, 507.78, 666.9, 589.68, 582.66, 936.0, 16.38, 655.1999999999999, 690.3, 720.7199999999999, 510.11999999999995, 814.3199999999999, 1670.76, 650.52, 685.62, 645.8399999999999, 1848.6, 547.56, 482.03999999999996]}],\n",
       "                        {\"template\": {\"data\": {\"bar\": [{\"error_x\": {\"color\": \"#2a3f5f\"}, \"error_y\": {\"color\": \"#2a3f5f\"}, \"marker\": {\"line\": {\"color\": \"#E5ECF6\", \"width\": 0.5}}, \"type\": \"bar\"}], \"barpolar\": [{\"marker\": {\"line\": {\"color\": \"#E5ECF6\", \"width\": 0.5}}, \"type\": \"barpolar\"}], \"carpet\": [{\"aaxis\": {\"endlinecolor\": \"#2a3f5f\", \"gridcolor\": \"white\", \"linecolor\": \"white\", \"minorgridcolor\": \"white\", \"startlinecolor\": \"#2a3f5f\"}, \"baxis\": {\"endlinecolor\": \"#2a3f5f\", \"gridcolor\": \"white\", \"linecolor\": \"white\", \"minorgridcolor\": \"white\", \"startlinecolor\": \"#2a3f5f\"}, \"type\": \"carpet\"}], \"choropleth\": [{\"colorbar\": {\"outlinewidth\": 0, \"ticks\": \"\"}, \"type\": \"choropleth\"}], \"contour\": [{\"colorbar\": {\"outlinewidth\": 0, \"ticks\": \"\"}, \"colorscale\": [[0.0, \"#0d0887\"], [0.1111111111111111, \"#46039f\"], [0.2222222222222222, \"#7201a8\"], [0.3333333333333333, \"#9c179e\"], [0.4444444444444444, \"#bd3786\"], [0.5555555555555556, \"#d8576b\"], [0.6666666666666666, \"#ed7953\"], [0.7777777777777778, \"#fb9f3a\"], [0.8888888888888888, \"#fdca26\"], [1.0, \"#f0f921\"]], \"type\": \"contour\"}], \"contourcarpet\": [{\"colorbar\": {\"outlinewidth\": 0, \"ticks\": \"\"}, \"type\": \"contourcarpet\"}], \"heatmap\": [{\"colorbar\": {\"outlinewidth\": 0, \"ticks\": \"\"}, \"colorscale\": [[0.0, \"#0d0887\"], [0.1111111111111111, \"#46039f\"], [0.2222222222222222, \"#7201a8\"], [0.3333333333333333, \"#9c179e\"], [0.4444444444444444, \"#bd3786\"], [0.5555555555555556, \"#d8576b\"], [0.6666666666666666, \"#ed7953\"], [0.7777777777777778, \"#fb9f3a\"], [0.8888888888888888, \"#fdca26\"], [1.0, \"#f0f921\"]], \"type\": \"heatmap\"}], \"heatmapgl\": [{\"colorbar\": {\"outlinewidth\": 0, \"ticks\": \"\"}, \"colorscale\": [[0.0, \"#0d0887\"], [0.1111111111111111, \"#46039f\"], [0.2222222222222222, \"#7201a8\"], [0.3333333333333333, \"#9c179e\"], [0.4444444444444444, \"#bd3786\"], [0.5555555555555556, \"#d8576b\"], [0.6666666666666666, \"#ed7953\"], [0.7777777777777778, \"#fb9f3a\"], [0.8888888888888888, \"#fdca26\"], [1.0, \"#f0f921\"]], \"type\": \"heatmapgl\"}], \"histogram\": [{\"marker\": {\"colorbar\": {\"outlinewidth\": 0, \"ticks\": \"\"}}, \"type\": \"histogram\"}], \"histogram2d\": [{\"colorbar\": {\"outlinewidth\": 0, \"ticks\": \"\"}, \"colorscale\": [[0.0, \"#0d0887\"], [0.1111111111111111, \"#46039f\"], [0.2222222222222222, \"#7201a8\"], [0.3333333333333333, \"#9c179e\"], [0.4444444444444444, \"#bd3786\"], [0.5555555555555556, \"#d8576b\"], [0.6666666666666666, \"#ed7953\"], [0.7777777777777778, \"#fb9f3a\"], [0.8888888888888888, \"#fdca26\"], [1.0, \"#f0f921\"]], \"type\": \"histogram2d\"}], \"histogram2dcontour\": [{\"colorbar\": {\"outlinewidth\": 0, \"ticks\": \"\"}, \"colorscale\": [[0.0, \"#0d0887\"], [0.1111111111111111, \"#46039f\"], [0.2222222222222222, \"#7201a8\"], [0.3333333333333333, \"#9c179e\"], [0.4444444444444444, \"#bd3786\"], [0.5555555555555556, \"#d8576b\"], [0.6666666666666666, \"#ed7953\"], [0.7777777777777778, \"#fb9f3a\"], [0.8888888888888888, \"#fdca26\"], [1.0, \"#f0f921\"]], \"type\": \"histogram2dcontour\"}], \"mesh3d\": [{\"colorbar\": {\"outlinewidth\": 0, \"ticks\": \"\"}, \"type\": \"mesh3d\"}], \"parcoords\": [{\"line\": {\"colorbar\": {\"outlinewidth\": 0, \"ticks\": \"\"}}, \"type\": \"parcoords\"}], \"pie\": [{\"automargin\": true, \"type\": \"pie\"}], \"scatter\": [{\"marker\": {\"colorbar\": {\"outlinewidth\": 0, \"ticks\": \"\"}}, \"type\": \"scatter\"}], \"scatter3d\": [{\"line\": {\"colorbar\": {\"outlinewidth\": 0, \"ticks\": \"\"}}, \"marker\": {\"colorbar\": {\"outlinewidth\": 0, \"ticks\": \"\"}}, \"type\": \"scatter3d\"}], \"scattercarpet\": [{\"marker\": {\"colorbar\": {\"outlinewidth\": 0, \"ticks\": \"\"}}, \"type\": \"scattercarpet\"}], \"scattergeo\": [{\"marker\": {\"colorbar\": {\"outlinewidth\": 0, \"ticks\": \"\"}}, \"type\": \"scattergeo\"}], \"scattergl\": [{\"marker\": {\"colorbar\": {\"outlinewidth\": 0, \"ticks\": \"\"}}, \"type\": \"scattergl\"}], \"scattermapbox\": [{\"marker\": {\"colorbar\": {\"outlinewidth\": 0, \"ticks\": \"\"}}, \"type\": \"scattermapbox\"}], \"scatterpolar\": [{\"marker\": {\"colorbar\": {\"outlinewidth\": 0, \"ticks\": \"\"}}, \"type\": \"scatterpolar\"}], \"scatterpolargl\": [{\"marker\": {\"colorbar\": {\"outlinewidth\": 0, \"ticks\": \"\"}}, \"type\": \"scatterpolargl\"}], \"scatterternary\": [{\"marker\": {\"colorbar\": {\"outlinewidth\": 0, \"ticks\": \"\"}}, \"type\": \"scatterternary\"}], \"surface\": [{\"colorbar\": {\"outlinewidth\": 0, \"ticks\": \"\"}, \"colorscale\": [[0.0, \"#0d0887\"], [0.1111111111111111, \"#46039f\"], [0.2222222222222222, \"#7201a8\"], [0.3333333333333333, \"#9c179e\"], [0.4444444444444444, \"#bd3786\"], [0.5555555555555556, \"#d8576b\"], [0.6666666666666666, \"#ed7953\"], [0.7777777777777778, \"#fb9f3a\"], [0.8888888888888888, \"#fdca26\"], [1.0, \"#f0f921\"]], \"type\": \"surface\"}], \"table\": [{\"cells\": {\"fill\": {\"color\": \"#EBF0F8\"}, \"line\": {\"color\": \"white\"}}, \"header\": {\"fill\": {\"color\": \"#C8D4E3\"}, \"line\": {\"color\": \"white\"}}, \"type\": \"table\"}]}, \"layout\": {\"annotationdefaults\": {\"arrowcolor\": \"#2a3f5f\", \"arrowhead\": 0, \"arrowwidth\": 1}, \"coloraxis\": {\"colorbar\": {\"outlinewidth\": 0, \"ticks\": \"\"}}, \"colorscale\": {\"diverging\": [[0, \"#8e0152\"], [0.1, \"#c51b7d\"], [0.2, \"#de77ae\"], [0.3, \"#f1b6da\"], [0.4, \"#fde0ef\"], [0.5, \"#f7f7f7\"], [0.6, \"#e6f5d0\"], [0.7, \"#b8e186\"], [0.8, \"#7fbc41\"], [0.9, \"#4d9221\"], [1, \"#276419\"]], \"sequential\": [[0.0, \"#0d0887\"], [0.1111111111111111, \"#46039f\"], [0.2222222222222222, \"#7201a8\"], [0.3333333333333333, \"#9c179e\"], [0.4444444444444444, \"#bd3786\"], [0.5555555555555556, \"#d8576b\"], [0.6666666666666666, \"#ed7953\"], [0.7777777777777778, \"#fb9f3a\"], [0.8888888888888888, \"#fdca26\"], [1.0, \"#f0f921\"]], \"sequentialminus\": [[0.0, \"#0d0887\"], [0.1111111111111111, \"#46039f\"], [0.2222222222222222, \"#7201a8\"], [0.3333333333333333, \"#9c179e\"], [0.4444444444444444, \"#bd3786\"], [0.5555555555555556, \"#d8576b\"], [0.6666666666666666, \"#ed7953\"], [0.7777777777777778, \"#fb9f3a\"], [0.8888888888888888, \"#fdca26\"], [1.0, \"#f0f921\"]]}, \"colorway\": [\"#636efa\", \"#EF553B\", \"#00cc96\", \"#ab63fa\", \"#FFA15A\", \"#19d3f3\", \"#FF6692\", \"#B6E880\", \"#FF97FF\", \"#FECB52\"], \"font\": {\"color\": \"#2a3f5f\"}, \"geo\": {\"bgcolor\": \"white\", \"lakecolor\": \"white\", \"landcolor\": \"#E5ECF6\", \"showlakes\": true, \"showland\": true, \"subunitcolor\": \"white\"}, \"hoverlabel\": {\"align\": \"left\"}, \"hovermode\": \"closest\", \"mapbox\": {\"style\": \"light\"}, \"paper_bgcolor\": \"white\", \"plot_bgcolor\": \"#E5ECF6\", \"polar\": {\"angularaxis\": {\"gridcolor\": \"white\", \"linecolor\": \"white\", \"ticks\": \"\"}, \"bgcolor\": \"#E5ECF6\", \"radialaxis\": {\"gridcolor\": \"white\", \"linecolor\": \"white\", \"ticks\": \"\"}}, \"scene\": {\"xaxis\": {\"backgroundcolor\": \"#E5ECF6\", \"gridcolor\": \"white\", \"gridwidth\": 2, \"linecolor\": \"white\", \"showbackground\": true, \"ticks\": \"\", \"zerolinecolor\": \"white\"}, \"yaxis\": {\"backgroundcolor\": \"#E5ECF6\", \"gridcolor\": \"white\", \"gridwidth\": 2, \"linecolor\": \"white\", \"showbackground\": true, \"ticks\": \"\", \"zerolinecolor\": \"white\"}, \"zaxis\": {\"backgroundcolor\": \"#E5ECF6\", \"gridcolor\": \"white\", \"gridwidth\": 2, \"linecolor\": \"white\", \"showbackground\": true, \"ticks\": \"\", \"zerolinecolor\": \"white\"}}, \"shapedefaults\": {\"line\": {\"color\": \"#2a3f5f\"}}, \"ternary\": {\"aaxis\": {\"gridcolor\": \"white\", \"linecolor\": \"white\", \"ticks\": \"\"}, \"baxis\": {\"gridcolor\": \"white\", \"linecolor\": \"white\", \"ticks\": \"\"}, \"bgcolor\": \"#E5ECF6\", \"caxis\": {\"gridcolor\": \"white\", \"linecolor\": \"white\", \"ticks\": \"\"}}, \"title\": {\"x\": 0.05}, \"xaxis\": {\"automargin\": true, \"gridcolor\": \"white\", \"linecolor\": \"white\", \"ticks\": \"\", \"title\": {\"standoff\": 15}, \"zerolinecolor\": \"white\", \"zerolinewidth\": 2}, \"yaxis\": {\"automargin\": true, \"gridcolor\": \"white\", \"linecolor\": \"white\", \"ticks\": \"\", \"title\": {\"standoff\": 15}, \"zerolinecolor\": \"white\", \"zerolinewidth\": 2}}}, \"xaxis\": {\"title\": {\"text\": \"Photos\"}}, \"yaxis\": {\"title\": {\"text\": \"People voted for Tsihanouskaya\"}}},\n",
       "                        {\"responsive\": true}\n",
       "                    ).then(function(){\n",
       "                            \n",
       "var gd = document.getElementById('812cfaa5-3dc4-487c-8a6b-83bca2b1efec');\n",
       "var x = new MutationObserver(function (mutations, observer) {{\n",
       "        var display = window.getComputedStyle(gd).display;\n",
       "        if (!display || display === 'none') {{\n",
       "            console.log([gd, 'removed!']);\n",
       "            Plotly.purge(gd);\n",
       "            observer.disconnect();\n",
       "        }}\n",
       "}});\n",
       "\n",
       "// Listen for the removal of the full notebook cells\n",
       "var notebookContainer = gd.closest('#notebook-container');\n",
       "if (notebookContainer) {{\n",
       "    x.observe(notebookContainer, {childList: true});\n",
       "}}\n",
       "\n",
       "// Listen for the clearing of the current output cell\n",
       "var outputEl = gd.closest('.output');\n",
       "if (outputEl) {{\n",
       "    x.observe(outputEl, {childList: true});\n",
       "}}\n",
       "\n",
       "                        })\n",
       "                };\n",
       "                });\n",
       "            </script>\n",
       "        </div>"
      ]
     },
     "metadata": {},
     "output_type": "display_data"
    }
   ],
   "source": [
    "tih_photo('capital', 2.34)"
   ]
  },
  {
   "cell_type": "code",
   "execution_count": null,
   "metadata": {},
   "outputs": [],
   "source": []
  },
  {
   "cell_type": "code",
   "execution_count": 143,
   "metadata": {},
   "outputs": [
    {
     "data": {
      "text/html": [
       "<div>\n",
       "<style scoped>\n",
       "    .dataframe tbody tr th:only-of-type {\n",
       "        vertical-align: middle;\n",
       "    }\n",
       "\n",
       "    .dataframe tbody tr th {\n",
       "        vertical-align: top;\n",
       "    }\n",
       "\n",
       "    .dataframe thead th {\n",
       "        text-align: right;\n",
       "    }\n",
       "</style>\n",
       "<table border=\"1\" class=\"dataframe\">\n",
       "  <thead>\n",
       "    <tr style=\"text-align: right;\">\n",
       "      <th></th>\n",
       "      <th>id</th>\n",
       "      <th>town</th>\n",
       "      <th>area</th>\n",
       "      <th>latitude</th>\n",
       "      <th>longitude</th>\n",
       "      <th>region</th>\n",
       "      <th>monitoredVotes</th>\n",
       "      <th>registered</th>\n",
       "      <th>photoVoices</th>\n",
       "      <th>officialVotes</th>\n",
       "      <th>...</th>\n",
       "      <th>lukashenko_officialVotes</th>\n",
       "      <th>lukashenko_photoVoices</th>\n",
       "      <th>tihanovkaja_registered</th>\n",
       "      <th>tihanovkaja_officialVotes</th>\n",
       "      <th>tihanovkaja_photoVoices</th>\n",
       "      <th>zubr_id</th>\n",
       "      <th>observers</th>\n",
       "      <th>wrong-voters-number</th>\n",
       "      <th>major-violations</th>\n",
       "      <th>minor-violations</th>\n",
       "    </tr>\n",
       "  </thead>\n",
       "  <tbody>\n",
       "    <tr>\n",
       "      <th>135</th>\n",
       "      <td>02-074-0004</td>\n",
       "      <td>Navapolack</td>\n",
       "      <td>town_over100</td>\n",
       "      <td>55.536701</td>\n",
       "      <td>28.631132</td>\n",
       "      <td>2</td>\n",
       "      <td>NaN</td>\n",
       "      <td>375</td>\n",
       "      <td>218</td>\n",
       "      <td>1824.0</td>\n",
       "      <td>...</td>\n",
       "      <td>946.0</td>\n",
       "      <td>1</td>\n",
       "      <td>360</td>\n",
       "      <td>579.0</td>\n",
       "      <td>209</td>\n",
       "      <td>1910</td>\n",
       "      <td>3</td>\n",
       "      <td>False</td>\n",
       "      <td>False</td>\n",
       "      <td>False</td>\n",
       "    </tr>\n",
       "  </tbody>\n",
       "</table>\n",
       "<p>1 rows × 40 columns</p>\n",
       "</div>"
      ],
      "text/plain": [
       "              id        town          area   latitude  longitude  region  \\\n",
       "135  02-074-0004  Navapolack  town_over100  55.536701  28.631132       2   \n",
       "\n",
       "     monitoredVotes  registered  photoVoices  officialVotes  ...  \\\n",
       "135             NaN         375          218         1824.0  ...   \n",
       "\n",
       "     lukashenko_officialVotes  lukashenko_photoVoices  tihanovkaja_registered  \\\n",
       "135                     946.0                       1                     360   \n",
       "\n",
       "     tihanovkaja_officialVotes  tihanovkaja_photoVoices  zubr_id  observers  \\\n",
       "135                      579.0                      209     1910          3   \n",
       "\n",
       "     wrong-voters-number  major-violations  minor-violations  \n",
       "135                False             False             False  \n",
       "\n",
       "[1 rows x 40 columns]"
      ]
     },
     "execution_count": 143,
     "metadata": {},
     "output_type": "execute_result"
    }
   ],
   "source": [
    "df[df['id'] == '02-074-0004']"
   ]
  },
  {
   "cell_type": "code",
   "execution_count": 183,
   "metadata": {},
   "outputs": [
    {
     "data": {
      "text/plain": [
       "0.7397131543504594"
      ]
     },
     "execution_count": 183,
     "metadata": {},
     "output_type": "execute_result"
    }
   ],
   "source": [
    "data = df[df['area'].isin(['town_over100', 'town_below100'])]\n",
    "corr(data['tihanovkaja_registered'], data['tihanovkaja_officialVotes'])"
   ]
  },
  {
   "cell_type": "code",
   "execution_count": 184,
   "metadata": {},
   "outputs": [
    {
     "name": "stdout",
     "output_type": "stream",
     "text": [
      "0.8148024542782372\n",
      "0.458596105796486\n",
      "0.8458481076014803\n",
      "0.7949299473704025\n",
      "0.6725531574400494\n",
      "0.16752255695803178\n"
     ]
    }
   ],
   "source": [
    "for region in range(1, 7):\n",
    "    data = df[df['area'].isin(['town_over100', 'town_below100']) & (df['region'] == region)]\n",
    "    print(corr(data['tihanovkaja_registered'], data['tihanovkaja_officialVotes']))"
   ]
  },
  {
   "cell_type": "code",
   "execution_count": 185,
   "metadata": {},
   "outputs": [
    {
     "name": "stdout",
     "output_type": "stream",
     "text": [
      "0.9671126139210215\n",
      "0.8441627396813576\n",
      "0.7664715652479651\n",
      "0.8628356345129207\n",
      "0.8688733037528786\n",
      "0.18765332873603865\n"
     ]
    }
   ],
   "source": [
    "for region in range(1, 7):\n",
    "    data = df[df['area'].isin(['town_over100']) & (df['region'] == region)]\n",
    "    print(corr(data['tihanovkaja_registered'], data['tihanovkaja_officialVotes']))"
   ]
  },
  {
   "cell_type": "code",
   "execution_count": 186,
   "metadata": {},
   "outputs": [
    {
     "name": "stdout",
     "output_type": "stream",
     "text": [
      "0.8038495262837639\n",
      "0.29288119961165665\n",
      "0.8762840180195197\n",
      "0.7322163059269402\n",
      "0.6247519098851327\n",
      "0.06956746137832719\n"
     ]
    }
   ],
   "source": [
    "for region in range(1, 7):\n",
    "    data = df[df['area'].isin(['town_below100']) & (df['region'] == region)]\n",
    "    print(corr(data['tihanovkaja_registered'], data['tihanovkaja_officialVotes']))"
   ]
  },
  {
   "cell_type": "code",
   "execution_count": 187,
   "metadata": {},
   "outputs": [
    {
     "name": "stdout",
     "output_type": "stream",
     "text": [
      "0.7798940192198369\n",
      "0.4732193614434622\n",
      "nan\n",
      "0.6823158761379433\n",
      "nan\n",
      "0.5910395446906795\n"
     ]
    },
    {
     "name": "stderr",
     "output_type": "stream",
     "text": [
      "/home/dzmitry/projects/voice-env/lib/python3.8/site-packages/numpy/lib/function_base.py:2551: RuntimeWarning:\n",
      "\n",
      "Degrees of freedom <= 0 for slice\n",
      "\n",
      "/home/dzmitry/projects/voice-env/lib/python3.8/site-packages/numpy/lib/function_base.py:2480: RuntimeWarning:\n",
      "\n",
      "divide by zero encountered in true_divide\n",
      "\n",
      "/home/dzmitry/projects/voice-env/lib/python3.8/site-packages/numpy/lib/function_base.py:2480: RuntimeWarning:\n",
      "\n",
      "invalid value encountered in multiply\n",
      "\n",
      "/home/dzmitry/projects/voice-env/lib/python3.8/site-packages/numpy/lib/function_base.py:380: RuntimeWarning:\n",
      "\n",
      "Mean of empty slice.\n",
      "\n",
      "/home/dzmitry/projects/voice-env/lib/python3.8/site-packages/numpy/core/_methods.py:162: RuntimeWarning:\n",
      "\n",
      "invalid value encountered in true_divide\n",
      "\n",
      "/home/dzmitry/projects/voice-env/lib/python3.8/site-packages/numpy/lib/function_base.py:2551: RuntimeWarning:\n",
      "\n",
      "Degrees of freedom <= 0 for slice\n",
      "\n",
      "/home/dzmitry/projects/voice-env/lib/python3.8/site-packages/numpy/lib/function_base.py:2480: RuntimeWarning:\n",
      "\n",
      "divide by zero encountered in true_divide\n",
      "\n",
      "/home/dzmitry/projects/voice-env/lib/python3.8/site-packages/numpy/lib/function_base.py:2480: RuntimeWarning:\n",
      "\n",
      "invalid value encountered in multiply\n",
      "\n"
     ]
    }
   ],
   "source": [
    "for region in range(1, 7):\n",
    "    data = df[(df['area'] == 'city') & (df['region'] == region)]\n",
    "    print(corr(data['tihanovkaja_registered'], data['tihanovkaja_officialVotes']))"
   ]
  },
  {
   "cell_type": "code",
   "execution_count": 724,
   "metadata": {},
   "outputs": [
    {
     "name": "stdout",
     "output_type": "stream",
     "text": [
      "0.8818685723546263\n",
      "0.553504732914356\n",
      "0.9588540558707673\n",
      "0.9751988619047182\n",
      "0.8226417656003344\n",
      "nan\n"
     ]
    },
    {
     "name": "stderr",
     "output_type": "stream",
     "text": [
      "/home/dzmitry/projects/voice-env/lib/python3.8/site-packages/numpy/lib/function_base.py:2551: RuntimeWarning:\n",
      "\n",
      "Degrees of freedom <= 0 for slice\n",
      "\n",
      "/home/dzmitry/projects/voice-env/lib/python3.8/site-packages/numpy/lib/function_base.py:2480: RuntimeWarning:\n",
      "\n",
      "divide by zero encountered in true_divide\n",
      "\n",
      "/home/dzmitry/projects/voice-env/lib/python3.8/site-packages/numpy/lib/function_base.py:2480: RuntimeWarning:\n",
      "\n",
      "invalid value encountered in multiply\n",
      "\n"
     ]
    }
   ],
   "source": [
    "for region in range(1, 7):\n",
    "    data = df[(df['area'] == 'village') & (df['region'] == region)]\n",
    "    print(corr(data['tihanovkaja_registered'], data['tihanovkaja_officialVotes']))"
   ]
  },
  {
   "cell_type": "code",
   "execution_count": 280,
   "metadata": {},
   "outputs": [
    {
     "data": {
      "text/plain": [
       "0.8199947461573237"
      ]
     },
     "execution_count": 280,
     "metadata": {},
     "output_type": "execute_result"
    }
   ],
   "source": [
    "data = df[(df['area'] == 'village')]\n",
    "corr(data['tihanovkaja_registered'], data['tihanovkaja_officialVotes'])"
   ]
  },
  {
   "cell_type": "code",
   "execution_count": 738,
   "metadata": {},
   "outputs": [
    {
     "name": "stdout",
     "output_type": "stream",
     "text": [
      "0.8517504443158646\n",
      "0.7531188442059659\n",
      "0.9481663391685724\n",
      "0.9612138210876581\n",
      "0.8116047874290602\n",
      "nan\n"
     ]
    },
    {
     "name": "stderr",
     "output_type": "stream",
     "text": [
      "/home/dzmitry/projects/voice-env/lib/python3.8/site-packages/numpy/lib/function_base.py:2551: RuntimeWarning:\n",
      "\n",
      "Degrees of freedom <= 0 for slice\n",
      "\n",
      "/home/dzmitry/projects/voice-env/lib/python3.8/site-packages/numpy/lib/function_base.py:2480: RuntimeWarning:\n",
      "\n",
      "divide by zero encountered in true_divide\n",
      "\n",
      "/home/dzmitry/projects/voice-env/lib/python3.8/site-packages/numpy/lib/function_base.py:2480: RuntimeWarning:\n",
      "\n",
      "invalid value encountered in multiply\n",
      "\n"
     ]
    }
   ],
   "source": [
    "for region in range(1, 7):\n",
    "    data = df[(df['area'] == 'village') & (df['region'] == region)]\n",
    "    print(corr(data['registered'], sum(data[f'{c}_officialVotes'] for c in (set(candidates) - {'corrupted'}))))"
   ]
  },
  {
   "cell_type": "code",
   "execution_count": 739,
   "metadata": {},
   "outputs": [
    {
     "name": "stdout",
     "output_type": "stream",
     "text": [
      "0.9442373418466595\n",
      "0.6967352686787467\n",
      "0.919379524329261\n",
      "0.8465017458938154\n",
      "0.8560639236958213\n",
      "0.33237669878405757\n"
     ]
    }
   ],
   "source": [
    "for region in range(1, 7):\n",
    "    data = df[(df['region'] == region)]\n",
    "    print(corr(data['registered'], sum(data[f'{c}_officialVotes'] for c in (set(candidates) - {'corrupted'}))))"
   ]
  },
  {
   "cell_type": "code",
   "execution_count": 34,
   "metadata": {},
   "outputs": [
    {
     "data": {
      "text/html": [
       "<div>\n",
       "<style scoped>\n",
       "    .dataframe tbody tr th:only-of-type {\n",
       "        vertical-align: middle;\n",
       "    }\n",
       "\n",
       "    .dataframe tbody tr th {\n",
       "        vertical-align: top;\n",
       "    }\n",
       "\n",
       "    .dataframe thead th {\n",
       "        text-align: right;\n",
       "    }\n",
       "</style>\n",
       "<table border=\"1\" class=\"dataframe\">\n",
       "  <thead>\n",
       "    <tr style=\"text-align: right;\">\n",
       "      <th></th>\n",
       "      <th>a</th>\n",
       "      <th>b</th>\n",
       "      <th>c</th>\n",
       "    </tr>\n",
       "  </thead>\n",
       "  <tbody>\n",
       "    <tr>\n",
       "      <th>0</th>\n",
       "      <td>1</td>\n",
       "      <td>3</td>\n",
       "      <td>5.0</td>\n",
       "    </tr>\n",
       "    <tr>\n",
       "      <th>1</th>\n",
       "      <td>2</td>\n",
       "      <td>4</td>\n",
       "      <td>6.0</td>\n",
       "    </tr>\n",
       "    <tr>\n",
       "      <th>2</th>\n",
       "      <td>3</td>\n",
       "      <td>44</td>\n",
       "      <td>NaN</td>\n",
       "    </tr>\n",
       "  </tbody>\n",
       "</table>\n",
       "</div>"
      ],
      "text/plain": [
       "   a   b    c\n",
       "0  1   3  5.0\n",
       "1  2   4  6.0\n",
       "2  3  44  NaN"
      ]
     },
     "execution_count": 34,
     "metadata": {},
     "output_type": "execute_result"
    }
   ],
   "source": [
    "df1 = pd.DataFrame({'a': [1, 2, 3], 'b': [3, 4, 44]})\n",
    "df2 = pd.DataFrame({'a': [1, 2], 'c' :[5, 6]})\n",
    "df1.merge(df2, how='left')"
   ]
  },
  {
   "cell_type": "code",
   "execution_count": 37,
   "metadata": {},
   "outputs": [
    {
     "data": {
      "text/html": [
       "<div>\n",
       "<style scoped>\n",
       "    .dataframe tbody tr th:only-of-type {\n",
       "        vertical-align: middle;\n",
       "    }\n",
       "\n",
       "    .dataframe tbody tr th {\n",
       "        vertical-align: top;\n",
       "    }\n",
       "\n",
       "    .dataframe thead th {\n",
       "        text-align: right;\n",
       "    }\n",
       "</style>\n",
       "<table border=\"1\" class=\"dataframe\">\n",
       "  <thead>\n",
       "    <tr style=\"text-align: right;\">\n",
       "      <th></th>\n",
       "      <th>a</th>\n",
       "      <th>d</th>\n",
       "    </tr>\n",
       "  </thead>\n",
       "  <tbody>\n",
       "    <tr>\n",
       "      <th>0</th>\n",
       "      <td>1</td>\n",
       "      <td>5</td>\n",
       "    </tr>\n",
       "    <tr>\n",
       "      <th>1</th>\n",
       "      <td>2</td>\n",
       "      <td>6</td>\n",
       "    </tr>\n",
       "  </tbody>\n",
       "</table>\n",
       "</div>"
      ],
      "text/plain": [
       "   a  d\n",
       "0  1  5\n",
       "1  2  6"
      ]
     },
     "execution_count": 37,
     "metadata": {},
     "output_type": "execute_result"
    }
   ],
   "source": [
    "df2[['a', 'c']].rename(columns={'c': 'd'})"
   ]
  },
  {
   "cell_type": "code",
   "execution_count": 38,
   "metadata": {},
   "outputs": [
    {
     "data": {
      "text/html": [
       "<div>\n",
       "<style scoped>\n",
       "    .dataframe tbody tr th:only-of-type {\n",
       "        vertical-align: middle;\n",
       "    }\n",
       "\n",
       "    .dataframe tbody tr th {\n",
       "        vertical-align: top;\n",
       "    }\n",
       "\n",
       "    .dataframe thead th {\n",
       "        text-align: right;\n",
       "    }\n",
       "</style>\n",
       "<table border=\"1\" class=\"dataframe\">\n",
       "  <thead>\n",
       "    <tr style=\"text-align: right;\">\n",
       "      <th></th>\n",
       "      <th>a</th>\n",
       "      <th>c</th>\n",
       "    </tr>\n",
       "  </thead>\n",
       "  <tbody>\n",
       "    <tr>\n",
       "      <th>0</th>\n",
       "      <td>1</td>\n",
       "      <td>5</td>\n",
       "    </tr>\n",
       "    <tr>\n",
       "      <th>1</th>\n",
       "      <td>2</td>\n",
       "      <td>6</td>\n",
       "    </tr>\n",
       "  </tbody>\n",
       "</table>\n",
       "</div>"
      ],
      "text/plain": [
       "   a  c\n",
       "0  1  5\n",
       "1  2  6"
      ]
     },
     "execution_count": 38,
     "metadata": {},
     "output_type": "execute_result"
    }
   ],
   "source": [
    "df2"
   ]
  },
  {
   "cell_type": "code",
   "execution_count": null,
   "metadata": {},
   "outputs": [],
   "source": []
  }
 ],
 "metadata": {
  "kernelspec": {
   "display_name": "Python 3",
   "language": "python",
   "name": "python3"
  },
  "language_info": {
   "codemirror_mode": {
    "name": "ipython",
    "version": 3
   },
   "file_extension": ".py",
   "mimetype": "text/x-python",
   "name": "python",
   "nbconvert_exporter": "python",
   "pygments_lexer": "ipython3",
   "version": "3.8.5"
  }
 },
 "nbformat": 4,
 "nbformat_minor": 4
}
