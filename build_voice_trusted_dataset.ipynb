{
 "cells": [
  {
   "cell_type": "code",
   "execution_count": 157,
   "metadata": {},
   "outputs": [],
   "source": [
    "import pandas as pd\n",
    "from decimal import Decimal\n",
    "import numpy as np"
   ]
  },
  {
   "cell_type": "code",
   "execution_count": 158,
   "metadata": {},
   "outputs": [],
   "source": [
    "voice = pd.read_csv('voice.csv')"
   ]
  },
  {
   "cell_type": "code",
   "execution_count": 159,
   "metadata": {},
   "outputs": [],
   "source": [
    "geo_data = pd.read_csv('geo-categorized.csv', converters={'latitude': Decimal, 'longitude': Decimal})"
   ]
  },
  {
   "cell_type": "code",
   "execution_count": 160,
   "metadata": {},
   "outputs": [],
   "source": [
    "candidates = ['tihanovkaja', 'against', 'dmitriyev', 'kanopatskaja', 'cherechen']"
   ]
  },
  {
   "cell_type": "code",
   "execution_count": 161,
   "metadata": {},
   "outputs": [],
   "source": [
    "broken_poll_stations = [\n",
    "    '02-016-0007', '02-016-0043', '02-074-0013', \n",
    "    '03-100-0010', \n",
    "    '05-036-0019', '05-026-0018',\n",
    "    '06-012-0081',\n",
    "]"
   ]
  },
  {
   "cell_type": "code",
   "execution_count": 162,
   "metadata": {},
   "outputs": [],
   "source": [
    "voice.loc[voice['id'].isin(broken_poll_stations), f'officialVotes'] = np.nan\n",
    "voice.loc[voice['id'].isin(broken_poll_stations), f'officialVoters'] = np.nan\n",
    "\n",
    "for candidate in candidates + ['lukashenko']:\n",
    "    voice.loc[voice['id'].isin(broken_poll_stations), f'{candidate}_officialVotes'] = np.nan\n",
    "    "
   ]
  },
  {
   "cell_type": "code",
   "execution_count": 163,
   "metadata": {},
   "outputs": [],
   "source": [
    "fix_data = {\n",
    "    '05-036-0022': {\n",
    "        'officialVoters': 2854,        \n",
    "    },\n",
    "    '06-146-0025': {'officialVoters': 1300},\n",
    "}"
   ]
  },
  {
   "cell_type": "code",
   "execution_count": 164,
   "metadata": {},
   "outputs": [],
   "source": [
    "for vpid, data in fix_data.items():\n",
    "    for col, val in data.items(): \n",
    "        voice.loc[voice['id'] == vpid, col] = val"
   ]
  },
  {
   "cell_type": "code",
   "execution_count": 165,
   "metadata": {},
   "outputs": [],
   "source": [
    "def get_trusted_by(source):\n",
    "    trusted_by_tihanovskaja = voice['tihanovkaja_officialVotes'] >= voice[f'tihanovkaja_{source}']\n",
    "    trusted_by_againast = voice['against_officialVotes'] >= voice[f'against_{source}']\n",
    "    trusted_by_dmitriyev = voice['dmitriyev_officialVotes'] >= voice[f'dmitriyev_{source}']\n",
    "    trusted_by_kanopatskaja = voice['kanopatskaja_officialVotes'] >= voice[f'kanopatskaja_{source}']\n",
    "    trusted_by_cherechen = voice['cherechen_officialVotes'] >= voice[f'cherechen_{source}']\n",
    "    return trusted_by_tihanovskaja & trusted_by_againast & trusted_by_dmitriyev & trusted_by_kanopatskaja & trusted_by_cherechen"
   ]
  },
  {
   "cell_type": "code",
   "execution_count": 166,
   "metadata": {},
   "outputs": [],
   "source": [
    "def get_trusted_by_registration():\n",
    "    mask = (\n",
    "        (voice['corrupted_officialVotes'] >= voice[f'corrupted_registered']) |\n",
    "        (voice[f'corrupted_registered'] < 10) |\n",
    "        (voice['corrupted_officialVotes'] == 0) |\n",
    "        voice['corrupted_officialVotes'].isna()\n",
    "    )\n",
    "    \n",
    "    for candidate in candidates:\n",
    "        mask &= (\n",
    "            (voice[f'{candidate}_officialVotes'] >= voice[f'{candidate}_registered']) |\n",
    "            (voice[f'{candidate}_registered'] < 10)\n",
    "        )\n",
    "    \n",
    "    return mask"
   ]
  },
  {
   "cell_type": "code",
   "execution_count": 167,
   "metadata": {},
   "outputs": [],
   "source": [
    "photo_trust = get_trusted_by('photoVoices')"
   ]
  },
  {
   "cell_type": "code",
   "execution_count": 168,
   "metadata": {},
   "outputs": [
    {
     "data": {
      "text/plain": [
       "857"
      ]
     },
     "execution_count": 168,
     "metadata": {},
     "output_type": "execute_result"
    }
   ],
   "source": [
    "sum(photo_trust)"
   ]
  },
  {
   "cell_type": "code",
   "execution_count": 169,
   "metadata": {},
   "outputs": [],
   "source": [
    "registered_trust = get_trusted_by_registration()"
   ]
  },
  {
   "cell_type": "code",
   "execution_count": 170,
   "metadata": {},
   "outputs": [
    {
     "data": {
      "text/plain": [
       "666"
      ]
     },
     "execution_count": 170,
     "metadata": {},
     "output_type": "execute_result"
    }
   ],
   "source": [
    "sum(registered_trust & photo_trust)"
   ]
  },
  {
   "cell_type": "code",
   "execution_count": 171,
   "metadata": {},
   "outputs": [],
   "source": [
    "voice_trusted = voice[photo_trust & registered_trust]"
   ]
  },
  {
   "cell_type": "code",
   "execution_count": 172,
   "metadata": {},
   "outputs": [],
   "source": [
    "voice_trusted_extended = geo_data.merge(voice_trusted, on='id')"
   ]
  },
  {
   "cell_type": "code",
   "execution_count": 173,
   "metadata": {},
   "outputs": [
    {
     "data": {
      "text/html": [
       "<div>\n",
       "<style scoped>\n",
       "    .dataframe tbody tr th:only-of-type {\n",
       "        vertical-align: middle;\n",
       "    }\n",
       "\n",
       "    .dataframe tbody tr th {\n",
       "        vertical-align: top;\n",
       "    }\n",
       "\n",
       "    .dataframe thead th {\n",
       "        text-align: right;\n",
       "    }\n",
       "</style>\n",
       "<table border=\"1\" class=\"dataframe\">\n",
       "  <thead>\n",
       "    <tr style=\"text-align: right;\">\n",
       "      <th></th>\n",
       "      <th>id</th>\n",
       "      <th>town</th>\n",
       "      <th>area</th>\n",
       "      <th>latitude</th>\n",
       "      <th>longitude</th>\n",
       "      <th>region</th>\n",
       "      <th>monitoredVotes</th>\n",
       "      <th>registered</th>\n",
       "      <th>photoVoices</th>\n",
       "      <th>officialVotes</th>\n",
       "      <th>...</th>\n",
       "      <th>ignore_photoVoices</th>\n",
       "      <th>kanopatskaja_registered</th>\n",
       "      <th>kanopatskaja_officialVotes</th>\n",
       "      <th>kanopatskaja_photoVoices</th>\n",
       "      <th>lukashenko_registered</th>\n",
       "      <th>lukashenko_officialVotes</th>\n",
       "      <th>lukashenko_photoVoices</th>\n",
       "      <th>tihanovkaja_registered</th>\n",
       "      <th>tihanovkaja_officialVotes</th>\n",
       "      <th>tihanovkaja_photoVoices</th>\n",
       "    </tr>\n",
       "  </thead>\n",
       "  <tbody>\n",
       "    <tr>\n",
       "      <th>0</th>\n",
       "      <td>01-010-0001</td>\n",
       "      <td>Brest</td>\n",
       "      <td>city</td>\n",
       "      <td>52.089515</td>\n",
       "      <td>23.680013</td>\n",
       "      <td>1</td>\n",
       "      <td>NaN</td>\n",
       "      <td>486</td>\n",
       "      <td>256</td>\n",
       "      <td>1319.0</td>\n",
       "      <td>...</td>\n",
       "      <td>0</td>\n",
       "      <td>0</td>\n",
       "      <td>16.0</td>\n",
       "      <td>0</td>\n",
       "      <td>5</td>\n",
       "      <td>464.0</td>\n",
       "      <td>0</td>\n",
       "      <td>466</td>\n",
       "      <td>701.0</td>\n",
       "      <td>253</td>\n",
       "    </tr>\n",
       "    <tr>\n",
       "      <th>1</th>\n",
       "      <td>01-010-0002</td>\n",
       "      <td>Brest</td>\n",
       "      <td>city</td>\n",
       "      <td>52.09133</td>\n",
       "      <td>23.652785</td>\n",
       "      <td>1</td>\n",
       "      <td>NaN</td>\n",
       "      <td>474</td>\n",
       "      <td>291</td>\n",
       "      <td>2249.0</td>\n",
       "      <td>...</td>\n",
       "      <td>0</td>\n",
       "      <td>1</td>\n",
       "      <td>25.0</td>\n",
       "      <td>0</td>\n",
       "      <td>3</td>\n",
       "      <td>994.0</td>\n",
       "      <td>0</td>\n",
       "      <td>456</td>\n",
       "      <td>948.0</td>\n",
       "      <td>284</td>\n",
       "    </tr>\n",
       "    <tr>\n",
       "      <th>2</th>\n",
       "      <td>01-010-0004</td>\n",
       "      <td>Brest</td>\n",
       "      <td>city</td>\n",
       "      <td>52.098645</td>\n",
       "      <td>23.654222</td>\n",
       "      <td>1</td>\n",
       "      <td>NaN</td>\n",
       "      <td>275</td>\n",
       "      <td>154</td>\n",
       "      <td>1714.0</td>\n",
       "      <td>...</td>\n",
       "      <td>0</td>\n",
       "      <td>1</td>\n",
       "      <td>26.0</td>\n",
       "      <td>0</td>\n",
       "      <td>0</td>\n",
       "      <td>1125.0</td>\n",
       "      <td>0</td>\n",
       "      <td>260</td>\n",
       "      <td>395.0</td>\n",
       "      <td>153</td>\n",
       "    </tr>\n",
       "    <tr>\n",
       "      <th>3</th>\n",
       "      <td>01-010-0005</td>\n",
       "      <td>Brest</td>\n",
       "      <td>city</td>\n",
       "      <td>52.099618</td>\n",
       "      <td>23.649713</td>\n",
       "      <td>1</td>\n",
       "      <td>NaN</td>\n",
       "      <td>334</td>\n",
       "      <td>179</td>\n",
       "      <td>2122.0</td>\n",
       "      <td>...</td>\n",
       "      <td>1</td>\n",
       "      <td>1</td>\n",
       "      <td>21.0</td>\n",
       "      <td>1</td>\n",
       "      <td>2</td>\n",
       "      <td>1506.0</td>\n",
       "      <td>1</td>\n",
       "      <td>321</td>\n",
       "      <td>412.0</td>\n",
       "      <td>174</td>\n",
       "    </tr>\n",
       "    <tr>\n",
       "      <th>4</th>\n",
       "      <td>01-010-0006</td>\n",
       "      <td>Brest</td>\n",
       "      <td>city</td>\n",
       "      <td>52.105589</td>\n",
       "      <td>23.646314</td>\n",
       "      <td>1</td>\n",
       "      <td>NaN</td>\n",
       "      <td>495</td>\n",
       "      <td>307</td>\n",
       "      <td>2383.0</td>\n",
       "      <td>...</td>\n",
       "      <td>0</td>\n",
       "      <td>2</td>\n",
       "      <td>28.0</td>\n",
       "      <td>2</td>\n",
       "      <td>4</td>\n",
       "      <td>923.0</td>\n",
       "      <td>0</td>\n",
       "      <td>476</td>\n",
       "      <td>1157.0</td>\n",
       "      <td>301</td>\n",
       "    </tr>\n",
       "    <tr>\n",
       "      <th>...</th>\n",
       "      <td>...</td>\n",
       "      <td>...</td>\n",
       "      <td>...</td>\n",
       "      <td>...</td>\n",
       "      <td>...</td>\n",
       "      <td>...</td>\n",
       "      <td>...</td>\n",
       "      <td>...</td>\n",
       "      <td>...</td>\n",
       "      <td>...</td>\n",
       "      <td>...</td>\n",
       "      <td>...</td>\n",
       "      <td>...</td>\n",
       "      <td>...</td>\n",
       "      <td>...</td>\n",
       "      <td>...</td>\n",
       "      <td>...</td>\n",
       "      <td>...</td>\n",
       "      <td>...</td>\n",
       "      <td>...</td>\n",
       "      <td>...</td>\n",
       "    </tr>\n",
       "    <tr>\n",
       "      <th>661</th>\n",
       "      <td>07-008-0080</td>\n",
       "      <td>Minsk</td>\n",
       "      <td>capital</td>\n",
       "      <td>53.910628</td>\n",
       "      <td>27.485043</td>\n",
       "      <td>7</td>\n",
       "      <td>NaN</td>\n",
       "      <td>536</td>\n",
       "      <td>340</td>\n",
       "      <td>1595.0</td>\n",
       "      <td>...</td>\n",
       "      <td>0</td>\n",
       "      <td>0</td>\n",
       "      <td>6.0</td>\n",
       "      <td>0</td>\n",
       "      <td>4</td>\n",
       "      <td>899.0</td>\n",
       "      <td>1</td>\n",
       "      <td>519</td>\n",
       "      <td>583.0</td>\n",
       "      <td>336</td>\n",
       "    </tr>\n",
       "    <tr>\n",
       "      <th>662</th>\n",
       "      <td>07-008-0081</td>\n",
       "      <td>Minsk</td>\n",
       "      <td>capital</td>\n",
       "      <td>53.910628</td>\n",
       "      <td>27.485043</td>\n",
       "      <td>7</td>\n",
       "      <td>NaN</td>\n",
       "      <td>558</td>\n",
       "      <td>342</td>\n",
       "      <td>1575.0</td>\n",
       "      <td>...</td>\n",
       "      <td>0</td>\n",
       "      <td>1</td>\n",
       "      <td>25.0</td>\n",
       "      <td>0</td>\n",
       "      <td>3</td>\n",
       "      <td>838.0</td>\n",
       "      <td>1</td>\n",
       "      <td>539</td>\n",
       "      <td>597.0</td>\n",
       "      <td>336</td>\n",
       "    </tr>\n",
       "    <tr>\n",
       "      <th>663</th>\n",
       "      <td>07-009-0014</td>\n",
       "      <td>Minsk</td>\n",
       "      <td>capital</td>\n",
       "      <td>53.934864</td>\n",
       "      <td>27.563107</td>\n",
       "      <td>7</td>\n",
       "      <td>NaN</td>\n",
       "      <td>342</td>\n",
       "      <td>212</td>\n",
       "      <td>1266.0</td>\n",
       "      <td>...</td>\n",
       "      <td>0</td>\n",
       "      <td>0</td>\n",
       "      <td>21.0</td>\n",
       "      <td>0</td>\n",
       "      <td>3</td>\n",
       "      <td>428.0</td>\n",
       "      <td>2</td>\n",
       "      <td>329</td>\n",
       "      <td>707.0</td>\n",
       "      <td>206</td>\n",
       "    </tr>\n",
       "    <tr>\n",
       "      <th>664</th>\n",
       "      <td>07-009-0017</td>\n",
       "      <td>Minsk</td>\n",
       "      <td>capital</td>\n",
       "      <td>53.929606</td>\n",
       "      <td>27.544952</td>\n",
       "      <td>7</td>\n",
       "      <td>NaN</td>\n",
       "      <td>996</td>\n",
       "      <td>727</td>\n",
       "      <td>2304.0</td>\n",
       "      <td>...</td>\n",
       "      <td>0</td>\n",
       "      <td>0</td>\n",
       "      <td>50.0</td>\n",
       "      <td>0</td>\n",
       "      <td>3</td>\n",
       "      <td>656.0</td>\n",
       "      <td>1</td>\n",
       "      <td>971</td>\n",
       "      <td>1407.0</td>\n",
       "      <td>715</td>\n",
       "    </tr>\n",
       "    <tr>\n",
       "      <th>665</th>\n",
       "      <td>07-009-0021</td>\n",
       "      <td>Minsk</td>\n",
       "      <td>capital</td>\n",
       "      <td>53.927989</td>\n",
       "      <td>27.555579</td>\n",
       "      <td>7</td>\n",
       "      <td>NaN</td>\n",
       "      <td>333</td>\n",
       "      <td>213</td>\n",
       "      <td>974.0</td>\n",
       "      <td>...</td>\n",
       "      <td>0</td>\n",
       "      <td>0</td>\n",
       "      <td>57.0</td>\n",
       "      <td>0</td>\n",
       "      <td>1</td>\n",
       "      <td>496.0</td>\n",
       "      <td>0</td>\n",
       "      <td>323</td>\n",
       "      <td>349.0</td>\n",
       "      <td>209</td>\n",
       "    </tr>\n",
       "  </tbody>\n",
       "</table>\n",
       "<p>666 rows × 35 columns</p>\n",
       "</div>"
      ],
      "text/plain": [
       "              id   town     area   latitude  longitude  region  \\\n",
       "0    01-010-0001  Brest     city  52.089515  23.680013       1   \n",
       "1    01-010-0002  Brest     city   52.09133  23.652785       1   \n",
       "2    01-010-0004  Brest     city  52.098645  23.654222       1   \n",
       "3    01-010-0005  Brest     city  52.099618  23.649713       1   \n",
       "4    01-010-0006  Brest     city  52.105589  23.646314       1   \n",
       "..           ...    ...      ...        ...        ...     ...   \n",
       "661  07-008-0080  Minsk  capital  53.910628  27.485043       7   \n",
       "662  07-008-0081  Minsk  capital  53.910628  27.485043       7   \n",
       "663  07-009-0014  Minsk  capital  53.934864  27.563107       7   \n",
       "664  07-009-0017  Minsk  capital  53.929606  27.544952       7   \n",
       "665  07-009-0021  Minsk  capital  53.927989  27.555579       7   \n",
       "\n",
       "     monitoredVotes  registered  photoVoices  officialVotes  ...  \\\n",
       "0               NaN         486          256         1319.0  ...   \n",
       "1               NaN         474          291         2249.0  ...   \n",
       "2               NaN         275          154         1714.0  ...   \n",
       "3               NaN         334          179         2122.0  ...   \n",
       "4               NaN         495          307         2383.0  ...   \n",
       "..              ...         ...          ...            ...  ...   \n",
       "661             NaN         536          340         1595.0  ...   \n",
       "662             NaN         558          342         1575.0  ...   \n",
       "663             NaN         342          212         1266.0  ...   \n",
       "664             NaN         996          727         2304.0  ...   \n",
       "665             NaN         333          213          974.0  ...   \n",
       "\n",
       "     ignore_photoVoices  kanopatskaja_registered  kanopatskaja_officialVotes  \\\n",
       "0                     0                        0                        16.0   \n",
       "1                     0                        1                        25.0   \n",
       "2                     0                        1                        26.0   \n",
       "3                     1                        1                        21.0   \n",
       "4                     0                        2                        28.0   \n",
       "..                  ...                      ...                         ...   \n",
       "661                   0                        0                         6.0   \n",
       "662                   0                        1                        25.0   \n",
       "663                   0                        0                        21.0   \n",
       "664                   0                        0                        50.0   \n",
       "665                   0                        0                        57.0   \n",
       "\n",
       "     kanopatskaja_photoVoices  lukashenko_registered  \\\n",
       "0                           0                      5   \n",
       "1                           0                      3   \n",
       "2                           0                      0   \n",
       "3                           1                      2   \n",
       "4                           2                      4   \n",
       "..                        ...                    ...   \n",
       "661                         0                      4   \n",
       "662                         0                      3   \n",
       "663                         0                      3   \n",
       "664                         0                      3   \n",
       "665                         0                      1   \n",
       "\n",
       "     lukashenko_officialVotes  lukashenko_photoVoices  tihanovkaja_registered  \\\n",
       "0                       464.0                       0                     466   \n",
       "1                       994.0                       0                     456   \n",
       "2                      1125.0                       0                     260   \n",
       "3                      1506.0                       1                     321   \n",
       "4                       923.0                       0                     476   \n",
       "..                        ...                     ...                     ...   \n",
       "661                     899.0                       1                     519   \n",
       "662                     838.0                       1                     539   \n",
       "663                     428.0                       2                     329   \n",
       "664                     656.0                       1                     971   \n",
       "665                     496.0                       0                     323   \n",
       "\n",
       "     tihanovkaja_officialVotes  tihanovkaja_photoVoices  \n",
       "0                        701.0                      253  \n",
       "1                        948.0                      284  \n",
       "2                        395.0                      153  \n",
       "3                        412.0                      174  \n",
       "4                       1157.0                      301  \n",
       "..                         ...                      ...  \n",
       "661                      583.0                      336  \n",
       "662                      597.0                      336  \n",
       "663                      707.0                      206  \n",
       "664                     1407.0                      715  \n",
       "665                      349.0                      209  \n",
       "\n",
       "[666 rows x 35 columns]"
      ]
     },
     "execution_count": 173,
     "metadata": {},
     "output_type": "execute_result"
    }
   ],
   "source": [
    "voice_trusted_extended"
   ]
  },
  {
   "cell_type": "code",
   "execution_count": 174,
   "metadata": {},
   "outputs": [
    {
     "data": {
      "text/plain": [
       "130"
      ]
     },
     "execution_count": 174,
     "metadata": {},
     "output_type": "execute_result"
    }
   ],
   "source": [
    "sum(voice_trusted_extended['area'] == 'village')"
   ]
  },
  {
   "cell_type": "code",
   "execution_count": 175,
   "metadata": {},
   "outputs": [
    {
     "data": {
      "text/plain": [
       "133"
      ]
     },
     "execution_count": 175,
     "metadata": {},
     "output_type": "execute_result"
    }
   ],
   "source": [
    "sum(voice_trusted_extended['area'] == 'city')"
   ]
  },
  {
   "cell_type": "code",
   "execution_count": 176,
   "metadata": {},
   "outputs": [
    {
     "data": {
      "text/plain": [
       "157"
      ]
     },
     "execution_count": 176,
     "metadata": {},
     "output_type": "execute_result"
    }
   ],
   "source": [
    "sum(voice_trusted_extended['area'] == 'town_below100')"
   ]
  },
  {
   "cell_type": "code",
   "execution_count": 177,
   "metadata": {},
   "outputs": [
    {
     "data": {
      "text/plain": [
       "91"
      ]
     },
     "execution_count": 177,
     "metadata": {},
     "output_type": "execute_result"
    }
   ],
   "source": [
    "sum(voice_trusted_extended['area'] == 'town_over100')"
   ]
  },
  {
   "cell_type": "code",
   "execution_count": 178,
   "metadata": {},
   "outputs": [
    {
     "data": {
      "text/plain": [
       "79"
      ]
     },
     "execution_count": 178,
     "metadata": {},
     "output_type": "execute_result"
    }
   ],
   "source": [
    "sum(voice_trusted_extended['area'] == 'capital')"
   ]
  },
  {
   "cell_type": "code",
   "execution_count": 179,
   "metadata": {},
   "outputs": [
    {
     "data": {
      "text/plain": [
       "11"
      ]
     },
     "execution_count": 179,
     "metadata": {},
     "output_type": "execute_result"
    }
   ],
   "source": [
    "sum(voice_trusted_extended['area'] == 'embassy')"
   ]
  },
  {
   "cell_type": "code",
   "execution_count": 180,
   "metadata": {},
   "outputs": [
    {
     "data": {
      "text/plain": [
       "65"
      ]
     },
     "execution_count": 180,
     "metadata": {},
     "output_type": "execute_result"
    }
   ],
   "source": [
    "sum(voice_trusted_extended['area'] == 'minsk_suburb')"
   ]
  },
  {
   "cell_type": "code",
   "execution_count": 181,
   "metadata": {},
   "outputs": [
    {
     "data": {
      "text/plain": [
       "0"
      ]
     },
     "execution_count": 181,
     "metadata": {},
     "output_type": "execute_result"
    }
   ],
   "source": [
    "sum(voice_trusted_extended['area'] == 'minsk_village')"
   ]
  },
  {
   "cell_type": "code",
   "execution_count": 182,
   "metadata": {},
   "outputs": [],
   "source": [
    "voice_trusted_extended.to_csv('tusted_by_voice.csv', index=False)"
   ]
  },
  {
   "cell_type": "code",
   "execution_count": null,
   "metadata": {},
   "outputs": [],
   "source": []
  },
  {
   "cell_type": "code",
   "execution_count": null,
   "metadata": {},
   "outputs": [],
   "source": []
  }
 ],
 "metadata": {
  "kernelspec": {
   "display_name": "Python 3",
   "language": "python",
   "name": "python3"
  },
  "language_info": {
   "codemirror_mode": {
    "name": "ipython",
    "version": 3
   },
   "file_extension": ".py",
   "mimetype": "text/x-python",
   "name": "python",
   "nbconvert_exporter": "python",
   "pygments_lexer": "ipython3",
   "version": "3.8.2"
  }
 },
 "nbformat": 4,
 "nbformat_minor": 4
}
