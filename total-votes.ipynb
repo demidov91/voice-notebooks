{
 "cells": [
  {
   "cell_type": "code",
   "execution_count": 733,
   "metadata": {},
   "outputs": [],
   "source": [
    "import pandas as pd\n",
    "from decimal import Decimal"
   ]
  },
  {
   "cell_type": "code",
   "execution_count": 734,
   "metadata": {},
   "outputs": [],
   "source": [
    "voice = pd.read_csv('voice.csv')\n",
    "geo = pd.read_csv('geo-categorized.csv', converters={'latitude': Decimal, 'longitude': Decimal})\n",
    "df = geo.merge(voice, on='id', how='left')"
   ]
  },
  {
   "cell_type": "code",
   "execution_count": 735,
   "metadata": {},
   "outputs": [],
   "source": [
    "areas = ['city', 'minsk_suburb', 'minsk_village', 'capital', 'village', 'town_below100', 'town_over100', 'embassy']\n",
    "candidates = ['against', 'cherechen', 'corrupted', 'dmitriyev', 'kanopatskaja', 'tihanovkaja']\n",
    "candidates_with_luk = candidates + ['lukashenko']"
   ]
  },
  {
   "cell_type": "code",
   "execution_count": 736,
   "metadata": {},
   "outputs": [],
   "source": [
    "area_size = {x['area']: x['size'] for x in pd.read_csv('poll-station-size.csv').iloc}"
   ]
  },
  {
   "cell_type": "code",
   "execution_count": 737,
   "metadata": {},
   "outputs": [],
   "source": [
    "# Fill missing data with zero.\n",
    "\n",
    "missing_mask = df.registered.isna()\n",
    "\n",
    "df.loc[\n",
    "    missing_mask, \n",
    "    (\n",
    "        ['registered', 'photoVoices', 'ignore_registered'] + \n",
    "        [f'{c}_photoVoices' for c in candidates_with_luk] + \n",
    "        [f'{c}_registered' for c in candidates_with_luk]\n",
    "    )\n",
    "] = 0\n",
    "\n",
    "df.loc[\n",
    "    missing_mask, \n",
    "    ['registered', 'tihanovkaja_registered', 'against_registered']\n",
    "] = [10, 9, 1]\n"
   ]
  },
  {
   "cell_type": "code",
   "execution_count": 738,
   "metadata": {},
   "outputs": [],
   "source": [
    "# Fill official voters.\n",
    "\n",
    "\n",
    "no_official_voters_mask = df['officialVoters'].isna()\n",
    "df.loc[no_official_voters_mask, 'voters'] = [area_size[x] for x in df[no_official_voters_mask]['area']]\n",
    "df.loc[~no_official_voters_mask, 'voters'] = df[~no_official_voters_mask]['officialVoters']\n"
   ]
  },
  {
   "cell_type": "code",
   "execution_count": 739,
   "metadata": {},
   "outputs": [],
   "source": [
    "region_voters = pd.read_csv('voters.csv')"
   ]
  },
  {
   "cell_type": "code",
   "execution_count": 740,
   "metadata": {},
   "outputs": [],
   "source": [
    "region_coeff = {8: 1}\n",
    "\n",
    "for region in range(1, 8):\n",
    "    region_mask = df['region'] == region\n",
    "    official_region_voters = region_voters[region_voters['region'] == region].iloc[0]['voters']\n",
    "    region_coeff[region] = (\n",
    "        (official_region_voters - df[~no_official_voters_mask & region_mask]['officialVoters'].sum()) / \n",
    "        df[no_official_voters_mask & region_mask]['voters'].sum()\n",
    "    )"
   ]
  },
  {
   "cell_type": "code",
   "execution_count": 741,
   "metadata": {},
   "outputs": [
    {
     "data": {
      "text/plain": [
       "{8: 1,\n",
       " 1: 0.6719201996839486,\n",
       " 2: 0.710658461867096,\n",
       " 3: 0.6797002483685411,\n",
       " 4: 0.6720982201531747,\n",
       " 5: 0.7116482505472668,\n",
       " 6: 0.6541507368343747,\n",
       " 7: 0.8807336425472665}"
      ]
     },
     "execution_count": 741,
     "metadata": {},
     "output_type": "execute_result"
    }
   ],
   "source": [
    "region_coeff"
   ]
  },
  {
   "cell_type": "code",
   "execution_count": 742,
   "metadata": {},
   "outputs": [],
   "source": [
    "df.loc[no_official_voters_mask, 'voters'] = [\n",
    "    area_size[x['area']] * region_coeff[x['region']] \n",
    "    for x in df[no_official_voters_mask].iloc\n",
    "]"
   ]
  },
  {
   "cell_type": "code",
   "execution_count": 743,
   "metadata": {},
   "outputs": [],
   "source": [
    "# Fill real votes.\n",
    "\n",
    "candidates_trusted = pd.read_csv('trusted-for-alternative-fixed.csv')\n",
    "non_trusted_turnout = pd.read_csv('non_trusted_turnout.csv')\n",
    "outliers = pd.read_csv('outliers.csv')\n",
    "\n",
    "still_trusted_turnout = non_trusted_turnout[non_trusted_turnout['reason'] != 'outlier']['id']\n",
    "still_trusted_data = outliers[\n",
    "    [x['reason'].startswith('trusted') for x in outliers.iloc]\n",
    "]['id']\n"
   ]
  },
  {
   "cell_type": "code",
   "execution_count": 744,
   "metadata": {},
   "outputs": [],
   "source": [
    "turnout = pd.read_csv('turnout.csv', converters={'region': str})\n",
    "\n",
    "area_region_turnout = {}\n",
    "\n",
    "for row in turnout.iloc:\n",
    "    area_region_turnout[f\"{row['area']}_{row['region']}\"] = row['turnout']"
   ]
  },
  {
   "cell_type": "code",
   "execution_count": 745,
   "metadata": {},
   "outputs": [],
   "source": [
    "trusted_turnout_mask = (\n",
    "    (\n",
    "        df['id'].isin(candidates_trusted['id']) & \n",
    "        (~df['id'].isin(non_trusted_turnout['id']) | df['id'].isin(still_trusted_turnout))\n",
    "    ) |\n",
    "    df['id'].isin(still_trusted_data)\n",
    ")"
   ]
  },
  {
   "cell_type": "code",
   "execution_count": 746,
   "metadata": {},
   "outputs": [],
   "source": [
    "df.loc[trusted_turnout_mask, 'votes'] = df[~trusted_turnout_mask]['officialVotes']"
   ]
  },
  {
   "cell_type": "code",
   "execution_count": 747,
   "metadata": {},
   "outputs": [],
   "source": [
    "def calc_votes(row):\n",
    "    return area_region_turnout[f\"{row['area']}_{row['region']}\"] * row['voters']"
   ]
  },
  {
   "cell_type": "code",
   "execution_count": 748,
   "metadata": {},
   "outputs": [],
   "source": [
    "area_region_turnout['minsk_suburb_7'] = area_region_turnout['minsk_suburb_5']"
   ]
  },
  {
   "cell_type": "code",
   "execution_count": 749,
   "metadata": {},
   "outputs": [],
   "source": [
    "trusted_turnout_mask = (\n",
    "    (\n",
    "        df['id'].isin(candidates_trusted['id']) & \n",
    "        (~df['id'].isin(non_trusted_turnout['id']) | df['id'].isin(still_trusted_turnout))\n",
    "    ) |\n",
    "    df['id'].isin(still_trusted_data)\n",
    ")\n",
    "df.loc[trusted_turnout_mask, 'votes'] = df[trusted_turnout_mask]['officialVotes']\n",
    "df.loc[~trusted_turnout_mask, 'votes'] = [calc_votes(x) for x in df[~trusted_turnout_mask].iloc]"
   ]
  },
  {
   "cell_type": "code",
   "execution_count": 750,
   "metadata": {},
   "outputs": [],
   "source": [
    "# Check overflow for trusted poll stations.\n",
    "\n",
    "data = df[~df['officialVotes'].isna()]\n",
    "diff = data['votes'] - sum(data[f'{c}_officialVotes'] for c in candidates)"
   ]
  },
  {
   "cell_type": "code",
   "execution_count": 751,
   "metadata": {},
   "outputs": [
    {
     "data": {
      "text/html": [
       "<div>\n",
       "<style scoped>\n",
       "    .dataframe tbody tr th:only-of-type {\n",
       "        vertical-align: middle;\n",
       "    }\n",
       "\n",
       "    .dataframe tbody tr th {\n",
       "        vertical-align: top;\n",
       "    }\n",
       "\n",
       "    .dataframe thead th {\n",
       "        text-align: right;\n",
       "    }\n",
       "</style>\n",
       "<table border=\"1\" class=\"dataframe\">\n",
       "  <thead>\n",
       "    <tr style=\"text-align: right;\">\n",
       "      <th></th>\n",
       "      <th>id</th>\n",
       "      <th>town</th>\n",
       "      <th>area</th>\n",
       "      <th>latitude</th>\n",
       "      <th>longitude</th>\n",
       "      <th>region</th>\n",
       "      <th>monitoredVotes</th>\n",
       "      <th>registered</th>\n",
       "      <th>photoVoices</th>\n",
       "      <th>officialVotes</th>\n",
       "      <th>...</th>\n",
       "      <th>kanopatskaja_officialVotes</th>\n",
       "      <th>kanopatskaja_photoVoices</th>\n",
       "      <th>lukashenko_registered</th>\n",
       "      <th>lukashenko_officialVotes</th>\n",
       "      <th>lukashenko_photoVoices</th>\n",
       "      <th>tihanovkaja_registered</th>\n",
       "      <th>tihanovkaja_officialVotes</th>\n",
       "      <th>tihanovkaja_photoVoices</th>\n",
       "      <th>voters</th>\n",
       "      <th>votes</th>\n",
       "    </tr>\n",
       "  </thead>\n",
       "  <tbody>\n",
       "    <tr>\n",
       "      <th>5270</th>\n",
       "      <td>07-003-0021</td>\n",
       "      <td>Minsk</td>\n",
       "      <td>capital</td>\n",
       "      <td>53.882322</td>\n",
       "      <td>27.516888</td>\n",
       "      <td>7</td>\n",
       "      <td>NaN</td>\n",
       "      <td>975.0</td>\n",
       "      <td>669.0</td>\n",
       "      <td>2396.0</td>\n",
       "      <td>...</td>\n",
       "      <td>19.0</td>\n",
       "      <td>1.0</td>\n",
       "      <td>0.0</td>\n",
       "      <td>438.0</td>\n",
       "      <td>0.0</td>\n",
       "      <td>951.0</td>\n",
       "      <td>1725.0</td>\n",
       "      <td>660.0</td>\n",
       "      <td>2400.0</td>\n",
       "      <td>1680.480</td>\n",
       "    </tr>\n",
       "    <tr>\n",
       "      <th>5731</th>\n",
       "      <td>07-009-0017</td>\n",
       "      <td>Minsk</td>\n",
       "      <td>capital</td>\n",
       "      <td>53.929606</td>\n",
       "      <td>27.544952</td>\n",
       "      <td>7</td>\n",
       "      <td>NaN</td>\n",
       "      <td>996.0</td>\n",
       "      <td>727.0</td>\n",
       "      <td>2304.0</td>\n",
       "      <td>...</td>\n",
       "      <td>50.0</td>\n",
       "      <td>0.0</td>\n",
       "      <td>3.0</td>\n",
       "      <td>656.0</td>\n",
       "      <td>1.0</td>\n",
       "      <td>971.0</td>\n",
       "      <td>1407.0</td>\n",
       "      <td>715.0</td>\n",
       "      <td>2310.0</td>\n",
       "      <td>1617.462</td>\n",
       "    </tr>\n",
       "  </tbody>\n",
       "</table>\n",
       "<p>2 rows × 37 columns</p>\n",
       "</div>"
      ],
      "text/plain": [
       "               id   town     area   latitude  longitude  region  \\\n",
       "5270  07-003-0021  Minsk  capital  53.882322  27.516888       7   \n",
       "5731  07-009-0017  Minsk  capital  53.929606  27.544952       7   \n",
       "\n",
       "      monitoredVotes  registered  photoVoices  officialVotes  ...  \\\n",
       "5270             NaN       975.0        669.0         2396.0  ...   \n",
       "5731             NaN       996.0        727.0         2304.0  ...   \n",
       "\n",
       "      kanopatskaja_officialVotes  kanopatskaja_photoVoices  \\\n",
       "5270                        19.0                       1.0   \n",
       "5731                        50.0                       0.0   \n",
       "\n",
       "      lukashenko_registered  lukashenko_officialVotes  lukashenko_photoVoices  \\\n",
       "5270                    0.0                     438.0                     0.0   \n",
       "5731                    3.0                     656.0                     1.0   \n",
       "\n",
       "      tihanovkaja_registered  tihanovkaja_officialVotes  \\\n",
       "5270                   951.0                     1725.0   \n",
       "5731                   971.0                     1407.0   \n",
       "\n",
       "      tihanovkaja_photoVoices  voters     votes  \n",
       "5270                    660.0  2400.0  1680.480  \n",
       "5731                    715.0  2310.0  1617.462  \n",
       "\n",
       "[2 rows x 37 columns]"
      ]
     },
     "execution_count": 751,
     "metadata": {},
     "output_type": "execute_result"
    }
   ],
   "source": [
    "data[diff < 0]"
   ]
  },
  {
   "cell_type": "code",
   "execution_count": 752,
   "metadata": {},
   "outputs": [],
   "source": [
    "df.loc[data[diff < 0].index, 'votes'] = sum(data[diff < 0][f'{c}_officialVotes'] for c in candidates) / 95 * 100"
   ]
  },
  {
   "cell_type": "code",
   "execution_count": 753,
   "metadata": {},
   "outputs": [
    {
     "data": {
      "text/plain": [
       "0.7864166999249712"
      ]
     },
     "execution_count": 753,
     "metadata": {},
     "output_type": "execute_result"
    }
   ],
   "source": [
    "df['votes'].sum() / df['voters'].sum()"
   ]
  },
  {
   "cell_type": "code",
   "execution_count": 754,
   "metadata": {},
   "outputs": [],
   "source": [
    "df['turnout'] = df['votes'] / df['voters']"
   ]
  },
  {
   "cell_type": "code",
   "execution_count": 755,
   "metadata": {},
   "outputs": [
    {
     "data": {
      "text/plain": [
       "0"
      ]
     },
     "execution_count": 755,
     "metadata": {},
     "output_type": "execute_result"
    }
   ],
   "source": [
    "sum(df['voters'] < df['officialVoters'])"
   ]
  },
  {
   "cell_type": "code",
   "execution_count": 756,
   "metadata": {},
   "outputs": [],
   "source": [
    "df.to_csv('total-votes.csv', float_format='%g', index=False)"
   ]
  },
  {
   "cell_type": "code",
   "execution_count": null,
   "metadata": {},
   "outputs": [],
   "source": []
  },
  {
   "cell_type": "code",
   "execution_count": null,
   "metadata": {},
   "outputs": [],
   "source": []
  },
  {
   "cell_type": "code",
   "execution_count": null,
   "metadata": {},
   "outputs": [],
   "source": []
  }
 ],
 "metadata": {
  "kernelspec": {
   "display_name": "Python 3",
   "language": "python",
   "name": "python3"
  },
  "language_info": {
   "codemirror_mode": {
    "name": "ipython",
    "version": 3
   },
   "file_extension": ".py",
   "mimetype": "text/x-python",
   "name": "python",
   "nbconvert_exporter": "python",
   "pygments_lexer": "ipython3",
   "version": "3.8.2"
  }
 },
 "nbformat": 4,
 "nbformat_minor": 4
}
