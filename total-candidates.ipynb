{
 "cells": [
  {
   "cell_type": "code",
   "execution_count": 170,
   "metadata": {},
   "outputs": [],
   "source": [
    "from decimal import Decimal\n",
    "\n",
    "import pandas as pd"
   ]
  },
  {
   "cell_type": "code",
   "execution_count": 171,
   "metadata": {},
   "outputs": [],
   "source": [
    "alt_candidates = ['against', 'cherechen', 'corrupted', 'dmitriyev', 'kanopatskaja']\n",
    "candidates = alt_candidates + ['tihanovkaja']\n",
    "candidates_with_luk = candidates + ['lukashenko']\n",
    "alt_candidates_no_corrupted = set(alt_candidates) - {'corrupted'}"
   ]
  },
  {
   "cell_type": "code",
   "execution_count": 172,
   "metadata": {},
   "outputs": [],
   "source": [
    "df = pd.read_csv('total-votes.csv', converters={'latitude': Decimal, 'longitude': Decimal})"
   ]
  },
  {
   "cell_type": "code",
   "execution_count": 173,
   "metadata": {},
   "outputs": [],
   "source": [
    "candidates_trusted = pd.read_csv('trusted-for-alternative-fixed.csv')\n",
    "outliers = pd.read_csv('outliers.csv')\n",
    "\n",
    "still_trusted_data = outliers[\n",
    "    [x['non_trust_reason'].startswith('Trusted.') for x in outliers.iloc]\n",
    "]['id']\n"
   ]
  },
  {
   "cell_type": "code",
   "execution_count": 174,
   "metadata": {},
   "outputs": [],
   "source": [
    "tih_coefficients = pd.read_csv('tihanovkaja_registered_coefficients.csv')\n",
    "protest_coefficients = pd.read_csv('protest_registered_coefficients.csv')\n",
    "alt_coefficients = pd.read_csv('alt_candidates_coefficients.csv')"
   ]
  },
  {
   "cell_type": "code",
   "execution_count": 175,
   "metadata": {},
   "outputs": [],
   "source": [
    "def get_key(area, region):\n",
    "    return f'{area}_{region}'"
   ]
  },
  {
   "cell_type": "code",
   "execution_count": 176,
   "metadata": {},
   "outputs": [],
   "source": [
    "tih_coeff = {\n",
    "    f\"{x['area']}_{x['region']}\": x['coefficient'] \n",
    "    for x in tih_coefficients.iloc\n",
    "}\n",
    "\n",
    "protest_coeff = {\n",
    "    f\"{x['area']}_{x['region']}\": x['coefficient'] \n",
    "    for x in protest_coefficients.iloc\n",
    "}\n",
    "\n",
    "alt_coeff = {\n",
    "    f\"{x['area']}_{x['candidate']}\": x['coefficient'] \n",
    "    for x in alt_coefficients.iloc\n",
    "}\n",
    "\n",
    "tih_coeff['minsk_suburb_7'] = tih_coeff['minsk_suburb_5']\n",
    "protest_coeff['minsk_suburb_7'] = protest_coeff['minsk_suburb_5']\n"
   ]
  },
  {
   "cell_type": "code",
   "execution_count": 177,
   "metadata": {},
   "outputs": [],
   "source": [
    "candidates_data = {\n",
    "    c: list()\n",
    "    for c in candidates\n",
    "}\n",
    "\n",
    "trusted_data_mask = df['id'].isin(candidates_trusted['id']) | df['id'].isin(still_trusted_data)"
   ]
  },
  {
   "cell_type": "code",
   "execution_count": 178,
   "metadata": {},
   "outputs": [],
   "source": [
    "df.loc[trusted_data_mask, candidates] = df[trusted_data_mask][[f'{c}_officialVotes' for c in candidates]].values"
   ]
  },
  {
   "cell_type": "code",
   "execution_count": 179,
   "metadata": {},
   "outputs": [],
   "source": [
    "def calculate_alt(candidate, protest, tihanovkaja):\n",
    "    if tihanovkaja >= protest:\n",
    "        return 0\n",
    "    \n",
    "    return (protest - tihanovkaja) * alt_coeff[f'{area}_{candidate}']"
   ]
  },
  {
   "cell_type": "code",
   "execution_count": 180,
   "metadata": {},
   "outputs": [],
   "source": [
    "for voice_row in df[~trusted_data_mask].iloc:\n",
    "    poll_station_id = voice_row['id']\n",
    "    area = voice_row['area']\n",
    "    region = voice_row['region']\n",
    "    key = get_key(area, region)\n",
    "    \n",
    "    tihanovkaja = voice_row['tihanovkaja_registered'] * tih_coeff[key]\n",
    "    protest = voice_row['registered'] * protest_coeff[key]\n",
    "    \n",
    "    candidates_data['tihanovkaja'].append(tihanovkaja)    \n",
    "    \n",
    "    for candidate in alt_candidates:\n",
    "        candidates_data[candidate].append(calculate_alt(candidate, protest, tihanovkaja))"
   ]
  },
  {
   "cell_type": "code",
   "execution_count": 181,
   "metadata": {},
   "outputs": [],
   "source": [
    "for candidate in candidates:\n",
    "    df.loc[~trusted_data_mask, candidate] = candidates_data[candidate] "
   ]
  },
  {
   "cell_type": "code",
   "execution_count": 182,
   "metadata": {},
   "outputs": [],
   "source": [
    "# Fix corrupted.\n",
    "\n",
    "fixed_corrupted = []\n",
    "missing_corrupted_mask = df['corrupted'].isna()\n",
    "\n",
    "\n",
    "for row in df[missing_corrupted_mask].iloc:\n",
    "    coeff = alt_coeff[f'{row[\"area\"]}_corrupted/corrupted+against']\n",
    "    fixed_corrupted.append(row['against'] * coeff)\n",
    "\n",
    "    \n",
    "    \n",
    "df.loc[missing_corrupted_mask, 'corrupted'] = fixed_corrupted\n",
    "df.loc[missing_corrupted_mask, 'against'] -= fixed_corrupted"
   ]
  },
  {
   "cell_type": "code",
   "execution_count": 183,
   "metadata": {},
   "outputs": [],
   "source": [
    "def fix_voters():\n",
    "    too_little_votes_mask = (sum(df[c] for c in candidates) / df['votes']) > 0.95\n",
    "    \n",
    "    print(too_little_votes_mask.sum())\n",
    "    \n",
    "    df.loc[too_little_votes_mask & (df['area'] == 'embassy'), 'turnout'] = 1\n",
    "#     df.loc[too_little_votes_mask & (df['region'] == 7), 'turnout'] = 0.8\n",
    "#     df.loc[too_little_votes_mask & df['region'].isin([7, 8]), 'votes'] = (\n",
    "#         df[too_little_votes_mask & df['region'].isin([7, 8])]['voters'] * \n",
    "#         df[too_little_votes_mask & df['region'].isin([7, 8])]['turnout']\n",
    "#     )\n",
    "    \n",
    "    too_little_votes_mask = (sum(df[c] for c in candidates) / df['votes']) > 0.955\n",
    "    \n",
    "    print(too_little_votes_mask.sum())\n",
    "    \n",
    "    new_votes = sum(\n",
    "        df[too_little_votes_mask][c] for c in candidates\n",
    "    ) / 95 * 100\n",
    "    new_voters = new_votes / df[too_little_votes_mask]['turnout']\n",
    "    \n",
    "    extra_voters = {}\n",
    "\n",
    "    for region in range(1, 9):\n",
    "        data = df[too_little_votes_mask & (df['region'] == region)]    \n",
    "        extra_voters[region] = (new_voters[data.index] - data['voters']).sum() \n",
    "        \n",
    "    print(extra_voters)\n",
    "        \n",
    "    estimated_voters = {}\n",
    "    no_data_mask = df['officialVoters'].isna() & ((sum(df[c] for c in candidates) / df['votes']) < 0.8)\n",
    "\n",
    "    for region in range(1, 9):\n",
    "        data = df[no_data_mask & (df['region'] == region)]    \n",
    "        estimated_voters[region] = data['voters'].sum()\n",
    "        \n",
    "    coeff = {\n",
    "        k: (\n",
    "            (estimated_voters[k] - extra_voters[k]) /\n",
    "            estimated_voters[k]\n",
    "        )\n",
    "        for k in extra_voters\n",
    "    }\n",
    "    \n",
    "    for region, c in coeff.items():\n",
    "        mask = no_data_mask & (df['region'] == region)\n",
    "        \n",
    "        df.loc[mask, 'voters'] = df[mask]['voters'] * c\n",
    "        df.loc[mask, 'votes'] = df[mask]['voters'] * df[mask]['turnout']\n",
    "        \n",
    "    df.loc[too_little_votes_mask, 'voters'] = new_voters\n",
    "    df.loc[too_little_votes_mask, 'votes'] = new_votes\n",
    "    \n",
    "        \n",
    "    print(coeff)\n",
    "        \n",
    "    "
   ]
  },
  {
   "cell_type": "code",
   "execution_count": 184,
   "metadata": {},
   "outputs": [
    {
     "name": "stdout",
     "output_type": "stream",
     "text": [
      "482\n",
      "475\n",
      "{1: 34465.92769415137, 2: 7399.657135725711, 3: 10467.67914955045, 4: 24218.518209313635, 5: 24911.12949301745, 6: 2571.0925925409283, 7: 109124.56503892448, 8: -74.54105263157919}\n",
      "{1: 0.9382182824145439, 2: 0.9876631757965273, 3: 0.9865264268893991, 4: 0.9323700430294322, 5: 0.9564280052729108, 6: 0.9955737267941214, 7: 0.5684311878674896, 8: 1.0056142147916411}\n"
     ]
    }
   ],
   "source": [
    "fix_voters()"
   ]
  },
  {
   "cell_type": "code",
   "execution_count": 185,
   "metadata": {},
   "outputs": [
    {
     "name": "stdout",
     "output_type": "stream",
     "text": [
      "309\n",
      "94\n",
      "{1: 0.0, 2: 0.0, 3: 0.0, 4: 0.0, 5: 0.0, 6: 0.0, 7: 22533.173492907285, 8: 0.0}\n",
      "{1: 1.0, 2: 1.0, 3: 1.0, 4: 1.0, 5: 1.0, 6: 1.0, 7: 0.44947064547589055, 8: 1.0}\n"
     ]
    }
   ],
   "source": [
    "fix_voters()"
   ]
  },
  {
   "cell_type": "code",
   "execution_count": 186,
   "metadata": {},
   "outputs": [
    {
     "name": "stdout",
     "output_type": "stream",
     "text": [
      "272\n",
      "13\n",
      "{1: 0.0, 2: 0.0, 3: 0.0, 4: 0.0, 5: 0.0, 6: 0.0, 7: 3073.4881986956307, 8: 0.0}\n",
      "{1: 1.0, 2: 1.0, 3: 1.0, 4: 1.0, 5: 1.0, 6: 1.0, 7: 0.7605385889236708, 8: 1.0}\n"
     ]
    }
   ],
   "source": [
    "fix_voters()"
   ]
  },
  {
   "cell_type": "code",
   "execution_count": 187,
   "metadata": {},
   "outputs": [
    {
     "name": "stdout",
     "output_type": "stream",
     "text": [
      "262\n",
      "0\n",
      "{1: 0.0, 2: 0.0, 3: 0.0, 4: 0.0, 5: 0.0, 6: 0.0, 7: 0.0, 8: 0.0}\n",
      "{1: 1.0, 2: 1.0, 3: 1.0, 4: 1.0, 5: 1.0, 6: 1.0, 7: 1.0, 8: 1.0}\n"
     ]
    }
   ],
   "source": [
    "fix_voters()"
   ]
  },
  {
   "cell_type": "code",
   "execution_count": 188,
   "metadata": {},
   "outputs": [
    {
     "data": {
      "text/plain": [
       "0"
      ]
     },
     "execution_count": 188,
     "metadata": {},
     "output_type": "execute_result"
    }
   ],
   "source": [
    "# Check data.\n",
    "\n",
    "((df['votes'] / df['turnout'] - df['voters']).abs() > 0.01).sum()"
   ]
  },
  {
   "cell_type": "code",
   "execution_count": 189,
   "metadata": {},
   "outputs": [
    {
     "data": {
      "text/plain": [
       "[0, 0, 0, 0, 0, 0]"
      ]
     },
     "execution_count": 189,
     "metadata": {},
     "output_type": "execute_result"
    }
   ],
   "source": [
    "[(df[c].isna()).sum() for c in candidates]"
   ]
  },
  {
   "cell_type": "code",
   "execution_count": 190,
   "metadata": {},
   "outputs": [
    {
     "name": "stdout",
     "output_type": "stream",
     "text": [
      "1\n",
      "984600.9079999999\n",
      "2\n",
      "849472.006\n",
      "3\n",
      "1069566.1600000001\n",
      "4\n",
      "751084.715\n",
      "5\n",
      "1142041.992\n",
      "6\n",
      "801824.8640000001\n",
      "7\n",
      "1241020.82\n",
      "8\n",
      "30747.199999999997\n"
     ]
    }
   ],
   "source": [
    "for region in range(1, 9):\n",
    "    print(region)\n",
    "    print(df[df['region'] == region].voters.sum())"
   ]
  },
  {
   "cell_type": "code",
   "execution_count": 191,
   "metadata": {},
   "outputs": [
    {
     "data": {
      "text/html": [
       "<div>\n",
       "<style scoped>\n",
       "    .dataframe tbody tr th:only-of-type {\n",
       "        vertical-align: middle;\n",
       "    }\n",
       "\n",
       "    .dataframe tbody tr th {\n",
       "        vertical-align: top;\n",
       "    }\n",
       "\n",
       "    .dataframe thead th {\n",
       "        text-align: right;\n",
       "    }\n",
       "</style>\n",
       "<table border=\"1\" class=\"dataframe\">\n",
       "  <thead>\n",
       "    <tr style=\"text-align: right;\">\n",
       "      <th></th>\n",
       "      <th>name</th>\n",
       "      <th>region</th>\n",
       "      <th>voters</th>\n",
       "    </tr>\n",
       "  </thead>\n",
       "  <tbody>\n",
       "    <tr>\n",
       "      <th>0</th>\n",
       "      <td>brest</td>\n",
       "      <td>1</td>\n",
       "      <td>984601</td>\n",
       "    </tr>\n",
       "    <tr>\n",
       "      <th>1</th>\n",
       "      <td>viciebsk</td>\n",
       "      <td>2</td>\n",
       "      <td>849472</td>\n",
       "    </tr>\n",
       "    <tr>\n",
       "      <th>2</th>\n",
       "      <td>homel</td>\n",
       "      <td>3</td>\n",
       "      <td>1069567</td>\n",
       "    </tr>\n",
       "    <tr>\n",
       "      <th>3</th>\n",
       "      <td>hrodna</td>\n",
       "      <td>4</td>\n",
       "      <td>751084</td>\n",
       "    </tr>\n",
       "    <tr>\n",
       "      <th>4</th>\n",
       "      <td>minsk-region</td>\n",
       "      <td>5</td>\n",
       "      <td>1142043</td>\n",
       "    </tr>\n",
       "    <tr>\n",
       "      <th>5</th>\n",
       "      <td>mahiliou</td>\n",
       "      <td>6</td>\n",
       "      <td>801825</td>\n",
       "    </tr>\n",
       "    <tr>\n",
       "      <th>6</th>\n",
       "      <td>minsk</td>\n",
       "      <td>7</td>\n",
       "      <td>1241021</td>\n",
       "    </tr>\n",
       "    <tr>\n",
       "      <th>7</th>\n",
       "      <td>embassy</td>\n",
       "      <td>8</td>\n",
       "      <td>5319</td>\n",
       "    </tr>\n",
       "  </tbody>\n",
       "</table>\n",
       "</div>"
      ],
      "text/plain": [
       "           name  region   voters\n",
       "0         brest       1   984601\n",
       "1      viciebsk       2   849472\n",
       "2         homel       3  1069567\n",
       "3        hrodna       4   751084\n",
       "4  minsk-region       5  1142043\n",
       "5      mahiliou       6   801825\n",
       "6         minsk       7  1241021\n",
       "7       embassy       8     5319"
      ]
     },
     "execution_count": 191,
     "metadata": {},
     "output_type": "execute_result"
    }
   ],
   "source": [
    "pd.read_csv('voters.csv')"
   ]
  },
  {
   "cell_type": "code",
   "execution_count": 192,
   "metadata": {},
   "outputs": [
    {
     "data": {
      "text/html": [
       "<div>\n",
       "<style scoped>\n",
       "    .dataframe tbody tr th:only-of-type {\n",
       "        vertical-align: middle;\n",
       "    }\n",
       "\n",
       "    .dataframe tbody tr th {\n",
       "        vertical-align: top;\n",
       "    }\n",
       "\n",
       "    .dataframe thead th {\n",
       "        text-align: right;\n",
       "    }\n",
       "</style>\n",
       "<table border=\"1\" class=\"dataframe\">\n",
       "  <thead>\n",
       "    <tr style=\"text-align: right;\">\n",
       "      <th></th>\n",
       "      <th>id</th>\n",
       "      <th>voters</th>\n",
       "      <th>town</th>\n",
       "    </tr>\n",
       "  </thead>\n",
       "  <tbody>\n",
       "    <tr>\n",
       "      <th>5221</th>\n",
       "      <td>07-002-0090</td>\n",
       "      <td>114.0</td>\n",
       "      <td>kz</td>\n",
       "    </tr>\n",
       "    <tr>\n",
       "      <th>5236</th>\n",
       "      <td>07-002-0105</td>\n",
       "      <td>60.0</td>\n",
       "      <td>rs</td>\n",
       "    </tr>\n",
       "    <tr>\n",
       "      <th>5244</th>\n",
       "      <td>07-002-0113</td>\n",
       "      <td>198.0</td>\n",
       "      <td>fi</td>\n",
       "    </tr>\n",
       "  </tbody>\n",
       "</table>\n",
       "</div>"
      ],
      "text/plain": [
       "               id  voters town\n",
       "5221  07-002-0090   114.0   kz\n",
       "5236  07-002-0105    60.0   rs\n",
       "5244  07-002-0113   198.0   fi"
      ]
     },
     "execution_count": 192,
     "metadata": {},
     "output_type": "execute_result"
    }
   ],
   "source": [
    "df[(df['area'] == 'embassy') & (df['voters'] < 200)][['id', 'voters', 'town']]"
   ]
  },
  {
   "cell_type": "code",
   "execution_count": 193,
   "metadata": {
    "scrolled": true
   },
   "outputs": [
    {
     "data": {
      "text/plain": [
       "0"
      ]
     },
     "execution_count": 193,
     "metadata": {},
     "output_type": "execute_result"
    }
   ],
   "source": [
    "sum((df['turnout'] > 1) | (df['turnout'] < 0))"
   ]
  },
  {
   "cell_type": "code",
   "execution_count": 194,
   "metadata": {},
   "outputs": [],
   "source": [
    "df['lukashenko'] = df['votes'] - sum(df[c] for c in candidates)"
   ]
  },
  {
   "cell_type": "code",
   "execution_count": 195,
   "metadata": {},
   "outputs": [
    {
     "data": {
      "text/plain": [
       "[0, 0, 0, 0, 0, 0]"
      ]
     },
     "execution_count": 195,
     "metadata": {},
     "output_type": "execute_result"
    }
   ],
   "source": [
    "[(df[c] < 0).sum() for c in candidates]"
   ]
  },
  {
   "cell_type": "code",
   "execution_count": 196,
   "metadata": {},
   "outputs": [
    {
     "data": {
      "text/plain": [
       "0.7861676757782586"
      ]
     },
     "execution_count": 196,
     "metadata": {},
     "output_type": "execute_result"
    }
   ],
   "source": [
    "df['votes'].sum() / df['voters'].sum()"
   ]
  },
  {
   "cell_type": "code",
   "execution_count": 197,
   "metadata": {},
   "outputs": [],
   "source": [
    "df.to_csv('total-candidates.csv', float_format='%g', index=False)"
   ]
  },
  {
   "cell_type": "code",
   "execution_count": null,
   "metadata": {},
   "outputs": [],
   "source": []
  },
  {
   "cell_type": "code",
   "execution_count": null,
   "metadata": {},
   "outputs": [],
   "source": []
  }
 ],
 "metadata": {
  "kernelspec": {
   "display_name": "Python 3",
   "language": "python",
   "name": "python3"
  },
  "language_info": {
   "codemirror_mode": {
    "name": "ipython",
    "version": 3
   },
   "file_extension": ".py",
   "mimetype": "text/x-python",
   "name": "python",
   "nbconvert_exporter": "python",
   "pygments_lexer": "ipython3",
   "version": "3.8.2"
  }
 },
 "nbformat": 4,
 "nbformat_minor": 4
}
